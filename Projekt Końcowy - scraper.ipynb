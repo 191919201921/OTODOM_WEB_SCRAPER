{
 "cells": [
  {
   "cell_type": "code",
   "execution_count": 2,
   "metadata": {},
   "outputs": [],
   "source": [
    "#importy\n",
    "import pandas as pd\n",
    "import requests\n",
    "from bs4 import BeautifulSoup as bs\n",
    "import re\n",
    "from scipy import stats\n",
    "import numpy as np"
   ]
  },
  {
   "cell_type": "markdown",
   "metadata": {},
   "source": [
    "# Tworzenie tabeli z zebranymi ogłoszeniami."
   ]
  },
  {
   "cell_type": "code",
   "execution_count": 27,
   "metadata": {},
   "outputs": [],
   "source": [
    "def poczatek():\n",
    "    url1 = input('Wprowadź link do strony z wynikami Twojego wyszukiwania. Przejdę przez wszystkie dostępne strony. ')\n",
    "    strona = requests.get(url1)\n",
    "    soup = bs(strona.text,'lxml')\n",
    "    \n",
    "    return soup, url1\n",
    "\n",
    "#soup, url = poczatek()"
   ]
  },
  {
   "cell_type": "code",
   "execution_count": 99,
   "metadata": {},
   "outputs": [
    {
     "name": "stdout",
     "output_type": "stream",
     "text": [
      "Wprowadź link do strony z wynikami Twojego wyszukiwania. Przejdę przez wszystkie dostępne strony. https://www.otodom.pl/wynajem/mieszkanie/?search%5Bfilter_float_m%3Ato%5D=50&search%5Bfilter_enum_rooms_num%5D%5B0%5D=2&search%5Bfilter_enum_rooms_num%5D%5B1%5D=3&search%5Bfilter_enum_rooms_num%5D%5B2%5D=1&locations%5B0%5D%5Bregion_id%5D=12&locations%5B0%5D%5Bsubregion_id%5D=294&locations%5B0%5D%5Bcity_id%5D=166&locations%5B1%5D%5Bregion_id%5D=12&locations%5B1%5D%5Bsubregion_id%5D=445&locations%5B1%5D%5Bcity_id%5D=178&locations%5B2%5D%5Bregion_id%5D=12&locations%5B2%5D%5Bsubregion_id%5D=306&locations%5B2%5D%5Bcity_id%5D=172\n"
     ]
    }
   ],
   "source": [
    "soup, url1 = poczatek()"
   ]
  },
  {
   "cell_type": "code",
   "execution_count": 104,
   "metadata": {},
   "outputs": [],
   "source": [
    "def zakres():    \n",
    "    p2 = soup.find('form', {\"id\":'pagerForm'})\n",
    "    p2 = p2.find_all('a',\"\")\n",
    "\n",
    "    strony = []\n",
    "\n",
    "    for a in p2:\n",
    "        strona = a.text\n",
    "        if strona != \"\":\n",
    "            strona = int(strona)\n",
    "            strony.append(strona)\n",
    "        else:\n",
    "            pass\n",
    "    strona_max = max(strony)\n",
    "    strona_min = min(strony)\n",
    "\n",
    "    return(strona_min, strona_max)\n",
    "\n",
    "#strona_min, strona_max = zakres()"
   ]
  },
  {
   "cell_type": "code",
   "execution_count": 105,
   "metadata": {},
   "outputs": [],
   "source": [
    "strona_min,strona_max = zakres()"
   ]
  },
  {
   "cell_type": "code",
   "execution_count": 106,
   "metadata": {},
   "outputs": [],
   "source": [
    "def limit_wyszukiwan(strona_max):\n",
    "\n",
    "    limit_wyszukiwania = 0\n",
    "    \n",
    "    if strona_max > 50:\n",
    "        limit_wyszukiwania =+ 50\n",
    "    else:\n",
    "        limit_wyszukiwania =+ strona_max\n",
    "    \n",
    "    return limit_wyszukiwania"
   ]
  },
  {
   "cell_type": "code",
   "execution_count": 107,
   "metadata": {},
   "outputs": [
    {
     "data": {
      "text/plain": [
       "36"
      ]
     },
     "execution_count": 107,
     "metadata": {},
     "output_type": "execute_result"
    }
   ],
   "source": [
    "limit_wyszukiwania = limit_wyszukiwan(strona_max)\n",
    "limit_wyszukiwania"
   ]
  },
  {
   "cell_type": "code",
   "execution_count": 108,
   "metadata": {},
   "outputs": [],
   "source": [
    "def parametry():\n",
    "    \n",
    "    #tworze główny data frame\n",
    "    df = pd.DataFrame(columns=['tytul','typ','miejsce','pokoje','pietro','pietra_budynku','rok_budowy',\n",
    "                               'powierzchnia','cena',\n",
    "                               'czynsz_osobny','kaucja','wynajmujacy','link'])\n",
    "    \n",
    "    #listy na wartości z ogłoszeń + tworzenie kolejnych iteracji linku\n",
    "    for i in range(strona_min,limit_wyszukiwania+1):\n",
    "        \n",
    "        l_tytul = []\n",
    "        l_typ = []\n",
    "        l_miejsce = []\n",
    "        l_pokoje = []\n",
    "        l_powierzchnia = []\n",
    "        l_cena = []\n",
    "        l_wynajmujacy = []\n",
    "        \n",
    "        \n",
    "        link_oferta = []\n",
    "        \n",
    "        l_czynsz_dod = []\n",
    "        l_kaucja =[]\n",
    "        l_pietro = []\n",
    "        l_pietra = []\n",
    "        l_rok_bud = []\n",
    "        \n",
    "        url = url1+ f'&page={i}'\n",
    "        strona = requests.get(url)\n",
    "        soup = bs(strona.text,'lxml')\n",
    "\n",
    "        oferty = soup.find_all('article')\n",
    "    \n",
    "        #pętla ściągania ofert z pojedynczej strony wyszukiwania\n",
    "        for oferta in oferty:\n",
    "\n",
    "            tytul = oferta.find('span', {\"class\":\"offer-item-title\"}).text\n",
    "            l_tytul.append(tytul)\n",
    "\n",
    "            typ = oferta.find('span', {\"class\": \"hidden-xs\"}).text.strip().rstrip(\":\")\n",
    "            l_typ.append(typ)\n",
    "\n",
    "            miejsce = oferta.find('p', {\"class\": \"text-nowrap\"}).text\n",
    "            miejsce = miejsce[miejsce.find(\":\",0,-1)+2:]\n",
    "            l_miejsce.append(miejsce)\n",
    "\n",
    "            pokoje = int(oferta.find('li', {'class': 'offer-item-rooms hidden-xs'}).text[0])\n",
    "            l_pokoje.append(pokoje)\n",
    "\n",
    "            powierzchnia = int(re.findall(r'\\d+',oferta.find('li', {\"class\": \"hidden-xs offer-item-area\"}).text)[0])\n",
    "            l_powierzchnia.append(powierzchnia)\n",
    "\n",
    "            cena = int(re.findall(r'\\d+',re.sub(r'\\s+','',oferta.find('li', {'class': \"offer-item-price\"}).text.strip()))[0])\n",
    "            l_cena.append(cena)\n",
    "\n",
    "            wynajmujacy = oferta.find('ul', {'class': \"params-small clearfix hidden-xs\"}).text.strip()\n",
    "            l_wynajmujacy.append(wynajmujacy)\n",
    "            \n",
    "            #url do oferty\n",
    "            url2 = oferta.find_all('a')[0].get('href')\n",
    "            link_oferta.append(url2)\n",
    "            \n",
    "            #pobieranie danych dodatkowych z strony konkretnego ogłoszenia.\n",
    "            strona2 = requests.get(url2)\n",
    "            soup2 = bs(strona2.text,'lxml')\n",
    "\n",
    "            try:\n",
    "                pietro = re.findall(r'\\d+',soup2.find_all('div', {'aria-label': 'Piętro'})[0].text)\n",
    "                l_pietro.append(pietro[0])\n",
    "            except:\n",
    "                l_pietro.append(0)\n",
    "\n",
    "            try:\n",
    "                czynsz_dod = re.findall(r'\\d+',soup2.find_all('div', {'aria-label': 'Czynsz - dodatkowo'})[0].text)\n",
    "                l_czynsz_dod.append(czynsz_dod[0])\n",
    "            except:\n",
    "                l_czynsz_dod.append(0)\n",
    "\n",
    "            try:\n",
    "                kaucja = re.findall(r'\\d+',soup2.find_all('div', {'aria-label': 'Kaucja'})[0].text.replace(\" \",\"\"))\n",
    "                l_kaucja.append(kaucja[0])    \n",
    "            except:\n",
    "                l_kaucja.append(0)\n",
    "\n",
    "            try:\n",
    "                rok_budowy = re.findall(r'\\d+',soup2.find_all('div', {'aria-label': 'Rok budowy'})[0].text)\n",
    "                l_rok_bud.append(rok_budowy[0])\n",
    "            except:\n",
    "                l_rok_bud.append(0)\n",
    "\n",
    "            try:\n",
    "                liczba_pieter = re.findall(r'\\d+',soup2.find_all('div', {'aria-label': 'Liczba pięter'})[0].text)\n",
    "                l_pietra.append(liczba_pieter[0])\n",
    "            except:\n",
    "                l_pietra.append(\"NaN\")\n",
    "\n",
    "            \n",
    "        #tworze data frame z jednej strony wyszukiwania\n",
    "        df1 = pd.DataFrame({'tytul':l_tytul, \n",
    "                            \"typ\":l_typ,\n",
    "                            \"miejsce\": l_miejsce,\n",
    "                            \"pokoje\": l_pokoje,\n",
    "                            \"pietro\": l_pietro,\n",
    "                            \"pietra_budynku\": l_pietra,\n",
    "                            \"rok_budowy\": l_rok_bud,\n",
    "                            \"powierzchnia\": l_powierzchnia,\n",
    "                            \"cena\": l_cena,\n",
    "                            \"czynsz_osobny\": l_czynsz_dod,\n",
    "                            \"kaucja\": l_kaucja,\n",
    "                            \"wynajmujacy\": l_wynajmujacy,\n",
    "                            \"link\": link_oferta}) \n",
    "\n",
    "        \n",
    "        #dodaję df z jednej strony wyszukiwania do df głównego\n",
    "        ramki = [df,df1]\n",
    "        df = pd.concat(ramki)\n",
    "    \n",
    "    \n",
    "    #dopasowuje automatycznie typy danych\n",
    "    df = df.convert_dtypes()\n",
    "    \n",
    "    #wyciągam miasto z tekstu\n",
    "    df['miasto'] = df['miejsce'].str.split(',').str[0]\n",
    "    \n",
    "    #dodaje typy danych kategoryczne + float\n",
    "    df['miasto'] = df['miasto'].astype('category')\n",
    "    df['typ'] = df['typ'].astype('category')\n",
    "    df['miejsce'] = df['miejsce'].astype('category')\n",
    "    df['wynajmujacy'] = df['wynajmujacy'].astype('category')\n",
    "    df['cena'] = df['cena'].astype('int')\n",
    "    df['czynsz_osobny']= df['czynsz_osobny'].astype('int')\n",
    "    df['kaucja'] = df['kaucja'].astype('int')\n",
    "    \n",
    "    #dodaję sumy dla opłat\n",
    "    df['suma_oplat'] = df[['cena','czynsz_osobny']].sum(axis = 1)\n",
    "    df['pierwsza_oplata'] = df[['cena','czynsz_osobny','kaucja']].sum(axis = 1)\n",
    "    \n",
    "    #zmiana kolejności kolumn\n",
    "    df = df[['tytul','typ','miasto','miejsce','pokoje','pietro','pietra_budynku','rok_budowy',\n",
    "             'powierzchnia','cena','czynsz_osobny','kaucja','suma_oplat','pierwsza_oplata',\n",
    "             'wynajmujacy','link']]\n",
    "    \n",
    "    #usuwanie duplikatów wierszy\n",
    "    df = df.drop_duplicates()\n",
    "    df = df.reset_index(drop = True)\n",
    "    \n",
    "    #usuwanie wartości bardzo odstających z ceny\n",
    "    df['z_score'] = np.abs(stats.zscore(df['cena'])<3)\n",
    "    df = df[df['z_score']==True]\n",
    "    \n",
    "    return df"
   ]
  },
  {
   "cell_type": "code",
   "execution_count": 109,
   "metadata": {},
   "outputs": [],
   "source": [
    "tabela = parametry()"
   ]
  },
  {
   "cell_type": "code",
   "execution_count": 110,
   "metadata": {},
   "outputs": [
    {
     "data": {
      "text/html": [
       "<div>\n",
       "<style scoped>\n",
       "    .dataframe tbody tr th:only-of-type {\n",
       "        vertical-align: middle;\n",
       "    }\n",
       "\n",
       "    .dataframe tbody tr th {\n",
       "        vertical-align: top;\n",
       "    }\n",
       "\n",
       "    .dataframe thead th {\n",
       "        text-align: right;\n",
       "    }\n",
       "</style>\n",
       "<table border=\"1\" class=\"dataframe\">\n",
       "  <thead>\n",
       "    <tr style=\"text-align: right;\">\n",
       "      <th></th>\n",
       "      <th>tytul</th>\n",
       "      <th>typ</th>\n",
       "      <th>miasto</th>\n",
       "      <th>miejsce</th>\n",
       "      <th>pokoje</th>\n",
       "      <th>pietro</th>\n",
       "      <th>pietra_budynku</th>\n",
       "      <th>rok_budowy</th>\n",
       "      <th>powierzchnia</th>\n",
       "      <th>cena</th>\n",
       "      <th>czynsz_osobny</th>\n",
       "      <th>kaucja</th>\n",
       "      <th>suma_oplat</th>\n",
       "      <th>pierwsza_oplata</th>\n",
       "      <th>wynajmujacy</th>\n",
       "      <th>link</th>\n",
       "      <th>z_score</th>\n",
       "    </tr>\n",
       "  </thead>\n",
       "  <tbody>\n",
       "    <tr>\n",
       "      <th>0</th>\n",
       "      <td>Nowy Brynów mieszkanie wynajem 43m do wykończenia</td>\n",
       "      <td>Mieszkanie na wynajem</td>\n",
       "      <td>Katowice</td>\n",
       "      <td>Katowice, Brynów-Zgrzebnioka, Brynów</td>\n",
       "      <td>2</td>\n",
       "      <td>1</td>\n",
       "      <td>7</td>\n",
       "      <td>2020</td>\n",
       "      <td>43</td>\n",
       "      <td>1000</td>\n",
       "      <td>430</td>\n",
       "      <td>3000</td>\n",
       "      <td>1430</td>\n",
       "      <td>4430</td>\n",
       "      <td>Oferta prywatna</td>\n",
       "      <td>https://www.otodom.pl/pl/oferta/nowy-brynow-mi...</td>\n",
       "      <td>True</td>\n",
       "    </tr>\n",
       "    <tr>\n",
       "      <th>1</th>\n",
       "      <td>Katowice Koszutka - wysoki standard</td>\n",
       "      <td>Mieszkanie na wynajem</td>\n",
       "      <td>Katowice</td>\n",
       "      <td>Katowice, Koszutka</td>\n",
       "      <td>2</td>\n",
       "      <td>1</td>\n",
       "      <td>NaN</td>\n",
       "      <td>0</td>\n",
       "      <td>35</td>\n",
       "      <td>1300</td>\n",
       "      <td>361</td>\n",
       "      <td>1800</td>\n",
       "      <td>1661</td>\n",
       "      <td>3461</td>\n",
       "      <td>Obsługa zdalna\\n\\n                            ...</td>\n",
       "      <td>https://www.otodom.pl/pl/oferta/katowice-koszu...</td>\n",
       "      <td>True</td>\n",
       "    </tr>\n",
       "    <tr>\n",
       "      <th>2</th>\n",
       "      <td>Nowy Brynów, urządzone nowe mieszkanie</td>\n",
       "      <td>Mieszkanie na wynajem</td>\n",
       "      <td>Katowice</td>\n",
       "      <td>Katowice, Brynów-Zgrzebnioka, Brynów</td>\n",
       "      <td>2</td>\n",
       "      <td>3</td>\n",
       "      <td>7</td>\n",
       "      <td>2020</td>\n",
       "      <td>43</td>\n",
       "      <td>1850</td>\n",
       "      <td>0</td>\n",
       "      <td>3800</td>\n",
       "      <td>1850</td>\n",
       "      <td>5650</td>\n",
       "      <td>Oferta prywatna</td>\n",
       "      <td>https://www.otodom.pl/pl/oferta/nowy-brynow-ur...</td>\n",
       "      <td>True</td>\n",
       "    </tr>\n",
       "    <tr>\n",
       "      <th>3</th>\n",
       "      <td>Nowoczesny apartament MAXX w centrum z parkingiem</td>\n",
       "      <td>Mieszkanie na wynajem</td>\n",
       "      <td>Bielsko-Biała</td>\n",
       "      <td>Bielsko-Biała, Centrum</td>\n",
       "      <td>1</td>\n",
       "      <td>3</td>\n",
       "      <td>4</td>\n",
       "      <td>2019</td>\n",
       "      <td>30</td>\n",
       "      <td>1650</td>\n",
       "      <td>250</td>\n",
       "      <td>3500</td>\n",
       "      <td>1900</td>\n",
       "      <td>5400</td>\n",
       "      <td>Oferta prywatna</td>\n",
       "      <td>https://www.otodom.pl/pl/oferta/nowoczesny-apa...</td>\n",
       "      <td>True</td>\n",
       "    </tr>\n",
       "    <tr>\n",
       "      <th>4</th>\n",
       "      <td>ul. Jagielońska, 2 pok. po remoncie, Bez prowizji</td>\n",
       "      <td>Mieszkanie na wynajem</td>\n",
       "      <td>Katowice</td>\n",
       "      <td>Katowice, Śródmieście</td>\n",
       "      <td>2</td>\n",
       "      <td>1</td>\n",
       "      <td>NaN</td>\n",
       "      <td>0</td>\n",
       "      <td>35</td>\n",
       "      <td>1100</td>\n",
       "      <td>0</td>\n",
       "      <td>0</td>\n",
       "      <td>1100</td>\n",
       "      <td>1100</td>\n",
       "      <td>Obsługa zdalna\\n\\n                            ...</td>\n",
       "      <td>https://www.otodom.pl/pl/oferta/ul-jagielonska...</td>\n",
       "      <td>True</td>\n",
       "    </tr>\n",
       "    <tr>\n",
       "      <th>...</th>\n",
       "      <td>...</td>\n",
       "      <td>...</td>\n",
       "      <td>...</td>\n",
       "      <td>...</td>\n",
       "      <td>...</td>\n",
       "      <td>...</td>\n",
       "      <td>...</td>\n",
       "      <td>...</td>\n",
       "      <td>...</td>\n",
       "      <td>...</td>\n",
       "      <td>...</td>\n",
       "      <td>...</td>\n",
       "      <td>...</td>\n",
       "      <td>...</td>\n",
       "      <td>...</td>\n",
       "      <td>...</td>\n",
       "      <td>...</td>\n",
       "    </tr>\n",
       "    <tr>\n",
       "      <th>957</th>\n",
       "      <td>Mieszkanie, 23,50 m², Tychy</td>\n",
       "      <td>Mieszkanie na wynajem</td>\n",
       "      <td>Tychy</td>\n",
       "      <td>Tychy, C</td>\n",
       "      <td>1</td>\n",
       "      <td>1</td>\n",
       "      <td>3</td>\n",
       "      <td>0</td>\n",
       "      <td>23</td>\n",
       "      <td>1200</td>\n",
       "      <td>0</td>\n",
       "      <td>0</td>\n",
       "      <td>1200</td>\n",
       "      <td>1200</td>\n",
       "      <td>\"MARKSON - NIERUCHOMOŚCI\" mgr Rafał Biegun</td>\n",
       "      <td>https://www.otodom.pl/pl/oferta/mieszkanie-23-...</td>\n",
       "      <td>True</td>\n",
       "    </tr>\n",
       "    <tr>\n",
       "      <th>958</th>\n",
       "      <td>Katowice Centrum ok. Opolska 2 pokoje 40 m2</td>\n",
       "      <td>Mieszkanie na wynajem</td>\n",
       "      <td>Katowice</td>\n",
       "      <td>Katowice, Śródmieście</td>\n",
       "      <td>2</td>\n",
       "      <td>0</td>\n",
       "      <td>3</td>\n",
       "      <td>0</td>\n",
       "      <td>40</td>\n",
       "      <td>1200</td>\n",
       "      <td>0</td>\n",
       "      <td>2400</td>\n",
       "      <td>1200</td>\n",
       "      <td>3600</td>\n",
       "      <td>TENERE Nieruchomości</td>\n",
       "      <td>https://www.otodom.pl/pl/oferta/katowice-centr...</td>\n",
       "      <td>True</td>\n",
       "    </tr>\n",
       "    <tr>\n",
       "      <th>959</th>\n",
       "      <td>Centrum ok. Opolska tanio kawalerka po remoncie</td>\n",
       "      <td>Mieszkanie na wynajem</td>\n",
       "      <td>Katowice</td>\n",
       "      <td>Katowice, Centrum</td>\n",
       "      <td>1</td>\n",
       "      <td>0</td>\n",
       "      <td>3</td>\n",
       "      <td>0</td>\n",
       "      <td>23</td>\n",
       "      <td>900</td>\n",
       "      <td>0</td>\n",
       "      <td>1500</td>\n",
       "      <td>900</td>\n",
       "      <td>2400</td>\n",
       "      <td>TENERE Nieruchomości</td>\n",
       "      <td>https://www.otodom.pl/pl/oferta/centrum-ok-opo...</td>\n",
       "      <td>True</td>\n",
       "    </tr>\n",
       "    <tr>\n",
       "      <th>960</th>\n",
       "      <td>Mieszkanie, 41 m², Katowice</td>\n",
       "      <td>Mieszkanie na wynajem</td>\n",
       "      <td>Katowice</td>\n",
       "      <td>Katowice, Śródmieście</td>\n",
       "      <td>2</td>\n",
       "      <td>0</td>\n",
       "      <td>4</td>\n",
       "      <td>1910</td>\n",
       "      <td>41</td>\n",
       "      <td>1200</td>\n",
       "      <td>0</td>\n",
       "      <td>2580</td>\n",
       "      <td>1200</td>\n",
       "      <td>3780</td>\n",
       "      <td>TENERE Nieruchomości</td>\n",
       "      <td>https://www.otodom.pl/pl/oferta/mieszkanie-41-...</td>\n",
       "      <td>True</td>\n",
       "    </tr>\n",
       "    <tr>\n",
       "      <th>961</th>\n",
       "      <td>Ekskluzywna kawalerka w ścisłym centrum</td>\n",
       "      <td>Mieszkanie na wynajem</td>\n",
       "      <td>Katowice</td>\n",
       "      <td>Katowice, Koszutka</td>\n",
       "      <td>1</td>\n",
       "      <td>1</td>\n",
       "      <td>6</td>\n",
       "      <td>0</td>\n",
       "      <td>37</td>\n",
       "      <td>1400</td>\n",
       "      <td>0</td>\n",
       "      <td>1400</td>\n",
       "      <td>1400</td>\n",
       "      <td>2800</td>\n",
       "      <td>Meritum Nieruchomości</td>\n",
       "      <td>https://www.otodom.pl/pl/oferta/ekskluzywna-ka...</td>\n",
       "      <td>True</td>\n",
       "    </tr>\n",
       "  </tbody>\n",
       "</table>\n",
       "<p>961 rows × 17 columns</p>\n",
       "</div>"
      ],
      "text/plain": [
       "                                                 tytul                    typ  \\\n",
       "0    Nowy Brynów mieszkanie wynajem 43m do wykończenia  Mieszkanie na wynajem   \n",
       "1                  Katowice Koszutka - wysoki standard  Mieszkanie na wynajem   \n",
       "2               Nowy Brynów, urządzone nowe mieszkanie  Mieszkanie na wynajem   \n",
       "3    Nowoczesny apartament MAXX w centrum z parkingiem  Mieszkanie na wynajem   \n",
       "4    ul. Jagielońska, 2 pok. po remoncie, Bez prowizji  Mieszkanie na wynajem   \n",
       "..                                                 ...                    ...   \n",
       "957                        Mieszkanie, 23,50 m², Tychy  Mieszkanie na wynajem   \n",
       "958        Katowice Centrum ok. Opolska 2 pokoje 40 m2  Mieszkanie na wynajem   \n",
       "959    Centrum ok. Opolska tanio kawalerka po remoncie  Mieszkanie na wynajem   \n",
       "960                        Mieszkanie, 41 m², Katowice  Mieszkanie na wynajem   \n",
       "961            Ekskluzywna kawalerka w ścisłym centrum  Mieszkanie na wynajem   \n",
       "\n",
       "            miasto                               miejsce  pokoje pietro  \\\n",
       "0         Katowice  Katowice, Brynów-Zgrzebnioka, Brynów       2      1   \n",
       "1         Katowice                    Katowice, Koszutka       2      1   \n",
       "2         Katowice  Katowice, Brynów-Zgrzebnioka, Brynów       2      3   \n",
       "3    Bielsko-Biała                Bielsko-Biała, Centrum       1      3   \n",
       "4         Katowice                 Katowice, Śródmieście       2      1   \n",
       "..             ...                                   ...     ...    ...   \n",
       "957          Tychy                              Tychy, C       1      1   \n",
       "958       Katowice                 Katowice, Śródmieście       2      0   \n",
       "959       Katowice                     Katowice, Centrum       1      0   \n",
       "960       Katowice                 Katowice, Śródmieście       2      0   \n",
       "961       Katowice                    Katowice, Koszutka       1      1   \n",
       "\n",
       "    pietra_budynku rok_budowy  powierzchnia  cena  czynsz_osobny  kaucja  \\\n",
       "0                7       2020            43  1000            430    3000   \n",
       "1              NaN          0            35  1300            361    1800   \n",
       "2                7       2020            43  1850              0    3800   \n",
       "3                4       2019            30  1650            250    3500   \n",
       "4              NaN          0            35  1100              0       0   \n",
       "..             ...        ...           ...   ...            ...     ...   \n",
       "957              3          0            23  1200              0       0   \n",
       "958              3          0            40  1200              0    2400   \n",
       "959              3          0            23   900              0    1500   \n",
       "960              4       1910            41  1200              0    2580   \n",
       "961              6          0            37  1400              0    1400   \n",
       "\n",
       "     suma_oplat  pierwsza_oplata  \\\n",
       "0          1430             4430   \n",
       "1          1661             3461   \n",
       "2          1850             5650   \n",
       "3          1900             5400   \n",
       "4          1100             1100   \n",
       "..          ...              ...   \n",
       "957        1200             1200   \n",
       "958        1200             3600   \n",
       "959         900             2400   \n",
       "960        1200             3780   \n",
       "961        1400             2800   \n",
       "\n",
       "                                           wynajmujacy  \\\n",
       "0                                      Oferta prywatna   \n",
       "1    Obsługa zdalna\\n\\n                            ...   \n",
       "2                                      Oferta prywatna   \n",
       "3                                      Oferta prywatna   \n",
       "4    Obsługa zdalna\\n\\n                            ...   \n",
       "..                                                 ...   \n",
       "957         \"MARKSON - NIERUCHOMOŚCI\" mgr Rafał Biegun   \n",
       "958                               TENERE Nieruchomości   \n",
       "959                               TENERE Nieruchomości   \n",
       "960                               TENERE Nieruchomości   \n",
       "961                              Meritum Nieruchomości   \n",
       "\n",
       "                                                  link  z_score  \n",
       "0    https://www.otodom.pl/pl/oferta/nowy-brynow-mi...     True  \n",
       "1    https://www.otodom.pl/pl/oferta/katowice-koszu...     True  \n",
       "2    https://www.otodom.pl/pl/oferta/nowy-brynow-ur...     True  \n",
       "3    https://www.otodom.pl/pl/oferta/nowoczesny-apa...     True  \n",
       "4    https://www.otodom.pl/pl/oferta/ul-jagielonska...     True  \n",
       "..                                                 ...      ...  \n",
       "957  https://www.otodom.pl/pl/oferta/mieszkanie-23-...     True  \n",
       "958  https://www.otodom.pl/pl/oferta/katowice-centr...     True  \n",
       "959  https://www.otodom.pl/pl/oferta/centrum-ok-opo...     True  \n",
       "960  https://www.otodom.pl/pl/oferta/mieszkanie-41-...     True  \n",
       "961  https://www.otodom.pl/pl/oferta/ekskluzywna-ka...     True  \n",
       "\n",
       "[961 rows x 17 columns]"
      ]
     },
     "execution_count": 110,
     "metadata": {},
     "output_type": "execute_result"
    }
   ],
   "source": [
    "tabela"
   ]
  },
  {
   "cell_type": "code",
   "execution_count": 69,
   "metadata": {},
   "outputs": [
    {
     "data": {
      "text/plain": [
       "tytul               string\n",
       "typ               category\n",
       "miasto            category\n",
       "miejsce           category\n",
       "pokoje               Int64\n",
       "pietro              object\n",
       "pietra_budynku      string\n",
       "rok_budowy          object\n",
       "powierzchnia         Int64\n",
       "cena                 int32\n",
       "czynsz_osobny        int32\n",
       "kaucja               int32\n",
       "wynajmujacy       category\n",
       "link                string\n",
       "z_score               bool\n",
       "dtype: object"
      ]
     },
     "execution_count": 69,
     "metadata": {},
     "output_type": "execute_result"
    }
   ],
   "source": [
    "tabela.dtypes"
   ]
  },
  {
   "cell_type": "markdown",
   "metadata": {},
   "source": [
    "# Analiza i tabele"
   ]
  },
  {
   "cell_type": "code",
   "execution_count": 111,
   "metadata": {},
   "outputs": [],
   "source": [
    "#importy bibliotek\n",
    "import plotly.express as px\n"
   ]
  },
  {
   "cell_type": "code",
   "execution_count": 114,
   "metadata": {},
   "outputs": [],
   "source": [
    "#podsumowanie zebranych ofert\n",
    "\n",
    "def podsumowanie_ofert():\n",
    "    \n",
    "    #podsu = tabela.groupby(['miasto','pokoje']).count().reset_index()\n",
    "    \n",
    "    podsu = tabela.groupby(['miasto','pokoje']).agg({'cena':['mean', 'max', 'min'],\n",
    "                         'suma_oplat':['mean','max','min'],\n",
    "                         'powierzchnia':'mean', \n",
    "                         'tytul':'count'})\n",
    "    \n",
    "    print(\"Podsumowanie ofert z Twojego wyszukiwania OTODOM: \")\n",
    "    \n",
    "    return podsu"
   ]
  },
  {
   "cell_type": "code",
   "execution_count": 115,
   "metadata": {},
   "outputs": [
    {
     "name": "stdout",
     "output_type": "stream",
     "text": [
      "Podsumowanie ofert z Twojego wyszukiwania OTODOM: \n"
     ]
    },
    {
     "data": {
      "text/html": [
       "<div>\n",
       "<style scoped>\n",
       "    .dataframe tbody tr th:only-of-type {\n",
       "        vertical-align: middle;\n",
       "    }\n",
       "\n",
       "    .dataframe tbody tr th {\n",
       "        vertical-align: top;\n",
       "    }\n",
       "\n",
       "    .dataframe thead tr th {\n",
       "        text-align: left;\n",
       "    }\n",
       "\n",
       "    .dataframe thead tr:last-of-type th {\n",
       "        text-align: right;\n",
       "    }\n",
       "</style>\n",
       "<table border=\"1\" class=\"dataframe\">\n",
       "  <thead>\n",
       "    <tr>\n",
       "      <th></th>\n",
       "      <th></th>\n",
       "      <th colspan=\"3\" halign=\"left\">cena</th>\n",
       "      <th colspan=\"3\" halign=\"left\">suma_oplat</th>\n",
       "      <th>powierzchnia</th>\n",
       "      <th>tytul</th>\n",
       "    </tr>\n",
       "    <tr>\n",
       "      <th></th>\n",
       "      <th></th>\n",
       "      <th>mean</th>\n",
       "      <th>max</th>\n",
       "      <th>min</th>\n",
       "      <th>mean</th>\n",
       "      <th>max</th>\n",
       "      <th>min</th>\n",
       "      <th>mean</th>\n",
       "      <th>count</th>\n",
       "    </tr>\n",
       "    <tr>\n",
       "      <th>miasto</th>\n",
       "      <th>pokoje</th>\n",
       "      <th></th>\n",
       "      <th></th>\n",
       "      <th></th>\n",
       "      <th></th>\n",
       "      <th></th>\n",
       "      <th></th>\n",
       "      <th></th>\n",
       "      <th></th>\n",
       "    </tr>\n",
       "  </thead>\n",
       "  <tbody>\n",
       "    <tr>\n",
       "      <th rowspan=\"3\" valign=\"top\">Bielsko-Biała</th>\n",
       "      <th>1</th>\n",
       "      <td>1257.238095</td>\n",
       "      <td>1800</td>\n",
       "      <td>700</td>\n",
       "      <td>1410.404762</td>\n",
       "      <td>1900</td>\n",
       "      <td>700</td>\n",
       "      <td>30.142857</td>\n",
       "      <td>42</td>\n",
       "    </tr>\n",
       "    <tr>\n",
       "      <th>2</th>\n",
       "      <td>1606.616667</td>\n",
       "      <td>2490</td>\n",
       "      <td>1000</td>\n",
       "      <td>1836.733333</td>\n",
       "      <td>2790</td>\n",
       "      <td>1100</td>\n",
       "      <td>42.166667</td>\n",
       "      <td>60</td>\n",
       "    </tr>\n",
       "    <tr>\n",
       "      <th>3</th>\n",
       "      <td>1584.285714</td>\n",
       "      <td>2600</td>\n",
       "      <td>1000</td>\n",
       "      <td>1748.571429</td>\n",
       "      <td>2600</td>\n",
       "      <td>1300</td>\n",
       "      <td>46.285714</td>\n",
       "      <td>7</td>\n",
       "    </tr>\n",
       "    <tr>\n",
       "      <th rowspan=\"3\" valign=\"top\">Katowice</th>\n",
       "      <th>1</th>\n",
       "      <td>1141.625000</td>\n",
       "      <td>2300</td>\n",
       "      <td>271</td>\n",
       "      <td>1205.656250</td>\n",
       "      <td>2450</td>\n",
       "      <td>271</td>\n",
       "      <td>26.628125</td>\n",
       "      <td>320</td>\n",
       "    </tr>\n",
       "    <tr>\n",
       "      <th>2</th>\n",
       "      <td>1662.524123</td>\n",
       "      <td>3000</td>\n",
       "      <td>650</td>\n",
       "      <td>1805.813596</td>\n",
       "      <td>3170</td>\n",
       "      <td>800</td>\n",
       "      <td>41.396930</td>\n",
       "      <td>456</td>\n",
       "    </tr>\n",
       "    <tr>\n",
       "      <th>3</th>\n",
       "      <td>1873.714286</td>\n",
       "      <td>2500</td>\n",
       "      <td>1200</td>\n",
       "      <td>1945.000000</td>\n",
       "      <td>2600</td>\n",
       "      <td>1400</td>\n",
       "      <td>48.095238</td>\n",
       "      <td>21</td>\n",
       "    </tr>\n",
       "    <tr>\n",
       "      <th rowspan=\"3\" valign=\"top\">Tychy</th>\n",
       "      <th>1</th>\n",
       "      <td>1313.181818</td>\n",
       "      <td>1590</td>\n",
       "      <td>800</td>\n",
       "      <td>1324.090909</td>\n",
       "      <td>1590</td>\n",
       "      <td>800</td>\n",
       "      <td>32.272727</td>\n",
       "      <td>11</td>\n",
       "    </tr>\n",
       "    <tr>\n",
       "      <th>2</th>\n",
       "      <td>1683.255814</td>\n",
       "      <td>3000</td>\n",
       "      <td>1200</td>\n",
       "      <td>1824.023256</td>\n",
       "      <td>3000</td>\n",
       "      <td>1450</td>\n",
       "      <td>40.697674</td>\n",
       "      <td>43</td>\n",
       "    </tr>\n",
       "    <tr>\n",
       "      <th>3</th>\n",
       "      <td>500.000000</td>\n",
       "      <td>500</td>\n",
       "      <td>500</td>\n",
       "      <td>500.000000</td>\n",
       "      <td>500</td>\n",
       "      <td>500</td>\n",
       "      <td>42.000000</td>\n",
       "      <td>1</td>\n",
       "    </tr>\n",
       "  </tbody>\n",
       "</table>\n",
       "</div>"
      ],
      "text/plain": [
       "                             cena               suma_oplat              \\\n",
       "                             mean   max   min         mean   max   min   \n",
       "miasto        pokoje                                                     \n",
       "Bielsko-Biała 1       1257.238095  1800   700  1410.404762  1900   700   \n",
       "              2       1606.616667  2490  1000  1836.733333  2790  1100   \n",
       "              3       1584.285714  2600  1000  1748.571429  2600  1300   \n",
       "Katowice      1       1141.625000  2300   271  1205.656250  2450   271   \n",
       "              2       1662.524123  3000   650  1805.813596  3170   800   \n",
       "              3       1873.714286  2500  1200  1945.000000  2600  1400   \n",
       "Tychy         1       1313.181818  1590   800  1324.090909  1590   800   \n",
       "              2       1683.255814  3000  1200  1824.023256  3000  1450   \n",
       "              3        500.000000   500   500   500.000000   500   500   \n",
       "\n",
       "                     powierzchnia tytul  \n",
       "                             mean count  \n",
       "miasto        pokoje                     \n",
       "Bielsko-Biała 1         30.142857    42  \n",
       "              2         42.166667    60  \n",
       "              3         46.285714     7  \n",
       "Katowice      1         26.628125   320  \n",
       "              2         41.396930   456  \n",
       "              3         48.095238    21  \n",
       "Tychy         1         32.272727    11  \n",
       "              2         40.697674    43  \n",
       "              3         42.000000     1  "
      ]
     },
     "execution_count": 115,
     "metadata": {},
     "output_type": "execute_result"
    }
   ],
   "source": [
    "podsumowanie = podsumowanie_ofert()\n",
    "podsumowanie"
   ]
  },
  {
   "cell_type": "markdown",
   "metadata": {},
   "source": [
    "## Wykresy"
   ]
  },
  {
   "cell_type": "code",
   "execution_count": 116,
   "metadata": {},
   "outputs": [
    {
     "data": {
      "application/vnd.plotly.v1+json": {
       "config": {
        "plotlyServerURL": "https://plot.ly"
       },
       "data": [
        {
         "domain": {
          "x": [
           0,
           1
          ],
          "y": [
           0,
           1
          ]
         },
         "hovertemplate": "miasto=%{label}<br>liczba_ofert=%{value}<extra></extra>",
         "labels": [
          "Bielsko-Biała",
          "Katowice",
          "Tychy"
         ],
         "legendgroup": "",
         "name": "",
         "showlegend": true,
         "type": "pie",
         "values": [
          109,
          797,
          55
         ]
        }
       ],
       "layout": {
        "legend": {
         "tracegroupgap": 0
        },
        "template": {
         "data": {
          "bar": [
           {
            "error_x": {
             "color": "#2a3f5f"
            },
            "error_y": {
             "color": "#2a3f5f"
            },
            "marker": {
             "line": {
              "color": "#E5ECF6",
              "width": 0.5
             }
            },
            "type": "bar"
           }
          ],
          "barpolar": [
           {
            "marker": {
             "line": {
              "color": "#E5ECF6",
              "width": 0.5
             }
            },
            "type": "barpolar"
           }
          ],
          "carpet": [
           {
            "aaxis": {
             "endlinecolor": "#2a3f5f",
             "gridcolor": "white",
             "linecolor": "white",
             "minorgridcolor": "white",
             "startlinecolor": "#2a3f5f"
            },
            "baxis": {
             "endlinecolor": "#2a3f5f",
             "gridcolor": "white",
             "linecolor": "white",
             "minorgridcolor": "white",
             "startlinecolor": "#2a3f5f"
            },
            "type": "carpet"
           }
          ],
          "choropleth": [
           {
            "colorbar": {
             "outlinewidth": 0,
             "ticks": ""
            },
            "type": "choropleth"
           }
          ],
          "contour": [
           {
            "colorbar": {
             "outlinewidth": 0,
             "ticks": ""
            },
            "colorscale": [
             [
              0,
              "#0d0887"
             ],
             [
              0.1111111111111111,
              "#46039f"
             ],
             [
              0.2222222222222222,
              "#7201a8"
             ],
             [
              0.3333333333333333,
              "#9c179e"
             ],
             [
              0.4444444444444444,
              "#bd3786"
             ],
             [
              0.5555555555555556,
              "#d8576b"
             ],
             [
              0.6666666666666666,
              "#ed7953"
             ],
             [
              0.7777777777777778,
              "#fb9f3a"
             ],
             [
              0.8888888888888888,
              "#fdca26"
             ],
             [
              1,
              "#f0f921"
             ]
            ],
            "type": "contour"
           }
          ],
          "contourcarpet": [
           {
            "colorbar": {
             "outlinewidth": 0,
             "ticks": ""
            },
            "type": "contourcarpet"
           }
          ],
          "heatmap": [
           {
            "colorbar": {
             "outlinewidth": 0,
             "ticks": ""
            },
            "colorscale": [
             [
              0,
              "#0d0887"
             ],
             [
              0.1111111111111111,
              "#46039f"
             ],
             [
              0.2222222222222222,
              "#7201a8"
             ],
             [
              0.3333333333333333,
              "#9c179e"
             ],
             [
              0.4444444444444444,
              "#bd3786"
             ],
             [
              0.5555555555555556,
              "#d8576b"
             ],
             [
              0.6666666666666666,
              "#ed7953"
             ],
             [
              0.7777777777777778,
              "#fb9f3a"
             ],
             [
              0.8888888888888888,
              "#fdca26"
             ],
             [
              1,
              "#f0f921"
             ]
            ],
            "type": "heatmap"
           }
          ],
          "heatmapgl": [
           {
            "colorbar": {
             "outlinewidth": 0,
             "ticks": ""
            },
            "colorscale": [
             [
              0,
              "#0d0887"
             ],
             [
              0.1111111111111111,
              "#46039f"
             ],
             [
              0.2222222222222222,
              "#7201a8"
             ],
             [
              0.3333333333333333,
              "#9c179e"
             ],
             [
              0.4444444444444444,
              "#bd3786"
             ],
             [
              0.5555555555555556,
              "#d8576b"
             ],
             [
              0.6666666666666666,
              "#ed7953"
             ],
             [
              0.7777777777777778,
              "#fb9f3a"
             ],
             [
              0.8888888888888888,
              "#fdca26"
             ],
             [
              1,
              "#f0f921"
             ]
            ],
            "type": "heatmapgl"
           }
          ],
          "histogram": [
           {
            "marker": {
             "colorbar": {
              "outlinewidth": 0,
              "ticks": ""
             }
            },
            "type": "histogram"
           }
          ],
          "histogram2d": [
           {
            "colorbar": {
             "outlinewidth": 0,
             "ticks": ""
            },
            "colorscale": [
             [
              0,
              "#0d0887"
             ],
             [
              0.1111111111111111,
              "#46039f"
             ],
             [
              0.2222222222222222,
              "#7201a8"
             ],
             [
              0.3333333333333333,
              "#9c179e"
             ],
             [
              0.4444444444444444,
              "#bd3786"
             ],
             [
              0.5555555555555556,
              "#d8576b"
             ],
             [
              0.6666666666666666,
              "#ed7953"
             ],
             [
              0.7777777777777778,
              "#fb9f3a"
             ],
             [
              0.8888888888888888,
              "#fdca26"
             ],
             [
              1,
              "#f0f921"
             ]
            ],
            "type": "histogram2d"
           }
          ],
          "histogram2dcontour": [
           {
            "colorbar": {
             "outlinewidth": 0,
             "ticks": ""
            },
            "colorscale": [
             [
              0,
              "#0d0887"
             ],
             [
              0.1111111111111111,
              "#46039f"
             ],
             [
              0.2222222222222222,
              "#7201a8"
             ],
             [
              0.3333333333333333,
              "#9c179e"
             ],
             [
              0.4444444444444444,
              "#bd3786"
             ],
             [
              0.5555555555555556,
              "#d8576b"
             ],
             [
              0.6666666666666666,
              "#ed7953"
             ],
             [
              0.7777777777777778,
              "#fb9f3a"
             ],
             [
              0.8888888888888888,
              "#fdca26"
             ],
             [
              1,
              "#f0f921"
             ]
            ],
            "type": "histogram2dcontour"
           }
          ],
          "mesh3d": [
           {
            "colorbar": {
             "outlinewidth": 0,
             "ticks": ""
            },
            "type": "mesh3d"
           }
          ],
          "parcoords": [
           {
            "line": {
             "colorbar": {
              "outlinewidth": 0,
              "ticks": ""
             }
            },
            "type": "parcoords"
           }
          ],
          "pie": [
           {
            "automargin": true,
            "type": "pie"
           }
          ],
          "scatter": [
           {
            "marker": {
             "colorbar": {
              "outlinewidth": 0,
              "ticks": ""
             }
            },
            "type": "scatter"
           }
          ],
          "scatter3d": [
           {
            "line": {
             "colorbar": {
              "outlinewidth": 0,
              "ticks": ""
             }
            },
            "marker": {
             "colorbar": {
              "outlinewidth": 0,
              "ticks": ""
             }
            },
            "type": "scatter3d"
           }
          ],
          "scattercarpet": [
           {
            "marker": {
             "colorbar": {
              "outlinewidth": 0,
              "ticks": ""
             }
            },
            "type": "scattercarpet"
           }
          ],
          "scattergeo": [
           {
            "marker": {
             "colorbar": {
              "outlinewidth": 0,
              "ticks": ""
             }
            },
            "type": "scattergeo"
           }
          ],
          "scattergl": [
           {
            "marker": {
             "colorbar": {
              "outlinewidth": 0,
              "ticks": ""
             }
            },
            "type": "scattergl"
           }
          ],
          "scattermapbox": [
           {
            "marker": {
             "colorbar": {
              "outlinewidth": 0,
              "ticks": ""
             }
            },
            "type": "scattermapbox"
           }
          ],
          "scatterpolar": [
           {
            "marker": {
             "colorbar": {
              "outlinewidth": 0,
              "ticks": ""
             }
            },
            "type": "scatterpolar"
           }
          ],
          "scatterpolargl": [
           {
            "marker": {
             "colorbar": {
              "outlinewidth": 0,
              "ticks": ""
             }
            },
            "type": "scatterpolargl"
           }
          ],
          "scatterternary": [
           {
            "marker": {
             "colorbar": {
              "outlinewidth": 0,
              "ticks": ""
             }
            },
            "type": "scatterternary"
           }
          ],
          "surface": [
           {
            "colorbar": {
             "outlinewidth": 0,
             "ticks": ""
            },
            "colorscale": [
             [
              0,
              "#0d0887"
             ],
             [
              0.1111111111111111,
              "#46039f"
             ],
             [
              0.2222222222222222,
              "#7201a8"
             ],
             [
              0.3333333333333333,
              "#9c179e"
             ],
             [
              0.4444444444444444,
              "#bd3786"
             ],
             [
              0.5555555555555556,
              "#d8576b"
             ],
             [
              0.6666666666666666,
              "#ed7953"
             ],
             [
              0.7777777777777778,
              "#fb9f3a"
             ],
             [
              0.8888888888888888,
              "#fdca26"
             ],
             [
              1,
              "#f0f921"
             ]
            ],
            "type": "surface"
           }
          ],
          "table": [
           {
            "cells": {
             "fill": {
              "color": "#EBF0F8"
             },
             "line": {
              "color": "white"
             }
            },
            "header": {
             "fill": {
              "color": "#C8D4E3"
             },
             "line": {
              "color": "white"
             }
            },
            "type": "table"
           }
          ]
         },
         "layout": {
          "annotationdefaults": {
           "arrowcolor": "#2a3f5f",
           "arrowhead": 0,
           "arrowwidth": 1
          },
          "autotypenumbers": "strict",
          "coloraxis": {
           "colorbar": {
            "outlinewidth": 0,
            "ticks": ""
           }
          },
          "colorscale": {
           "diverging": [
            [
             0,
             "#8e0152"
            ],
            [
             0.1,
             "#c51b7d"
            ],
            [
             0.2,
             "#de77ae"
            ],
            [
             0.3,
             "#f1b6da"
            ],
            [
             0.4,
             "#fde0ef"
            ],
            [
             0.5,
             "#f7f7f7"
            ],
            [
             0.6,
             "#e6f5d0"
            ],
            [
             0.7,
             "#b8e186"
            ],
            [
             0.8,
             "#7fbc41"
            ],
            [
             0.9,
             "#4d9221"
            ],
            [
             1,
             "#276419"
            ]
           ],
           "sequential": [
            [
             0,
             "#0d0887"
            ],
            [
             0.1111111111111111,
             "#46039f"
            ],
            [
             0.2222222222222222,
             "#7201a8"
            ],
            [
             0.3333333333333333,
             "#9c179e"
            ],
            [
             0.4444444444444444,
             "#bd3786"
            ],
            [
             0.5555555555555556,
             "#d8576b"
            ],
            [
             0.6666666666666666,
             "#ed7953"
            ],
            [
             0.7777777777777778,
             "#fb9f3a"
            ],
            [
             0.8888888888888888,
             "#fdca26"
            ],
            [
             1,
             "#f0f921"
            ]
           ],
           "sequentialminus": [
            [
             0,
             "#0d0887"
            ],
            [
             0.1111111111111111,
             "#46039f"
            ],
            [
             0.2222222222222222,
             "#7201a8"
            ],
            [
             0.3333333333333333,
             "#9c179e"
            ],
            [
             0.4444444444444444,
             "#bd3786"
            ],
            [
             0.5555555555555556,
             "#d8576b"
            ],
            [
             0.6666666666666666,
             "#ed7953"
            ],
            [
             0.7777777777777778,
             "#fb9f3a"
            ],
            [
             0.8888888888888888,
             "#fdca26"
            ],
            [
             1,
             "#f0f921"
            ]
           ]
          },
          "colorway": [
           "#636efa",
           "#EF553B",
           "#00cc96",
           "#ab63fa",
           "#FFA15A",
           "#19d3f3",
           "#FF6692",
           "#B6E880",
           "#FF97FF",
           "#FECB52"
          ],
          "font": {
           "color": "#2a3f5f"
          },
          "geo": {
           "bgcolor": "white",
           "lakecolor": "white",
           "landcolor": "#E5ECF6",
           "showlakes": true,
           "showland": true,
           "subunitcolor": "white"
          },
          "hoverlabel": {
           "align": "left"
          },
          "hovermode": "closest",
          "mapbox": {
           "style": "light"
          },
          "paper_bgcolor": "white",
          "plot_bgcolor": "#E5ECF6",
          "polar": {
           "angularaxis": {
            "gridcolor": "white",
            "linecolor": "white",
            "ticks": ""
           },
           "bgcolor": "#E5ECF6",
           "radialaxis": {
            "gridcolor": "white",
            "linecolor": "white",
            "ticks": ""
           }
          },
          "scene": {
           "xaxis": {
            "backgroundcolor": "#E5ECF6",
            "gridcolor": "white",
            "gridwidth": 2,
            "linecolor": "white",
            "showbackground": true,
            "ticks": "",
            "zerolinecolor": "white"
           },
           "yaxis": {
            "backgroundcolor": "#E5ECF6",
            "gridcolor": "white",
            "gridwidth": 2,
            "linecolor": "white",
            "showbackground": true,
            "ticks": "",
            "zerolinecolor": "white"
           },
           "zaxis": {
            "backgroundcolor": "#E5ECF6",
            "gridcolor": "white",
            "gridwidth": 2,
            "linecolor": "white",
            "showbackground": true,
            "ticks": "",
            "zerolinecolor": "white"
           }
          },
          "shapedefaults": {
           "line": {
            "color": "#2a3f5f"
           }
          },
          "ternary": {
           "aaxis": {
            "gridcolor": "white",
            "linecolor": "white",
            "ticks": ""
           },
           "baxis": {
            "gridcolor": "white",
            "linecolor": "white",
            "ticks": ""
           },
           "bgcolor": "#E5ECF6",
           "caxis": {
            "gridcolor": "white",
            "linecolor": "white",
            "ticks": ""
           }
          },
          "title": {
           "x": 0.05
          },
          "xaxis": {
           "automargin": true,
           "gridcolor": "white",
           "linecolor": "white",
           "ticks": "",
           "title": {
            "standoff": 15
           },
           "zerolinecolor": "white",
           "zerolinewidth": 2
          },
          "yaxis": {
           "automargin": true,
           "gridcolor": "white",
           "linecolor": "white",
           "ticks": "",
           "title": {
            "standoff": 15
           },
           "zerolinecolor": "white",
           "zerolinewidth": 2
          }
         }
        },
        "title": {
         "text": "Liczba ofert w danym mieście."
        }
       }
      },
      "text/html": [
       "<div>                            <div id=\"d09bd48a-b6e9-49c2-959a-eaa300afd0db\" class=\"plotly-graph-div\" style=\"height:525px; width:100%;\"></div>            <script type=\"text/javascript\">                require([\"plotly\"], function(Plotly) {                    window.PLOTLYENV=window.PLOTLYENV || {};                                    if (document.getElementById(\"d09bd48a-b6e9-49c2-959a-eaa300afd0db\")) {                    Plotly.newPlot(                        \"d09bd48a-b6e9-49c2-959a-eaa300afd0db\",                        [{\"domain\": {\"x\": [0.0, 1.0], \"y\": [0.0, 1.0]}, \"hovertemplate\": \"miasto=%{label}<br>liczba_ofert=%{value}<extra></extra>\", \"labels\": [\"Bielsko-Bia\\u0142a\", \"Katowice\", \"Tychy\"], \"legendgroup\": \"\", \"name\": \"\", \"showlegend\": true, \"type\": \"pie\", \"values\": [109, 797, 55]}],                        {\"legend\": {\"tracegroupgap\": 0}, \"template\": {\"data\": {\"bar\": [{\"error_x\": {\"color\": \"#2a3f5f\"}, \"error_y\": {\"color\": \"#2a3f5f\"}, \"marker\": {\"line\": {\"color\": \"#E5ECF6\", \"width\": 0.5}}, \"type\": \"bar\"}], \"barpolar\": [{\"marker\": {\"line\": {\"color\": \"#E5ECF6\", \"width\": 0.5}}, \"type\": \"barpolar\"}], \"carpet\": [{\"aaxis\": {\"endlinecolor\": \"#2a3f5f\", \"gridcolor\": \"white\", \"linecolor\": \"white\", \"minorgridcolor\": \"white\", \"startlinecolor\": \"#2a3f5f\"}, \"baxis\": {\"endlinecolor\": \"#2a3f5f\", \"gridcolor\": \"white\", \"linecolor\": \"white\", \"minorgridcolor\": \"white\", \"startlinecolor\": \"#2a3f5f\"}, \"type\": \"carpet\"}], \"choropleth\": [{\"colorbar\": {\"outlinewidth\": 0, \"ticks\": \"\"}, \"type\": \"choropleth\"}], \"contour\": [{\"colorbar\": {\"outlinewidth\": 0, \"ticks\": \"\"}, \"colorscale\": [[0.0, \"#0d0887\"], [0.1111111111111111, \"#46039f\"], [0.2222222222222222, \"#7201a8\"], [0.3333333333333333, \"#9c179e\"], [0.4444444444444444, \"#bd3786\"], [0.5555555555555556, \"#d8576b\"], [0.6666666666666666, \"#ed7953\"], [0.7777777777777778, \"#fb9f3a\"], [0.8888888888888888, \"#fdca26\"], [1.0, \"#f0f921\"]], \"type\": \"contour\"}], \"contourcarpet\": [{\"colorbar\": {\"outlinewidth\": 0, \"ticks\": \"\"}, \"type\": \"contourcarpet\"}], \"heatmap\": [{\"colorbar\": {\"outlinewidth\": 0, \"ticks\": \"\"}, \"colorscale\": [[0.0, \"#0d0887\"], [0.1111111111111111, \"#46039f\"], [0.2222222222222222, \"#7201a8\"], [0.3333333333333333, \"#9c179e\"], [0.4444444444444444, \"#bd3786\"], [0.5555555555555556, \"#d8576b\"], [0.6666666666666666, \"#ed7953\"], [0.7777777777777778, \"#fb9f3a\"], [0.8888888888888888, \"#fdca26\"], [1.0, \"#f0f921\"]], \"type\": \"heatmap\"}], \"heatmapgl\": [{\"colorbar\": {\"outlinewidth\": 0, \"ticks\": \"\"}, \"colorscale\": [[0.0, \"#0d0887\"], [0.1111111111111111, \"#46039f\"], [0.2222222222222222, \"#7201a8\"], [0.3333333333333333, \"#9c179e\"], [0.4444444444444444, \"#bd3786\"], [0.5555555555555556, \"#d8576b\"], [0.6666666666666666, \"#ed7953\"], [0.7777777777777778, \"#fb9f3a\"], [0.8888888888888888, \"#fdca26\"], [1.0, \"#f0f921\"]], \"type\": \"heatmapgl\"}], \"histogram\": [{\"marker\": {\"colorbar\": {\"outlinewidth\": 0, \"ticks\": \"\"}}, \"type\": \"histogram\"}], \"histogram2d\": [{\"colorbar\": {\"outlinewidth\": 0, \"ticks\": \"\"}, \"colorscale\": [[0.0, \"#0d0887\"], [0.1111111111111111, \"#46039f\"], [0.2222222222222222, \"#7201a8\"], [0.3333333333333333, \"#9c179e\"], [0.4444444444444444, \"#bd3786\"], [0.5555555555555556, \"#d8576b\"], [0.6666666666666666, \"#ed7953\"], [0.7777777777777778, \"#fb9f3a\"], [0.8888888888888888, \"#fdca26\"], [1.0, \"#f0f921\"]], \"type\": \"histogram2d\"}], \"histogram2dcontour\": [{\"colorbar\": {\"outlinewidth\": 0, \"ticks\": \"\"}, \"colorscale\": [[0.0, \"#0d0887\"], [0.1111111111111111, \"#46039f\"], [0.2222222222222222, \"#7201a8\"], [0.3333333333333333, \"#9c179e\"], [0.4444444444444444, \"#bd3786\"], [0.5555555555555556, \"#d8576b\"], [0.6666666666666666, \"#ed7953\"], [0.7777777777777778, \"#fb9f3a\"], [0.8888888888888888, \"#fdca26\"], [1.0, \"#f0f921\"]], \"type\": \"histogram2dcontour\"}], \"mesh3d\": [{\"colorbar\": {\"outlinewidth\": 0, \"ticks\": \"\"}, \"type\": \"mesh3d\"}], \"parcoords\": [{\"line\": {\"colorbar\": {\"outlinewidth\": 0, \"ticks\": \"\"}}, \"type\": \"parcoords\"}], \"pie\": [{\"automargin\": true, \"type\": \"pie\"}], \"scatter\": [{\"marker\": {\"colorbar\": {\"outlinewidth\": 0, \"ticks\": \"\"}}, \"type\": \"scatter\"}], \"scatter3d\": [{\"line\": {\"colorbar\": {\"outlinewidth\": 0, \"ticks\": \"\"}}, \"marker\": {\"colorbar\": {\"outlinewidth\": 0, \"ticks\": \"\"}}, \"type\": \"scatter3d\"}], \"scattercarpet\": [{\"marker\": {\"colorbar\": {\"outlinewidth\": 0, \"ticks\": \"\"}}, \"type\": \"scattercarpet\"}], \"scattergeo\": [{\"marker\": {\"colorbar\": {\"outlinewidth\": 0, \"ticks\": \"\"}}, \"type\": \"scattergeo\"}], \"scattergl\": [{\"marker\": {\"colorbar\": {\"outlinewidth\": 0, \"ticks\": \"\"}}, \"type\": \"scattergl\"}], \"scattermapbox\": [{\"marker\": {\"colorbar\": {\"outlinewidth\": 0, \"ticks\": \"\"}}, \"type\": \"scattermapbox\"}], \"scatterpolar\": [{\"marker\": {\"colorbar\": {\"outlinewidth\": 0, \"ticks\": \"\"}}, \"type\": \"scatterpolar\"}], \"scatterpolargl\": [{\"marker\": {\"colorbar\": {\"outlinewidth\": 0, \"ticks\": \"\"}}, \"type\": \"scatterpolargl\"}], \"scatterternary\": [{\"marker\": {\"colorbar\": {\"outlinewidth\": 0, \"ticks\": \"\"}}, \"type\": \"scatterternary\"}], \"surface\": [{\"colorbar\": {\"outlinewidth\": 0, \"ticks\": \"\"}, \"colorscale\": [[0.0, \"#0d0887\"], [0.1111111111111111, \"#46039f\"], [0.2222222222222222, \"#7201a8\"], [0.3333333333333333, \"#9c179e\"], [0.4444444444444444, \"#bd3786\"], [0.5555555555555556, \"#d8576b\"], [0.6666666666666666, \"#ed7953\"], [0.7777777777777778, \"#fb9f3a\"], [0.8888888888888888, \"#fdca26\"], [1.0, \"#f0f921\"]], \"type\": \"surface\"}], \"table\": [{\"cells\": {\"fill\": {\"color\": \"#EBF0F8\"}, \"line\": {\"color\": \"white\"}}, \"header\": {\"fill\": {\"color\": \"#C8D4E3\"}, \"line\": {\"color\": \"white\"}}, \"type\": \"table\"}]}, \"layout\": {\"annotationdefaults\": {\"arrowcolor\": \"#2a3f5f\", \"arrowhead\": 0, \"arrowwidth\": 1}, \"autotypenumbers\": \"strict\", \"coloraxis\": {\"colorbar\": {\"outlinewidth\": 0, \"ticks\": \"\"}}, \"colorscale\": {\"diverging\": [[0, \"#8e0152\"], [0.1, \"#c51b7d\"], [0.2, \"#de77ae\"], [0.3, \"#f1b6da\"], [0.4, \"#fde0ef\"], [0.5, \"#f7f7f7\"], [0.6, \"#e6f5d0\"], [0.7, \"#b8e186\"], [0.8, \"#7fbc41\"], [0.9, \"#4d9221\"], [1, \"#276419\"]], \"sequential\": [[0.0, \"#0d0887\"], [0.1111111111111111, \"#46039f\"], [0.2222222222222222, \"#7201a8\"], [0.3333333333333333, \"#9c179e\"], [0.4444444444444444, \"#bd3786\"], [0.5555555555555556, \"#d8576b\"], [0.6666666666666666, \"#ed7953\"], [0.7777777777777778, \"#fb9f3a\"], [0.8888888888888888, \"#fdca26\"], [1.0, \"#f0f921\"]], \"sequentialminus\": [[0.0, \"#0d0887\"], [0.1111111111111111, \"#46039f\"], [0.2222222222222222, \"#7201a8\"], [0.3333333333333333, \"#9c179e\"], [0.4444444444444444, \"#bd3786\"], [0.5555555555555556, \"#d8576b\"], [0.6666666666666666, \"#ed7953\"], [0.7777777777777778, \"#fb9f3a\"], [0.8888888888888888, \"#fdca26\"], [1.0, \"#f0f921\"]]}, \"colorway\": [\"#636efa\", \"#EF553B\", \"#00cc96\", \"#ab63fa\", \"#FFA15A\", \"#19d3f3\", \"#FF6692\", \"#B6E880\", \"#FF97FF\", \"#FECB52\"], \"font\": {\"color\": \"#2a3f5f\"}, \"geo\": {\"bgcolor\": \"white\", \"lakecolor\": \"white\", \"landcolor\": \"#E5ECF6\", \"showlakes\": true, \"showland\": true, \"subunitcolor\": \"white\"}, \"hoverlabel\": {\"align\": \"left\"}, \"hovermode\": \"closest\", \"mapbox\": {\"style\": \"light\"}, \"paper_bgcolor\": \"white\", \"plot_bgcolor\": \"#E5ECF6\", \"polar\": {\"angularaxis\": {\"gridcolor\": \"white\", \"linecolor\": \"white\", \"ticks\": \"\"}, \"bgcolor\": \"#E5ECF6\", \"radialaxis\": {\"gridcolor\": \"white\", \"linecolor\": \"white\", \"ticks\": \"\"}}, \"scene\": {\"xaxis\": {\"backgroundcolor\": \"#E5ECF6\", \"gridcolor\": \"white\", \"gridwidth\": 2, \"linecolor\": \"white\", \"showbackground\": true, \"ticks\": \"\", \"zerolinecolor\": \"white\"}, \"yaxis\": {\"backgroundcolor\": \"#E5ECF6\", \"gridcolor\": \"white\", \"gridwidth\": 2, \"linecolor\": \"white\", \"showbackground\": true, \"ticks\": \"\", \"zerolinecolor\": \"white\"}, \"zaxis\": {\"backgroundcolor\": \"#E5ECF6\", \"gridcolor\": \"white\", \"gridwidth\": 2, \"linecolor\": \"white\", \"showbackground\": true, \"ticks\": \"\", \"zerolinecolor\": \"white\"}}, \"shapedefaults\": {\"line\": {\"color\": \"#2a3f5f\"}}, \"ternary\": {\"aaxis\": {\"gridcolor\": \"white\", \"linecolor\": \"white\", \"ticks\": \"\"}, \"baxis\": {\"gridcolor\": \"white\", \"linecolor\": \"white\", \"ticks\": \"\"}, \"bgcolor\": \"#E5ECF6\", \"caxis\": {\"gridcolor\": \"white\", \"linecolor\": \"white\", \"ticks\": \"\"}}, \"title\": {\"x\": 0.05}, \"xaxis\": {\"automargin\": true, \"gridcolor\": \"white\", \"linecolor\": \"white\", \"ticks\": \"\", \"title\": {\"standoff\": 15}, \"zerolinecolor\": \"white\", \"zerolinewidth\": 2}, \"yaxis\": {\"automargin\": true, \"gridcolor\": \"white\", \"linecolor\": \"white\", \"ticks\": \"\", \"title\": {\"standoff\": 15}, \"zerolinecolor\": \"white\", \"zerolinewidth\": 2}}}, \"title\": {\"text\": \"Liczba ofert w danym mie\\u015bcie.\"}},                        {\"responsive\": true}                    ).then(function(){\n",
       "                            \n",
       "var gd = document.getElementById('d09bd48a-b6e9-49c2-959a-eaa300afd0db');\n",
       "var x = new MutationObserver(function (mutations, observer) {{\n",
       "        var display = window.getComputedStyle(gd).display;\n",
       "        if (!display || display === 'none') {{\n",
       "            console.log([gd, 'removed!']);\n",
       "            Plotly.purge(gd);\n",
       "            observer.disconnect();\n",
       "        }}\n",
       "}});\n",
       "\n",
       "// Listen for the removal of the full notebook cells\n",
       "var notebookContainer = gd.closest('#notebook-container');\n",
       "if (notebookContainer) {{\n",
       "    x.observe(notebookContainer, {childList: true});\n",
       "}}\n",
       "\n",
       "// Listen for the clearing of the current output cell\n",
       "var outputEl = gd.closest('.output');\n",
       "if (outputEl) {{\n",
       "    x.observe(outputEl, {childList: true});\n",
       "}}\n",
       "\n",
       "                        })                };                });            </script>        </div>"
      ]
     },
     "metadata": {},
     "output_type": "display_data"
    }
   ],
   "source": [
    "oferty_miasto = tabela.groupby('miasto').count()\n",
    "oferty_miasto['liczba_ofert'] = oferty_miasto['tytul']\n",
    "oferty_miasto = oferty_miasto.reset_index()[['miasto','tytul']]\n",
    "oferty_miasto.columns = ['miasto','liczba_ofert']\n",
    "oferty_miasto\n",
    "\n",
    "of_miasto_wykres = px.pie(oferty_miasto,\n",
    "                         values = 'liczba_ofert',\n",
    "                         names = 'miasto',\n",
    "                         title = \"Liczba ofert w danym mieście.\"\n",
    "                         )\n",
    "\n",
    "of_miasto_wykres"
   ]
  },
  {
   "cell_type": "code",
   "execution_count": 117,
   "metadata": {},
   "outputs": [
    {
     "data": {
      "application/vnd.plotly.v1+json": {
       "config": {
        "plotlyServerURL": "https://plot.ly"
       },
       "data": [
        {
         "alignmentgroup": "True",
         "hovertemplate": "miasto=%{x}<br>powierzchnia=%{y}<extra></extra>",
         "legendgroup": "",
         "marker": {
          "color": "#636efa"
         },
         "name": "",
         "offsetgroup": "",
         "orientation": "v",
         "showlegend": false,
         "textposition": "auto",
         "type": "bar",
         "x": [
          "Katowice",
          "Katowice",
          "Katowice",
          "Bielsko-Biała",
          "Katowice",
          "Katowice",
          "Katowice",
          "Katowice",
          "Bielsko-Biała",
          "Katowice",
          "Katowice",
          "Bielsko-Biała",
          "Katowice",
          "Katowice",
          "Katowice",
          "Katowice",
          "Katowice",
          "Katowice",
          "Tychy",
          "Katowice",
          "Katowice",
          "Katowice",
          "Katowice",
          "Bielsko-Biała",
          "Katowice",
          "Tychy",
          "Katowice",
          "Tychy",
          "Katowice",
          "Katowice",
          "Katowice",
          "Bielsko-Biała",
          "Katowice",
          "Katowice",
          "Katowice",
          "Katowice",
          "Katowice",
          "Katowice",
          "Katowice",
          "Bielsko-Biała",
          "Katowice",
          "Tychy",
          "Katowice",
          "Tychy",
          "Katowice",
          "Katowice",
          "Bielsko-Biała",
          "Bielsko-Biała",
          "Bielsko-Biała",
          "Katowice",
          "Katowice",
          "Katowice",
          "Katowice",
          "Tychy",
          "Katowice",
          "Katowice",
          "Bielsko-Biała",
          "Katowice",
          "Tychy",
          "Katowice",
          "Bielsko-Biała",
          "Katowice",
          "Katowice",
          "Bielsko-Biała",
          "Katowice",
          "Bielsko-Biała",
          "Katowice",
          "Bielsko-Biała",
          "Katowice",
          "Tychy",
          "Katowice",
          "Katowice",
          "Katowice",
          "Katowice",
          "Katowice",
          "Katowice",
          "Katowice",
          "Katowice",
          "Katowice",
          "Katowice",
          "Katowice",
          "Katowice",
          "Katowice",
          "Bielsko-Biała",
          "Katowice",
          "Katowice",
          "Katowice",
          "Katowice",
          "Katowice",
          "Katowice",
          "Bielsko-Biała",
          "Katowice",
          "Katowice",
          "Katowice",
          "Katowice",
          "Katowice",
          "Katowice",
          "Bielsko-Biała",
          "Bielsko-Biała",
          "Bielsko-Biała",
          "Katowice",
          "Katowice",
          "Tychy",
          "Katowice",
          "Katowice",
          "Katowice",
          "Bielsko-Biała",
          "Katowice",
          "Katowice",
          "Bielsko-Biała",
          "Katowice",
          "Katowice",
          "Bielsko-Biała",
          "Bielsko-Biała",
          "Katowice",
          "Katowice",
          "Katowice",
          "Katowice",
          "Bielsko-Biała",
          "Katowice",
          "Katowice",
          "Tychy",
          "Katowice",
          "Katowice",
          "Katowice",
          "Katowice",
          "Katowice",
          "Katowice",
          "Katowice",
          "Bielsko-Biała",
          "Katowice",
          "Bielsko-Biała",
          "Tychy",
          "Katowice",
          "Katowice",
          "Katowice",
          "Katowice",
          "Katowice",
          "Katowice",
          "Tychy",
          "Bielsko-Biała",
          "Katowice",
          "Bielsko-Biała",
          "Katowice",
          "Katowice",
          "Katowice",
          "Katowice",
          "Katowice",
          "Katowice",
          "Katowice",
          "Katowice",
          "Katowice",
          "Katowice",
          "Katowice",
          "Katowice",
          "Bielsko-Biała",
          "Katowice",
          "Katowice",
          "Katowice",
          "Katowice",
          "Katowice",
          "Katowice",
          "Katowice",
          "Katowice",
          "Katowice",
          "Katowice",
          "Bielsko-Biała",
          "Katowice",
          "Bielsko-Biała",
          "Katowice",
          "Katowice",
          "Tychy",
          "Katowice",
          "Katowice",
          "Katowice",
          "Katowice",
          "Katowice",
          "Katowice",
          "Katowice",
          "Tychy",
          "Bielsko-Biała",
          "Katowice",
          "Bielsko-Biała",
          "Katowice",
          "Katowice",
          "Katowice",
          "Bielsko-Biała",
          "Katowice",
          "Katowice",
          "Bielsko-Biała",
          "Katowice",
          "Bielsko-Biała",
          "Katowice",
          "Bielsko-Biała",
          "Katowice",
          "Bielsko-Biała",
          "Katowice",
          "Katowice",
          "Katowice",
          "Katowice",
          "Tychy",
          "Bielsko-Biała",
          "Katowice",
          "Katowice",
          "Katowice",
          "Katowice",
          "Katowice",
          "Katowice",
          "Katowice",
          "Katowice",
          "Bielsko-Biała",
          "Katowice",
          "Katowice",
          "Bielsko-Biała",
          "Bielsko-Biała",
          "Katowice",
          "Katowice",
          "Katowice",
          "Katowice",
          "Katowice",
          "Katowice",
          "Katowice",
          "Katowice",
          "Katowice",
          "Katowice",
          "Katowice",
          "Katowice",
          "Katowice",
          "Katowice",
          "Katowice",
          "Katowice",
          "Katowice",
          "Katowice",
          "Katowice",
          "Katowice",
          "Bielsko-Biała",
          "Katowice",
          "Tychy",
          "Katowice",
          "Katowice",
          "Katowice",
          "Katowice",
          "Katowice",
          "Katowice",
          "Tychy",
          "Katowice",
          "Katowice",
          "Katowice",
          "Katowice",
          "Katowice",
          "Katowice",
          "Katowice",
          "Katowice",
          "Katowice",
          "Katowice",
          "Bielsko-Biała",
          "Katowice",
          "Katowice",
          "Katowice",
          "Bielsko-Biała",
          "Bielsko-Biała",
          "Katowice",
          "Katowice",
          "Katowice",
          "Katowice",
          "Katowice",
          "Katowice",
          "Katowice",
          "Katowice",
          "Tychy",
          "Katowice",
          "Katowice",
          "Bielsko-Biała",
          "Katowice",
          "Katowice",
          "Katowice",
          "Bielsko-Biała",
          "Katowice",
          "Katowice",
          "Katowice",
          "Katowice",
          "Katowice",
          "Katowice",
          "Katowice",
          "Katowice",
          "Tychy",
          "Katowice",
          "Katowice",
          "Katowice",
          "Katowice",
          "Tychy",
          "Katowice",
          "Katowice",
          "Katowice",
          "Katowice",
          "Katowice",
          "Tychy",
          "Katowice",
          "Katowice",
          "Katowice",
          "Katowice",
          "Katowice",
          "Bielsko-Biała",
          "Katowice",
          "Bielsko-Biała",
          "Bielsko-Biała",
          "Bielsko-Biała",
          "Bielsko-Biała",
          "Katowice",
          "Katowice",
          "Katowice",
          "Katowice",
          "Katowice",
          "Katowice",
          "Katowice",
          "Katowice",
          "Katowice",
          "Katowice",
          "Katowice",
          "Katowice",
          "Katowice",
          "Katowice",
          "Katowice",
          "Katowice",
          "Katowice",
          "Katowice",
          "Katowice",
          "Katowice",
          "Katowice",
          "Katowice",
          "Katowice",
          "Katowice",
          "Tychy",
          "Katowice",
          "Katowice",
          "Katowice",
          "Katowice",
          "Katowice",
          "Katowice",
          "Katowice",
          "Tychy",
          "Katowice",
          "Katowice",
          "Tychy",
          "Katowice",
          "Katowice",
          "Katowice",
          "Katowice",
          "Katowice",
          "Katowice",
          "Katowice",
          "Katowice",
          "Katowice",
          "Katowice",
          "Katowice",
          "Bielsko-Biała",
          "Tychy",
          "Katowice",
          "Katowice",
          "Katowice",
          "Katowice",
          "Katowice",
          "Tychy",
          "Katowice",
          "Katowice",
          "Katowice",
          "Bielsko-Biała",
          "Katowice",
          "Katowice",
          "Katowice",
          "Bielsko-Biała",
          "Katowice",
          "Katowice",
          "Katowice",
          "Katowice",
          "Katowice",
          "Tychy",
          "Tychy",
          "Katowice",
          "Katowice",
          "Katowice",
          "Katowice",
          "Katowice",
          "Katowice",
          "Katowice",
          "Katowice",
          "Katowice",
          "Katowice",
          "Bielsko-Biała",
          "Katowice",
          "Katowice",
          "Katowice",
          "Katowice",
          "Katowice",
          "Katowice",
          "Katowice",
          "Katowice",
          "Katowice",
          "Katowice",
          "Katowice",
          "Katowice",
          "Katowice",
          "Katowice",
          "Katowice",
          "Katowice",
          "Katowice",
          "Katowice",
          "Tychy",
          "Katowice",
          "Katowice",
          "Katowice",
          "Katowice",
          "Bielsko-Biała",
          "Katowice",
          "Katowice",
          "Katowice",
          "Katowice",
          "Katowice",
          "Katowice",
          "Katowice",
          "Bielsko-Biała",
          "Katowice",
          "Katowice",
          "Katowice",
          "Tychy",
          "Katowice",
          "Katowice",
          "Katowice",
          "Katowice",
          "Katowice",
          "Katowice",
          "Katowice",
          "Katowice",
          "Bielsko-Biała",
          "Bielsko-Biała",
          "Bielsko-Biała",
          "Bielsko-Biała",
          "Katowice",
          "Tychy",
          "Bielsko-Biała",
          "Tychy",
          "Katowice",
          "Katowice",
          "Tychy",
          "Katowice",
          "Katowice",
          "Katowice",
          "Katowice",
          "Katowice",
          "Katowice",
          "Katowice",
          "Katowice",
          "Katowice",
          "Katowice",
          "Katowice",
          "Katowice",
          "Katowice",
          "Katowice",
          "Katowice",
          "Katowice",
          "Katowice",
          "Katowice",
          "Katowice",
          "Tychy",
          "Katowice",
          "Katowice",
          "Katowice",
          "Katowice",
          "Katowice",
          "Katowice",
          "Tychy",
          "Katowice",
          "Bielsko-Biała",
          "Tychy",
          "Katowice",
          "Katowice",
          "Katowice",
          "Bielsko-Biała",
          "Katowice",
          "Katowice",
          "Katowice",
          "Katowice",
          "Katowice",
          "Katowice",
          "Bielsko-Biała",
          "Katowice",
          "Katowice",
          "Katowice",
          "Katowice",
          "Katowice",
          "Katowice",
          "Katowice",
          "Katowice",
          "Katowice",
          "Tychy",
          "Tychy",
          "Katowice",
          "Katowice",
          "Bielsko-Biała",
          "Katowice",
          "Bielsko-Biała",
          "Katowice",
          "Katowice",
          "Katowice",
          "Katowice",
          "Katowice",
          "Bielsko-Biała",
          "Katowice",
          "Katowice",
          "Katowice",
          "Katowice",
          "Tychy",
          "Tychy",
          "Bielsko-Biała",
          "Katowice",
          "Katowice",
          "Katowice",
          "Katowice",
          "Katowice",
          "Katowice",
          "Katowice",
          "Katowice",
          "Katowice",
          "Katowice",
          "Katowice",
          "Katowice",
          "Katowice",
          "Katowice",
          "Katowice",
          "Bielsko-Biała",
          "Katowice",
          "Katowice",
          "Katowice",
          "Katowice",
          "Katowice",
          "Katowice",
          "Katowice",
          "Katowice",
          "Katowice",
          "Katowice",
          "Katowice",
          "Katowice",
          "Bielsko-Biała",
          "Katowice",
          "Katowice",
          "Katowice",
          "Katowice",
          "Katowice",
          "Katowice",
          "Katowice",
          "Katowice",
          "Katowice",
          "Bielsko-Biała",
          "Katowice",
          "Katowice",
          "Katowice",
          "Bielsko-Biała",
          "Katowice",
          "Katowice",
          "Katowice",
          "Bielsko-Biała",
          "Katowice",
          "Bielsko-Biała",
          "Katowice",
          "Katowice",
          "Katowice",
          "Bielsko-Biała",
          "Katowice",
          "Katowice",
          "Katowice",
          "Katowice",
          "Bielsko-Biała",
          "Katowice",
          "Katowice",
          "Katowice",
          "Katowice",
          "Katowice",
          "Katowice",
          "Katowice",
          "Katowice",
          "Katowice",
          "Katowice",
          "Tychy",
          "Bielsko-Biała",
          "Katowice",
          "Katowice",
          "Katowice",
          "Katowice",
          "Katowice",
          "Katowice",
          "Katowice",
          "Katowice",
          "Katowice",
          "Katowice",
          "Katowice",
          "Katowice",
          "Katowice",
          "Katowice",
          "Bielsko-Biała",
          "Katowice",
          "Katowice",
          "Bielsko-Biała",
          "Katowice",
          "Bielsko-Biała",
          "Katowice",
          "Katowice",
          "Tychy",
          "Bielsko-Biała",
          "Katowice",
          "Katowice",
          "Katowice",
          "Katowice",
          "Katowice",
          "Katowice",
          "Katowice",
          "Katowice",
          "Bielsko-Biała",
          "Katowice",
          "Katowice",
          "Katowice",
          "Katowice",
          "Bielsko-Biała",
          "Katowice",
          "Katowice",
          "Katowice",
          "Bielsko-Biała",
          "Katowice",
          "Katowice",
          "Katowice",
          "Katowice",
          "Katowice",
          "Katowice",
          "Katowice",
          "Katowice",
          "Katowice",
          "Bielsko-Biała",
          "Bielsko-Biała",
          "Katowice",
          "Katowice",
          "Katowice",
          "Katowice",
          "Katowice",
          "Katowice",
          "Katowice",
          "Katowice",
          "Katowice",
          "Katowice",
          "Bielsko-Biała",
          "Katowice",
          "Katowice",
          "Bielsko-Biała",
          "Katowice",
          "Katowice",
          "Katowice",
          "Katowice",
          "Katowice",
          "Katowice",
          "Katowice",
          "Katowice",
          "Katowice",
          "Bielsko-Biała",
          "Katowice",
          "Bielsko-Biała",
          "Katowice",
          "Katowice",
          "Katowice",
          "Katowice",
          "Katowice",
          "Bielsko-Biała",
          "Katowice",
          "Katowice",
          "Bielsko-Biała",
          "Katowice",
          "Bielsko-Biała",
          "Katowice",
          "Katowice",
          "Katowice",
          "Katowice",
          "Katowice",
          "Katowice",
          "Katowice",
          "Katowice",
          "Katowice",
          "Tychy",
          "Katowice",
          "Katowice",
          "Katowice",
          "Katowice",
          "Katowice",
          "Katowice",
          "Katowice",
          "Katowice",
          "Bielsko-Biała",
          "Katowice",
          "Katowice",
          "Katowice",
          "Tychy",
          "Katowice",
          "Katowice",
          "Katowice",
          "Katowice",
          "Katowice",
          "Katowice",
          "Katowice",
          "Katowice",
          "Katowice",
          "Katowice",
          "Katowice",
          "Bielsko-Biała",
          "Katowice",
          "Katowice",
          "Katowice",
          "Katowice",
          "Katowice",
          "Katowice",
          "Katowice",
          "Katowice",
          "Katowice",
          "Katowice",
          "Katowice",
          "Katowice",
          "Katowice",
          "Katowice",
          "Katowice",
          "Katowice",
          "Katowice",
          "Katowice",
          "Katowice",
          "Katowice",
          "Katowice",
          "Katowice",
          "Katowice",
          "Katowice",
          "Katowice",
          "Katowice",
          "Katowice",
          "Katowice",
          "Katowice",
          "Katowice",
          "Katowice",
          "Katowice",
          "Katowice",
          "Katowice",
          "Katowice",
          "Katowice",
          "Katowice",
          "Katowice",
          "Katowice",
          "Katowice",
          "Katowice",
          "Katowice",
          "Katowice",
          "Katowice",
          "Katowice",
          "Katowice",
          "Katowice",
          "Katowice",
          "Katowice",
          "Katowice",
          "Katowice",
          "Katowice",
          "Katowice",
          "Tychy",
          "Katowice",
          "Katowice",
          "Katowice",
          "Katowice",
          "Katowice",
          "Katowice",
          "Katowice",
          "Katowice",
          "Katowice",
          "Katowice",
          "Katowice",
          "Katowice",
          "Katowice",
          "Katowice",
          "Bielsko-Biała",
          "Katowice",
          "Katowice",
          "Katowice",
          "Katowice",
          "Katowice",
          "Katowice",
          "Katowice",
          "Bielsko-Biała",
          "Katowice",
          "Katowice",
          "Katowice",
          "Katowice",
          "Katowice",
          "Katowice",
          "Katowice",
          "Tychy",
          "Bielsko-Biała",
          "Katowice",
          "Katowice",
          "Katowice",
          "Katowice",
          "Katowice",
          "Katowice",
          "Katowice",
          "Katowice",
          "Katowice",
          "Katowice",
          "Katowice",
          "Katowice",
          "Katowice",
          "Katowice",
          "Katowice",
          "Katowice",
          "Katowice",
          "Katowice",
          "Katowice",
          "Katowice",
          "Katowice",
          "Katowice",
          "Katowice",
          "Katowice",
          "Katowice",
          "Katowice",
          "Katowice",
          "Katowice",
          "Katowice",
          "Katowice",
          "Tychy",
          "Katowice",
          "Katowice",
          "Katowice",
          "Katowice",
          "Katowice",
          "Katowice",
          "Katowice",
          "Katowice",
          "Katowice",
          "Katowice",
          "Katowice",
          "Katowice",
          "Katowice",
          "Katowice",
          "Katowice",
          "Bielsko-Biała",
          "Katowice",
          "Katowice",
          "Katowice",
          "Katowice",
          "Katowice",
          "Katowice",
          "Katowice",
          "Katowice",
          "Katowice",
          "Katowice",
          "Katowice",
          "Bielsko-Biała",
          "Katowice",
          "Katowice",
          "Katowice",
          "Katowice",
          "Katowice",
          "Katowice",
          "Katowice",
          "Bielsko-Biała",
          "Katowice",
          "Katowice",
          "Katowice",
          "Katowice",
          "Tychy",
          "Katowice",
          "Katowice",
          "Katowice",
          "Katowice",
          "Katowice",
          "Katowice",
          "Katowice",
          "Katowice",
          "Katowice",
          "Katowice",
          "Katowice",
          "Katowice",
          "Katowice",
          "Katowice",
          "Katowice",
          "Katowice",
          "Tychy",
          "Katowice",
          "Katowice",
          "Katowice",
          "Katowice",
          "Bielsko-Biała",
          "Katowice",
          "Katowice",
          "Bielsko-Biała",
          "Katowice",
          "Katowice",
          "Katowice",
          "Katowice",
          "Katowice",
          "Katowice",
          "Katowice",
          "Katowice",
          "Bielsko-Biała",
          "Katowice",
          "Katowice",
          "Tychy",
          "Tychy",
          "Katowice",
          "Katowice",
          "Katowice",
          "Katowice",
          "Katowice",
          "Katowice",
          "Katowice",
          "Katowice",
          "Katowice",
          "Katowice",
          "Katowice",
          "Tychy",
          "Katowice",
          "Katowice",
          "Tychy",
          "Katowice",
          "Bielsko-Biała",
          "Katowice",
          "Bielsko-Biała",
          "Katowice",
          "Katowice",
          "Katowice",
          "Katowice",
          "Katowice",
          "Katowice",
          "Katowice",
          "Katowice",
          "Katowice",
          "Katowice",
          "Katowice",
          "Katowice",
          "Katowice",
          "Katowice",
          "Katowice",
          "Katowice",
          "Katowice",
          "Katowice",
          "Katowice",
          "Katowice",
          "Katowice",
          "Katowice",
          "Katowice",
          "Katowice",
          "Katowice",
          "Tychy",
          "Katowice",
          "Katowice",
          "Katowice",
          "Katowice",
          "Katowice",
          "Katowice",
          "Tychy",
          "Katowice",
          "Katowice",
          "Katowice",
          "Katowice"
         ],
         "xaxis": "x",
         "y": [
          43,
          35,
          43,
          30,
          35,
          50,
          37,
          35,
          47,
          28,
          40,
          31,
          39,
          39,
          40,
          50,
          37,
          46,
          31,
          24,
          18,
          25,
          45,
          41,
          40,
          41,
          31,
          42,
          43,
          41,
          18,
          29,
          21,
          16,
          47,
          19,
          40,
          35,
          28,
          45,
          47,
          43,
          44,
          47,
          24,
          28,
          36,
          48,
          43,
          17,
          38,
          35,
          49,
          38,
          42,
          36,
          50,
          40,
          40,
          42,
          26,
          40,
          34,
          38,
          27,
          44,
          30,
          41,
          50,
          36,
          32,
          36,
          42,
          39,
          36,
          23,
          49,
          23,
          25,
          32,
          40,
          39,
          32,
          46,
          41,
          39,
          33,
          38,
          44,
          23,
          48,
          48,
          40,
          46,
          35,
          26,
          22,
          30,
          40,
          25,
          33,
          37,
          41,
          38,
          38,
          26,
          45,
          22,
          30,
          38,
          38,
          49,
          30,
          48,
          40,
          38,
          42,
          40,
          41,
          45,
          50,
          50,
          31,
          41,
          49,
          38,
          16,
          36,
          43,
          35,
          37,
          32,
          27,
          46,
          44,
          39,
          28,
          27,
          50,
          38,
          50,
          40,
          50,
          50,
          45,
          42,
          40,
          37,
          35,
          46,
          25,
          48,
          38,
          25,
          35,
          49,
          25,
          44,
          31,
          29,
          48,
          16,
          40,
          42,
          43,
          25,
          34,
          49,
          38,
          50,
          18,
          39,
          47,
          36,
          50,
          47,
          30,
          35,
          39,
          38,
          45,
          45,
          49,
          35,
          40,
          47,
          29,
          30,
          46,
          36,
          38,
          38,
          24,
          44,
          26,
          29,
          34,
          41,
          42,
          38,
          40,
          39,
          42,
          29,
          50,
          47,
          45,
          38,
          44,
          46,
          33,
          44,
          48,
          44,
          29,
          34,
          38,
          31,
          38,
          14,
          48,
          40,
          33,
          35,
          50,
          35,
          32,
          42,
          35,
          43,
          38,
          49,
          40,
          48,
          43,
          36,
          46,
          42,
          50,
          38,
          18,
          37,
          40,
          45,
          48,
          33,
          32,
          20,
          50,
          35,
          38,
          30,
          41,
          39,
          47,
          38,
          36,
          40,
          27,
          45,
          29,
          35,
          32,
          16,
          26,
          32,
          48,
          43,
          40,
          36,
          43,
          30,
          37,
          38,
          43,
          43,
          24,
          37,
          36,
          25,
          36,
          23,
          42,
          50,
          49,
          38,
          32,
          30,
          34,
          27,
          41,
          29,
          20,
          48,
          48,
          39,
          39,
          43,
          46,
          33,
          47,
          37,
          43,
          34,
          36,
          25,
          44,
          32,
          30,
          41,
          40,
          37,
          45,
          38,
          39,
          48,
          43,
          37,
          50,
          21,
          23,
          38,
          38,
          39,
          38,
          40,
          36,
          33,
          49,
          20,
          43,
          49,
          39,
          43,
          35,
          50,
          35,
          48,
          21,
          43,
          42,
          25,
          28,
          31,
          41,
          22,
          41,
          47,
          44,
          37,
          36,
          44,
          45,
          40,
          26,
          42,
          34,
          41,
          30,
          50,
          36,
          38,
          38,
          50,
          17,
          40,
          44,
          48,
          37,
          48,
          25,
          47,
          30,
          36,
          35,
          47,
          40,
          42,
          40,
          48,
          39,
          20,
          45,
          28,
          10,
          20,
          20,
          20,
          30,
          23,
          17,
          35,
          14,
          35,
          28,
          26,
          14,
          45,
          21,
          26,
          30,
          18,
          39,
          50,
          46,
          27,
          32,
          33,
          29,
          40,
          35,
          49,
          37,
          50,
          50,
          30,
          43,
          50,
          50,
          40,
          44,
          36,
          40,
          37,
          36,
          40,
          40,
          35,
          36,
          46,
          50,
          43,
          39,
          38,
          20,
          25,
          29,
          40,
          44,
          34,
          38,
          40,
          36,
          42,
          24,
          46,
          24,
          21,
          29,
          48,
          30,
          46,
          48,
          17,
          20,
          38,
          25,
          35,
          16,
          37,
          28,
          15,
          50,
          46,
          40,
          37,
          30,
          30,
          26,
          34,
          48,
          41,
          50,
          39,
          34,
          39,
          17,
          43,
          27,
          42,
          49,
          30,
          29,
          40,
          48,
          40,
          43,
          39,
          38,
          50,
          47,
          43,
          43,
          42,
          39,
          38,
          43,
          43,
          43,
          38,
          45,
          22,
          49,
          28,
          38,
          30,
          38,
          47,
          46,
          45,
          30,
          31,
          39,
          38,
          40,
          47,
          20,
          40,
          26,
          45,
          33,
          31,
          31,
          42,
          30,
          40,
          43,
          26,
          38,
          40,
          48,
          30,
          28,
          27,
          16,
          42,
          42,
          43,
          38,
          50,
          32,
          32,
          46,
          43,
          39,
          33,
          36,
          44,
          47,
          33,
          46,
          50,
          36,
          47,
          48,
          32,
          32,
          30,
          27,
          40,
          36,
          36,
          33,
          48,
          31,
          46,
          29,
          44,
          34,
          33,
          45,
          44,
          30,
          35,
          38,
          25,
          38,
          39,
          36,
          38,
          18,
          39,
          45,
          19,
          48,
          38,
          21,
          50,
          43,
          31,
          41,
          38,
          36,
          21,
          10,
          45,
          45,
          47,
          43,
          42,
          40,
          33,
          39,
          43,
          30,
          23,
          45,
          38,
          27,
          32,
          30,
          19,
          37,
          26,
          27,
          23,
          46,
          27,
          38,
          37,
          50,
          36,
          38,
          39,
          41,
          44,
          40,
          35,
          37,
          50,
          46,
          41,
          40,
          28,
          28,
          36,
          30,
          40,
          50,
          25,
          25,
          34,
          30,
          21,
          29,
          18,
          44,
          41,
          28,
          31,
          30,
          38,
          44,
          37,
          38,
          20,
          20,
          49,
          30,
          39,
          48,
          48,
          40,
          39,
          39,
          38,
          26,
          30,
          47,
          38,
          50,
          40,
          39,
          45,
          39,
          50,
          26,
          23,
          19,
          47,
          45,
          19,
          43,
          40,
          48,
          37,
          31,
          37,
          46,
          38,
          44,
          50,
          28,
          47,
          25,
          38,
          35,
          43,
          22,
          35,
          41,
          45,
          22,
          20,
          41,
          49,
          40,
          34,
          31,
          45,
          50,
          41,
          49,
          49,
          35,
          10,
          13,
          11,
          31,
          38,
          49,
          29,
          49,
          50,
          22,
          26,
          41,
          35,
          48,
          38,
          40,
          40,
          48,
          43,
          40,
          26,
          25,
          28,
          26,
          18,
          43,
          17,
          32,
          49,
          45,
          22,
          45,
          45,
          42,
          42,
          38,
          17,
          38,
          30,
          32,
          42,
          31,
          30,
          44,
          49,
          46,
          37,
          37,
          42,
          39,
          34,
          29,
          49,
          20,
          30,
          50,
          36,
          25,
          32,
          48,
          30,
          18,
          48,
          36,
          46,
          37,
          40,
          35,
          42,
          41,
          43,
          16,
          35,
          35,
          43,
          45,
          29,
          43,
          36,
          39,
          28,
          44,
          40,
          35,
          23,
          38,
          30,
          38,
          44,
          34,
          21,
          8,
          38,
          45,
          43,
          9,
          27,
          48,
          22,
          26,
          20,
          37,
          25,
          44,
          45,
          36,
          29,
          44,
          25,
          27,
          45,
          18,
          17,
          22,
          20,
          25,
          18,
          22,
          17,
          50,
          35,
          36,
          15,
          10,
          10,
          23,
          38,
          28,
          38,
          37,
          37,
          37,
          28,
          28,
          29,
          29,
          48,
          28,
          49,
          45,
          10,
          11,
          48,
          36,
          48,
          18,
          29,
          50,
          35,
          42,
          30,
          50,
          25,
          30,
          22,
          24,
          29,
          34,
          30,
          15,
          38,
          29,
          16,
          21,
          49,
          50,
          43,
          47,
          28,
          20,
          47,
          11,
          13,
          24,
          43,
          10,
          29,
          38,
          36,
          36,
          25,
          44,
          29,
          15,
          45,
          47,
          37,
          42,
          37,
          37,
          18,
          43,
          45,
          10,
          9,
          38,
          25,
          35,
          28,
          27,
          35,
          40,
          42,
          22,
          36,
          28,
          30,
          40,
          25,
          46,
          38,
          18,
          37,
          38,
          38,
          46,
          28,
          49,
          40,
          19,
          42,
          27,
          50,
          37,
          39,
          34,
          42,
          50,
          40,
          34,
          27,
          43,
          37,
          27,
          39,
          50,
          28,
          45,
          28,
          36,
          40,
          23,
          40,
          23,
          41,
          37
         ],
         "yaxis": "y"
        }
       ],
       "layout": {
        "barmode": "relative",
        "legend": {
         "tracegroupgap": 0
        },
        "template": {
         "data": {
          "bar": [
           {
            "error_x": {
             "color": "#2a3f5f"
            },
            "error_y": {
             "color": "#2a3f5f"
            },
            "marker": {
             "line": {
              "color": "#E5ECF6",
              "width": 0.5
             }
            },
            "type": "bar"
           }
          ],
          "barpolar": [
           {
            "marker": {
             "line": {
              "color": "#E5ECF6",
              "width": 0.5
             }
            },
            "type": "barpolar"
           }
          ],
          "carpet": [
           {
            "aaxis": {
             "endlinecolor": "#2a3f5f",
             "gridcolor": "white",
             "linecolor": "white",
             "minorgridcolor": "white",
             "startlinecolor": "#2a3f5f"
            },
            "baxis": {
             "endlinecolor": "#2a3f5f",
             "gridcolor": "white",
             "linecolor": "white",
             "minorgridcolor": "white",
             "startlinecolor": "#2a3f5f"
            },
            "type": "carpet"
           }
          ],
          "choropleth": [
           {
            "colorbar": {
             "outlinewidth": 0,
             "ticks": ""
            },
            "type": "choropleth"
           }
          ],
          "contour": [
           {
            "colorbar": {
             "outlinewidth": 0,
             "ticks": ""
            },
            "colorscale": [
             [
              0,
              "#0d0887"
             ],
             [
              0.1111111111111111,
              "#46039f"
             ],
             [
              0.2222222222222222,
              "#7201a8"
             ],
             [
              0.3333333333333333,
              "#9c179e"
             ],
             [
              0.4444444444444444,
              "#bd3786"
             ],
             [
              0.5555555555555556,
              "#d8576b"
             ],
             [
              0.6666666666666666,
              "#ed7953"
             ],
             [
              0.7777777777777778,
              "#fb9f3a"
             ],
             [
              0.8888888888888888,
              "#fdca26"
             ],
             [
              1,
              "#f0f921"
             ]
            ],
            "type": "contour"
           }
          ],
          "contourcarpet": [
           {
            "colorbar": {
             "outlinewidth": 0,
             "ticks": ""
            },
            "type": "contourcarpet"
           }
          ],
          "heatmap": [
           {
            "colorbar": {
             "outlinewidth": 0,
             "ticks": ""
            },
            "colorscale": [
             [
              0,
              "#0d0887"
             ],
             [
              0.1111111111111111,
              "#46039f"
             ],
             [
              0.2222222222222222,
              "#7201a8"
             ],
             [
              0.3333333333333333,
              "#9c179e"
             ],
             [
              0.4444444444444444,
              "#bd3786"
             ],
             [
              0.5555555555555556,
              "#d8576b"
             ],
             [
              0.6666666666666666,
              "#ed7953"
             ],
             [
              0.7777777777777778,
              "#fb9f3a"
             ],
             [
              0.8888888888888888,
              "#fdca26"
             ],
             [
              1,
              "#f0f921"
             ]
            ],
            "type": "heatmap"
           }
          ],
          "heatmapgl": [
           {
            "colorbar": {
             "outlinewidth": 0,
             "ticks": ""
            },
            "colorscale": [
             [
              0,
              "#0d0887"
             ],
             [
              0.1111111111111111,
              "#46039f"
             ],
             [
              0.2222222222222222,
              "#7201a8"
             ],
             [
              0.3333333333333333,
              "#9c179e"
             ],
             [
              0.4444444444444444,
              "#bd3786"
             ],
             [
              0.5555555555555556,
              "#d8576b"
             ],
             [
              0.6666666666666666,
              "#ed7953"
             ],
             [
              0.7777777777777778,
              "#fb9f3a"
             ],
             [
              0.8888888888888888,
              "#fdca26"
             ],
             [
              1,
              "#f0f921"
             ]
            ],
            "type": "heatmapgl"
           }
          ],
          "histogram": [
           {
            "marker": {
             "colorbar": {
              "outlinewidth": 0,
              "ticks": ""
             }
            },
            "type": "histogram"
           }
          ],
          "histogram2d": [
           {
            "colorbar": {
             "outlinewidth": 0,
             "ticks": ""
            },
            "colorscale": [
             [
              0,
              "#0d0887"
             ],
             [
              0.1111111111111111,
              "#46039f"
             ],
             [
              0.2222222222222222,
              "#7201a8"
             ],
             [
              0.3333333333333333,
              "#9c179e"
             ],
             [
              0.4444444444444444,
              "#bd3786"
             ],
             [
              0.5555555555555556,
              "#d8576b"
             ],
             [
              0.6666666666666666,
              "#ed7953"
             ],
             [
              0.7777777777777778,
              "#fb9f3a"
             ],
             [
              0.8888888888888888,
              "#fdca26"
             ],
             [
              1,
              "#f0f921"
             ]
            ],
            "type": "histogram2d"
           }
          ],
          "histogram2dcontour": [
           {
            "colorbar": {
             "outlinewidth": 0,
             "ticks": ""
            },
            "colorscale": [
             [
              0,
              "#0d0887"
             ],
             [
              0.1111111111111111,
              "#46039f"
             ],
             [
              0.2222222222222222,
              "#7201a8"
             ],
             [
              0.3333333333333333,
              "#9c179e"
             ],
             [
              0.4444444444444444,
              "#bd3786"
             ],
             [
              0.5555555555555556,
              "#d8576b"
             ],
             [
              0.6666666666666666,
              "#ed7953"
             ],
             [
              0.7777777777777778,
              "#fb9f3a"
             ],
             [
              0.8888888888888888,
              "#fdca26"
             ],
             [
              1,
              "#f0f921"
             ]
            ],
            "type": "histogram2dcontour"
           }
          ],
          "mesh3d": [
           {
            "colorbar": {
             "outlinewidth": 0,
             "ticks": ""
            },
            "type": "mesh3d"
           }
          ],
          "parcoords": [
           {
            "line": {
             "colorbar": {
              "outlinewidth": 0,
              "ticks": ""
             }
            },
            "type": "parcoords"
           }
          ],
          "pie": [
           {
            "automargin": true,
            "type": "pie"
           }
          ],
          "scatter": [
           {
            "marker": {
             "colorbar": {
              "outlinewidth": 0,
              "ticks": ""
             }
            },
            "type": "scatter"
           }
          ],
          "scatter3d": [
           {
            "line": {
             "colorbar": {
              "outlinewidth": 0,
              "ticks": ""
             }
            },
            "marker": {
             "colorbar": {
              "outlinewidth": 0,
              "ticks": ""
             }
            },
            "type": "scatter3d"
           }
          ],
          "scattercarpet": [
           {
            "marker": {
             "colorbar": {
              "outlinewidth": 0,
              "ticks": ""
             }
            },
            "type": "scattercarpet"
           }
          ],
          "scattergeo": [
           {
            "marker": {
             "colorbar": {
              "outlinewidth": 0,
              "ticks": ""
             }
            },
            "type": "scattergeo"
           }
          ],
          "scattergl": [
           {
            "marker": {
             "colorbar": {
              "outlinewidth": 0,
              "ticks": ""
             }
            },
            "type": "scattergl"
           }
          ],
          "scattermapbox": [
           {
            "marker": {
             "colorbar": {
              "outlinewidth": 0,
              "ticks": ""
             }
            },
            "type": "scattermapbox"
           }
          ],
          "scatterpolar": [
           {
            "marker": {
             "colorbar": {
              "outlinewidth": 0,
              "ticks": ""
             }
            },
            "type": "scatterpolar"
           }
          ],
          "scatterpolargl": [
           {
            "marker": {
             "colorbar": {
              "outlinewidth": 0,
              "ticks": ""
             }
            },
            "type": "scatterpolargl"
           }
          ],
          "scatterternary": [
           {
            "marker": {
             "colorbar": {
              "outlinewidth": 0,
              "ticks": ""
             }
            },
            "type": "scatterternary"
           }
          ],
          "surface": [
           {
            "colorbar": {
             "outlinewidth": 0,
             "ticks": ""
            },
            "colorscale": [
             [
              0,
              "#0d0887"
             ],
             [
              0.1111111111111111,
              "#46039f"
             ],
             [
              0.2222222222222222,
              "#7201a8"
             ],
             [
              0.3333333333333333,
              "#9c179e"
             ],
             [
              0.4444444444444444,
              "#bd3786"
             ],
             [
              0.5555555555555556,
              "#d8576b"
             ],
             [
              0.6666666666666666,
              "#ed7953"
             ],
             [
              0.7777777777777778,
              "#fb9f3a"
             ],
             [
              0.8888888888888888,
              "#fdca26"
             ],
             [
              1,
              "#f0f921"
             ]
            ],
            "type": "surface"
           }
          ],
          "table": [
           {
            "cells": {
             "fill": {
              "color": "#EBF0F8"
             },
             "line": {
              "color": "white"
             }
            },
            "header": {
             "fill": {
              "color": "#C8D4E3"
             },
             "line": {
              "color": "white"
             }
            },
            "type": "table"
           }
          ]
         },
         "layout": {
          "annotationdefaults": {
           "arrowcolor": "#2a3f5f",
           "arrowhead": 0,
           "arrowwidth": 1
          },
          "autotypenumbers": "strict",
          "coloraxis": {
           "colorbar": {
            "outlinewidth": 0,
            "ticks": ""
           }
          },
          "colorscale": {
           "diverging": [
            [
             0,
             "#8e0152"
            ],
            [
             0.1,
             "#c51b7d"
            ],
            [
             0.2,
             "#de77ae"
            ],
            [
             0.3,
             "#f1b6da"
            ],
            [
             0.4,
             "#fde0ef"
            ],
            [
             0.5,
             "#f7f7f7"
            ],
            [
             0.6,
             "#e6f5d0"
            ],
            [
             0.7,
             "#b8e186"
            ],
            [
             0.8,
             "#7fbc41"
            ],
            [
             0.9,
             "#4d9221"
            ],
            [
             1,
             "#276419"
            ]
           ],
           "sequential": [
            [
             0,
             "#0d0887"
            ],
            [
             0.1111111111111111,
             "#46039f"
            ],
            [
             0.2222222222222222,
             "#7201a8"
            ],
            [
             0.3333333333333333,
             "#9c179e"
            ],
            [
             0.4444444444444444,
             "#bd3786"
            ],
            [
             0.5555555555555556,
             "#d8576b"
            ],
            [
             0.6666666666666666,
             "#ed7953"
            ],
            [
             0.7777777777777778,
             "#fb9f3a"
            ],
            [
             0.8888888888888888,
             "#fdca26"
            ],
            [
             1,
             "#f0f921"
            ]
           ],
           "sequentialminus": [
            [
             0,
             "#0d0887"
            ],
            [
             0.1111111111111111,
             "#46039f"
            ],
            [
             0.2222222222222222,
             "#7201a8"
            ],
            [
             0.3333333333333333,
             "#9c179e"
            ],
            [
             0.4444444444444444,
             "#bd3786"
            ],
            [
             0.5555555555555556,
             "#d8576b"
            ],
            [
             0.6666666666666666,
             "#ed7953"
            ],
            [
             0.7777777777777778,
             "#fb9f3a"
            ],
            [
             0.8888888888888888,
             "#fdca26"
            ],
            [
             1,
             "#f0f921"
            ]
           ]
          },
          "colorway": [
           "#636efa",
           "#EF553B",
           "#00cc96",
           "#ab63fa",
           "#FFA15A",
           "#19d3f3",
           "#FF6692",
           "#B6E880",
           "#FF97FF",
           "#FECB52"
          ],
          "font": {
           "color": "#2a3f5f"
          },
          "geo": {
           "bgcolor": "white",
           "lakecolor": "white",
           "landcolor": "#E5ECF6",
           "showlakes": true,
           "showland": true,
           "subunitcolor": "white"
          },
          "hoverlabel": {
           "align": "left"
          },
          "hovermode": "closest",
          "mapbox": {
           "style": "light"
          },
          "paper_bgcolor": "white",
          "plot_bgcolor": "#E5ECF6",
          "polar": {
           "angularaxis": {
            "gridcolor": "white",
            "linecolor": "white",
            "ticks": ""
           },
           "bgcolor": "#E5ECF6",
           "radialaxis": {
            "gridcolor": "white",
            "linecolor": "white",
            "ticks": ""
           }
          },
          "scene": {
           "xaxis": {
            "backgroundcolor": "#E5ECF6",
            "gridcolor": "white",
            "gridwidth": 2,
            "linecolor": "white",
            "showbackground": true,
            "ticks": "",
            "zerolinecolor": "white"
           },
           "yaxis": {
            "backgroundcolor": "#E5ECF6",
            "gridcolor": "white",
            "gridwidth": 2,
            "linecolor": "white",
            "showbackground": true,
            "ticks": "",
            "zerolinecolor": "white"
           },
           "zaxis": {
            "backgroundcolor": "#E5ECF6",
            "gridcolor": "white",
            "gridwidth": 2,
            "linecolor": "white",
            "showbackground": true,
            "ticks": "",
            "zerolinecolor": "white"
           }
          },
          "shapedefaults": {
           "line": {
            "color": "#2a3f5f"
           }
          },
          "ternary": {
           "aaxis": {
            "gridcolor": "white",
            "linecolor": "white",
            "ticks": ""
           },
           "baxis": {
            "gridcolor": "white",
            "linecolor": "white",
            "ticks": ""
           },
           "bgcolor": "#E5ECF6",
           "caxis": {
            "gridcolor": "white",
            "linecolor": "white",
            "ticks": ""
           }
          },
          "title": {
           "x": 0.05
          },
          "xaxis": {
           "automargin": true,
           "gridcolor": "white",
           "linecolor": "white",
           "ticks": "",
           "title": {
            "standoff": 15
           },
           "zerolinecolor": "white",
           "zerolinewidth": 2
          },
          "yaxis": {
           "automargin": true,
           "gridcolor": "white",
           "linecolor": "white",
           "ticks": "",
           "title": {
            "standoff": 15
           },
           "zerolinecolor": "white",
           "zerolinewidth": 2
          }
         }
        },
        "title": {
         "text": "Dostępna powierzchnia z Twojego wyszukiwania wg. miasta. [m2]"
        },
        "xaxis": {
         "anchor": "y",
         "domain": [
          0,
          1
         ],
         "title": {
          "text": "miasto"
         }
        },
        "yaxis": {
         "anchor": "x",
         "domain": [
          0,
          1
         ],
         "title": {
          "text": "powierzchnia"
         }
        }
       }
      },
      "text/html": [
       "<div>                            <div id=\"de3128de-a892-4932-b4f8-96364e04700c\" class=\"plotly-graph-div\" style=\"height:525px; width:100%;\"></div>            <script type=\"text/javascript\">                require([\"plotly\"], function(Plotly) {                    window.PLOTLYENV=window.PLOTLYENV || {};                                    if (document.getElementById(\"de3128de-a892-4932-b4f8-96364e04700c\")) {                    Plotly.newPlot(                        \"de3128de-a892-4932-b4f8-96364e04700c\",                        [{\"alignmentgroup\": \"True\", \"hovertemplate\": \"miasto=%{x}<br>powierzchnia=%{y}<extra></extra>\", \"legendgroup\": \"\", \"marker\": {\"color\": \"#636efa\"}, \"name\": \"\", \"offsetgroup\": \"\", \"orientation\": \"v\", \"showlegend\": false, \"textposition\": \"auto\", \"type\": \"bar\", \"x\": [\"Katowice\", \"Katowice\", \"Katowice\", \"Bielsko-Bia\\u0142a\", \"Katowice\", \"Katowice\", \"Katowice\", \"Katowice\", \"Bielsko-Bia\\u0142a\", \"Katowice\", \"Katowice\", \"Bielsko-Bia\\u0142a\", \"Katowice\", \"Katowice\", \"Katowice\", \"Katowice\", \"Katowice\", \"Katowice\", \"Tychy\", \"Katowice\", \"Katowice\", \"Katowice\", \"Katowice\", \"Bielsko-Bia\\u0142a\", \"Katowice\", \"Tychy\", \"Katowice\", \"Tychy\", \"Katowice\", \"Katowice\", \"Katowice\", \"Bielsko-Bia\\u0142a\", \"Katowice\", \"Katowice\", \"Katowice\", \"Katowice\", \"Katowice\", \"Katowice\", \"Katowice\", \"Bielsko-Bia\\u0142a\", \"Katowice\", \"Tychy\", \"Katowice\", \"Tychy\", \"Katowice\", \"Katowice\", \"Bielsko-Bia\\u0142a\", \"Bielsko-Bia\\u0142a\", \"Bielsko-Bia\\u0142a\", \"Katowice\", \"Katowice\", \"Katowice\", \"Katowice\", \"Tychy\", \"Katowice\", \"Katowice\", \"Bielsko-Bia\\u0142a\", \"Katowice\", \"Tychy\", \"Katowice\", \"Bielsko-Bia\\u0142a\", \"Katowice\", \"Katowice\", \"Bielsko-Bia\\u0142a\", \"Katowice\", \"Bielsko-Bia\\u0142a\", \"Katowice\", \"Bielsko-Bia\\u0142a\", \"Katowice\", \"Tychy\", \"Katowice\", \"Katowice\", \"Katowice\", \"Katowice\", \"Katowice\", \"Katowice\", \"Katowice\", \"Katowice\", \"Katowice\", \"Katowice\", \"Katowice\", \"Katowice\", \"Katowice\", \"Bielsko-Bia\\u0142a\", \"Katowice\", \"Katowice\", \"Katowice\", \"Katowice\", \"Katowice\", \"Katowice\", \"Bielsko-Bia\\u0142a\", \"Katowice\", \"Katowice\", \"Katowice\", \"Katowice\", \"Katowice\", \"Katowice\", \"Bielsko-Bia\\u0142a\", \"Bielsko-Bia\\u0142a\", \"Bielsko-Bia\\u0142a\", \"Katowice\", \"Katowice\", \"Tychy\", \"Katowice\", \"Katowice\", \"Katowice\", \"Bielsko-Bia\\u0142a\", \"Katowice\", \"Katowice\", \"Bielsko-Bia\\u0142a\", \"Katowice\", \"Katowice\", \"Bielsko-Bia\\u0142a\", \"Bielsko-Bia\\u0142a\", \"Katowice\", \"Katowice\", \"Katowice\", \"Katowice\", \"Bielsko-Bia\\u0142a\", \"Katowice\", \"Katowice\", \"Tychy\", \"Katowice\", \"Katowice\", \"Katowice\", \"Katowice\", \"Katowice\", \"Katowice\", \"Katowice\", \"Bielsko-Bia\\u0142a\", \"Katowice\", \"Bielsko-Bia\\u0142a\", \"Tychy\", \"Katowice\", \"Katowice\", \"Katowice\", \"Katowice\", \"Katowice\", \"Katowice\", \"Tychy\", \"Bielsko-Bia\\u0142a\", \"Katowice\", \"Bielsko-Bia\\u0142a\", \"Katowice\", \"Katowice\", \"Katowice\", \"Katowice\", \"Katowice\", \"Katowice\", \"Katowice\", \"Katowice\", \"Katowice\", \"Katowice\", \"Katowice\", \"Katowice\", \"Bielsko-Bia\\u0142a\", \"Katowice\", \"Katowice\", \"Katowice\", \"Katowice\", \"Katowice\", \"Katowice\", \"Katowice\", \"Katowice\", \"Katowice\", \"Katowice\", \"Bielsko-Bia\\u0142a\", \"Katowice\", \"Bielsko-Bia\\u0142a\", \"Katowice\", \"Katowice\", \"Tychy\", \"Katowice\", \"Katowice\", \"Katowice\", \"Katowice\", \"Katowice\", \"Katowice\", \"Katowice\", \"Tychy\", \"Bielsko-Bia\\u0142a\", \"Katowice\", \"Bielsko-Bia\\u0142a\", \"Katowice\", \"Katowice\", \"Katowice\", \"Bielsko-Bia\\u0142a\", \"Katowice\", \"Katowice\", \"Bielsko-Bia\\u0142a\", \"Katowice\", \"Bielsko-Bia\\u0142a\", \"Katowice\", \"Bielsko-Bia\\u0142a\", \"Katowice\", \"Bielsko-Bia\\u0142a\", \"Katowice\", \"Katowice\", \"Katowice\", \"Katowice\", \"Tychy\", \"Bielsko-Bia\\u0142a\", \"Katowice\", \"Katowice\", \"Katowice\", \"Katowice\", \"Katowice\", \"Katowice\", \"Katowice\", \"Katowice\", \"Bielsko-Bia\\u0142a\", \"Katowice\", \"Katowice\", \"Bielsko-Bia\\u0142a\", \"Bielsko-Bia\\u0142a\", \"Katowice\", \"Katowice\", \"Katowice\", \"Katowice\", \"Katowice\", \"Katowice\", \"Katowice\", \"Katowice\", \"Katowice\", \"Katowice\", \"Katowice\", \"Katowice\", \"Katowice\", \"Katowice\", \"Katowice\", \"Katowice\", \"Katowice\", \"Katowice\", \"Katowice\", \"Katowice\", \"Bielsko-Bia\\u0142a\", \"Katowice\", \"Tychy\", \"Katowice\", \"Katowice\", \"Katowice\", \"Katowice\", \"Katowice\", \"Katowice\", \"Tychy\", \"Katowice\", \"Katowice\", \"Katowice\", \"Katowice\", \"Katowice\", \"Katowice\", \"Katowice\", \"Katowice\", \"Katowice\", \"Katowice\", \"Bielsko-Bia\\u0142a\", \"Katowice\", \"Katowice\", \"Katowice\", \"Bielsko-Bia\\u0142a\", \"Bielsko-Bia\\u0142a\", \"Katowice\", \"Katowice\", \"Katowice\", \"Katowice\", \"Katowice\", \"Katowice\", \"Katowice\", \"Katowice\", \"Tychy\", \"Katowice\", \"Katowice\", \"Bielsko-Bia\\u0142a\", \"Katowice\", \"Katowice\", \"Katowice\", \"Bielsko-Bia\\u0142a\", \"Katowice\", \"Katowice\", \"Katowice\", \"Katowice\", \"Katowice\", \"Katowice\", \"Katowice\", \"Katowice\", \"Tychy\", \"Katowice\", \"Katowice\", \"Katowice\", \"Katowice\", \"Tychy\", \"Katowice\", \"Katowice\", \"Katowice\", \"Katowice\", \"Katowice\", \"Tychy\", \"Katowice\", \"Katowice\", \"Katowice\", \"Katowice\", \"Katowice\", \"Bielsko-Bia\\u0142a\", \"Katowice\", \"Bielsko-Bia\\u0142a\", \"Bielsko-Bia\\u0142a\", \"Bielsko-Bia\\u0142a\", \"Bielsko-Bia\\u0142a\", \"Katowice\", \"Katowice\", \"Katowice\", \"Katowice\", \"Katowice\", \"Katowice\", \"Katowice\", \"Katowice\", \"Katowice\", \"Katowice\", \"Katowice\", \"Katowice\", \"Katowice\", \"Katowice\", \"Katowice\", \"Katowice\", \"Katowice\", \"Katowice\", \"Katowice\", \"Katowice\", \"Katowice\", \"Katowice\", \"Katowice\", \"Katowice\", \"Tychy\", \"Katowice\", \"Katowice\", \"Katowice\", \"Katowice\", \"Katowice\", \"Katowice\", \"Katowice\", \"Tychy\", \"Katowice\", \"Katowice\", \"Tychy\", \"Katowice\", \"Katowice\", \"Katowice\", \"Katowice\", \"Katowice\", \"Katowice\", \"Katowice\", \"Katowice\", \"Katowice\", \"Katowice\", \"Katowice\", \"Bielsko-Bia\\u0142a\", \"Tychy\", \"Katowice\", \"Katowice\", \"Katowice\", \"Katowice\", \"Katowice\", \"Tychy\", \"Katowice\", \"Katowice\", \"Katowice\", \"Bielsko-Bia\\u0142a\", \"Katowice\", \"Katowice\", \"Katowice\", \"Bielsko-Bia\\u0142a\", \"Katowice\", \"Katowice\", \"Katowice\", \"Katowice\", \"Katowice\", \"Tychy\", \"Tychy\", \"Katowice\", \"Katowice\", \"Katowice\", \"Katowice\", \"Katowice\", \"Katowice\", \"Katowice\", \"Katowice\", \"Katowice\", \"Katowice\", \"Bielsko-Bia\\u0142a\", \"Katowice\", \"Katowice\", \"Katowice\", \"Katowice\", \"Katowice\", \"Katowice\", \"Katowice\", \"Katowice\", \"Katowice\", \"Katowice\", \"Katowice\", \"Katowice\", \"Katowice\", \"Katowice\", \"Katowice\", \"Katowice\", \"Katowice\", \"Katowice\", \"Tychy\", \"Katowice\", \"Katowice\", \"Katowice\", \"Katowice\", \"Bielsko-Bia\\u0142a\", \"Katowice\", \"Katowice\", \"Katowice\", \"Katowice\", \"Katowice\", \"Katowice\", \"Katowice\", \"Bielsko-Bia\\u0142a\", \"Katowice\", \"Katowice\", \"Katowice\", \"Tychy\", \"Katowice\", \"Katowice\", \"Katowice\", \"Katowice\", \"Katowice\", \"Katowice\", \"Katowice\", \"Katowice\", \"Bielsko-Bia\\u0142a\", \"Bielsko-Bia\\u0142a\", \"Bielsko-Bia\\u0142a\", \"Bielsko-Bia\\u0142a\", \"Katowice\", \"Tychy\", \"Bielsko-Bia\\u0142a\", \"Tychy\", \"Katowice\", \"Katowice\", \"Tychy\", \"Katowice\", \"Katowice\", \"Katowice\", \"Katowice\", \"Katowice\", \"Katowice\", \"Katowice\", \"Katowice\", \"Katowice\", \"Katowice\", \"Katowice\", \"Katowice\", \"Katowice\", \"Katowice\", \"Katowice\", \"Katowice\", \"Katowice\", \"Katowice\", \"Katowice\", \"Tychy\", \"Katowice\", \"Katowice\", \"Katowice\", \"Katowice\", \"Katowice\", \"Katowice\", \"Tychy\", \"Katowice\", \"Bielsko-Bia\\u0142a\", \"Tychy\", \"Katowice\", \"Katowice\", \"Katowice\", \"Bielsko-Bia\\u0142a\", \"Katowice\", \"Katowice\", \"Katowice\", \"Katowice\", \"Katowice\", \"Katowice\", \"Bielsko-Bia\\u0142a\", \"Katowice\", \"Katowice\", \"Katowice\", \"Katowice\", \"Katowice\", \"Katowice\", \"Katowice\", \"Katowice\", \"Katowice\", \"Tychy\", \"Tychy\", \"Katowice\", \"Katowice\", \"Bielsko-Bia\\u0142a\", \"Katowice\", \"Bielsko-Bia\\u0142a\", \"Katowice\", \"Katowice\", \"Katowice\", \"Katowice\", \"Katowice\", \"Bielsko-Bia\\u0142a\", \"Katowice\", \"Katowice\", \"Katowice\", \"Katowice\", \"Tychy\", \"Tychy\", \"Bielsko-Bia\\u0142a\", \"Katowice\", \"Katowice\", \"Katowice\", \"Katowice\", \"Katowice\", \"Katowice\", \"Katowice\", \"Katowice\", \"Katowice\", \"Katowice\", \"Katowice\", \"Katowice\", \"Katowice\", \"Katowice\", \"Katowice\", \"Bielsko-Bia\\u0142a\", \"Katowice\", \"Katowice\", \"Katowice\", \"Katowice\", \"Katowice\", \"Katowice\", \"Katowice\", \"Katowice\", \"Katowice\", \"Katowice\", \"Katowice\", \"Katowice\", \"Bielsko-Bia\\u0142a\", \"Katowice\", \"Katowice\", \"Katowice\", \"Katowice\", \"Katowice\", \"Katowice\", \"Katowice\", \"Katowice\", \"Katowice\", \"Bielsko-Bia\\u0142a\", \"Katowice\", \"Katowice\", \"Katowice\", \"Bielsko-Bia\\u0142a\", \"Katowice\", \"Katowice\", \"Katowice\", \"Bielsko-Bia\\u0142a\", \"Katowice\", \"Bielsko-Bia\\u0142a\", \"Katowice\", \"Katowice\", \"Katowice\", \"Bielsko-Bia\\u0142a\", \"Katowice\", \"Katowice\", \"Katowice\", \"Katowice\", \"Bielsko-Bia\\u0142a\", \"Katowice\", \"Katowice\", \"Katowice\", \"Katowice\", \"Katowice\", \"Katowice\", \"Katowice\", \"Katowice\", \"Katowice\", \"Katowice\", \"Tychy\", \"Bielsko-Bia\\u0142a\", \"Katowice\", \"Katowice\", \"Katowice\", \"Katowice\", \"Katowice\", \"Katowice\", \"Katowice\", \"Katowice\", \"Katowice\", \"Katowice\", \"Katowice\", \"Katowice\", \"Katowice\", \"Katowice\", \"Bielsko-Bia\\u0142a\", \"Katowice\", \"Katowice\", \"Bielsko-Bia\\u0142a\", \"Katowice\", \"Bielsko-Bia\\u0142a\", \"Katowice\", \"Katowice\", \"Tychy\", \"Bielsko-Bia\\u0142a\", \"Katowice\", \"Katowice\", \"Katowice\", \"Katowice\", \"Katowice\", \"Katowice\", \"Katowice\", \"Katowice\", \"Bielsko-Bia\\u0142a\", \"Katowice\", \"Katowice\", \"Katowice\", \"Katowice\", \"Bielsko-Bia\\u0142a\", \"Katowice\", \"Katowice\", \"Katowice\", \"Bielsko-Bia\\u0142a\", \"Katowice\", \"Katowice\", \"Katowice\", \"Katowice\", \"Katowice\", \"Katowice\", \"Katowice\", \"Katowice\", \"Katowice\", \"Bielsko-Bia\\u0142a\", \"Bielsko-Bia\\u0142a\", \"Katowice\", \"Katowice\", \"Katowice\", \"Katowice\", \"Katowice\", \"Katowice\", \"Katowice\", \"Katowice\", \"Katowice\", \"Katowice\", \"Bielsko-Bia\\u0142a\", \"Katowice\", \"Katowice\", \"Bielsko-Bia\\u0142a\", \"Katowice\", \"Katowice\", \"Katowice\", \"Katowice\", \"Katowice\", \"Katowice\", \"Katowice\", \"Katowice\", \"Katowice\", \"Bielsko-Bia\\u0142a\", \"Katowice\", \"Bielsko-Bia\\u0142a\", \"Katowice\", \"Katowice\", \"Katowice\", \"Katowice\", \"Katowice\", \"Bielsko-Bia\\u0142a\", \"Katowice\", \"Katowice\", \"Bielsko-Bia\\u0142a\", \"Katowice\", \"Bielsko-Bia\\u0142a\", \"Katowice\", \"Katowice\", \"Katowice\", \"Katowice\", \"Katowice\", \"Katowice\", \"Katowice\", \"Katowice\", \"Katowice\", \"Tychy\", \"Katowice\", \"Katowice\", \"Katowice\", \"Katowice\", \"Katowice\", \"Katowice\", \"Katowice\", \"Katowice\", \"Bielsko-Bia\\u0142a\", \"Katowice\", \"Katowice\", \"Katowice\", \"Tychy\", \"Katowice\", \"Katowice\", \"Katowice\", \"Katowice\", \"Katowice\", \"Katowice\", \"Katowice\", \"Katowice\", \"Katowice\", \"Katowice\", \"Katowice\", \"Bielsko-Bia\\u0142a\", \"Katowice\", \"Katowice\", \"Katowice\", \"Katowice\", \"Katowice\", \"Katowice\", \"Katowice\", \"Katowice\", \"Katowice\", \"Katowice\", \"Katowice\", \"Katowice\", \"Katowice\", \"Katowice\", \"Katowice\", \"Katowice\", \"Katowice\", \"Katowice\", \"Katowice\", \"Katowice\", \"Katowice\", \"Katowice\", \"Katowice\", \"Katowice\", \"Katowice\", \"Katowice\", \"Katowice\", \"Katowice\", \"Katowice\", \"Katowice\", \"Katowice\", \"Katowice\", \"Katowice\", \"Katowice\", \"Katowice\", \"Katowice\", \"Katowice\", \"Katowice\", \"Katowice\", \"Katowice\", \"Katowice\", \"Katowice\", \"Katowice\", \"Katowice\", \"Katowice\", \"Katowice\", \"Katowice\", \"Katowice\", \"Katowice\", \"Katowice\", \"Katowice\", \"Katowice\", \"Katowice\", \"Tychy\", \"Katowice\", \"Katowice\", \"Katowice\", \"Katowice\", \"Katowice\", \"Katowice\", \"Katowice\", \"Katowice\", \"Katowice\", \"Katowice\", \"Katowice\", \"Katowice\", \"Katowice\", \"Katowice\", \"Bielsko-Bia\\u0142a\", \"Katowice\", \"Katowice\", \"Katowice\", \"Katowice\", \"Katowice\", \"Katowice\", \"Katowice\", \"Bielsko-Bia\\u0142a\", \"Katowice\", \"Katowice\", \"Katowice\", \"Katowice\", \"Katowice\", \"Katowice\", \"Katowice\", \"Tychy\", \"Bielsko-Bia\\u0142a\", \"Katowice\", \"Katowice\", \"Katowice\", \"Katowice\", \"Katowice\", \"Katowice\", \"Katowice\", \"Katowice\", \"Katowice\", \"Katowice\", \"Katowice\", \"Katowice\", \"Katowice\", \"Katowice\", \"Katowice\", \"Katowice\", \"Katowice\", \"Katowice\", \"Katowice\", \"Katowice\", \"Katowice\", \"Katowice\", \"Katowice\", \"Katowice\", \"Katowice\", \"Katowice\", \"Katowice\", \"Katowice\", \"Katowice\", \"Katowice\", \"Tychy\", \"Katowice\", \"Katowice\", \"Katowice\", \"Katowice\", \"Katowice\", \"Katowice\", \"Katowice\", \"Katowice\", \"Katowice\", \"Katowice\", \"Katowice\", \"Katowice\", \"Katowice\", \"Katowice\", \"Katowice\", \"Bielsko-Bia\\u0142a\", \"Katowice\", \"Katowice\", \"Katowice\", \"Katowice\", \"Katowice\", \"Katowice\", \"Katowice\", \"Katowice\", \"Katowice\", \"Katowice\", \"Katowice\", \"Bielsko-Bia\\u0142a\", \"Katowice\", \"Katowice\", \"Katowice\", \"Katowice\", \"Katowice\", \"Katowice\", \"Katowice\", \"Bielsko-Bia\\u0142a\", \"Katowice\", \"Katowice\", \"Katowice\", \"Katowice\", \"Tychy\", \"Katowice\", \"Katowice\", \"Katowice\", \"Katowice\", \"Katowice\", \"Katowice\", \"Katowice\", \"Katowice\", \"Katowice\", \"Katowice\", \"Katowice\", \"Katowice\", \"Katowice\", \"Katowice\", \"Katowice\", \"Katowice\", \"Tychy\", \"Katowice\", \"Katowice\", \"Katowice\", \"Katowice\", \"Bielsko-Bia\\u0142a\", \"Katowice\", \"Katowice\", \"Bielsko-Bia\\u0142a\", \"Katowice\", \"Katowice\", \"Katowice\", \"Katowice\", \"Katowice\", \"Katowice\", \"Katowice\", \"Katowice\", \"Bielsko-Bia\\u0142a\", \"Katowice\", \"Katowice\", \"Tychy\", \"Tychy\", \"Katowice\", \"Katowice\", \"Katowice\", \"Katowice\", \"Katowice\", \"Katowice\", \"Katowice\", \"Katowice\", \"Katowice\", \"Katowice\", \"Katowice\", \"Tychy\", \"Katowice\", \"Katowice\", \"Tychy\", \"Katowice\", \"Bielsko-Bia\\u0142a\", \"Katowice\", \"Bielsko-Bia\\u0142a\", \"Katowice\", \"Katowice\", \"Katowice\", \"Katowice\", \"Katowice\", \"Katowice\", \"Katowice\", \"Katowice\", \"Katowice\", \"Katowice\", \"Katowice\", \"Katowice\", \"Katowice\", \"Katowice\", \"Katowice\", \"Katowice\", \"Katowice\", \"Katowice\", \"Katowice\", \"Katowice\", \"Katowice\", \"Katowice\", \"Katowice\", \"Katowice\", \"Katowice\", \"Tychy\", \"Katowice\", \"Katowice\", \"Katowice\", \"Katowice\", \"Katowice\", \"Katowice\", \"Tychy\", \"Katowice\", \"Katowice\", \"Katowice\", \"Katowice\"], \"xaxis\": \"x\", \"y\": [43, 35, 43, 30, 35, 50, 37, 35, 47, 28, 40, 31, 39, 39, 40, 50, 37, 46, 31, 24, 18, 25, 45, 41, 40, 41, 31, 42, 43, 41, 18, 29, 21, 16, 47, 19, 40, 35, 28, 45, 47, 43, 44, 47, 24, 28, 36, 48, 43, 17, 38, 35, 49, 38, 42, 36, 50, 40, 40, 42, 26, 40, 34, 38, 27, 44, 30, 41, 50, 36, 32, 36, 42, 39, 36, 23, 49, 23, 25, 32, 40, 39, 32, 46, 41, 39, 33, 38, 44, 23, 48, 48, 40, 46, 35, 26, 22, 30, 40, 25, 33, 37, 41, 38, 38, 26, 45, 22, 30, 38, 38, 49, 30, 48, 40, 38, 42, 40, 41, 45, 50, 50, 31, 41, 49, 38, 16, 36, 43, 35, 37, 32, 27, 46, 44, 39, 28, 27, 50, 38, 50, 40, 50, 50, 45, 42, 40, 37, 35, 46, 25, 48, 38, 25, 35, 49, 25, 44, 31, 29, 48, 16, 40, 42, 43, 25, 34, 49, 38, 50, 18, 39, 47, 36, 50, 47, 30, 35, 39, 38, 45, 45, 49, 35, 40, 47, 29, 30, 46, 36, 38, 38, 24, 44, 26, 29, 34, 41, 42, 38, 40, 39, 42, 29, 50, 47, 45, 38, 44, 46, 33, 44, 48, 44, 29, 34, 38, 31, 38, 14, 48, 40, 33, 35, 50, 35, 32, 42, 35, 43, 38, 49, 40, 48, 43, 36, 46, 42, 50, 38, 18, 37, 40, 45, 48, 33, 32, 20, 50, 35, 38, 30, 41, 39, 47, 38, 36, 40, 27, 45, 29, 35, 32, 16, 26, 32, 48, 43, 40, 36, 43, 30, 37, 38, 43, 43, 24, 37, 36, 25, 36, 23, 42, 50, 49, 38, 32, 30, 34, 27, 41, 29, 20, 48, 48, 39, 39, 43, 46, 33, 47, 37, 43, 34, 36, 25, 44, 32, 30, 41, 40, 37, 45, 38, 39, 48, 43, 37, 50, 21, 23, 38, 38, 39, 38, 40, 36, 33, 49, 20, 43, 49, 39, 43, 35, 50, 35, 48, 21, 43, 42, 25, 28, 31, 41, 22, 41, 47, 44, 37, 36, 44, 45, 40, 26, 42, 34, 41, 30, 50, 36, 38, 38, 50, 17, 40, 44, 48, 37, 48, 25, 47, 30, 36, 35, 47, 40, 42, 40, 48, 39, 20, 45, 28, 10, 20, 20, 20, 30, 23, 17, 35, 14, 35, 28, 26, 14, 45, 21, 26, 30, 18, 39, 50, 46, 27, 32, 33, 29, 40, 35, 49, 37, 50, 50, 30, 43, 50, 50, 40, 44, 36, 40, 37, 36, 40, 40, 35, 36, 46, 50, 43, 39, 38, 20, 25, 29, 40, 44, 34, 38, 40, 36, 42, 24, 46, 24, 21, 29, 48, 30, 46, 48, 17, 20, 38, 25, 35, 16, 37, 28, 15, 50, 46, 40, 37, 30, 30, 26, 34, 48, 41, 50, 39, 34, 39, 17, 43, 27, 42, 49, 30, 29, 40, 48, 40, 43, 39, 38, 50, 47, 43, 43, 42, 39, 38, 43, 43, 43, 38, 45, 22, 49, 28, 38, 30, 38, 47, 46, 45, 30, 31, 39, 38, 40, 47, 20, 40, 26, 45, 33, 31, 31, 42, 30, 40, 43, 26, 38, 40, 48, 30, 28, 27, 16, 42, 42, 43, 38, 50, 32, 32, 46, 43, 39, 33, 36, 44, 47, 33, 46, 50, 36, 47, 48, 32, 32, 30, 27, 40, 36, 36, 33, 48, 31, 46, 29, 44, 34, 33, 45, 44, 30, 35, 38, 25, 38, 39, 36, 38, 18, 39, 45, 19, 48, 38, 21, 50, 43, 31, 41, 38, 36, 21, 10, 45, 45, 47, 43, 42, 40, 33, 39, 43, 30, 23, 45, 38, 27, 32, 30, 19, 37, 26, 27, 23, 46, 27, 38, 37, 50, 36, 38, 39, 41, 44, 40, 35, 37, 50, 46, 41, 40, 28, 28, 36, 30, 40, 50, 25, 25, 34, 30, 21, 29, 18, 44, 41, 28, 31, 30, 38, 44, 37, 38, 20, 20, 49, 30, 39, 48, 48, 40, 39, 39, 38, 26, 30, 47, 38, 50, 40, 39, 45, 39, 50, 26, 23, 19, 47, 45, 19, 43, 40, 48, 37, 31, 37, 46, 38, 44, 50, 28, 47, 25, 38, 35, 43, 22, 35, 41, 45, 22, 20, 41, 49, 40, 34, 31, 45, 50, 41, 49, 49, 35, 10, 13, 11, 31, 38, 49, 29, 49, 50, 22, 26, 41, 35, 48, 38, 40, 40, 48, 43, 40, 26, 25, 28, 26, 18, 43, 17, 32, 49, 45, 22, 45, 45, 42, 42, 38, 17, 38, 30, 32, 42, 31, 30, 44, 49, 46, 37, 37, 42, 39, 34, 29, 49, 20, 30, 50, 36, 25, 32, 48, 30, 18, 48, 36, 46, 37, 40, 35, 42, 41, 43, 16, 35, 35, 43, 45, 29, 43, 36, 39, 28, 44, 40, 35, 23, 38, 30, 38, 44, 34, 21, 8, 38, 45, 43, 9, 27, 48, 22, 26, 20, 37, 25, 44, 45, 36, 29, 44, 25, 27, 45, 18, 17, 22, 20, 25, 18, 22, 17, 50, 35, 36, 15, 10, 10, 23, 38, 28, 38, 37, 37, 37, 28, 28, 29, 29, 48, 28, 49, 45, 10, 11, 48, 36, 48, 18, 29, 50, 35, 42, 30, 50, 25, 30, 22, 24, 29, 34, 30, 15, 38, 29, 16, 21, 49, 50, 43, 47, 28, 20, 47, 11, 13, 24, 43, 10, 29, 38, 36, 36, 25, 44, 29, 15, 45, 47, 37, 42, 37, 37, 18, 43, 45, 10, 9, 38, 25, 35, 28, 27, 35, 40, 42, 22, 36, 28, 30, 40, 25, 46, 38, 18, 37, 38, 38, 46, 28, 49, 40, 19, 42, 27, 50, 37, 39, 34, 42, 50, 40, 34, 27, 43, 37, 27, 39, 50, 28, 45, 28, 36, 40, 23, 40, 23, 41, 37], \"yaxis\": \"y\"}],                        {\"barmode\": \"relative\", \"legend\": {\"tracegroupgap\": 0}, \"template\": {\"data\": {\"bar\": [{\"error_x\": {\"color\": \"#2a3f5f\"}, \"error_y\": {\"color\": \"#2a3f5f\"}, \"marker\": {\"line\": {\"color\": \"#E5ECF6\", \"width\": 0.5}}, \"type\": \"bar\"}], \"barpolar\": [{\"marker\": {\"line\": {\"color\": \"#E5ECF6\", \"width\": 0.5}}, \"type\": \"barpolar\"}], \"carpet\": [{\"aaxis\": {\"endlinecolor\": \"#2a3f5f\", \"gridcolor\": \"white\", \"linecolor\": \"white\", \"minorgridcolor\": \"white\", \"startlinecolor\": \"#2a3f5f\"}, \"baxis\": {\"endlinecolor\": \"#2a3f5f\", \"gridcolor\": \"white\", \"linecolor\": \"white\", \"minorgridcolor\": \"white\", \"startlinecolor\": \"#2a3f5f\"}, \"type\": \"carpet\"}], \"choropleth\": [{\"colorbar\": {\"outlinewidth\": 0, \"ticks\": \"\"}, \"type\": \"choropleth\"}], \"contour\": [{\"colorbar\": {\"outlinewidth\": 0, \"ticks\": \"\"}, \"colorscale\": [[0.0, \"#0d0887\"], [0.1111111111111111, \"#46039f\"], [0.2222222222222222, \"#7201a8\"], [0.3333333333333333, \"#9c179e\"], [0.4444444444444444, \"#bd3786\"], [0.5555555555555556, \"#d8576b\"], [0.6666666666666666, \"#ed7953\"], [0.7777777777777778, \"#fb9f3a\"], [0.8888888888888888, \"#fdca26\"], [1.0, \"#f0f921\"]], \"type\": \"contour\"}], \"contourcarpet\": [{\"colorbar\": {\"outlinewidth\": 0, \"ticks\": \"\"}, \"type\": \"contourcarpet\"}], \"heatmap\": [{\"colorbar\": {\"outlinewidth\": 0, \"ticks\": \"\"}, \"colorscale\": [[0.0, \"#0d0887\"], [0.1111111111111111, \"#46039f\"], [0.2222222222222222, \"#7201a8\"], [0.3333333333333333, \"#9c179e\"], [0.4444444444444444, \"#bd3786\"], [0.5555555555555556, \"#d8576b\"], [0.6666666666666666, \"#ed7953\"], [0.7777777777777778, \"#fb9f3a\"], [0.8888888888888888, \"#fdca26\"], [1.0, \"#f0f921\"]], \"type\": \"heatmap\"}], \"heatmapgl\": [{\"colorbar\": {\"outlinewidth\": 0, \"ticks\": \"\"}, \"colorscale\": [[0.0, \"#0d0887\"], [0.1111111111111111, \"#46039f\"], [0.2222222222222222, \"#7201a8\"], [0.3333333333333333, \"#9c179e\"], [0.4444444444444444, \"#bd3786\"], [0.5555555555555556, \"#d8576b\"], [0.6666666666666666, \"#ed7953\"], [0.7777777777777778, \"#fb9f3a\"], [0.8888888888888888, \"#fdca26\"], [1.0, \"#f0f921\"]], \"type\": \"heatmapgl\"}], \"histogram\": [{\"marker\": {\"colorbar\": {\"outlinewidth\": 0, \"ticks\": \"\"}}, \"type\": \"histogram\"}], \"histogram2d\": [{\"colorbar\": {\"outlinewidth\": 0, \"ticks\": \"\"}, \"colorscale\": [[0.0, \"#0d0887\"], [0.1111111111111111, \"#46039f\"], [0.2222222222222222, \"#7201a8\"], [0.3333333333333333, \"#9c179e\"], [0.4444444444444444, \"#bd3786\"], [0.5555555555555556, \"#d8576b\"], [0.6666666666666666, \"#ed7953\"], [0.7777777777777778, \"#fb9f3a\"], [0.8888888888888888, \"#fdca26\"], [1.0, \"#f0f921\"]], \"type\": \"histogram2d\"}], \"histogram2dcontour\": [{\"colorbar\": {\"outlinewidth\": 0, \"ticks\": \"\"}, \"colorscale\": [[0.0, \"#0d0887\"], [0.1111111111111111, \"#46039f\"], [0.2222222222222222, \"#7201a8\"], [0.3333333333333333, \"#9c179e\"], [0.4444444444444444, \"#bd3786\"], [0.5555555555555556, \"#d8576b\"], [0.6666666666666666, \"#ed7953\"], [0.7777777777777778, \"#fb9f3a\"], [0.8888888888888888, \"#fdca26\"], [1.0, \"#f0f921\"]], \"type\": \"histogram2dcontour\"}], \"mesh3d\": [{\"colorbar\": {\"outlinewidth\": 0, \"ticks\": \"\"}, \"type\": \"mesh3d\"}], \"parcoords\": [{\"line\": {\"colorbar\": {\"outlinewidth\": 0, \"ticks\": \"\"}}, \"type\": \"parcoords\"}], \"pie\": [{\"automargin\": true, \"type\": \"pie\"}], \"scatter\": [{\"marker\": {\"colorbar\": {\"outlinewidth\": 0, \"ticks\": \"\"}}, \"type\": \"scatter\"}], \"scatter3d\": [{\"line\": {\"colorbar\": {\"outlinewidth\": 0, \"ticks\": \"\"}}, \"marker\": {\"colorbar\": {\"outlinewidth\": 0, \"ticks\": \"\"}}, \"type\": \"scatter3d\"}], \"scattercarpet\": [{\"marker\": {\"colorbar\": {\"outlinewidth\": 0, \"ticks\": \"\"}}, \"type\": \"scattercarpet\"}], \"scattergeo\": [{\"marker\": {\"colorbar\": {\"outlinewidth\": 0, \"ticks\": \"\"}}, \"type\": \"scattergeo\"}], \"scattergl\": [{\"marker\": {\"colorbar\": {\"outlinewidth\": 0, \"ticks\": \"\"}}, \"type\": \"scattergl\"}], \"scattermapbox\": [{\"marker\": {\"colorbar\": {\"outlinewidth\": 0, \"ticks\": \"\"}}, \"type\": \"scattermapbox\"}], \"scatterpolar\": [{\"marker\": {\"colorbar\": {\"outlinewidth\": 0, \"ticks\": \"\"}}, \"type\": \"scatterpolar\"}], \"scatterpolargl\": [{\"marker\": {\"colorbar\": {\"outlinewidth\": 0, \"ticks\": \"\"}}, \"type\": \"scatterpolargl\"}], \"scatterternary\": [{\"marker\": {\"colorbar\": {\"outlinewidth\": 0, \"ticks\": \"\"}}, \"type\": \"scatterternary\"}], \"surface\": [{\"colorbar\": {\"outlinewidth\": 0, \"ticks\": \"\"}, \"colorscale\": [[0.0, \"#0d0887\"], [0.1111111111111111, \"#46039f\"], [0.2222222222222222, \"#7201a8\"], [0.3333333333333333, \"#9c179e\"], [0.4444444444444444, \"#bd3786\"], [0.5555555555555556, \"#d8576b\"], [0.6666666666666666, \"#ed7953\"], [0.7777777777777778, \"#fb9f3a\"], [0.8888888888888888, \"#fdca26\"], [1.0, \"#f0f921\"]], \"type\": \"surface\"}], \"table\": [{\"cells\": {\"fill\": {\"color\": \"#EBF0F8\"}, \"line\": {\"color\": \"white\"}}, \"header\": {\"fill\": {\"color\": \"#C8D4E3\"}, \"line\": {\"color\": \"white\"}}, \"type\": \"table\"}]}, \"layout\": {\"annotationdefaults\": {\"arrowcolor\": \"#2a3f5f\", \"arrowhead\": 0, \"arrowwidth\": 1}, \"autotypenumbers\": \"strict\", \"coloraxis\": {\"colorbar\": {\"outlinewidth\": 0, \"ticks\": \"\"}}, \"colorscale\": {\"diverging\": [[0, \"#8e0152\"], [0.1, \"#c51b7d\"], [0.2, \"#de77ae\"], [0.3, \"#f1b6da\"], [0.4, \"#fde0ef\"], [0.5, \"#f7f7f7\"], [0.6, \"#e6f5d0\"], [0.7, \"#b8e186\"], [0.8, \"#7fbc41\"], [0.9, \"#4d9221\"], [1, \"#276419\"]], \"sequential\": [[0.0, \"#0d0887\"], [0.1111111111111111, \"#46039f\"], [0.2222222222222222, \"#7201a8\"], [0.3333333333333333, \"#9c179e\"], [0.4444444444444444, \"#bd3786\"], [0.5555555555555556, \"#d8576b\"], [0.6666666666666666, \"#ed7953\"], [0.7777777777777778, \"#fb9f3a\"], [0.8888888888888888, \"#fdca26\"], [1.0, \"#f0f921\"]], \"sequentialminus\": [[0.0, \"#0d0887\"], [0.1111111111111111, \"#46039f\"], [0.2222222222222222, \"#7201a8\"], [0.3333333333333333, \"#9c179e\"], [0.4444444444444444, \"#bd3786\"], [0.5555555555555556, \"#d8576b\"], [0.6666666666666666, \"#ed7953\"], [0.7777777777777778, \"#fb9f3a\"], [0.8888888888888888, \"#fdca26\"], [1.0, \"#f0f921\"]]}, \"colorway\": [\"#636efa\", \"#EF553B\", \"#00cc96\", \"#ab63fa\", \"#FFA15A\", \"#19d3f3\", \"#FF6692\", \"#B6E880\", \"#FF97FF\", \"#FECB52\"], \"font\": {\"color\": \"#2a3f5f\"}, \"geo\": {\"bgcolor\": \"white\", \"lakecolor\": \"white\", \"landcolor\": \"#E5ECF6\", \"showlakes\": true, \"showland\": true, \"subunitcolor\": \"white\"}, \"hoverlabel\": {\"align\": \"left\"}, \"hovermode\": \"closest\", \"mapbox\": {\"style\": \"light\"}, \"paper_bgcolor\": \"white\", \"plot_bgcolor\": \"#E5ECF6\", \"polar\": {\"angularaxis\": {\"gridcolor\": \"white\", \"linecolor\": \"white\", \"ticks\": \"\"}, \"bgcolor\": \"#E5ECF6\", \"radialaxis\": {\"gridcolor\": \"white\", \"linecolor\": \"white\", \"ticks\": \"\"}}, \"scene\": {\"xaxis\": {\"backgroundcolor\": \"#E5ECF6\", \"gridcolor\": \"white\", \"gridwidth\": 2, \"linecolor\": \"white\", \"showbackground\": true, \"ticks\": \"\", \"zerolinecolor\": \"white\"}, \"yaxis\": {\"backgroundcolor\": \"#E5ECF6\", \"gridcolor\": \"white\", \"gridwidth\": 2, \"linecolor\": \"white\", \"showbackground\": true, \"ticks\": \"\", \"zerolinecolor\": \"white\"}, \"zaxis\": {\"backgroundcolor\": \"#E5ECF6\", \"gridcolor\": \"white\", \"gridwidth\": 2, \"linecolor\": \"white\", \"showbackground\": true, \"ticks\": \"\", \"zerolinecolor\": \"white\"}}, \"shapedefaults\": {\"line\": {\"color\": \"#2a3f5f\"}}, \"ternary\": {\"aaxis\": {\"gridcolor\": \"white\", \"linecolor\": \"white\", \"ticks\": \"\"}, \"baxis\": {\"gridcolor\": \"white\", \"linecolor\": \"white\", \"ticks\": \"\"}, \"bgcolor\": \"#E5ECF6\", \"caxis\": {\"gridcolor\": \"white\", \"linecolor\": \"white\", \"ticks\": \"\"}}, \"title\": {\"x\": 0.05}, \"xaxis\": {\"automargin\": true, \"gridcolor\": \"white\", \"linecolor\": \"white\", \"ticks\": \"\", \"title\": {\"standoff\": 15}, \"zerolinecolor\": \"white\", \"zerolinewidth\": 2}, \"yaxis\": {\"automargin\": true, \"gridcolor\": \"white\", \"linecolor\": \"white\", \"ticks\": \"\", \"title\": {\"standoff\": 15}, \"zerolinecolor\": \"white\", \"zerolinewidth\": 2}}}, \"title\": {\"text\": \"Dost\\u0119pna powierzchnia z Twojego wyszukiwania wg. miasta. [m2]\"}, \"xaxis\": {\"anchor\": \"y\", \"domain\": [0.0, 1.0], \"title\": {\"text\": \"miasto\"}}, \"yaxis\": {\"anchor\": \"x\", \"domain\": [0.0, 1.0], \"title\": {\"text\": \"powierzchnia\"}}},                        {\"responsive\": true}                    ).then(function(){\n",
       "                            \n",
       "var gd = document.getElementById('de3128de-a892-4932-b4f8-96364e04700c');\n",
       "var x = new MutationObserver(function (mutations, observer) {{\n",
       "        var display = window.getComputedStyle(gd).display;\n",
       "        if (!display || display === 'none') {{\n",
       "            console.log([gd, 'removed!']);\n",
       "            Plotly.purge(gd);\n",
       "            observer.disconnect();\n",
       "        }}\n",
       "}});\n",
       "\n",
       "// Listen for the removal of the full notebook cells\n",
       "var notebookContainer = gd.closest('#notebook-container');\n",
       "if (notebookContainer) {{\n",
       "    x.observe(notebookContainer, {childList: true});\n",
       "}}\n",
       "\n",
       "// Listen for the clearing of the current output cell\n",
       "var outputEl = gd.closest('.output');\n",
       "if (outputEl) {{\n",
       "    x.observe(outputEl, {childList: true});\n",
       "}}\n",
       "\n",
       "                        })                };                });            </script>        </div>"
      ]
     },
     "metadata": {},
     "output_type": "display_data"
    }
   ],
   "source": [
    "powierzchnia_miasto = px.bar(tabela,\n",
    "                      y = 'powierzchnia',\n",
    "                      x = 'miasto',\n",
    "                      title = 'Dostępna powierzchnia z Twojego wyszukiwania wg. miasta. [m2]',\n",
    "                      )\n",
    "powierzchnia_miasto.show()"
   ]
  },
  {
   "cell_type": "code",
   "execution_count": 118,
   "metadata": {},
   "outputs": [
    {
     "data": {
      "application/vnd.plotly.v1+json": {
       "config": {
        "plotlyServerURL": "https://plot.ly"
       },
       "data": [
        {
         "alignmentgroup": "True",
         "boxpoints": "all",
         "customdata": [
          [
           43,
           2,
           "Katowice"
          ],
          [
           35,
           2,
           "Katowice"
          ],
          [
           43,
           2,
           "Katowice"
          ],
          [
           30,
           1,
           "Bielsko-Biała"
          ],
          [
           35,
           2,
           "Katowice"
          ],
          [
           50,
           2,
           "Katowice"
          ],
          [
           37,
           2,
           "Katowice"
          ],
          [
           35,
           2,
           "Katowice"
          ],
          [
           47,
           2,
           "Bielsko-Biała"
          ],
          [
           28,
           1,
           "Katowice"
          ],
          [
           40,
           2,
           "Katowice"
          ],
          [
           31,
           1,
           "Bielsko-Biała"
          ],
          [
           39,
           2,
           "Katowice"
          ],
          [
           39,
           1,
           "Katowice"
          ],
          [
           40,
           2,
           "Katowice"
          ],
          [
           50,
           2,
           "Katowice"
          ],
          [
           37,
           1,
           "Katowice"
          ],
          [
           46,
           2,
           "Katowice"
          ],
          [
           31,
           1,
           "Tychy"
          ],
          [
           24,
           1,
           "Katowice"
          ],
          [
           18,
           1,
           "Katowice"
          ],
          [
           25,
           1,
           "Katowice"
          ],
          [
           45,
           2,
           "Katowice"
          ],
          [
           41,
           1,
           "Bielsko-Biała"
          ],
          [
           40,
           2,
           "Katowice"
          ],
          [
           41,
           1,
           "Tychy"
          ],
          [
           31,
           2,
           "Katowice"
          ],
          [
           42,
           2,
           "Tychy"
          ],
          [
           43,
           2,
           "Katowice"
          ],
          [
           41,
           1,
           "Katowice"
          ],
          [
           18,
           1,
           "Katowice"
          ],
          [
           29,
           1,
           "Bielsko-Biała"
          ],
          [
           21,
           1,
           "Katowice"
          ],
          [
           16,
           1,
           "Katowice"
          ],
          [
           47,
           2,
           "Katowice"
          ],
          [
           19,
           1,
           "Katowice"
          ],
          [
           40,
           2,
           "Katowice"
          ],
          [
           35,
           2,
           "Katowice"
          ],
          [
           28,
           1,
           "Katowice"
          ],
          [
           45,
           2,
           "Bielsko-Biała"
          ],
          [
           47,
           2,
           "Katowice"
          ],
          [
           43,
           2,
           "Tychy"
          ],
          [
           44,
           2,
           "Katowice"
          ],
          [
           47,
           2,
           "Tychy"
          ],
          [
           24,
           1,
           "Katowice"
          ],
          [
           28,
           1,
           "Katowice"
          ],
          [
           36,
           2,
           "Bielsko-Biała"
          ],
          [
           48,
           3,
           "Bielsko-Biała"
          ],
          [
           43,
           2,
           "Bielsko-Biała"
          ],
          [
           17,
           1,
           "Katowice"
          ],
          [
           38,
           2,
           "Katowice"
          ],
          [
           35,
           2,
           "Katowice"
          ],
          [
           49,
           2,
           "Katowice"
          ],
          [
           38,
           2,
           "Tychy"
          ],
          [
           42,
           2,
           "Katowice"
          ],
          [
           36,
           1,
           "Katowice"
          ],
          [
           50,
           3,
           "Bielsko-Biała"
          ],
          [
           40,
           2,
           "Katowice"
          ],
          [
           40,
           2,
           "Tychy"
          ],
          [
           42,
           2,
           "Katowice"
          ],
          [
           26,
           1,
           "Bielsko-Biała"
          ],
          [
           40,
           2,
           "Katowice"
          ],
          [
           34,
           1,
           "Katowice"
          ],
          [
           38,
           2,
           "Bielsko-Biała"
          ],
          [
           27,
           1,
           "Katowice"
          ],
          [
           44,
           2,
           "Bielsko-Biała"
          ],
          [
           30,
           1,
           "Katowice"
          ],
          [
           41,
           2,
           "Bielsko-Biała"
          ],
          [
           50,
           2,
           "Katowice"
          ],
          [
           36,
           2,
           "Tychy"
          ],
          [
           32,
           1,
           "Katowice"
          ],
          [
           36,
           2,
           "Katowice"
          ],
          [
           42,
           2,
           "Katowice"
          ],
          [
           39,
           1,
           "Katowice"
          ],
          [
           36,
           2,
           "Katowice"
          ],
          [
           23,
           1,
           "Katowice"
          ],
          [
           49,
           2,
           "Katowice"
          ],
          [
           23,
           1,
           "Katowice"
          ],
          [
           25,
           1,
           "Katowice"
          ],
          [
           32,
           2,
           "Katowice"
          ],
          [
           40,
           2,
           "Katowice"
          ],
          [
           39,
           2,
           "Katowice"
          ],
          [
           32,
           1,
           "Katowice"
          ],
          [
           46,
           3,
           "Bielsko-Biała"
          ],
          [
           41,
           2,
           "Katowice"
          ],
          [
           39,
           2,
           "Katowice"
          ],
          [
           33,
           2,
           "Katowice"
          ],
          [
           38,
           2,
           "Katowice"
          ],
          [
           44,
           2,
           "Katowice"
          ],
          [
           23,
           1,
           "Katowice"
          ],
          [
           48,
           2,
           "Bielsko-Biała"
          ],
          [
           48,
           2,
           "Katowice"
          ],
          [
           40,
           1,
           "Katowice"
          ],
          [
           46,
           2,
           "Katowice"
          ],
          [
           35,
           1,
           "Katowice"
          ],
          [
           26,
           1,
           "Katowice"
          ],
          [
           22,
           1,
           "Katowice"
          ],
          [
           30,
           1,
           "Bielsko-Biała"
          ],
          [
           40,
           2,
           "Bielsko-Biała"
          ],
          [
           25,
           1,
           "Bielsko-Biała"
          ],
          [
           33,
           2,
           "Katowice"
          ],
          [
           37,
           2,
           "Katowice"
          ],
          [
           41,
           2,
           "Tychy"
          ],
          [
           38,
           1,
           "Katowice"
          ],
          [
           38,
           2,
           "Katowice"
          ],
          [
           26,
           1,
           "Katowice"
          ],
          [
           45,
           2,
           "Bielsko-Biała"
          ],
          [
           22,
           1,
           "Katowice"
          ],
          [
           30,
           2,
           "Katowice"
          ],
          [
           38,
           2,
           "Bielsko-Biała"
          ],
          [
           38,
           2,
           "Katowice"
          ],
          [
           49,
           2,
           "Katowice"
          ],
          [
           30,
           1,
           "Bielsko-Biała"
          ],
          [
           48,
           2,
           "Bielsko-Biała"
          ],
          [
           40,
           2,
           "Katowice"
          ],
          [
           38,
           1,
           "Katowice"
          ],
          [
           42,
           2,
           "Katowice"
          ],
          [
           40,
           2,
           "Katowice"
          ],
          [
           41,
           2,
           "Bielsko-Biała"
          ],
          [
           45,
           2,
           "Katowice"
          ],
          [
           50,
           2,
           "Katowice"
          ],
          [
           50,
           2,
           "Tychy"
          ],
          [
           31,
           2,
           "Katowice"
          ],
          [
           41,
           2,
           "Katowice"
          ],
          [
           49,
           2,
           "Katowice"
          ],
          [
           38,
           2,
           "Katowice"
          ],
          [
           16,
           1,
           "Katowice"
          ],
          [
           36,
           2,
           "Katowice"
          ],
          [
           43,
           2,
           "Katowice"
          ],
          [
           35,
           1,
           "Bielsko-Biała"
          ],
          [
           37,
           2,
           "Katowice"
          ],
          [
           32,
           1,
           "Bielsko-Biała"
          ],
          [
           27,
           1,
           "Tychy"
          ],
          [
           46,
           2,
           "Katowice"
          ],
          [
           44,
           2,
           "Katowice"
          ],
          [
           39,
           2,
           "Katowice"
          ],
          [
           28,
           1,
           "Katowice"
          ],
          [
           27,
           1,
           "Katowice"
          ],
          [
           50,
           2,
           "Katowice"
          ],
          [
           38,
           2,
           "Tychy"
          ],
          [
           50,
           2,
           "Bielsko-Biała"
          ],
          [
           40,
           2,
           "Katowice"
          ],
          [
           50,
           2,
           "Bielsko-Biała"
          ],
          [
           50,
           2,
           "Katowice"
          ],
          [
           45,
           2,
           "Katowice"
          ],
          [
           42,
           2,
           "Katowice"
          ],
          [
           40,
           2,
           "Katowice"
          ],
          [
           37,
           2,
           "Katowice"
          ],
          [
           35,
           1,
           "Katowice"
          ],
          [
           46,
           2,
           "Katowice"
          ],
          [
           25,
           1,
           "Katowice"
          ],
          [
           48,
           2,
           "Katowice"
          ],
          [
           38,
           2,
           "Katowice"
          ],
          [
           25,
           1,
           "Katowice"
          ],
          [
           35,
           2,
           "Katowice"
          ],
          [
           49,
           2,
           "Bielsko-Biała"
          ],
          [
           25,
           1,
           "Katowice"
          ],
          [
           44,
           2,
           "Katowice"
          ],
          [
           31,
           2,
           "Katowice"
          ],
          [
           29,
           1,
           "Katowice"
          ],
          [
           48,
           2,
           "Katowice"
          ],
          [
           16,
           1,
           "Katowice"
          ],
          [
           40,
           2,
           "Katowice"
          ],
          [
           42,
           2,
           "Katowice"
          ],
          [
           43,
           2,
           "Katowice"
          ],
          [
           25,
           1,
           "Katowice"
          ],
          [
           34,
           1,
           "Bielsko-Biała"
          ],
          [
           49,
           3,
           "Katowice"
          ],
          [
           38,
           1,
           "Bielsko-Biała"
          ],
          [
           50,
           2,
           "Katowice"
          ],
          [
           18,
           1,
           "Katowice"
          ],
          [
           39,
           2,
           "Tychy"
          ],
          [
           47,
           2,
           "Katowice"
          ],
          [
           36,
           2,
           "Katowice"
          ],
          [
           50,
           2,
           "Katowice"
          ],
          [
           47,
           2,
           "Katowice"
          ],
          [
           30,
           2,
           "Katowice"
          ],
          [
           35,
           2,
           "Katowice"
          ],
          [
           39,
           2,
           "Katowice"
          ],
          [
           38,
           2,
           "Tychy"
          ],
          [
           45,
           2,
           "Bielsko-Biała"
          ],
          [
           45,
           2,
           "Katowice"
          ],
          [
           49,
           2,
           "Bielsko-Biała"
          ],
          [
           35,
           2,
           "Katowice"
          ],
          [
           40,
           2,
           "Katowice"
          ],
          [
           47,
           3,
           "Katowice"
          ],
          [
           29,
           2,
           "Bielsko-Biała"
          ],
          [
           30,
           2,
           "Katowice"
          ],
          [
           46,
           2,
           "Katowice"
          ],
          [
           36,
           2,
           "Bielsko-Biała"
          ],
          [
           38,
           2,
           "Katowice"
          ],
          [
           38,
           2,
           "Bielsko-Biała"
          ],
          [
           24,
           1,
           "Katowice"
          ],
          [
           44,
           2,
           "Bielsko-Biała"
          ],
          [
           26,
           1,
           "Katowice"
          ],
          [
           29,
           1,
           "Bielsko-Biała"
          ],
          [
           34,
           1,
           "Katowice"
          ],
          [
           41,
           2,
           "Katowice"
          ],
          [
           42,
           2,
           "Katowice"
          ],
          [
           38,
           2,
           "Katowice"
          ],
          [
           40,
           2,
           "Tychy"
          ],
          [
           39,
           2,
           "Bielsko-Biała"
          ],
          [
           42,
           2,
           "Katowice"
          ],
          [
           29,
           1,
           "Katowice"
          ],
          [
           50,
           2,
           "Katowice"
          ],
          [
           47,
           2,
           "Katowice"
          ],
          [
           45,
           2,
           "Katowice"
          ],
          [
           38,
           2,
           "Katowice"
          ],
          [
           44,
           2,
           "Katowice"
          ],
          [
           46,
           2,
           "Katowice"
          ],
          [
           33,
           2,
           "Bielsko-Biała"
          ],
          [
           44,
           2,
           "Katowice"
          ],
          [
           48,
           2,
           "Katowice"
          ],
          [
           44,
           2,
           "Bielsko-Biała"
          ],
          [
           29,
           1,
           "Bielsko-Biała"
          ],
          [
           34,
           1,
           "Katowice"
          ],
          [
           38,
           2,
           "Katowice"
          ],
          [
           31,
           2,
           "Katowice"
          ],
          [
           38,
           2,
           "Katowice"
          ],
          [
           14,
           1,
           "Katowice"
          ],
          [
           48,
           2,
           "Katowice"
          ],
          [
           40,
           1,
           "Katowice"
          ],
          [
           33,
           2,
           "Katowice"
          ],
          [
           35,
           2,
           "Katowice"
          ],
          [
           50,
           3,
           "Katowice"
          ],
          [
           35,
           2,
           "Katowice"
          ],
          [
           32,
           1,
           "Katowice"
          ],
          [
           42,
           2,
           "Katowice"
          ],
          [
           35,
           2,
           "Katowice"
          ],
          [
           43,
           2,
           "Katowice"
          ],
          [
           38,
           2,
           "Katowice"
          ],
          [
           49,
           3,
           "Katowice"
          ],
          [
           40,
           2,
           "Katowice"
          ],
          [
           48,
           1,
           "Katowice"
          ],
          [
           43,
           1,
           "Katowice"
          ],
          [
           36,
           1,
           "Bielsko-Biała"
          ],
          [
           46,
           2,
           "Katowice"
          ],
          [
           42,
           2,
           "Tychy"
          ],
          [
           50,
           3,
           "Katowice"
          ],
          [
           38,
           1,
           "Katowice"
          ],
          [
           18,
           1,
           "Katowice"
          ],
          [
           37,
           1,
           "Katowice"
          ],
          [
           40,
           2,
           "Katowice"
          ],
          [
           45,
           2,
           "Katowice"
          ],
          [
           48,
           2,
           "Tychy"
          ],
          [
           33,
           2,
           "Katowice"
          ],
          [
           32,
           2,
           "Katowice"
          ],
          [
           20,
           1,
           "Katowice"
          ],
          [
           50,
           2,
           "Katowice"
          ],
          [
           35,
           1,
           "Katowice"
          ],
          [
           38,
           2,
           "Katowice"
          ],
          [
           30,
           2,
           "Katowice"
          ],
          [
           41,
           2,
           "Katowice"
          ],
          [
           39,
           2,
           "Katowice"
          ],
          [
           47,
           2,
           "Katowice"
          ],
          [
           38,
           2,
           "Bielsko-Biała"
          ],
          [
           36,
           2,
           "Katowice"
          ],
          [
           40,
           2,
           "Katowice"
          ],
          [
           27,
           1,
           "Katowice"
          ],
          [
           45,
           2,
           "Bielsko-Biała"
          ],
          [
           29,
           1,
           "Bielsko-Biała"
          ],
          [
           35,
           2,
           "Katowice"
          ],
          [
           32,
           1,
           "Katowice"
          ],
          [
           16,
           1,
           "Katowice"
          ],
          [
           26,
           1,
           "Katowice"
          ],
          [
           32,
           1,
           "Katowice"
          ],
          [
           48,
           2,
           "Katowice"
          ],
          [
           43,
           2,
           "Katowice"
          ],
          [
           40,
           2,
           "Katowice"
          ],
          [
           36,
           2,
           "Tychy"
          ],
          [
           43,
           2,
           "Katowice"
          ],
          [
           30,
           1,
           "Katowice"
          ],
          [
           37,
           2,
           "Bielsko-Biała"
          ],
          [
           38,
           2,
           "Katowice"
          ],
          [
           43,
           2,
           "Katowice"
          ],
          [
           43,
           2,
           "Katowice"
          ],
          [
           24,
           1,
           "Bielsko-Biała"
          ],
          [
           37,
           1,
           "Katowice"
          ],
          [
           36,
           2,
           "Katowice"
          ],
          [
           25,
           1,
           "Katowice"
          ],
          [
           36,
           2,
           "Katowice"
          ],
          [
           23,
           1,
           "Katowice"
          ],
          [
           42,
           2,
           "Katowice"
          ],
          [
           50,
           2,
           "Katowice"
          ],
          [
           49,
           2,
           "Katowice"
          ],
          [
           38,
           1,
           "Tychy"
          ],
          [
           32,
           2,
           "Katowice"
          ],
          [
           30,
           2,
           "Katowice"
          ],
          [
           34,
           2,
           "Katowice"
          ],
          [
           27,
           1,
           "Katowice"
          ],
          [
           41,
           2,
           "Tychy"
          ],
          [
           29,
           1,
           "Katowice"
          ],
          [
           20,
           1,
           "Katowice"
          ],
          [
           48,
           2,
           "Katowice"
          ],
          [
           48,
           2,
           "Katowice"
          ],
          [
           39,
           2,
           "Katowice"
          ],
          [
           39,
           2,
           "Tychy"
          ],
          [
           43,
           2,
           "Katowice"
          ],
          [
           46,
           2,
           "Katowice"
          ],
          [
           33,
           2,
           "Katowice"
          ],
          [
           47,
           2,
           "Katowice"
          ],
          [
           37,
           1,
           "Katowice"
          ],
          [
           43,
           2,
           "Bielsko-Biała"
          ],
          [
           34,
           1,
           "Katowice"
          ],
          [
           36,
           2,
           "Bielsko-Biała"
          ],
          [
           25,
           1,
           "Bielsko-Biała"
          ],
          [
           44,
           2,
           "Bielsko-Biała"
          ],
          [
           32,
           1,
           "Bielsko-Biała"
          ],
          [
           30,
           1,
           "Katowice"
          ],
          [
           41,
           2,
           "Katowice"
          ],
          [
           40,
           2,
           "Katowice"
          ],
          [
           37,
           2,
           "Katowice"
          ],
          [
           45,
           2,
           "Katowice"
          ],
          [
           38,
           2,
           "Katowice"
          ],
          [
           39,
           2,
           "Katowice"
          ],
          [
           48,
           2,
           "Katowice"
          ],
          [
           43,
           2,
           "Katowice"
          ],
          [
           37,
           2,
           "Katowice"
          ],
          [
           50,
           2,
           "Katowice"
          ],
          [
           21,
           1,
           "Katowice"
          ],
          [
           23,
           1,
           "Katowice"
          ],
          [
           38,
           2,
           "Katowice"
          ],
          [
           38,
           2,
           "Katowice"
          ],
          [
           39,
           1,
           "Katowice"
          ],
          [
           38,
           2,
           "Katowice"
          ],
          [
           40,
           2,
           "Katowice"
          ],
          [
           36,
           1,
           "Katowice"
          ],
          [
           33,
           2,
           "Katowice"
          ],
          [
           49,
           3,
           "Katowice"
          ],
          [
           20,
           1,
           "Katowice"
          ],
          [
           43,
           2,
           "Katowice"
          ],
          [
           49,
           2,
           "Katowice"
          ],
          [
           39,
           2,
           "Tychy"
          ],
          [
           43,
           2,
           "Katowice"
          ],
          [
           35,
           2,
           "Katowice"
          ],
          [
           50,
           2,
           "Katowice"
          ],
          [
           35,
           1,
           "Katowice"
          ],
          [
           48,
           2,
           "Katowice"
          ],
          [
           21,
           1,
           "Katowice"
          ],
          [
           43,
           2,
           "Katowice"
          ],
          [
           42,
           2,
           "Tychy"
          ],
          [
           25,
           1,
           "Katowice"
          ],
          [
           28,
           1,
           "Katowice"
          ],
          [
           31,
           1,
           "Tychy"
          ],
          [
           41,
           2,
           "Katowice"
          ],
          [
           22,
           1,
           "Katowice"
          ],
          [
           41,
           2,
           "Katowice"
          ],
          [
           47,
           2,
           "Katowice"
          ],
          [
           44,
           2,
           "Katowice"
          ],
          [
           37,
           2,
           "Katowice"
          ],
          [
           36,
           2,
           "Katowice"
          ],
          [
           44,
           2,
           "Katowice"
          ],
          [
           45,
           2,
           "Katowice"
          ],
          [
           40,
           2,
           "Katowice"
          ],
          [
           26,
           1,
           "Katowice"
          ],
          [
           42,
           3,
           "Bielsko-Biała"
          ],
          [
           34,
           1,
           "Tychy"
          ],
          [
           41,
           2,
           "Katowice"
          ],
          [
           30,
           2,
           "Katowice"
          ],
          [
           50,
           2,
           "Katowice"
          ],
          [
           36,
           2,
           "Katowice"
          ],
          [
           38,
           2,
           "Katowice"
          ],
          [
           38,
           2,
           "Tychy"
          ],
          [
           50,
           3,
           "Katowice"
          ],
          [
           17,
           1,
           "Katowice"
          ],
          [
           40,
           2,
           "Katowice"
          ],
          [
           44,
           2,
           "Bielsko-Biała"
          ],
          [
           48,
           2,
           "Katowice"
          ],
          [
           37,
           1,
           "Katowice"
          ],
          [
           48,
           3,
           "Katowice"
          ],
          [
           25,
           1,
           "Bielsko-Biała"
          ],
          [
           47,
           2,
           "Katowice"
          ],
          [
           30,
           1,
           "Katowice"
          ],
          [
           36,
           1,
           "Katowice"
          ],
          [
           35,
           2,
           "Katowice"
          ],
          [
           47,
           2,
           "Katowice"
          ],
          [
           40,
           2,
           "Tychy"
          ],
          [
           42,
           2,
           "Tychy"
          ],
          [
           40,
           2,
           "Katowice"
          ],
          [
           48,
           2,
           "Katowice"
          ],
          [
           39,
           2,
           "Katowice"
          ],
          [
           20,
           1,
           "Katowice"
          ],
          [
           45,
           2,
           "Katowice"
          ],
          [
           28,
           1,
           "Katowice"
          ],
          [
           10,
           1,
           "Katowice"
          ],
          [
           20,
           1,
           "Katowice"
          ],
          [
           20,
           1,
           "Katowice"
          ],
          [
           20,
           1,
           "Katowice"
          ],
          [
           30,
           1,
           "Bielsko-Biała"
          ],
          [
           23,
           1,
           "Katowice"
          ],
          [
           17,
           1,
           "Katowice"
          ],
          [
           35,
           1,
           "Katowice"
          ],
          [
           14,
           1,
           "Katowice"
          ],
          [
           35,
           2,
           "Katowice"
          ],
          [
           28,
           1,
           "Katowice"
          ],
          [
           26,
           2,
           "Katowice"
          ],
          [
           14,
           1,
           "Katowice"
          ],
          [
           45,
           3,
           "Katowice"
          ],
          [
           21,
           1,
           "Katowice"
          ],
          [
           26,
           1,
           "Katowice"
          ],
          [
           30,
           1,
           "Katowice"
          ],
          [
           18,
           1,
           "Katowice"
          ],
          [
           39,
           1,
           "Katowice"
          ],
          [
           50,
           3,
           "Katowice"
          ],
          [
           46,
           2,
           "Katowice"
          ],
          [
           27,
           1,
           "Katowice"
          ],
          [
           32,
           2,
           "Katowice"
          ],
          [
           33,
           2,
           "Tychy"
          ],
          [
           29,
           1,
           "Katowice"
          ],
          [
           40,
           1,
           "Katowice"
          ],
          [
           35,
           2,
           "Katowice"
          ],
          [
           49,
           2,
           "Katowice"
          ],
          [
           37,
           2,
           "Bielsko-Biała"
          ],
          [
           50,
           2,
           "Katowice"
          ],
          [
           50,
           2,
           "Katowice"
          ],
          [
           30,
           2,
           "Katowice"
          ],
          [
           43,
           2,
           "Katowice"
          ],
          [
           50,
           2,
           "Katowice"
          ],
          [
           50,
           3,
           "Katowice"
          ],
          [
           40,
           1,
           "Katowice"
          ],
          [
           44,
           2,
           "Bielsko-Biała"
          ],
          [
           36,
           1,
           "Katowice"
          ],
          [
           40,
           1,
           "Katowice"
          ],
          [
           37,
           2,
           "Katowice"
          ],
          [
           36,
           2,
           "Tychy"
          ],
          [
           40,
           2,
           "Katowice"
          ],
          [
           40,
           2,
           "Katowice"
          ],
          [
           35,
           1,
           "Katowice"
          ],
          [
           36,
           2,
           "Katowice"
          ],
          [
           46,
           2,
           "Katowice"
          ],
          [
           50,
           2,
           "Katowice"
          ],
          [
           43,
           2,
           "Katowice"
          ],
          [
           39,
           1,
           "Katowice"
          ],
          [
           38,
           2,
           "Bielsko-Biała"
          ],
          [
           20,
           1,
           "Bielsko-Biała"
          ],
          [
           25,
           1,
           "Bielsko-Biała"
          ],
          [
           29,
           1,
           "Bielsko-Biała"
          ],
          [
           40,
           2,
           "Katowice"
          ],
          [
           44,
           2,
           "Tychy"
          ],
          [
           34,
           1,
           "Bielsko-Biała"
          ],
          [
           38,
           2,
           "Tychy"
          ],
          [
           40,
           2,
           "Katowice"
          ],
          [
           36,
           2,
           "Katowice"
          ],
          [
           42,
           3,
           "Tychy"
          ],
          [
           24,
           1,
           "Katowice"
          ],
          [
           46,
           2,
           "Katowice"
          ],
          [
           24,
           1,
           "Katowice"
          ],
          [
           21,
           1,
           "Katowice"
          ],
          [
           29,
           1,
           "Katowice"
          ],
          [
           48,
           2,
           "Katowice"
          ],
          [
           30,
           1,
           "Katowice"
          ],
          [
           46,
           2,
           "Katowice"
          ],
          [
           48,
           2,
           "Katowice"
          ],
          [
           17,
           1,
           "Katowice"
          ],
          [
           20,
           1,
           "Katowice"
          ],
          [
           38,
           2,
           "Katowice"
          ],
          [
           25,
           1,
           "Katowice"
          ],
          [
           35,
           2,
           "Katowice"
          ],
          [
           16,
           1,
           "Katowice"
          ],
          [
           37,
           1,
           "Katowice"
          ],
          [
           28,
           1,
           "Katowice"
          ],
          [
           15,
           1,
           "Katowice"
          ],
          [
           50,
           3,
           "Katowice"
          ],
          [
           46,
           2,
           "Tychy"
          ],
          [
           40,
           2,
           "Katowice"
          ],
          [
           37,
           2,
           "Katowice"
          ],
          [
           30,
           1,
           "Katowice"
          ],
          [
           30,
           1,
           "Katowice"
          ],
          [
           26,
           1,
           "Katowice"
          ],
          [
           34,
           2,
           "Katowice"
          ],
          [
           48,
           2,
           "Tychy"
          ],
          [
           41,
           2,
           "Katowice"
          ],
          [
           50,
           2,
           "Bielsko-Biała"
          ],
          [
           39,
           2,
           "Tychy"
          ],
          [
           34,
           2,
           "Katowice"
          ],
          [
           39,
           2,
           "Katowice"
          ],
          [
           17,
           1,
           "Katowice"
          ],
          [
           43,
           2,
           "Bielsko-Biała"
          ],
          [
           27,
           1,
           "Katowice"
          ],
          [
           42,
           2,
           "Katowice"
          ],
          [
           49,
           2,
           "Katowice"
          ],
          [
           30,
           1,
           "Katowice"
          ],
          [
           29,
           1,
           "Katowice"
          ],
          [
           40,
           1,
           "Katowice"
          ],
          [
           48,
           2,
           "Bielsko-Biała"
          ],
          [
           40,
           2,
           "Katowice"
          ],
          [
           43,
           2,
           "Katowice"
          ],
          [
           39,
           1,
           "Katowice"
          ],
          [
           38,
           2,
           "Katowice"
          ],
          [
           50,
           2,
           "Katowice"
          ],
          [
           47,
           2,
           "Katowice"
          ],
          [
           43,
           2,
           "Katowice"
          ],
          [
           43,
           2,
           "Katowice"
          ],
          [
           42,
           2,
           "Katowice"
          ],
          [
           39,
           2,
           "Tychy"
          ],
          [
           38,
           2,
           "Tychy"
          ],
          [
           43,
           2,
           "Katowice"
          ],
          [
           43,
           2,
           "Katowice"
          ],
          [
           43,
           2,
           "Bielsko-Biała"
          ],
          [
           38,
           2,
           "Katowice"
          ],
          [
           45,
           3,
           "Bielsko-Biała"
          ],
          [
           22,
           1,
           "Katowice"
          ],
          [
           49,
           3,
           "Katowice"
          ],
          [
           28,
           1,
           "Katowice"
          ],
          [
           38,
           2,
           "Katowice"
          ],
          [
           30,
           1,
           "Katowice"
          ],
          [
           38,
           2,
           "Bielsko-Biała"
          ],
          [
           47,
           2,
           "Katowice"
          ],
          [
           46,
           2,
           "Katowice"
          ],
          [
           45,
           2,
           "Katowice"
          ],
          [
           30,
           1,
           "Katowice"
          ],
          [
           31,
           1,
           "Tychy"
          ],
          [
           39,
           2,
           "Tychy"
          ],
          [
           38,
           2,
           "Bielsko-Biała"
          ],
          [
           40,
           2,
           "Katowice"
          ],
          [
           47,
           2,
           "Katowice"
          ],
          [
           20,
           1,
           "Katowice"
          ],
          [
           40,
           2,
           "Katowice"
          ],
          [
           26,
           1,
           "Katowice"
          ],
          [
           45,
           2,
           "Katowice"
          ],
          [
           33,
           2,
           "Katowice"
          ],
          [
           31,
           1,
           "Katowice"
          ],
          [
           31,
           1,
           "Katowice"
          ],
          [
           42,
           2,
           "Katowice"
          ],
          [
           30,
           1,
           "Katowice"
          ],
          [
           40,
           2,
           "Katowice"
          ],
          [
           43,
           2,
           "Katowice"
          ],
          [
           26,
           1,
           "Katowice"
          ],
          [
           38,
           2,
           "Katowice"
          ],
          [
           40,
           1,
           "Bielsko-Biała"
          ],
          [
           48,
           2,
           "Katowice"
          ],
          [
           30,
           1,
           "Katowice"
          ],
          [
           28,
           1,
           "Katowice"
          ],
          [
           27,
           1,
           "Katowice"
          ],
          [
           16,
           1,
           "Katowice"
          ],
          [
           42,
           2,
           "Katowice"
          ],
          [
           42,
           2,
           "Katowice"
          ],
          [
           43,
           2,
           "Katowice"
          ],
          [
           38,
           2,
           "Katowice"
          ],
          [
           50,
           2,
           "Katowice"
          ],
          [
           32,
           2,
           "Katowice"
          ],
          [
           32,
           2,
           "Katowice"
          ],
          [
           46,
           2,
           "Bielsko-Biała"
          ],
          [
           43,
           2,
           "Katowice"
          ],
          [
           39,
           2,
           "Katowice"
          ],
          [
           33,
           1,
           "Katowice"
          ],
          [
           36,
           1,
           "Katowice"
          ],
          [
           44,
           2,
           "Katowice"
          ],
          [
           47,
           2,
           "Katowice"
          ],
          [
           33,
           1,
           "Katowice"
          ],
          [
           46,
           2,
           "Katowice"
          ],
          [
           50,
           2,
           "Katowice"
          ],
          [
           36,
           1,
           "Bielsko-Biała"
          ],
          [
           47,
           2,
           "Katowice"
          ],
          [
           48,
           2,
           "Katowice"
          ],
          [
           32,
           1,
           "Katowice"
          ],
          [
           32,
           1,
           "Bielsko-Biała"
          ],
          [
           30,
           1,
           "Katowice"
          ],
          [
           27,
           1,
           "Katowice"
          ],
          [
           40,
           2,
           "Katowice"
          ],
          [
           36,
           2,
           "Bielsko-Biała"
          ],
          [
           36,
           2,
           "Katowice"
          ],
          [
           33,
           1,
           "Bielsko-Biała"
          ],
          [
           48,
           2,
           "Katowice"
          ],
          [
           31,
           1,
           "Katowice"
          ],
          [
           46,
           2,
           "Katowice"
          ],
          [
           29,
           1,
           "Bielsko-Biała"
          ],
          [
           44,
           2,
           "Katowice"
          ],
          [
           34,
           1,
           "Katowice"
          ],
          [
           33,
           1,
           "Katowice"
          ],
          [
           45,
           2,
           "Katowice"
          ],
          [
           44,
           2,
           "Bielsko-Biała"
          ],
          [
           30,
           1,
           "Katowice"
          ],
          [
           35,
           2,
           "Katowice"
          ],
          [
           38,
           2,
           "Katowice"
          ],
          [
           25,
           1,
           "Katowice"
          ],
          [
           38,
           2,
           "Katowice"
          ],
          [
           39,
           2,
           "Katowice"
          ],
          [
           36,
           2,
           "Katowice"
          ],
          [
           38,
           2,
           "Katowice"
          ],
          [
           18,
           1,
           "Katowice"
          ],
          [
           39,
           2,
           "Katowice"
          ],
          [
           45,
           2,
           "Tychy"
          ],
          [
           19,
           1,
           "Bielsko-Biała"
          ],
          [
           48,
           2,
           "Katowice"
          ],
          [
           38,
           2,
           "Katowice"
          ],
          [
           21,
           1,
           "Katowice"
          ],
          [
           50,
           3,
           "Katowice"
          ],
          [
           43,
           2,
           "Katowice"
          ],
          [
           31,
           2,
           "Katowice"
          ],
          [
           41,
           2,
           "Katowice"
          ],
          [
           38,
           2,
           "Katowice"
          ],
          [
           36,
           2,
           "Katowice"
          ],
          [
           21,
           1,
           "Katowice"
          ],
          [
           10,
           1,
           "Katowice"
          ],
          [
           45,
           2,
           "Katowice"
          ],
          [
           45,
           2,
           "Katowice"
          ],
          [
           47,
           2,
           "Katowice"
          ],
          [
           43,
           2,
           "Bielsko-Biała"
          ],
          [
           42,
           2,
           "Katowice"
          ],
          [
           40,
           2,
           "Katowice"
          ],
          [
           33,
           1,
           "Bielsko-Biała"
          ],
          [
           39,
           2,
           "Katowice"
          ],
          [
           43,
           2,
           "Bielsko-Biała"
          ],
          [
           30,
           1,
           "Katowice"
          ],
          [
           23,
           1,
           "Katowice"
          ],
          [
           45,
           2,
           "Tychy"
          ],
          [
           38,
           2,
           "Bielsko-Biała"
          ],
          [
           27,
           1,
           "Katowice"
          ],
          [
           32,
           1,
           "Katowice"
          ],
          [
           30,
           2,
           "Katowice"
          ],
          [
           19,
           1,
           "Katowice"
          ],
          [
           37,
           1,
           "Katowice"
          ],
          [
           26,
           1,
           "Katowice"
          ],
          [
           27,
           1,
           "Katowice"
          ],
          [
           23,
           1,
           "Katowice"
          ],
          [
           46,
           3,
           "Bielsko-Biała"
          ],
          [
           27,
           1,
           "Katowice"
          ],
          [
           38,
           1,
           "Katowice"
          ],
          [
           37,
           2,
           "Katowice"
          ],
          [
           50,
           2,
           "Katowice"
          ],
          [
           36,
           2,
           "Bielsko-Biała"
          ],
          [
           38,
           2,
           "Katowice"
          ],
          [
           39,
           2,
           "Katowice"
          ],
          [
           41,
           2,
           "Katowice"
          ],
          [
           44,
           2,
           "Bielsko-Biała"
          ],
          [
           40,
           1,
           "Katowice"
          ],
          [
           35,
           2,
           "Katowice"
          ],
          [
           37,
           2,
           "Katowice"
          ],
          [
           50,
           2,
           "Katowice"
          ],
          [
           46,
           2,
           "Katowice"
          ],
          [
           41,
           2,
           "Katowice"
          ],
          [
           40,
           2,
           "Katowice"
          ],
          [
           28,
           1,
           "Katowice"
          ],
          [
           28,
           1,
           "Katowice"
          ],
          [
           36,
           2,
           "Bielsko-Biała"
          ],
          [
           30,
           1,
           "Bielsko-Biała"
          ],
          [
           40,
           1,
           "Katowice"
          ],
          [
           50,
           2,
           "Katowice"
          ],
          [
           25,
           1,
           "Katowice"
          ],
          [
           25,
           1,
           "Katowice"
          ],
          [
           34,
           1,
           "Katowice"
          ],
          [
           30,
           1,
           "Katowice"
          ],
          [
           21,
           1,
           "Katowice"
          ],
          [
           29,
           1,
           "Katowice"
          ],
          [
           18,
           1,
           "Katowice"
          ],
          [
           44,
           2,
           "Katowice"
          ],
          [
           41,
           2,
           "Bielsko-Biała"
          ],
          [
           28,
           1,
           "Katowice"
          ],
          [
           31,
           1,
           "Katowice"
          ],
          [
           30,
           1,
           "Bielsko-Biała"
          ],
          [
           38,
           2,
           "Katowice"
          ],
          [
           44,
           2,
           "Katowice"
          ],
          [
           37,
           2,
           "Katowice"
          ],
          [
           38,
           2,
           "Katowice"
          ],
          [
           20,
           1,
           "Katowice"
          ],
          [
           20,
           1,
           "Katowice"
          ],
          [
           49,
           2,
           "Katowice"
          ],
          [
           30,
           1,
           "Katowice"
          ],
          [
           39,
           1,
           "Katowice"
          ],
          [
           48,
           2,
           "Bielsko-Biała"
          ],
          [
           48,
           2,
           "Katowice"
          ],
          [
           40,
           1,
           "Bielsko-Biała"
          ],
          [
           39,
           2,
           "Katowice"
          ],
          [
           39,
           2,
           "Katowice"
          ],
          [
           38,
           2,
           "Katowice"
          ],
          [
           26,
           1,
           "Katowice"
          ],
          [
           30,
           1,
           "Katowice"
          ],
          [
           47,
           2,
           "Bielsko-Biała"
          ],
          [
           38,
           2,
           "Katowice"
          ],
          [
           50,
           2,
           "Katowice"
          ],
          [
           40,
           2,
           "Bielsko-Biała"
          ],
          [
           39,
           2,
           "Katowice"
          ],
          [
           45,
           2,
           "Bielsko-Biała"
          ],
          [
           39,
           1,
           "Katowice"
          ],
          [
           50,
           2,
           "Katowice"
          ],
          [
           26,
           1,
           "Katowice"
          ],
          [
           23,
           1,
           "Katowice"
          ],
          [
           19,
           1,
           "Katowice"
          ],
          [
           47,
           2,
           "Katowice"
          ],
          [
           45,
           2,
           "Katowice"
          ],
          [
           19,
           1,
           "Katowice"
          ],
          [
           43,
           2,
           "Katowice"
          ],
          [
           40,
           2,
           "Tychy"
          ],
          [
           48,
           2,
           "Katowice"
          ],
          [
           37,
           2,
           "Katowice"
          ],
          [
           31,
           1,
           "Katowice"
          ],
          [
           37,
           1,
           "Katowice"
          ],
          [
           46,
           2,
           "Katowice"
          ],
          [
           38,
           2,
           "Katowice"
          ],
          [
           44,
           2,
           "Katowice"
          ],
          [
           50,
           3,
           "Katowice"
          ],
          [
           28,
           1,
           "Bielsko-Biała"
          ],
          [
           47,
           2,
           "Katowice"
          ],
          [
           25,
           2,
           "Katowice"
          ],
          [
           38,
           2,
           "Katowice"
          ],
          [
           35,
           1,
           "Tychy"
          ],
          [
           43,
           2,
           "Katowice"
          ],
          [
           22,
           1,
           "Katowice"
          ],
          [
           35,
           2,
           "Katowice"
          ],
          [
           41,
           2,
           "Katowice"
          ],
          [
           45,
           2,
           "Katowice"
          ],
          [
           22,
           1,
           "Katowice"
          ],
          [
           20,
           1,
           "Katowice"
          ],
          [
           41,
           2,
           "Katowice"
          ],
          [
           49,
           2,
           "Katowice"
          ],
          [
           40,
           2,
           "Katowice"
          ],
          [
           34,
           1,
           "Katowice"
          ],
          [
           31,
           1,
           "Bielsko-Biała"
          ],
          [
           45,
           2,
           "Katowice"
          ],
          [
           50,
           2,
           "Katowice"
          ],
          [
           41,
           3,
           "Katowice"
          ],
          [
           49,
           2,
           "Katowice"
          ],
          [
           49,
           2,
           "Katowice"
          ],
          [
           35,
           2,
           "Katowice"
          ],
          [
           10,
           1,
           "Katowice"
          ],
          [
           13,
           1,
           "Katowice"
          ],
          [
           11,
           1,
           "Katowice"
          ],
          [
           31,
           1,
           "Katowice"
          ],
          [
           38,
           2,
           "Katowice"
          ],
          [
           49,
           2,
           "Katowice"
          ],
          [
           29,
           1,
           "Katowice"
          ],
          [
           49,
           3,
           "Katowice"
          ],
          [
           50,
           2,
           "Katowice"
          ],
          [
           22,
           1,
           "Katowice"
          ],
          [
           26,
           1,
           "Katowice"
          ],
          [
           41,
           2,
           "Katowice"
          ],
          [
           35,
           2,
           "Katowice"
          ],
          [
           48,
           2,
           "Katowice"
          ],
          [
           38,
           2,
           "Katowice"
          ],
          [
           40,
           2,
           "Katowice"
          ],
          [
           40,
           2,
           "Katowice"
          ],
          [
           48,
           2,
           "Katowice"
          ],
          [
           43,
           2,
           "Katowice"
          ],
          [
           40,
           3,
           "Katowice"
          ],
          [
           26,
           2,
           "Katowice"
          ],
          [
           25,
           1,
           "Katowice"
          ],
          [
           28,
           1,
           "Katowice"
          ],
          [
           26,
           1,
           "Katowice"
          ],
          [
           18,
           1,
           "Katowice"
          ],
          [
           43,
           2,
           "Katowice"
          ],
          [
           17,
           1,
           "Katowice"
          ],
          [
           32,
           2,
           "Katowice"
          ],
          [
           49,
           2,
           "Katowice"
          ],
          [
           45,
           2,
           "Katowice"
          ],
          [
           22,
           1,
           "Katowice"
          ],
          [
           45,
           2,
           "Katowice"
          ],
          [
           45,
           2,
           "Katowice"
          ],
          [
           42,
           2,
           "Katowice"
          ],
          [
           42,
           2,
           "Katowice"
          ],
          [
           38,
           2,
           "Katowice"
          ],
          [
           17,
           1,
           "Katowice"
          ],
          [
           38,
           2,
           "Katowice"
          ],
          [
           30,
           1,
           "Katowice"
          ],
          [
           32,
           1,
           "Katowice"
          ],
          [
           42,
           2,
           "Katowice"
          ],
          [
           31,
           1,
           "Katowice"
          ],
          [
           30,
           1,
           "Katowice"
          ],
          [
           44,
           2,
           "Katowice"
          ],
          [
           49,
           2,
           "Katowice"
          ],
          [
           46,
           2,
           "Katowice"
          ],
          [
           37,
           2,
           "Katowice"
          ],
          [
           37,
           2,
           "Tychy"
          ],
          [
           42,
           2,
           "Katowice"
          ],
          [
           39,
           2,
           "Katowice"
          ],
          [
           34,
           2,
           "Katowice"
          ],
          [
           29,
           1,
           "Katowice"
          ],
          [
           49,
           3,
           "Katowice"
          ],
          [
           20,
           1,
           "Katowice"
          ],
          [
           30,
           1,
           "Katowice"
          ],
          [
           50,
           2,
           "Katowice"
          ],
          [
           36,
           2,
           "Katowice"
          ],
          [
           25,
           1,
           "Katowice"
          ],
          [
           32,
           2,
           "Katowice"
          ],
          [
           48,
           2,
           "Katowice"
          ],
          [
           30,
           1,
           "Katowice"
          ],
          [
           18,
           1,
           "Katowice"
          ],
          [
           48,
           2,
           "Bielsko-Biała"
          ],
          [
           36,
           2,
           "Katowice"
          ],
          [
           46,
           2,
           "Katowice"
          ],
          [
           37,
           1,
           "Katowice"
          ],
          [
           40,
           2,
           "Katowice"
          ],
          [
           35,
           2,
           "Katowice"
          ],
          [
           42,
           2,
           "Katowice"
          ],
          [
           41,
           2,
           "Katowice"
          ],
          [
           43,
           2,
           "Bielsko-Biała"
          ],
          [
           16,
           1,
           "Katowice"
          ],
          [
           35,
           1,
           "Katowice"
          ],
          [
           35,
           1,
           "Katowice"
          ],
          [
           43,
           2,
           "Katowice"
          ],
          [
           45,
           2,
           "Katowice"
          ],
          [
           29,
           1,
           "Katowice"
          ],
          [
           43,
           2,
           "Katowice"
          ],
          [
           36,
           2,
           "Tychy"
          ],
          [
           39,
           2,
           "Bielsko-Biała"
          ],
          [
           28,
           1,
           "Katowice"
          ],
          [
           44,
           2,
           "Katowice"
          ],
          [
           40,
           2,
           "Katowice"
          ],
          [
           35,
           2,
           "Katowice"
          ],
          [
           23,
           1,
           "Katowice"
          ],
          [
           38,
           2,
           "Katowice"
          ],
          [
           30,
           1,
           "Katowice"
          ],
          [
           38,
           2,
           "Katowice"
          ],
          [
           44,
           2,
           "Katowice"
          ],
          [
           34,
           1,
           "Katowice"
          ],
          [
           21,
           1,
           "Katowice"
          ],
          [
           8,
           1,
           "Katowice"
          ],
          [
           38,
           2,
           "Katowice"
          ],
          [
           45,
           2,
           "Katowice"
          ],
          [
           43,
           2,
           "Katowice"
          ],
          [
           9,
           1,
           "Katowice"
          ],
          [
           27,
           1,
           "Katowice"
          ],
          [
           48,
           2,
           "Katowice"
          ],
          [
           22,
           1,
           "Katowice"
          ],
          [
           26,
           1,
           "Katowice"
          ],
          [
           20,
           1,
           "Katowice"
          ],
          [
           37,
           2,
           "Katowice"
          ],
          [
           25,
           1,
           "Katowice"
          ],
          [
           44,
           2,
           "Katowice"
          ],
          [
           45,
           2,
           "Katowice"
          ],
          [
           36,
           2,
           "Katowice"
          ],
          [
           29,
           1,
           "Katowice"
          ],
          [
           44,
           2,
           "Katowice"
          ],
          [
           25,
           1,
           "Katowice"
          ],
          [
           27,
           2,
           "Katowice"
          ],
          [
           45,
           2,
           "Tychy"
          ],
          [
           18,
           1,
           "Katowice"
          ],
          [
           17,
           1,
           "Katowice"
          ],
          [
           22,
           1,
           "Katowice"
          ],
          [
           20,
           1,
           "Katowice"
          ],
          [
           25,
           1,
           "Katowice"
          ],
          [
           18,
           1,
           "Katowice"
          ],
          [
           22,
           1,
           "Katowice"
          ],
          [
           17,
           1,
           "Katowice"
          ],
          [
           50,
           2,
           "Katowice"
          ],
          [
           35,
           2,
           "Katowice"
          ],
          [
           36,
           1,
           "Katowice"
          ],
          [
           15,
           1,
           "Katowice"
          ],
          [
           10,
           1,
           "Katowice"
          ],
          [
           10,
           1,
           "Katowice"
          ],
          [
           23,
           1,
           "Katowice"
          ],
          [
           38,
           2,
           "Bielsko-Biała"
          ],
          [
           28,
           1,
           "Katowice"
          ],
          [
           38,
           2,
           "Katowice"
          ],
          [
           37,
           1,
           "Katowice"
          ],
          [
           37,
           2,
           "Katowice"
          ],
          [
           37,
           2,
           "Katowice"
          ],
          [
           28,
           1,
           "Katowice"
          ],
          [
           28,
           1,
           "Katowice"
          ],
          [
           29,
           1,
           "Katowice"
          ],
          [
           29,
           1,
           "Katowice"
          ],
          [
           48,
           2,
           "Katowice"
          ],
          [
           28,
           1,
           "Katowice"
          ],
          [
           49,
           2,
           "Bielsko-Biała"
          ],
          [
           45,
           2,
           "Katowice"
          ],
          [
           10,
           1,
           "Katowice"
          ],
          [
           11,
           1,
           "Katowice"
          ],
          [
           48,
           2,
           "Katowice"
          ],
          [
           36,
           2,
           "Katowice"
          ],
          [
           48,
           2,
           "Katowice"
          ],
          [
           18,
           1,
           "Katowice"
          ],
          [
           29,
           1,
           "Bielsko-Biała"
          ],
          [
           50,
           2,
           "Katowice"
          ],
          [
           35,
           2,
           "Katowice"
          ],
          [
           42,
           2,
           "Katowice"
          ],
          [
           30,
           1,
           "Katowice"
          ],
          [
           50,
           2,
           "Tychy"
          ],
          [
           25,
           1,
           "Katowice"
          ],
          [
           30,
           1,
           "Katowice"
          ],
          [
           22,
           1,
           "Katowice"
          ],
          [
           24,
           1,
           "Katowice"
          ],
          [
           29,
           1,
           "Katowice"
          ],
          [
           34,
           1,
           "Katowice"
          ],
          [
           30,
           1,
           "Katowice"
          ],
          [
           15,
           1,
           "Katowice"
          ],
          [
           38,
           2,
           "Katowice"
          ],
          [
           29,
           1,
           "Katowice"
          ],
          [
           16,
           1,
           "Katowice"
          ],
          [
           21,
           1,
           "Katowice"
          ],
          [
           49,
           2,
           "Katowice"
          ],
          [
           50,
           3,
           "Katowice"
          ],
          [
           43,
           1,
           "Katowice"
          ],
          [
           47,
           2,
           "Katowice"
          ],
          [
           28,
           1,
           "Tychy"
          ],
          [
           20,
           1,
           "Katowice"
          ],
          [
           47,
           1,
           "Katowice"
          ],
          [
           11,
           1,
           "Katowice"
          ],
          [
           13,
           1,
           "Katowice"
          ],
          [
           24,
           1,
           "Bielsko-Biała"
          ],
          [
           43,
           2,
           "Katowice"
          ],
          [
           10,
           1,
           "Katowice"
          ],
          [
           29,
           1,
           "Bielsko-Biała"
          ],
          [
           38,
           2,
           "Katowice"
          ],
          [
           36,
           1,
           "Katowice"
          ],
          [
           36,
           1,
           "Katowice"
          ],
          [
           25,
           1,
           "Katowice"
          ],
          [
           44,
           2,
           "Katowice"
          ],
          [
           29,
           1,
           "Katowice"
          ],
          [
           15,
           1,
           "Katowice"
          ],
          [
           45,
           2,
           "Katowice"
          ],
          [
           47,
           3,
           "Bielsko-Biała"
          ],
          [
           37,
           1,
           "Katowice"
          ],
          [
           42,
           1,
           "Katowice"
          ],
          [
           37,
           2,
           "Tychy"
          ],
          [
           37,
           2,
           "Tychy"
          ],
          [
           18,
           1,
           "Katowice"
          ],
          [
           43,
           2,
           "Katowice"
          ],
          [
           45,
           3,
           "Katowice"
          ],
          [
           10,
           1,
           "Katowice"
          ],
          [
           9,
           1,
           "Katowice"
          ],
          [
           38,
           2,
           "Katowice"
          ],
          [
           25,
           1,
           "Katowice"
          ],
          [
           35,
           2,
           "Katowice"
          ],
          [
           28,
           1,
           "Katowice"
          ],
          [
           27,
           1,
           "Katowice"
          ],
          [
           35,
           2,
           "Katowice"
          ],
          [
           40,
           2,
           "Tychy"
          ],
          [
           42,
           2,
           "Katowice"
          ],
          [
           22,
           1,
           "Katowice"
          ],
          [
           36,
           1,
           "Tychy"
          ],
          [
           28,
           1,
           "Katowice"
          ],
          [
           30,
           1,
           "Bielsko-Biała"
          ],
          [
           40,
           2,
           "Katowice"
          ],
          [
           25,
           1,
           "Bielsko-Biała"
          ],
          [
           46,
           2,
           "Katowice"
          ],
          [
           38,
           2,
           "Katowice"
          ],
          [
           18,
           1,
           "Katowice"
          ],
          [
           37,
           2,
           "Katowice"
          ],
          [
           38,
           2,
           "Katowice"
          ],
          [
           38,
           2,
           "Katowice"
          ],
          [
           46,
           2,
           "Katowice"
          ],
          [
           28,
           1,
           "Katowice"
          ],
          [
           49,
           2,
           "Katowice"
          ],
          [
           40,
           2,
           "Katowice"
          ],
          [
           19,
           1,
           "Katowice"
          ],
          [
           42,
           2,
           "Katowice"
          ],
          [
           27,
           1,
           "Katowice"
          ],
          [
           50,
           2,
           "Katowice"
          ],
          [
           37,
           2,
           "Katowice"
          ],
          [
           39,
           1,
           "Katowice"
          ],
          [
           34,
           1,
           "Katowice"
          ],
          [
           42,
           2,
           "Katowice"
          ],
          [
           50,
           2,
           "Katowice"
          ],
          [
           40,
           2,
           "Katowice"
          ],
          [
           34,
           1,
           "Katowice"
          ],
          [
           27,
           1,
           "Katowice"
          ],
          [
           43,
           2,
           "Katowice"
          ],
          [
           37,
           1,
           "Katowice"
          ],
          [
           27,
           1,
           "Katowice"
          ],
          [
           39,
           2,
           "Tychy"
          ],
          [
           50,
           2,
           "Katowice"
          ],
          [
           28,
           1,
           "Katowice"
          ],
          [
           45,
           2,
           "Katowice"
          ],
          [
           28,
           1,
           "Katowice"
          ],
          [
           36,
           2,
           "Katowice"
          ],
          [
           40,
           1,
           "Katowice"
          ],
          [
           23,
           1,
           "Tychy"
          ],
          [
           40,
           2,
           "Katowice"
          ],
          [
           23,
           1,
           "Katowice"
          ],
          [
           41,
           2,
           "Katowice"
          ],
          [
           37,
           1,
           "Katowice"
          ]
         ],
         "hovertemplate": "cena=%{y}<br>powierzchnia=%{customdata[0]}<br>pokoje=%{customdata[1]}<br>miasto=%{customdata[2]}<extra></extra>",
         "legendgroup": "",
         "marker": {
          "color": "#636efa"
         },
         "name": "",
         "notched": false,
         "offsetgroup": "",
         "orientation": "v",
         "showlegend": false,
         "type": "box",
         "x0": " ",
         "xaxis": "x",
         "y": [
          1000,
          1300,
          1850,
          1650,
          1100,
          2200,
          1000,
          1700,
          1600,
          1100,
          1600,
          1500,
          1700,
          1200,
          1500,
          2300,
          1300,
          1800,
          1300,
          1150,
          1000,
          1130,
          1450,
          750,
          1900,
          800,
          1350,
          2200,
          1590,
          850,
          999,
          1250,
          750,
          550,
          2200,
          1190,
          1300,
          1250,
          1000,
          1100,
          2300,
          1590,
          2400,
          1400,
          1300,
          1350,
          1150,
          1000,
          1200,
          900,
          1550,
          1600,
          1700,
          1600,
          1880,
          1200,
          2600,
          1550,
          2000,
          1800,
          1100,
          2000,
          1600,
          1500,
          2000,
          1600,
          1500,
          1800,
          800,
          1200,
          1500,
          1390,
          1900,
          1199,
          1300,
          1090,
          1950,
          999,
          990,
          1290,
          1550,
          1500,
          1900,
          1600,
          2100,
          1600,
          1290,
          1400,
          1100,
          790,
          2300,
          2550,
          1400,
          1450,
          1300,
          1350,
          1050,
          1500,
          1800,
          1150,
          1500,
          1650,
          1800,
          1300,
          900,
          1050,
          1650,
          1050,
          1500,
          1799,
          1500,
          1200,
          1100,
          2490,
          2000,
          1300,
          2100,
          2500,
          1700,
          1500,
          1500,
          1500,
          1200,
          1750,
          1550,
          2100,
          1250,
          2200,
          1399,
          1300,
          1490,
          1300,
          1480,
          1800,
          2850,
          1300,
          1350,
          1600,
          1890,
          1450,
          1450,
          1500,
          1850,
          1800,
          2100,
          2100,
          2000,
          1300,
          1350,
          2200,
          1380,
          1100,
          1300,
          1150,
          1500,
          1800,
          1300,
          2100,
          1350,
          1100,
          2550,
          1250,
          1850,
          1900,
          800,
          1400,
          1100,
          1400,
          1000,
          1300,
          1490,
          1500,
          1650,
          1650,
          1700,
          1800,
          1400,
          2250,
          980,
          1600,
          1650,
          1800,
          1800,
          1850,
          1090,
          2400,
          1350,
          1400,
          2000,
          1490,
          1200,
          1799,
          900,
          1800,
          650,
          1400,
          1090,
          1900,
          2100,
          1500,
          2000,
          1550,
          2100,
          900,
          2200,
          1950,
          2950,
          1400,
          2850,
          1900,
          1150,
          1200,
          990,
          1800,
          1250,
          1600,
          2100,
          1250,
          1300,
          460,
          1300,
          2000,
          1500,
          1850,
          1999,
          1300,
          1600,
          1900,
          1000,
          1999,
          1300,
          1900,
          1300,
          890,
          1500,
          1155,
          2599,
          2200,
          1850,
          1300,
          1100,
          1300,
          2500,
          2950,
          1200,
          1400,
          1900,
          800,
          1600,
          970,
          1300,
          1700,
          1800,
          1500,
          1300,
          1550,
          1600,
          1950,
          1150,
          1650,
          1650,
          1600,
          1100,
          1200,
          1250,
          1900,
          1700,
          1300,
          1550,
          1200,
          1399,
          1450,
          1750,
          1200,
          2000,
          1900,
          980,
          800,
          1700,
          1150,
          2200,
          1350,
          1880,
          1800,
          900,
          1400,
          1800,
          1600,
          1600,
          990,
          1700,
          1500,
          999,
          2300,
          1800,
          1700,
          1500,
          1800,
          2000,
          1300,
          2250,
          1250,
          1300,
          1380,
          1490,
          1350,
          1800,
          1500,
          1400,
          1900,
          1850,
          1400,
          1000,
          1000,
          1100,
          1400,
          1590,
          1190,
          1290,
          1090,
          1450,
          1900,
          1550,
          1199,
          1900,
          2200,
          650,
          1500,
          1700,
          900,
          1850,
          1650,
          1600,
          1800,
          1300,
          1790,
          1490,
          1800,
          1200,
          2300,
          1700,
          1190,
          1200,
          1400,
          1650,
          999,
          1650,
          1800,
          2000,
          1000,
          1390,
          1200,
          2000,
          2000,
          1050,
          1600,
          1375,
          1450,
          1200,
          1200,
          1550,
          1550,
          1500,
          2500,
          900,
          1600,
          2000,
          1800,
          1350,
          1200,
          700,
          1600,
          1100,
          1200,
          1700,
          1650,
          2000,
          2200,
          1950,
          1800,
          1500,
          1200,
          2000,
          900,
          650,
          650,
          650,
          650,
          1450,
          1099,
          1150,
          950,
          800,
          1150,
          950,
          849,
          700,
          2200,
          900,
          1150,
          1000,
          1200,
          1950,
          1999,
          2599,
          1150,
          1050,
          1400,
          1250,
          1350,
          1700,
          1500,
          1100,
          3000,
          1800,
          1800,
          2000,
          1400,
          2100,
          2100,
          1300,
          1600,
          2300,
          990,
          1650,
          1850,
          1750,
          1200,
          2000,
          1900,
          800,
          1850,
          1950,
          1800,
          1300,
          1500,
          1500,
          1800,
          2000,
          900,
          1450,
          1800,
          1500,
          500,
          850,
          2000,
          980,
          950,
          1199,
          1250,
          1250,
          1800,
          2100,
          900,
          1000,
          1600,
          1300,
          1700,
          1250,
          1250,
          1500,
          900,
          2200,
          2000,
          1300,
          1000,
          1200,
          1100,
          1050,
          1600,
          1800,
          1650,
          1500,
          1550,
          1000,
          1650,
          800,
          1750,
          1200,
          1650,
          650,
          1950,
          1000,
          1350,
          2490,
          1300,
          1850,
          319,
          1700,
          1600,
          2000,
          2150,
          2150,
          2100,
          3000,
          1550,
          1950,
          1950,
          1800,
          1400,
          1600,
          850,
          1600,
          1190,
          1300,
          1600,
          1200,
          2250,
          1900,
          1000,
          1300,
          1300,
          1500,
          1799,
          1750,
          1600,
          700,
          1090,
          1350,
          1500,
          1590,
          1300,
          1600,
          2300,
          1400,
          2000,
          2200,
          1000,
          1400,
          1600,
          1400,
          1500,
          1050,
          1490,
          800,
          1050,
          1050,
          1000,
          1550,
          800,
          1800,
          1200,
          1700,
          1750,
          1300,
          1600,
          1000,
          2000,
          2100,
          1500,
          1650,
          1800,
          1800,
          1650,
          1500,
          1200,
          1500,
          1000,
          1400,
          1700,
          1000,
          1550,
          1000,
          1500,
          1600,
          1800,
          1250,
          2850,
          1230,
          1200,
          2000,
          2000,
          1350,
          1600,
          999,
          1399,
          1750,
          2000,
          1850,
          1700,
          1000,
          1000,
          1690,
          1100,
          2240,
          1500,
          800,
          1500,
          1900,
          1850,
          2200,
          1200,
          1390,
          1200,
          550,
          2250,
          1800,
          1800,
          1200,
          1900,
          1750,
          1100,
          1150,
          1100,
          1350,
          800,
          2000,
          1400,
          1000,
          1000,
          1100,
          800,
          1200,
          800,
          950,
          800,
          1390,
          1265,
          1300,
          1000,
          2200,
          1490,
          1950,
          1700,
          1500,
          1900,
          1800,
          1000,
          3000,
          1250,
          1950,
          1490,
          1600,
          950,
          950,
          1700,
          1650,
          1100,
          2500,
          900,
          700,
          700,
          1400,
          1150,
          1300,
          999,
          2400,
          1800,
          1200,
          900,
          1200,
          800,
          1750,
          1490,
          1200,
          1000,
          1000,
          1000,
          1250,
          1300,
          1300,
          1800,
          1300,
          1600,
          1300,
          1400,
          1100,
          1250,
          1700,
          1100,
          1800,
          1700,
          1700,
          1650,
          1950,
          1850,
          1100,
          790,
          750,
          1600,
          1200,
          950,
          1500,
          1500,
          2000,
          1600,
          1100,
          1000,
          1800,
          1500,
          1750,
          2300,
          1600,
          1600,
          1300,
          1480,
          1400,
          1500,
          1450,
          1700,
          2100,
          1500,
          1100,
          1050,
          1800,
          1100,
          2200,
          1000,
          1199,
          1800,
          2400,
          1800,
          2200,
          1490,
          1600,
          590,
          690,
          690,
          1250,
          1750,
          1600,
          1300,
          1600,
          2300,
          890,
          950,
          2100,
          1850,
          1700,
          1800,
          2000,
          1500,
          2300,
          2100,
          1400,
          920,
          790,
          1350,
          1600,
          950,
          1300,
          1000,
          1590,
          2200,
          2650,
          1100,
          2250,
          2150,
          2000,
          1500,
          1900,
          1090,
          1700,
          1500,
          1500,
          1880,
          271,
          1250,
          2000,
          1350,
          1600,
          1000,
          1500,
          1800,
          1950,
          1980,
          700,
          1900,
          1200,
          1150,
          1390,
          1650,
          1200,
          1400,
          1600,
          800,
          1150,
          1200,
          1800,
          1850,
          1300,
          1550,
          1300,
          1650,
          1600,
          1400,
          650,
          1500,
          1500,
          1794,
          1800,
          1500,
          1700,
          1450,
          1400,
          800,
          1200,
          1200,
          1600,
          900,
          1600,
          900,
          1490,
          1450,
          1350,
          967,
          390,
          1550,
          2950,
          1850,
          390,
          1500,
          1599,
          1300,
          1500,
          1200,
          1600,
          1100,
          1980,
          1500,
          2000,
          1000,
          1980,
          1100,
          1290,
          1550,
          1300,
          800,
          1250,
          800,
          1150,
          1300,
          1400,
          1300,
          2200,
          1850,
          1200,
          1200,
          700,
          550,
          1300,
          1400,
          1200,
          2000,
          1000,
          1150,
          1200,
          1200,
          1200,
          1200,
          1200,
          1600,
          1000,
          1900,
          1350,
          750,
          550,
          1650,
          1200,
          1300,
          940,
          1250,
          2200,
          1850,
          1700,
          900,
          1500,
          1500,
          800,
          1299,
          1100,
          990,
          1090,
          1000,
          900,
          2000,
          1000,
          1050,
          1500,
          1950,
          2300,
          1499,
          1500,
          1200,
          800,
          1750,
          1100,
          1100,
          980,
          2300,
          550,
          1190,
          1500,
          1500,
          1500,
          1350,
          1790,
          1200,
          900,
          1750,
          1300,
          1100,
          1400,
          1500,
          1450,
          1400,
          1000,
          1500,
          390,
          390,
          1100,
          1200,
          1600,
          1200,
          1200,
          1250,
          2000,
          1800,
          1200,
          1590,
          1200,
          1000,
          1200,
          750,
          1700,
          1600,
          1000,
          1400,
          1350,
          1300,
          1299,
          1100,
          1727,
          1499,
          1100,
          1300,
          950,
          1500,
          1800,
          1500,
          1000,
          1700,
          2200,
          1600,
          1600,
          1200,
          1200,
          1150,
          1350,
          1700,
          2300,
          1200,
          1400,
          1100,
          1200,
          1200,
          1200,
          1200,
          900,
          1200,
          1400
         ],
         "y0": " ",
         "yaxis": "y"
        }
       ],
       "layout": {
        "boxmode": "group",
        "legend": {
         "tracegroupgap": 0
        },
        "template": {
         "data": {
          "bar": [
           {
            "error_x": {
             "color": "#2a3f5f"
            },
            "error_y": {
             "color": "#2a3f5f"
            },
            "marker": {
             "line": {
              "color": "#E5ECF6",
              "width": 0.5
             }
            },
            "type": "bar"
           }
          ],
          "barpolar": [
           {
            "marker": {
             "line": {
              "color": "#E5ECF6",
              "width": 0.5
             }
            },
            "type": "barpolar"
           }
          ],
          "carpet": [
           {
            "aaxis": {
             "endlinecolor": "#2a3f5f",
             "gridcolor": "white",
             "linecolor": "white",
             "minorgridcolor": "white",
             "startlinecolor": "#2a3f5f"
            },
            "baxis": {
             "endlinecolor": "#2a3f5f",
             "gridcolor": "white",
             "linecolor": "white",
             "minorgridcolor": "white",
             "startlinecolor": "#2a3f5f"
            },
            "type": "carpet"
           }
          ],
          "choropleth": [
           {
            "colorbar": {
             "outlinewidth": 0,
             "ticks": ""
            },
            "type": "choropleth"
           }
          ],
          "contour": [
           {
            "colorbar": {
             "outlinewidth": 0,
             "ticks": ""
            },
            "colorscale": [
             [
              0,
              "#0d0887"
             ],
             [
              0.1111111111111111,
              "#46039f"
             ],
             [
              0.2222222222222222,
              "#7201a8"
             ],
             [
              0.3333333333333333,
              "#9c179e"
             ],
             [
              0.4444444444444444,
              "#bd3786"
             ],
             [
              0.5555555555555556,
              "#d8576b"
             ],
             [
              0.6666666666666666,
              "#ed7953"
             ],
             [
              0.7777777777777778,
              "#fb9f3a"
             ],
             [
              0.8888888888888888,
              "#fdca26"
             ],
             [
              1,
              "#f0f921"
             ]
            ],
            "type": "contour"
           }
          ],
          "contourcarpet": [
           {
            "colorbar": {
             "outlinewidth": 0,
             "ticks": ""
            },
            "type": "contourcarpet"
           }
          ],
          "heatmap": [
           {
            "colorbar": {
             "outlinewidth": 0,
             "ticks": ""
            },
            "colorscale": [
             [
              0,
              "#0d0887"
             ],
             [
              0.1111111111111111,
              "#46039f"
             ],
             [
              0.2222222222222222,
              "#7201a8"
             ],
             [
              0.3333333333333333,
              "#9c179e"
             ],
             [
              0.4444444444444444,
              "#bd3786"
             ],
             [
              0.5555555555555556,
              "#d8576b"
             ],
             [
              0.6666666666666666,
              "#ed7953"
             ],
             [
              0.7777777777777778,
              "#fb9f3a"
             ],
             [
              0.8888888888888888,
              "#fdca26"
             ],
             [
              1,
              "#f0f921"
             ]
            ],
            "type": "heatmap"
           }
          ],
          "heatmapgl": [
           {
            "colorbar": {
             "outlinewidth": 0,
             "ticks": ""
            },
            "colorscale": [
             [
              0,
              "#0d0887"
             ],
             [
              0.1111111111111111,
              "#46039f"
             ],
             [
              0.2222222222222222,
              "#7201a8"
             ],
             [
              0.3333333333333333,
              "#9c179e"
             ],
             [
              0.4444444444444444,
              "#bd3786"
             ],
             [
              0.5555555555555556,
              "#d8576b"
             ],
             [
              0.6666666666666666,
              "#ed7953"
             ],
             [
              0.7777777777777778,
              "#fb9f3a"
             ],
             [
              0.8888888888888888,
              "#fdca26"
             ],
             [
              1,
              "#f0f921"
             ]
            ],
            "type": "heatmapgl"
           }
          ],
          "histogram": [
           {
            "marker": {
             "colorbar": {
              "outlinewidth": 0,
              "ticks": ""
             }
            },
            "type": "histogram"
           }
          ],
          "histogram2d": [
           {
            "colorbar": {
             "outlinewidth": 0,
             "ticks": ""
            },
            "colorscale": [
             [
              0,
              "#0d0887"
             ],
             [
              0.1111111111111111,
              "#46039f"
             ],
             [
              0.2222222222222222,
              "#7201a8"
             ],
             [
              0.3333333333333333,
              "#9c179e"
             ],
             [
              0.4444444444444444,
              "#bd3786"
             ],
             [
              0.5555555555555556,
              "#d8576b"
             ],
             [
              0.6666666666666666,
              "#ed7953"
             ],
             [
              0.7777777777777778,
              "#fb9f3a"
             ],
             [
              0.8888888888888888,
              "#fdca26"
             ],
             [
              1,
              "#f0f921"
             ]
            ],
            "type": "histogram2d"
           }
          ],
          "histogram2dcontour": [
           {
            "colorbar": {
             "outlinewidth": 0,
             "ticks": ""
            },
            "colorscale": [
             [
              0,
              "#0d0887"
             ],
             [
              0.1111111111111111,
              "#46039f"
             ],
             [
              0.2222222222222222,
              "#7201a8"
             ],
             [
              0.3333333333333333,
              "#9c179e"
             ],
             [
              0.4444444444444444,
              "#bd3786"
             ],
             [
              0.5555555555555556,
              "#d8576b"
             ],
             [
              0.6666666666666666,
              "#ed7953"
             ],
             [
              0.7777777777777778,
              "#fb9f3a"
             ],
             [
              0.8888888888888888,
              "#fdca26"
             ],
             [
              1,
              "#f0f921"
             ]
            ],
            "type": "histogram2dcontour"
           }
          ],
          "mesh3d": [
           {
            "colorbar": {
             "outlinewidth": 0,
             "ticks": ""
            },
            "type": "mesh3d"
           }
          ],
          "parcoords": [
           {
            "line": {
             "colorbar": {
              "outlinewidth": 0,
              "ticks": ""
             }
            },
            "type": "parcoords"
           }
          ],
          "pie": [
           {
            "automargin": true,
            "type": "pie"
           }
          ],
          "scatter": [
           {
            "marker": {
             "colorbar": {
              "outlinewidth": 0,
              "ticks": ""
             }
            },
            "type": "scatter"
           }
          ],
          "scatter3d": [
           {
            "line": {
             "colorbar": {
              "outlinewidth": 0,
              "ticks": ""
             }
            },
            "marker": {
             "colorbar": {
              "outlinewidth": 0,
              "ticks": ""
             }
            },
            "type": "scatter3d"
           }
          ],
          "scattercarpet": [
           {
            "marker": {
             "colorbar": {
              "outlinewidth": 0,
              "ticks": ""
             }
            },
            "type": "scattercarpet"
           }
          ],
          "scattergeo": [
           {
            "marker": {
             "colorbar": {
              "outlinewidth": 0,
              "ticks": ""
             }
            },
            "type": "scattergeo"
           }
          ],
          "scattergl": [
           {
            "marker": {
             "colorbar": {
              "outlinewidth": 0,
              "ticks": ""
             }
            },
            "type": "scattergl"
           }
          ],
          "scattermapbox": [
           {
            "marker": {
             "colorbar": {
              "outlinewidth": 0,
              "ticks": ""
             }
            },
            "type": "scattermapbox"
           }
          ],
          "scatterpolar": [
           {
            "marker": {
             "colorbar": {
              "outlinewidth": 0,
              "ticks": ""
             }
            },
            "type": "scatterpolar"
           }
          ],
          "scatterpolargl": [
           {
            "marker": {
             "colorbar": {
              "outlinewidth": 0,
              "ticks": ""
             }
            },
            "type": "scatterpolargl"
           }
          ],
          "scatterternary": [
           {
            "marker": {
             "colorbar": {
              "outlinewidth": 0,
              "ticks": ""
             }
            },
            "type": "scatterternary"
           }
          ],
          "surface": [
           {
            "colorbar": {
             "outlinewidth": 0,
             "ticks": ""
            },
            "colorscale": [
             [
              0,
              "#0d0887"
             ],
             [
              0.1111111111111111,
              "#46039f"
             ],
             [
              0.2222222222222222,
              "#7201a8"
             ],
             [
              0.3333333333333333,
              "#9c179e"
             ],
             [
              0.4444444444444444,
              "#bd3786"
             ],
             [
              0.5555555555555556,
              "#d8576b"
             ],
             [
              0.6666666666666666,
              "#ed7953"
             ],
             [
              0.7777777777777778,
              "#fb9f3a"
             ],
             [
              0.8888888888888888,
              "#fdca26"
             ],
             [
              1,
              "#f0f921"
             ]
            ],
            "type": "surface"
           }
          ],
          "table": [
           {
            "cells": {
             "fill": {
              "color": "#EBF0F8"
             },
             "line": {
              "color": "white"
             }
            },
            "header": {
             "fill": {
              "color": "#C8D4E3"
             },
             "line": {
              "color": "white"
             }
            },
            "type": "table"
           }
          ]
         },
         "layout": {
          "annotationdefaults": {
           "arrowcolor": "#2a3f5f",
           "arrowhead": 0,
           "arrowwidth": 1
          },
          "autotypenumbers": "strict",
          "coloraxis": {
           "colorbar": {
            "outlinewidth": 0,
            "ticks": ""
           }
          },
          "colorscale": {
           "diverging": [
            [
             0,
             "#8e0152"
            ],
            [
             0.1,
             "#c51b7d"
            ],
            [
             0.2,
             "#de77ae"
            ],
            [
             0.3,
             "#f1b6da"
            ],
            [
             0.4,
             "#fde0ef"
            ],
            [
             0.5,
             "#f7f7f7"
            ],
            [
             0.6,
             "#e6f5d0"
            ],
            [
             0.7,
             "#b8e186"
            ],
            [
             0.8,
             "#7fbc41"
            ],
            [
             0.9,
             "#4d9221"
            ],
            [
             1,
             "#276419"
            ]
           ],
           "sequential": [
            [
             0,
             "#0d0887"
            ],
            [
             0.1111111111111111,
             "#46039f"
            ],
            [
             0.2222222222222222,
             "#7201a8"
            ],
            [
             0.3333333333333333,
             "#9c179e"
            ],
            [
             0.4444444444444444,
             "#bd3786"
            ],
            [
             0.5555555555555556,
             "#d8576b"
            ],
            [
             0.6666666666666666,
             "#ed7953"
            ],
            [
             0.7777777777777778,
             "#fb9f3a"
            ],
            [
             0.8888888888888888,
             "#fdca26"
            ],
            [
             1,
             "#f0f921"
            ]
           ],
           "sequentialminus": [
            [
             0,
             "#0d0887"
            ],
            [
             0.1111111111111111,
             "#46039f"
            ],
            [
             0.2222222222222222,
             "#7201a8"
            ],
            [
             0.3333333333333333,
             "#9c179e"
            ],
            [
             0.4444444444444444,
             "#bd3786"
            ],
            [
             0.5555555555555556,
             "#d8576b"
            ],
            [
             0.6666666666666666,
             "#ed7953"
            ],
            [
             0.7777777777777778,
             "#fb9f3a"
            ],
            [
             0.8888888888888888,
             "#fdca26"
            ],
            [
             1,
             "#f0f921"
            ]
           ]
          },
          "colorway": [
           "#636efa",
           "#EF553B",
           "#00cc96",
           "#ab63fa",
           "#FFA15A",
           "#19d3f3",
           "#FF6692",
           "#B6E880",
           "#FF97FF",
           "#FECB52"
          ],
          "font": {
           "color": "#2a3f5f"
          },
          "geo": {
           "bgcolor": "white",
           "lakecolor": "white",
           "landcolor": "#E5ECF6",
           "showlakes": true,
           "showland": true,
           "subunitcolor": "white"
          },
          "hoverlabel": {
           "align": "left"
          },
          "hovermode": "closest",
          "mapbox": {
           "style": "light"
          },
          "paper_bgcolor": "white",
          "plot_bgcolor": "#E5ECF6",
          "polar": {
           "angularaxis": {
            "gridcolor": "white",
            "linecolor": "white",
            "ticks": ""
           },
           "bgcolor": "#E5ECF6",
           "radialaxis": {
            "gridcolor": "white",
            "linecolor": "white",
            "ticks": ""
           }
          },
          "scene": {
           "xaxis": {
            "backgroundcolor": "#E5ECF6",
            "gridcolor": "white",
            "gridwidth": 2,
            "linecolor": "white",
            "showbackground": true,
            "ticks": "",
            "zerolinecolor": "white"
           },
           "yaxis": {
            "backgroundcolor": "#E5ECF6",
            "gridcolor": "white",
            "gridwidth": 2,
            "linecolor": "white",
            "showbackground": true,
            "ticks": "",
            "zerolinecolor": "white"
           },
           "zaxis": {
            "backgroundcolor": "#E5ECF6",
            "gridcolor": "white",
            "gridwidth": 2,
            "linecolor": "white",
            "showbackground": true,
            "ticks": "",
            "zerolinecolor": "white"
           }
          },
          "shapedefaults": {
           "line": {
            "color": "#2a3f5f"
           }
          },
          "ternary": {
           "aaxis": {
            "gridcolor": "white",
            "linecolor": "white",
            "ticks": ""
           },
           "baxis": {
            "gridcolor": "white",
            "linecolor": "white",
            "ticks": ""
           },
           "bgcolor": "#E5ECF6",
           "caxis": {
            "gridcolor": "white",
            "linecolor": "white",
            "ticks": ""
           }
          },
          "title": {
           "x": 0.05
          },
          "xaxis": {
           "automargin": true,
           "gridcolor": "white",
           "linecolor": "white",
           "ticks": "",
           "title": {
            "standoff": 15
           },
           "zerolinecolor": "white",
           "zerolinewidth": 2
          },
          "yaxis": {
           "automargin": true,
           "gridcolor": "white",
           "linecolor": "white",
           "ticks": "",
           "title": {
            "standoff": 15
           },
           "zerolinecolor": "white",
           "zerolinewidth": 2
          }
         }
        },
        "title": {
         "text": "Rozrzut wszystkich ofert wg. ceny.- przybliż wykres w interesujące miejsce"
        },
        "xaxis": {
         "anchor": "y",
         "domain": [
          0,
          1
         ]
        },
        "yaxis": {
         "anchor": "x",
         "domain": [
          0,
          1
         ],
         "title": {
          "text": "cena"
         }
        }
       }
      },
      "text/html": [
       "<div>                            <div id=\"21303699-ae7a-4c09-b9f4-c1c56b6806d9\" class=\"plotly-graph-div\" style=\"height:525px; width:100%;\"></div>            <script type=\"text/javascript\">                require([\"plotly\"], function(Plotly) {                    window.PLOTLYENV=window.PLOTLYENV || {};                                    if (document.getElementById(\"21303699-ae7a-4c09-b9f4-c1c56b6806d9\")) {                    Plotly.newPlot(                        \"21303699-ae7a-4c09-b9f4-c1c56b6806d9\",                        [{\"alignmentgroup\": \"True\", \"boxpoints\": \"all\", \"customdata\": [[43, 2, \"Katowice\"], [35, 2, \"Katowice\"], [43, 2, \"Katowice\"], [30, 1, \"Bielsko-Bia\\u0142a\"], [35, 2, \"Katowice\"], [50, 2, \"Katowice\"], [37, 2, \"Katowice\"], [35, 2, \"Katowice\"], [47, 2, \"Bielsko-Bia\\u0142a\"], [28, 1, \"Katowice\"], [40, 2, \"Katowice\"], [31, 1, \"Bielsko-Bia\\u0142a\"], [39, 2, \"Katowice\"], [39, 1, \"Katowice\"], [40, 2, \"Katowice\"], [50, 2, \"Katowice\"], [37, 1, \"Katowice\"], [46, 2, \"Katowice\"], [31, 1, \"Tychy\"], [24, 1, \"Katowice\"], [18, 1, \"Katowice\"], [25, 1, \"Katowice\"], [45, 2, \"Katowice\"], [41, 1, \"Bielsko-Bia\\u0142a\"], [40, 2, \"Katowice\"], [41, 1, \"Tychy\"], [31, 2, \"Katowice\"], [42, 2, \"Tychy\"], [43, 2, \"Katowice\"], [41, 1, \"Katowice\"], [18, 1, \"Katowice\"], [29, 1, \"Bielsko-Bia\\u0142a\"], [21, 1, \"Katowice\"], [16, 1, \"Katowice\"], [47, 2, \"Katowice\"], [19, 1, \"Katowice\"], [40, 2, \"Katowice\"], [35, 2, \"Katowice\"], [28, 1, \"Katowice\"], [45, 2, \"Bielsko-Bia\\u0142a\"], [47, 2, \"Katowice\"], [43, 2, \"Tychy\"], [44, 2, \"Katowice\"], [47, 2, \"Tychy\"], [24, 1, \"Katowice\"], [28, 1, \"Katowice\"], [36, 2, \"Bielsko-Bia\\u0142a\"], [48, 3, \"Bielsko-Bia\\u0142a\"], [43, 2, \"Bielsko-Bia\\u0142a\"], [17, 1, \"Katowice\"], [38, 2, \"Katowice\"], [35, 2, \"Katowice\"], [49, 2, \"Katowice\"], [38, 2, \"Tychy\"], [42, 2, \"Katowice\"], [36, 1, \"Katowice\"], [50, 3, \"Bielsko-Bia\\u0142a\"], [40, 2, \"Katowice\"], [40, 2, \"Tychy\"], [42, 2, \"Katowice\"], [26, 1, \"Bielsko-Bia\\u0142a\"], [40, 2, \"Katowice\"], [34, 1, \"Katowice\"], [38, 2, \"Bielsko-Bia\\u0142a\"], [27, 1, \"Katowice\"], [44, 2, \"Bielsko-Bia\\u0142a\"], [30, 1, \"Katowice\"], [41, 2, \"Bielsko-Bia\\u0142a\"], [50, 2, \"Katowice\"], [36, 2, \"Tychy\"], [32, 1, \"Katowice\"], [36, 2, \"Katowice\"], [42, 2, \"Katowice\"], [39, 1, \"Katowice\"], [36, 2, \"Katowice\"], [23, 1, \"Katowice\"], [49, 2, \"Katowice\"], [23, 1, \"Katowice\"], [25, 1, \"Katowice\"], [32, 2, \"Katowice\"], [40, 2, \"Katowice\"], [39, 2, \"Katowice\"], [32, 1, \"Katowice\"], [46, 3, \"Bielsko-Bia\\u0142a\"], [41, 2, \"Katowice\"], [39, 2, \"Katowice\"], [33, 2, \"Katowice\"], [38, 2, \"Katowice\"], [44, 2, \"Katowice\"], [23, 1, \"Katowice\"], [48, 2, \"Bielsko-Bia\\u0142a\"], [48, 2, \"Katowice\"], [40, 1, \"Katowice\"], [46, 2, \"Katowice\"], [35, 1, \"Katowice\"], [26, 1, \"Katowice\"], [22, 1, \"Katowice\"], [30, 1, \"Bielsko-Bia\\u0142a\"], [40, 2, \"Bielsko-Bia\\u0142a\"], [25, 1, \"Bielsko-Bia\\u0142a\"], [33, 2, \"Katowice\"], [37, 2, \"Katowice\"], [41, 2, \"Tychy\"], [38, 1, \"Katowice\"], [38, 2, \"Katowice\"], [26, 1, \"Katowice\"], [45, 2, \"Bielsko-Bia\\u0142a\"], [22, 1, \"Katowice\"], [30, 2, \"Katowice\"], [38, 2, \"Bielsko-Bia\\u0142a\"], [38, 2, \"Katowice\"], [49, 2, \"Katowice\"], [30, 1, \"Bielsko-Bia\\u0142a\"], [48, 2, \"Bielsko-Bia\\u0142a\"], [40, 2, \"Katowice\"], [38, 1, \"Katowice\"], [42, 2, \"Katowice\"], [40, 2, \"Katowice\"], [41, 2, \"Bielsko-Bia\\u0142a\"], [45, 2, \"Katowice\"], [50, 2, \"Katowice\"], [50, 2, \"Tychy\"], [31, 2, \"Katowice\"], [41, 2, \"Katowice\"], [49, 2, \"Katowice\"], [38, 2, \"Katowice\"], [16, 1, \"Katowice\"], [36, 2, \"Katowice\"], [43, 2, \"Katowice\"], [35, 1, \"Bielsko-Bia\\u0142a\"], [37, 2, \"Katowice\"], [32, 1, \"Bielsko-Bia\\u0142a\"], [27, 1, \"Tychy\"], [46, 2, \"Katowice\"], [44, 2, \"Katowice\"], [39, 2, \"Katowice\"], [28, 1, \"Katowice\"], [27, 1, \"Katowice\"], [50, 2, \"Katowice\"], [38, 2, \"Tychy\"], [50, 2, \"Bielsko-Bia\\u0142a\"], [40, 2, \"Katowice\"], [50, 2, \"Bielsko-Bia\\u0142a\"], [50, 2, \"Katowice\"], [45, 2, \"Katowice\"], [42, 2, \"Katowice\"], [40, 2, \"Katowice\"], [37, 2, \"Katowice\"], [35, 1, \"Katowice\"], [46, 2, \"Katowice\"], [25, 1, \"Katowice\"], [48, 2, \"Katowice\"], [38, 2, \"Katowice\"], [25, 1, \"Katowice\"], [35, 2, \"Katowice\"], [49, 2, \"Bielsko-Bia\\u0142a\"], [25, 1, \"Katowice\"], [44, 2, \"Katowice\"], [31, 2, \"Katowice\"], [29, 1, \"Katowice\"], [48, 2, \"Katowice\"], [16, 1, \"Katowice\"], [40, 2, \"Katowice\"], [42, 2, \"Katowice\"], [43, 2, \"Katowice\"], [25, 1, \"Katowice\"], [34, 1, \"Bielsko-Bia\\u0142a\"], [49, 3, \"Katowice\"], [38, 1, \"Bielsko-Bia\\u0142a\"], [50, 2, \"Katowice\"], [18, 1, \"Katowice\"], [39, 2, \"Tychy\"], [47, 2, \"Katowice\"], [36, 2, \"Katowice\"], [50, 2, \"Katowice\"], [47, 2, \"Katowice\"], [30, 2, \"Katowice\"], [35, 2, \"Katowice\"], [39, 2, \"Katowice\"], [38, 2, \"Tychy\"], [45, 2, \"Bielsko-Bia\\u0142a\"], [45, 2, \"Katowice\"], [49, 2, \"Bielsko-Bia\\u0142a\"], [35, 2, \"Katowice\"], [40, 2, \"Katowice\"], [47, 3, \"Katowice\"], [29, 2, \"Bielsko-Bia\\u0142a\"], [30, 2, \"Katowice\"], [46, 2, \"Katowice\"], [36, 2, \"Bielsko-Bia\\u0142a\"], [38, 2, \"Katowice\"], [38, 2, \"Bielsko-Bia\\u0142a\"], [24, 1, \"Katowice\"], [44, 2, \"Bielsko-Bia\\u0142a\"], [26, 1, \"Katowice\"], [29, 1, \"Bielsko-Bia\\u0142a\"], [34, 1, \"Katowice\"], [41, 2, \"Katowice\"], [42, 2, \"Katowice\"], [38, 2, \"Katowice\"], [40, 2, \"Tychy\"], [39, 2, \"Bielsko-Bia\\u0142a\"], [42, 2, \"Katowice\"], [29, 1, \"Katowice\"], [50, 2, \"Katowice\"], [47, 2, \"Katowice\"], [45, 2, \"Katowice\"], [38, 2, \"Katowice\"], [44, 2, \"Katowice\"], [46, 2, \"Katowice\"], [33, 2, \"Bielsko-Bia\\u0142a\"], [44, 2, \"Katowice\"], [48, 2, \"Katowice\"], [44, 2, \"Bielsko-Bia\\u0142a\"], [29, 1, \"Bielsko-Bia\\u0142a\"], [34, 1, \"Katowice\"], [38, 2, \"Katowice\"], [31, 2, \"Katowice\"], [38, 2, \"Katowice\"], [14, 1, \"Katowice\"], [48, 2, \"Katowice\"], [40, 1, \"Katowice\"], [33, 2, \"Katowice\"], [35, 2, \"Katowice\"], [50, 3, \"Katowice\"], [35, 2, \"Katowice\"], [32, 1, \"Katowice\"], [42, 2, \"Katowice\"], [35, 2, \"Katowice\"], [43, 2, \"Katowice\"], [38, 2, \"Katowice\"], [49, 3, \"Katowice\"], [40, 2, \"Katowice\"], [48, 1, \"Katowice\"], [43, 1, \"Katowice\"], [36, 1, \"Bielsko-Bia\\u0142a\"], [46, 2, \"Katowice\"], [42, 2, \"Tychy\"], [50, 3, \"Katowice\"], [38, 1, \"Katowice\"], [18, 1, \"Katowice\"], [37, 1, \"Katowice\"], [40, 2, \"Katowice\"], [45, 2, \"Katowice\"], [48, 2, \"Tychy\"], [33, 2, \"Katowice\"], [32, 2, \"Katowice\"], [20, 1, \"Katowice\"], [50, 2, \"Katowice\"], [35, 1, \"Katowice\"], [38, 2, \"Katowice\"], [30, 2, \"Katowice\"], [41, 2, \"Katowice\"], [39, 2, \"Katowice\"], [47, 2, \"Katowice\"], [38, 2, \"Bielsko-Bia\\u0142a\"], [36, 2, \"Katowice\"], [40, 2, \"Katowice\"], [27, 1, \"Katowice\"], [45, 2, \"Bielsko-Bia\\u0142a\"], [29, 1, \"Bielsko-Bia\\u0142a\"], [35, 2, \"Katowice\"], [32, 1, \"Katowice\"], [16, 1, \"Katowice\"], [26, 1, \"Katowice\"], [32, 1, \"Katowice\"], [48, 2, \"Katowice\"], [43, 2, \"Katowice\"], [40, 2, \"Katowice\"], [36, 2, \"Tychy\"], [43, 2, \"Katowice\"], [30, 1, \"Katowice\"], [37, 2, \"Bielsko-Bia\\u0142a\"], [38, 2, \"Katowice\"], [43, 2, \"Katowice\"], [43, 2, \"Katowice\"], [24, 1, \"Bielsko-Bia\\u0142a\"], [37, 1, \"Katowice\"], [36, 2, \"Katowice\"], [25, 1, \"Katowice\"], [36, 2, \"Katowice\"], [23, 1, \"Katowice\"], [42, 2, \"Katowice\"], [50, 2, \"Katowice\"], [49, 2, \"Katowice\"], [38, 1, \"Tychy\"], [32, 2, \"Katowice\"], [30, 2, \"Katowice\"], [34, 2, \"Katowice\"], [27, 1, \"Katowice\"], [41, 2, \"Tychy\"], [29, 1, \"Katowice\"], [20, 1, \"Katowice\"], [48, 2, \"Katowice\"], [48, 2, \"Katowice\"], [39, 2, \"Katowice\"], [39, 2, \"Tychy\"], [43, 2, \"Katowice\"], [46, 2, \"Katowice\"], [33, 2, \"Katowice\"], [47, 2, \"Katowice\"], [37, 1, \"Katowice\"], [43, 2, \"Bielsko-Bia\\u0142a\"], [34, 1, \"Katowice\"], [36, 2, \"Bielsko-Bia\\u0142a\"], [25, 1, \"Bielsko-Bia\\u0142a\"], [44, 2, \"Bielsko-Bia\\u0142a\"], [32, 1, \"Bielsko-Bia\\u0142a\"], [30, 1, \"Katowice\"], [41, 2, \"Katowice\"], [40, 2, \"Katowice\"], [37, 2, \"Katowice\"], [45, 2, \"Katowice\"], [38, 2, \"Katowice\"], [39, 2, \"Katowice\"], [48, 2, \"Katowice\"], [43, 2, \"Katowice\"], [37, 2, \"Katowice\"], [50, 2, \"Katowice\"], [21, 1, \"Katowice\"], [23, 1, \"Katowice\"], [38, 2, \"Katowice\"], [38, 2, \"Katowice\"], [39, 1, \"Katowice\"], [38, 2, \"Katowice\"], [40, 2, \"Katowice\"], [36, 1, \"Katowice\"], [33, 2, \"Katowice\"], [49, 3, \"Katowice\"], [20, 1, \"Katowice\"], [43, 2, \"Katowice\"], [49, 2, \"Katowice\"], [39, 2, \"Tychy\"], [43, 2, \"Katowice\"], [35, 2, \"Katowice\"], [50, 2, \"Katowice\"], [35, 1, \"Katowice\"], [48, 2, \"Katowice\"], [21, 1, \"Katowice\"], [43, 2, \"Katowice\"], [42, 2, \"Tychy\"], [25, 1, \"Katowice\"], [28, 1, \"Katowice\"], [31, 1, \"Tychy\"], [41, 2, \"Katowice\"], [22, 1, \"Katowice\"], [41, 2, \"Katowice\"], [47, 2, \"Katowice\"], [44, 2, \"Katowice\"], [37, 2, \"Katowice\"], [36, 2, \"Katowice\"], [44, 2, \"Katowice\"], [45, 2, \"Katowice\"], [40, 2, \"Katowice\"], [26, 1, \"Katowice\"], [42, 3, \"Bielsko-Bia\\u0142a\"], [34, 1, \"Tychy\"], [41, 2, \"Katowice\"], [30, 2, \"Katowice\"], [50, 2, \"Katowice\"], [36, 2, \"Katowice\"], [38, 2, \"Katowice\"], [38, 2, \"Tychy\"], [50, 3, \"Katowice\"], [17, 1, \"Katowice\"], [40, 2, \"Katowice\"], [44, 2, \"Bielsko-Bia\\u0142a\"], [48, 2, \"Katowice\"], [37, 1, \"Katowice\"], [48, 3, \"Katowice\"], [25, 1, \"Bielsko-Bia\\u0142a\"], [47, 2, \"Katowice\"], [30, 1, \"Katowice\"], [36, 1, \"Katowice\"], [35, 2, \"Katowice\"], [47, 2, \"Katowice\"], [40, 2, \"Tychy\"], [42, 2, \"Tychy\"], [40, 2, \"Katowice\"], [48, 2, \"Katowice\"], [39, 2, \"Katowice\"], [20, 1, \"Katowice\"], [45, 2, \"Katowice\"], [28, 1, \"Katowice\"], [10, 1, \"Katowice\"], [20, 1, \"Katowice\"], [20, 1, \"Katowice\"], [20, 1, \"Katowice\"], [30, 1, \"Bielsko-Bia\\u0142a\"], [23, 1, \"Katowice\"], [17, 1, \"Katowice\"], [35, 1, \"Katowice\"], [14, 1, \"Katowice\"], [35, 2, \"Katowice\"], [28, 1, \"Katowice\"], [26, 2, \"Katowice\"], [14, 1, \"Katowice\"], [45, 3, \"Katowice\"], [21, 1, \"Katowice\"], [26, 1, \"Katowice\"], [30, 1, \"Katowice\"], [18, 1, \"Katowice\"], [39, 1, \"Katowice\"], [50, 3, \"Katowice\"], [46, 2, \"Katowice\"], [27, 1, \"Katowice\"], [32, 2, \"Katowice\"], [33, 2, \"Tychy\"], [29, 1, \"Katowice\"], [40, 1, \"Katowice\"], [35, 2, \"Katowice\"], [49, 2, \"Katowice\"], [37, 2, \"Bielsko-Bia\\u0142a\"], [50, 2, \"Katowice\"], [50, 2, \"Katowice\"], [30, 2, \"Katowice\"], [43, 2, \"Katowice\"], [50, 2, \"Katowice\"], [50, 3, \"Katowice\"], [40, 1, \"Katowice\"], [44, 2, \"Bielsko-Bia\\u0142a\"], [36, 1, \"Katowice\"], [40, 1, \"Katowice\"], [37, 2, \"Katowice\"], [36, 2, \"Tychy\"], [40, 2, \"Katowice\"], [40, 2, \"Katowice\"], [35, 1, \"Katowice\"], [36, 2, \"Katowice\"], [46, 2, \"Katowice\"], [50, 2, \"Katowice\"], [43, 2, \"Katowice\"], [39, 1, \"Katowice\"], [38, 2, \"Bielsko-Bia\\u0142a\"], [20, 1, \"Bielsko-Bia\\u0142a\"], [25, 1, \"Bielsko-Bia\\u0142a\"], [29, 1, \"Bielsko-Bia\\u0142a\"], [40, 2, \"Katowice\"], [44, 2, \"Tychy\"], [34, 1, \"Bielsko-Bia\\u0142a\"], [38, 2, \"Tychy\"], [40, 2, \"Katowice\"], [36, 2, \"Katowice\"], [42, 3, \"Tychy\"], [24, 1, \"Katowice\"], [46, 2, \"Katowice\"], [24, 1, \"Katowice\"], [21, 1, \"Katowice\"], [29, 1, \"Katowice\"], [48, 2, \"Katowice\"], [30, 1, \"Katowice\"], [46, 2, \"Katowice\"], [48, 2, \"Katowice\"], [17, 1, \"Katowice\"], [20, 1, \"Katowice\"], [38, 2, \"Katowice\"], [25, 1, \"Katowice\"], [35, 2, \"Katowice\"], [16, 1, \"Katowice\"], [37, 1, \"Katowice\"], [28, 1, \"Katowice\"], [15, 1, \"Katowice\"], [50, 3, \"Katowice\"], [46, 2, \"Tychy\"], [40, 2, \"Katowice\"], [37, 2, \"Katowice\"], [30, 1, \"Katowice\"], [30, 1, \"Katowice\"], [26, 1, \"Katowice\"], [34, 2, \"Katowice\"], [48, 2, \"Tychy\"], [41, 2, \"Katowice\"], [50, 2, \"Bielsko-Bia\\u0142a\"], [39, 2, \"Tychy\"], [34, 2, \"Katowice\"], [39, 2, \"Katowice\"], [17, 1, \"Katowice\"], [43, 2, \"Bielsko-Bia\\u0142a\"], [27, 1, \"Katowice\"], [42, 2, \"Katowice\"], [49, 2, \"Katowice\"], [30, 1, \"Katowice\"], [29, 1, \"Katowice\"], [40, 1, \"Katowice\"], [48, 2, \"Bielsko-Bia\\u0142a\"], [40, 2, \"Katowice\"], [43, 2, \"Katowice\"], [39, 1, \"Katowice\"], [38, 2, \"Katowice\"], [50, 2, \"Katowice\"], [47, 2, \"Katowice\"], [43, 2, \"Katowice\"], [43, 2, \"Katowice\"], [42, 2, \"Katowice\"], [39, 2, \"Tychy\"], [38, 2, \"Tychy\"], [43, 2, \"Katowice\"], [43, 2, \"Katowice\"], [43, 2, \"Bielsko-Bia\\u0142a\"], [38, 2, \"Katowice\"], [45, 3, \"Bielsko-Bia\\u0142a\"], [22, 1, \"Katowice\"], [49, 3, \"Katowice\"], [28, 1, \"Katowice\"], [38, 2, \"Katowice\"], [30, 1, \"Katowice\"], [38, 2, \"Bielsko-Bia\\u0142a\"], [47, 2, \"Katowice\"], [46, 2, \"Katowice\"], [45, 2, \"Katowice\"], [30, 1, \"Katowice\"], [31, 1, \"Tychy\"], [39, 2, \"Tychy\"], [38, 2, \"Bielsko-Bia\\u0142a\"], [40, 2, \"Katowice\"], [47, 2, \"Katowice\"], [20, 1, \"Katowice\"], [40, 2, \"Katowice\"], [26, 1, \"Katowice\"], [45, 2, \"Katowice\"], [33, 2, \"Katowice\"], [31, 1, \"Katowice\"], [31, 1, \"Katowice\"], [42, 2, \"Katowice\"], [30, 1, \"Katowice\"], [40, 2, \"Katowice\"], [43, 2, \"Katowice\"], [26, 1, \"Katowice\"], [38, 2, \"Katowice\"], [40, 1, \"Bielsko-Bia\\u0142a\"], [48, 2, \"Katowice\"], [30, 1, \"Katowice\"], [28, 1, \"Katowice\"], [27, 1, \"Katowice\"], [16, 1, \"Katowice\"], [42, 2, \"Katowice\"], [42, 2, \"Katowice\"], [43, 2, \"Katowice\"], [38, 2, \"Katowice\"], [50, 2, \"Katowice\"], [32, 2, \"Katowice\"], [32, 2, \"Katowice\"], [46, 2, \"Bielsko-Bia\\u0142a\"], [43, 2, \"Katowice\"], [39, 2, \"Katowice\"], [33, 1, \"Katowice\"], [36, 1, \"Katowice\"], [44, 2, \"Katowice\"], [47, 2, \"Katowice\"], [33, 1, \"Katowice\"], [46, 2, \"Katowice\"], [50, 2, \"Katowice\"], [36, 1, \"Bielsko-Bia\\u0142a\"], [47, 2, \"Katowice\"], [48, 2, \"Katowice\"], [32, 1, \"Katowice\"], [32, 1, \"Bielsko-Bia\\u0142a\"], [30, 1, \"Katowice\"], [27, 1, \"Katowice\"], [40, 2, \"Katowice\"], [36, 2, \"Bielsko-Bia\\u0142a\"], [36, 2, \"Katowice\"], [33, 1, \"Bielsko-Bia\\u0142a\"], [48, 2, \"Katowice\"], [31, 1, \"Katowice\"], [46, 2, \"Katowice\"], [29, 1, \"Bielsko-Bia\\u0142a\"], [44, 2, \"Katowice\"], [34, 1, \"Katowice\"], [33, 1, \"Katowice\"], [45, 2, \"Katowice\"], [44, 2, \"Bielsko-Bia\\u0142a\"], [30, 1, \"Katowice\"], [35, 2, \"Katowice\"], [38, 2, \"Katowice\"], [25, 1, \"Katowice\"], [38, 2, \"Katowice\"], [39, 2, \"Katowice\"], [36, 2, \"Katowice\"], [38, 2, \"Katowice\"], [18, 1, \"Katowice\"], [39, 2, \"Katowice\"], [45, 2, \"Tychy\"], [19, 1, \"Bielsko-Bia\\u0142a\"], [48, 2, \"Katowice\"], [38, 2, \"Katowice\"], [21, 1, \"Katowice\"], [50, 3, \"Katowice\"], [43, 2, \"Katowice\"], [31, 2, \"Katowice\"], [41, 2, \"Katowice\"], [38, 2, \"Katowice\"], [36, 2, \"Katowice\"], [21, 1, \"Katowice\"], [10, 1, \"Katowice\"], [45, 2, \"Katowice\"], [45, 2, \"Katowice\"], [47, 2, \"Katowice\"], [43, 2, \"Bielsko-Bia\\u0142a\"], [42, 2, \"Katowice\"], [40, 2, \"Katowice\"], [33, 1, \"Bielsko-Bia\\u0142a\"], [39, 2, \"Katowice\"], [43, 2, \"Bielsko-Bia\\u0142a\"], [30, 1, \"Katowice\"], [23, 1, \"Katowice\"], [45, 2, \"Tychy\"], [38, 2, \"Bielsko-Bia\\u0142a\"], [27, 1, \"Katowice\"], [32, 1, \"Katowice\"], [30, 2, \"Katowice\"], [19, 1, \"Katowice\"], [37, 1, \"Katowice\"], [26, 1, \"Katowice\"], [27, 1, \"Katowice\"], [23, 1, \"Katowice\"], [46, 3, \"Bielsko-Bia\\u0142a\"], [27, 1, \"Katowice\"], [38, 1, \"Katowice\"], [37, 2, \"Katowice\"], [50, 2, \"Katowice\"], [36, 2, \"Bielsko-Bia\\u0142a\"], [38, 2, \"Katowice\"], [39, 2, \"Katowice\"], [41, 2, \"Katowice\"], [44, 2, \"Bielsko-Bia\\u0142a\"], [40, 1, \"Katowice\"], [35, 2, \"Katowice\"], [37, 2, \"Katowice\"], [50, 2, \"Katowice\"], [46, 2, \"Katowice\"], [41, 2, \"Katowice\"], [40, 2, \"Katowice\"], [28, 1, \"Katowice\"], [28, 1, \"Katowice\"], [36, 2, \"Bielsko-Bia\\u0142a\"], [30, 1, \"Bielsko-Bia\\u0142a\"], [40, 1, \"Katowice\"], [50, 2, \"Katowice\"], [25, 1, \"Katowice\"], [25, 1, \"Katowice\"], [34, 1, \"Katowice\"], [30, 1, \"Katowice\"], [21, 1, \"Katowice\"], [29, 1, \"Katowice\"], [18, 1, \"Katowice\"], [44, 2, \"Katowice\"], [41, 2, \"Bielsko-Bia\\u0142a\"], [28, 1, \"Katowice\"], [31, 1, \"Katowice\"], [30, 1, \"Bielsko-Bia\\u0142a\"], [38, 2, \"Katowice\"], [44, 2, \"Katowice\"], [37, 2, \"Katowice\"], [38, 2, \"Katowice\"], [20, 1, \"Katowice\"], [20, 1, \"Katowice\"], [49, 2, \"Katowice\"], [30, 1, \"Katowice\"], [39, 1, \"Katowice\"], [48, 2, \"Bielsko-Bia\\u0142a\"], [48, 2, \"Katowice\"], [40, 1, \"Bielsko-Bia\\u0142a\"], [39, 2, \"Katowice\"], [39, 2, \"Katowice\"], [38, 2, \"Katowice\"], [26, 1, \"Katowice\"], [30, 1, \"Katowice\"], [47, 2, \"Bielsko-Bia\\u0142a\"], [38, 2, \"Katowice\"], [50, 2, \"Katowice\"], [40, 2, \"Bielsko-Bia\\u0142a\"], [39, 2, \"Katowice\"], [45, 2, \"Bielsko-Bia\\u0142a\"], [39, 1, \"Katowice\"], [50, 2, \"Katowice\"], [26, 1, \"Katowice\"], [23, 1, \"Katowice\"], [19, 1, \"Katowice\"], [47, 2, \"Katowice\"], [45, 2, \"Katowice\"], [19, 1, \"Katowice\"], [43, 2, \"Katowice\"], [40, 2, \"Tychy\"], [48, 2, \"Katowice\"], [37, 2, \"Katowice\"], [31, 1, \"Katowice\"], [37, 1, \"Katowice\"], [46, 2, \"Katowice\"], [38, 2, \"Katowice\"], [44, 2, \"Katowice\"], [50, 3, \"Katowice\"], [28, 1, \"Bielsko-Bia\\u0142a\"], [47, 2, \"Katowice\"], [25, 2, \"Katowice\"], [38, 2, \"Katowice\"], [35, 1, \"Tychy\"], [43, 2, \"Katowice\"], [22, 1, \"Katowice\"], [35, 2, \"Katowice\"], [41, 2, \"Katowice\"], [45, 2, \"Katowice\"], [22, 1, \"Katowice\"], [20, 1, \"Katowice\"], [41, 2, \"Katowice\"], [49, 2, \"Katowice\"], [40, 2, \"Katowice\"], [34, 1, \"Katowice\"], [31, 1, \"Bielsko-Bia\\u0142a\"], [45, 2, \"Katowice\"], [50, 2, \"Katowice\"], [41, 3, \"Katowice\"], [49, 2, \"Katowice\"], [49, 2, \"Katowice\"], [35, 2, \"Katowice\"], [10, 1, \"Katowice\"], [13, 1, \"Katowice\"], [11, 1, \"Katowice\"], [31, 1, \"Katowice\"], [38, 2, \"Katowice\"], [49, 2, \"Katowice\"], [29, 1, \"Katowice\"], [49, 3, \"Katowice\"], [50, 2, \"Katowice\"], [22, 1, \"Katowice\"], [26, 1, \"Katowice\"], [41, 2, \"Katowice\"], [35, 2, \"Katowice\"], [48, 2, \"Katowice\"], [38, 2, \"Katowice\"], [40, 2, \"Katowice\"], [40, 2, \"Katowice\"], [48, 2, \"Katowice\"], [43, 2, \"Katowice\"], [40, 3, \"Katowice\"], [26, 2, \"Katowice\"], [25, 1, \"Katowice\"], [28, 1, \"Katowice\"], [26, 1, \"Katowice\"], [18, 1, \"Katowice\"], [43, 2, \"Katowice\"], [17, 1, \"Katowice\"], [32, 2, \"Katowice\"], [49, 2, \"Katowice\"], [45, 2, \"Katowice\"], [22, 1, \"Katowice\"], [45, 2, \"Katowice\"], [45, 2, \"Katowice\"], [42, 2, \"Katowice\"], [42, 2, \"Katowice\"], [38, 2, \"Katowice\"], [17, 1, \"Katowice\"], [38, 2, \"Katowice\"], [30, 1, \"Katowice\"], [32, 1, \"Katowice\"], [42, 2, \"Katowice\"], [31, 1, \"Katowice\"], [30, 1, \"Katowice\"], [44, 2, \"Katowice\"], [49, 2, \"Katowice\"], [46, 2, \"Katowice\"], [37, 2, \"Katowice\"], [37, 2, \"Tychy\"], [42, 2, \"Katowice\"], [39, 2, \"Katowice\"], [34, 2, \"Katowice\"], [29, 1, \"Katowice\"], [49, 3, \"Katowice\"], [20, 1, \"Katowice\"], [30, 1, \"Katowice\"], [50, 2, \"Katowice\"], [36, 2, \"Katowice\"], [25, 1, \"Katowice\"], [32, 2, \"Katowice\"], [48, 2, \"Katowice\"], [30, 1, \"Katowice\"], [18, 1, \"Katowice\"], [48, 2, \"Bielsko-Bia\\u0142a\"], [36, 2, \"Katowice\"], [46, 2, \"Katowice\"], [37, 1, \"Katowice\"], [40, 2, \"Katowice\"], [35, 2, \"Katowice\"], [42, 2, \"Katowice\"], [41, 2, \"Katowice\"], [43, 2, \"Bielsko-Bia\\u0142a\"], [16, 1, \"Katowice\"], [35, 1, \"Katowice\"], [35, 1, \"Katowice\"], [43, 2, \"Katowice\"], [45, 2, \"Katowice\"], [29, 1, \"Katowice\"], [43, 2, \"Katowice\"], [36, 2, \"Tychy\"], [39, 2, \"Bielsko-Bia\\u0142a\"], [28, 1, \"Katowice\"], [44, 2, \"Katowice\"], [40, 2, \"Katowice\"], [35, 2, \"Katowice\"], [23, 1, \"Katowice\"], [38, 2, \"Katowice\"], [30, 1, \"Katowice\"], [38, 2, \"Katowice\"], [44, 2, \"Katowice\"], [34, 1, \"Katowice\"], [21, 1, \"Katowice\"], [8, 1, \"Katowice\"], [38, 2, \"Katowice\"], [45, 2, \"Katowice\"], [43, 2, \"Katowice\"], [9, 1, \"Katowice\"], [27, 1, \"Katowice\"], [48, 2, \"Katowice\"], [22, 1, \"Katowice\"], [26, 1, \"Katowice\"], [20, 1, \"Katowice\"], [37, 2, \"Katowice\"], [25, 1, \"Katowice\"], [44, 2, \"Katowice\"], [45, 2, \"Katowice\"], [36, 2, \"Katowice\"], [29, 1, \"Katowice\"], [44, 2, \"Katowice\"], [25, 1, \"Katowice\"], [27, 2, \"Katowice\"], [45, 2, \"Tychy\"], [18, 1, \"Katowice\"], [17, 1, \"Katowice\"], [22, 1, \"Katowice\"], [20, 1, \"Katowice\"], [25, 1, \"Katowice\"], [18, 1, \"Katowice\"], [22, 1, \"Katowice\"], [17, 1, \"Katowice\"], [50, 2, \"Katowice\"], [35, 2, \"Katowice\"], [36, 1, \"Katowice\"], [15, 1, \"Katowice\"], [10, 1, \"Katowice\"], [10, 1, \"Katowice\"], [23, 1, \"Katowice\"], [38, 2, \"Bielsko-Bia\\u0142a\"], [28, 1, \"Katowice\"], [38, 2, \"Katowice\"], [37, 1, \"Katowice\"], [37, 2, \"Katowice\"], [37, 2, \"Katowice\"], [28, 1, \"Katowice\"], [28, 1, \"Katowice\"], [29, 1, \"Katowice\"], [29, 1, \"Katowice\"], [48, 2, \"Katowice\"], [28, 1, \"Katowice\"], [49, 2, \"Bielsko-Bia\\u0142a\"], [45, 2, \"Katowice\"], [10, 1, \"Katowice\"], [11, 1, \"Katowice\"], [48, 2, \"Katowice\"], [36, 2, \"Katowice\"], [48, 2, \"Katowice\"], [18, 1, \"Katowice\"], [29, 1, \"Bielsko-Bia\\u0142a\"], [50, 2, \"Katowice\"], [35, 2, \"Katowice\"], [42, 2, \"Katowice\"], [30, 1, \"Katowice\"], [50, 2, \"Tychy\"], [25, 1, \"Katowice\"], [30, 1, \"Katowice\"], [22, 1, \"Katowice\"], [24, 1, \"Katowice\"], [29, 1, \"Katowice\"], [34, 1, \"Katowice\"], [30, 1, \"Katowice\"], [15, 1, \"Katowice\"], [38, 2, \"Katowice\"], [29, 1, \"Katowice\"], [16, 1, \"Katowice\"], [21, 1, \"Katowice\"], [49, 2, \"Katowice\"], [50, 3, \"Katowice\"], [43, 1, \"Katowice\"], [47, 2, \"Katowice\"], [28, 1, \"Tychy\"], [20, 1, \"Katowice\"], [47, 1, \"Katowice\"], [11, 1, \"Katowice\"], [13, 1, \"Katowice\"], [24, 1, \"Bielsko-Bia\\u0142a\"], [43, 2, \"Katowice\"], [10, 1, \"Katowice\"], [29, 1, \"Bielsko-Bia\\u0142a\"], [38, 2, \"Katowice\"], [36, 1, \"Katowice\"], [36, 1, \"Katowice\"], [25, 1, \"Katowice\"], [44, 2, \"Katowice\"], [29, 1, \"Katowice\"], [15, 1, \"Katowice\"], [45, 2, \"Katowice\"], [47, 3, \"Bielsko-Bia\\u0142a\"], [37, 1, \"Katowice\"], [42, 1, \"Katowice\"], [37, 2, \"Tychy\"], [37, 2, \"Tychy\"], [18, 1, \"Katowice\"], [43, 2, \"Katowice\"], [45, 3, \"Katowice\"], [10, 1, \"Katowice\"], [9, 1, \"Katowice\"], [38, 2, \"Katowice\"], [25, 1, \"Katowice\"], [35, 2, \"Katowice\"], [28, 1, \"Katowice\"], [27, 1, \"Katowice\"], [35, 2, \"Katowice\"], [40, 2, \"Tychy\"], [42, 2, \"Katowice\"], [22, 1, \"Katowice\"], [36, 1, \"Tychy\"], [28, 1, \"Katowice\"], [30, 1, \"Bielsko-Bia\\u0142a\"], [40, 2, \"Katowice\"], [25, 1, \"Bielsko-Bia\\u0142a\"], [46, 2, \"Katowice\"], [38, 2, \"Katowice\"], [18, 1, \"Katowice\"], [37, 2, \"Katowice\"], [38, 2, \"Katowice\"], [38, 2, \"Katowice\"], [46, 2, \"Katowice\"], [28, 1, \"Katowice\"], [49, 2, \"Katowice\"], [40, 2, \"Katowice\"], [19, 1, \"Katowice\"], [42, 2, \"Katowice\"], [27, 1, \"Katowice\"], [50, 2, \"Katowice\"], [37, 2, \"Katowice\"], [39, 1, \"Katowice\"], [34, 1, \"Katowice\"], [42, 2, \"Katowice\"], [50, 2, \"Katowice\"], [40, 2, \"Katowice\"], [34, 1, \"Katowice\"], [27, 1, \"Katowice\"], [43, 2, \"Katowice\"], [37, 1, \"Katowice\"], [27, 1, \"Katowice\"], [39, 2, \"Tychy\"], [50, 2, \"Katowice\"], [28, 1, \"Katowice\"], [45, 2, \"Katowice\"], [28, 1, \"Katowice\"], [36, 2, \"Katowice\"], [40, 1, \"Katowice\"], [23, 1, \"Tychy\"], [40, 2, \"Katowice\"], [23, 1, \"Katowice\"], [41, 2, \"Katowice\"], [37, 1, \"Katowice\"]], \"hovertemplate\": \"cena=%{y}<br>powierzchnia=%{customdata[0]}<br>pokoje=%{customdata[1]}<br>miasto=%{customdata[2]}<extra></extra>\", \"legendgroup\": \"\", \"marker\": {\"color\": \"#636efa\"}, \"name\": \"\", \"notched\": false, \"offsetgroup\": \"\", \"orientation\": \"v\", \"showlegend\": false, \"type\": \"box\", \"x0\": \" \", \"xaxis\": \"x\", \"y\": [1000, 1300, 1850, 1650, 1100, 2200, 1000, 1700, 1600, 1100, 1600, 1500, 1700, 1200, 1500, 2300, 1300, 1800, 1300, 1150, 1000, 1130, 1450, 750, 1900, 800, 1350, 2200, 1590, 850, 999, 1250, 750, 550, 2200, 1190, 1300, 1250, 1000, 1100, 2300, 1590, 2400, 1400, 1300, 1350, 1150, 1000, 1200, 900, 1550, 1600, 1700, 1600, 1880, 1200, 2600, 1550, 2000, 1800, 1100, 2000, 1600, 1500, 2000, 1600, 1500, 1800, 800, 1200, 1500, 1390, 1900, 1199, 1300, 1090, 1950, 999, 990, 1290, 1550, 1500, 1900, 1600, 2100, 1600, 1290, 1400, 1100, 790, 2300, 2550, 1400, 1450, 1300, 1350, 1050, 1500, 1800, 1150, 1500, 1650, 1800, 1300, 900, 1050, 1650, 1050, 1500, 1799, 1500, 1200, 1100, 2490, 2000, 1300, 2100, 2500, 1700, 1500, 1500, 1500, 1200, 1750, 1550, 2100, 1250, 2200, 1399, 1300, 1490, 1300, 1480, 1800, 2850, 1300, 1350, 1600, 1890, 1450, 1450, 1500, 1850, 1800, 2100, 2100, 2000, 1300, 1350, 2200, 1380, 1100, 1300, 1150, 1500, 1800, 1300, 2100, 1350, 1100, 2550, 1250, 1850, 1900, 800, 1400, 1100, 1400, 1000, 1300, 1490, 1500, 1650, 1650, 1700, 1800, 1400, 2250, 980, 1600, 1650, 1800, 1800, 1850, 1090, 2400, 1350, 1400, 2000, 1490, 1200, 1799, 900, 1800, 650, 1400, 1090, 1900, 2100, 1500, 2000, 1550, 2100, 900, 2200, 1950, 2950, 1400, 2850, 1900, 1150, 1200, 990, 1800, 1250, 1600, 2100, 1250, 1300, 460, 1300, 2000, 1500, 1850, 1999, 1300, 1600, 1900, 1000, 1999, 1300, 1900, 1300, 890, 1500, 1155, 2599, 2200, 1850, 1300, 1100, 1300, 2500, 2950, 1200, 1400, 1900, 800, 1600, 970, 1300, 1700, 1800, 1500, 1300, 1550, 1600, 1950, 1150, 1650, 1650, 1600, 1100, 1200, 1250, 1900, 1700, 1300, 1550, 1200, 1399, 1450, 1750, 1200, 2000, 1900, 980, 800, 1700, 1150, 2200, 1350, 1880, 1800, 900, 1400, 1800, 1600, 1600, 990, 1700, 1500, 999, 2300, 1800, 1700, 1500, 1800, 2000, 1300, 2250, 1250, 1300, 1380, 1490, 1350, 1800, 1500, 1400, 1900, 1850, 1400, 1000, 1000, 1100, 1400, 1590, 1190, 1290, 1090, 1450, 1900, 1550, 1199, 1900, 2200, 650, 1500, 1700, 900, 1850, 1650, 1600, 1800, 1300, 1790, 1490, 1800, 1200, 2300, 1700, 1190, 1200, 1400, 1650, 999, 1650, 1800, 2000, 1000, 1390, 1200, 2000, 2000, 1050, 1600, 1375, 1450, 1200, 1200, 1550, 1550, 1500, 2500, 900, 1600, 2000, 1800, 1350, 1200, 700, 1600, 1100, 1200, 1700, 1650, 2000, 2200, 1950, 1800, 1500, 1200, 2000, 900, 650, 650, 650, 650, 1450, 1099, 1150, 950, 800, 1150, 950, 849, 700, 2200, 900, 1150, 1000, 1200, 1950, 1999, 2599, 1150, 1050, 1400, 1250, 1350, 1700, 1500, 1100, 3000, 1800, 1800, 2000, 1400, 2100, 2100, 1300, 1600, 2300, 990, 1650, 1850, 1750, 1200, 2000, 1900, 800, 1850, 1950, 1800, 1300, 1500, 1500, 1800, 2000, 900, 1450, 1800, 1500, 500, 850, 2000, 980, 950, 1199, 1250, 1250, 1800, 2100, 900, 1000, 1600, 1300, 1700, 1250, 1250, 1500, 900, 2200, 2000, 1300, 1000, 1200, 1100, 1050, 1600, 1800, 1650, 1500, 1550, 1000, 1650, 800, 1750, 1200, 1650, 650, 1950, 1000, 1350, 2490, 1300, 1850, 319, 1700, 1600, 2000, 2150, 2150, 2100, 3000, 1550, 1950, 1950, 1800, 1400, 1600, 850, 1600, 1190, 1300, 1600, 1200, 2250, 1900, 1000, 1300, 1300, 1500, 1799, 1750, 1600, 700, 1090, 1350, 1500, 1590, 1300, 1600, 2300, 1400, 2000, 2200, 1000, 1400, 1600, 1400, 1500, 1050, 1490, 800, 1050, 1050, 1000, 1550, 800, 1800, 1200, 1700, 1750, 1300, 1600, 1000, 2000, 2100, 1500, 1650, 1800, 1800, 1650, 1500, 1200, 1500, 1000, 1400, 1700, 1000, 1550, 1000, 1500, 1600, 1800, 1250, 2850, 1230, 1200, 2000, 2000, 1350, 1600, 999, 1399, 1750, 2000, 1850, 1700, 1000, 1000, 1690, 1100, 2240, 1500, 800, 1500, 1900, 1850, 2200, 1200, 1390, 1200, 550, 2250, 1800, 1800, 1200, 1900, 1750, 1100, 1150, 1100, 1350, 800, 2000, 1400, 1000, 1000, 1100, 800, 1200, 800, 950, 800, 1390, 1265, 1300, 1000, 2200, 1490, 1950, 1700, 1500, 1900, 1800, 1000, 3000, 1250, 1950, 1490, 1600, 950, 950, 1700, 1650, 1100, 2500, 900, 700, 700, 1400, 1150, 1300, 999, 2400, 1800, 1200, 900, 1200, 800, 1750, 1490, 1200, 1000, 1000, 1000, 1250, 1300, 1300, 1800, 1300, 1600, 1300, 1400, 1100, 1250, 1700, 1100, 1800, 1700, 1700, 1650, 1950, 1850, 1100, 790, 750, 1600, 1200, 950, 1500, 1500, 2000, 1600, 1100, 1000, 1800, 1500, 1750, 2300, 1600, 1600, 1300, 1480, 1400, 1500, 1450, 1700, 2100, 1500, 1100, 1050, 1800, 1100, 2200, 1000, 1199, 1800, 2400, 1800, 2200, 1490, 1600, 590, 690, 690, 1250, 1750, 1600, 1300, 1600, 2300, 890, 950, 2100, 1850, 1700, 1800, 2000, 1500, 2300, 2100, 1400, 920, 790, 1350, 1600, 950, 1300, 1000, 1590, 2200, 2650, 1100, 2250, 2150, 2000, 1500, 1900, 1090, 1700, 1500, 1500, 1880, 271, 1250, 2000, 1350, 1600, 1000, 1500, 1800, 1950, 1980, 700, 1900, 1200, 1150, 1390, 1650, 1200, 1400, 1600, 800, 1150, 1200, 1800, 1850, 1300, 1550, 1300, 1650, 1600, 1400, 650, 1500, 1500, 1794, 1800, 1500, 1700, 1450, 1400, 800, 1200, 1200, 1600, 900, 1600, 900, 1490, 1450, 1350, 967, 390, 1550, 2950, 1850, 390, 1500, 1599, 1300, 1500, 1200, 1600, 1100, 1980, 1500, 2000, 1000, 1980, 1100, 1290, 1550, 1300, 800, 1250, 800, 1150, 1300, 1400, 1300, 2200, 1850, 1200, 1200, 700, 550, 1300, 1400, 1200, 2000, 1000, 1150, 1200, 1200, 1200, 1200, 1200, 1600, 1000, 1900, 1350, 750, 550, 1650, 1200, 1300, 940, 1250, 2200, 1850, 1700, 900, 1500, 1500, 800, 1299, 1100, 990, 1090, 1000, 900, 2000, 1000, 1050, 1500, 1950, 2300, 1499, 1500, 1200, 800, 1750, 1100, 1100, 980, 2300, 550, 1190, 1500, 1500, 1500, 1350, 1790, 1200, 900, 1750, 1300, 1100, 1400, 1500, 1450, 1400, 1000, 1500, 390, 390, 1100, 1200, 1600, 1200, 1200, 1250, 2000, 1800, 1200, 1590, 1200, 1000, 1200, 750, 1700, 1600, 1000, 1400, 1350, 1300, 1299, 1100, 1727, 1499, 1100, 1300, 950, 1500, 1800, 1500, 1000, 1700, 2200, 1600, 1600, 1200, 1200, 1150, 1350, 1700, 2300, 1200, 1400, 1100, 1200, 1200, 1200, 1200, 900, 1200, 1400], \"y0\": \" \", \"yaxis\": \"y\"}],                        {\"boxmode\": \"group\", \"legend\": {\"tracegroupgap\": 0}, \"template\": {\"data\": {\"bar\": [{\"error_x\": {\"color\": \"#2a3f5f\"}, \"error_y\": {\"color\": \"#2a3f5f\"}, \"marker\": {\"line\": {\"color\": \"#E5ECF6\", \"width\": 0.5}}, \"type\": \"bar\"}], \"barpolar\": [{\"marker\": {\"line\": {\"color\": \"#E5ECF6\", \"width\": 0.5}}, \"type\": \"barpolar\"}], \"carpet\": [{\"aaxis\": {\"endlinecolor\": \"#2a3f5f\", \"gridcolor\": \"white\", \"linecolor\": \"white\", \"minorgridcolor\": \"white\", \"startlinecolor\": \"#2a3f5f\"}, \"baxis\": {\"endlinecolor\": \"#2a3f5f\", \"gridcolor\": \"white\", \"linecolor\": \"white\", \"minorgridcolor\": \"white\", \"startlinecolor\": \"#2a3f5f\"}, \"type\": \"carpet\"}], \"choropleth\": [{\"colorbar\": {\"outlinewidth\": 0, \"ticks\": \"\"}, \"type\": \"choropleth\"}], \"contour\": [{\"colorbar\": {\"outlinewidth\": 0, \"ticks\": \"\"}, \"colorscale\": [[0.0, \"#0d0887\"], [0.1111111111111111, \"#46039f\"], [0.2222222222222222, \"#7201a8\"], [0.3333333333333333, \"#9c179e\"], [0.4444444444444444, \"#bd3786\"], [0.5555555555555556, \"#d8576b\"], [0.6666666666666666, \"#ed7953\"], [0.7777777777777778, \"#fb9f3a\"], [0.8888888888888888, \"#fdca26\"], [1.0, \"#f0f921\"]], \"type\": \"contour\"}], \"contourcarpet\": [{\"colorbar\": {\"outlinewidth\": 0, \"ticks\": \"\"}, \"type\": \"contourcarpet\"}], \"heatmap\": [{\"colorbar\": {\"outlinewidth\": 0, \"ticks\": \"\"}, \"colorscale\": [[0.0, \"#0d0887\"], [0.1111111111111111, \"#46039f\"], [0.2222222222222222, \"#7201a8\"], [0.3333333333333333, \"#9c179e\"], [0.4444444444444444, \"#bd3786\"], [0.5555555555555556, \"#d8576b\"], [0.6666666666666666, \"#ed7953\"], [0.7777777777777778, \"#fb9f3a\"], [0.8888888888888888, \"#fdca26\"], [1.0, \"#f0f921\"]], \"type\": \"heatmap\"}], \"heatmapgl\": [{\"colorbar\": {\"outlinewidth\": 0, \"ticks\": \"\"}, \"colorscale\": [[0.0, \"#0d0887\"], [0.1111111111111111, \"#46039f\"], [0.2222222222222222, \"#7201a8\"], [0.3333333333333333, \"#9c179e\"], [0.4444444444444444, \"#bd3786\"], [0.5555555555555556, \"#d8576b\"], [0.6666666666666666, \"#ed7953\"], [0.7777777777777778, \"#fb9f3a\"], [0.8888888888888888, \"#fdca26\"], [1.0, \"#f0f921\"]], \"type\": \"heatmapgl\"}], \"histogram\": [{\"marker\": {\"colorbar\": {\"outlinewidth\": 0, \"ticks\": \"\"}}, \"type\": \"histogram\"}], \"histogram2d\": [{\"colorbar\": {\"outlinewidth\": 0, \"ticks\": \"\"}, \"colorscale\": [[0.0, \"#0d0887\"], [0.1111111111111111, \"#46039f\"], [0.2222222222222222, \"#7201a8\"], [0.3333333333333333, \"#9c179e\"], [0.4444444444444444, \"#bd3786\"], [0.5555555555555556, \"#d8576b\"], [0.6666666666666666, \"#ed7953\"], [0.7777777777777778, \"#fb9f3a\"], [0.8888888888888888, \"#fdca26\"], [1.0, \"#f0f921\"]], \"type\": \"histogram2d\"}], \"histogram2dcontour\": [{\"colorbar\": {\"outlinewidth\": 0, \"ticks\": \"\"}, \"colorscale\": [[0.0, \"#0d0887\"], [0.1111111111111111, \"#46039f\"], [0.2222222222222222, \"#7201a8\"], [0.3333333333333333, \"#9c179e\"], [0.4444444444444444, \"#bd3786\"], [0.5555555555555556, \"#d8576b\"], [0.6666666666666666, \"#ed7953\"], [0.7777777777777778, \"#fb9f3a\"], [0.8888888888888888, \"#fdca26\"], [1.0, \"#f0f921\"]], \"type\": \"histogram2dcontour\"}], \"mesh3d\": [{\"colorbar\": {\"outlinewidth\": 0, \"ticks\": \"\"}, \"type\": \"mesh3d\"}], \"parcoords\": [{\"line\": {\"colorbar\": {\"outlinewidth\": 0, \"ticks\": \"\"}}, \"type\": \"parcoords\"}], \"pie\": [{\"automargin\": true, \"type\": \"pie\"}], \"scatter\": [{\"marker\": {\"colorbar\": {\"outlinewidth\": 0, \"ticks\": \"\"}}, \"type\": \"scatter\"}], \"scatter3d\": [{\"line\": {\"colorbar\": {\"outlinewidth\": 0, \"ticks\": \"\"}}, \"marker\": {\"colorbar\": {\"outlinewidth\": 0, \"ticks\": \"\"}}, \"type\": \"scatter3d\"}], \"scattercarpet\": [{\"marker\": {\"colorbar\": {\"outlinewidth\": 0, \"ticks\": \"\"}}, \"type\": \"scattercarpet\"}], \"scattergeo\": [{\"marker\": {\"colorbar\": {\"outlinewidth\": 0, \"ticks\": \"\"}}, \"type\": \"scattergeo\"}], \"scattergl\": [{\"marker\": {\"colorbar\": {\"outlinewidth\": 0, \"ticks\": \"\"}}, \"type\": \"scattergl\"}], \"scattermapbox\": [{\"marker\": {\"colorbar\": {\"outlinewidth\": 0, \"ticks\": \"\"}}, \"type\": \"scattermapbox\"}], \"scatterpolar\": [{\"marker\": {\"colorbar\": {\"outlinewidth\": 0, \"ticks\": \"\"}}, \"type\": \"scatterpolar\"}], \"scatterpolargl\": [{\"marker\": {\"colorbar\": {\"outlinewidth\": 0, \"ticks\": \"\"}}, \"type\": \"scatterpolargl\"}], \"scatterternary\": [{\"marker\": {\"colorbar\": {\"outlinewidth\": 0, \"ticks\": \"\"}}, \"type\": \"scatterternary\"}], \"surface\": [{\"colorbar\": {\"outlinewidth\": 0, \"ticks\": \"\"}, \"colorscale\": [[0.0, \"#0d0887\"], [0.1111111111111111, \"#46039f\"], [0.2222222222222222, \"#7201a8\"], [0.3333333333333333, \"#9c179e\"], [0.4444444444444444, \"#bd3786\"], [0.5555555555555556, \"#d8576b\"], [0.6666666666666666, \"#ed7953\"], [0.7777777777777778, \"#fb9f3a\"], [0.8888888888888888, \"#fdca26\"], [1.0, \"#f0f921\"]], \"type\": \"surface\"}], \"table\": [{\"cells\": {\"fill\": {\"color\": \"#EBF0F8\"}, \"line\": {\"color\": \"white\"}}, \"header\": {\"fill\": {\"color\": \"#C8D4E3\"}, \"line\": {\"color\": \"white\"}}, \"type\": \"table\"}]}, \"layout\": {\"annotationdefaults\": {\"arrowcolor\": \"#2a3f5f\", \"arrowhead\": 0, \"arrowwidth\": 1}, \"autotypenumbers\": \"strict\", \"coloraxis\": {\"colorbar\": {\"outlinewidth\": 0, \"ticks\": \"\"}}, \"colorscale\": {\"diverging\": [[0, \"#8e0152\"], [0.1, \"#c51b7d\"], [0.2, \"#de77ae\"], [0.3, \"#f1b6da\"], [0.4, \"#fde0ef\"], [0.5, \"#f7f7f7\"], [0.6, \"#e6f5d0\"], [0.7, \"#b8e186\"], [0.8, \"#7fbc41\"], [0.9, \"#4d9221\"], [1, \"#276419\"]], \"sequential\": [[0.0, \"#0d0887\"], [0.1111111111111111, \"#46039f\"], [0.2222222222222222, \"#7201a8\"], [0.3333333333333333, \"#9c179e\"], [0.4444444444444444, \"#bd3786\"], [0.5555555555555556, \"#d8576b\"], [0.6666666666666666, \"#ed7953\"], [0.7777777777777778, \"#fb9f3a\"], [0.8888888888888888, \"#fdca26\"], [1.0, \"#f0f921\"]], \"sequentialminus\": [[0.0, \"#0d0887\"], [0.1111111111111111, \"#46039f\"], [0.2222222222222222, \"#7201a8\"], [0.3333333333333333, \"#9c179e\"], [0.4444444444444444, \"#bd3786\"], [0.5555555555555556, \"#d8576b\"], [0.6666666666666666, \"#ed7953\"], [0.7777777777777778, \"#fb9f3a\"], [0.8888888888888888, \"#fdca26\"], [1.0, \"#f0f921\"]]}, \"colorway\": [\"#636efa\", \"#EF553B\", \"#00cc96\", \"#ab63fa\", \"#FFA15A\", \"#19d3f3\", \"#FF6692\", \"#B6E880\", \"#FF97FF\", \"#FECB52\"], \"font\": {\"color\": \"#2a3f5f\"}, \"geo\": {\"bgcolor\": \"white\", \"lakecolor\": \"white\", \"landcolor\": \"#E5ECF6\", \"showlakes\": true, \"showland\": true, \"subunitcolor\": \"white\"}, \"hoverlabel\": {\"align\": \"left\"}, \"hovermode\": \"closest\", \"mapbox\": {\"style\": \"light\"}, \"paper_bgcolor\": \"white\", \"plot_bgcolor\": \"#E5ECF6\", \"polar\": {\"angularaxis\": {\"gridcolor\": \"white\", \"linecolor\": \"white\", \"ticks\": \"\"}, \"bgcolor\": \"#E5ECF6\", \"radialaxis\": {\"gridcolor\": \"white\", \"linecolor\": \"white\", \"ticks\": \"\"}}, \"scene\": {\"xaxis\": {\"backgroundcolor\": \"#E5ECF6\", \"gridcolor\": \"white\", \"gridwidth\": 2, \"linecolor\": \"white\", \"showbackground\": true, \"ticks\": \"\", \"zerolinecolor\": \"white\"}, \"yaxis\": {\"backgroundcolor\": \"#E5ECF6\", \"gridcolor\": \"white\", \"gridwidth\": 2, \"linecolor\": \"white\", \"showbackground\": true, \"ticks\": \"\", \"zerolinecolor\": \"white\"}, \"zaxis\": {\"backgroundcolor\": \"#E5ECF6\", \"gridcolor\": \"white\", \"gridwidth\": 2, \"linecolor\": \"white\", \"showbackground\": true, \"ticks\": \"\", \"zerolinecolor\": \"white\"}}, \"shapedefaults\": {\"line\": {\"color\": \"#2a3f5f\"}}, \"ternary\": {\"aaxis\": {\"gridcolor\": \"white\", \"linecolor\": \"white\", \"ticks\": \"\"}, \"baxis\": {\"gridcolor\": \"white\", \"linecolor\": \"white\", \"ticks\": \"\"}, \"bgcolor\": \"#E5ECF6\", \"caxis\": {\"gridcolor\": \"white\", \"linecolor\": \"white\", \"ticks\": \"\"}}, \"title\": {\"x\": 0.05}, \"xaxis\": {\"automargin\": true, \"gridcolor\": \"white\", \"linecolor\": \"white\", \"ticks\": \"\", \"title\": {\"standoff\": 15}, \"zerolinecolor\": \"white\", \"zerolinewidth\": 2}, \"yaxis\": {\"automargin\": true, \"gridcolor\": \"white\", \"linecolor\": \"white\", \"ticks\": \"\", \"title\": {\"standoff\": 15}, \"zerolinecolor\": \"white\", \"zerolinewidth\": 2}}}, \"title\": {\"text\": \"Rozrzut wszystkich ofert wg. ceny.- przybli\\u017c wykres w interesuj\\u0105ce miejsce\"}, \"xaxis\": {\"anchor\": \"y\", \"domain\": [0.0, 1.0]}, \"yaxis\": {\"anchor\": \"x\", \"domain\": [0.0, 1.0], \"title\": {\"text\": \"cena\"}}},                        {\"responsive\": true}                    ).then(function(){\n",
       "                            \n",
       "var gd = document.getElementById('21303699-ae7a-4c09-b9f4-c1c56b6806d9');\n",
       "var x = new MutationObserver(function (mutations, observer) {{\n",
       "        var display = window.getComputedStyle(gd).display;\n",
       "        if (!display || display === 'none') {{\n",
       "            console.log([gd, 'removed!']);\n",
       "            Plotly.purge(gd);\n",
       "            observer.disconnect();\n",
       "        }}\n",
       "}});\n",
       "\n",
       "// Listen for the removal of the full notebook cells\n",
       "var notebookContainer = gd.closest('#notebook-container');\n",
       "if (notebookContainer) {{\n",
       "    x.observe(notebookContainer, {childList: true});\n",
       "}}\n",
       "\n",
       "// Listen for the clearing of the current output cell\n",
       "var outputEl = gd.closest('.output');\n",
       "if (outputEl) {{\n",
       "    x.observe(outputEl, {childList: true});\n",
       "}}\n",
       "\n",
       "                        })                };                });            </script>        </div>"
      ]
     },
     "metadata": {},
     "output_type": "display_data"
    }
   ],
   "source": [
    "pokoje_box = px.box(tabela, \n",
    "                    y = 'cena',\n",
    "                    points = 'all',\n",
    "                    hover_data = ['powierzchnia','pokoje','miasto'],\n",
    "                    title = 'Rozrzut wszystkich ofert wg. ceny.- przybliż wykres w interesujące miejsce',\n",
    "                    \n",
    "                   )\n",
    "pokoje_box"
   ]
  },
  {
   "cell_type": "code",
   "execution_count": 119,
   "metadata": {},
   "outputs": [
    {
     "data": {
      "application/vnd.plotly.v1+json": {
       "config": {
        "plotlyServerURL": "https://plot.ly"
       },
       "data": [
        {
         "alignmentgroup": "True",
         "boxpoints": "all",
         "customdata": [
          [
           43,
           2,
           "Katowice"
          ],
          [
           35,
           2,
           "Katowice"
          ],
          [
           43,
           2,
           "Katowice"
          ],
          [
           30,
           1,
           "Bielsko-Biała"
          ],
          [
           35,
           2,
           "Katowice"
          ],
          [
           50,
           2,
           "Katowice"
          ],
          [
           37,
           2,
           "Katowice"
          ],
          [
           35,
           2,
           "Katowice"
          ],
          [
           47,
           2,
           "Bielsko-Biała"
          ],
          [
           28,
           1,
           "Katowice"
          ],
          [
           40,
           2,
           "Katowice"
          ],
          [
           31,
           1,
           "Bielsko-Biała"
          ],
          [
           39,
           2,
           "Katowice"
          ],
          [
           39,
           1,
           "Katowice"
          ],
          [
           40,
           2,
           "Katowice"
          ],
          [
           50,
           2,
           "Katowice"
          ],
          [
           37,
           1,
           "Katowice"
          ],
          [
           46,
           2,
           "Katowice"
          ],
          [
           31,
           1,
           "Tychy"
          ],
          [
           24,
           1,
           "Katowice"
          ],
          [
           18,
           1,
           "Katowice"
          ],
          [
           25,
           1,
           "Katowice"
          ],
          [
           45,
           2,
           "Katowice"
          ],
          [
           41,
           1,
           "Bielsko-Biała"
          ],
          [
           40,
           2,
           "Katowice"
          ],
          [
           41,
           1,
           "Tychy"
          ],
          [
           31,
           2,
           "Katowice"
          ],
          [
           42,
           2,
           "Tychy"
          ],
          [
           43,
           2,
           "Katowice"
          ],
          [
           41,
           1,
           "Katowice"
          ],
          [
           18,
           1,
           "Katowice"
          ],
          [
           29,
           1,
           "Bielsko-Biała"
          ],
          [
           21,
           1,
           "Katowice"
          ],
          [
           16,
           1,
           "Katowice"
          ],
          [
           47,
           2,
           "Katowice"
          ],
          [
           19,
           1,
           "Katowice"
          ],
          [
           40,
           2,
           "Katowice"
          ],
          [
           35,
           2,
           "Katowice"
          ],
          [
           28,
           1,
           "Katowice"
          ],
          [
           45,
           2,
           "Bielsko-Biała"
          ],
          [
           47,
           2,
           "Katowice"
          ],
          [
           43,
           2,
           "Tychy"
          ],
          [
           44,
           2,
           "Katowice"
          ],
          [
           47,
           2,
           "Tychy"
          ],
          [
           24,
           1,
           "Katowice"
          ],
          [
           28,
           1,
           "Katowice"
          ],
          [
           36,
           2,
           "Bielsko-Biała"
          ],
          [
           48,
           3,
           "Bielsko-Biała"
          ],
          [
           43,
           2,
           "Bielsko-Biała"
          ],
          [
           17,
           1,
           "Katowice"
          ],
          [
           38,
           2,
           "Katowice"
          ],
          [
           35,
           2,
           "Katowice"
          ],
          [
           49,
           2,
           "Katowice"
          ],
          [
           38,
           2,
           "Tychy"
          ],
          [
           42,
           2,
           "Katowice"
          ],
          [
           36,
           1,
           "Katowice"
          ],
          [
           50,
           3,
           "Bielsko-Biała"
          ],
          [
           40,
           2,
           "Katowice"
          ],
          [
           40,
           2,
           "Tychy"
          ],
          [
           42,
           2,
           "Katowice"
          ],
          [
           26,
           1,
           "Bielsko-Biała"
          ],
          [
           40,
           2,
           "Katowice"
          ],
          [
           34,
           1,
           "Katowice"
          ],
          [
           38,
           2,
           "Bielsko-Biała"
          ],
          [
           27,
           1,
           "Katowice"
          ],
          [
           44,
           2,
           "Bielsko-Biała"
          ],
          [
           30,
           1,
           "Katowice"
          ],
          [
           41,
           2,
           "Bielsko-Biała"
          ],
          [
           50,
           2,
           "Katowice"
          ],
          [
           36,
           2,
           "Tychy"
          ],
          [
           32,
           1,
           "Katowice"
          ],
          [
           36,
           2,
           "Katowice"
          ],
          [
           42,
           2,
           "Katowice"
          ],
          [
           39,
           1,
           "Katowice"
          ],
          [
           36,
           2,
           "Katowice"
          ],
          [
           23,
           1,
           "Katowice"
          ],
          [
           49,
           2,
           "Katowice"
          ],
          [
           23,
           1,
           "Katowice"
          ],
          [
           25,
           1,
           "Katowice"
          ],
          [
           32,
           2,
           "Katowice"
          ],
          [
           40,
           2,
           "Katowice"
          ],
          [
           39,
           2,
           "Katowice"
          ],
          [
           32,
           1,
           "Katowice"
          ],
          [
           46,
           3,
           "Bielsko-Biała"
          ],
          [
           41,
           2,
           "Katowice"
          ],
          [
           39,
           2,
           "Katowice"
          ],
          [
           33,
           2,
           "Katowice"
          ],
          [
           38,
           2,
           "Katowice"
          ],
          [
           44,
           2,
           "Katowice"
          ],
          [
           23,
           1,
           "Katowice"
          ],
          [
           48,
           2,
           "Bielsko-Biała"
          ],
          [
           48,
           2,
           "Katowice"
          ],
          [
           40,
           1,
           "Katowice"
          ],
          [
           46,
           2,
           "Katowice"
          ],
          [
           35,
           1,
           "Katowice"
          ],
          [
           26,
           1,
           "Katowice"
          ],
          [
           22,
           1,
           "Katowice"
          ],
          [
           30,
           1,
           "Bielsko-Biała"
          ],
          [
           40,
           2,
           "Bielsko-Biała"
          ],
          [
           25,
           1,
           "Bielsko-Biała"
          ],
          [
           33,
           2,
           "Katowice"
          ],
          [
           37,
           2,
           "Katowice"
          ],
          [
           41,
           2,
           "Tychy"
          ],
          [
           38,
           1,
           "Katowice"
          ],
          [
           38,
           2,
           "Katowice"
          ],
          [
           26,
           1,
           "Katowice"
          ],
          [
           45,
           2,
           "Bielsko-Biała"
          ],
          [
           22,
           1,
           "Katowice"
          ],
          [
           30,
           2,
           "Katowice"
          ],
          [
           38,
           2,
           "Bielsko-Biała"
          ],
          [
           38,
           2,
           "Katowice"
          ],
          [
           49,
           2,
           "Katowice"
          ],
          [
           30,
           1,
           "Bielsko-Biała"
          ],
          [
           48,
           2,
           "Bielsko-Biała"
          ],
          [
           40,
           2,
           "Katowice"
          ],
          [
           38,
           1,
           "Katowice"
          ],
          [
           42,
           2,
           "Katowice"
          ],
          [
           40,
           2,
           "Katowice"
          ],
          [
           41,
           2,
           "Bielsko-Biała"
          ],
          [
           45,
           2,
           "Katowice"
          ],
          [
           50,
           2,
           "Katowice"
          ],
          [
           50,
           2,
           "Tychy"
          ],
          [
           31,
           2,
           "Katowice"
          ],
          [
           41,
           2,
           "Katowice"
          ],
          [
           49,
           2,
           "Katowice"
          ],
          [
           38,
           2,
           "Katowice"
          ],
          [
           16,
           1,
           "Katowice"
          ],
          [
           36,
           2,
           "Katowice"
          ],
          [
           43,
           2,
           "Katowice"
          ],
          [
           35,
           1,
           "Bielsko-Biała"
          ],
          [
           37,
           2,
           "Katowice"
          ],
          [
           32,
           1,
           "Bielsko-Biała"
          ],
          [
           27,
           1,
           "Tychy"
          ],
          [
           46,
           2,
           "Katowice"
          ],
          [
           44,
           2,
           "Katowice"
          ],
          [
           39,
           2,
           "Katowice"
          ],
          [
           28,
           1,
           "Katowice"
          ],
          [
           27,
           1,
           "Katowice"
          ],
          [
           50,
           2,
           "Katowice"
          ],
          [
           38,
           2,
           "Tychy"
          ],
          [
           50,
           2,
           "Bielsko-Biała"
          ],
          [
           40,
           2,
           "Katowice"
          ],
          [
           50,
           2,
           "Bielsko-Biała"
          ],
          [
           50,
           2,
           "Katowice"
          ],
          [
           45,
           2,
           "Katowice"
          ],
          [
           42,
           2,
           "Katowice"
          ],
          [
           40,
           2,
           "Katowice"
          ],
          [
           37,
           2,
           "Katowice"
          ],
          [
           35,
           1,
           "Katowice"
          ],
          [
           46,
           2,
           "Katowice"
          ],
          [
           25,
           1,
           "Katowice"
          ],
          [
           48,
           2,
           "Katowice"
          ],
          [
           38,
           2,
           "Katowice"
          ],
          [
           25,
           1,
           "Katowice"
          ],
          [
           35,
           2,
           "Katowice"
          ],
          [
           49,
           2,
           "Bielsko-Biała"
          ],
          [
           25,
           1,
           "Katowice"
          ],
          [
           44,
           2,
           "Katowice"
          ],
          [
           31,
           2,
           "Katowice"
          ],
          [
           29,
           1,
           "Katowice"
          ],
          [
           48,
           2,
           "Katowice"
          ],
          [
           16,
           1,
           "Katowice"
          ],
          [
           40,
           2,
           "Katowice"
          ],
          [
           42,
           2,
           "Katowice"
          ],
          [
           43,
           2,
           "Katowice"
          ],
          [
           25,
           1,
           "Katowice"
          ],
          [
           34,
           1,
           "Bielsko-Biała"
          ],
          [
           49,
           3,
           "Katowice"
          ],
          [
           38,
           1,
           "Bielsko-Biała"
          ],
          [
           50,
           2,
           "Katowice"
          ],
          [
           18,
           1,
           "Katowice"
          ],
          [
           39,
           2,
           "Tychy"
          ],
          [
           47,
           2,
           "Katowice"
          ],
          [
           36,
           2,
           "Katowice"
          ],
          [
           50,
           2,
           "Katowice"
          ],
          [
           47,
           2,
           "Katowice"
          ],
          [
           30,
           2,
           "Katowice"
          ],
          [
           35,
           2,
           "Katowice"
          ],
          [
           39,
           2,
           "Katowice"
          ],
          [
           38,
           2,
           "Tychy"
          ],
          [
           45,
           2,
           "Bielsko-Biała"
          ],
          [
           45,
           2,
           "Katowice"
          ],
          [
           49,
           2,
           "Bielsko-Biała"
          ],
          [
           35,
           2,
           "Katowice"
          ],
          [
           40,
           2,
           "Katowice"
          ],
          [
           47,
           3,
           "Katowice"
          ],
          [
           29,
           2,
           "Bielsko-Biała"
          ],
          [
           30,
           2,
           "Katowice"
          ],
          [
           46,
           2,
           "Katowice"
          ],
          [
           36,
           2,
           "Bielsko-Biała"
          ],
          [
           38,
           2,
           "Katowice"
          ],
          [
           38,
           2,
           "Bielsko-Biała"
          ],
          [
           24,
           1,
           "Katowice"
          ],
          [
           44,
           2,
           "Bielsko-Biała"
          ],
          [
           26,
           1,
           "Katowice"
          ],
          [
           29,
           1,
           "Bielsko-Biała"
          ],
          [
           34,
           1,
           "Katowice"
          ],
          [
           41,
           2,
           "Katowice"
          ],
          [
           42,
           2,
           "Katowice"
          ],
          [
           38,
           2,
           "Katowice"
          ],
          [
           40,
           2,
           "Tychy"
          ],
          [
           39,
           2,
           "Bielsko-Biała"
          ],
          [
           42,
           2,
           "Katowice"
          ],
          [
           29,
           1,
           "Katowice"
          ],
          [
           50,
           2,
           "Katowice"
          ],
          [
           47,
           2,
           "Katowice"
          ],
          [
           45,
           2,
           "Katowice"
          ],
          [
           38,
           2,
           "Katowice"
          ],
          [
           44,
           2,
           "Katowice"
          ],
          [
           46,
           2,
           "Katowice"
          ],
          [
           33,
           2,
           "Bielsko-Biała"
          ],
          [
           44,
           2,
           "Katowice"
          ],
          [
           48,
           2,
           "Katowice"
          ],
          [
           44,
           2,
           "Bielsko-Biała"
          ],
          [
           29,
           1,
           "Bielsko-Biała"
          ],
          [
           34,
           1,
           "Katowice"
          ],
          [
           38,
           2,
           "Katowice"
          ],
          [
           31,
           2,
           "Katowice"
          ],
          [
           38,
           2,
           "Katowice"
          ],
          [
           14,
           1,
           "Katowice"
          ],
          [
           48,
           2,
           "Katowice"
          ],
          [
           40,
           1,
           "Katowice"
          ],
          [
           33,
           2,
           "Katowice"
          ],
          [
           35,
           2,
           "Katowice"
          ],
          [
           50,
           3,
           "Katowice"
          ],
          [
           35,
           2,
           "Katowice"
          ],
          [
           32,
           1,
           "Katowice"
          ],
          [
           42,
           2,
           "Katowice"
          ],
          [
           35,
           2,
           "Katowice"
          ],
          [
           43,
           2,
           "Katowice"
          ],
          [
           38,
           2,
           "Katowice"
          ],
          [
           49,
           3,
           "Katowice"
          ],
          [
           40,
           2,
           "Katowice"
          ],
          [
           48,
           1,
           "Katowice"
          ],
          [
           43,
           1,
           "Katowice"
          ],
          [
           36,
           1,
           "Bielsko-Biała"
          ],
          [
           46,
           2,
           "Katowice"
          ],
          [
           42,
           2,
           "Tychy"
          ],
          [
           50,
           3,
           "Katowice"
          ],
          [
           38,
           1,
           "Katowice"
          ],
          [
           18,
           1,
           "Katowice"
          ],
          [
           37,
           1,
           "Katowice"
          ],
          [
           40,
           2,
           "Katowice"
          ],
          [
           45,
           2,
           "Katowice"
          ],
          [
           48,
           2,
           "Tychy"
          ],
          [
           33,
           2,
           "Katowice"
          ],
          [
           32,
           2,
           "Katowice"
          ],
          [
           20,
           1,
           "Katowice"
          ],
          [
           50,
           2,
           "Katowice"
          ],
          [
           35,
           1,
           "Katowice"
          ],
          [
           38,
           2,
           "Katowice"
          ],
          [
           30,
           2,
           "Katowice"
          ],
          [
           41,
           2,
           "Katowice"
          ],
          [
           39,
           2,
           "Katowice"
          ],
          [
           47,
           2,
           "Katowice"
          ],
          [
           38,
           2,
           "Bielsko-Biała"
          ],
          [
           36,
           2,
           "Katowice"
          ],
          [
           40,
           2,
           "Katowice"
          ],
          [
           27,
           1,
           "Katowice"
          ],
          [
           45,
           2,
           "Bielsko-Biała"
          ],
          [
           29,
           1,
           "Bielsko-Biała"
          ],
          [
           35,
           2,
           "Katowice"
          ],
          [
           32,
           1,
           "Katowice"
          ],
          [
           16,
           1,
           "Katowice"
          ],
          [
           26,
           1,
           "Katowice"
          ],
          [
           32,
           1,
           "Katowice"
          ],
          [
           48,
           2,
           "Katowice"
          ],
          [
           43,
           2,
           "Katowice"
          ],
          [
           40,
           2,
           "Katowice"
          ],
          [
           36,
           2,
           "Tychy"
          ],
          [
           43,
           2,
           "Katowice"
          ],
          [
           30,
           1,
           "Katowice"
          ],
          [
           37,
           2,
           "Bielsko-Biała"
          ],
          [
           38,
           2,
           "Katowice"
          ],
          [
           43,
           2,
           "Katowice"
          ],
          [
           43,
           2,
           "Katowice"
          ],
          [
           24,
           1,
           "Bielsko-Biała"
          ],
          [
           37,
           1,
           "Katowice"
          ],
          [
           36,
           2,
           "Katowice"
          ],
          [
           25,
           1,
           "Katowice"
          ],
          [
           36,
           2,
           "Katowice"
          ],
          [
           23,
           1,
           "Katowice"
          ],
          [
           42,
           2,
           "Katowice"
          ],
          [
           50,
           2,
           "Katowice"
          ],
          [
           49,
           2,
           "Katowice"
          ],
          [
           38,
           1,
           "Tychy"
          ],
          [
           32,
           2,
           "Katowice"
          ],
          [
           30,
           2,
           "Katowice"
          ],
          [
           34,
           2,
           "Katowice"
          ],
          [
           27,
           1,
           "Katowice"
          ],
          [
           41,
           2,
           "Tychy"
          ],
          [
           29,
           1,
           "Katowice"
          ],
          [
           20,
           1,
           "Katowice"
          ],
          [
           48,
           2,
           "Katowice"
          ],
          [
           48,
           2,
           "Katowice"
          ],
          [
           39,
           2,
           "Katowice"
          ],
          [
           39,
           2,
           "Tychy"
          ],
          [
           43,
           2,
           "Katowice"
          ],
          [
           46,
           2,
           "Katowice"
          ],
          [
           33,
           2,
           "Katowice"
          ],
          [
           47,
           2,
           "Katowice"
          ],
          [
           37,
           1,
           "Katowice"
          ],
          [
           43,
           2,
           "Bielsko-Biała"
          ],
          [
           34,
           1,
           "Katowice"
          ],
          [
           36,
           2,
           "Bielsko-Biała"
          ],
          [
           25,
           1,
           "Bielsko-Biała"
          ],
          [
           44,
           2,
           "Bielsko-Biała"
          ],
          [
           32,
           1,
           "Bielsko-Biała"
          ],
          [
           30,
           1,
           "Katowice"
          ],
          [
           41,
           2,
           "Katowice"
          ],
          [
           40,
           2,
           "Katowice"
          ],
          [
           37,
           2,
           "Katowice"
          ],
          [
           45,
           2,
           "Katowice"
          ],
          [
           38,
           2,
           "Katowice"
          ],
          [
           39,
           2,
           "Katowice"
          ],
          [
           48,
           2,
           "Katowice"
          ],
          [
           43,
           2,
           "Katowice"
          ],
          [
           37,
           2,
           "Katowice"
          ],
          [
           50,
           2,
           "Katowice"
          ],
          [
           21,
           1,
           "Katowice"
          ],
          [
           23,
           1,
           "Katowice"
          ],
          [
           38,
           2,
           "Katowice"
          ],
          [
           38,
           2,
           "Katowice"
          ],
          [
           39,
           1,
           "Katowice"
          ],
          [
           38,
           2,
           "Katowice"
          ],
          [
           40,
           2,
           "Katowice"
          ],
          [
           36,
           1,
           "Katowice"
          ],
          [
           33,
           2,
           "Katowice"
          ],
          [
           49,
           3,
           "Katowice"
          ],
          [
           20,
           1,
           "Katowice"
          ],
          [
           43,
           2,
           "Katowice"
          ],
          [
           49,
           2,
           "Katowice"
          ],
          [
           39,
           2,
           "Tychy"
          ],
          [
           43,
           2,
           "Katowice"
          ],
          [
           35,
           2,
           "Katowice"
          ],
          [
           50,
           2,
           "Katowice"
          ],
          [
           35,
           1,
           "Katowice"
          ],
          [
           48,
           2,
           "Katowice"
          ],
          [
           21,
           1,
           "Katowice"
          ],
          [
           43,
           2,
           "Katowice"
          ],
          [
           42,
           2,
           "Tychy"
          ],
          [
           25,
           1,
           "Katowice"
          ],
          [
           28,
           1,
           "Katowice"
          ],
          [
           31,
           1,
           "Tychy"
          ],
          [
           41,
           2,
           "Katowice"
          ],
          [
           22,
           1,
           "Katowice"
          ],
          [
           41,
           2,
           "Katowice"
          ],
          [
           47,
           2,
           "Katowice"
          ],
          [
           44,
           2,
           "Katowice"
          ],
          [
           37,
           2,
           "Katowice"
          ],
          [
           36,
           2,
           "Katowice"
          ],
          [
           44,
           2,
           "Katowice"
          ],
          [
           45,
           2,
           "Katowice"
          ],
          [
           40,
           2,
           "Katowice"
          ],
          [
           26,
           1,
           "Katowice"
          ],
          [
           42,
           3,
           "Bielsko-Biała"
          ],
          [
           34,
           1,
           "Tychy"
          ],
          [
           41,
           2,
           "Katowice"
          ],
          [
           30,
           2,
           "Katowice"
          ],
          [
           50,
           2,
           "Katowice"
          ],
          [
           36,
           2,
           "Katowice"
          ],
          [
           38,
           2,
           "Katowice"
          ],
          [
           38,
           2,
           "Tychy"
          ],
          [
           50,
           3,
           "Katowice"
          ],
          [
           17,
           1,
           "Katowice"
          ],
          [
           40,
           2,
           "Katowice"
          ],
          [
           44,
           2,
           "Bielsko-Biała"
          ],
          [
           48,
           2,
           "Katowice"
          ],
          [
           37,
           1,
           "Katowice"
          ],
          [
           48,
           3,
           "Katowice"
          ],
          [
           25,
           1,
           "Bielsko-Biała"
          ],
          [
           47,
           2,
           "Katowice"
          ],
          [
           30,
           1,
           "Katowice"
          ],
          [
           36,
           1,
           "Katowice"
          ],
          [
           35,
           2,
           "Katowice"
          ],
          [
           47,
           2,
           "Katowice"
          ],
          [
           40,
           2,
           "Tychy"
          ],
          [
           42,
           2,
           "Tychy"
          ],
          [
           40,
           2,
           "Katowice"
          ],
          [
           48,
           2,
           "Katowice"
          ],
          [
           39,
           2,
           "Katowice"
          ],
          [
           20,
           1,
           "Katowice"
          ],
          [
           45,
           2,
           "Katowice"
          ],
          [
           28,
           1,
           "Katowice"
          ],
          [
           10,
           1,
           "Katowice"
          ],
          [
           20,
           1,
           "Katowice"
          ],
          [
           20,
           1,
           "Katowice"
          ],
          [
           20,
           1,
           "Katowice"
          ],
          [
           30,
           1,
           "Bielsko-Biała"
          ],
          [
           23,
           1,
           "Katowice"
          ],
          [
           17,
           1,
           "Katowice"
          ],
          [
           35,
           1,
           "Katowice"
          ],
          [
           14,
           1,
           "Katowice"
          ],
          [
           35,
           2,
           "Katowice"
          ],
          [
           28,
           1,
           "Katowice"
          ],
          [
           26,
           2,
           "Katowice"
          ],
          [
           14,
           1,
           "Katowice"
          ],
          [
           45,
           3,
           "Katowice"
          ],
          [
           21,
           1,
           "Katowice"
          ],
          [
           26,
           1,
           "Katowice"
          ],
          [
           30,
           1,
           "Katowice"
          ],
          [
           18,
           1,
           "Katowice"
          ],
          [
           39,
           1,
           "Katowice"
          ],
          [
           50,
           3,
           "Katowice"
          ],
          [
           46,
           2,
           "Katowice"
          ],
          [
           27,
           1,
           "Katowice"
          ],
          [
           32,
           2,
           "Katowice"
          ],
          [
           33,
           2,
           "Tychy"
          ],
          [
           29,
           1,
           "Katowice"
          ],
          [
           40,
           1,
           "Katowice"
          ],
          [
           35,
           2,
           "Katowice"
          ],
          [
           49,
           2,
           "Katowice"
          ],
          [
           37,
           2,
           "Bielsko-Biała"
          ],
          [
           50,
           2,
           "Katowice"
          ],
          [
           50,
           2,
           "Katowice"
          ],
          [
           30,
           2,
           "Katowice"
          ],
          [
           43,
           2,
           "Katowice"
          ],
          [
           50,
           2,
           "Katowice"
          ],
          [
           50,
           3,
           "Katowice"
          ],
          [
           40,
           1,
           "Katowice"
          ],
          [
           44,
           2,
           "Bielsko-Biała"
          ],
          [
           36,
           1,
           "Katowice"
          ],
          [
           40,
           1,
           "Katowice"
          ],
          [
           37,
           2,
           "Katowice"
          ],
          [
           36,
           2,
           "Tychy"
          ],
          [
           40,
           2,
           "Katowice"
          ],
          [
           40,
           2,
           "Katowice"
          ],
          [
           35,
           1,
           "Katowice"
          ],
          [
           36,
           2,
           "Katowice"
          ],
          [
           46,
           2,
           "Katowice"
          ],
          [
           50,
           2,
           "Katowice"
          ],
          [
           43,
           2,
           "Katowice"
          ],
          [
           39,
           1,
           "Katowice"
          ],
          [
           38,
           2,
           "Bielsko-Biała"
          ],
          [
           20,
           1,
           "Bielsko-Biała"
          ],
          [
           25,
           1,
           "Bielsko-Biała"
          ],
          [
           29,
           1,
           "Bielsko-Biała"
          ],
          [
           40,
           2,
           "Katowice"
          ],
          [
           44,
           2,
           "Tychy"
          ],
          [
           34,
           1,
           "Bielsko-Biała"
          ],
          [
           38,
           2,
           "Tychy"
          ],
          [
           40,
           2,
           "Katowice"
          ],
          [
           36,
           2,
           "Katowice"
          ],
          [
           42,
           3,
           "Tychy"
          ],
          [
           24,
           1,
           "Katowice"
          ],
          [
           46,
           2,
           "Katowice"
          ],
          [
           24,
           1,
           "Katowice"
          ],
          [
           21,
           1,
           "Katowice"
          ],
          [
           29,
           1,
           "Katowice"
          ],
          [
           48,
           2,
           "Katowice"
          ],
          [
           30,
           1,
           "Katowice"
          ],
          [
           46,
           2,
           "Katowice"
          ],
          [
           48,
           2,
           "Katowice"
          ],
          [
           17,
           1,
           "Katowice"
          ],
          [
           20,
           1,
           "Katowice"
          ],
          [
           38,
           2,
           "Katowice"
          ],
          [
           25,
           1,
           "Katowice"
          ],
          [
           35,
           2,
           "Katowice"
          ],
          [
           16,
           1,
           "Katowice"
          ],
          [
           37,
           1,
           "Katowice"
          ],
          [
           28,
           1,
           "Katowice"
          ],
          [
           15,
           1,
           "Katowice"
          ],
          [
           50,
           3,
           "Katowice"
          ],
          [
           46,
           2,
           "Tychy"
          ],
          [
           40,
           2,
           "Katowice"
          ],
          [
           37,
           2,
           "Katowice"
          ],
          [
           30,
           1,
           "Katowice"
          ],
          [
           30,
           1,
           "Katowice"
          ],
          [
           26,
           1,
           "Katowice"
          ],
          [
           34,
           2,
           "Katowice"
          ],
          [
           48,
           2,
           "Tychy"
          ],
          [
           41,
           2,
           "Katowice"
          ],
          [
           50,
           2,
           "Bielsko-Biała"
          ],
          [
           39,
           2,
           "Tychy"
          ],
          [
           34,
           2,
           "Katowice"
          ],
          [
           39,
           2,
           "Katowice"
          ],
          [
           17,
           1,
           "Katowice"
          ],
          [
           43,
           2,
           "Bielsko-Biała"
          ],
          [
           27,
           1,
           "Katowice"
          ],
          [
           42,
           2,
           "Katowice"
          ],
          [
           49,
           2,
           "Katowice"
          ],
          [
           30,
           1,
           "Katowice"
          ],
          [
           29,
           1,
           "Katowice"
          ],
          [
           40,
           1,
           "Katowice"
          ],
          [
           48,
           2,
           "Bielsko-Biała"
          ],
          [
           40,
           2,
           "Katowice"
          ],
          [
           43,
           2,
           "Katowice"
          ],
          [
           39,
           1,
           "Katowice"
          ],
          [
           38,
           2,
           "Katowice"
          ],
          [
           50,
           2,
           "Katowice"
          ],
          [
           47,
           2,
           "Katowice"
          ],
          [
           43,
           2,
           "Katowice"
          ],
          [
           43,
           2,
           "Katowice"
          ],
          [
           42,
           2,
           "Katowice"
          ],
          [
           39,
           2,
           "Tychy"
          ],
          [
           38,
           2,
           "Tychy"
          ],
          [
           43,
           2,
           "Katowice"
          ],
          [
           43,
           2,
           "Katowice"
          ],
          [
           43,
           2,
           "Bielsko-Biała"
          ],
          [
           38,
           2,
           "Katowice"
          ],
          [
           45,
           3,
           "Bielsko-Biała"
          ],
          [
           22,
           1,
           "Katowice"
          ],
          [
           49,
           3,
           "Katowice"
          ],
          [
           28,
           1,
           "Katowice"
          ],
          [
           38,
           2,
           "Katowice"
          ],
          [
           30,
           1,
           "Katowice"
          ],
          [
           38,
           2,
           "Bielsko-Biała"
          ],
          [
           47,
           2,
           "Katowice"
          ],
          [
           46,
           2,
           "Katowice"
          ],
          [
           45,
           2,
           "Katowice"
          ],
          [
           30,
           1,
           "Katowice"
          ],
          [
           31,
           1,
           "Tychy"
          ],
          [
           39,
           2,
           "Tychy"
          ],
          [
           38,
           2,
           "Bielsko-Biała"
          ],
          [
           40,
           2,
           "Katowice"
          ],
          [
           47,
           2,
           "Katowice"
          ],
          [
           20,
           1,
           "Katowice"
          ],
          [
           40,
           2,
           "Katowice"
          ],
          [
           26,
           1,
           "Katowice"
          ],
          [
           45,
           2,
           "Katowice"
          ],
          [
           33,
           2,
           "Katowice"
          ],
          [
           31,
           1,
           "Katowice"
          ],
          [
           31,
           1,
           "Katowice"
          ],
          [
           42,
           2,
           "Katowice"
          ],
          [
           30,
           1,
           "Katowice"
          ],
          [
           40,
           2,
           "Katowice"
          ],
          [
           43,
           2,
           "Katowice"
          ],
          [
           26,
           1,
           "Katowice"
          ],
          [
           38,
           2,
           "Katowice"
          ],
          [
           40,
           1,
           "Bielsko-Biała"
          ],
          [
           48,
           2,
           "Katowice"
          ],
          [
           30,
           1,
           "Katowice"
          ],
          [
           28,
           1,
           "Katowice"
          ],
          [
           27,
           1,
           "Katowice"
          ],
          [
           16,
           1,
           "Katowice"
          ],
          [
           42,
           2,
           "Katowice"
          ],
          [
           42,
           2,
           "Katowice"
          ],
          [
           43,
           2,
           "Katowice"
          ],
          [
           38,
           2,
           "Katowice"
          ],
          [
           50,
           2,
           "Katowice"
          ],
          [
           32,
           2,
           "Katowice"
          ],
          [
           32,
           2,
           "Katowice"
          ],
          [
           46,
           2,
           "Bielsko-Biała"
          ],
          [
           43,
           2,
           "Katowice"
          ],
          [
           39,
           2,
           "Katowice"
          ],
          [
           33,
           1,
           "Katowice"
          ],
          [
           36,
           1,
           "Katowice"
          ],
          [
           44,
           2,
           "Katowice"
          ],
          [
           47,
           2,
           "Katowice"
          ],
          [
           33,
           1,
           "Katowice"
          ],
          [
           46,
           2,
           "Katowice"
          ],
          [
           50,
           2,
           "Katowice"
          ],
          [
           36,
           1,
           "Bielsko-Biała"
          ],
          [
           47,
           2,
           "Katowice"
          ],
          [
           48,
           2,
           "Katowice"
          ],
          [
           32,
           1,
           "Katowice"
          ],
          [
           32,
           1,
           "Bielsko-Biała"
          ],
          [
           30,
           1,
           "Katowice"
          ],
          [
           27,
           1,
           "Katowice"
          ],
          [
           40,
           2,
           "Katowice"
          ],
          [
           36,
           2,
           "Bielsko-Biała"
          ],
          [
           36,
           2,
           "Katowice"
          ],
          [
           33,
           1,
           "Bielsko-Biała"
          ],
          [
           48,
           2,
           "Katowice"
          ],
          [
           31,
           1,
           "Katowice"
          ],
          [
           46,
           2,
           "Katowice"
          ],
          [
           29,
           1,
           "Bielsko-Biała"
          ],
          [
           44,
           2,
           "Katowice"
          ],
          [
           34,
           1,
           "Katowice"
          ],
          [
           33,
           1,
           "Katowice"
          ],
          [
           45,
           2,
           "Katowice"
          ],
          [
           44,
           2,
           "Bielsko-Biała"
          ],
          [
           30,
           1,
           "Katowice"
          ],
          [
           35,
           2,
           "Katowice"
          ],
          [
           38,
           2,
           "Katowice"
          ],
          [
           25,
           1,
           "Katowice"
          ],
          [
           38,
           2,
           "Katowice"
          ],
          [
           39,
           2,
           "Katowice"
          ],
          [
           36,
           2,
           "Katowice"
          ],
          [
           38,
           2,
           "Katowice"
          ],
          [
           18,
           1,
           "Katowice"
          ],
          [
           39,
           2,
           "Katowice"
          ],
          [
           45,
           2,
           "Tychy"
          ],
          [
           19,
           1,
           "Bielsko-Biała"
          ],
          [
           48,
           2,
           "Katowice"
          ],
          [
           38,
           2,
           "Katowice"
          ],
          [
           21,
           1,
           "Katowice"
          ],
          [
           50,
           3,
           "Katowice"
          ],
          [
           43,
           2,
           "Katowice"
          ],
          [
           31,
           2,
           "Katowice"
          ],
          [
           41,
           2,
           "Katowice"
          ],
          [
           38,
           2,
           "Katowice"
          ],
          [
           36,
           2,
           "Katowice"
          ],
          [
           21,
           1,
           "Katowice"
          ],
          [
           10,
           1,
           "Katowice"
          ],
          [
           45,
           2,
           "Katowice"
          ],
          [
           45,
           2,
           "Katowice"
          ],
          [
           47,
           2,
           "Katowice"
          ],
          [
           43,
           2,
           "Bielsko-Biała"
          ],
          [
           42,
           2,
           "Katowice"
          ],
          [
           40,
           2,
           "Katowice"
          ],
          [
           33,
           1,
           "Bielsko-Biała"
          ],
          [
           39,
           2,
           "Katowice"
          ],
          [
           43,
           2,
           "Bielsko-Biała"
          ],
          [
           30,
           1,
           "Katowice"
          ],
          [
           23,
           1,
           "Katowice"
          ],
          [
           45,
           2,
           "Tychy"
          ],
          [
           38,
           2,
           "Bielsko-Biała"
          ],
          [
           27,
           1,
           "Katowice"
          ],
          [
           32,
           1,
           "Katowice"
          ],
          [
           30,
           2,
           "Katowice"
          ],
          [
           19,
           1,
           "Katowice"
          ],
          [
           37,
           1,
           "Katowice"
          ],
          [
           26,
           1,
           "Katowice"
          ],
          [
           27,
           1,
           "Katowice"
          ],
          [
           23,
           1,
           "Katowice"
          ],
          [
           46,
           3,
           "Bielsko-Biała"
          ],
          [
           27,
           1,
           "Katowice"
          ],
          [
           38,
           1,
           "Katowice"
          ],
          [
           37,
           2,
           "Katowice"
          ],
          [
           50,
           2,
           "Katowice"
          ],
          [
           36,
           2,
           "Bielsko-Biała"
          ],
          [
           38,
           2,
           "Katowice"
          ],
          [
           39,
           2,
           "Katowice"
          ],
          [
           41,
           2,
           "Katowice"
          ],
          [
           44,
           2,
           "Bielsko-Biała"
          ],
          [
           40,
           1,
           "Katowice"
          ],
          [
           35,
           2,
           "Katowice"
          ],
          [
           37,
           2,
           "Katowice"
          ],
          [
           50,
           2,
           "Katowice"
          ],
          [
           46,
           2,
           "Katowice"
          ],
          [
           41,
           2,
           "Katowice"
          ],
          [
           40,
           2,
           "Katowice"
          ],
          [
           28,
           1,
           "Katowice"
          ],
          [
           28,
           1,
           "Katowice"
          ],
          [
           36,
           2,
           "Bielsko-Biała"
          ],
          [
           30,
           1,
           "Bielsko-Biała"
          ],
          [
           40,
           1,
           "Katowice"
          ],
          [
           50,
           2,
           "Katowice"
          ],
          [
           25,
           1,
           "Katowice"
          ],
          [
           25,
           1,
           "Katowice"
          ],
          [
           34,
           1,
           "Katowice"
          ],
          [
           30,
           1,
           "Katowice"
          ],
          [
           21,
           1,
           "Katowice"
          ],
          [
           29,
           1,
           "Katowice"
          ],
          [
           18,
           1,
           "Katowice"
          ],
          [
           44,
           2,
           "Katowice"
          ],
          [
           41,
           2,
           "Bielsko-Biała"
          ],
          [
           28,
           1,
           "Katowice"
          ],
          [
           31,
           1,
           "Katowice"
          ],
          [
           30,
           1,
           "Bielsko-Biała"
          ],
          [
           38,
           2,
           "Katowice"
          ],
          [
           44,
           2,
           "Katowice"
          ],
          [
           37,
           2,
           "Katowice"
          ],
          [
           38,
           2,
           "Katowice"
          ],
          [
           20,
           1,
           "Katowice"
          ],
          [
           20,
           1,
           "Katowice"
          ],
          [
           49,
           2,
           "Katowice"
          ],
          [
           30,
           1,
           "Katowice"
          ],
          [
           39,
           1,
           "Katowice"
          ],
          [
           48,
           2,
           "Bielsko-Biała"
          ],
          [
           48,
           2,
           "Katowice"
          ],
          [
           40,
           1,
           "Bielsko-Biała"
          ],
          [
           39,
           2,
           "Katowice"
          ],
          [
           39,
           2,
           "Katowice"
          ],
          [
           38,
           2,
           "Katowice"
          ],
          [
           26,
           1,
           "Katowice"
          ],
          [
           30,
           1,
           "Katowice"
          ],
          [
           47,
           2,
           "Bielsko-Biała"
          ],
          [
           38,
           2,
           "Katowice"
          ],
          [
           50,
           2,
           "Katowice"
          ],
          [
           40,
           2,
           "Bielsko-Biała"
          ],
          [
           39,
           2,
           "Katowice"
          ],
          [
           45,
           2,
           "Bielsko-Biała"
          ],
          [
           39,
           1,
           "Katowice"
          ],
          [
           50,
           2,
           "Katowice"
          ],
          [
           26,
           1,
           "Katowice"
          ],
          [
           23,
           1,
           "Katowice"
          ],
          [
           19,
           1,
           "Katowice"
          ],
          [
           47,
           2,
           "Katowice"
          ],
          [
           45,
           2,
           "Katowice"
          ],
          [
           19,
           1,
           "Katowice"
          ],
          [
           43,
           2,
           "Katowice"
          ],
          [
           40,
           2,
           "Tychy"
          ],
          [
           48,
           2,
           "Katowice"
          ],
          [
           37,
           2,
           "Katowice"
          ],
          [
           31,
           1,
           "Katowice"
          ],
          [
           37,
           1,
           "Katowice"
          ],
          [
           46,
           2,
           "Katowice"
          ],
          [
           38,
           2,
           "Katowice"
          ],
          [
           44,
           2,
           "Katowice"
          ],
          [
           50,
           3,
           "Katowice"
          ],
          [
           28,
           1,
           "Bielsko-Biała"
          ],
          [
           47,
           2,
           "Katowice"
          ],
          [
           25,
           2,
           "Katowice"
          ],
          [
           38,
           2,
           "Katowice"
          ],
          [
           35,
           1,
           "Tychy"
          ],
          [
           43,
           2,
           "Katowice"
          ],
          [
           22,
           1,
           "Katowice"
          ],
          [
           35,
           2,
           "Katowice"
          ],
          [
           41,
           2,
           "Katowice"
          ],
          [
           45,
           2,
           "Katowice"
          ],
          [
           22,
           1,
           "Katowice"
          ],
          [
           20,
           1,
           "Katowice"
          ],
          [
           41,
           2,
           "Katowice"
          ],
          [
           49,
           2,
           "Katowice"
          ],
          [
           40,
           2,
           "Katowice"
          ],
          [
           34,
           1,
           "Katowice"
          ],
          [
           31,
           1,
           "Bielsko-Biała"
          ],
          [
           45,
           2,
           "Katowice"
          ],
          [
           50,
           2,
           "Katowice"
          ],
          [
           41,
           3,
           "Katowice"
          ],
          [
           49,
           2,
           "Katowice"
          ],
          [
           49,
           2,
           "Katowice"
          ],
          [
           35,
           2,
           "Katowice"
          ],
          [
           10,
           1,
           "Katowice"
          ],
          [
           13,
           1,
           "Katowice"
          ],
          [
           11,
           1,
           "Katowice"
          ],
          [
           31,
           1,
           "Katowice"
          ],
          [
           38,
           2,
           "Katowice"
          ],
          [
           49,
           2,
           "Katowice"
          ],
          [
           29,
           1,
           "Katowice"
          ],
          [
           49,
           3,
           "Katowice"
          ],
          [
           50,
           2,
           "Katowice"
          ],
          [
           22,
           1,
           "Katowice"
          ],
          [
           26,
           1,
           "Katowice"
          ],
          [
           41,
           2,
           "Katowice"
          ],
          [
           35,
           2,
           "Katowice"
          ],
          [
           48,
           2,
           "Katowice"
          ],
          [
           38,
           2,
           "Katowice"
          ],
          [
           40,
           2,
           "Katowice"
          ],
          [
           40,
           2,
           "Katowice"
          ],
          [
           48,
           2,
           "Katowice"
          ],
          [
           43,
           2,
           "Katowice"
          ],
          [
           40,
           3,
           "Katowice"
          ],
          [
           26,
           2,
           "Katowice"
          ],
          [
           25,
           1,
           "Katowice"
          ],
          [
           28,
           1,
           "Katowice"
          ],
          [
           26,
           1,
           "Katowice"
          ],
          [
           18,
           1,
           "Katowice"
          ],
          [
           43,
           2,
           "Katowice"
          ],
          [
           17,
           1,
           "Katowice"
          ],
          [
           32,
           2,
           "Katowice"
          ],
          [
           49,
           2,
           "Katowice"
          ],
          [
           45,
           2,
           "Katowice"
          ],
          [
           22,
           1,
           "Katowice"
          ],
          [
           45,
           2,
           "Katowice"
          ],
          [
           45,
           2,
           "Katowice"
          ],
          [
           42,
           2,
           "Katowice"
          ],
          [
           42,
           2,
           "Katowice"
          ],
          [
           38,
           2,
           "Katowice"
          ],
          [
           17,
           1,
           "Katowice"
          ],
          [
           38,
           2,
           "Katowice"
          ],
          [
           30,
           1,
           "Katowice"
          ],
          [
           32,
           1,
           "Katowice"
          ],
          [
           42,
           2,
           "Katowice"
          ],
          [
           31,
           1,
           "Katowice"
          ],
          [
           30,
           1,
           "Katowice"
          ],
          [
           44,
           2,
           "Katowice"
          ],
          [
           49,
           2,
           "Katowice"
          ],
          [
           46,
           2,
           "Katowice"
          ],
          [
           37,
           2,
           "Katowice"
          ],
          [
           37,
           2,
           "Tychy"
          ],
          [
           42,
           2,
           "Katowice"
          ],
          [
           39,
           2,
           "Katowice"
          ],
          [
           34,
           2,
           "Katowice"
          ],
          [
           29,
           1,
           "Katowice"
          ],
          [
           49,
           3,
           "Katowice"
          ],
          [
           20,
           1,
           "Katowice"
          ],
          [
           30,
           1,
           "Katowice"
          ],
          [
           50,
           2,
           "Katowice"
          ],
          [
           36,
           2,
           "Katowice"
          ],
          [
           25,
           1,
           "Katowice"
          ],
          [
           32,
           2,
           "Katowice"
          ],
          [
           48,
           2,
           "Katowice"
          ],
          [
           30,
           1,
           "Katowice"
          ],
          [
           18,
           1,
           "Katowice"
          ],
          [
           48,
           2,
           "Bielsko-Biała"
          ],
          [
           36,
           2,
           "Katowice"
          ],
          [
           46,
           2,
           "Katowice"
          ],
          [
           37,
           1,
           "Katowice"
          ],
          [
           40,
           2,
           "Katowice"
          ],
          [
           35,
           2,
           "Katowice"
          ],
          [
           42,
           2,
           "Katowice"
          ],
          [
           41,
           2,
           "Katowice"
          ],
          [
           43,
           2,
           "Bielsko-Biała"
          ],
          [
           16,
           1,
           "Katowice"
          ],
          [
           35,
           1,
           "Katowice"
          ],
          [
           35,
           1,
           "Katowice"
          ],
          [
           43,
           2,
           "Katowice"
          ],
          [
           45,
           2,
           "Katowice"
          ],
          [
           29,
           1,
           "Katowice"
          ],
          [
           43,
           2,
           "Katowice"
          ],
          [
           36,
           2,
           "Tychy"
          ],
          [
           39,
           2,
           "Bielsko-Biała"
          ],
          [
           28,
           1,
           "Katowice"
          ],
          [
           44,
           2,
           "Katowice"
          ],
          [
           40,
           2,
           "Katowice"
          ],
          [
           35,
           2,
           "Katowice"
          ],
          [
           23,
           1,
           "Katowice"
          ],
          [
           38,
           2,
           "Katowice"
          ],
          [
           30,
           1,
           "Katowice"
          ],
          [
           38,
           2,
           "Katowice"
          ],
          [
           44,
           2,
           "Katowice"
          ],
          [
           34,
           1,
           "Katowice"
          ],
          [
           21,
           1,
           "Katowice"
          ],
          [
           8,
           1,
           "Katowice"
          ],
          [
           38,
           2,
           "Katowice"
          ],
          [
           45,
           2,
           "Katowice"
          ],
          [
           43,
           2,
           "Katowice"
          ],
          [
           9,
           1,
           "Katowice"
          ],
          [
           27,
           1,
           "Katowice"
          ],
          [
           48,
           2,
           "Katowice"
          ],
          [
           22,
           1,
           "Katowice"
          ],
          [
           26,
           1,
           "Katowice"
          ],
          [
           20,
           1,
           "Katowice"
          ],
          [
           37,
           2,
           "Katowice"
          ],
          [
           25,
           1,
           "Katowice"
          ],
          [
           44,
           2,
           "Katowice"
          ],
          [
           45,
           2,
           "Katowice"
          ],
          [
           36,
           2,
           "Katowice"
          ],
          [
           29,
           1,
           "Katowice"
          ],
          [
           44,
           2,
           "Katowice"
          ],
          [
           25,
           1,
           "Katowice"
          ],
          [
           27,
           2,
           "Katowice"
          ],
          [
           45,
           2,
           "Tychy"
          ],
          [
           18,
           1,
           "Katowice"
          ],
          [
           17,
           1,
           "Katowice"
          ],
          [
           22,
           1,
           "Katowice"
          ],
          [
           20,
           1,
           "Katowice"
          ],
          [
           25,
           1,
           "Katowice"
          ],
          [
           18,
           1,
           "Katowice"
          ],
          [
           22,
           1,
           "Katowice"
          ],
          [
           17,
           1,
           "Katowice"
          ],
          [
           50,
           2,
           "Katowice"
          ],
          [
           35,
           2,
           "Katowice"
          ],
          [
           36,
           1,
           "Katowice"
          ],
          [
           15,
           1,
           "Katowice"
          ],
          [
           10,
           1,
           "Katowice"
          ],
          [
           10,
           1,
           "Katowice"
          ],
          [
           23,
           1,
           "Katowice"
          ],
          [
           38,
           2,
           "Bielsko-Biała"
          ],
          [
           28,
           1,
           "Katowice"
          ],
          [
           38,
           2,
           "Katowice"
          ],
          [
           37,
           1,
           "Katowice"
          ],
          [
           37,
           2,
           "Katowice"
          ],
          [
           37,
           2,
           "Katowice"
          ],
          [
           28,
           1,
           "Katowice"
          ],
          [
           28,
           1,
           "Katowice"
          ],
          [
           29,
           1,
           "Katowice"
          ],
          [
           29,
           1,
           "Katowice"
          ],
          [
           48,
           2,
           "Katowice"
          ],
          [
           28,
           1,
           "Katowice"
          ],
          [
           49,
           2,
           "Bielsko-Biała"
          ],
          [
           45,
           2,
           "Katowice"
          ],
          [
           10,
           1,
           "Katowice"
          ],
          [
           11,
           1,
           "Katowice"
          ],
          [
           48,
           2,
           "Katowice"
          ],
          [
           36,
           2,
           "Katowice"
          ],
          [
           48,
           2,
           "Katowice"
          ],
          [
           18,
           1,
           "Katowice"
          ],
          [
           29,
           1,
           "Bielsko-Biała"
          ],
          [
           50,
           2,
           "Katowice"
          ],
          [
           35,
           2,
           "Katowice"
          ],
          [
           42,
           2,
           "Katowice"
          ],
          [
           30,
           1,
           "Katowice"
          ],
          [
           50,
           2,
           "Tychy"
          ],
          [
           25,
           1,
           "Katowice"
          ],
          [
           30,
           1,
           "Katowice"
          ],
          [
           22,
           1,
           "Katowice"
          ],
          [
           24,
           1,
           "Katowice"
          ],
          [
           29,
           1,
           "Katowice"
          ],
          [
           34,
           1,
           "Katowice"
          ],
          [
           30,
           1,
           "Katowice"
          ],
          [
           15,
           1,
           "Katowice"
          ],
          [
           38,
           2,
           "Katowice"
          ],
          [
           29,
           1,
           "Katowice"
          ],
          [
           16,
           1,
           "Katowice"
          ],
          [
           21,
           1,
           "Katowice"
          ],
          [
           49,
           2,
           "Katowice"
          ],
          [
           50,
           3,
           "Katowice"
          ],
          [
           43,
           1,
           "Katowice"
          ],
          [
           47,
           2,
           "Katowice"
          ],
          [
           28,
           1,
           "Tychy"
          ],
          [
           20,
           1,
           "Katowice"
          ],
          [
           47,
           1,
           "Katowice"
          ],
          [
           11,
           1,
           "Katowice"
          ],
          [
           13,
           1,
           "Katowice"
          ],
          [
           24,
           1,
           "Bielsko-Biała"
          ],
          [
           43,
           2,
           "Katowice"
          ],
          [
           10,
           1,
           "Katowice"
          ],
          [
           29,
           1,
           "Bielsko-Biała"
          ],
          [
           38,
           2,
           "Katowice"
          ],
          [
           36,
           1,
           "Katowice"
          ],
          [
           36,
           1,
           "Katowice"
          ],
          [
           25,
           1,
           "Katowice"
          ],
          [
           44,
           2,
           "Katowice"
          ],
          [
           29,
           1,
           "Katowice"
          ],
          [
           15,
           1,
           "Katowice"
          ],
          [
           45,
           2,
           "Katowice"
          ],
          [
           47,
           3,
           "Bielsko-Biała"
          ],
          [
           37,
           1,
           "Katowice"
          ],
          [
           42,
           1,
           "Katowice"
          ],
          [
           37,
           2,
           "Tychy"
          ],
          [
           37,
           2,
           "Tychy"
          ],
          [
           18,
           1,
           "Katowice"
          ],
          [
           43,
           2,
           "Katowice"
          ],
          [
           45,
           3,
           "Katowice"
          ],
          [
           10,
           1,
           "Katowice"
          ],
          [
           9,
           1,
           "Katowice"
          ],
          [
           38,
           2,
           "Katowice"
          ],
          [
           25,
           1,
           "Katowice"
          ],
          [
           35,
           2,
           "Katowice"
          ],
          [
           28,
           1,
           "Katowice"
          ],
          [
           27,
           1,
           "Katowice"
          ],
          [
           35,
           2,
           "Katowice"
          ],
          [
           40,
           2,
           "Tychy"
          ],
          [
           42,
           2,
           "Katowice"
          ],
          [
           22,
           1,
           "Katowice"
          ],
          [
           36,
           1,
           "Tychy"
          ],
          [
           28,
           1,
           "Katowice"
          ],
          [
           30,
           1,
           "Bielsko-Biała"
          ],
          [
           40,
           2,
           "Katowice"
          ],
          [
           25,
           1,
           "Bielsko-Biała"
          ],
          [
           46,
           2,
           "Katowice"
          ],
          [
           38,
           2,
           "Katowice"
          ],
          [
           18,
           1,
           "Katowice"
          ],
          [
           37,
           2,
           "Katowice"
          ],
          [
           38,
           2,
           "Katowice"
          ],
          [
           38,
           2,
           "Katowice"
          ],
          [
           46,
           2,
           "Katowice"
          ],
          [
           28,
           1,
           "Katowice"
          ],
          [
           49,
           2,
           "Katowice"
          ],
          [
           40,
           2,
           "Katowice"
          ],
          [
           19,
           1,
           "Katowice"
          ],
          [
           42,
           2,
           "Katowice"
          ],
          [
           27,
           1,
           "Katowice"
          ],
          [
           50,
           2,
           "Katowice"
          ],
          [
           37,
           2,
           "Katowice"
          ],
          [
           39,
           1,
           "Katowice"
          ],
          [
           34,
           1,
           "Katowice"
          ],
          [
           42,
           2,
           "Katowice"
          ],
          [
           50,
           2,
           "Katowice"
          ],
          [
           40,
           2,
           "Katowice"
          ],
          [
           34,
           1,
           "Katowice"
          ],
          [
           27,
           1,
           "Katowice"
          ],
          [
           43,
           2,
           "Katowice"
          ],
          [
           37,
           1,
           "Katowice"
          ],
          [
           27,
           1,
           "Katowice"
          ],
          [
           39,
           2,
           "Tychy"
          ],
          [
           50,
           2,
           "Katowice"
          ],
          [
           28,
           1,
           "Katowice"
          ],
          [
           45,
           2,
           "Katowice"
          ],
          [
           28,
           1,
           "Katowice"
          ],
          [
           36,
           2,
           "Katowice"
          ],
          [
           40,
           1,
           "Katowice"
          ],
          [
           23,
           1,
           "Tychy"
          ],
          [
           40,
           2,
           "Katowice"
          ],
          [
           23,
           1,
           "Katowice"
          ],
          [
           41,
           2,
           "Katowice"
          ],
          [
           37,
           1,
           "Katowice"
          ]
         ],
         "hovertemplate": "suma_oplat=%{y}<br>powierzchnia=%{customdata[0]}<br>pokoje=%{customdata[1]}<br>miasto=%{customdata[2]}<extra></extra>",
         "legendgroup": "",
         "marker": {
          "color": "#636efa"
         },
         "name": "",
         "notched": false,
         "offsetgroup": "",
         "orientation": "v",
         "showlegend": false,
         "type": "box",
         "x0": " ",
         "xaxis": "x",
         "y": [
          1430,
          1661,
          1850,
          1900,
          1100,
          2660,
          1020,
          1700,
          1600,
          1400,
          1900,
          1675,
          2200,
          1200,
          2000,
          2300,
          1300,
          1800,
          1300,
          1150,
          1000,
          1130,
          1450,
          750,
          2200,
          800,
          1800,
          2201,
          1887,
          850,
          1149,
          1550,
          750,
          550,
          2201,
          1290,
          1550,
          1673,
          1306,
          1100,
          2700,
          1590,
          2714,
          1850,
          1300,
          1351,
          1150,
          1650,
          1550,
          900,
          1900,
          1600,
          1700,
          1930,
          2280,
          1200,
          2600,
          1640,
          2300,
          1800,
          1370,
          2500,
          2050,
          1500,
          2220,
          1800,
          1750,
          2050,
          1500,
          1580,
          1800,
          1690,
          1900,
          1199,
          1900,
          1090,
          2230,
          1299,
          990,
          1290,
          1640,
          1501,
          2080,
          2100,
          2100,
          1600,
          1690,
          1750,
          1100,
          790,
          2490,
          2550,
          1400,
          1850,
          1300,
          1351,
          1050,
          1620,
          2000,
          1150,
          1780,
          1910,
          1800,
          1500,
          900,
          1050,
          1960,
          1050,
          1800,
          2049,
          1500,
          1550,
          1420,
          2790,
          2000,
          1300,
          2100,
          3000,
          1700,
          1700,
          1500,
          1500,
          1600,
          2100,
          1550,
          2500,
          1500,
          2200,
          1899,
          1300,
          2024,
          1650,
          1480,
          1800,
          2900,
          1300,
          1350,
          1600,
          1890,
          1450,
          1800,
          1500,
          1850,
          2100,
          2500,
          2100,
          2000,
          1300,
          1350,
          2430,
          1380,
          1300,
          1650,
          1150,
          1500,
          2112,
          1300,
          2100,
          1800,
          1300,
          2550,
          1500,
          2135,
          1900,
          800,
          1400,
          1450,
          1400,
          1400,
          1300,
          1740,
          1810,
          1650,
          1900,
          2200,
          2200,
          1700,
          2250,
          1530,
          1930,
          1650,
          2230,
          1800,
          2050,
          1490,
          2575,
          1700,
          1700,
          2650,
          1860,
          1200,
          2049,
          900,
          2250,
          650,
          1688,
          1242,
          2006,
          2100,
          1500,
          2000,
          1890,
          2100,
          1000,
          2200,
          2400,
          2970,
          1800,
          2900,
          2200,
          1150,
          1750,
          991,
          1800,
          1550,
          2050,
          2500,
          1251,
          1300,
          460,
          1300,
          2450,
          1780,
          1851,
          1999,
          1661,
          1900,
          1900,
          1530,
          2336,
          1300,
          2120,
          1780,
          891,
          1700,
          1405,
          2600,
          2201,
          1851,
          1300,
          1250,
          1300,
          3000,
          2970,
          1709,
          1400,
          2200,
          800,
          1600,
          970,
          1300,
          1850,
          1801,
          1501,
          2000,
          1630,
          1600,
          2240,
          1600,
          1650,
          1900,
          1601,
          1460,
          1200,
          1250,
          2080,
          1880,
          1790,
          1640,
          1580,
          1899,
          1450,
          1950,
          1570,
          2000,
          2250,
          1260,
          1180,
          1950,
          1150,
          2200,
          1350,
          2280,
          2050,
          1550,
          1520,
          2050,
          1600,
          1690,
          1370,
          2200,
          1500,
          999,
          2300,
          1800,
          2200,
          1810,
          1800,
          2650,
          1300,
          2720,
          1630,
          1700,
          1780,
          1860,
          1500,
          1970,
          1780,
          1890,
          1900,
          2135,
          1800,
          1300,
          1300,
          1400,
          2000,
          1887,
          1190,
          1290,
          1090,
          1451,
          1900,
          1900,
          1199,
          1900,
          2200,
          950,
          1500,
          1700,
          1050,
          1850,
          1650,
          1950,
          1800,
          1644,
          1790,
          1490,
          1800,
          1200,
          2300,
          1700,
          1191,
          1500,
          1400,
          1650,
          1099,
          1650,
          2280,
          2001,
          1020,
          1690,
          1750,
          2480,
          2000,
          1050,
          1600,
          1375,
          1450,
          1460,
          1200,
          2000,
          2000,
          1501,
          2600,
          900,
          1600,
          2350,
          1800,
          1350,
          1600,
          700,
          1600,
          1100,
          1200,
          1700,
          1650,
          2300,
          2201,
          2240,
          1800,
          1900,
          1300,
          2200,
          1200,
          650,
          650,
          650,
          650,
          1450,
          1199,
          1250,
          950,
          800,
          1646,
          950,
          849,
          700,
          2500,
          1105,
          1150,
          1000,
          1200,
          2135,
          1999,
          2600,
          1600,
          1350,
          1690,
          1250,
          1350,
          2050,
          1500,
          1500,
          3170,
          1800,
          1800,
          2000,
          1400,
          2100,
          2100,
          1520,
          1600,
          2300,
          990,
          1650,
          1850,
          1750,
          1201,
          2001,
          1900,
          1500,
          1850,
          2135,
          1800,
          1300,
          1500,
          1500,
          1800,
          2000,
          900,
          1450,
          2150,
          1500,
          500,
          850,
          2470,
          980,
          950,
          1199,
          1250,
          1251,
          1800,
          2100,
          900,
          1001,
          1600,
          1300,
          1700,
          1500,
          1630,
          1500,
          1000,
          2200,
          2000,
          1420,
          1400,
          1200,
          1100,
          1050,
          1960,
          1800,
          1650,
          1865,
          1550,
          1485,
          1650,
          800,
          2110,
          1500,
          1650,
          1010,
          1950,
          1000,
          1350,
          2790,
          1780,
          1850,
          319,
          1700,
          1600,
          2480,
          2150,
          2150,
          2100,
          3000,
          1550,
          1950,
          1950,
          1800,
          1900,
          1600,
          850,
          1600,
          1190,
          1760,
          1600,
          1550,
          2250,
          2300,
          1568,
          1300,
          1300,
          1810,
          2049,
          1750,
          1600,
          900,
          1490,
          1350,
          1500,
          1590,
          1300,
          1900,
          2300,
          1840,
          2000,
          2500,
          1260,
          1800,
          1600,
          1400,
          1501,
          1050,
          1734,
          912,
          1400,
          1400,
          1430,
          1900,
          1500,
          2050,
          1200,
          2100,
          1750,
          1300,
          1600,
          1000,
          2001,
          2550,
          1501,
          1651,
          2160,
          1800,
          1650,
          1500,
          1200,
          1500,
          1000,
          1400,
          1700,
          1400,
          1550,
          1400,
          1500,
          1600,
          1800,
          1550,
          2900,
          1230,
          1200,
          2000,
          2340,
          1350,
          1600,
          999,
          1399,
          1750,
          2000,
          1850,
          1700,
          1150,
          1370,
          1690,
          1100,
          2240,
          1500,
          800,
          1500,
          1900,
          2040,
          2550,
          1200,
          1690,
          1200,
          730,
          2560,
          2200,
          1800,
          1700,
          1900,
          1750,
          1100,
          1150,
          1800,
          1350,
          800,
          2350,
          1700,
          1180,
          1150,
          1101,
          800,
          1200,
          800,
          950,
          800,
          1390,
          1265,
          1300,
          1020,
          2200,
          1860,
          2400,
          2070,
          1860,
          2200,
          1800,
          1000,
          3000,
          1250,
          1950,
          1490,
          1601,
          1300,
          1300,
          1950,
          1900,
          1100,
          2500,
          900,
          700,
          700,
          1400,
          1150,
          1300,
          1149,
          2714,
          2050,
          1200,
          900,
          1200,
          800,
          1980,
          1990,
          1200,
          1000,
          1000,
          1000,
          1250,
          1700,
          1300,
          1800,
          1300,
          1600,
          1300,
          1800,
          1100,
          1250,
          2000,
          1100,
          1800,
          1700,
          2200,
          1960,
          2135,
          1850,
          1101,
          790,
          750,
          1600,
          1200,
          950,
          1500,
          1500,
          2000,
          1850,
          1100,
          1000,
          1800,
          1500,
          1980,
          2300,
          1600,
          1600,
          1300,
          1480,
          1400,
          1500,
          1450,
          1700,
          2100,
          1700,
          1400,
          1050,
          1800,
          1540,
          2200,
          1000,
          1499,
          2100,
          2400,
          2100,
          2200,
          2040,
          1600,
          590,
          690,
          690,
          1250,
          1750,
          1900,
          1300,
          1600,
          2300,
          890,
          950,
          2100,
          1851,
          1880,
          1920,
          2120,
          1500,
          2300,
          2100,
          1401,
          920,
          790,
          1350,
          1600,
          950,
          1750,
          1000,
          2116,
          2200,
          2650,
          1100,
          2250,
          2150,
          2500,
          1500,
          1900,
          1090,
          1700,
          1750,
          1800,
          2280,
          271,
          1250,
          2000,
          1350,
          1600,
          1600,
          1500,
          1800,
          1950,
          1980,
          700,
          1900,
          1200,
          1150,
          1390,
          1650,
          1200,
          1400,
          1600,
          800,
          1150,
          1750,
          1800,
          1850,
          1300,
          1640,
          1644,
          1650,
          1600,
          1750,
          650,
          1650,
          1650,
          1794,
          1800,
          1500,
          1700,
          1450,
          1400,
          1100,
          1200,
          1200,
          1600,
          900,
          1601,
          900,
          1490,
          1450,
          1350,
          967,
          390,
          1900,
          2970,
          1850,
          390,
          1500,
          1599,
          1300,
          1500,
          1200,
          1600,
          1100,
          1980,
          1500,
          2001,
          1000,
          1980,
          1100,
          1290,
          1550,
          1300,
          980,
          1250,
          1600,
          1350,
          1300,
          1400,
          1300,
          2660,
          2050,
          1200,
          1200,
          700,
          730,
          1300,
          1600,
          1200,
          2000,
          1000,
          1150,
          1200,
          1200,
          1200,
          1200,
          1200,
          1600,
          1000,
          1900,
          1350,
          750,
          550,
          1650,
          1800,
          1300,
          940,
          1550,
          2200,
          1851,
          1700,
          1200,
          1500,
          1500,
          800,
          1299,
          1100,
          990,
          1242,
          1001,
          901,
          2000,
          1001,
          1050,
          1500,
          1950,
          2300,
          1699,
          1500,
          1200,
          800,
          1750,
          1100,
          1100,
          1260,
          2300,
          730,
          1450,
          1500,
          1500,
          1500,
          1350,
          2490,
          1200,
          900,
          1750,
          1300,
          1100,
          1400,
          1500,
          1800,
          1400,
          1000,
          1500,
          390,
          390,
          1100,
          1200,
          1600,
          1200,
          1200,
          1673,
          2300,
          1800,
          1500,
          1590,
          1200,
          1000,
          1400,
          760,
          1700,
          1600,
          1000,
          1400,
          1350,
          1300,
          1399,
          1400,
          1727,
          1499,
          1200,
          1300,
          950,
          1500,
          1900,
          1500,
          1000,
          1700,
          2660,
          1900,
          2050,
          1200,
          1200,
          1150,
          1350,
          1700,
          2300,
          1200,
          1750,
          1100,
          1200,
          1200,
          1200,
          1200,
          900,
          1200,
          1400
         ],
         "y0": " ",
         "yaxis": "y"
        }
       ],
       "layout": {
        "boxmode": "group",
        "legend": {
         "tracegroupgap": 0
        },
        "template": {
         "data": {
          "bar": [
           {
            "error_x": {
             "color": "#2a3f5f"
            },
            "error_y": {
             "color": "#2a3f5f"
            },
            "marker": {
             "line": {
              "color": "#E5ECF6",
              "width": 0.5
             }
            },
            "type": "bar"
           }
          ],
          "barpolar": [
           {
            "marker": {
             "line": {
              "color": "#E5ECF6",
              "width": 0.5
             }
            },
            "type": "barpolar"
           }
          ],
          "carpet": [
           {
            "aaxis": {
             "endlinecolor": "#2a3f5f",
             "gridcolor": "white",
             "linecolor": "white",
             "minorgridcolor": "white",
             "startlinecolor": "#2a3f5f"
            },
            "baxis": {
             "endlinecolor": "#2a3f5f",
             "gridcolor": "white",
             "linecolor": "white",
             "minorgridcolor": "white",
             "startlinecolor": "#2a3f5f"
            },
            "type": "carpet"
           }
          ],
          "choropleth": [
           {
            "colorbar": {
             "outlinewidth": 0,
             "ticks": ""
            },
            "type": "choropleth"
           }
          ],
          "contour": [
           {
            "colorbar": {
             "outlinewidth": 0,
             "ticks": ""
            },
            "colorscale": [
             [
              0,
              "#0d0887"
             ],
             [
              0.1111111111111111,
              "#46039f"
             ],
             [
              0.2222222222222222,
              "#7201a8"
             ],
             [
              0.3333333333333333,
              "#9c179e"
             ],
             [
              0.4444444444444444,
              "#bd3786"
             ],
             [
              0.5555555555555556,
              "#d8576b"
             ],
             [
              0.6666666666666666,
              "#ed7953"
             ],
             [
              0.7777777777777778,
              "#fb9f3a"
             ],
             [
              0.8888888888888888,
              "#fdca26"
             ],
             [
              1,
              "#f0f921"
             ]
            ],
            "type": "contour"
           }
          ],
          "contourcarpet": [
           {
            "colorbar": {
             "outlinewidth": 0,
             "ticks": ""
            },
            "type": "contourcarpet"
           }
          ],
          "heatmap": [
           {
            "colorbar": {
             "outlinewidth": 0,
             "ticks": ""
            },
            "colorscale": [
             [
              0,
              "#0d0887"
             ],
             [
              0.1111111111111111,
              "#46039f"
             ],
             [
              0.2222222222222222,
              "#7201a8"
             ],
             [
              0.3333333333333333,
              "#9c179e"
             ],
             [
              0.4444444444444444,
              "#bd3786"
             ],
             [
              0.5555555555555556,
              "#d8576b"
             ],
             [
              0.6666666666666666,
              "#ed7953"
             ],
             [
              0.7777777777777778,
              "#fb9f3a"
             ],
             [
              0.8888888888888888,
              "#fdca26"
             ],
             [
              1,
              "#f0f921"
             ]
            ],
            "type": "heatmap"
           }
          ],
          "heatmapgl": [
           {
            "colorbar": {
             "outlinewidth": 0,
             "ticks": ""
            },
            "colorscale": [
             [
              0,
              "#0d0887"
             ],
             [
              0.1111111111111111,
              "#46039f"
             ],
             [
              0.2222222222222222,
              "#7201a8"
             ],
             [
              0.3333333333333333,
              "#9c179e"
             ],
             [
              0.4444444444444444,
              "#bd3786"
             ],
             [
              0.5555555555555556,
              "#d8576b"
             ],
             [
              0.6666666666666666,
              "#ed7953"
             ],
             [
              0.7777777777777778,
              "#fb9f3a"
             ],
             [
              0.8888888888888888,
              "#fdca26"
             ],
             [
              1,
              "#f0f921"
             ]
            ],
            "type": "heatmapgl"
           }
          ],
          "histogram": [
           {
            "marker": {
             "colorbar": {
              "outlinewidth": 0,
              "ticks": ""
             }
            },
            "type": "histogram"
           }
          ],
          "histogram2d": [
           {
            "colorbar": {
             "outlinewidth": 0,
             "ticks": ""
            },
            "colorscale": [
             [
              0,
              "#0d0887"
             ],
             [
              0.1111111111111111,
              "#46039f"
             ],
             [
              0.2222222222222222,
              "#7201a8"
             ],
             [
              0.3333333333333333,
              "#9c179e"
             ],
             [
              0.4444444444444444,
              "#bd3786"
             ],
             [
              0.5555555555555556,
              "#d8576b"
             ],
             [
              0.6666666666666666,
              "#ed7953"
             ],
             [
              0.7777777777777778,
              "#fb9f3a"
             ],
             [
              0.8888888888888888,
              "#fdca26"
             ],
             [
              1,
              "#f0f921"
             ]
            ],
            "type": "histogram2d"
           }
          ],
          "histogram2dcontour": [
           {
            "colorbar": {
             "outlinewidth": 0,
             "ticks": ""
            },
            "colorscale": [
             [
              0,
              "#0d0887"
             ],
             [
              0.1111111111111111,
              "#46039f"
             ],
             [
              0.2222222222222222,
              "#7201a8"
             ],
             [
              0.3333333333333333,
              "#9c179e"
             ],
             [
              0.4444444444444444,
              "#bd3786"
             ],
             [
              0.5555555555555556,
              "#d8576b"
             ],
             [
              0.6666666666666666,
              "#ed7953"
             ],
             [
              0.7777777777777778,
              "#fb9f3a"
             ],
             [
              0.8888888888888888,
              "#fdca26"
             ],
             [
              1,
              "#f0f921"
             ]
            ],
            "type": "histogram2dcontour"
           }
          ],
          "mesh3d": [
           {
            "colorbar": {
             "outlinewidth": 0,
             "ticks": ""
            },
            "type": "mesh3d"
           }
          ],
          "parcoords": [
           {
            "line": {
             "colorbar": {
              "outlinewidth": 0,
              "ticks": ""
             }
            },
            "type": "parcoords"
           }
          ],
          "pie": [
           {
            "automargin": true,
            "type": "pie"
           }
          ],
          "scatter": [
           {
            "marker": {
             "colorbar": {
              "outlinewidth": 0,
              "ticks": ""
             }
            },
            "type": "scatter"
           }
          ],
          "scatter3d": [
           {
            "line": {
             "colorbar": {
              "outlinewidth": 0,
              "ticks": ""
             }
            },
            "marker": {
             "colorbar": {
              "outlinewidth": 0,
              "ticks": ""
             }
            },
            "type": "scatter3d"
           }
          ],
          "scattercarpet": [
           {
            "marker": {
             "colorbar": {
              "outlinewidth": 0,
              "ticks": ""
             }
            },
            "type": "scattercarpet"
           }
          ],
          "scattergeo": [
           {
            "marker": {
             "colorbar": {
              "outlinewidth": 0,
              "ticks": ""
             }
            },
            "type": "scattergeo"
           }
          ],
          "scattergl": [
           {
            "marker": {
             "colorbar": {
              "outlinewidth": 0,
              "ticks": ""
             }
            },
            "type": "scattergl"
           }
          ],
          "scattermapbox": [
           {
            "marker": {
             "colorbar": {
              "outlinewidth": 0,
              "ticks": ""
             }
            },
            "type": "scattermapbox"
           }
          ],
          "scatterpolar": [
           {
            "marker": {
             "colorbar": {
              "outlinewidth": 0,
              "ticks": ""
             }
            },
            "type": "scatterpolar"
           }
          ],
          "scatterpolargl": [
           {
            "marker": {
             "colorbar": {
              "outlinewidth": 0,
              "ticks": ""
             }
            },
            "type": "scatterpolargl"
           }
          ],
          "scatterternary": [
           {
            "marker": {
             "colorbar": {
              "outlinewidth": 0,
              "ticks": ""
             }
            },
            "type": "scatterternary"
           }
          ],
          "surface": [
           {
            "colorbar": {
             "outlinewidth": 0,
             "ticks": ""
            },
            "colorscale": [
             [
              0,
              "#0d0887"
             ],
             [
              0.1111111111111111,
              "#46039f"
             ],
             [
              0.2222222222222222,
              "#7201a8"
             ],
             [
              0.3333333333333333,
              "#9c179e"
             ],
             [
              0.4444444444444444,
              "#bd3786"
             ],
             [
              0.5555555555555556,
              "#d8576b"
             ],
             [
              0.6666666666666666,
              "#ed7953"
             ],
             [
              0.7777777777777778,
              "#fb9f3a"
             ],
             [
              0.8888888888888888,
              "#fdca26"
             ],
             [
              1,
              "#f0f921"
             ]
            ],
            "type": "surface"
           }
          ],
          "table": [
           {
            "cells": {
             "fill": {
              "color": "#EBF0F8"
             },
             "line": {
              "color": "white"
             }
            },
            "header": {
             "fill": {
              "color": "#C8D4E3"
             },
             "line": {
              "color": "white"
             }
            },
            "type": "table"
           }
          ]
         },
         "layout": {
          "annotationdefaults": {
           "arrowcolor": "#2a3f5f",
           "arrowhead": 0,
           "arrowwidth": 1
          },
          "autotypenumbers": "strict",
          "coloraxis": {
           "colorbar": {
            "outlinewidth": 0,
            "ticks": ""
           }
          },
          "colorscale": {
           "diverging": [
            [
             0,
             "#8e0152"
            ],
            [
             0.1,
             "#c51b7d"
            ],
            [
             0.2,
             "#de77ae"
            ],
            [
             0.3,
             "#f1b6da"
            ],
            [
             0.4,
             "#fde0ef"
            ],
            [
             0.5,
             "#f7f7f7"
            ],
            [
             0.6,
             "#e6f5d0"
            ],
            [
             0.7,
             "#b8e186"
            ],
            [
             0.8,
             "#7fbc41"
            ],
            [
             0.9,
             "#4d9221"
            ],
            [
             1,
             "#276419"
            ]
           ],
           "sequential": [
            [
             0,
             "#0d0887"
            ],
            [
             0.1111111111111111,
             "#46039f"
            ],
            [
             0.2222222222222222,
             "#7201a8"
            ],
            [
             0.3333333333333333,
             "#9c179e"
            ],
            [
             0.4444444444444444,
             "#bd3786"
            ],
            [
             0.5555555555555556,
             "#d8576b"
            ],
            [
             0.6666666666666666,
             "#ed7953"
            ],
            [
             0.7777777777777778,
             "#fb9f3a"
            ],
            [
             0.8888888888888888,
             "#fdca26"
            ],
            [
             1,
             "#f0f921"
            ]
           ],
           "sequentialminus": [
            [
             0,
             "#0d0887"
            ],
            [
             0.1111111111111111,
             "#46039f"
            ],
            [
             0.2222222222222222,
             "#7201a8"
            ],
            [
             0.3333333333333333,
             "#9c179e"
            ],
            [
             0.4444444444444444,
             "#bd3786"
            ],
            [
             0.5555555555555556,
             "#d8576b"
            ],
            [
             0.6666666666666666,
             "#ed7953"
            ],
            [
             0.7777777777777778,
             "#fb9f3a"
            ],
            [
             0.8888888888888888,
             "#fdca26"
            ],
            [
             1,
             "#f0f921"
            ]
           ]
          },
          "colorway": [
           "#636efa",
           "#EF553B",
           "#00cc96",
           "#ab63fa",
           "#FFA15A",
           "#19d3f3",
           "#FF6692",
           "#B6E880",
           "#FF97FF",
           "#FECB52"
          ],
          "font": {
           "color": "#2a3f5f"
          },
          "geo": {
           "bgcolor": "white",
           "lakecolor": "white",
           "landcolor": "#E5ECF6",
           "showlakes": true,
           "showland": true,
           "subunitcolor": "white"
          },
          "hoverlabel": {
           "align": "left"
          },
          "hovermode": "closest",
          "mapbox": {
           "style": "light"
          },
          "paper_bgcolor": "white",
          "plot_bgcolor": "#E5ECF6",
          "polar": {
           "angularaxis": {
            "gridcolor": "white",
            "linecolor": "white",
            "ticks": ""
           },
           "bgcolor": "#E5ECF6",
           "radialaxis": {
            "gridcolor": "white",
            "linecolor": "white",
            "ticks": ""
           }
          },
          "scene": {
           "xaxis": {
            "backgroundcolor": "#E5ECF6",
            "gridcolor": "white",
            "gridwidth": 2,
            "linecolor": "white",
            "showbackground": true,
            "ticks": "",
            "zerolinecolor": "white"
           },
           "yaxis": {
            "backgroundcolor": "#E5ECF6",
            "gridcolor": "white",
            "gridwidth": 2,
            "linecolor": "white",
            "showbackground": true,
            "ticks": "",
            "zerolinecolor": "white"
           },
           "zaxis": {
            "backgroundcolor": "#E5ECF6",
            "gridcolor": "white",
            "gridwidth": 2,
            "linecolor": "white",
            "showbackground": true,
            "ticks": "",
            "zerolinecolor": "white"
           }
          },
          "shapedefaults": {
           "line": {
            "color": "#2a3f5f"
           }
          },
          "ternary": {
           "aaxis": {
            "gridcolor": "white",
            "linecolor": "white",
            "ticks": ""
           },
           "baxis": {
            "gridcolor": "white",
            "linecolor": "white",
            "ticks": ""
           },
           "bgcolor": "#E5ECF6",
           "caxis": {
            "gridcolor": "white",
            "linecolor": "white",
            "ticks": ""
           }
          },
          "title": {
           "x": 0.05
          },
          "xaxis": {
           "automargin": true,
           "gridcolor": "white",
           "linecolor": "white",
           "ticks": "",
           "title": {
            "standoff": 15
           },
           "zerolinecolor": "white",
           "zerolinewidth": 2
          },
          "yaxis": {
           "automargin": true,
           "gridcolor": "white",
           "linecolor": "white",
           "ticks": "",
           "title": {
            "standoff": 15
           },
           "zerolinecolor": "white",
           "zerolinewidth": 2
          }
         }
        },
        "title": {
         "text": "Rozrzut wszystkich ofert wg. sumy opłat msc."
        },
        "xaxis": {
         "anchor": "y",
         "domain": [
          0,
          1
         ]
        },
        "yaxis": {
         "anchor": "x",
         "domain": [
          0,
          1
         ],
         "title": {
          "text": "suma_oplat"
         }
        }
       }
      },
      "text/html": [
       "<div>                            <div id=\"4493103f-9ba6-42ce-8b5f-0b5948e9a0c5\" class=\"plotly-graph-div\" style=\"height:525px; width:100%;\"></div>            <script type=\"text/javascript\">                require([\"plotly\"], function(Plotly) {                    window.PLOTLYENV=window.PLOTLYENV || {};                                    if (document.getElementById(\"4493103f-9ba6-42ce-8b5f-0b5948e9a0c5\")) {                    Plotly.newPlot(                        \"4493103f-9ba6-42ce-8b5f-0b5948e9a0c5\",                        [{\"alignmentgroup\": \"True\", \"boxpoints\": \"all\", \"customdata\": [[43, 2, \"Katowice\"], [35, 2, \"Katowice\"], [43, 2, \"Katowice\"], [30, 1, \"Bielsko-Bia\\u0142a\"], [35, 2, \"Katowice\"], [50, 2, \"Katowice\"], [37, 2, \"Katowice\"], [35, 2, \"Katowice\"], [47, 2, \"Bielsko-Bia\\u0142a\"], [28, 1, \"Katowice\"], [40, 2, \"Katowice\"], [31, 1, \"Bielsko-Bia\\u0142a\"], [39, 2, \"Katowice\"], [39, 1, \"Katowice\"], [40, 2, \"Katowice\"], [50, 2, \"Katowice\"], [37, 1, \"Katowice\"], [46, 2, \"Katowice\"], [31, 1, \"Tychy\"], [24, 1, \"Katowice\"], [18, 1, \"Katowice\"], [25, 1, \"Katowice\"], [45, 2, \"Katowice\"], [41, 1, \"Bielsko-Bia\\u0142a\"], [40, 2, \"Katowice\"], [41, 1, \"Tychy\"], [31, 2, \"Katowice\"], [42, 2, \"Tychy\"], [43, 2, \"Katowice\"], [41, 1, \"Katowice\"], [18, 1, \"Katowice\"], [29, 1, \"Bielsko-Bia\\u0142a\"], [21, 1, \"Katowice\"], [16, 1, \"Katowice\"], [47, 2, \"Katowice\"], [19, 1, \"Katowice\"], [40, 2, \"Katowice\"], [35, 2, \"Katowice\"], [28, 1, \"Katowice\"], [45, 2, \"Bielsko-Bia\\u0142a\"], [47, 2, \"Katowice\"], [43, 2, \"Tychy\"], [44, 2, \"Katowice\"], [47, 2, \"Tychy\"], [24, 1, \"Katowice\"], [28, 1, \"Katowice\"], [36, 2, \"Bielsko-Bia\\u0142a\"], [48, 3, \"Bielsko-Bia\\u0142a\"], [43, 2, \"Bielsko-Bia\\u0142a\"], [17, 1, \"Katowice\"], [38, 2, \"Katowice\"], [35, 2, \"Katowice\"], [49, 2, \"Katowice\"], [38, 2, \"Tychy\"], [42, 2, \"Katowice\"], [36, 1, \"Katowice\"], [50, 3, \"Bielsko-Bia\\u0142a\"], [40, 2, \"Katowice\"], [40, 2, \"Tychy\"], [42, 2, \"Katowice\"], [26, 1, \"Bielsko-Bia\\u0142a\"], [40, 2, \"Katowice\"], [34, 1, \"Katowice\"], [38, 2, \"Bielsko-Bia\\u0142a\"], [27, 1, \"Katowice\"], [44, 2, \"Bielsko-Bia\\u0142a\"], [30, 1, \"Katowice\"], [41, 2, \"Bielsko-Bia\\u0142a\"], [50, 2, \"Katowice\"], [36, 2, \"Tychy\"], [32, 1, \"Katowice\"], [36, 2, \"Katowice\"], [42, 2, \"Katowice\"], [39, 1, \"Katowice\"], [36, 2, \"Katowice\"], [23, 1, \"Katowice\"], [49, 2, \"Katowice\"], [23, 1, \"Katowice\"], [25, 1, \"Katowice\"], [32, 2, \"Katowice\"], [40, 2, \"Katowice\"], [39, 2, \"Katowice\"], [32, 1, \"Katowice\"], [46, 3, \"Bielsko-Bia\\u0142a\"], [41, 2, \"Katowice\"], [39, 2, \"Katowice\"], [33, 2, \"Katowice\"], [38, 2, \"Katowice\"], [44, 2, \"Katowice\"], [23, 1, \"Katowice\"], [48, 2, \"Bielsko-Bia\\u0142a\"], [48, 2, \"Katowice\"], [40, 1, \"Katowice\"], [46, 2, \"Katowice\"], [35, 1, \"Katowice\"], [26, 1, \"Katowice\"], [22, 1, \"Katowice\"], [30, 1, \"Bielsko-Bia\\u0142a\"], [40, 2, \"Bielsko-Bia\\u0142a\"], [25, 1, \"Bielsko-Bia\\u0142a\"], [33, 2, \"Katowice\"], [37, 2, \"Katowice\"], [41, 2, \"Tychy\"], [38, 1, \"Katowice\"], [38, 2, \"Katowice\"], [26, 1, \"Katowice\"], [45, 2, \"Bielsko-Bia\\u0142a\"], [22, 1, \"Katowice\"], [30, 2, \"Katowice\"], [38, 2, \"Bielsko-Bia\\u0142a\"], [38, 2, \"Katowice\"], [49, 2, \"Katowice\"], [30, 1, \"Bielsko-Bia\\u0142a\"], [48, 2, \"Bielsko-Bia\\u0142a\"], [40, 2, \"Katowice\"], [38, 1, \"Katowice\"], [42, 2, \"Katowice\"], [40, 2, \"Katowice\"], [41, 2, \"Bielsko-Bia\\u0142a\"], [45, 2, \"Katowice\"], [50, 2, \"Katowice\"], [50, 2, \"Tychy\"], [31, 2, \"Katowice\"], [41, 2, \"Katowice\"], [49, 2, \"Katowice\"], [38, 2, \"Katowice\"], [16, 1, \"Katowice\"], [36, 2, \"Katowice\"], [43, 2, \"Katowice\"], [35, 1, \"Bielsko-Bia\\u0142a\"], [37, 2, \"Katowice\"], [32, 1, \"Bielsko-Bia\\u0142a\"], [27, 1, \"Tychy\"], [46, 2, \"Katowice\"], [44, 2, \"Katowice\"], [39, 2, \"Katowice\"], [28, 1, \"Katowice\"], [27, 1, \"Katowice\"], [50, 2, \"Katowice\"], [38, 2, \"Tychy\"], [50, 2, \"Bielsko-Bia\\u0142a\"], [40, 2, \"Katowice\"], [50, 2, \"Bielsko-Bia\\u0142a\"], [50, 2, \"Katowice\"], [45, 2, \"Katowice\"], [42, 2, \"Katowice\"], [40, 2, \"Katowice\"], [37, 2, \"Katowice\"], [35, 1, \"Katowice\"], [46, 2, \"Katowice\"], [25, 1, \"Katowice\"], [48, 2, \"Katowice\"], [38, 2, \"Katowice\"], [25, 1, \"Katowice\"], [35, 2, \"Katowice\"], [49, 2, \"Bielsko-Bia\\u0142a\"], [25, 1, \"Katowice\"], [44, 2, \"Katowice\"], [31, 2, \"Katowice\"], [29, 1, \"Katowice\"], [48, 2, \"Katowice\"], [16, 1, \"Katowice\"], [40, 2, \"Katowice\"], [42, 2, \"Katowice\"], [43, 2, \"Katowice\"], [25, 1, \"Katowice\"], [34, 1, \"Bielsko-Bia\\u0142a\"], [49, 3, \"Katowice\"], [38, 1, \"Bielsko-Bia\\u0142a\"], [50, 2, \"Katowice\"], [18, 1, \"Katowice\"], [39, 2, \"Tychy\"], [47, 2, \"Katowice\"], [36, 2, \"Katowice\"], [50, 2, \"Katowice\"], [47, 2, \"Katowice\"], [30, 2, \"Katowice\"], [35, 2, \"Katowice\"], [39, 2, \"Katowice\"], [38, 2, \"Tychy\"], [45, 2, \"Bielsko-Bia\\u0142a\"], [45, 2, \"Katowice\"], [49, 2, \"Bielsko-Bia\\u0142a\"], [35, 2, \"Katowice\"], [40, 2, \"Katowice\"], [47, 3, \"Katowice\"], [29, 2, \"Bielsko-Bia\\u0142a\"], [30, 2, \"Katowice\"], [46, 2, \"Katowice\"], [36, 2, \"Bielsko-Bia\\u0142a\"], [38, 2, \"Katowice\"], [38, 2, \"Bielsko-Bia\\u0142a\"], [24, 1, \"Katowice\"], [44, 2, \"Bielsko-Bia\\u0142a\"], [26, 1, \"Katowice\"], [29, 1, \"Bielsko-Bia\\u0142a\"], [34, 1, \"Katowice\"], [41, 2, \"Katowice\"], [42, 2, \"Katowice\"], [38, 2, \"Katowice\"], [40, 2, \"Tychy\"], [39, 2, \"Bielsko-Bia\\u0142a\"], [42, 2, \"Katowice\"], [29, 1, \"Katowice\"], [50, 2, \"Katowice\"], [47, 2, \"Katowice\"], [45, 2, \"Katowice\"], [38, 2, \"Katowice\"], [44, 2, \"Katowice\"], [46, 2, \"Katowice\"], [33, 2, \"Bielsko-Bia\\u0142a\"], [44, 2, \"Katowice\"], [48, 2, \"Katowice\"], [44, 2, \"Bielsko-Bia\\u0142a\"], [29, 1, \"Bielsko-Bia\\u0142a\"], [34, 1, \"Katowice\"], [38, 2, \"Katowice\"], [31, 2, \"Katowice\"], [38, 2, \"Katowice\"], [14, 1, \"Katowice\"], [48, 2, \"Katowice\"], [40, 1, \"Katowice\"], [33, 2, \"Katowice\"], [35, 2, \"Katowice\"], [50, 3, \"Katowice\"], [35, 2, \"Katowice\"], [32, 1, \"Katowice\"], [42, 2, \"Katowice\"], [35, 2, \"Katowice\"], [43, 2, \"Katowice\"], [38, 2, \"Katowice\"], [49, 3, \"Katowice\"], [40, 2, \"Katowice\"], [48, 1, \"Katowice\"], [43, 1, \"Katowice\"], [36, 1, \"Bielsko-Bia\\u0142a\"], [46, 2, \"Katowice\"], [42, 2, \"Tychy\"], [50, 3, \"Katowice\"], [38, 1, \"Katowice\"], [18, 1, \"Katowice\"], [37, 1, \"Katowice\"], [40, 2, \"Katowice\"], [45, 2, \"Katowice\"], [48, 2, \"Tychy\"], [33, 2, \"Katowice\"], [32, 2, \"Katowice\"], [20, 1, \"Katowice\"], [50, 2, \"Katowice\"], [35, 1, \"Katowice\"], [38, 2, \"Katowice\"], [30, 2, \"Katowice\"], [41, 2, \"Katowice\"], [39, 2, \"Katowice\"], [47, 2, \"Katowice\"], [38, 2, \"Bielsko-Bia\\u0142a\"], [36, 2, \"Katowice\"], [40, 2, \"Katowice\"], [27, 1, \"Katowice\"], [45, 2, \"Bielsko-Bia\\u0142a\"], [29, 1, \"Bielsko-Bia\\u0142a\"], [35, 2, \"Katowice\"], [32, 1, \"Katowice\"], [16, 1, \"Katowice\"], [26, 1, \"Katowice\"], [32, 1, \"Katowice\"], [48, 2, \"Katowice\"], [43, 2, \"Katowice\"], [40, 2, \"Katowice\"], [36, 2, \"Tychy\"], [43, 2, \"Katowice\"], [30, 1, \"Katowice\"], [37, 2, \"Bielsko-Bia\\u0142a\"], [38, 2, \"Katowice\"], [43, 2, \"Katowice\"], [43, 2, \"Katowice\"], [24, 1, \"Bielsko-Bia\\u0142a\"], [37, 1, \"Katowice\"], [36, 2, \"Katowice\"], [25, 1, \"Katowice\"], [36, 2, \"Katowice\"], [23, 1, \"Katowice\"], [42, 2, \"Katowice\"], [50, 2, \"Katowice\"], [49, 2, \"Katowice\"], [38, 1, \"Tychy\"], [32, 2, \"Katowice\"], [30, 2, \"Katowice\"], [34, 2, \"Katowice\"], [27, 1, \"Katowice\"], [41, 2, \"Tychy\"], [29, 1, \"Katowice\"], [20, 1, \"Katowice\"], [48, 2, \"Katowice\"], [48, 2, \"Katowice\"], [39, 2, \"Katowice\"], [39, 2, \"Tychy\"], [43, 2, \"Katowice\"], [46, 2, \"Katowice\"], [33, 2, \"Katowice\"], [47, 2, \"Katowice\"], [37, 1, \"Katowice\"], [43, 2, \"Bielsko-Bia\\u0142a\"], [34, 1, \"Katowice\"], [36, 2, \"Bielsko-Bia\\u0142a\"], [25, 1, \"Bielsko-Bia\\u0142a\"], [44, 2, \"Bielsko-Bia\\u0142a\"], [32, 1, \"Bielsko-Bia\\u0142a\"], [30, 1, \"Katowice\"], [41, 2, \"Katowice\"], [40, 2, \"Katowice\"], [37, 2, \"Katowice\"], [45, 2, \"Katowice\"], [38, 2, \"Katowice\"], [39, 2, \"Katowice\"], [48, 2, \"Katowice\"], [43, 2, \"Katowice\"], [37, 2, \"Katowice\"], [50, 2, \"Katowice\"], [21, 1, \"Katowice\"], [23, 1, \"Katowice\"], [38, 2, \"Katowice\"], [38, 2, \"Katowice\"], [39, 1, \"Katowice\"], [38, 2, \"Katowice\"], [40, 2, \"Katowice\"], [36, 1, \"Katowice\"], [33, 2, \"Katowice\"], [49, 3, \"Katowice\"], [20, 1, \"Katowice\"], [43, 2, \"Katowice\"], [49, 2, \"Katowice\"], [39, 2, \"Tychy\"], [43, 2, \"Katowice\"], [35, 2, \"Katowice\"], [50, 2, \"Katowice\"], [35, 1, \"Katowice\"], [48, 2, \"Katowice\"], [21, 1, \"Katowice\"], [43, 2, \"Katowice\"], [42, 2, \"Tychy\"], [25, 1, \"Katowice\"], [28, 1, \"Katowice\"], [31, 1, \"Tychy\"], [41, 2, \"Katowice\"], [22, 1, \"Katowice\"], [41, 2, \"Katowice\"], [47, 2, \"Katowice\"], [44, 2, \"Katowice\"], [37, 2, \"Katowice\"], [36, 2, \"Katowice\"], [44, 2, \"Katowice\"], [45, 2, \"Katowice\"], [40, 2, \"Katowice\"], [26, 1, \"Katowice\"], [42, 3, \"Bielsko-Bia\\u0142a\"], [34, 1, \"Tychy\"], [41, 2, \"Katowice\"], [30, 2, \"Katowice\"], [50, 2, \"Katowice\"], [36, 2, \"Katowice\"], [38, 2, \"Katowice\"], [38, 2, \"Tychy\"], [50, 3, \"Katowice\"], [17, 1, \"Katowice\"], [40, 2, \"Katowice\"], [44, 2, \"Bielsko-Bia\\u0142a\"], [48, 2, \"Katowice\"], [37, 1, \"Katowice\"], [48, 3, \"Katowice\"], [25, 1, \"Bielsko-Bia\\u0142a\"], [47, 2, \"Katowice\"], [30, 1, \"Katowice\"], [36, 1, \"Katowice\"], [35, 2, \"Katowice\"], [47, 2, \"Katowice\"], [40, 2, \"Tychy\"], [42, 2, \"Tychy\"], [40, 2, \"Katowice\"], [48, 2, \"Katowice\"], [39, 2, \"Katowice\"], [20, 1, \"Katowice\"], [45, 2, \"Katowice\"], [28, 1, \"Katowice\"], [10, 1, \"Katowice\"], [20, 1, \"Katowice\"], [20, 1, \"Katowice\"], [20, 1, \"Katowice\"], [30, 1, \"Bielsko-Bia\\u0142a\"], [23, 1, \"Katowice\"], [17, 1, \"Katowice\"], [35, 1, \"Katowice\"], [14, 1, \"Katowice\"], [35, 2, \"Katowice\"], [28, 1, \"Katowice\"], [26, 2, \"Katowice\"], [14, 1, \"Katowice\"], [45, 3, \"Katowice\"], [21, 1, \"Katowice\"], [26, 1, \"Katowice\"], [30, 1, \"Katowice\"], [18, 1, \"Katowice\"], [39, 1, \"Katowice\"], [50, 3, \"Katowice\"], [46, 2, \"Katowice\"], [27, 1, \"Katowice\"], [32, 2, \"Katowice\"], [33, 2, \"Tychy\"], [29, 1, \"Katowice\"], [40, 1, \"Katowice\"], [35, 2, \"Katowice\"], [49, 2, \"Katowice\"], [37, 2, \"Bielsko-Bia\\u0142a\"], [50, 2, \"Katowice\"], [50, 2, \"Katowice\"], [30, 2, \"Katowice\"], [43, 2, \"Katowice\"], [50, 2, \"Katowice\"], [50, 3, \"Katowice\"], [40, 1, \"Katowice\"], [44, 2, \"Bielsko-Bia\\u0142a\"], [36, 1, \"Katowice\"], [40, 1, \"Katowice\"], [37, 2, \"Katowice\"], [36, 2, \"Tychy\"], [40, 2, \"Katowice\"], [40, 2, \"Katowice\"], [35, 1, \"Katowice\"], [36, 2, \"Katowice\"], [46, 2, \"Katowice\"], [50, 2, \"Katowice\"], [43, 2, \"Katowice\"], [39, 1, \"Katowice\"], [38, 2, \"Bielsko-Bia\\u0142a\"], [20, 1, \"Bielsko-Bia\\u0142a\"], [25, 1, \"Bielsko-Bia\\u0142a\"], [29, 1, \"Bielsko-Bia\\u0142a\"], [40, 2, \"Katowice\"], [44, 2, \"Tychy\"], [34, 1, \"Bielsko-Bia\\u0142a\"], [38, 2, \"Tychy\"], [40, 2, \"Katowice\"], [36, 2, \"Katowice\"], [42, 3, \"Tychy\"], [24, 1, \"Katowice\"], [46, 2, \"Katowice\"], [24, 1, \"Katowice\"], [21, 1, \"Katowice\"], [29, 1, \"Katowice\"], [48, 2, \"Katowice\"], [30, 1, \"Katowice\"], [46, 2, \"Katowice\"], [48, 2, \"Katowice\"], [17, 1, \"Katowice\"], [20, 1, \"Katowice\"], [38, 2, \"Katowice\"], [25, 1, \"Katowice\"], [35, 2, \"Katowice\"], [16, 1, \"Katowice\"], [37, 1, \"Katowice\"], [28, 1, \"Katowice\"], [15, 1, \"Katowice\"], [50, 3, \"Katowice\"], [46, 2, \"Tychy\"], [40, 2, \"Katowice\"], [37, 2, \"Katowice\"], [30, 1, \"Katowice\"], [30, 1, \"Katowice\"], [26, 1, \"Katowice\"], [34, 2, \"Katowice\"], [48, 2, \"Tychy\"], [41, 2, \"Katowice\"], [50, 2, \"Bielsko-Bia\\u0142a\"], [39, 2, \"Tychy\"], [34, 2, \"Katowice\"], [39, 2, \"Katowice\"], [17, 1, \"Katowice\"], [43, 2, \"Bielsko-Bia\\u0142a\"], [27, 1, \"Katowice\"], [42, 2, \"Katowice\"], [49, 2, \"Katowice\"], [30, 1, \"Katowice\"], [29, 1, \"Katowice\"], [40, 1, \"Katowice\"], [48, 2, \"Bielsko-Bia\\u0142a\"], [40, 2, \"Katowice\"], [43, 2, \"Katowice\"], [39, 1, \"Katowice\"], [38, 2, \"Katowice\"], [50, 2, \"Katowice\"], [47, 2, \"Katowice\"], [43, 2, \"Katowice\"], [43, 2, \"Katowice\"], [42, 2, \"Katowice\"], [39, 2, \"Tychy\"], [38, 2, \"Tychy\"], [43, 2, \"Katowice\"], [43, 2, \"Katowice\"], [43, 2, \"Bielsko-Bia\\u0142a\"], [38, 2, \"Katowice\"], [45, 3, \"Bielsko-Bia\\u0142a\"], [22, 1, \"Katowice\"], [49, 3, \"Katowice\"], [28, 1, \"Katowice\"], [38, 2, \"Katowice\"], [30, 1, \"Katowice\"], [38, 2, \"Bielsko-Bia\\u0142a\"], [47, 2, \"Katowice\"], [46, 2, \"Katowice\"], [45, 2, \"Katowice\"], [30, 1, \"Katowice\"], [31, 1, \"Tychy\"], [39, 2, \"Tychy\"], [38, 2, \"Bielsko-Bia\\u0142a\"], [40, 2, \"Katowice\"], [47, 2, \"Katowice\"], [20, 1, \"Katowice\"], [40, 2, \"Katowice\"], [26, 1, \"Katowice\"], [45, 2, \"Katowice\"], [33, 2, \"Katowice\"], [31, 1, \"Katowice\"], [31, 1, \"Katowice\"], [42, 2, \"Katowice\"], [30, 1, \"Katowice\"], [40, 2, \"Katowice\"], [43, 2, \"Katowice\"], [26, 1, \"Katowice\"], [38, 2, \"Katowice\"], [40, 1, \"Bielsko-Bia\\u0142a\"], [48, 2, \"Katowice\"], [30, 1, \"Katowice\"], [28, 1, \"Katowice\"], [27, 1, \"Katowice\"], [16, 1, \"Katowice\"], [42, 2, \"Katowice\"], [42, 2, \"Katowice\"], [43, 2, \"Katowice\"], [38, 2, \"Katowice\"], [50, 2, \"Katowice\"], [32, 2, \"Katowice\"], [32, 2, \"Katowice\"], [46, 2, \"Bielsko-Bia\\u0142a\"], [43, 2, \"Katowice\"], [39, 2, \"Katowice\"], [33, 1, \"Katowice\"], [36, 1, \"Katowice\"], [44, 2, \"Katowice\"], [47, 2, \"Katowice\"], [33, 1, \"Katowice\"], [46, 2, \"Katowice\"], [50, 2, \"Katowice\"], [36, 1, \"Bielsko-Bia\\u0142a\"], [47, 2, \"Katowice\"], [48, 2, \"Katowice\"], [32, 1, \"Katowice\"], [32, 1, \"Bielsko-Bia\\u0142a\"], [30, 1, \"Katowice\"], [27, 1, \"Katowice\"], [40, 2, \"Katowice\"], [36, 2, \"Bielsko-Bia\\u0142a\"], [36, 2, \"Katowice\"], [33, 1, \"Bielsko-Bia\\u0142a\"], [48, 2, \"Katowice\"], [31, 1, \"Katowice\"], [46, 2, \"Katowice\"], [29, 1, \"Bielsko-Bia\\u0142a\"], [44, 2, \"Katowice\"], [34, 1, \"Katowice\"], [33, 1, \"Katowice\"], [45, 2, \"Katowice\"], [44, 2, \"Bielsko-Bia\\u0142a\"], [30, 1, \"Katowice\"], [35, 2, \"Katowice\"], [38, 2, \"Katowice\"], [25, 1, \"Katowice\"], [38, 2, \"Katowice\"], [39, 2, \"Katowice\"], [36, 2, \"Katowice\"], [38, 2, \"Katowice\"], [18, 1, \"Katowice\"], [39, 2, \"Katowice\"], [45, 2, \"Tychy\"], [19, 1, \"Bielsko-Bia\\u0142a\"], [48, 2, \"Katowice\"], [38, 2, \"Katowice\"], [21, 1, \"Katowice\"], [50, 3, \"Katowice\"], [43, 2, \"Katowice\"], [31, 2, \"Katowice\"], [41, 2, \"Katowice\"], [38, 2, \"Katowice\"], [36, 2, \"Katowice\"], [21, 1, \"Katowice\"], [10, 1, \"Katowice\"], [45, 2, \"Katowice\"], [45, 2, \"Katowice\"], [47, 2, \"Katowice\"], [43, 2, \"Bielsko-Bia\\u0142a\"], [42, 2, \"Katowice\"], [40, 2, \"Katowice\"], [33, 1, \"Bielsko-Bia\\u0142a\"], [39, 2, \"Katowice\"], [43, 2, \"Bielsko-Bia\\u0142a\"], [30, 1, \"Katowice\"], [23, 1, \"Katowice\"], [45, 2, \"Tychy\"], [38, 2, \"Bielsko-Bia\\u0142a\"], [27, 1, \"Katowice\"], [32, 1, \"Katowice\"], [30, 2, \"Katowice\"], [19, 1, \"Katowice\"], [37, 1, \"Katowice\"], [26, 1, \"Katowice\"], [27, 1, \"Katowice\"], [23, 1, \"Katowice\"], [46, 3, \"Bielsko-Bia\\u0142a\"], [27, 1, \"Katowice\"], [38, 1, \"Katowice\"], [37, 2, \"Katowice\"], [50, 2, \"Katowice\"], [36, 2, \"Bielsko-Bia\\u0142a\"], [38, 2, \"Katowice\"], [39, 2, \"Katowice\"], [41, 2, \"Katowice\"], [44, 2, \"Bielsko-Bia\\u0142a\"], [40, 1, \"Katowice\"], [35, 2, \"Katowice\"], [37, 2, \"Katowice\"], [50, 2, \"Katowice\"], [46, 2, \"Katowice\"], [41, 2, \"Katowice\"], [40, 2, \"Katowice\"], [28, 1, \"Katowice\"], [28, 1, \"Katowice\"], [36, 2, \"Bielsko-Bia\\u0142a\"], [30, 1, \"Bielsko-Bia\\u0142a\"], [40, 1, \"Katowice\"], [50, 2, \"Katowice\"], [25, 1, \"Katowice\"], [25, 1, \"Katowice\"], [34, 1, \"Katowice\"], [30, 1, \"Katowice\"], [21, 1, \"Katowice\"], [29, 1, \"Katowice\"], [18, 1, \"Katowice\"], [44, 2, \"Katowice\"], [41, 2, \"Bielsko-Bia\\u0142a\"], [28, 1, \"Katowice\"], [31, 1, \"Katowice\"], [30, 1, \"Bielsko-Bia\\u0142a\"], [38, 2, \"Katowice\"], [44, 2, \"Katowice\"], [37, 2, \"Katowice\"], [38, 2, \"Katowice\"], [20, 1, \"Katowice\"], [20, 1, \"Katowice\"], [49, 2, \"Katowice\"], [30, 1, \"Katowice\"], [39, 1, \"Katowice\"], [48, 2, \"Bielsko-Bia\\u0142a\"], [48, 2, \"Katowice\"], [40, 1, \"Bielsko-Bia\\u0142a\"], [39, 2, \"Katowice\"], [39, 2, \"Katowice\"], [38, 2, \"Katowice\"], [26, 1, \"Katowice\"], [30, 1, \"Katowice\"], [47, 2, \"Bielsko-Bia\\u0142a\"], [38, 2, \"Katowice\"], [50, 2, \"Katowice\"], [40, 2, \"Bielsko-Bia\\u0142a\"], [39, 2, \"Katowice\"], [45, 2, \"Bielsko-Bia\\u0142a\"], [39, 1, \"Katowice\"], [50, 2, \"Katowice\"], [26, 1, \"Katowice\"], [23, 1, \"Katowice\"], [19, 1, \"Katowice\"], [47, 2, \"Katowice\"], [45, 2, \"Katowice\"], [19, 1, \"Katowice\"], [43, 2, \"Katowice\"], [40, 2, \"Tychy\"], [48, 2, \"Katowice\"], [37, 2, \"Katowice\"], [31, 1, \"Katowice\"], [37, 1, \"Katowice\"], [46, 2, \"Katowice\"], [38, 2, \"Katowice\"], [44, 2, \"Katowice\"], [50, 3, \"Katowice\"], [28, 1, \"Bielsko-Bia\\u0142a\"], [47, 2, \"Katowice\"], [25, 2, \"Katowice\"], [38, 2, \"Katowice\"], [35, 1, \"Tychy\"], [43, 2, \"Katowice\"], [22, 1, \"Katowice\"], [35, 2, \"Katowice\"], [41, 2, \"Katowice\"], [45, 2, \"Katowice\"], [22, 1, \"Katowice\"], [20, 1, \"Katowice\"], [41, 2, \"Katowice\"], [49, 2, \"Katowice\"], [40, 2, \"Katowice\"], [34, 1, \"Katowice\"], [31, 1, \"Bielsko-Bia\\u0142a\"], [45, 2, \"Katowice\"], [50, 2, \"Katowice\"], [41, 3, \"Katowice\"], [49, 2, \"Katowice\"], [49, 2, \"Katowice\"], [35, 2, \"Katowice\"], [10, 1, \"Katowice\"], [13, 1, \"Katowice\"], [11, 1, \"Katowice\"], [31, 1, \"Katowice\"], [38, 2, \"Katowice\"], [49, 2, \"Katowice\"], [29, 1, \"Katowice\"], [49, 3, \"Katowice\"], [50, 2, \"Katowice\"], [22, 1, \"Katowice\"], [26, 1, \"Katowice\"], [41, 2, \"Katowice\"], [35, 2, \"Katowice\"], [48, 2, \"Katowice\"], [38, 2, \"Katowice\"], [40, 2, \"Katowice\"], [40, 2, \"Katowice\"], [48, 2, \"Katowice\"], [43, 2, \"Katowice\"], [40, 3, \"Katowice\"], [26, 2, \"Katowice\"], [25, 1, \"Katowice\"], [28, 1, \"Katowice\"], [26, 1, \"Katowice\"], [18, 1, \"Katowice\"], [43, 2, \"Katowice\"], [17, 1, \"Katowice\"], [32, 2, \"Katowice\"], [49, 2, \"Katowice\"], [45, 2, \"Katowice\"], [22, 1, \"Katowice\"], [45, 2, \"Katowice\"], [45, 2, \"Katowice\"], [42, 2, \"Katowice\"], [42, 2, \"Katowice\"], [38, 2, \"Katowice\"], [17, 1, \"Katowice\"], [38, 2, \"Katowice\"], [30, 1, \"Katowice\"], [32, 1, \"Katowice\"], [42, 2, \"Katowice\"], [31, 1, \"Katowice\"], [30, 1, \"Katowice\"], [44, 2, \"Katowice\"], [49, 2, \"Katowice\"], [46, 2, \"Katowice\"], [37, 2, \"Katowice\"], [37, 2, \"Tychy\"], [42, 2, \"Katowice\"], [39, 2, \"Katowice\"], [34, 2, \"Katowice\"], [29, 1, \"Katowice\"], [49, 3, \"Katowice\"], [20, 1, \"Katowice\"], [30, 1, \"Katowice\"], [50, 2, \"Katowice\"], [36, 2, \"Katowice\"], [25, 1, \"Katowice\"], [32, 2, \"Katowice\"], [48, 2, \"Katowice\"], [30, 1, \"Katowice\"], [18, 1, \"Katowice\"], [48, 2, \"Bielsko-Bia\\u0142a\"], [36, 2, \"Katowice\"], [46, 2, \"Katowice\"], [37, 1, \"Katowice\"], [40, 2, \"Katowice\"], [35, 2, \"Katowice\"], [42, 2, \"Katowice\"], [41, 2, \"Katowice\"], [43, 2, \"Bielsko-Bia\\u0142a\"], [16, 1, \"Katowice\"], [35, 1, \"Katowice\"], [35, 1, \"Katowice\"], [43, 2, \"Katowice\"], [45, 2, \"Katowice\"], [29, 1, \"Katowice\"], [43, 2, \"Katowice\"], [36, 2, \"Tychy\"], [39, 2, \"Bielsko-Bia\\u0142a\"], [28, 1, \"Katowice\"], [44, 2, \"Katowice\"], [40, 2, \"Katowice\"], [35, 2, \"Katowice\"], [23, 1, \"Katowice\"], [38, 2, \"Katowice\"], [30, 1, \"Katowice\"], [38, 2, \"Katowice\"], [44, 2, \"Katowice\"], [34, 1, \"Katowice\"], [21, 1, \"Katowice\"], [8, 1, \"Katowice\"], [38, 2, \"Katowice\"], [45, 2, \"Katowice\"], [43, 2, \"Katowice\"], [9, 1, \"Katowice\"], [27, 1, \"Katowice\"], [48, 2, \"Katowice\"], [22, 1, \"Katowice\"], [26, 1, \"Katowice\"], [20, 1, \"Katowice\"], [37, 2, \"Katowice\"], [25, 1, \"Katowice\"], [44, 2, \"Katowice\"], [45, 2, \"Katowice\"], [36, 2, \"Katowice\"], [29, 1, \"Katowice\"], [44, 2, \"Katowice\"], [25, 1, \"Katowice\"], [27, 2, \"Katowice\"], [45, 2, \"Tychy\"], [18, 1, \"Katowice\"], [17, 1, \"Katowice\"], [22, 1, \"Katowice\"], [20, 1, \"Katowice\"], [25, 1, \"Katowice\"], [18, 1, \"Katowice\"], [22, 1, \"Katowice\"], [17, 1, \"Katowice\"], [50, 2, \"Katowice\"], [35, 2, \"Katowice\"], [36, 1, \"Katowice\"], [15, 1, \"Katowice\"], [10, 1, \"Katowice\"], [10, 1, \"Katowice\"], [23, 1, \"Katowice\"], [38, 2, \"Bielsko-Bia\\u0142a\"], [28, 1, \"Katowice\"], [38, 2, \"Katowice\"], [37, 1, \"Katowice\"], [37, 2, \"Katowice\"], [37, 2, \"Katowice\"], [28, 1, \"Katowice\"], [28, 1, \"Katowice\"], [29, 1, \"Katowice\"], [29, 1, \"Katowice\"], [48, 2, \"Katowice\"], [28, 1, \"Katowice\"], [49, 2, \"Bielsko-Bia\\u0142a\"], [45, 2, \"Katowice\"], [10, 1, \"Katowice\"], [11, 1, \"Katowice\"], [48, 2, \"Katowice\"], [36, 2, \"Katowice\"], [48, 2, \"Katowice\"], [18, 1, \"Katowice\"], [29, 1, \"Bielsko-Bia\\u0142a\"], [50, 2, \"Katowice\"], [35, 2, \"Katowice\"], [42, 2, \"Katowice\"], [30, 1, \"Katowice\"], [50, 2, \"Tychy\"], [25, 1, \"Katowice\"], [30, 1, \"Katowice\"], [22, 1, \"Katowice\"], [24, 1, \"Katowice\"], [29, 1, \"Katowice\"], [34, 1, \"Katowice\"], [30, 1, \"Katowice\"], [15, 1, \"Katowice\"], [38, 2, \"Katowice\"], [29, 1, \"Katowice\"], [16, 1, \"Katowice\"], [21, 1, \"Katowice\"], [49, 2, \"Katowice\"], [50, 3, \"Katowice\"], [43, 1, \"Katowice\"], [47, 2, \"Katowice\"], [28, 1, \"Tychy\"], [20, 1, \"Katowice\"], [47, 1, \"Katowice\"], [11, 1, \"Katowice\"], [13, 1, \"Katowice\"], [24, 1, \"Bielsko-Bia\\u0142a\"], [43, 2, \"Katowice\"], [10, 1, \"Katowice\"], [29, 1, \"Bielsko-Bia\\u0142a\"], [38, 2, \"Katowice\"], [36, 1, \"Katowice\"], [36, 1, \"Katowice\"], [25, 1, \"Katowice\"], [44, 2, \"Katowice\"], [29, 1, \"Katowice\"], [15, 1, \"Katowice\"], [45, 2, \"Katowice\"], [47, 3, \"Bielsko-Bia\\u0142a\"], [37, 1, \"Katowice\"], [42, 1, \"Katowice\"], [37, 2, \"Tychy\"], [37, 2, \"Tychy\"], [18, 1, \"Katowice\"], [43, 2, \"Katowice\"], [45, 3, \"Katowice\"], [10, 1, \"Katowice\"], [9, 1, \"Katowice\"], [38, 2, \"Katowice\"], [25, 1, \"Katowice\"], [35, 2, \"Katowice\"], [28, 1, \"Katowice\"], [27, 1, \"Katowice\"], [35, 2, \"Katowice\"], [40, 2, \"Tychy\"], [42, 2, \"Katowice\"], [22, 1, \"Katowice\"], [36, 1, \"Tychy\"], [28, 1, \"Katowice\"], [30, 1, \"Bielsko-Bia\\u0142a\"], [40, 2, \"Katowice\"], [25, 1, \"Bielsko-Bia\\u0142a\"], [46, 2, \"Katowice\"], [38, 2, \"Katowice\"], [18, 1, \"Katowice\"], [37, 2, \"Katowice\"], [38, 2, \"Katowice\"], [38, 2, \"Katowice\"], [46, 2, \"Katowice\"], [28, 1, \"Katowice\"], [49, 2, \"Katowice\"], [40, 2, \"Katowice\"], [19, 1, \"Katowice\"], [42, 2, \"Katowice\"], [27, 1, \"Katowice\"], [50, 2, \"Katowice\"], [37, 2, \"Katowice\"], [39, 1, \"Katowice\"], [34, 1, \"Katowice\"], [42, 2, \"Katowice\"], [50, 2, \"Katowice\"], [40, 2, \"Katowice\"], [34, 1, \"Katowice\"], [27, 1, \"Katowice\"], [43, 2, \"Katowice\"], [37, 1, \"Katowice\"], [27, 1, \"Katowice\"], [39, 2, \"Tychy\"], [50, 2, \"Katowice\"], [28, 1, \"Katowice\"], [45, 2, \"Katowice\"], [28, 1, \"Katowice\"], [36, 2, \"Katowice\"], [40, 1, \"Katowice\"], [23, 1, \"Tychy\"], [40, 2, \"Katowice\"], [23, 1, \"Katowice\"], [41, 2, \"Katowice\"], [37, 1, \"Katowice\"]], \"hovertemplate\": \"suma_oplat=%{y}<br>powierzchnia=%{customdata[0]}<br>pokoje=%{customdata[1]}<br>miasto=%{customdata[2]}<extra></extra>\", \"legendgroup\": \"\", \"marker\": {\"color\": \"#636efa\"}, \"name\": \"\", \"notched\": false, \"offsetgroup\": \"\", \"orientation\": \"v\", \"showlegend\": false, \"type\": \"box\", \"x0\": \" \", \"xaxis\": \"x\", \"y\": [1430, 1661, 1850, 1900, 1100, 2660, 1020, 1700, 1600, 1400, 1900, 1675, 2200, 1200, 2000, 2300, 1300, 1800, 1300, 1150, 1000, 1130, 1450, 750, 2200, 800, 1800, 2201, 1887, 850, 1149, 1550, 750, 550, 2201, 1290, 1550, 1673, 1306, 1100, 2700, 1590, 2714, 1850, 1300, 1351, 1150, 1650, 1550, 900, 1900, 1600, 1700, 1930, 2280, 1200, 2600, 1640, 2300, 1800, 1370, 2500, 2050, 1500, 2220, 1800, 1750, 2050, 1500, 1580, 1800, 1690, 1900, 1199, 1900, 1090, 2230, 1299, 990, 1290, 1640, 1501, 2080, 2100, 2100, 1600, 1690, 1750, 1100, 790, 2490, 2550, 1400, 1850, 1300, 1351, 1050, 1620, 2000, 1150, 1780, 1910, 1800, 1500, 900, 1050, 1960, 1050, 1800, 2049, 1500, 1550, 1420, 2790, 2000, 1300, 2100, 3000, 1700, 1700, 1500, 1500, 1600, 2100, 1550, 2500, 1500, 2200, 1899, 1300, 2024, 1650, 1480, 1800, 2900, 1300, 1350, 1600, 1890, 1450, 1800, 1500, 1850, 2100, 2500, 2100, 2000, 1300, 1350, 2430, 1380, 1300, 1650, 1150, 1500, 2112, 1300, 2100, 1800, 1300, 2550, 1500, 2135, 1900, 800, 1400, 1450, 1400, 1400, 1300, 1740, 1810, 1650, 1900, 2200, 2200, 1700, 2250, 1530, 1930, 1650, 2230, 1800, 2050, 1490, 2575, 1700, 1700, 2650, 1860, 1200, 2049, 900, 2250, 650, 1688, 1242, 2006, 2100, 1500, 2000, 1890, 2100, 1000, 2200, 2400, 2970, 1800, 2900, 2200, 1150, 1750, 991, 1800, 1550, 2050, 2500, 1251, 1300, 460, 1300, 2450, 1780, 1851, 1999, 1661, 1900, 1900, 1530, 2336, 1300, 2120, 1780, 891, 1700, 1405, 2600, 2201, 1851, 1300, 1250, 1300, 3000, 2970, 1709, 1400, 2200, 800, 1600, 970, 1300, 1850, 1801, 1501, 2000, 1630, 1600, 2240, 1600, 1650, 1900, 1601, 1460, 1200, 1250, 2080, 1880, 1790, 1640, 1580, 1899, 1450, 1950, 1570, 2000, 2250, 1260, 1180, 1950, 1150, 2200, 1350, 2280, 2050, 1550, 1520, 2050, 1600, 1690, 1370, 2200, 1500, 999, 2300, 1800, 2200, 1810, 1800, 2650, 1300, 2720, 1630, 1700, 1780, 1860, 1500, 1970, 1780, 1890, 1900, 2135, 1800, 1300, 1300, 1400, 2000, 1887, 1190, 1290, 1090, 1451, 1900, 1900, 1199, 1900, 2200, 950, 1500, 1700, 1050, 1850, 1650, 1950, 1800, 1644, 1790, 1490, 1800, 1200, 2300, 1700, 1191, 1500, 1400, 1650, 1099, 1650, 2280, 2001, 1020, 1690, 1750, 2480, 2000, 1050, 1600, 1375, 1450, 1460, 1200, 2000, 2000, 1501, 2600, 900, 1600, 2350, 1800, 1350, 1600, 700, 1600, 1100, 1200, 1700, 1650, 2300, 2201, 2240, 1800, 1900, 1300, 2200, 1200, 650, 650, 650, 650, 1450, 1199, 1250, 950, 800, 1646, 950, 849, 700, 2500, 1105, 1150, 1000, 1200, 2135, 1999, 2600, 1600, 1350, 1690, 1250, 1350, 2050, 1500, 1500, 3170, 1800, 1800, 2000, 1400, 2100, 2100, 1520, 1600, 2300, 990, 1650, 1850, 1750, 1201, 2001, 1900, 1500, 1850, 2135, 1800, 1300, 1500, 1500, 1800, 2000, 900, 1450, 2150, 1500, 500, 850, 2470, 980, 950, 1199, 1250, 1251, 1800, 2100, 900, 1001, 1600, 1300, 1700, 1500, 1630, 1500, 1000, 2200, 2000, 1420, 1400, 1200, 1100, 1050, 1960, 1800, 1650, 1865, 1550, 1485, 1650, 800, 2110, 1500, 1650, 1010, 1950, 1000, 1350, 2790, 1780, 1850, 319, 1700, 1600, 2480, 2150, 2150, 2100, 3000, 1550, 1950, 1950, 1800, 1900, 1600, 850, 1600, 1190, 1760, 1600, 1550, 2250, 2300, 1568, 1300, 1300, 1810, 2049, 1750, 1600, 900, 1490, 1350, 1500, 1590, 1300, 1900, 2300, 1840, 2000, 2500, 1260, 1800, 1600, 1400, 1501, 1050, 1734, 912, 1400, 1400, 1430, 1900, 1500, 2050, 1200, 2100, 1750, 1300, 1600, 1000, 2001, 2550, 1501, 1651, 2160, 1800, 1650, 1500, 1200, 1500, 1000, 1400, 1700, 1400, 1550, 1400, 1500, 1600, 1800, 1550, 2900, 1230, 1200, 2000, 2340, 1350, 1600, 999, 1399, 1750, 2000, 1850, 1700, 1150, 1370, 1690, 1100, 2240, 1500, 800, 1500, 1900, 2040, 2550, 1200, 1690, 1200, 730, 2560, 2200, 1800, 1700, 1900, 1750, 1100, 1150, 1800, 1350, 800, 2350, 1700, 1180, 1150, 1101, 800, 1200, 800, 950, 800, 1390, 1265, 1300, 1020, 2200, 1860, 2400, 2070, 1860, 2200, 1800, 1000, 3000, 1250, 1950, 1490, 1601, 1300, 1300, 1950, 1900, 1100, 2500, 900, 700, 700, 1400, 1150, 1300, 1149, 2714, 2050, 1200, 900, 1200, 800, 1980, 1990, 1200, 1000, 1000, 1000, 1250, 1700, 1300, 1800, 1300, 1600, 1300, 1800, 1100, 1250, 2000, 1100, 1800, 1700, 2200, 1960, 2135, 1850, 1101, 790, 750, 1600, 1200, 950, 1500, 1500, 2000, 1850, 1100, 1000, 1800, 1500, 1980, 2300, 1600, 1600, 1300, 1480, 1400, 1500, 1450, 1700, 2100, 1700, 1400, 1050, 1800, 1540, 2200, 1000, 1499, 2100, 2400, 2100, 2200, 2040, 1600, 590, 690, 690, 1250, 1750, 1900, 1300, 1600, 2300, 890, 950, 2100, 1851, 1880, 1920, 2120, 1500, 2300, 2100, 1401, 920, 790, 1350, 1600, 950, 1750, 1000, 2116, 2200, 2650, 1100, 2250, 2150, 2500, 1500, 1900, 1090, 1700, 1750, 1800, 2280, 271, 1250, 2000, 1350, 1600, 1600, 1500, 1800, 1950, 1980, 700, 1900, 1200, 1150, 1390, 1650, 1200, 1400, 1600, 800, 1150, 1750, 1800, 1850, 1300, 1640, 1644, 1650, 1600, 1750, 650, 1650, 1650, 1794, 1800, 1500, 1700, 1450, 1400, 1100, 1200, 1200, 1600, 900, 1601, 900, 1490, 1450, 1350, 967, 390, 1900, 2970, 1850, 390, 1500, 1599, 1300, 1500, 1200, 1600, 1100, 1980, 1500, 2001, 1000, 1980, 1100, 1290, 1550, 1300, 980, 1250, 1600, 1350, 1300, 1400, 1300, 2660, 2050, 1200, 1200, 700, 730, 1300, 1600, 1200, 2000, 1000, 1150, 1200, 1200, 1200, 1200, 1200, 1600, 1000, 1900, 1350, 750, 550, 1650, 1800, 1300, 940, 1550, 2200, 1851, 1700, 1200, 1500, 1500, 800, 1299, 1100, 990, 1242, 1001, 901, 2000, 1001, 1050, 1500, 1950, 2300, 1699, 1500, 1200, 800, 1750, 1100, 1100, 1260, 2300, 730, 1450, 1500, 1500, 1500, 1350, 2490, 1200, 900, 1750, 1300, 1100, 1400, 1500, 1800, 1400, 1000, 1500, 390, 390, 1100, 1200, 1600, 1200, 1200, 1673, 2300, 1800, 1500, 1590, 1200, 1000, 1400, 760, 1700, 1600, 1000, 1400, 1350, 1300, 1399, 1400, 1727, 1499, 1200, 1300, 950, 1500, 1900, 1500, 1000, 1700, 2660, 1900, 2050, 1200, 1200, 1150, 1350, 1700, 2300, 1200, 1750, 1100, 1200, 1200, 1200, 1200, 900, 1200, 1400], \"y0\": \" \", \"yaxis\": \"y\"}],                        {\"boxmode\": \"group\", \"legend\": {\"tracegroupgap\": 0}, \"template\": {\"data\": {\"bar\": [{\"error_x\": {\"color\": \"#2a3f5f\"}, \"error_y\": {\"color\": \"#2a3f5f\"}, \"marker\": {\"line\": {\"color\": \"#E5ECF6\", \"width\": 0.5}}, \"type\": \"bar\"}], \"barpolar\": [{\"marker\": {\"line\": {\"color\": \"#E5ECF6\", \"width\": 0.5}}, \"type\": \"barpolar\"}], \"carpet\": [{\"aaxis\": {\"endlinecolor\": \"#2a3f5f\", \"gridcolor\": \"white\", \"linecolor\": \"white\", \"minorgridcolor\": \"white\", \"startlinecolor\": \"#2a3f5f\"}, \"baxis\": {\"endlinecolor\": \"#2a3f5f\", \"gridcolor\": \"white\", \"linecolor\": \"white\", \"minorgridcolor\": \"white\", \"startlinecolor\": \"#2a3f5f\"}, \"type\": \"carpet\"}], \"choropleth\": [{\"colorbar\": {\"outlinewidth\": 0, \"ticks\": \"\"}, \"type\": \"choropleth\"}], \"contour\": [{\"colorbar\": {\"outlinewidth\": 0, \"ticks\": \"\"}, \"colorscale\": [[0.0, \"#0d0887\"], [0.1111111111111111, \"#46039f\"], [0.2222222222222222, \"#7201a8\"], [0.3333333333333333, \"#9c179e\"], [0.4444444444444444, \"#bd3786\"], [0.5555555555555556, \"#d8576b\"], [0.6666666666666666, \"#ed7953\"], [0.7777777777777778, \"#fb9f3a\"], [0.8888888888888888, \"#fdca26\"], [1.0, \"#f0f921\"]], \"type\": \"contour\"}], \"contourcarpet\": [{\"colorbar\": {\"outlinewidth\": 0, \"ticks\": \"\"}, \"type\": \"contourcarpet\"}], \"heatmap\": [{\"colorbar\": {\"outlinewidth\": 0, \"ticks\": \"\"}, \"colorscale\": [[0.0, \"#0d0887\"], [0.1111111111111111, \"#46039f\"], [0.2222222222222222, \"#7201a8\"], [0.3333333333333333, \"#9c179e\"], [0.4444444444444444, \"#bd3786\"], [0.5555555555555556, \"#d8576b\"], [0.6666666666666666, \"#ed7953\"], [0.7777777777777778, \"#fb9f3a\"], [0.8888888888888888, \"#fdca26\"], [1.0, \"#f0f921\"]], \"type\": \"heatmap\"}], \"heatmapgl\": [{\"colorbar\": {\"outlinewidth\": 0, \"ticks\": \"\"}, \"colorscale\": [[0.0, \"#0d0887\"], [0.1111111111111111, \"#46039f\"], [0.2222222222222222, \"#7201a8\"], [0.3333333333333333, \"#9c179e\"], [0.4444444444444444, \"#bd3786\"], [0.5555555555555556, \"#d8576b\"], [0.6666666666666666, \"#ed7953\"], [0.7777777777777778, \"#fb9f3a\"], [0.8888888888888888, \"#fdca26\"], [1.0, \"#f0f921\"]], \"type\": \"heatmapgl\"}], \"histogram\": [{\"marker\": {\"colorbar\": {\"outlinewidth\": 0, \"ticks\": \"\"}}, \"type\": \"histogram\"}], \"histogram2d\": [{\"colorbar\": {\"outlinewidth\": 0, \"ticks\": \"\"}, \"colorscale\": [[0.0, \"#0d0887\"], [0.1111111111111111, \"#46039f\"], [0.2222222222222222, \"#7201a8\"], [0.3333333333333333, \"#9c179e\"], [0.4444444444444444, \"#bd3786\"], [0.5555555555555556, \"#d8576b\"], [0.6666666666666666, \"#ed7953\"], [0.7777777777777778, \"#fb9f3a\"], [0.8888888888888888, \"#fdca26\"], [1.0, \"#f0f921\"]], \"type\": \"histogram2d\"}], \"histogram2dcontour\": [{\"colorbar\": {\"outlinewidth\": 0, \"ticks\": \"\"}, \"colorscale\": [[0.0, \"#0d0887\"], [0.1111111111111111, \"#46039f\"], [0.2222222222222222, \"#7201a8\"], [0.3333333333333333, \"#9c179e\"], [0.4444444444444444, \"#bd3786\"], [0.5555555555555556, \"#d8576b\"], [0.6666666666666666, \"#ed7953\"], [0.7777777777777778, \"#fb9f3a\"], [0.8888888888888888, \"#fdca26\"], [1.0, \"#f0f921\"]], \"type\": \"histogram2dcontour\"}], \"mesh3d\": [{\"colorbar\": {\"outlinewidth\": 0, \"ticks\": \"\"}, \"type\": \"mesh3d\"}], \"parcoords\": [{\"line\": {\"colorbar\": {\"outlinewidth\": 0, \"ticks\": \"\"}}, \"type\": \"parcoords\"}], \"pie\": [{\"automargin\": true, \"type\": \"pie\"}], \"scatter\": [{\"marker\": {\"colorbar\": {\"outlinewidth\": 0, \"ticks\": \"\"}}, \"type\": \"scatter\"}], \"scatter3d\": [{\"line\": {\"colorbar\": {\"outlinewidth\": 0, \"ticks\": \"\"}}, \"marker\": {\"colorbar\": {\"outlinewidth\": 0, \"ticks\": \"\"}}, \"type\": \"scatter3d\"}], \"scattercarpet\": [{\"marker\": {\"colorbar\": {\"outlinewidth\": 0, \"ticks\": \"\"}}, \"type\": \"scattercarpet\"}], \"scattergeo\": [{\"marker\": {\"colorbar\": {\"outlinewidth\": 0, \"ticks\": \"\"}}, \"type\": \"scattergeo\"}], \"scattergl\": [{\"marker\": {\"colorbar\": {\"outlinewidth\": 0, \"ticks\": \"\"}}, \"type\": \"scattergl\"}], \"scattermapbox\": [{\"marker\": {\"colorbar\": {\"outlinewidth\": 0, \"ticks\": \"\"}}, \"type\": \"scattermapbox\"}], \"scatterpolar\": [{\"marker\": {\"colorbar\": {\"outlinewidth\": 0, \"ticks\": \"\"}}, \"type\": \"scatterpolar\"}], \"scatterpolargl\": [{\"marker\": {\"colorbar\": {\"outlinewidth\": 0, \"ticks\": \"\"}}, \"type\": \"scatterpolargl\"}], \"scatterternary\": [{\"marker\": {\"colorbar\": {\"outlinewidth\": 0, \"ticks\": \"\"}}, \"type\": \"scatterternary\"}], \"surface\": [{\"colorbar\": {\"outlinewidth\": 0, \"ticks\": \"\"}, \"colorscale\": [[0.0, \"#0d0887\"], [0.1111111111111111, \"#46039f\"], [0.2222222222222222, \"#7201a8\"], [0.3333333333333333, \"#9c179e\"], [0.4444444444444444, \"#bd3786\"], [0.5555555555555556, \"#d8576b\"], [0.6666666666666666, \"#ed7953\"], [0.7777777777777778, \"#fb9f3a\"], [0.8888888888888888, \"#fdca26\"], [1.0, \"#f0f921\"]], \"type\": \"surface\"}], \"table\": [{\"cells\": {\"fill\": {\"color\": \"#EBF0F8\"}, \"line\": {\"color\": \"white\"}}, \"header\": {\"fill\": {\"color\": \"#C8D4E3\"}, \"line\": {\"color\": \"white\"}}, \"type\": \"table\"}]}, \"layout\": {\"annotationdefaults\": {\"arrowcolor\": \"#2a3f5f\", \"arrowhead\": 0, \"arrowwidth\": 1}, \"autotypenumbers\": \"strict\", \"coloraxis\": {\"colorbar\": {\"outlinewidth\": 0, \"ticks\": \"\"}}, \"colorscale\": {\"diverging\": [[0, \"#8e0152\"], [0.1, \"#c51b7d\"], [0.2, \"#de77ae\"], [0.3, \"#f1b6da\"], [0.4, \"#fde0ef\"], [0.5, \"#f7f7f7\"], [0.6, \"#e6f5d0\"], [0.7, \"#b8e186\"], [0.8, \"#7fbc41\"], [0.9, \"#4d9221\"], [1, \"#276419\"]], \"sequential\": [[0.0, \"#0d0887\"], [0.1111111111111111, \"#46039f\"], [0.2222222222222222, \"#7201a8\"], [0.3333333333333333, \"#9c179e\"], [0.4444444444444444, \"#bd3786\"], [0.5555555555555556, \"#d8576b\"], [0.6666666666666666, \"#ed7953\"], [0.7777777777777778, \"#fb9f3a\"], [0.8888888888888888, \"#fdca26\"], [1.0, \"#f0f921\"]], \"sequentialminus\": [[0.0, \"#0d0887\"], [0.1111111111111111, \"#46039f\"], [0.2222222222222222, \"#7201a8\"], [0.3333333333333333, \"#9c179e\"], [0.4444444444444444, \"#bd3786\"], [0.5555555555555556, \"#d8576b\"], [0.6666666666666666, \"#ed7953\"], [0.7777777777777778, \"#fb9f3a\"], [0.8888888888888888, \"#fdca26\"], [1.0, \"#f0f921\"]]}, \"colorway\": [\"#636efa\", \"#EF553B\", \"#00cc96\", \"#ab63fa\", \"#FFA15A\", \"#19d3f3\", \"#FF6692\", \"#B6E880\", \"#FF97FF\", \"#FECB52\"], \"font\": {\"color\": \"#2a3f5f\"}, \"geo\": {\"bgcolor\": \"white\", \"lakecolor\": \"white\", \"landcolor\": \"#E5ECF6\", \"showlakes\": true, \"showland\": true, \"subunitcolor\": \"white\"}, \"hoverlabel\": {\"align\": \"left\"}, \"hovermode\": \"closest\", \"mapbox\": {\"style\": \"light\"}, \"paper_bgcolor\": \"white\", \"plot_bgcolor\": \"#E5ECF6\", \"polar\": {\"angularaxis\": {\"gridcolor\": \"white\", \"linecolor\": \"white\", \"ticks\": \"\"}, \"bgcolor\": \"#E5ECF6\", \"radialaxis\": {\"gridcolor\": \"white\", \"linecolor\": \"white\", \"ticks\": \"\"}}, \"scene\": {\"xaxis\": {\"backgroundcolor\": \"#E5ECF6\", \"gridcolor\": \"white\", \"gridwidth\": 2, \"linecolor\": \"white\", \"showbackground\": true, \"ticks\": \"\", \"zerolinecolor\": \"white\"}, \"yaxis\": {\"backgroundcolor\": \"#E5ECF6\", \"gridcolor\": \"white\", \"gridwidth\": 2, \"linecolor\": \"white\", \"showbackground\": true, \"ticks\": \"\", \"zerolinecolor\": \"white\"}, \"zaxis\": {\"backgroundcolor\": \"#E5ECF6\", \"gridcolor\": \"white\", \"gridwidth\": 2, \"linecolor\": \"white\", \"showbackground\": true, \"ticks\": \"\", \"zerolinecolor\": \"white\"}}, \"shapedefaults\": {\"line\": {\"color\": \"#2a3f5f\"}}, \"ternary\": {\"aaxis\": {\"gridcolor\": \"white\", \"linecolor\": \"white\", \"ticks\": \"\"}, \"baxis\": {\"gridcolor\": \"white\", \"linecolor\": \"white\", \"ticks\": \"\"}, \"bgcolor\": \"#E5ECF6\", \"caxis\": {\"gridcolor\": \"white\", \"linecolor\": \"white\", \"ticks\": \"\"}}, \"title\": {\"x\": 0.05}, \"xaxis\": {\"automargin\": true, \"gridcolor\": \"white\", \"linecolor\": \"white\", \"ticks\": \"\", \"title\": {\"standoff\": 15}, \"zerolinecolor\": \"white\", \"zerolinewidth\": 2}, \"yaxis\": {\"automargin\": true, \"gridcolor\": \"white\", \"linecolor\": \"white\", \"ticks\": \"\", \"title\": {\"standoff\": 15}, \"zerolinecolor\": \"white\", \"zerolinewidth\": 2}}}, \"title\": {\"text\": \"Rozrzut wszystkich ofert wg. sumy op\\u0142at msc.\"}, \"xaxis\": {\"anchor\": \"y\", \"domain\": [0.0, 1.0]}, \"yaxis\": {\"anchor\": \"x\", \"domain\": [0.0, 1.0], \"title\": {\"text\": \"suma_oplat\"}}},                        {\"responsive\": true}                    ).then(function(){\n",
       "                            \n",
       "var gd = document.getElementById('4493103f-9ba6-42ce-8b5f-0b5948e9a0c5');\n",
       "var x = new MutationObserver(function (mutations, observer) {{\n",
       "        var display = window.getComputedStyle(gd).display;\n",
       "        if (!display || display === 'none') {{\n",
       "            console.log([gd, 'removed!']);\n",
       "            Plotly.purge(gd);\n",
       "            observer.disconnect();\n",
       "        }}\n",
       "}});\n",
       "\n",
       "// Listen for the removal of the full notebook cells\n",
       "var notebookContainer = gd.closest('#notebook-container');\n",
       "if (notebookContainer) {{\n",
       "    x.observe(notebookContainer, {childList: true});\n",
       "}}\n",
       "\n",
       "// Listen for the clearing of the current output cell\n",
       "var outputEl = gd.closest('.output');\n",
       "if (outputEl) {{\n",
       "    x.observe(outputEl, {childList: true});\n",
       "}}\n",
       "\n",
       "                        })                };                });            </script>        </div>"
      ]
     },
     "metadata": {},
     "output_type": "display_data"
    }
   ],
   "source": [
    "pokoje_suma_oplat = px.box(tabela, \n",
    "                    y = 'suma_oplat',\n",
    "                    points = 'all',\n",
    "                    hover_data = ['powierzchnia','pokoje','miasto'],\n",
    "                    title = 'Rozrzut wszystkich ofert wg. sumy opłat msc.',\n",
    "                    \n",
    "                   )\n",
    "pokoje_suma_oplat"
   ]
  },
  {
   "cell_type": "code",
   "execution_count": 120,
   "metadata": {},
   "outputs": [
    {
     "data": {
      "application/vnd.plotly.v1+json": {
       "config": {
        "plotlyServerURL": "https://plot.ly"
       },
       "data": [
        {
         "hovertemplate": "miasto=Katowice<br>powierzchnia=%{x}<br>cena=%{y}<extra></extra>",
         "legendgroup": "Katowice",
         "marker": {
          "color": "#636efa",
          "symbol": "circle"
         },
         "mode": "markers",
         "name": "Katowice",
         "orientation": "v",
         "showlegend": true,
         "type": "scatter",
         "x": [
          43,
          35,
          43,
          35,
          50,
          37,
          35,
          28,
          40,
          39,
          39,
          40,
          50,
          37,
          46,
          24,
          18,
          25,
          45,
          40,
          31,
          43,
          41,
          18,
          21,
          16,
          47,
          19,
          40,
          35,
          28,
          47,
          44,
          24,
          28,
          17,
          38,
          35,
          49,
          42,
          36,
          40,
          42,
          40,
          34,
          27,
          30,
          50,
          32,
          36,
          42,
          39,
          36,
          23,
          49,
          23,
          25,
          32,
          40,
          39,
          32,
          41,
          39,
          33,
          38,
          44,
          23,
          48,
          40,
          46,
          35,
          26,
          22,
          33,
          37,
          38,
          38,
          26,
          22,
          30,
          38,
          49,
          40,
          38,
          42,
          40,
          45,
          50,
          31,
          41,
          49,
          38,
          16,
          36,
          43,
          37,
          46,
          44,
          39,
          28,
          27,
          50,
          40,
          50,
          45,
          42,
          40,
          37,
          35,
          46,
          25,
          48,
          38,
          25,
          35,
          25,
          44,
          31,
          29,
          48,
          16,
          40,
          42,
          43,
          25,
          49,
          50,
          18,
          47,
          36,
          50,
          47,
          30,
          35,
          39,
          45,
          35,
          40,
          47,
          30,
          46,
          38,
          24,
          26,
          34,
          41,
          42,
          38,
          42,
          29,
          50,
          47,
          45,
          38,
          44,
          46,
          44,
          48,
          34,
          38,
          31,
          38,
          14,
          48,
          40,
          33,
          35,
          50,
          35,
          32,
          42,
          35,
          43,
          38,
          49,
          40,
          48,
          43,
          46,
          50,
          38,
          18,
          37,
          40,
          45,
          33,
          32,
          20,
          50,
          35,
          38,
          30,
          41,
          39,
          47,
          36,
          40,
          27,
          35,
          32,
          16,
          26,
          32,
          48,
          43,
          40,
          43,
          30,
          38,
          43,
          43,
          37,
          36,
          25,
          36,
          23,
          42,
          50,
          49,
          32,
          30,
          34,
          27,
          29,
          20,
          48,
          48,
          39,
          43,
          46,
          33,
          47,
          37,
          34,
          30,
          41,
          40,
          37,
          45,
          38,
          39,
          48,
          43,
          37,
          50,
          21,
          23,
          38,
          38,
          39,
          38,
          40,
          36,
          33,
          49,
          20,
          43,
          49,
          43,
          35,
          50,
          35,
          48,
          21,
          43,
          25,
          28,
          41,
          22,
          41,
          47,
          44,
          37,
          36,
          44,
          45,
          40,
          26,
          41,
          30,
          50,
          36,
          38,
          50,
          17,
          40,
          48,
          37,
          48,
          47,
          30,
          36,
          35,
          47,
          40,
          48,
          39,
          20,
          45,
          28,
          10,
          20,
          20,
          20,
          23,
          17,
          35,
          14,
          35,
          28,
          26,
          14,
          45,
          21,
          26,
          30,
          18,
          39,
          50,
          46,
          27,
          32,
          29,
          40,
          35,
          49,
          50,
          50,
          30,
          43,
          50,
          50,
          40,
          36,
          40,
          37,
          40,
          40,
          35,
          36,
          46,
          50,
          43,
          39,
          40,
          40,
          36,
          24,
          46,
          24,
          21,
          29,
          48,
          30,
          46,
          48,
          17,
          20,
          38,
          25,
          35,
          16,
          37,
          28,
          15,
          50,
          40,
          37,
          30,
          30,
          26,
          34,
          41,
          34,
          39,
          17,
          27,
          42,
          49,
          30,
          29,
          40,
          40,
          43,
          39,
          38,
          50,
          47,
          43,
          43,
          42,
          43,
          43,
          38,
          22,
          49,
          28,
          38,
          30,
          47,
          46,
          45,
          30,
          40,
          47,
          20,
          40,
          26,
          45,
          33,
          31,
          31,
          42,
          30,
          40,
          43,
          26,
          38,
          48,
          30,
          28,
          27,
          16,
          42,
          42,
          43,
          38,
          50,
          32,
          32,
          43,
          39,
          33,
          36,
          44,
          47,
          33,
          46,
          50,
          47,
          48,
          32,
          30,
          27,
          40,
          36,
          48,
          31,
          46,
          44,
          34,
          33,
          45,
          30,
          35,
          38,
          25,
          38,
          39,
          36,
          38,
          18,
          39,
          48,
          38,
          21,
          50,
          43,
          31,
          41,
          38,
          36,
          21,
          10,
          45,
          45,
          47,
          42,
          40,
          39,
          30,
          23,
          27,
          32,
          30,
          19,
          37,
          26,
          27,
          23,
          27,
          38,
          37,
          50,
          38,
          39,
          41,
          40,
          35,
          37,
          50,
          46,
          41,
          40,
          28,
          28,
          40,
          50,
          25,
          25,
          34,
          30,
          21,
          29,
          18,
          44,
          28,
          31,
          38,
          44,
          37,
          38,
          20,
          20,
          49,
          30,
          39,
          48,
          39,
          39,
          38,
          26,
          30,
          38,
          50,
          39,
          39,
          50,
          26,
          23,
          19,
          47,
          45,
          19,
          43,
          48,
          37,
          31,
          37,
          46,
          38,
          44,
          50,
          47,
          25,
          38,
          43,
          22,
          35,
          41,
          45,
          22,
          20,
          41,
          49,
          40,
          34,
          45,
          50,
          41,
          49,
          49,
          35,
          10,
          13,
          11,
          31,
          38,
          49,
          29,
          49,
          50,
          22,
          26,
          41,
          35,
          48,
          38,
          40,
          40,
          48,
          43,
          40,
          26,
          25,
          28,
          26,
          18,
          43,
          17,
          32,
          49,
          45,
          22,
          45,
          45,
          42,
          42,
          38,
          17,
          38,
          30,
          32,
          42,
          31,
          30,
          44,
          49,
          46,
          37,
          42,
          39,
          34,
          29,
          49,
          20,
          30,
          50,
          36,
          25,
          32,
          48,
          30,
          18,
          36,
          46,
          37,
          40,
          35,
          42,
          41,
          16,
          35,
          35,
          43,
          45,
          29,
          43,
          28,
          44,
          40,
          35,
          23,
          38,
          30,
          38,
          44,
          34,
          21,
          8,
          38,
          45,
          43,
          9,
          27,
          48,
          22,
          26,
          20,
          37,
          25,
          44,
          45,
          36,
          29,
          44,
          25,
          27,
          18,
          17,
          22,
          20,
          25,
          18,
          22,
          17,
          50,
          35,
          36,
          15,
          10,
          10,
          23,
          28,
          38,
          37,
          37,
          37,
          28,
          28,
          29,
          29,
          48,
          28,
          45,
          10,
          11,
          48,
          36,
          48,
          18,
          50,
          35,
          42,
          30,
          25,
          30,
          22,
          24,
          29,
          34,
          30,
          15,
          38,
          29,
          16,
          21,
          49,
          50,
          43,
          47,
          20,
          47,
          11,
          13,
          43,
          10,
          38,
          36,
          36,
          25,
          44,
          29,
          15,
          45,
          37,
          42,
          18,
          43,
          45,
          10,
          9,
          38,
          25,
          35,
          28,
          27,
          35,
          42,
          22,
          28,
          40,
          46,
          38,
          18,
          37,
          38,
          38,
          46,
          28,
          49,
          40,
          19,
          42,
          27,
          50,
          37,
          39,
          34,
          42,
          50,
          40,
          34,
          27,
          43,
          37,
          27,
          50,
          28,
          45,
          28,
          36,
          40,
          40,
          23,
          41,
          37
         ],
         "xaxis": "x",
         "y": [
          1000,
          1300,
          1850,
          1100,
          2200,
          1000,
          1700,
          1100,
          1600,
          1700,
          1200,
          1500,
          2300,
          1300,
          1800,
          1150,
          1000,
          1130,
          1450,
          1900,
          1350,
          1590,
          850,
          999,
          750,
          550,
          2200,
          1190,
          1300,
          1250,
          1000,
          2300,
          2400,
          1300,
          1350,
          900,
          1550,
          1600,
          1700,
          1880,
          1200,
          1550,
          1800,
          2000,
          1600,
          2000,
          1500,
          800,
          1500,
          1390,
          1900,
          1199,
          1300,
          1090,
          1950,
          999,
          990,
          1290,
          1550,
          1500,
          1900,
          2100,
          1600,
          1290,
          1400,
          1100,
          790,
          2550,
          1400,
          1450,
          1300,
          1350,
          1050,
          1500,
          1650,
          1300,
          900,
          1050,
          1050,
          1500,
          1500,
          1200,
          2000,
          1300,
          2100,
          2500,
          1500,
          1500,
          1200,
          1750,
          1550,
          2100,
          1250,
          2200,
          1399,
          1490,
          1800,
          2850,
          1300,
          1350,
          1600,
          1890,
          1500,
          1800,
          2100,
          2100,
          2000,
          1300,
          1350,
          2200,
          1380,
          1100,
          1300,
          1150,
          1500,
          1300,
          2100,
          1350,
          1100,
          2550,
          1250,
          1850,
          1900,
          800,
          1400,
          1400,
          1300,
          1490,
          1650,
          1650,
          1700,
          1800,
          1400,
          2250,
          980,
          1800,
          1850,
          1090,
          2400,
          1400,
          2000,
          1200,
          900,
          650,
          1090,
          1900,
          2100,
          1500,
          2100,
          900,
          2200,
          1950,
          2950,
          1400,
          2850,
          1900,
          1200,
          990,
          1600,
          2100,
          1250,
          1300,
          460,
          1300,
          2000,
          1500,
          1850,
          1999,
          1300,
          1600,
          1900,
          1000,
          1999,
          1300,
          1900,
          1300,
          890,
          1500,
          2599,
          1850,
          1300,
          1100,
          1300,
          2500,
          2950,
          1400,
          1900,
          800,
          1600,
          970,
          1300,
          1700,
          1800,
          1500,
          1300,
          1600,
          1950,
          1150,
          1600,
          1100,
          1200,
          1250,
          1900,
          1700,
          1300,
          1550,
          1399,
          1450,
          1200,
          2000,
          1900,
          800,
          1700,
          1150,
          2200,
          1350,
          1880,
          1800,
          900,
          1800,
          1600,
          1600,
          990,
          1500,
          999,
          2300,
          1800,
          1700,
          1800,
          2000,
          1300,
          2250,
          1250,
          1380,
          1400,
          1900,
          1850,
          1400,
          1000,
          1000,
          1100,
          1400,
          1590,
          1190,
          1290,
          1090,
          1450,
          1900,
          1550,
          1199,
          1900,
          2200,
          650,
          1500,
          1700,
          900,
          1850,
          1650,
          1800,
          1300,
          1790,
          1490,
          1800,
          1200,
          2300,
          1190,
          1200,
          1650,
          999,
          1650,
          1800,
          2000,
          1000,
          1390,
          1200,
          2000,
          2000,
          1050,
          1450,
          1200,
          1200,
          1550,
          1550,
          2500,
          900,
          1600,
          1800,
          1350,
          1200,
          1600,
          1100,
          1200,
          1700,
          1650,
          1950,
          1800,
          1500,
          1200,
          2000,
          900,
          650,
          650,
          650,
          650,
          1099,
          1150,
          950,
          800,
          1150,
          950,
          849,
          700,
          2200,
          900,
          1150,
          1000,
          1200,
          1950,
          1999,
          2599,
          1150,
          1050,
          1250,
          1350,
          1700,
          1500,
          3000,
          1800,
          1800,
          2000,
          1400,
          2100,
          2100,
          1600,
          2300,
          990,
          1850,
          1750,
          1200,
          2000,
          1900,
          800,
          1850,
          1950,
          1800,
          1800,
          1500,
          850,
          2000,
          980,
          950,
          1199,
          1250,
          1250,
          1800,
          2100,
          900,
          1000,
          1600,
          1300,
          1700,
          1250,
          1250,
          1500,
          900,
          2200,
          1300,
          1000,
          1200,
          1100,
          1050,
          1600,
          1650,
          1000,
          1650,
          800,
          1200,
          1650,
          650,
          1950,
          1000,
          1350,
          1300,
          1850,
          319,
          1700,
          1600,
          2000,
          2150,
          2150,
          2100,
          1950,
          1950,
          1400,
          850,
          1600,
          1190,
          1300,
          1600,
          2250,
          1900,
          1000,
          1300,
          1750,
          1600,
          700,
          1090,
          1350,
          1500,
          1590,
          1300,
          1600,
          2300,
          1400,
          2000,
          2200,
          1000,
          1400,
          1400,
          1500,
          1050,
          1490,
          800,
          1050,
          1050,
          1000,
          1550,
          800,
          1800,
          1200,
          1750,
          1300,
          1600,
          1000,
          2000,
          2100,
          1500,
          1650,
          1800,
          1650,
          1500,
          1200,
          1000,
          1400,
          1700,
          1550,
          1500,
          1600,
          1800,
          2850,
          1230,
          1200,
          2000,
          1350,
          1600,
          999,
          1399,
          1750,
          2000,
          1850,
          1700,
          1000,
          1000,
          2240,
          1500,
          800,
          1500,
          1900,
          1850,
          2200,
          1200,
          1390,
          1200,
          550,
          2250,
          1800,
          1800,
          1900,
          1750,
          1150,
          1350,
          800,
          1000,
          1000,
          1100,
          800,
          1200,
          800,
          950,
          800,
          1265,
          1300,
          1000,
          2200,
          1950,
          1700,
          1500,
          1800,
          1000,
          3000,
          1250,
          1950,
          1490,
          1600,
          950,
          950,
          1100,
          2500,
          900,
          700,
          700,
          1400,
          1150,
          1300,
          999,
          2400,
          1200,
          900,
          800,
          1750,
          1490,
          1200,
          1000,
          1000,
          1000,
          1250,
          1300,
          1800,
          1600,
          1300,
          1400,
          1100,
          1250,
          1100,
          1800,
          1700,
          1950,
          1850,
          1100,
          790,
          750,
          1600,
          1200,
          950,
          1500,
          2000,
          1600,
          1100,
          1000,
          1800,
          1500,
          1750,
          2300,
          1600,
          1300,
          1480,
          1500,
          1450,
          1700,
          2100,
          1500,
          1100,
          1050,
          1800,
          1100,
          2200,
          1000,
          1800,
          2400,
          1800,
          2200,
          1490,
          1600,
          590,
          690,
          690,
          1250,
          1750,
          1600,
          1300,
          1600,
          2300,
          890,
          950,
          2100,
          1850,
          1700,
          1800,
          2000,
          1500,
          2300,
          2100,
          1400,
          920,
          790,
          1350,
          1600,
          950,
          1300,
          1000,
          1590,
          2200,
          2650,
          1100,
          2250,
          2150,
          2000,
          1500,
          1900,
          1090,
          1700,
          1500,
          1500,
          1880,
          271,
          1250,
          2000,
          1350,
          1600,
          1000,
          1800,
          1950,
          1980,
          700,
          1900,
          1200,
          1150,
          1390,
          1650,
          1200,
          1400,
          1600,
          800,
          1150,
          1800,
          1850,
          1300,
          1550,
          1300,
          1650,
          1600,
          650,
          1500,
          1500,
          1794,
          1800,
          1500,
          1700,
          800,
          1200,
          1200,
          1600,
          900,
          1600,
          900,
          1490,
          1450,
          1350,
          967,
          390,
          1550,
          2950,
          1850,
          390,
          1500,
          1599,
          1300,
          1500,
          1200,
          1600,
          1100,
          1980,
          1500,
          2000,
          1000,
          1980,
          1100,
          1290,
          1300,
          800,
          1250,
          800,
          1150,
          1300,
          1400,
          1300,
          2200,
          1850,
          1200,
          1200,
          700,
          550,
          1300,
          1200,
          2000,
          1000,
          1150,
          1200,
          1200,
          1200,
          1200,
          1200,
          1600,
          1000,
          1350,
          750,
          550,
          1650,
          1200,
          1300,
          940,
          2200,
          1850,
          1700,
          900,
          1500,
          800,
          1299,
          1100,
          990,
          1090,
          1000,
          900,
          2000,
          1000,
          1050,
          1500,
          1950,
          2300,
          1499,
          1500,
          800,
          1750,
          1100,
          1100,
          2300,
          550,
          1500,
          1500,
          1500,
          1350,
          1790,
          1200,
          900,
          1750,
          1100,
          1400,
          1400,
          1000,
          1500,
          390,
          390,
          1100,
          1200,
          1600,
          1200,
          1200,
          1250,
          1800,
          1200,
          1200,
          1200,
          1700,
          1600,
          1000,
          1400,
          1350,
          1300,
          1299,
          1100,
          1727,
          1499,
          1100,
          1300,
          950,
          1500,
          1800,
          1500,
          1000,
          1700,
          2200,
          1600,
          1600,
          1200,
          1200,
          1150,
          1350,
          2300,
          1200,
          1400,
          1100,
          1200,
          1200,
          1200,
          900,
          1200,
          1400
         ],
         "yaxis": "y"
        },
        {
         "hovertemplate": "miasto=Bielsko-Biała<br>powierzchnia=%{x}<br>cena=%{y}<extra></extra>",
         "legendgroup": "Bielsko-Biała",
         "marker": {
          "color": "#EF553B",
          "symbol": "circle"
         },
         "mode": "markers",
         "name": "Bielsko-Biała",
         "orientation": "v",
         "showlegend": true,
         "type": "scatter",
         "x": [
          30,
          47,
          31,
          41,
          29,
          45,
          36,
          48,
          43,
          50,
          26,
          38,
          44,
          41,
          46,
          48,
          30,
          40,
          25,
          45,
          38,
          30,
          48,
          41,
          35,
          32,
          50,
          50,
          49,
          34,
          38,
          45,
          49,
          29,
          36,
          38,
          44,
          29,
          39,
          33,
          44,
          29,
          36,
          38,
          45,
          29,
          37,
          24,
          43,
          36,
          25,
          44,
          32,
          42,
          44,
          25,
          30,
          37,
          44,
          38,
          20,
          25,
          29,
          34,
          50,
          43,
          48,
          43,
          45,
          38,
          38,
          40,
          46,
          36,
          32,
          36,
          33,
          29,
          44,
          19,
          43,
          33,
          43,
          38,
          46,
          36,
          44,
          36,
          30,
          41,
          30,
          48,
          40,
          47,
          40,
          45,
          28,
          31,
          48,
          43,
          39,
          38,
          49,
          29,
          24,
          29,
          47,
          30,
          25
         ],
         "xaxis": "x",
         "y": [
          1650,
          1600,
          1500,
          750,
          1250,
          1100,
          1150,
          1000,
          1200,
          2600,
          1100,
          1500,
          1600,
          1800,
          1600,
          2300,
          1500,
          1800,
          1150,
          1650,
          1799,
          1100,
          2490,
          1700,
          1300,
          1300,
          1450,
          1850,
          1800,
          1100,
          1000,
          1650,
          1800,
          1350,
          1490,
          1799,
          1800,
          1400,
          1550,
          1150,
          1800,
          1250,
          1155,
          1550,
          1650,
          1650,
          1750,
          980,
          1300,
          1490,
          1350,
          1800,
          1500,
          1600,
          2000,
          700,
          1450,
          1100,
          1300,
          1800,
          1300,
          1500,
          1500,
          900,
          1500,
          1750,
          2490,
          1800,
          1600,
          1200,
          1799,
          1600,
          1700,
          1800,
          1500,
          1000,
          1000,
          1250,
          2000,
          1100,
          1200,
          1100,
          1100,
          1400,
          1390,
          1490,
          1900,
          1700,
          1650,
          1800,
          1200,
          1300,
          1300,
          1700,
          1700,
          1650,
          1600,
          1199,
          1200,
          1400,
          1400,
          1400,
          1900,
          1250,
          980,
          1190,
          1300,
          1000,
          750
         ],
         "yaxis": "y"
        },
        {
         "hovertemplate": "miasto=Tychy<br>powierzchnia=%{x}<br>cena=%{y}<extra></extra>",
         "legendgroup": "Tychy",
         "marker": {
          "color": "#00cc96",
          "symbol": "circle"
         },
         "mode": "markers",
         "name": "Tychy",
         "orientation": "v",
         "showlegend": true,
         "type": "scatter",
         "x": [
          31,
          41,
          42,
          43,
          47,
          38,
          40,
          36,
          41,
          50,
          27,
          38,
          39,
          38,
          40,
          42,
          48,
          36,
          38,
          41,
          39,
          39,
          42,
          31,
          34,
          38,
          40,
          42,
          33,
          36,
          44,
          38,
          42,
          46,
          48,
          39,
          39,
          38,
          31,
          39,
          45,
          45,
          40,
          35,
          37,
          36,
          45,
          50,
          28,
          37,
          37,
          40,
          36,
          39,
          23
         ],
         "xaxis": "x",
         "y": [
          1300,
          800,
          2200,
          1590,
          1400,
          1600,
          2000,
          1200,
          1800,
          1500,
          1480,
          1450,
          1500,
          1600,
          2000,
          2200,
          1200,
          1200,
          1400,
          1700,
          1500,
          1600,
          1700,
          1400,
          1375,
          1500,
          2000,
          2200,
          1400,
          1650,
          2000,
          1450,
          500,
          2000,
          1800,
          1550,
          3000,
          1550,
          1300,
          1500,
          1690,
          2000,
          1500,
          1400,
          1500,
          1450,
          1550,
          1500,
          1200,
          1500,
          1450,
          2000,
          1590,
          1700,
          1200
         ],
         "yaxis": "y"
        }
       ],
       "layout": {
        "legend": {
         "title": {
          "text": "miasto"
         },
         "tracegroupgap": 0
        },
        "template": {
         "data": {
          "bar": [
           {
            "error_x": {
             "color": "#2a3f5f"
            },
            "error_y": {
             "color": "#2a3f5f"
            },
            "marker": {
             "line": {
              "color": "#E5ECF6",
              "width": 0.5
             }
            },
            "type": "bar"
           }
          ],
          "barpolar": [
           {
            "marker": {
             "line": {
              "color": "#E5ECF6",
              "width": 0.5
             }
            },
            "type": "barpolar"
           }
          ],
          "carpet": [
           {
            "aaxis": {
             "endlinecolor": "#2a3f5f",
             "gridcolor": "white",
             "linecolor": "white",
             "minorgridcolor": "white",
             "startlinecolor": "#2a3f5f"
            },
            "baxis": {
             "endlinecolor": "#2a3f5f",
             "gridcolor": "white",
             "linecolor": "white",
             "minorgridcolor": "white",
             "startlinecolor": "#2a3f5f"
            },
            "type": "carpet"
           }
          ],
          "choropleth": [
           {
            "colorbar": {
             "outlinewidth": 0,
             "ticks": ""
            },
            "type": "choropleth"
           }
          ],
          "contour": [
           {
            "colorbar": {
             "outlinewidth": 0,
             "ticks": ""
            },
            "colorscale": [
             [
              0,
              "#0d0887"
             ],
             [
              0.1111111111111111,
              "#46039f"
             ],
             [
              0.2222222222222222,
              "#7201a8"
             ],
             [
              0.3333333333333333,
              "#9c179e"
             ],
             [
              0.4444444444444444,
              "#bd3786"
             ],
             [
              0.5555555555555556,
              "#d8576b"
             ],
             [
              0.6666666666666666,
              "#ed7953"
             ],
             [
              0.7777777777777778,
              "#fb9f3a"
             ],
             [
              0.8888888888888888,
              "#fdca26"
             ],
             [
              1,
              "#f0f921"
             ]
            ],
            "type": "contour"
           }
          ],
          "contourcarpet": [
           {
            "colorbar": {
             "outlinewidth": 0,
             "ticks": ""
            },
            "type": "contourcarpet"
           }
          ],
          "heatmap": [
           {
            "colorbar": {
             "outlinewidth": 0,
             "ticks": ""
            },
            "colorscale": [
             [
              0,
              "#0d0887"
             ],
             [
              0.1111111111111111,
              "#46039f"
             ],
             [
              0.2222222222222222,
              "#7201a8"
             ],
             [
              0.3333333333333333,
              "#9c179e"
             ],
             [
              0.4444444444444444,
              "#bd3786"
             ],
             [
              0.5555555555555556,
              "#d8576b"
             ],
             [
              0.6666666666666666,
              "#ed7953"
             ],
             [
              0.7777777777777778,
              "#fb9f3a"
             ],
             [
              0.8888888888888888,
              "#fdca26"
             ],
             [
              1,
              "#f0f921"
             ]
            ],
            "type": "heatmap"
           }
          ],
          "heatmapgl": [
           {
            "colorbar": {
             "outlinewidth": 0,
             "ticks": ""
            },
            "colorscale": [
             [
              0,
              "#0d0887"
             ],
             [
              0.1111111111111111,
              "#46039f"
             ],
             [
              0.2222222222222222,
              "#7201a8"
             ],
             [
              0.3333333333333333,
              "#9c179e"
             ],
             [
              0.4444444444444444,
              "#bd3786"
             ],
             [
              0.5555555555555556,
              "#d8576b"
             ],
             [
              0.6666666666666666,
              "#ed7953"
             ],
             [
              0.7777777777777778,
              "#fb9f3a"
             ],
             [
              0.8888888888888888,
              "#fdca26"
             ],
             [
              1,
              "#f0f921"
             ]
            ],
            "type": "heatmapgl"
           }
          ],
          "histogram": [
           {
            "marker": {
             "colorbar": {
              "outlinewidth": 0,
              "ticks": ""
             }
            },
            "type": "histogram"
           }
          ],
          "histogram2d": [
           {
            "colorbar": {
             "outlinewidth": 0,
             "ticks": ""
            },
            "colorscale": [
             [
              0,
              "#0d0887"
             ],
             [
              0.1111111111111111,
              "#46039f"
             ],
             [
              0.2222222222222222,
              "#7201a8"
             ],
             [
              0.3333333333333333,
              "#9c179e"
             ],
             [
              0.4444444444444444,
              "#bd3786"
             ],
             [
              0.5555555555555556,
              "#d8576b"
             ],
             [
              0.6666666666666666,
              "#ed7953"
             ],
             [
              0.7777777777777778,
              "#fb9f3a"
             ],
             [
              0.8888888888888888,
              "#fdca26"
             ],
             [
              1,
              "#f0f921"
             ]
            ],
            "type": "histogram2d"
           }
          ],
          "histogram2dcontour": [
           {
            "colorbar": {
             "outlinewidth": 0,
             "ticks": ""
            },
            "colorscale": [
             [
              0,
              "#0d0887"
             ],
             [
              0.1111111111111111,
              "#46039f"
             ],
             [
              0.2222222222222222,
              "#7201a8"
             ],
             [
              0.3333333333333333,
              "#9c179e"
             ],
             [
              0.4444444444444444,
              "#bd3786"
             ],
             [
              0.5555555555555556,
              "#d8576b"
             ],
             [
              0.6666666666666666,
              "#ed7953"
             ],
             [
              0.7777777777777778,
              "#fb9f3a"
             ],
             [
              0.8888888888888888,
              "#fdca26"
             ],
             [
              1,
              "#f0f921"
             ]
            ],
            "type": "histogram2dcontour"
           }
          ],
          "mesh3d": [
           {
            "colorbar": {
             "outlinewidth": 0,
             "ticks": ""
            },
            "type": "mesh3d"
           }
          ],
          "parcoords": [
           {
            "line": {
             "colorbar": {
              "outlinewidth": 0,
              "ticks": ""
             }
            },
            "type": "parcoords"
           }
          ],
          "pie": [
           {
            "automargin": true,
            "type": "pie"
           }
          ],
          "scatter": [
           {
            "marker": {
             "colorbar": {
              "outlinewidth": 0,
              "ticks": ""
             }
            },
            "type": "scatter"
           }
          ],
          "scatter3d": [
           {
            "line": {
             "colorbar": {
              "outlinewidth": 0,
              "ticks": ""
             }
            },
            "marker": {
             "colorbar": {
              "outlinewidth": 0,
              "ticks": ""
             }
            },
            "type": "scatter3d"
           }
          ],
          "scattercarpet": [
           {
            "marker": {
             "colorbar": {
              "outlinewidth": 0,
              "ticks": ""
             }
            },
            "type": "scattercarpet"
           }
          ],
          "scattergeo": [
           {
            "marker": {
             "colorbar": {
              "outlinewidth": 0,
              "ticks": ""
             }
            },
            "type": "scattergeo"
           }
          ],
          "scattergl": [
           {
            "marker": {
             "colorbar": {
              "outlinewidth": 0,
              "ticks": ""
             }
            },
            "type": "scattergl"
           }
          ],
          "scattermapbox": [
           {
            "marker": {
             "colorbar": {
              "outlinewidth": 0,
              "ticks": ""
             }
            },
            "type": "scattermapbox"
           }
          ],
          "scatterpolar": [
           {
            "marker": {
             "colorbar": {
              "outlinewidth": 0,
              "ticks": ""
             }
            },
            "type": "scatterpolar"
           }
          ],
          "scatterpolargl": [
           {
            "marker": {
             "colorbar": {
              "outlinewidth": 0,
              "ticks": ""
             }
            },
            "type": "scatterpolargl"
           }
          ],
          "scatterternary": [
           {
            "marker": {
             "colorbar": {
              "outlinewidth": 0,
              "ticks": ""
             }
            },
            "type": "scatterternary"
           }
          ],
          "surface": [
           {
            "colorbar": {
             "outlinewidth": 0,
             "ticks": ""
            },
            "colorscale": [
             [
              0,
              "#0d0887"
             ],
             [
              0.1111111111111111,
              "#46039f"
             ],
             [
              0.2222222222222222,
              "#7201a8"
             ],
             [
              0.3333333333333333,
              "#9c179e"
             ],
             [
              0.4444444444444444,
              "#bd3786"
             ],
             [
              0.5555555555555556,
              "#d8576b"
             ],
             [
              0.6666666666666666,
              "#ed7953"
             ],
             [
              0.7777777777777778,
              "#fb9f3a"
             ],
             [
              0.8888888888888888,
              "#fdca26"
             ],
             [
              1,
              "#f0f921"
             ]
            ],
            "type": "surface"
           }
          ],
          "table": [
           {
            "cells": {
             "fill": {
              "color": "#EBF0F8"
             },
             "line": {
              "color": "white"
             }
            },
            "header": {
             "fill": {
              "color": "#C8D4E3"
             },
             "line": {
              "color": "white"
             }
            },
            "type": "table"
           }
          ]
         },
         "layout": {
          "annotationdefaults": {
           "arrowcolor": "#2a3f5f",
           "arrowhead": 0,
           "arrowwidth": 1
          },
          "autotypenumbers": "strict",
          "coloraxis": {
           "colorbar": {
            "outlinewidth": 0,
            "ticks": ""
           }
          },
          "colorscale": {
           "diverging": [
            [
             0,
             "#8e0152"
            ],
            [
             0.1,
             "#c51b7d"
            ],
            [
             0.2,
             "#de77ae"
            ],
            [
             0.3,
             "#f1b6da"
            ],
            [
             0.4,
             "#fde0ef"
            ],
            [
             0.5,
             "#f7f7f7"
            ],
            [
             0.6,
             "#e6f5d0"
            ],
            [
             0.7,
             "#b8e186"
            ],
            [
             0.8,
             "#7fbc41"
            ],
            [
             0.9,
             "#4d9221"
            ],
            [
             1,
             "#276419"
            ]
           ],
           "sequential": [
            [
             0,
             "#0d0887"
            ],
            [
             0.1111111111111111,
             "#46039f"
            ],
            [
             0.2222222222222222,
             "#7201a8"
            ],
            [
             0.3333333333333333,
             "#9c179e"
            ],
            [
             0.4444444444444444,
             "#bd3786"
            ],
            [
             0.5555555555555556,
             "#d8576b"
            ],
            [
             0.6666666666666666,
             "#ed7953"
            ],
            [
             0.7777777777777778,
             "#fb9f3a"
            ],
            [
             0.8888888888888888,
             "#fdca26"
            ],
            [
             1,
             "#f0f921"
            ]
           ],
           "sequentialminus": [
            [
             0,
             "#0d0887"
            ],
            [
             0.1111111111111111,
             "#46039f"
            ],
            [
             0.2222222222222222,
             "#7201a8"
            ],
            [
             0.3333333333333333,
             "#9c179e"
            ],
            [
             0.4444444444444444,
             "#bd3786"
            ],
            [
             0.5555555555555556,
             "#d8576b"
            ],
            [
             0.6666666666666666,
             "#ed7953"
            ],
            [
             0.7777777777777778,
             "#fb9f3a"
            ],
            [
             0.8888888888888888,
             "#fdca26"
            ],
            [
             1,
             "#f0f921"
            ]
           ]
          },
          "colorway": [
           "#636efa",
           "#EF553B",
           "#00cc96",
           "#ab63fa",
           "#FFA15A",
           "#19d3f3",
           "#FF6692",
           "#B6E880",
           "#FF97FF",
           "#FECB52"
          ],
          "font": {
           "color": "#2a3f5f"
          },
          "geo": {
           "bgcolor": "white",
           "lakecolor": "white",
           "landcolor": "#E5ECF6",
           "showlakes": true,
           "showland": true,
           "subunitcolor": "white"
          },
          "hoverlabel": {
           "align": "left"
          },
          "hovermode": "closest",
          "mapbox": {
           "style": "light"
          },
          "paper_bgcolor": "white",
          "plot_bgcolor": "#E5ECF6",
          "polar": {
           "angularaxis": {
            "gridcolor": "white",
            "linecolor": "white",
            "ticks": ""
           },
           "bgcolor": "#E5ECF6",
           "radialaxis": {
            "gridcolor": "white",
            "linecolor": "white",
            "ticks": ""
           }
          },
          "scene": {
           "xaxis": {
            "backgroundcolor": "#E5ECF6",
            "gridcolor": "white",
            "gridwidth": 2,
            "linecolor": "white",
            "showbackground": true,
            "ticks": "",
            "zerolinecolor": "white"
           },
           "yaxis": {
            "backgroundcolor": "#E5ECF6",
            "gridcolor": "white",
            "gridwidth": 2,
            "linecolor": "white",
            "showbackground": true,
            "ticks": "",
            "zerolinecolor": "white"
           },
           "zaxis": {
            "backgroundcolor": "#E5ECF6",
            "gridcolor": "white",
            "gridwidth": 2,
            "linecolor": "white",
            "showbackground": true,
            "ticks": "",
            "zerolinecolor": "white"
           }
          },
          "shapedefaults": {
           "line": {
            "color": "#2a3f5f"
           }
          },
          "ternary": {
           "aaxis": {
            "gridcolor": "white",
            "linecolor": "white",
            "ticks": ""
           },
           "baxis": {
            "gridcolor": "white",
            "linecolor": "white",
            "ticks": ""
           },
           "bgcolor": "#E5ECF6",
           "caxis": {
            "gridcolor": "white",
            "linecolor": "white",
            "ticks": ""
           }
          },
          "title": {
           "x": 0.05
          },
          "xaxis": {
           "automargin": true,
           "gridcolor": "white",
           "linecolor": "white",
           "ticks": "",
           "title": {
            "standoff": 15
           },
           "zerolinecolor": "white",
           "zerolinewidth": 2
          },
          "yaxis": {
           "automargin": true,
           "gridcolor": "white",
           "linecolor": "white",
           "ticks": "",
           "title": {
            "standoff": 15
           },
           "zerolinecolor": "white",
           "zerolinewidth": 2
          }
         }
        },
        "title": {
         "text": "Rozrzut cenowy ofert."
        },
        "xaxis": {
         "anchor": "y",
         "domain": [
          0,
          1
         ],
         "title": {
          "text": "powierzchnia"
         }
        },
        "yaxis": {
         "anchor": "x",
         "domain": [
          0,
          1
         ],
         "title": {
          "text": "cena"
         }
        }
       }
      },
      "text/html": [
       "<div>                            <div id=\"96831f4b-7c4a-4e1f-be68-bd95def6ae5c\" class=\"plotly-graph-div\" style=\"height:525px; width:100%;\"></div>            <script type=\"text/javascript\">                require([\"plotly\"], function(Plotly) {                    window.PLOTLYENV=window.PLOTLYENV || {};                                    if (document.getElementById(\"96831f4b-7c4a-4e1f-be68-bd95def6ae5c\")) {                    Plotly.newPlot(                        \"96831f4b-7c4a-4e1f-be68-bd95def6ae5c\",                        [{\"hovertemplate\": \"miasto=Katowice<br>powierzchnia=%{x}<br>cena=%{y}<extra></extra>\", \"legendgroup\": \"Katowice\", \"marker\": {\"color\": \"#636efa\", \"symbol\": \"circle\"}, \"mode\": \"markers\", \"name\": \"Katowice\", \"orientation\": \"v\", \"showlegend\": true, \"type\": \"scatter\", \"x\": [43, 35, 43, 35, 50, 37, 35, 28, 40, 39, 39, 40, 50, 37, 46, 24, 18, 25, 45, 40, 31, 43, 41, 18, 21, 16, 47, 19, 40, 35, 28, 47, 44, 24, 28, 17, 38, 35, 49, 42, 36, 40, 42, 40, 34, 27, 30, 50, 32, 36, 42, 39, 36, 23, 49, 23, 25, 32, 40, 39, 32, 41, 39, 33, 38, 44, 23, 48, 40, 46, 35, 26, 22, 33, 37, 38, 38, 26, 22, 30, 38, 49, 40, 38, 42, 40, 45, 50, 31, 41, 49, 38, 16, 36, 43, 37, 46, 44, 39, 28, 27, 50, 40, 50, 45, 42, 40, 37, 35, 46, 25, 48, 38, 25, 35, 25, 44, 31, 29, 48, 16, 40, 42, 43, 25, 49, 50, 18, 47, 36, 50, 47, 30, 35, 39, 45, 35, 40, 47, 30, 46, 38, 24, 26, 34, 41, 42, 38, 42, 29, 50, 47, 45, 38, 44, 46, 44, 48, 34, 38, 31, 38, 14, 48, 40, 33, 35, 50, 35, 32, 42, 35, 43, 38, 49, 40, 48, 43, 46, 50, 38, 18, 37, 40, 45, 33, 32, 20, 50, 35, 38, 30, 41, 39, 47, 36, 40, 27, 35, 32, 16, 26, 32, 48, 43, 40, 43, 30, 38, 43, 43, 37, 36, 25, 36, 23, 42, 50, 49, 32, 30, 34, 27, 29, 20, 48, 48, 39, 43, 46, 33, 47, 37, 34, 30, 41, 40, 37, 45, 38, 39, 48, 43, 37, 50, 21, 23, 38, 38, 39, 38, 40, 36, 33, 49, 20, 43, 49, 43, 35, 50, 35, 48, 21, 43, 25, 28, 41, 22, 41, 47, 44, 37, 36, 44, 45, 40, 26, 41, 30, 50, 36, 38, 50, 17, 40, 48, 37, 48, 47, 30, 36, 35, 47, 40, 48, 39, 20, 45, 28, 10, 20, 20, 20, 23, 17, 35, 14, 35, 28, 26, 14, 45, 21, 26, 30, 18, 39, 50, 46, 27, 32, 29, 40, 35, 49, 50, 50, 30, 43, 50, 50, 40, 36, 40, 37, 40, 40, 35, 36, 46, 50, 43, 39, 40, 40, 36, 24, 46, 24, 21, 29, 48, 30, 46, 48, 17, 20, 38, 25, 35, 16, 37, 28, 15, 50, 40, 37, 30, 30, 26, 34, 41, 34, 39, 17, 27, 42, 49, 30, 29, 40, 40, 43, 39, 38, 50, 47, 43, 43, 42, 43, 43, 38, 22, 49, 28, 38, 30, 47, 46, 45, 30, 40, 47, 20, 40, 26, 45, 33, 31, 31, 42, 30, 40, 43, 26, 38, 48, 30, 28, 27, 16, 42, 42, 43, 38, 50, 32, 32, 43, 39, 33, 36, 44, 47, 33, 46, 50, 47, 48, 32, 30, 27, 40, 36, 48, 31, 46, 44, 34, 33, 45, 30, 35, 38, 25, 38, 39, 36, 38, 18, 39, 48, 38, 21, 50, 43, 31, 41, 38, 36, 21, 10, 45, 45, 47, 42, 40, 39, 30, 23, 27, 32, 30, 19, 37, 26, 27, 23, 27, 38, 37, 50, 38, 39, 41, 40, 35, 37, 50, 46, 41, 40, 28, 28, 40, 50, 25, 25, 34, 30, 21, 29, 18, 44, 28, 31, 38, 44, 37, 38, 20, 20, 49, 30, 39, 48, 39, 39, 38, 26, 30, 38, 50, 39, 39, 50, 26, 23, 19, 47, 45, 19, 43, 48, 37, 31, 37, 46, 38, 44, 50, 47, 25, 38, 43, 22, 35, 41, 45, 22, 20, 41, 49, 40, 34, 45, 50, 41, 49, 49, 35, 10, 13, 11, 31, 38, 49, 29, 49, 50, 22, 26, 41, 35, 48, 38, 40, 40, 48, 43, 40, 26, 25, 28, 26, 18, 43, 17, 32, 49, 45, 22, 45, 45, 42, 42, 38, 17, 38, 30, 32, 42, 31, 30, 44, 49, 46, 37, 42, 39, 34, 29, 49, 20, 30, 50, 36, 25, 32, 48, 30, 18, 36, 46, 37, 40, 35, 42, 41, 16, 35, 35, 43, 45, 29, 43, 28, 44, 40, 35, 23, 38, 30, 38, 44, 34, 21, 8, 38, 45, 43, 9, 27, 48, 22, 26, 20, 37, 25, 44, 45, 36, 29, 44, 25, 27, 18, 17, 22, 20, 25, 18, 22, 17, 50, 35, 36, 15, 10, 10, 23, 28, 38, 37, 37, 37, 28, 28, 29, 29, 48, 28, 45, 10, 11, 48, 36, 48, 18, 50, 35, 42, 30, 25, 30, 22, 24, 29, 34, 30, 15, 38, 29, 16, 21, 49, 50, 43, 47, 20, 47, 11, 13, 43, 10, 38, 36, 36, 25, 44, 29, 15, 45, 37, 42, 18, 43, 45, 10, 9, 38, 25, 35, 28, 27, 35, 42, 22, 28, 40, 46, 38, 18, 37, 38, 38, 46, 28, 49, 40, 19, 42, 27, 50, 37, 39, 34, 42, 50, 40, 34, 27, 43, 37, 27, 50, 28, 45, 28, 36, 40, 40, 23, 41, 37], \"xaxis\": \"x\", \"y\": [1000, 1300, 1850, 1100, 2200, 1000, 1700, 1100, 1600, 1700, 1200, 1500, 2300, 1300, 1800, 1150, 1000, 1130, 1450, 1900, 1350, 1590, 850, 999, 750, 550, 2200, 1190, 1300, 1250, 1000, 2300, 2400, 1300, 1350, 900, 1550, 1600, 1700, 1880, 1200, 1550, 1800, 2000, 1600, 2000, 1500, 800, 1500, 1390, 1900, 1199, 1300, 1090, 1950, 999, 990, 1290, 1550, 1500, 1900, 2100, 1600, 1290, 1400, 1100, 790, 2550, 1400, 1450, 1300, 1350, 1050, 1500, 1650, 1300, 900, 1050, 1050, 1500, 1500, 1200, 2000, 1300, 2100, 2500, 1500, 1500, 1200, 1750, 1550, 2100, 1250, 2200, 1399, 1490, 1800, 2850, 1300, 1350, 1600, 1890, 1500, 1800, 2100, 2100, 2000, 1300, 1350, 2200, 1380, 1100, 1300, 1150, 1500, 1300, 2100, 1350, 1100, 2550, 1250, 1850, 1900, 800, 1400, 1400, 1300, 1490, 1650, 1650, 1700, 1800, 1400, 2250, 980, 1800, 1850, 1090, 2400, 1400, 2000, 1200, 900, 650, 1090, 1900, 2100, 1500, 2100, 900, 2200, 1950, 2950, 1400, 2850, 1900, 1200, 990, 1600, 2100, 1250, 1300, 460, 1300, 2000, 1500, 1850, 1999, 1300, 1600, 1900, 1000, 1999, 1300, 1900, 1300, 890, 1500, 2599, 1850, 1300, 1100, 1300, 2500, 2950, 1400, 1900, 800, 1600, 970, 1300, 1700, 1800, 1500, 1300, 1600, 1950, 1150, 1600, 1100, 1200, 1250, 1900, 1700, 1300, 1550, 1399, 1450, 1200, 2000, 1900, 800, 1700, 1150, 2200, 1350, 1880, 1800, 900, 1800, 1600, 1600, 990, 1500, 999, 2300, 1800, 1700, 1800, 2000, 1300, 2250, 1250, 1380, 1400, 1900, 1850, 1400, 1000, 1000, 1100, 1400, 1590, 1190, 1290, 1090, 1450, 1900, 1550, 1199, 1900, 2200, 650, 1500, 1700, 900, 1850, 1650, 1800, 1300, 1790, 1490, 1800, 1200, 2300, 1190, 1200, 1650, 999, 1650, 1800, 2000, 1000, 1390, 1200, 2000, 2000, 1050, 1450, 1200, 1200, 1550, 1550, 2500, 900, 1600, 1800, 1350, 1200, 1600, 1100, 1200, 1700, 1650, 1950, 1800, 1500, 1200, 2000, 900, 650, 650, 650, 650, 1099, 1150, 950, 800, 1150, 950, 849, 700, 2200, 900, 1150, 1000, 1200, 1950, 1999, 2599, 1150, 1050, 1250, 1350, 1700, 1500, 3000, 1800, 1800, 2000, 1400, 2100, 2100, 1600, 2300, 990, 1850, 1750, 1200, 2000, 1900, 800, 1850, 1950, 1800, 1800, 1500, 850, 2000, 980, 950, 1199, 1250, 1250, 1800, 2100, 900, 1000, 1600, 1300, 1700, 1250, 1250, 1500, 900, 2200, 1300, 1000, 1200, 1100, 1050, 1600, 1650, 1000, 1650, 800, 1200, 1650, 650, 1950, 1000, 1350, 1300, 1850, 319, 1700, 1600, 2000, 2150, 2150, 2100, 1950, 1950, 1400, 850, 1600, 1190, 1300, 1600, 2250, 1900, 1000, 1300, 1750, 1600, 700, 1090, 1350, 1500, 1590, 1300, 1600, 2300, 1400, 2000, 2200, 1000, 1400, 1400, 1500, 1050, 1490, 800, 1050, 1050, 1000, 1550, 800, 1800, 1200, 1750, 1300, 1600, 1000, 2000, 2100, 1500, 1650, 1800, 1650, 1500, 1200, 1000, 1400, 1700, 1550, 1500, 1600, 1800, 2850, 1230, 1200, 2000, 1350, 1600, 999, 1399, 1750, 2000, 1850, 1700, 1000, 1000, 2240, 1500, 800, 1500, 1900, 1850, 2200, 1200, 1390, 1200, 550, 2250, 1800, 1800, 1900, 1750, 1150, 1350, 800, 1000, 1000, 1100, 800, 1200, 800, 950, 800, 1265, 1300, 1000, 2200, 1950, 1700, 1500, 1800, 1000, 3000, 1250, 1950, 1490, 1600, 950, 950, 1100, 2500, 900, 700, 700, 1400, 1150, 1300, 999, 2400, 1200, 900, 800, 1750, 1490, 1200, 1000, 1000, 1000, 1250, 1300, 1800, 1600, 1300, 1400, 1100, 1250, 1100, 1800, 1700, 1950, 1850, 1100, 790, 750, 1600, 1200, 950, 1500, 2000, 1600, 1100, 1000, 1800, 1500, 1750, 2300, 1600, 1300, 1480, 1500, 1450, 1700, 2100, 1500, 1100, 1050, 1800, 1100, 2200, 1000, 1800, 2400, 1800, 2200, 1490, 1600, 590, 690, 690, 1250, 1750, 1600, 1300, 1600, 2300, 890, 950, 2100, 1850, 1700, 1800, 2000, 1500, 2300, 2100, 1400, 920, 790, 1350, 1600, 950, 1300, 1000, 1590, 2200, 2650, 1100, 2250, 2150, 2000, 1500, 1900, 1090, 1700, 1500, 1500, 1880, 271, 1250, 2000, 1350, 1600, 1000, 1800, 1950, 1980, 700, 1900, 1200, 1150, 1390, 1650, 1200, 1400, 1600, 800, 1150, 1800, 1850, 1300, 1550, 1300, 1650, 1600, 650, 1500, 1500, 1794, 1800, 1500, 1700, 800, 1200, 1200, 1600, 900, 1600, 900, 1490, 1450, 1350, 967, 390, 1550, 2950, 1850, 390, 1500, 1599, 1300, 1500, 1200, 1600, 1100, 1980, 1500, 2000, 1000, 1980, 1100, 1290, 1300, 800, 1250, 800, 1150, 1300, 1400, 1300, 2200, 1850, 1200, 1200, 700, 550, 1300, 1200, 2000, 1000, 1150, 1200, 1200, 1200, 1200, 1200, 1600, 1000, 1350, 750, 550, 1650, 1200, 1300, 940, 2200, 1850, 1700, 900, 1500, 800, 1299, 1100, 990, 1090, 1000, 900, 2000, 1000, 1050, 1500, 1950, 2300, 1499, 1500, 800, 1750, 1100, 1100, 2300, 550, 1500, 1500, 1500, 1350, 1790, 1200, 900, 1750, 1100, 1400, 1400, 1000, 1500, 390, 390, 1100, 1200, 1600, 1200, 1200, 1250, 1800, 1200, 1200, 1200, 1700, 1600, 1000, 1400, 1350, 1300, 1299, 1100, 1727, 1499, 1100, 1300, 950, 1500, 1800, 1500, 1000, 1700, 2200, 1600, 1600, 1200, 1200, 1150, 1350, 2300, 1200, 1400, 1100, 1200, 1200, 1200, 900, 1200, 1400], \"yaxis\": \"y\"}, {\"hovertemplate\": \"miasto=Bielsko-Bia\\u0142a<br>powierzchnia=%{x}<br>cena=%{y}<extra></extra>\", \"legendgroup\": \"Bielsko-Bia\\u0142a\", \"marker\": {\"color\": \"#EF553B\", \"symbol\": \"circle\"}, \"mode\": \"markers\", \"name\": \"Bielsko-Bia\\u0142a\", \"orientation\": \"v\", \"showlegend\": true, \"type\": \"scatter\", \"x\": [30, 47, 31, 41, 29, 45, 36, 48, 43, 50, 26, 38, 44, 41, 46, 48, 30, 40, 25, 45, 38, 30, 48, 41, 35, 32, 50, 50, 49, 34, 38, 45, 49, 29, 36, 38, 44, 29, 39, 33, 44, 29, 36, 38, 45, 29, 37, 24, 43, 36, 25, 44, 32, 42, 44, 25, 30, 37, 44, 38, 20, 25, 29, 34, 50, 43, 48, 43, 45, 38, 38, 40, 46, 36, 32, 36, 33, 29, 44, 19, 43, 33, 43, 38, 46, 36, 44, 36, 30, 41, 30, 48, 40, 47, 40, 45, 28, 31, 48, 43, 39, 38, 49, 29, 24, 29, 47, 30, 25], \"xaxis\": \"x\", \"y\": [1650, 1600, 1500, 750, 1250, 1100, 1150, 1000, 1200, 2600, 1100, 1500, 1600, 1800, 1600, 2300, 1500, 1800, 1150, 1650, 1799, 1100, 2490, 1700, 1300, 1300, 1450, 1850, 1800, 1100, 1000, 1650, 1800, 1350, 1490, 1799, 1800, 1400, 1550, 1150, 1800, 1250, 1155, 1550, 1650, 1650, 1750, 980, 1300, 1490, 1350, 1800, 1500, 1600, 2000, 700, 1450, 1100, 1300, 1800, 1300, 1500, 1500, 900, 1500, 1750, 2490, 1800, 1600, 1200, 1799, 1600, 1700, 1800, 1500, 1000, 1000, 1250, 2000, 1100, 1200, 1100, 1100, 1400, 1390, 1490, 1900, 1700, 1650, 1800, 1200, 1300, 1300, 1700, 1700, 1650, 1600, 1199, 1200, 1400, 1400, 1400, 1900, 1250, 980, 1190, 1300, 1000, 750], \"yaxis\": \"y\"}, {\"hovertemplate\": \"miasto=Tychy<br>powierzchnia=%{x}<br>cena=%{y}<extra></extra>\", \"legendgroup\": \"Tychy\", \"marker\": {\"color\": \"#00cc96\", \"symbol\": \"circle\"}, \"mode\": \"markers\", \"name\": \"Tychy\", \"orientation\": \"v\", \"showlegend\": true, \"type\": \"scatter\", \"x\": [31, 41, 42, 43, 47, 38, 40, 36, 41, 50, 27, 38, 39, 38, 40, 42, 48, 36, 38, 41, 39, 39, 42, 31, 34, 38, 40, 42, 33, 36, 44, 38, 42, 46, 48, 39, 39, 38, 31, 39, 45, 45, 40, 35, 37, 36, 45, 50, 28, 37, 37, 40, 36, 39, 23], \"xaxis\": \"x\", \"y\": [1300, 800, 2200, 1590, 1400, 1600, 2000, 1200, 1800, 1500, 1480, 1450, 1500, 1600, 2000, 2200, 1200, 1200, 1400, 1700, 1500, 1600, 1700, 1400, 1375, 1500, 2000, 2200, 1400, 1650, 2000, 1450, 500, 2000, 1800, 1550, 3000, 1550, 1300, 1500, 1690, 2000, 1500, 1400, 1500, 1450, 1550, 1500, 1200, 1500, 1450, 2000, 1590, 1700, 1200], \"yaxis\": \"y\"}],                        {\"legend\": {\"title\": {\"text\": \"miasto\"}, \"tracegroupgap\": 0}, \"template\": {\"data\": {\"bar\": [{\"error_x\": {\"color\": \"#2a3f5f\"}, \"error_y\": {\"color\": \"#2a3f5f\"}, \"marker\": {\"line\": {\"color\": \"#E5ECF6\", \"width\": 0.5}}, \"type\": \"bar\"}], \"barpolar\": [{\"marker\": {\"line\": {\"color\": \"#E5ECF6\", \"width\": 0.5}}, \"type\": \"barpolar\"}], \"carpet\": [{\"aaxis\": {\"endlinecolor\": \"#2a3f5f\", \"gridcolor\": \"white\", \"linecolor\": \"white\", \"minorgridcolor\": \"white\", \"startlinecolor\": \"#2a3f5f\"}, \"baxis\": {\"endlinecolor\": \"#2a3f5f\", \"gridcolor\": \"white\", \"linecolor\": \"white\", \"minorgridcolor\": \"white\", \"startlinecolor\": \"#2a3f5f\"}, \"type\": \"carpet\"}], \"choropleth\": [{\"colorbar\": {\"outlinewidth\": 0, \"ticks\": \"\"}, \"type\": \"choropleth\"}], \"contour\": [{\"colorbar\": {\"outlinewidth\": 0, \"ticks\": \"\"}, \"colorscale\": [[0.0, \"#0d0887\"], [0.1111111111111111, \"#46039f\"], [0.2222222222222222, \"#7201a8\"], [0.3333333333333333, \"#9c179e\"], [0.4444444444444444, \"#bd3786\"], [0.5555555555555556, \"#d8576b\"], [0.6666666666666666, \"#ed7953\"], [0.7777777777777778, \"#fb9f3a\"], [0.8888888888888888, \"#fdca26\"], [1.0, \"#f0f921\"]], \"type\": \"contour\"}], \"contourcarpet\": [{\"colorbar\": {\"outlinewidth\": 0, \"ticks\": \"\"}, \"type\": \"contourcarpet\"}], \"heatmap\": [{\"colorbar\": {\"outlinewidth\": 0, \"ticks\": \"\"}, \"colorscale\": [[0.0, \"#0d0887\"], [0.1111111111111111, \"#46039f\"], [0.2222222222222222, \"#7201a8\"], [0.3333333333333333, \"#9c179e\"], [0.4444444444444444, \"#bd3786\"], [0.5555555555555556, \"#d8576b\"], [0.6666666666666666, \"#ed7953\"], [0.7777777777777778, \"#fb9f3a\"], [0.8888888888888888, \"#fdca26\"], [1.0, \"#f0f921\"]], \"type\": \"heatmap\"}], \"heatmapgl\": [{\"colorbar\": {\"outlinewidth\": 0, \"ticks\": \"\"}, \"colorscale\": [[0.0, \"#0d0887\"], [0.1111111111111111, \"#46039f\"], [0.2222222222222222, \"#7201a8\"], [0.3333333333333333, \"#9c179e\"], [0.4444444444444444, \"#bd3786\"], [0.5555555555555556, \"#d8576b\"], [0.6666666666666666, \"#ed7953\"], [0.7777777777777778, \"#fb9f3a\"], [0.8888888888888888, \"#fdca26\"], [1.0, \"#f0f921\"]], \"type\": \"heatmapgl\"}], \"histogram\": [{\"marker\": {\"colorbar\": {\"outlinewidth\": 0, \"ticks\": \"\"}}, \"type\": \"histogram\"}], \"histogram2d\": [{\"colorbar\": {\"outlinewidth\": 0, \"ticks\": \"\"}, \"colorscale\": [[0.0, \"#0d0887\"], [0.1111111111111111, \"#46039f\"], [0.2222222222222222, \"#7201a8\"], [0.3333333333333333, \"#9c179e\"], [0.4444444444444444, \"#bd3786\"], [0.5555555555555556, \"#d8576b\"], [0.6666666666666666, \"#ed7953\"], [0.7777777777777778, \"#fb9f3a\"], [0.8888888888888888, \"#fdca26\"], [1.0, \"#f0f921\"]], \"type\": \"histogram2d\"}], \"histogram2dcontour\": [{\"colorbar\": {\"outlinewidth\": 0, \"ticks\": \"\"}, \"colorscale\": [[0.0, \"#0d0887\"], [0.1111111111111111, \"#46039f\"], [0.2222222222222222, \"#7201a8\"], [0.3333333333333333, \"#9c179e\"], [0.4444444444444444, \"#bd3786\"], [0.5555555555555556, \"#d8576b\"], [0.6666666666666666, \"#ed7953\"], [0.7777777777777778, \"#fb9f3a\"], [0.8888888888888888, \"#fdca26\"], [1.0, \"#f0f921\"]], \"type\": \"histogram2dcontour\"}], \"mesh3d\": [{\"colorbar\": {\"outlinewidth\": 0, \"ticks\": \"\"}, \"type\": \"mesh3d\"}], \"parcoords\": [{\"line\": {\"colorbar\": {\"outlinewidth\": 0, \"ticks\": \"\"}}, \"type\": \"parcoords\"}], \"pie\": [{\"automargin\": true, \"type\": \"pie\"}], \"scatter\": [{\"marker\": {\"colorbar\": {\"outlinewidth\": 0, \"ticks\": \"\"}}, \"type\": \"scatter\"}], \"scatter3d\": [{\"line\": {\"colorbar\": {\"outlinewidth\": 0, \"ticks\": \"\"}}, \"marker\": {\"colorbar\": {\"outlinewidth\": 0, \"ticks\": \"\"}}, \"type\": \"scatter3d\"}], \"scattercarpet\": [{\"marker\": {\"colorbar\": {\"outlinewidth\": 0, \"ticks\": \"\"}}, \"type\": \"scattercarpet\"}], \"scattergeo\": [{\"marker\": {\"colorbar\": {\"outlinewidth\": 0, \"ticks\": \"\"}}, \"type\": \"scattergeo\"}], \"scattergl\": [{\"marker\": {\"colorbar\": {\"outlinewidth\": 0, \"ticks\": \"\"}}, \"type\": \"scattergl\"}], \"scattermapbox\": [{\"marker\": {\"colorbar\": {\"outlinewidth\": 0, \"ticks\": \"\"}}, \"type\": \"scattermapbox\"}], \"scatterpolar\": [{\"marker\": {\"colorbar\": {\"outlinewidth\": 0, \"ticks\": \"\"}}, \"type\": \"scatterpolar\"}], \"scatterpolargl\": [{\"marker\": {\"colorbar\": {\"outlinewidth\": 0, \"ticks\": \"\"}}, \"type\": \"scatterpolargl\"}], \"scatterternary\": [{\"marker\": {\"colorbar\": {\"outlinewidth\": 0, \"ticks\": \"\"}}, \"type\": \"scatterternary\"}], \"surface\": [{\"colorbar\": {\"outlinewidth\": 0, \"ticks\": \"\"}, \"colorscale\": [[0.0, \"#0d0887\"], [0.1111111111111111, \"#46039f\"], [0.2222222222222222, \"#7201a8\"], [0.3333333333333333, \"#9c179e\"], [0.4444444444444444, \"#bd3786\"], [0.5555555555555556, \"#d8576b\"], [0.6666666666666666, \"#ed7953\"], [0.7777777777777778, \"#fb9f3a\"], [0.8888888888888888, \"#fdca26\"], [1.0, \"#f0f921\"]], \"type\": \"surface\"}], \"table\": [{\"cells\": {\"fill\": {\"color\": \"#EBF0F8\"}, \"line\": {\"color\": \"white\"}}, \"header\": {\"fill\": {\"color\": \"#C8D4E3\"}, \"line\": {\"color\": \"white\"}}, \"type\": \"table\"}]}, \"layout\": {\"annotationdefaults\": {\"arrowcolor\": \"#2a3f5f\", \"arrowhead\": 0, \"arrowwidth\": 1}, \"autotypenumbers\": \"strict\", \"coloraxis\": {\"colorbar\": {\"outlinewidth\": 0, \"ticks\": \"\"}}, \"colorscale\": {\"diverging\": [[0, \"#8e0152\"], [0.1, \"#c51b7d\"], [0.2, \"#de77ae\"], [0.3, \"#f1b6da\"], [0.4, \"#fde0ef\"], [0.5, \"#f7f7f7\"], [0.6, \"#e6f5d0\"], [0.7, \"#b8e186\"], [0.8, \"#7fbc41\"], [0.9, \"#4d9221\"], [1, \"#276419\"]], \"sequential\": [[0.0, \"#0d0887\"], [0.1111111111111111, \"#46039f\"], [0.2222222222222222, \"#7201a8\"], [0.3333333333333333, \"#9c179e\"], [0.4444444444444444, \"#bd3786\"], [0.5555555555555556, \"#d8576b\"], [0.6666666666666666, \"#ed7953\"], [0.7777777777777778, \"#fb9f3a\"], [0.8888888888888888, \"#fdca26\"], [1.0, \"#f0f921\"]], \"sequentialminus\": [[0.0, \"#0d0887\"], [0.1111111111111111, \"#46039f\"], [0.2222222222222222, \"#7201a8\"], [0.3333333333333333, \"#9c179e\"], [0.4444444444444444, \"#bd3786\"], [0.5555555555555556, \"#d8576b\"], [0.6666666666666666, \"#ed7953\"], [0.7777777777777778, \"#fb9f3a\"], [0.8888888888888888, \"#fdca26\"], [1.0, \"#f0f921\"]]}, \"colorway\": [\"#636efa\", \"#EF553B\", \"#00cc96\", \"#ab63fa\", \"#FFA15A\", \"#19d3f3\", \"#FF6692\", \"#B6E880\", \"#FF97FF\", \"#FECB52\"], \"font\": {\"color\": \"#2a3f5f\"}, \"geo\": {\"bgcolor\": \"white\", \"lakecolor\": \"white\", \"landcolor\": \"#E5ECF6\", \"showlakes\": true, \"showland\": true, \"subunitcolor\": \"white\"}, \"hoverlabel\": {\"align\": \"left\"}, \"hovermode\": \"closest\", \"mapbox\": {\"style\": \"light\"}, \"paper_bgcolor\": \"white\", \"plot_bgcolor\": \"#E5ECF6\", \"polar\": {\"angularaxis\": {\"gridcolor\": \"white\", \"linecolor\": \"white\", \"ticks\": \"\"}, \"bgcolor\": \"#E5ECF6\", \"radialaxis\": {\"gridcolor\": \"white\", \"linecolor\": \"white\", \"ticks\": \"\"}}, \"scene\": {\"xaxis\": {\"backgroundcolor\": \"#E5ECF6\", \"gridcolor\": \"white\", \"gridwidth\": 2, \"linecolor\": \"white\", \"showbackground\": true, \"ticks\": \"\", \"zerolinecolor\": \"white\"}, \"yaxis\": {\"backgroundcolor\": \"#E5ECF6\", \"gridcolor\": \"white\", \"gridwidth\": 2, \"linecolor\": \"white\", \"showbackground\": true, \"ticks\": \"\", \"zerolinecolor\": \"white\"}, \"zaxis\": {\"backgroundcolor\": \"#E5ECF6\", \"gridcolor\": \"white\", \"gridwidth\": 2, \"linecolor\": \"white\", \"showbackground\": true, \"ticks\": \"\", \"zerolinecolor\": \"white\"}}, \"shapedefaults\": {\"line\": {\"color\": \"#2a3f5f\"}}, \"ternary\": {\"aaxis\": {\"gridcolor\": \"white\", \"linecolor\": \"white\", \"ticks\": \"\"}, \"baxis\": {\"gridcolor\": \"white\", \"linecolor\": \"white\", \"ticks\": \"\"}, \"bgcolor\": \"#E5ECF6\", \"caxis\": {\"gridcolor\": \"white\", \"linecolor\": \"white\", \"ticks\": \"\"}}, \"title\": {\"x\": 0.05}, \"xaxis\": {\"automargin\": true, \"gridcolor\": \"white\", \"linecolor\": \"white\", \"ticks\": \"\", \"title\": {\"standoff\": 15}, \"zerolinecolor\": \"white\", \"zerolinewidth\": 2}, \"yaxis\": {\"automargin\": true, \"gridcolor\": \"white\", \"linecolor\": \"white\", \"ticks\": \"\", \"title\": {\"standoff\": 15}, \"zerolinecolor\": \"white\", \"zerolinewidth\": 2}}}, \"title\": {\"text\": \"Rozrzut cenowy ofert.\"}, \"xaxis\": {\"anchor\": \"y\", \"domain\": [0.0, 1.0], \"title\": {\"text\": \"powierzchnia\"}}, \"yaxis\": {\"anchor\": \"x\", \"domain\": [0.0, 1.0], \"title\": {\"text\": \"cena\"}}},                        {\"responsive\": true}                    ).then(function(){\n",
       "                            \n",
       "var gd = document.getElementById('96831f4b-7c4a-4e1f-be68-bd95def6ae5c');\n",
       "var x = new MutationObserver(function (mutations, observer) {{\n",
       "        var display = window.getComputedStyle(gd).display;\n",
       "        if (!display || display === 'none') {{\n",
       "            console.log([gd, 'removed!']);\n",
       "            Plotly.purge(gd);\n",
       "            observer.disconnect();\n",
       "        }}\n",
       "}});\n",
       "\n",
       "// Listen for the removal of the full notebook cells\n",
       "var notebookContainer = gd.closest('#notebook-container');\n",
       "if (notebookContainer) {{\n",
       "    x.observe(notebookContainer, {childList: true});\n",
       "}}\n",
       "\n",
       "// Listen for the clearing of the current output cell\n",
       "var outputEl = gd.closest('.output');\n",
       "if (outputEl) {{\n",
       "    x.observe(outputEl, {childList: true});\n",
       "}}\n",
       "\n",
       "                        })                };                });            </script>        </div>"
      ]
     },
     "metadata": {},
     "output_type": "display_data"
    }
   ],
   "source": [
    "powierzchnia_cena_scatter = px.scatter(tabela,\n",
    "                           y = 'cena',\n",
    "                           x = 'powierzchnia',\n",
    "                           title = 'Rozrzut cenowy ofert.', \n",
    "                           color = 'miasto')\n",
    "\n",
    "powierzchnia_cena_scatter"
   ]
  },
  {
   "cell_type": "code",
   "execution_count": 121,
   "metadata": {
    "scrolled": false
   },
   "outputs": [
    {
     "data": {
      "application/vnd.plotly.v1+json": {
       "config": {
        "plotlyServerURL": "https://plot.ly"
       },
       "data": [
        {
         "alignmentgroup": "True",
         "hovertemplate": "miasto=Katowice<br>pokoje=%{x}<br>cena=%{y}<extra></extra>",
         "legendgroup": "Katowice",
         "marker": {
          "color": "#636efa"
         },
         "name": "Katowice",
         "notched": false,
         "offsetgroup": "Katowice",
         "orientation": "v",
         "showlegend": true,
         "type": "box",
         "x": [
          2,
          2,
          2,
          2,
          2,
          2,
          2,
          1,
          2,
          2,
          1,
          2,
          2,
          1,
          2,
          1,
          1,
          1,
          2,
          2,
          2,
          2,
          1,
          1,
          1,
          1,
          2,
          1,
          2,
          2,
          1,
          2,
          2,
          1,
          1,
          1,
          2,
          2,
          2,
          2,
          1,
          2,
          2,
          2,
          1,
          1,
          1,
          2,
          1,
          2,
          2,
          1,
          2,
          1,
          2,
          1,
          1,
          2,
          2,
          2,
          1,
          2,
          2,
          2,
          2,
          2,
          1,
          2,
          1,
          2,
          1,
          1,
          1,
          2,
          2,
          1,
          2,
          1,
          1,
          2,
          2,
          2,
          2,
          1,
          2,
          2,
          2,
          2,
          2,
          2,
          2,
          2,
          1,
          2,
          2,
          2,
          2,
          2,
          2,
          1,
          1,
          2,
          2,
          2,
          2,
          2,
          2,
          2,
          1,
          2,
          1,
          2,
          2,
          1,
          2,
          1,
          2,
          2,
          1,
          2,
          1,
          2,
          2,
          2,
          1,
          3,
          2,
          1,
          2,
          2,
          2,
          2,
          2,
          2,
          2,
          2,
          2,
          2,
          3,
          2,
          2,
          2,
          1,
          1,
          1,
          2,
          2,
          2,
          2,
          1,
          2,
          2,
          2,
          2,
          2,
          2,
          2,
          2,
          1,
          2,
          2,
          2,
          1,
          2,
          1,
          2,
          2,
          3,
          2,
          1,
          2,
          2,
          2,
          2,
          3,
          2,
          1,
          1,
          2,
          3,
          1,
          1,
          1,
          2,
          2,
          2,
          2,
          1,
          2,
          1,
          2,
          2,
          2,
          2,
          2,
          2,
          2,
          1,
          2,
          1,
          1,
          1,
          1,
          2,
          2,
          2,
          2,
          1,
          2,
          2,
          2,
          1,
          2,
          1,
          2,
          1,
          2,
          2,
          2,
          2,
          2,
          2,
          1,
          1,
          1,
          2,
          2,
          2,
          2,
          2,
          2,
          2,
          1,
          1,
          1,
          2,
          2,
          2,
          2,
          2,
          2,
          2,
          2,
          2,
          2,
          1,
          1,
          2,
          2,
          1,
          2,
          2,
          1,
          2,
          3,
          1,
          2,
          2,
          2,
          2,
          2,
          1,
          2,
          1,
          2,
          1,
          1,
          2,
          1,
          2,
          2,
          2,
          2,
          2,
          2,
          2,
          2,
          1,
          2,
          2,
          2,
          2,
          2,
          3,
          1,
          2,
          2,
          1,
          3,
          2,
          1,
          1,
          2,
          2,
          2,
          2,
          2,
          1,
          2,
          1,
          1,
          1,
          1,
          1,
          1,
          1,
          1,
          1,
          2,
          1,
          2,
          1,
          3,
          1,
          1,
          1,
          1,
          1,
          3,
          2,
          1,
          2,
          1,
          1,
          2,
          2,
          2,
          2,
          2,
          2,
          2,
          3,
          1,
          1,
          1,
          2,
          2,
          2,
          1,
          2,
          2,
          2,
          2,
          1,
          2,
          2,
          2,
          1,
          2,
          1,
          1,
          1,
          2,
          1,
          2,
          2,
          1,
          1,
          2,
          1,
          2,
          1,
          1,
          1,
          1,
          3,
          2,
          2,
          1,
          1,
          1,
          2,
          2,
          2,
          2,
          1,
          1,
          2,
          2,
          1,
          1,
          1,
          2,
          2,
          1,
          2,
          2,
          2,
          2,
          2,
          2,
          2,
          2,
          2,
          1,
          3,
          1,
          2,
          1,
          2,
          2,
          2,
          1,
          2,
          2,
          1,
          2,
          1,
          2,
          2,
          1,
          1,
          2,
          1,
          2,
          2,
          1,
          2,
          2,
          1,
          1,
          1,
          1,
          2,
          2,
          2,
          2,
          2,
          2,
          2,
          2,
          2,
          1,
          1,
          2,
          2,
          1,
          2,
          2,
          2,
          2,
          1,
          1,
          1,
          2,
          2,
          2,
          1,
          2,
          2,
          1,
          1,
          2,
          1,
          2,
          2,
          1,
          2,
          2,
          2,
          2,
          1,
          2,
          2,
          2,
          1,
          3,
          2,
          2,
          2,
          2,
          2,
          1,
          1,
          2,
          2,
          2,
          2,
          2,
          2,
          1,
          1,
          1,
          1,
          2,
          1,
          1,
          1,
          1,
          1,
          1,
          1,
          2,
          2,
          2,
          2,
          2,
          1,
          2,
          2,
          2,
          2,
          2,
          2,
          1,
          1,
          1,
          2,
          1,
          1,
          1,
          1,
          1,
          1,
          1,
          2,
          1,
          1,
          2,
          2,
          2,
          2,
          1,
          1,
          2,
          1,
          1,
          2,
          2,
          2,
          2,
          1,
          1,
          2,
          2,
          2,
          1,
          2,
          1,
          1,
          1,
          2,
          2,
          1,
          2,
          2,
          2,
          1,
          1,
          2,
          2,
          2,
          3,
          2,
          2,
          2,
          2,
          1,
          2,
          2,
          2,
          1,
          1,
          2,
          2,
          2,
          1,
          2,
          2,
          3,
          2,
          2,
          2,
          1,
          1,
          1,
          1,
          2,
          2,
          1,
          3,
          2,
          1,
          1,
          2,
          2,
          2,
          2,
          2,
          2,
          2,
          2,
          3,
          2,
          1,
          1,
          1,
          1,
          2,
          1,
          2,
          2,
          2,
          1,
          2,
          2,
          2,
          2,
          2,
          1,
          2,
          1,
          1,
          2,
          1,
          1,
          2,
          2,
          2,
          2,
          2,
          2,
          2,
          1,
          3,
          1,
          1,
          2,
          2,
          1,
          2,
          2,
          1,
          1,
          2,
          2,
          1,
          2,
          2,
          2,
          2,
          1,
          1,
          1,
          2,
          2,
          1,
          2,
          1,
          2,
          2,
          2,
          1,
          2,
          1,
          2,
          2,
          1,
          1,
          1,
          2,
          2,
          2,
          1,
          1,
          2,
          1,
          1,
          1,
          2,
          1,
          2,
          2,
          2,
          1,
          2,
          1,
          2,
          1,
          1,
          1,
          1,
          1,
          1,
          1,
          1,
          2,
          2,
          1,
          1,
          1,
          1,
          1,
          1,
          2,
          1,
          2,
          2,
          1,
          1,
          1,
          1,
          2,
          1,
          2,
          1,
          1,
          2,
          2,
          2,
          1,
          2,
          2,
          2,
          1,
          1,
          1,
          1,
          1,
          1,
          1,
          1,
          1,
          2,
          1,
          1,
          1,
          2,
          3,
          1,
          2,
          1,
          1,
          1,
          1,
          2,
          1,
          2,
          1,
          1,
          1,
          2,
          1,
          1,
          2,
          1,
          1,
          1,
          2,
          3,
          1,
          1,
          2,
          1,
          2,
          1,
          1,
          2,
          2,
          1,
          1,
          2,
          2,
          2,
          1,
          2,
          2,
          2,
          2,
          1,
          2,
          2,
          1,
          2,
          1,
          2,
          2,
          1,
          1,
          2,
          2,
          2,
          1,
          1,
          2,
          1,
          1,
          2,
          1,
          2,
          1,
          2,
          1,
          2,
          1,
          2,
          1
         ],
         "x0": " ",
         "xaxis": "x",
         "y": [
          1000,
          1300,
          1850,
          1100,
          2200,
          1000,
          1700,
          1100,
          1600,
          1700,
          1200,
          1500,
          2300,
          1300,
          1800,
          1150,
          1000,
          1130,
          1450,
          1900,
          1350,
          1590,
          850,
          999,
          750,
          550,
          2200,
          1190,
          1300,
          1250,
          1000,
          2300,
          2400,
          1300,
          1350,
          900,
          1550,
          1600,
          1700,
          1880,
          1200,
          1550,
          1800,
          2000,
          1600,
          2000,
          1500,
          800,
          1500,
          1390,
          1900,
          1199,
          1300,
          1090,
          1950,
          999,
          990,
          1290,
          1550,
          1500,
          1900,
          2100,
          1600,
          1290,
          1400,
          1100,
          790,
          2550,
          1400,
          1450,
          1300,
          1350,
          1050,
          1500,
          1650,
          1300,
          900,
          1050,
          1050,
          1500,
          1500,
          1200,
          2000,
          1300,
          2100,
          2500,
          1500,
          1500,
          1200,
          1750,
          1550,
          2100,
          1250,
          2200,
          1399,
          1490,
          1800,
          2850,
          1300,
          1350,
          1600,
          1890,
          1500,
          1800,
          2100,
          2100,
          2000,
          1300,
          1350,
          2200,
          1380,
          1100,
          1300,
          1150,
          1500,
          1300,
          2100,
          1350,
          1100,
          2550,
          1250,
          1850,
          1900,
          800,
          1400,
          1400,
          1300,
          1490,
          1650,
          1650,
          1700,
          1800,
          1400,
          2250,
          980,
          1800,
          1850,
          1090,
          2400,
          1400,
          2000,
          1200,
          900,
          650,
          1090,
          1900,
          2100,
          1500,
          2100,
          900,
          2200,
          1950,
          2950,
          1400,
          2850,
          1900,
          1200,
          990,
          1600,
          2100,
          1250,
          1300,
          460,
          1300,
          2000,
          1500,
          1850,
          1999,
          1300,
          1600,
          1900,
          1000,
          1999,
          1300,
          1900,
          1300,
          890,
          1500,
          2599,
          1850,
          1300,
          1100,
          1300,
          2500,
          2950,
          1400,
          1900,
          800,
          1600,
          970,
          1300,
          1700,
          1800,
          1500,
          1300,
          1600,
          1950,
          1150,
          1600,
          1100,
          1200,
          1250,
          1900,
          1700,
          1300,
          1550,
          1399,
          1450,
          1200,
          2000,
          1900,
          800,
          1700,
          1150,
          2200,
          1350,
          1880,
          1800,
          900,
          1800,
          1600,
          1600,
          990,
          1500,
          999,
          2300,
          1800,
          1700,
          1800,
          2000,
          1300,
          2250,
          1250,
          1380,
          1400,
          1900,
          1850,
          1400,
          1000,
          1000,
          1100,
          1400,
          1590,
          1190,
          1290,
          1090,
          1450,
          1900,
          1550,
          1199,
          1900,
          2200,
          650,
          1500,
          1700,
          900,
          1850,
          1650,
          1800,
          1300,
          1790,
          1490,
          1800,
          1200,
          2300,
          1190,
          1200,
          1650,
          999,
          1650,
          1800,
          2000,
          1000,
          1390,
          1200,
          2000,
          2000,
          1050,
          1450,
          1200,
          1200,
          1550,
          1550,
          2500,
          900,
          1600,
          1800,
          1350,
          1200,
          1600,
          1100,
          1200,
          1700,
          1650,
          1950,
          1800,
          1500,
          1200,
          2000,
          900,
          650,
          650,
          650,
          650,
          1099,
          1150,
          950,
          800,
          1150,
          950,
          849,
          700,
          2200,
          900,
          1150,
          1000,
          1200,
          1950,
          1999,
          2599,
          1150,
          1050,
          1250,
          1350,
          1700,
          1500,
          3000,
          1800,
          1800,
          2000,
          1400,
          2100,
          2100,
          1600,
          2300,
          990,
          1850,
          1750,
          1200,
          2000,
          1900,
          800,
          1850,
          1950,
          1800,
          1800,
          1500,
          850,
          2000,
          980,
          950,
          1199,
          1250,
          1250,
          1800,
          2100,
          900,
          1000,
          1600,
          1300,
          1700,
          1250,
          1250,
          1500,
          900,
          2200,
          1300,
          1000,
          1200,
          1100,
          1050,
          1600,
          1650,
          1000,
          1650,
          800,
          1200,
          1650,
          650,
          1950,
          1000,
          1350,
          1300,
          1850,
          319,
          1700,
          1600,
          2000,
          2150,
          2150,
          2100,
          1950,
          1950,
          1400,
          850,
          1600,
          1190,
          1300,
          1600,
          2250,
          1900,
          1000,
          1300,
          1750,
          1600,
          700,
          1090,
          1350,
          1500,
          1590,
          1300,
          1600,
          2300,
          1400,
          2000,
          2200,
          1000,
          1400,
          1400,
          1500,
          1050,
          1490,
          800,
          1050,
          1050,
          1000,
          1550,
          800,
          1800,
          1200,
          1750,
          1300,
          1600,
          1000,
          2000,
          2100,
          1500,
          1650,
          1800,
          1650,
          1500,
          1200,
          1000,
          1400,
          1700,
          1550,
          1500,
          1600,
          1800,
          2850,
          1230,
          1200,
          2000,
          1350,
          1600,
          999,
          1399,
          1750,
          2000,
          1850,
          1700,
          1000,
          1000,
          2240,
          1500,
          800,
          1500,
          1900,
          1850,
          2200,
          1200,
          1390,
          1200,
          550,
          2250,
          1800,
          1800,
          1900,
          1750,
          1150,
          1350,
          800,
          1000,
          1000,
          1100,
          800,
          1200,
          800,
          950,
          800,
          1265,
          1300,
          1000,
          2200,
          1950,
          1700,
          1500,
          1800,
          1000,
          3000,
          1250,
          1950,
          1490,
          1600,
          950,
          950,
          1100,
          2500,
          900,
          700,
          700,
          1400,
          1150,
          1300,
          999,
          2400,
          1200,
          900,
          800,
          1750,
          1490,
          1200,
          1000,
          1000,
          1000,
          1250,
          1300,
          1800,
          1600,
          1300,
          1400,
          1100,
          1250,
          1100,
          1800,
          1700,
          1950,
          1850,
          1100,
          790,
          750,
          1600,
          1200,
          950,
          1500,
          2000,
          1600,
          1100,
          1000,
          1800,
          1500,
          1750,
          2300,
          1600,
          1300,
          1480,
          1500,
          1450,
          1700,
          2100,
          1500,
          1100,
          1050,
          1800,
          1100,
          2200,
          1000,
          1800,
          2400,
          1800,
          2200,
          1490,
          1600,
          590,
          690,
          690,
          1250,
          1750,
          1600,
          1300,
          1600,
          2300,
          890,
          950,
          2100,
          1850,
          1700,
          1800,
          2000,
          1500,
          2300,
          2100,
          1400,
          920,
          790,
          1350,
          1600,
          950,
          1300,
          1000,
          1590,
          2200,
          2650,
          1100,
          2250,
          2150,
          2000,
          1500,
          1900,
          1090,
          1700,
          1500,
          1500,
          1880,
          271,
          1250,
          2000,
          1350,
          1600,
          1000,
          1800,
          1950,
          1980,
          700,
          1900,
          1200,
          1150,
          1390,
          1650,
          1200,
          1400,
          1600,
          800,
          1150,
          1800,
          1850,
          1300,
          1550,
          1300,
          1650,
          1600,
          650,
          1500,
          1500,
          1794,
          1800,
          1500,
          1700,
          800,
          1200,
          1200,
          1600,
          900,
          1600,
          900,
          1490,
          1450,
          1350,
          967,
          390,
          1550,
          2950,
          1850,
          390,
          1500,
          1599,
          1300,
          1500,
          1200,
          1600,
          1100,
          1980,
          1500,
          2000,
          1000,
          1980,
          1100,
          1290,
          1300,
          800,
          1250,
          800,
          1150,
          1300,
          1400,
          1300,
          2200,
          1850,
          1200,
          1200,
          700,
          550,
          1300,
          1200,
          2000,
          1000,
          1150,
          1200,
          1200,
          1200,
          1200,
          1200,
          1600,
          1000,
          1350,
          750,
          550,
          1650,
          1200,
          1300,
          940,
          2200,
          1850,
          1700,
          900,
          1500,
          800,
          1299,
          1100,
          990,
          1090,
          1000,
          900,
          2000,
          1000,
          1050,
          1500,
          1950,
          2300,
          1499,
          1500,
          800,
          1750,
          1100,
          1100,
          2300,
          550,
          1500,
          1500,
          1500,
          1350,
          1790,
          1200,
          900,
          1750,
          1100,
          1400,
          1400,
          1000,
          1500,
          390,
          390,
          1100,
          1200,
          1600,
          1200,
          1200,
          1250,
          1800,
          1200,
          1200,
          1200,
          1700,
          1600,
          1000,
          1400,
          1350,
          1300,
          1299,
          1100,
          1727,
          1499,
          1100,
          1300,
          950,
          1500,
          1800,
          1500,
          1000,
          1700,
          2200,
          1600,
          1600,
          1200,
          1200,
          1150,
          1350,
          2300,
          1200,
          1400,
          1100,
          1200,
          1200,
          1200,
          900,
          1200,
          1400
         ],
         "y0": " ",
         "yaxis": "y"
        },
        {
         "alignmentgroup": "True",
         "hovertemplate": "miasto=Bielsko-Biała<br>pokoje=%{x}<br>cena=%{y}<extra></extra>",
         "legendgroup": "Bielsko-Biała",
         "marker": {
          "color": "#EF553B"
         },
         "name": "Bielsko-Biała",
         "notched": false,
         "offsetgroup": "Bielsko-Biała",
         "orientation": "v",
         "showlegend": true,
         "type": "box",
         "x": [
          1,
          2,
          1,
          1,
          1,
          2,
          2,
          3,
          2,
          3,
          1,
          2,
          2,
          2,
          3,
          2,
          1,
          2,
          1,
          2,
          2,
          1,
          2,
          2,
          1,
          1,
          2,
          2,
          2,
          1,
          1,
          2,
          2,
          2,
          2,
          2,
          2,
          1,
          2,
          2,
          2,
          1,
          1,
          2,
          2,
          1,
          2,
          1,
          2,
          2,
          1,
          2,
          1,
          3,
          2,
          1,
          1,
          2,
          2,
          2,
          1,
          1,
          1,
          1,
          2,
          2,
          2,
          2,
          3,
          2,
          2,
          1,
          2,
          1,
          1,
          2,
          1,
          1,
          2,
          1,
          2,
          1,
          2,
          2,
          3,
          2,
          2,
          2,
          1,
          2,
          1,
          2,
          1,
          2,
          2,
          2,
          1,
          1,
          2,
          2,
          2,
          2,
          2,
          1,
          1,
          1,
          3,
          1,
          1
         ],
         "x0": " ",
         "xaxis": "x",
         "y": [
          1650,
          1600,
          1500,
          750,
          1250,
          1100,
          1150,
          1000,
          1200,
          2600,
          1100,
          1500,
          1600,
          1800,
          1600,
          2300,
          1500,
          1800,
          1150,
          1650,
          1799,
          1100,
          2490,
          1700,
          1300,
          1300,
          1450,
          1850,
          1800,
          1100,
          1000,
          1650,
          1800,
          1350,
          1490,
          1799,
          1800,
          1400,
          1550,
          1150,
          1800,
          1250,
          1155,
          1550,
          1650,
          1650,
          1750,
          980,
          1300,
          1490,
          1350,
          1800,
          1500,
          1600,
          2000,
          700,
          1450,
          1100,
          1300,
          1800,
          1300,
          1500,
          1500,
          900,
          1500,
          1750,
          2490,
          1800,
          1600,
          1200,
          1799,
          1600,
          1700,
          1800,
          1500,
          1000,
          1000,
          1250,
          2000,
          1100,
          1200,
          1100,
          1100,
          1400,
          1390,
          1490,
          1900,
          1700,
          1650,
          1800,
          1200,
          1300,
          1300,
          1700,
          1700,
          1650,
          1600,
          1199,
          1200,
          1400,
          1400,
          1400,
          1900,
          1250,
          980,
          1190,
          1300,
          1000,
          750
         ],
         "y0": " ",
         "yaxis": "y"
        },
        {
         "alignmentgroup": "True",
         "hovertemplate": "miasto=Tychy<br>pokoje=%{x}<br>cena=%{y}<extra></extra>",
         "legendgroup": "Tychy",
         "marker": {
          "color": "#00cc96"
         },
         "name": "Tychy",
         "notched": false,
         "offsetgroup": "Tychy",
         "orientation": "v",
         "showlegend": true,
         "type": "box",
         "x": [
          1,
          1,
          2,
          2,
          2,
          2,
          2,
          2,
          2,
          2,
          1,
          2,
          2,
          2,
          2,
          2,
          2,
          2,
          1,
          2,
          2,
          2,
          2,
          1,
          1,
          2,
          2,
          2,
          2,
          2,
          2,
          2,
          3,
          2,
          2,
          2,
          2,
          2,
          1,
          2,
          2,
          2,
          2,
          1,
          2,
          2,
          2,
          2,
          1,
          2,
          2,
          2,
          1,
          2,
          1
         ],
         "x0": " ",
         "xaxis": "x",
         "y": [
          1300,
          800,
          2200,
          1590,
          1400,
          1600,
          2000,
          1200,
          1800,
          1500,
          1480,
          1450,
          1500,
          1600,
          2000,
          2200,
          1200,
          1200,
          1400,
          1700,
          1500,
          1600,
          1700,
          1400,
          1375,
          1500,
          2000,
          2200,
          1400,
          1650,
          2000,
          1450,
          500,
          2000,
          1800,
          1550,
          3000,
          1550,
          1300,
          1500,
          1690,
          2000,
          1500,
          1400,
          1500,
          1450,
          1550,
          1500,
          1200,
          1500,
          1450,
          2000,
          1590,
          1700,
          1200
         ],
         "y0": " ",
         "yaxis": "y"
        }
       ],
       "layout": {
        "boxmode": "group",
        "legend": {
         "title": {
          "text": "miasto"
         },
         "tracegroupgap": 0
        },
        "template": {
         "data": {
          "bar": [
           {
            "error_x": {
             "color": "#2a3f5f"
            },
            "error_y": {
             "color": "#2a3f5f"
            },
            "marker": {
             "line": {
              "color": "#E5ECF6",
              "width": 0.5
             }
            },
            "type": "bar"
           }
          ],
          "barpolar": [
           {
            "marker": {
             "line": {
              "color": "#E5ECF6",
              "width": 0.5
             }
            },
            "type": "barpolar"
           }
          ],
          "carpet": [
           {
            "aaxis": {
             "endlinecolor": "#2a3f5f",
             "gridcolor": "white",
             "linecolor": "white",
             "minorgridcolor": "white",
             "startlinecolor": "#2a3f5f"
            },
            "baxis": {
             "endlinecolor": "#2a3f5f",
             "gridcolor": "white",
             "linecolor": "white",
             "minorgridcolor": "white",
             "startlinecolor": "#2a3f5f"
            },
            "type": "carpet"
           }
          ],
          "choropleth": [
           {
            "colorbar": {
             "outlinewidth": 0,
             "ticks": ""
            },
            "type": "choropleth"
           }
          ],
          "contour": [
           {
            "colorbar": {
             "outlinewidth": 0,
             "ticks": ""
            },
            "colorscale": [
             [
              0,
              "#0d0887"
             ],
             [
              0.1111111111111111,
              "#46039f"
             ],
             [
              0.2222222222222222,
              "#7201a8"
             ],
             [
              0.3333333333333333,
              "#9c179e"
             ],
             [
              0.4444444444444444,
              "#bd3786"
             ],
             [
              0.5555555555555556,
              "#d8576b"
             ],
             [
              0.6666666666666666,
              "#ed7953"
             ],
             [
              0.7777777777777778,
              "#fb9f3a"
             ],
             [
              0.8888888888888888,
              "#fdca26"
             ],
             [
              1,
              "#f0f921"
             ]
            ],
            "type": "contour"
           }
          ],
          "contourcarpet": [
           {
            "colorbar": {
             "outlinewidth": 0,
             "ticks": ""
            },
            "type": "contourcarpet"
           }
          ],
          "heatmap": [
           {
            "colorbar": {
             "outlinewidth": 0,
             "ticks": ""
            },
            "colorscale": [
             [
              0,
              "#0d0887"
             ],
             [
              0.1111111111111111,
              "#46039f"
             ],
             [
              0.2222222222222222,
              "#7201a8"
             ],
             [
              0.3333333333333333,
              "#9c179e"
             ],
             [
              0.4444444444444444,
              "#bd3786"
             ],
             [
              0.5555555555555556,
              "#d8576b"
             ],
             [
              0.6666666666666666,
              "#ed7953"
             ],
             [
              0.7777777777777778,
              "#fb9f3a"
             ],
             [
              0.8888888888888888,
              "#fdca26"
             ],
             [
              1,
              "#f0f921"
             ]
            ],
            "type": "heatmap"
           }
          ],
          "heatmapgl": [
           {
            "colorbar": {
             "outlinewidth": 0,
             "ticks": ""
            },
            "colorscale": [
             [
              0,
              "#0d0887"
             ],
             [
              0.1111111111111111,
              "#46039f"
             ],
             [
              0.2222222222222222,
              "#7201a8"
             ],
             [
              0.3333333333333333,
              "#9c179e"
             ],
             [
              0.4444444444444444,
              "#bd3786"
             ],
             [
              0.5555555555555556,
              "#d8576b"
             ],
             [
              0.6666666666666666,
              "#ed7953"
             ],
             [
              0.7777777777777778,
              "#fb9f3a"
             ],
             [
              0.8888888888888888,
              "#fdca26"
             ],
             [
              1,
              "#f0f921"
             ]
            ],
            "type": "heatmapgl"
           }
          ],
          "histogram": [
           {
            "marker": {
             "colorbar": {
              "outlinewidth": 0,
              "ticks": ""
             }
            },
            "type": "histogram"
           }
          ],
          "histogram2d": [
           {
            "colorbar": {
             "outlinewidth": 0,
             "ticks": ""
            },
            "colorscale": [
             [
              0,
              "#0d0887"
             ],
             [
              0.1111111111111111,
              "#46039f"
             ],
             [
              0.2222222222222222,
              "#7201a8"
             ],
             [
              0.3333333333333333,
              "#9c179e"
             ],
             [
              0.4444444444444444,
              "#bd3786"
             ],
             [
              0.5555555555555556,
              "#d8576b"
             ],
             [
              0.6666666666666666,
              "#ed7953"
             ],
             [
              0.7777777777777778,
              "#fb9f3a"
             ],
             [
              0.8888888888888888,
              "#fdca26"
             ],
             [
              1,
              "#f0f921"
             ]
            ],
            "type": "histogram2d"
           }
          ],
          "histogram2dcontour": [
           {
            "colorbar": {
             "outlinewidth": 0,
             "ticks": ""
            },
            "colorscale": [
             [
              0,
              "#0d0887"
             ],
             [
              0.1111111111111111,
              "#46039f"
             ],
             [
              0.2222222222222222,
              "#7201a8"
             ],
             [
              0.3333333333333333,
              "#9c179e"
             ],
             [
              0.4444444444444444,
              "#bd3786"
             ],
             [
              0.5555555555555556,
              "#d8576b"
             ],
             [
              0.6666666666666666,
              "#ed7953"
             ],
             [
              0.7777777777777778,
              "#fb9f3a"
             ],
             [
              0.8888888888888888,
              "#fdca26"
             ],
             [
              1,
              "#f0f921"
             ]
            ],
            "type": "histogram2dcontour"
           }
          ],
          "mesh3d": [
           {
            "colorbar": {
             "outlinewidth": 0,
             "ticks": ""
            },
            "type": "mesh3d"
           }
          ],
          "parcoords": [
           {
            "line": {
             "colorbar": {
              "outlinewidth": 0,
              "ticks": ""
             }
            },
            "type": "parcoords"
           }
          ],
          "pie": [
           {
            "automargin": true,
            "type": "pie"
           }
          ],
          "scatter": [
           {
            "marker": {
             "colorbar": {
              "outlinewidth": 0,
              "ticks": ""
             }
            },
            "type": "scatter"
           }
          ],
          "scatter3d": [
           {
            "line": {
             "colorbar": {
              "outlinewidth": 0,
              "ticks": ""
             }
            },
            "marker": {
             "colorbar": {
              "outlinewidth": 0,
              "ticks": ""
             }
            },
            "type": "scatter3d"
           }
          ],
          "scattercarpet": [
           {
            "marker": {
             "colorbar": {
              "outlinewidth": 0,
              "ticks": ""
             }
            },
            "type": "scattercarpet"
           }
          ],
          "scattergeo": [
           {
            "marker": {
             "colorbar": {
              "outlinewidth": 0,
              "ticks": ""
             }
            },
            "type": "scattergeo"
           }
          ],
          "scattergl": [
           {
            "marker": {
             "colorbar": {
              "outlinewidth": 0,
              "ticks": ""
             }
            },
            "type": "scattergl"
           }
          ],
          "scattermapbox": [
           {
            "marker": {
             "colorbar": {
              "outlinewidth": 0,
              "ticks": ""
             }
            },
            "type": "scattermapbox"
           }
          ],
          "scatterpolar": [
           {
            "marker": {
             "colorbar": {
              "outlinewidth": 0,
              "ticks": ""
             }
            },
            "type": "scatterpolar"
           }
          ],
          "scatterpolargl": [
           {
            "marker": {
             "colorbar": {
              "outlinewidth": 0,
              "ticks": ""
             }
            },
            "type": "scatterpolargl"
           }
          ],
          "scatterternary": [
           {
            "marker": {
             "colorbar": {
              "outlinewidth": 0,
              "ticks": ""
             }
            },
            "type": "scatterternary"
           }
          ],
          "surface": [
           {
            "colorbar": {
             "outlinewidth": 0,
             "ticks": ""
            },
            "colorscale": [
             [
              0,
              "#0d0887"
             ],
             [
              0.1111111111111111,
              "#46039f"
             ],
             [
              0.2222222222222222,
              "#7201a8"
             ],
             [
              0.3333333333333333,
              "#9c179e"
             ],
             [
              0.4444444444444444,
              "#bd3786"
             ],
             [
              0.5555555555555556,
              "#d8576b"
             ],
             [
              0.6666666666666666,
              "#ed7953"
             ],
             [
              0.7777777777777778,
              "#fb9f3a"
             ],
             [
              0.8888888888888888,
              "#fdca26"
             ],
             [
              1,
              "#f0f921"
             ]
            ],
            "type": "surface"
           }
          ],
          "table": [
           {
            "cells": {
             "fill": {
              "color": "#EBF0F8"
             },
             "line": {
              "color": "white"
             }
            },
            "header": {
             "fill": {
              "color": "#C8D4E3"
             },
             "line": {
              "color": "white"
             }
            },
            "type": "table"
           }
          ]
         },
         "layout": {
          "annotationdefaults": {
           "arrowcolor": "#2a3f5f",
           "arrowhead": 0,
           "arrowwidth": 1
          },
          "autotypenumbers": "strict",
          "coloraxis": {
           "colorbar": {
            "outlinewidth": 0,
            "ticks": ""
           }
          },
          "colorscale": {
           "diverging": [
            [
             0,
             "#8e0152"
            ],
            [
             0.1,
             "#c51b7d"
            ],
            [
             0.2,
             "#de77ae"
            ],
            [
             0.3,
             "#f1b6da"
            ],
            [
             0.4,
             "#fde0ef"
            ],
            [
             0.5,
             "#f7f7f7"
            ],
            [
             0.6,
             "#e6f5d0"
            ],
            [
             0.7,
             "#b8e186"
            ],
            [
             0.8,
             "#7fbc41"
            ],
            [
             0.9,
             "#4d9221"
            ],
            [
             1,
             "#276419"
            ]
           ],
           "sequential": [
            [
             0,
             "#0d0887"
            ],
            [
             0.1111111111111111,
             "#46039f"
            ],
            [
             0.2222222222222222,
             "#7201a8"
            ],
            [
             0.3333333333333333,
             "#9c179e"
            ],
            [
             0.4444444444444444,
             "#bd3786"
            ],
            [
             0.5555555555555556,
             "#d8576b"
            ],
            [
             0.6666666666666666,
             "#ed7953"
            ],
            [
             0.7777777777777778,
             "#fb9f3a"
            ],
            [
             0.8888888888888888,
             "#fdca26"
            ],
            [
             1,
             "#f0f921"
            ]
           ],
           "sequentialminus": [
            [
             0,
             "#0d0887"
            ],
            [
             0.1111111111111111,
             "#46039f"
            ],
            [
             0.2222222222222222,
             "#7201a8"
            ],
            [
             0.3333333333333333,
             "#9c179e"
            ],
            [
             0.4444444444444444,
             "#bd3786"
            ],
            [
             0.5555555555555556,
             "#d8576b"
            ],
            [
             0.6666666666666666,
             "#ed7953"
            ],
            [
             0.7777777777777778,
             "#fb9f3a"
            ],
            [
             0.8888888888888888,
             "#fdca26"
            ],
            [
             1,
             "#f0f921"
            ]
           ]
          },
          "colorway": [
           "#636efa",
           "#EF553B",
           "#00cc96",
           "#ab63fa",
           "#FFA15A",
           "#19d3f3",
           "#FF6692",
           "#B6E880",
           "#FF97FF",
           "#FECB52"
          ],
          "font": {
           "color": "#2a3f5f"
          },
          "geo": {
           "bgcolor": "white",
           "lakecolor": "white",
           "landcolor": "#E5ECF6",
           "showlakes": true,
           "showland": true,
           "subunitcolor": "white"
          },
          "hoverlabel": {
           "align": "left"
          },
          "hovermode": "closest",
          "mapbox": {
           "style": "light"
          },
          "paper_bgcolor": "white",
          "plot_bgcolor": "#E5ECF6",
          "polar": {
           "angularaxis": {
            "gridcolor": "white",
            "linecolor": "white",
            "ticks": ""
           },
           "bgcolor": "#E5ECF6",
           "radialaxis": {
            "gridcolor": "white",
            "linecolor": "white",
            "ticks": ""
           }
          },
          "scene": {
           "xaxis": {
            "backgroundcolor": "#E5ECF6",
            "gridcolor": "white",
            "gridwidth": 2,
            "linecolor": "white",
            "showbackground": true,
            "ticks": "",
            "zerolinecolor": "white"
           },
           "yaxis": {
            "backgroundcolor": "#E5ECF6",
            "gridcolor": "white",
            "gridwidth": 2,
            "linecolor": "white",
            "showbackground": true,
            "ticks": "",
            "zerolinecolor": "white"
           },
           "zaxis": {
            "backgroundcolor": "#E5ECF6",
            "gridcolor": "white",
            "gridwidth": 2,
            "linecolor": "white",
            "showbackground": true,
            "ticks": "",
            "zerolinecolor": "white"
           }
          },
          "shapedefaults": {
           "line": {
            "color": "#2a3f5f"
           }
          },
          "ternary": {
           "aaxis": {
            "gridcolor": "white",
            "linecolor": "white",
            "ticks": ""
           },
           "baxis": {
            "gridcolor": "white",
            "linecolor": "white",
            "ticks": ""
           },
           "bgcolor": "#E5ECF6",
           "caxis": {
            "gridcolor": "white",
            "linecolor": "white",
            "ticks": ""
           }
          },
          "title": {
           "x": 0.05
          },
          "xaxis": {
           "automargin": true,
           "gridcolor": "white",
           "linecolor": "white",
           "ticks": "",
           "title": {
            "standoff": 15
           },
           "zerolinecolor": "white",
           "zerolinewidth": 2
          },
          "yaxis": {
           "automargin": true,
           "gridcolor": "white",
           "linecolor": "white",
           "ticks": "",
           "title": {
            "standoff": 15
           },
           "zerolinecolor": "white",
           "zerolinewidth": 2
          }
         }
        },
        "title": {
         "text": "Rozrzut cenowy ofert (wg l.pokojów)"
        },
        "xaxis": {
         "anchor": "y",
         "domain": [
          0,
          1
         ],
         "title": {
          "text": "pokoje"
         }
        },
        "yaxis": {
         "anchor": "x",
         "domain": [
          0,
          1
         ],
         "title": {
          "text": "cena"
         }
        }
       }
      },
      "text/html": [
       "<div>                            <div id=\"ed600f09-d95b-48bd-906d-aadc31ee786d\" class=\"plotly-graph-div\" style=\"height:525px; width:100%;\"></div>            <script type=\"text/javascript\">                require([\"plotly\"], function(Plotly) {                    window.PLOTLYENV=window.PLOTLYENV || {};                                    if (document.getElementById(\"ed600f09-d95b-48bd-906d-aadc31ee786d\")) {                    Plotly.newPlot(                        \"ed600f09-d95b-48bd-906d-aadc31ee786d\",                        [{\"alignmentgroup\": \"True\", \"hovertemplate\": \"miasto=Katowice<br>pokoje=%{x}<br>cena=%{y}<extra></extra>\", \"legendgroup\": \"Katowice\", \"marker\": {\"color\": \"#636efa\"}, \"name\": \"Katowice\", \"notched\": false, \"offsetgroup\": \"Katowice\", \"orientation\": \"v\", \"showlegend\": true, \"type\": \"box\", \"x\": [2, 2, 2, 2, 2, 2, 2, 1, 2, 2, 1, 2, 2, 1, 2, 1, 1, 1, 2, 2, 2, 2, 1, 1, 1, 1, 2, 1, 2, 2, 1, 2, 2, 1, 1, 1, 2, 2, 2, 2, 1, 2, 2, 2, 1, 1, 1, 2, 1, 2, 2, 1, 2, 1, 2, 1, 1, 2, 2, 2, 1, 2, 2, 2, 2, 2, 1, 2, 1, 2, 1, 1, 1, 2, 2, 1, 2, 1, 1, 2, 2, 2, 2, 1, 2, 2, 2, 2, 2, 2, 2, 2, 1, 2, 2, 2, 2, 2, 2, 1, 1, 2, 2, 2, 2, 2, 2, 2, 1, 2, 1, 2, 2, 1, 2, 1, 2, 2, 1, 2, 1, 2, 2, 2, 1, 3, 2, 1, 2, 2, 2, 2, 2, 2, 2, 2, 2, 2, 3, 2, 2, 2, 1, 1, 1, 2, 2, 2, 2, 1, 2, 2, 2, 2, 2, 2, 2, 2, 1, 2, 2, 2, 1, 2, 1, 2, 2, 3, 2, 1, 2, 2, 2, 2, 3, 2, 1, 1, 2, 3, 1, 1, 1, 2, 2, 2, 2, 1, 2, 1, 2, 2, 2, 2, 2, 2, 2, 1, 2, 1, 1, 1, 1, 2, 2, 2, 2, 1, 2, 2, 2, 1, 2, 1, 2, 1, 2, 2, 2, 2, 2, 2, 1, 1, 1, 2, 2, 2, 2, 2, 2, 2, 1, 1, 1, 2, 2, 2, 2, 2, 2, 2, 2, 2, 2, 1, 1, 2, 2, 1, 2, 2, 1, 2, 3, 1, 2, 2, 2, 2, 2, 1, 2, 1, 2, 1, 1, 2, 1, 2, 2, 2, 2, 2, 2, 2, 2, 1, 2, 2, 2, 2, 2, 3, 1, 2, 2, 1, 3, 2, 1, 1, 2, 2, 2, 2, 2, 1, 2, 1, 1, 1, 1, 1, 1, 1, 1, 1, 2, 1, 2, 1, 3, 1, 1, 1, 1, 1, 3, 2, 1, 2, 1, 1, 2, 2, 2, 2, 2, 2, 2, 3, 1, 1, 1, 2, 2, 2, 1, 2, 2, 2, 2, 1, 2, 2, 2, 1, 2, 1, 1, 1, 2, 1, 2, 2, 1, 1, 2, 1, 2, 1, 1, 1, 1, 3, 2, 2, 1, 1, 1, 2, 2, 2, 2, 1, 1, 2, 2, 1, 1, 1, 2, 2, 1, 2, 2, 2, 2, 2, 2, 2, 2, 2, 1, 3, 1, 2, 1, 2, 2, 2, 1, 2, 2, 1, 2, 1, 2, 2, 1, 1, 2, 1, 2, 2, 1, 2, 2, 1, 1, 1, 1, 2, 2, 2, 2, 2, 2, 2, 2, 2, 1, 1, 2, 2, 1, 2, 2, 2, 2, 1, 1, 1, 2, 2, 2, 1, 2, 2, 1, 1, 2, 1, 2, 2, 1, 2, 2, 2, 2, 1, 2, 2, 2, 1, 3, 2, 2, 2, 2, 2, 1, 1, 2, 2, 2, 2, 2, 2, 1, 1, 1, 1, 2, 1, 1, 1, 1, 1, 1, 1, 2, 2, 2, 2, 2, 1, 2, 2, 2, 2, 2, 2, 1, 1, 1, 2, 1, 1, 1, 1, 1, 1, 1, 2, 1, 1, 2, 2, 2, 2, 1, 1, 2, 1, 1, 2, 2, 2, 2, 1, 1, 2, 2, 2, 1, 2, 1, 1, 1, 2, 2, 1, 2, 2, 2, 1, 1, 2, 2, 2, 3, 2, 2, 2, 2, 1, 2, 2, 2, 1, 1, 2, 2, 2, 1, 2, 2, 3, 2, 2, 2, 1, 1, 1, 1, 2, 2, 1, 3, 2, 1, 1, 2, 2, 2, 2, 2, 2, 2, 2, 3, 2, 1, 1, 1, 1, 2, 1, 2, 2, 2, 1, 2, 2, 2, 2, 2, 1, 2, 1, 1, 2, 1, 1, 2, 2, 2, 2, 2, 2, 2, 1, 3, 1, 1, 2, 2, 1, 2, 2, 1, 1, 2, 2, 1, 2, 2, 2, 2, 1, 1, 1, 2, 2, 1, 2, 1, 2, 2, 2, 1, 2, 1, 2, 2, 1, 1, 1, 2, 2, 2, 1, 1, 2, 1, 1, 1, 2, 1, 2, 2, 2, 1, 2, 1, 2, 1, 1, 1, 1, 1, 1, 1, 1, 2, 2, 1, 1, 1, 1, 1, 1, 2, 1, 2, 2, 1, 1, 1, 1, 2, 1, 2, 1, 1, 2, 2, 2, 1, 2, 2, 2, 1, 1, 1, 1, 1, 1, 1, 1, 1, 2, 1, 1, 1, 2, 3, 1, 2, 1, 1, 1, 1, 2, 1, 2, 1, 1, 1, 2, 1, 1, 2, 1, 1, 1, 2, 3, 1, 1, 2, 1, 2, 1, 1, 2, 2, 1, 1, 2, 2, 2, 1, 2, 2, 2, 2, 1, 2, 2, 1, 2, 1, 2, 2, 1, 1, 2, 2, 2, 1, 1, 2, 1, 1, 2, 1, 2, 1, 2, 1, 2, 1, 2, 1], \"x0\": \" \", \"xaxis\": \"x\", \"y\": [1000, 1300, 1850, 1100, 2200, 1000, 1700, 1100, 1600, 1700, 1200, 1500, 2300, 1300, 1800, 1150, 1000, 1130, 1450, 1900, 1350, 1590, 850, 999, 750, 550, 2200, 1190, 1300, 1250, 1000, 2300, 2400, 1300, 1350, 900, 1550, 1600, 1700, 1880, 1200, 1550, 1800, 2000, 1600, 2000, 1500, 800, 1500, 1390, 1900, 1199, 1300, 1090, 1950, 999, 990, 1290, 1550, 1500, 1900, 2100, 1600, 1290, 1400, 1100, 790, 2550, 1400, 1450, 1300, 1350, 1050, 1500, 1650, 1300, 900, 1050, 1050, 1500, 1500, 1200, 2000, 1300, 2100, 2500, 1500, 1500, 1200, 1750, 1550, 2100, 1250, 2200, 1399, 1490, 1800, 2850, 1300, 1350, 1600, 1890, 1500, 1800, 2100, 2100, 2000, 1300, 1350, 2200, 1380, 1100, 1300, 1150, 1500, 1300, 2100, 1350, 1100, 2550, 1250, 1850, 1900, 800, 1400, 1400, 1300, 1490, 1650, 1650, 1700, 1800, 1400, 2250, 980, 1800, 1850, 1090, 2400, 1400, 2000, 1200, 900, 650, 1090, 1900, 2100, 1500, 2100, 900, 2200, 1950, 2950, 1400, 2850, 1900, 1200, 990, 1600, 2100, 1250, 1300, 460, 1300, 2000, 1500, 1850, 1999, 1300, 1600, 1900, 1000, 1999, 1300, 1900, 1300, 890, 1500, 2599, 1850, 1300, 1100, 1300, 2500, 2950, 1400, 1900, 800, 1600, 970, 1300, 1700, 1800, 1500, 1300, 1600, 1950, 1150, 1600, 1100, 1200, 1250, 1900, 1700, 1300, 1550, 1399, 1450, 1200, 2000, 1900, 800, 1700, 1150, 2200, 1350, 1880, 1800, 900, 1800, 1600, 1600, 990, 1500, 999, 2300, 1800, 1700, 1800, 2000, 1300, 2250, 1250, 1380, 1400, 1900, 1850, 1400, 1000, 1000, 1100, 1400, 1590, 1190, 1290, 1090, 1450, 1900, 1550, 1199, 1900, 2200, 650, 1500, 1700, 900, 1850, 1650, 1800, 1300, 1790, 1490, 1800, 1200, 2300, 1190, 1200, 1650, 999, 1650, 1800, 2000, 1000, 1390, 1200, 2000, 2000, 1050, 1450, 1200, 1200, 1550, 1550, 2500, 900, 1600, 1800, 1350, 1200, 1600, 1100, 1200, 1700, 1650, 1950, 1800, 1500, 1200, 2000, 900, 650, 650, 650, 650, 1099, 1150, 950, 800, 1150, 950, 849, 700, 2200, 900, 1150, 1000, 1200, 1950, 1999, 2599, 1150, 1050, 1250, 1350, 1700, 1500, 3000, 1800, 1800, 2000, 1400, 2100, 2100, 1600, 2300, 990, 1850, 1750, 1200, 2000, 1900, 800, 1850, 1950, 1800, 1800, 1500, 850, 2000, 980, 950, 1199, 1250, 1250, 1800, 2100, 900, 1000, 1600, 1300, 1700, 1250, 1250, 1500, 900, 2200, 1300, 1000, 1200, 1100, 1050, 1600, 1650, 1000, 1650, 800, 1200, 1650, 650, 1950, 1000, 1350, 1300, 1850, 319, 1700, 1600, 2000, 2150, 2150, 2100, 1950, 1950, 1400, 850, 1600, 1190, 1300, 1600, 2250, 1900, 1000, 1300, 1750, 1600, 700, 1090, 1350, 1500, 1590, 1300, 1600, 2300, 1400, 2000, 2200, 1000, 1400, 1400, 1500, 1050, 1490, 800, 1050, 1050, 1000, 1550, 800, 1800, 1200, 1750, 1300, 1600, 1000, 2000, 2100, 1500, 1650, 1800, 1650, 1500, 1200, 1000, 1400, 1700, 1550, 1500, 1600, 1800, 2850, 1230, 1200, 2000, 1350, 1600, 999, 1399, 1750, 2000, 1850, 1700, 1000, 1000, 2240, 1500, 800, 1500, 1900, 1850, 2200, 1200, 1390, 1200, 550, 2250, 1800, 1800, 1900, 1750, 1150, 1350, 800, 1000, 1000, 1100, 800, 1200, 800, 950, 800, 1265, 1300, 1000, 2200, 1950, 1700, 1500, 1800, 1000, 3000, 1250, 1950, 1490, 1600, 950, 950, 1100, 2500, 900, 700, 700, 1400, 1150, 1300, 999, 2400, 1200, 900, 800, 1750, 1490, 1200, 1000, 1000, 1000, 1250, 1300, 1800, 1600, 1300, 1400, 1100, 1250, 1100, 1800, 1700, 1950, 1850, 1100, 790, 750, 1600, 1200, 950, 1500, 2000, 1600, 1100, 1000, 1800, 1500, 1750, 2300, 1600, 1300, 1480, 1500, 1450, 1700, 2100, 1500, 1100, 1050, 1800, 1100, 2200, 1000, 1800, 2400, 1800, 2200, 1490, 1600, 590, 690, 690, 1250, 1750, 1600, 1300, 1600, 2300, 890, 950, 2100, 1850, 1700, 1800, 2000, 1500, 2300, 2100, 1400, 920, 790, 1350, 1600, 950, 1300, 1000, 1590, 2200, 2650, 1100, 2250, 2150, 2000, 1500, 1900, 1090, 1700, 1500, 1500, 1880, 271, 1250, 2000, 1350, 1600, 1000, 1800, 1950, 1980, 700, 1900, 1200, 1150, 1390, 1650, 1200, 1400, 1600, 800, 1150, 1800, 1850, 1300, 1550, 1300, 1650, 1600, 650, 1500, 1500, 1794, 1800, 1500, 1700, 800, 1200, 1200, 1600, 900, 1600, 900, 1490, 1450, 1350, 967, 390, 1550, 2950, 1850, 390, 1500, 1599, 1300, 1500, 1200, 1600, 1100, 1980, 1500, 2000, 1000, 1980, 1100, 1290, 1300, 800, 1250, 800, 1150, 1300, 1400, 1300, 2200, 1850, 1200, 1200, 700, 550, 1300, 1200, 2000, 1000, 1150, 1200, 1200, 1200, 1200, 1200, 1600, 1000, 1350, 750, 550, 1650, 1200, 1300, 940, 2200, 1850, 1700, 900, 1500, 800, 1299, 1100, 990, 1090, 1000, 900, 2000, 1000, 1050, 1500, 1950, 2300, 1499, 1500, 800, 1750, 1100, 1100, 2300, 550, 1500, 1500, 1500, 1350, 1790, 1200, 900, 1750, 1100, 1400, 1400, 1000, 1500, 390, 390, 1100, 1200, 1600, 1200, 1200, 1250, 1800, 1200, 1200, 1200, 1700, 1600, 1000, 1400, 1350, 1300, 1299, 1100, 1727, 1499, 1100, 1300, 950, 1500, 1800, 1500, 1000, 1700, 2200, 1600, 1600, 1200, 1200, 1150, 1350, 2300, 1200, 1400, 1100, 1200, 1200, 1200, 900, 1200, 1400], \"y0\": \" \", \"yaxis\": \"y\"}, {\"alignmentgroup\": \"True\", \"hovertemplate\": \"miasto=Bielsko-Bia\\u0142a<br>pokoje=%{x}<br>cena=%{y}<extra></extra>\", \"legendgroup\": \"Bielsko-Bia\\u0142a\", \"marker\": {\"color\": \"#EF553B\"}, \"name\": \"Bielsko-Bia\\u0142a\", \"notched\": false, \"offsetgroup\": \"Bielsko-Bia\\u0142a\", \"orientation\": \"v\", \"showlegend\": true, \"type\": \"box\", \"x\": [1, 2, 1, 1, 1, 2, 2, 3, 2, 3, 1, 2, 2, 2, 3, 2, 1, 2, 1, 2, 2, 1, 2, 2, 1, 1, 2, 2, 2, 1, 1, 2, 2, 2, 2, 2, 2, 1, 2, 2, 2, 1, 1, 2, 2, 1, 2, 1, 2, 2, 1, 2, 1, 3, 2, 1, 1, 2, 2, 2, 1, 1, 1, 1, 2, 2, 2, 2, 3, 2, 2, 1, 2, 1, 1, 2, 1, 1, 2, 1, 2, 1, 2, 2, 3, 2, 2, 2, 1, 2, 1, 2, 1, 2, 2, 2, 1, 1, 2, 2, 2, 2, 2, 1, 1, 1, 3, 1, 1], \"x0\": \" \", \"xaxis\": \"x\", \"y\": [1650, 1600, 1500, 750, 1250, 1100, 1150, 1000, 1200, 2600, 1100, 1500, 1600, 1800, 1600, 2300, 1500, 1800, 1150, 1650, 1799, 1100, 2490, 1700, 1300, 1300, 1450, 1850, 1800, 1100, 1000, 1650, 1800, 1350, 1490, 1799, 1800, 1400, 1550, 1150, 1800, 1250, 1155, 1550, 1650, 1650, 1750, 980, 1300, 1490, 1350, 1800, 1500, 1600, 2000, 700, 1450, 1100, 1300, 1800, 1300, 1500, 1500, 900, 1500, 1750, 2490, 1800, 1600, 1200, 1799, 1600, 1700, 1800, 1500, 1000, 1000, 1250, 2000, 1100, 1200, 1100, 1100, 1400, 1390, 1490, 1900, 1700, 1650, 1800, 1200, 1300, 1300, 1700, 1700, 1650, 1600, 1199, 1200, 1400, 1400, 1400, 1900, 1250, 980, 1190, 1300, 1000, 750], \"y0\": \" \", \"yaxis\": \"y\"}, {\"alignmentgroup\": \"True\", \"hovertemplate\": \"miasto=Tychy<br>pokoje=%{x}<br>cena=%{y}<extra></extra>\", \"legendgroup\": \"Tychy\", \"marker\": {\"color\": \"#00cc96\"}, \"name\": \"Tychy\", \"notched\": false, \"offsetgroup\": \"Tychy\", \"orientation\": \"v\", \"showlegend\": true, \"type\": \"box\", \"x\": [1, 1, 2, 2, 2, 2, 2, 2, 2, 2, 1, 2, 2, 2, 2, 2, 2, 2, 1, 2, 2, 2, 2, 1, 1, 2, 2, 2, 2, 2, 2, 2, 3, 2, 2, 2, 2, 2, 1, 2, 2, 2, 2, 1, 2, 2, 2, 2, 1, 2, 2, 2, 1, 2, 1], \"x0\": \" \", \"xaxis\": \"x\", \"y\": [1300, 800, 2200, 1590, 1400, 1600, 2000, 1200, 1800, 1500, 1480, 1450, 1500, 1600, 2000, 2200, 1200, 1200, 1400, 1700, 1500, 1600, 1700, 1400, 1375, 1500, 2000, 2200, 1400, 1650, 2000, 1450, 500, 2000, 1800, 1550, 3000, 1550, 1300, 1500, 1690, 2000, 1500, 1400, 1500, 1450, 1550, 1500, 1200, 1500, 1450, 2000, 1590, 1700, 1200], \"y0\": \" \", \"yaxis\": \"y\"}],                        {\"boxmode\": \"group\", \"legend\": {\"title\": {\"text\": \"miasto\"}, \"tracegroupgap\": 0}, \"template\": {\"data\": {\"bar\": [{\"error_x\": {\"color\": \"#2a3f5f\"}, \"error_y\": {\"color\": \"#2a3f5f\"}, \"marker\": {\"line\": {\"color\": \"#E5ECF6\", \"width\": 0.5}}, \"type\": \"bar\"}], \"barpolar\": [{\"marker\": {\"line\": {\"color\": \"#E5ECF6\", \"width\": 0.5}}, \"type\": \"barpolar\"}], \"carpet\": [{\"aaxis\": {\"endlinecolor\": \"#2a3f5f\", \"gridcolor\": \"white\", \"linecolor\": \"white\", \"minorgridcolor\": \"white\", \"startlinecolor\": \"#2a3f5f\"}, \"baxis\": {\"endlinecolor\": \"#2a3f5f\", \"gridcolor\": \"white\", \"linecolor\": \"white\", \"minorgridcolor\": \"white\", \"startlinecolor\": \"#2a3f5f\"}, \"type\": \"carpet\"}], \"choropleth\": [{\"colorbar\": {\"outlinewidth\": 0, \"ticks\": \"\"}, \"type\": \"choropleth\"}], \"contour\": [{\"colorbar\": {\"outlinewidth\": 0, \"ticks\": \"\"}, \"colorscale\": [[0.0, \"#0d0887\"], [0.1111111111111111, \"#46039f\"], [0.2222222222222222, \"#7201a8\"], [0.3333333333333333, \"#9c179e\"], [0.4444444444444444, \"#bd3786\"], [0.5555555555555556, \"#d8576b\"], [0.6666666666666666, \"#ed7953\"], [0.7777777777777778, \"#fb9f3a\"], [0.8888888888888888, \"#fdca26\"], [1.0, \"#f0f921\"]], \"type\": \"contour\"}], \"contourcarpet\": [{\"colorbar\": {\"outlinewidth\": 0, \"ticks\": \"\"}, \"type\": \"contourcarpet\"}], \"heatmap\": [{\"colorbar\": {\"outlinewidth\": 0, \"ticks\": \"\"}, \"colorscale\": [[0.0, \"#0d0887\"], [0.1111111111111111, \"#46039f\"], [0.2222222222222222, \"#7201a8\"], [0.3333333333333333, \"#9c179e\"], [0.4444444444444444, \"#bd3786\"], [0.5555555555555556, \"#d8576b\"], [0.6666666666666666, \"#ed7953\"], [0.7777777777777778, \"#fb9f3a\"], [0.8888888888888888, \"#fdca26\"], [1.0, \"#f0f921\"]], \"type\": \"heatmap\"}], \"heatmapgl\": [{\"colorbar\": {\"outlinewidth\": 0, \"ticks\": \"\"}, \"colorscale\": [[0.0, \"#0d0887\"], [0.1111111111111111, \"#46039f\"], [0.2222222222222222, \"#7201a8\"], [0.3333333333333333, \"#9c179e\"], [0.4444444444444444, \"#bd3786\"], [0.5555555555555556, \"#d8576b\"], [0.6666666666666666, \"#ed7953\"], [0.7777777777777778, \"#fb9f3a\"], [0.8888888888888888, \"#fdca26\"], [1.0, \"#f0f921\"]], \"type\": \"heatmapgl\"}], \"histogram\": [{\"marker\": {\"colorbar\": {\"outlinewidth\": 0, \"ticks\": \"\"}}, \"type\": \"histogram\"}], \"histogram2d\": [{\"colorbar\": {\"outlinewidth\": 0, \"ticks\": \"\"}, \"colorscale\": [[0.0, \"#0d0887\"], [0.1111111111111111, \"#46039f\"], [0.2222222222222222, \"#7201a8\"], [0.3333333333333333, \"#9c179e\"], [0.4444444444444444, \"#bd3786\"], [0.5555555555555556, \"#d8576b\"], [0.6666666666666666, \"#ed7953\"], [0.7777777777777778, \"#fb9f3a\"], [0.8888888888888888, \"#fdca26\"], [1.0, \"#f0f921\"]], \"type\": \"histogram2d\"}], \"histogram2dcontour\": [{\"colorbar\": {\"outlinewidth\": 0, \"ticks\": \"\"}, \"colorscale\": [[0.0, \"#0d0887\"], [0.1111111111111111, \"#46039f\"], [0.2222222222222222, \"#7201a8\"], [0.3333333333333333, \"#9c179e\"], [0.4444444444444444, \"#bd3786\"], [0.5555555555555556, \"#d8576b\"], [0.6666666666666666, \"#ed7953\"], [0.7777777777777778, \"#fb9f3a\"], [0.8888888888888888, \"#fdca26\"], [1.0, \"#f0f921\"]], \"type\": \"histogram2dcontour\"}], \"mesh3d\": [{\"colorbar\": {\"outlinewidth\": 0, \"ticks\": \"\"}, \"type\": \"mesh3d\"}], \"parcoords\": [{\"line\": {\"colorbar\": {\"outlinewidth\": 0, \"ticks\": \"\"}}, \"type\": \"parcoords\"}], \"pie\": [{\"automargin\": true, \"type\": \"pie\"}], \"scatter\": [{\"marker\": {\"colorbar\": {\"outlinewidth\": 0, \"ticks\": \"\"}}, \"type\": \"scatter\"}], \"scatter3d\": [{\"line\": {\"colorbar\": {\"outlinewidth\": 0, \"ticks\": \"\"}}, \"marker\": {\"colorbar\": {\"outlinewidth\": 0, \"ticks\": \"\"}}, \"type\": \"scatter3d\"}], \"scattercarpet\": [{\"marker\": {\"colorbar\": {\"outlinewidth\": 0, \"ticks\": \"\"}}, \"type\": \"scattercarpet\"}], \"scattergeo\": [{\"marker\": {\"colorbar\": {\"outlinewidth\": 0, \"ticks\": \"\"}}, \"type\": \"scattergeo\"}], \"scattergl\": [{\"marker\": {\"colorbar\": {\"outlinewidth\": 0, \"ticks\": \"\"}}, \"type\": \"scattergl\"}], \"scattermapbox\": [{\"marker\": {\"colorbar\": {\"outlinewidth\": 0, \"ticks\": \"\"}}, \"type\": \"scattermapbox\"}], \"scatterpolar\": [{\"marker\": {\"colorbar\": {\"outlinewidth\": 0, \"ticks\": \"\"}}, \"type\": \"scatterpolar\"}], \"scatterpolargl\": [{\"marker\": {\"colorbar\": {\"outlinewidth\": 0, \"ticks\": \"\"}}, \"type\": \"scatterpolargl\"}], \"scatterternary\": [{\"marker\": {\"colorbar\": {\"outlinewidth\": 0, \"ticks\": \"\"}}, \"type\": \"scatterternary\"}], \"surface\": [{\"colorbar\": {\"outlinewidth\": 0, \"ticks\": \"\"}, \"colorscale\": [[0.0, \"#0d0887\"], [0.1111111111111111, \"#46039f\"], [0.2222222222222222, \"#7201a8\"], [0.3333333333333333, \"#9c179e\"], [0.4444444444444444, \"#bd3786\"], [0.5555555555555556, \"#d8576b\"], [0.6666666666666666, \"#ed7953\"], [0.7777777777777778, \"#fb9f3a\"], [0.8888888888888888, \"#fdca26\"], [1.0, \"#f0f921\"]], \"type\": \"surface\"}], \"table\": [{\"cells\": {\"fill\": {\"color\": \"#EBF0F8\"}, \"line\": {\"color\": \"white\"}}, \"header\": {\"fill\": {\"color\": \"#C8D4E3\"}, \"line\": {\"color\": \"white\"}}, \"type\": \"table\"}]}, \"layout\": {\"annotationdefaults\": {\"arrowcolor\": \"#2a3f5f\", \"arrowhead\": 0, \"arrowwidth\": 1}, \"autotypenumbers\": \"strict\", \"coloraxis\": {\"colorbar\": {\"outlinewidth\": 0, \"ticks\": \"\"}}, \"colorscale\": {\"diverging\": [[0, \"#8e0152\"], [0.1, \"#c51b7d\"], [0.2, \"#de77ae\"], [0.3, \"#f1b6da\"], [0.4, \"#fde0ef\"], [0.5, \"#f7f7f7\"], [0.6, \"#e6f5d0\"], [0.7, \"#b8e186\"], [0.8, \"#7fbc41\"], [0.9, \"#4d9221\"], [1, \"#276419\"]], \"sequential\": [[0.0, \"#0d0887\"], [0.1111111111111111, \"#46039f\"], [0.2222222222222222, \"#7201a8\"], [0.3333333333333333, \"#9c179e\"], [0.4444444444444444, \"#bd3786\"], [0.5555555555555556, \"#d8576b\"], [0.6666666666666666, \"#ed7953\"], [0.7777777777777778, \"#fb9f3a\"], [0.8888888888888888, \"#fdca26\"], [1.0, \"#f0f921\"]], \"sequentialminus\": [[0.0, \"#0d0887\"], [0.1111111111111111, \"#46039f\"], [0.2222222222222222, \"#7201a8\"], [0.3333333333333333, \"#9c179e\"], [0.4444444444444444, \"#bd3786\"], [0.5555555555555556, \"#d8576b\"], [0.6666666666666666, \"#ed7953\"], [0.7777777777777778, \"#fb9f3a\"], [0.8888888888888888, \"#fdca26\"], [1.0, \"#f0f921\"]]}, \"colorway\": [\"#636efa\", \"#EF553B\", \"#00cc96\", \"#ab63fa\", \"#FFA15A\", \"#19d3f3\", \"#FF6692\", \"#B6E880\", \"#FF97FF\", \"#FECB52\"], \"font\": {\"color\": \"#2a3f5f\"}, \"geo\": {\"bgcolor\": \"white\", \"lakecolor\": \"white\", \"landcolor\": \"#E5ECF6\", \"showlakes\": true, \"showland\": true, \"subunitcolor\": \"white\"}, \"hoverlabel\": {\"align\": \"left\"}, \"hovermode\": \"closest\", \"mapbox\": {\"style\": \"light\"}, \"paper_bgcolor\": \"white\", \"plot_bgcolor\": \"#E5ECF6\", \"polar\": {\"angularaxis\": {\"gridcolor\": \"white\", \"linecolor\": \"white\", \"ticks\": \"\"}, \"bgcolor\": \"#E5ECF6\", \"radialaxis\": {\"gridcolor\": \"white\", \"linecolor\": \"white\", \"ticks\": \"\"}}, \"scene\": {\"xaxis\": {\"backgroundcolor\": \"#E5ECF6\", \"gridcolor\": \"white\", \"gridwidth\": 2, \"linecolor\": \"white\", \"showbackground\": true, \"ticks\": \"\", \"zerolinecolor\": \"white\"}, \"yaxis\": {\"backgroundcolor\": \"#E5ECF6\", \"gridcolor\": \"white\", \"gridwidth\": 2, \"linecolor\": \"white\", \"showbackground\": true, \"ticks\": \"\", \"zerolinecolor\": \"white\"}, \"zaxis\": {\"backgroundcolor\": \"#E5ECF6\", \"gridcolor\": \"white\", \"gridwidth\": 2, \"linecolor\": \"white\", \"showbackground\": true, \"ticks\": \"\", \"zerolinecolor\": \"white\"}}, \"shapedefaults\": {\"line\": {\"color\": \"#2a3f5f\"}}, \"ternary\": {\"aaxis\": {\"gridcolor\": \"white\", \"linecolor\": \"white\", \"ticks\": \"\"}, \"baxis\": {\"gridcolor\": \"white\", \"linecolor\": \"white\", \"ticks\": \"\"}, \"bgcolor\": \"#E5ECF6\", \"caxis\": {\"gridcolor\": \"white\", \"linecolor\": \"white\", \"ticks\": \"\"}}, \"title\": {\"x\": 0.05}, \"xaxis\": {\"automargin\": true, \"gridcolor\": \"white\", \"linecolor\": \"white\", \"ticks\": \"\", \"title\": {\"standoff\": 15}, \"zerolinecolor\": \"white\", \"zerolinewidth\": 2}, \"yaxis\": {\"automargin\": true, \"gridcolor\": \"white\", \"linecolor\": \"white\", \"ticks\": \"\", \"title\": {\"standoff\": 15}, \"zerolinecolor\": \"white\", \"zerolinewidth\": 2}}}, \"title\": {\"text\": \"Rozrzut cenowy ofert (wg l.pokoj\\u00f3w)\"}, \"xaxis\": {\"anchor\": \"y\", \"domain\": [0.0, 1.0], \"title\": {\"text\": \"pokoje\"}}, \"yaxis\": {\"anchor\": \"x\", \"domain\": [0.0, 1.0], \"title\": {\"text\": \"cena\"}}},                        {\"responsive\": true}                    ).then(function(){\n",
       "                            \n",
       "var gd = document.getElementById('ed600f09-d95b-48bd-906d-aadc31ee786d');\n",
       "var x = new MutationObserver(function (mutations, observer) {{\n",
       "        var display = window.getComputedStyle(gd).display;\n",
       "        if (!display || display === 'none') {{\n",
       "            console.log([gd, 'removed!']);\n",
       "            Plotly.purge(gd);\n",
       "            observer.disconnect();\n",
       "        }}\n",
       "}});\n",
       "\n",
       "// Listen for the removal of the full notebook cells\n",
       "var notebookContainer = gd.closest('#notebook-container');\n",
       "if (notebookContainer) {{\n",
       "    x.observe(notebookContainer, {childList: true});\n",
       "}}\n",
       "\n",
       "// Listen for the clearing of the current output cell\n",
       "var outputEl = gd.closest('.output');\n",
       "if (outputEl) {{\n",
       "    x.observe(outputEl, {childList: true});\n",
       "}}\n",
       "\n",
       "                        })                };                });            </script>        </div>"
      ]
     },
     "metadata": {},
     "output_type": "display_data"
    }
   ],
   "source": [
    "cena_pokoje_box = px.box(tabela,\n",
    "                                y = 'cena',\n",
    "                                x = 'pokoje',\n",
    "                                color = 'miasto',\n",
    "                                title = 'Rozrzut cenowy ofert (wg l.pokojów)')\n",
    "\n",
    "cena_pokoje_box"
   ]
  },
  {
   "cell_type": "code",
   "execution_count": 122,
   "metadata": {},
   "outputs": [
    {
     "data": {
      "application/vnd.plotly.v1+json": {
       "config": {
        "plotlyServerURL": "https://plot.ly"
       },
       "data": [
        {
         "alignmentgroup": "True",
         "hovertemplate": "miasto=Katowice<br>pokoje=%{x}<br>suma_oplat=%{y}<extra></extra>",
         "legendgroup": "Katowice",
         "marker": {
          "color": "#636efa"
         },
         "name": "Katowice",
         "notched": false,
         "offsetgroup": "Katowice",
         "orientation": "v",
         "showlegend": true,
         "type": "box",
         "x": [
          2,
          2,
          2,
          2,
          2,
          2,
          2,
          1,
          2,
          2,
          1,
          2,
          2,
          1,
          2,
          1,
          1,
          1,
          2,
          2,
          2,
          2,
          1,
          1,
          1,
          1,
          2,
          1,
          2,
          2,
          1,
          2,
          2,
          1,
          1,
          1,
          2,
          2,
          2,
          2,
          1,
          2,
          2,
          2,
          1,
          1,
          1,
          2,
          1,
          2,
          2,
          1,
          2,
          1,
          2,
          1,
          1,
          2,
          2,
          2,
          1,
          2,
          2,
          2,
          2,
          2,
          1,
          2,
          1,
          2,
          1,
          1,
          1,
          2,
          2,
          1,
          2,
          1,
          1,
          2,
          2,
          2,
          2,
          1,
          2,
          2,
          2,
          2,
          2,
          2,
          2,
          2,
          1,
          2,
          2,
          2,
          2,
          2,
          2,
          1,
          1,
          2,
          2,
          2,
          2,
          2,
          2,
          2,
          1,
          2,
          1,
          2,
          2,
          1,
          2,
          1,
          2,
          2,
          1,
          2,
          1,
          2,
          2,
          2,
          1,
          3,
          2,
          1,
          2,
          2,
          2,
          2,
          2,
          2,
          2,
          2,
          2,
          2,
          3,
          2,
          2,
          2,
          1,
          1,
          1,
          2,
          2,
          2,
          2,
          1,
          2,
          2,
          2,
          2,
          2,
          2,
          2,
          2,
          1,
          2,
          2,
          2,
          1,
          2,
          1,
          2,
          2,
          3,
          2,
          1,
          2,
          2,
          2,
          2,
          3,
          2,
          1,
          1,
          2,
          3,
          1,
          1,
          1,
          2,
          2,
          2,
          2,
          1,
          2,
          1,
          2,
          2,
          2,
          2,
          2,
          2,
          2,
          1,
          2,
          1,
          1,
          1,
          1,
          2,
          2,
          2,
          2,
          1,
          2,
          2,
          2,
          1,
          2,
          1,
          2,
          1,
          2,
          2,
          2,
          2,
          2,
          2,
          1,
          1,
          1,
          2,
          2,
          2,
          2,
          2,
          2,
          2,
          1,
          1,
          1,
          2,
          2,
          2,
          2,
          2,
          2,
          2,
          2,
          2,
          2,
          1,
          1,
          2,
          2,
          1,
          2,
          2,
          1,
          2,
          3,
          1,
          2,
          2,
          2,
          2,
          2,
          1,
          2,
          1,
          2,
          1,
          1,
          2,
          1,
          2,
          2,
          2,
          2,
          2,
          2,
          2,
          2,
          1,
          2,
          2,
          2,
          2,
          2,
          3,
          1,
          2,
          2,
          1,
          3,
          2,
          1,
          1,
          2,
          2,
          2,
          2,
          2,
          1,
          2,
          1,
          1,
          1,
          1,
          1,
          1,
          1,
          1,
          1,
          2,
          1,
          2,
          1,
          3,
          1,
          1,
          1,
          1,
          1,
          3,
          2,
          1,
          2,
          1,
          1,
          2,
          2,
          2,
          2,
          2,
          2,
          2,
          3,
          1,
          1,
          1,
          2,
          2,
          2,
          1,
          2,
          2,
          2,
          2,
          1,
          2,
          2,
          2,
          1,
          2,
          1,
          1,
          1,
          2,
          1,
          2,
          2,
          1,
          1,
          2,
          1,
          2,
          1,
          1,
          1,
          1,
          3,
          2,
          2,
          1,
          1,
          1,
          2,
          2,
          2,
          2,
          1,
          1,
          2,
          2,
          1,
          1,
          1,
          2,
          2,
          1,
          2,
          2,
          2,
          2,
          2,
          2,
          2,
          2,
          2,
          1,
          3,
          1,
          2,
          1,
          2,
          2,
          2,
          1,
          2,
          2,
          1,
          2,
          1,
          2,
          2,
          1,
          1,
          2,
          1,
          2,
          2,
          1,
          2,
          2,
          1,
          1,
          1,
          1,
          2,
          2,
          2,
          2,
          2,
          2,
          2,
          2,
          2,
          1,
          1,
          2,
          2,
          1,
          2,
          2,
          2,
          2,
          1,
          1,
          1,
          2,
          2,
          2,
          1,
          2,
          2,
          1,
          1,
          2,
          1,
          2,
          2,
          1,
          2,
          2,
          2,
          2,
          1,
          2,
          2,
          2,
          1,
          3,
          2,
          2,
          2,
          2,
          2,
          1,
          1,
          2,
          2,
          2,
          2,
          2,
          2,
          1,
          1,
          1,
          1,
          2,
          1,
          1,
          1,
          1,
          1,
          1,
          1,
          2,
          2,
          2,
          2,
          2,
          1,
          2,
          2,
          2,
          2,
          2,
          2,
          1,
          1,
          1,
          2,
          1,
          1,
          1,
          1,
          1,
          1,
          1,
          2,
          1,
          1,
          2,
          2,
          2,
          2,
          1,
          1,
          2,
          1,
          1,
          2,
          2,
          2,
          2,
          1,
          1,
          2,
          2,
          2,
          1,
          2,
          1,
          1,
          1,
          2,
          2,
          1,
          2,
          2,
          2,
          1,
          1,
          2,
          2,
          2,
          3,
          2,
          2,
          2,
          2,
          1,
          2,
          2,
          2,
          1,
          1,
          2,
          2,
          2,
          1,
          2,
          2,
          3,
          2,
          2,
          2,
          1,
          1,
          1,
          1,
          2,
          2,
          1,
          3,
          2,
          1,
          1,
          2,
          2,
          2,
          2,
          2,
          2,
          2,
          2,
          3,
          2,
          1,
          1,
          1,
          1,
          2,
          1,
          2,
          2,
          2,
          1,
          2,
          2,
          2,
          2,
          2,
          1,
          2,
          1,
          1,
          2,
          1,
          1,
          2,
          2,
          2,
          2,
          2,
          2,
          2,
          1,
          3,
          1,
          1,
          2,
          2,
          1,
          2,
          2,
          1,
          1,
          2,
          2,
          1,
          2,
          2,
          2,
          2,
          1,
          1,
          1,
          2,
          2,
          1,
          2,
          1,
          2,
          2,
          2,
          1,
          2,
          1,
          2,
          2,
          1,
          1,
          1,
          2,
          2,
          2,
          1,
          1,
          2,
          1,
          1,
          1,
          2,
          1,
          2,
          2,
          2,
          1,
          2,
          1,
          2,
          1,
          1,
          1,
          1,
          1,
          1,
          1,
          1,
          2,
          2,
          1,
          1,
          1,
          1,
          1,
          1,
          2,
          1,
          2,
          2,
          1,
          1,
          1,
          1,
          2,
          1,
          2,
          1,
          1,
          2,
          2,
          2,
          1,
          2,
          2,
          2,
          1,
          1,
          1,
          1,
          1,
          1,
          1,
          1,
          1,
          2,
          1,
          1,
          1,
          2,
          3,
          1,
          2,
          1,
          1,
          1,
          1,
          2,
          1,
          2,
          1,
          1,
          1,
          2,
          1,
          1,
          2,
          1,
          1,
          1,
          2,
          3,
          1,
          1,
          2,
          1,
          2,
          1,
          1,
          2,
          2,
          1,
          1,
          2,
          2,
          2,
          1,
          2,
          2,
          2,
          2,
          1,
          2,
          2,
          1,
          2,
          1,
          2,
          2,
          1,
          1,
          2,
          2,
          2,
          1,
          1,
          2,
          1,
          1,
          2,
          1,
          2,
          1,
          2,
          1,
          2,
          1,
          2,
          1
         ],
         "x0": " ",
         "xaxis": "x",
         "y": [
          1430,
          1661,
          1850,
          1100,
          2660,
          1020,
          1700,
          1400,
          1900,
          2200,
          1200,
          2000,
          2300,
          1300,
          1800,
          1150,
          1000,
          1130,
          1450,
          2200,
          1800,
          1887,
          850,
          1149,
          750,
          550,
          2201,
          1290,
          1550,
          1673,
          1306,
          2700,
          2714,
          1300,
          1351,
          900,
          1900,
          1600,
          1700,
          2280,
          1200,
          1640,
          1800,
          2500,
          2050,
          2220,
          1750,
          1500,
          1800,
          1690,
          1900,
          1199,
          1900,
          1090,
          2230,
          1299,
          990,
          1290,
          1640,
          1501,
          2080,
          2100,
          1600,
          1690,
          1750,
          1100,
          790,
          2550,
          1400,
          1850,
          1300,
          1351,
          1050,
          1780,
          1910,
          1500,
          900,
          1050,
          1050,
          1800,
          1500,
          1550,
          2000,
          1300,
          2100,
          3000,
          1700,
          1500,
          1600,
          2100,
          1550,
          2500,
          1500,
          2200,
          1899,
          2024,
          1800,
          2900,
          1300,
          1350,
          1600,
          1890,
          1500,
          2100,
          2500,
          2100,
          2000,
          1300,
          1350,
          2430,
          1380,
          1300,
          1650,
          1150,
          1500,
          1300,
          2100,
          1800,
          1300,
          2550,
          1500,
          2135,
          1900,
          800,
          1400,
          1400,
          1300,
          1740,
          1650,
          1900,
          2200,
          2200,
          1700,
          2250,
          1530,
          2230,
          2050,
          1490,
          2575,
          1700,
          2650,
          1200,
          900,
          650,
          1242,
          2006,
          2100,
          1500,
          2100,
          1000,
          2200,
          2400,
          2970,
          1800,
          2900,
          2200,
          1750,
          991,
          2050,
          2500,
          1251,
          1300,
          460,
          1300,
          2450,
          1780,
          1851,
          1999,
          1661,
          1900,
          1900,
          1530,
          2336,
          1300,
          2120,
          1780,
          891,
          1700,
          2600,
          1851,
          1300,
          1250,
          1300,
          3000,
          2970,
          1400,
          2200,
          800,
          1600,
          970,
          1300,
          1850,
          1801,
          1501,
          2000,
          1600,
          2240,
          1600,
          1601,
          1460,
          1200,
          1250,
          2080,
          1880,
          1790,
          1640,
          1899,
          1450,
          1570,
          2000,
          2250,
          1180,
          1950,
          1150,
          2200,
          1350,
          2280,
          2050,
          1550,
          2050,
          1600,
          1690,
          1370,
          1500,
          999,
          2300,
          1800,
          2200,
          1800,
          2650,
          1300,
          2720,
          1630,
          1780,
          1890,
          1900,
          2135,
          1800,
          1300,
          1300,
          1400,
          2000,
          1887,
          1190,
          1290,
          1090,
          1451,
          1900,
          1900,
          1199,
          1900,
          2200,
          950,
          1500,
          1700,
          1050,
          1850,
          1650,
          1800,
          1644,
          1790,
          1490,
          1800,
          1200,
          2300,
          1191,
          1500,
          1650,
          1099,
          1650,
          2280,
          2001,
          1020,
          1690,
          1750,
          2480,
          2000,
          1050,
          1450,
          1460,
          1200,
          2000,
          2000,
          2600,
          900,
          1600,
          1800,
          1350,
          1600,
          1600,
          1100,
          1200,
          1700,
          1650,
          2240,
          1800,
          1900,
          1300,
          2200,
          1200,
          650,
          650,
          650,
          650,
          1199,
          1250,
          950,
          800,
          1646,
          950,
          849,
          700,
          2500,
          1105,
          1150,
          1000,
          1200,
          2135,
          1999,
          2600,
          1600,
          1350,
          1250,
          1350,
          2050,
          1500,
          3170,
          1800,
          1800,
          2000,
          1400,
          2100,
          2100,
          1600,
          2300,
          990,
          1850,
          1750,
          1201,
          2001,
          1900,
          1500,
          1850,
          2135,
          1800,
          2150,
          1500,
          850,
          2470,
          980,
          950,
          1199,
          1250,
          1251,
          1800,
          2100,
          900,
          1001,
          1600,
          1300,
          1700,
          1500,
          1630,
          1500,
          1000,
          2200,
          1420,
          1400,
          1200,
          1100,
          1050,
          1960,
          1650,
          1485,
          1650,
          800,
          1500,
          1650,
          1010,
          1950,
          1000,
          1350,
          1780,
          1850,
          319,
          1700,
          1600,
          2480,
          2150,
          2150,
          2100,
          1950,
          1950,
          1900,
          850,
          1600,
          1190,
          1760,
          1600,
          2250,
          2300,
          1568,
          1300,
          1750,
          1600,
          900,
          1490,
          1350,
          1500,
          1590,
          1300,
          1900,
          2300,
          1840,
          2000,
          2500,
          1260,
          1800,
          1400,
          1501,
          1050,
          1734,
          912,
          1400,
          1400,
          1430,
          1900,
          1500,
          2050,
          1200,
          1750,
          1300,
          1600,
          1000,
          2001,
          2550,
          1501,
          1651,
          2160,
          1650,
          1500,
          1200,
          1000,
          1400,
          1700,
          1550,
          1500,
          1600,
          1800,
          2900,
          1230,
          1200,
          2000,
          1350,
          1600,
          999,
          1399,
          1750,
          2000,
          1850,
          1700,
          1150,
          1370,
          2240,
          1500,
          800,
          1500,
          1900,
          2040,
          2550,
          1200,
          1690,
          1200,
          730,
          2560,
          2200,
          1800,
          1900,
          1750,
          1150,
          1350,
          800,
          1180,
          1150,
          1101,
          800,
          1200,
          800,
          950,
          800,
          1265,
          1300,
          1020,
          2200,
          2400,
          2070,
          1860,
          1800,
          1000,
          3000,
          1250,
          1950,
          1490,
          1601,
          1300,
          1300,
          1100,
          2500,
          900,
          700,
          700,
          1400,
          1150,
          1300,
          1149,
          2714,
          1200,
          900,
          800,
          1980,
          1990,
          1200,
          1000,
          1000,
          1000,
          1250,
          1700,
          1800,
          1600,
          1300,
          1800,
          1100,
          1250,
          1100,
          1800,
          2200,
          2135,
          1850,
          1101,
          790,
          750,
          1600,
          1200,
          950,
          1500,
          2000,
          1850,
          1100,
          1000,
          1800,
          1500,
          1980,
          2300,
          1600,
          1300,
          1480,
          1500,
          1450,
          1700,
          2100,
          1700,
          1400,
          1050,
          1800,
          1540,
          2200,
          1000,
          2100,
          2400,
          2100,
          2200,
          2040,
          1600,
          590,
          690,
          690,
          1250,
          1750,
          1900,
          1300,
          1600,
          2300,
          890,
          950,
          2100,
          1851,
          1880,
          1920,
          2120,
          1500,
          2300,
          2100,
          1401,
          920,
          790,
          1350,
          1600,
          950,
          1750,
          1000,
          2116,
          2200,
          2650,
          1100,
          2250,
          2150,
          2500,
          1500,
          1900,
          1090,
          1700,
          1750,
          1800,
          2280,
          271,
          1250,
          2000,
          1350,
          1600,
          1600,
          1800,
          1950,
          1980,
          700,
          1900,
          1200,
          1150,
          1390,
          1650,
          1200,
          1400,
          1600,
          800,
          1150,
          1800,
          1850,
          1300,
          1640,
          1644,
          1650,
          1600,
          650,
          1650,
          1650,
          1794,
          1800,
          1500,
          1700,
          1100,
          1200,
          1200,
          1600,
          900,
          1601,
          900,
          1490,
          1450,
          1350,
          967,
          390,
          1900,
          2970,
          1850,
          390,
          1500,
          1599,
          1300,
          1500,
          1200,
          1600,
          1100,
          1980,
          1500,
          2001,
          1000,
          1980,
          1100,
          1290,
          1300,
          980,
          1250,
          1600,
          1350,
          1300,
          1400,
          1300,
          2660,
          2050,
          1200,
          1200,
          700,
          730,
          1300,
          1200,
          2000,
          1000,
          1150,
          1200,
          1200,
          1200,
          1200,
          1200,
          1600,
          1000,
          1350,
          750,
          550,
          1650,
          1800,
          1300,
          940,
          2200,
          1851,
          1700,
          1200,
          1500,
          800,
          1299,
          1100,
          990,
          1242,
          1001,
          901,
          2000,
          1001,
          1050,
          1500,
          1950,
          2300,
          1699,
          1500,
          800,
          1750,
          1100,
          1100,
          2300,
          730,
          1500,
          1500,
          1500,
          1350,
          2490,
          1200,
          900,
          1750,
          1100,
          1400,
          1400,
          1000,
          1500,
          390,
          390,
          1100,
          1200,
          1600,
          1200,
          1200,
          1673,
          1800,
          1500,
          1200,
          1400,
          1700,
          1600,
          1000,
          1400,
          1350,
          1300,
          1399,
          1400,
          1727,
          1499,
          1200,
          1300,
          950,
          1500,
          1900,
          1500,
          1000,
          1700,
          2660,
          1900,
          2050,
          1200,
          1200,
          1150,
          1350,
          2300,
          1200,
          1750,
          1100,
          1200,
          1200,
          1200,
          900,
          1200,
          1400
         ],
         "y0": " ",
         "yaxis": "y"
        },
        {
         "alignmentgroup": "True",
         "hovertemplate": "miasto=Bielsko-Biała<br>pokoje=%{x}<br>suma_oplat=%{y}<extra></extra>",
         "legendgroup": "Bielsko-Biała",
         "marker": {
          "color": "#EF553B"
         },
         "name": "Bielsko-Biała",
         "notched": false,
         "offsetgroup": "Bielsko-Biała",
         "orientation": "v",
         "showlegend": true,
         "type": "box",
         "x": [
          1,
          2,
          1,
          1,
          1,
          2,
          2,
          3,
          2,
          3,
          1,
          2,
          2,
          2,
          3,
          2,
          1,
          2,
          1,
          2,
          2,
          1,
          2,
          2,
          1,
          1,
          2,
          2,
          2,
          1,
          1,
          2,
          2,
          2,
          2,
          2,
          2,
          1,
          2,
          2,
          2,
          1,
          1,
          2,
          2,
          1,
          2,
          1,
          2,
          2,
          1,
          2,
          1,
          3,
          2,
          1,
          1,
          2,
          2,
          2,
          1,
          1,
          1,
          1,
          2,
          2,
          2,
          2,
          3,
          2,
          2,
          1,
          2,
          1,
          1,
          2,
          1,
          1,
          2,
          1,
          2,
          1,
          2,
          2,
          3,
          2,
          2,
          2,
          1,
          2,
          1,
          2,
          1,
          2,
          2,
          2,
          1,
          1,
          2,
          2,
          2,
          2,
          2,
          1,
          1,
          1,
          3,
          1,
          1
         ],
         "x0": " ",
         "xaxis": "x",
         "y": [
          1900,
          1600,
          1675,
          750,
          1550,
          1100,
          1150,
          1650,
          1550,
          2600,
          1370,
          1500,
          1800,
          2050,
          2100,
          2490,
          1620,
          2000,
          1150,
          1960,
          2049,
          1420,
          2790,
          1700,
          1300,
          1650,
          1800,
          1850,
          2112,
          1450,
          1400,
          1650,
          1800,
          1700,
          1860,
          2049,
          2250,
          1688,
          1890,
          1150,
          1800,
          1550,
          1405,
          1630,
          1650,
          1900,
          1950,
          1260,
          1700,
          1860,
          1500,
          1970,
          1780,
          1600,
          2350,
          700,
          1450,
          1500,
          1520,
          1800,
          1300,
          1500,
          1500,
          900,
          1865,
          2110,
          2790,
          1800,
          1600,
          1550,
          2049,
          1600,
          2100,
          1800,
          1500,
          1400,
          1400,
          1550,
          2340,
          1100,
          1700,
          1100,
          1800,
          1700,
          1390,
          1860,
          2200,
          1950,
          1900,
          2050,
          1200,
          1300,
          1300,
          2000,
          1700,
          1960,
          1600,
          1499,
          1750,
          1750,
          1400,
          1600,
          1900,
          1550,
          1260,
          1450,
          1300,
          1000,
          760
         ],
         "y0": " ",
         "yaxis": "y"
        },
        {
         "alignmentgroup": "True",
         "hovertemplate": "miasto=Tychy<br>pokoje=%{x}<br>suma_oplat=%{y}<extra></extra>",
         "legendgroup": "Tychy",
         "marker": {
          "color": "#00cc96"
         },
         "name": "Tychy",
         "notched": false,
         "offsetgroup": "Tychy",
         "orientation": "v",
         "showlegend": true,
         "type": "box",
         "x": [
          1,
          1,
          2,
          2,
          2,
          2,
          2,
          2,
          2,
          2,
          1,
          2,
          2,
          2,
          2,
          2,
          2,
          2,
          1,
          2,
          2,
          2,
          2,
          1,
          1,
          2,
          2,
          2,
          2,
          2,
          2,
          2,
          3,
          2,
          2,
          2,
          2,
          2,
          1,
          2,
          2,
          2,
          2,
          1,
          2,
          2,
          2,
          2,
          1,
          2,
          2,
          2,
          1,
          2,
          1
         ],
         "x0": " ",
         "xaxis": "x",
         "y": [
          1300,
          800,
          2201,
          1590,
          1850,
          1930,
          2300,
          1580,
          1800,
          1500,
          1480,
          1450,
          1810,
          1930,
          2000,
          2201,
          1709,
          1580,
          1520,
          2200,
          1810,
          1950,
          1700,
          1400,
          1375,
          1501,
          2300,
          2201,
          1690,
          1650,
          2000,
          1450,
          500,
          2000,
          1800,
          1550,
          3000,
          1550,
          1300,
          1810,
          1690,
          2350,
          1500,
          1400,
          1500,
          1450,
          1550,
          1500,
          1200,
          1500,
          1800,
          2300,
          1590,
          1700,
          1200
         ],
         "y0": " ",
         "yaxis": "y"
        }
       ],
       "layout": {
        "boxmode": "group",
        "legend": {
         "title": {
          "text": "miasto"
         },
         "tracegroupgap": 0
        },
        "template": {
         "data": {
          "bar": [
           {
            "error_x": {
             "color": "#2a3f5f"
            },
            "error_y": {
             "color": "#2a3f5f"
            },
            "marker": {
             "line": {
              "color": "#E5ECF6",
              "width": 0.5
             }
            },
            "type": "bar"
           }
          ],
          "barpolar": [
           {
            "marker": {
             "line": {
              "color": "#E5ECF6",
              "width": 0.5
             }
            },
            "type": "barpolar"
           }
          ],
          "carpet": [
           {
            "aaxis": {
             "endlinecolor": "#2a3f5f",
             "gridcolor": "white",
             "linecolor": "white",
             "minorgridcolor": "white",
             "startlinecolor": "#2a3f5f"
            },
            "baxis": {
             "endlinecolor": "#2a3f5f",
             "gridcolor": "white",
             "linecolor": "white",
             "minorgridcolor": "white",
             "startlinecolor": "#2a3f5f"
            },
            "type": "carpet"
           }
          ],
          "choropleth": [
           {
            "colorbar": {
             "outlinewidth": 0,
             "ticks": ""
            },
            "type": "choropleth"
           }
          ],
          "contour": [
           {
            "colorbar": {
             "outlinewidth": 0,
             "ticks": ""
            },
            "colorscale": [
             [
              0,
              "#0d0887"
             ],
             [
              0.1111111111111111,
              "#46039f"
             ],
             [
              0.2222222222222222,
              "#7201a8"
             ],
             [
              0.3333333333333333,
              "#9c179e"
             ],
             [
              0.4444444444444444,
              "#bd3786"
             ],
             [
              0.5555555555555556,
              "#d8576b"
             ],
             [
              0.6666666666666666,
              "#ed7953"
             ],
             [
              0.7777777777777778,
              "#fb9f3a"
             ],
             [
              0.8888888888888888,
              "#fdca26"
             ],
             [
              1,
              "#f0f921"
             ]
            ],
            "type": "contour"
           }
          ],
          "contourcarpet": [
           {
            "colorbar": {
             "outlinewidth": 0,
             "ticks": ""
            },
            "type": "contourcarpet"
           }
          ],
          "heatmap": [
           {
            "colorbar": {
             "outlinewidth": 0,
             "ticks": ""
            },
            "colorscale": [
             [
              0,
              "#0d0887"
             ],
             [
              0.1111111111111111,
              "#46039f"
             ],
             [
              0.2222222222222222,
              "#7201a8"
             ],
             [
              0.3333333333333333,
              "#9c179e"
             ],
             [
              0.4444444444444444,
              "#bd3786"
             ],
             [
              0.5555555555555556,
              "#d8576b"
             ],
             [
              0.6666666666666666,
              "#ed7953"
             ],
             [
              0.7777777777777778,
              "#fb9f3a"
             ],
             [
              0.8888888888888888,
              "#fdca26"
             ],
             [
              1,
              "#f0f921"
             ]
            ],
            "type": "heatmap"
           }
          ],
          "heatmapgl": [
           {
            "colorbar": {
             "outlinewidth": 0,
             "ticks": ""
            },
            "colorscale": [
             [
              0,
              "#0d0887"
             ],
             [
              0.1111111111111111,
              "#46039f"
             ],
             [
              0.2222222222222222,
              "#7201a8"
             ],
             [
              0.3333333333333333,
              "#9c179e"
             ],
             [
              0.4444444444444444,
              "#bd3786"
             ],
             [
              0.5555555555555556,
              "#d8576b"
             ],
             [
              0.6666666666666666,
              "#ed7953"
             ],
             [
              0.7777777777777778,
              "#fb9f3a"
             ],
             [
              0.8888888888888888,
              "#fdca26"
             ],
             [
              1,
              "#f0f921"
             ]
            ],
            "type": "heatmapgl"
           }
          ],
          "histogram": [
           {
            "marker": {
             "colorbar": {
              "outlinewidth": 0,
              "ticks": ""
             }
            },
            "type": "histogram"
           }
          ],
          "histogram2d": [
           {
            "colorbar": {
             "outlinewidth": 0,
             "ticks": ""
            },
            "colorscale": [
             [
              0,
              "#0d0887"
             ],
             [
              0.1111111111111111,
              "#46039f"
             ],
             [
              0.2222222222222222,
              "#7201a8"
             ],
             [
              0.3333333333333333,
              "#9c179e"
             ],
             [
              0.4444444444444444,
              "#bd3786"
             ],
             [
              0.5555555555555556,
              "#d8576b"
             ],
             [
              0.6666666666666666,
              "#ed7953"
             ],
             [
              0.7777777777777778,
              "#fb9f3a"
             ],
             [
              0.8888888888888888,
              "#fdca26"
             ],
             [
              1,
              "#f0f921"
             ]
            ],
            "type": "histogram2d"
           }
          ],
          "histogram2dcontour": [
           {
            "colorbar": {
             "outlinewidth": 0,
             "ticks": ""
            },
            "colorscale": [
             [
              0,
              "#0d0887"
             ],
             [
              0.1111111111111111,
              "#46039f"
             ],
             [
              0.2222222222222222,
              "#7201a8"
             ],
             [
              0.3333333333333333,
              "#9c179e"
             ],
             [
              0.4444444444444444,
              "#bd3786"
             ],
             [
              0.5555555555555556,
              "#d8576b"
             ],
             [
              0.6666666666666666,
              "#ed7953"
             ],
             [
              0.7777777777777778,
              "#fb9f3a"
             ],
             [
              0.8888888888888888,
              "#fdca26"
             ],
             [
              1,
              "#f0f921"
             ]
            ],
            "type": "histogram2dcontour"
           }
          ],
          "mesh3d": [
           {
            "colorbar": {
             "outlinewidth": 0,
             "ticks": ""
            },
            "type": "mesh3d"
           }
          ],
          "parcoords": [
           {
            "line": {
             "colorbar": {
              "outlinewidth": 0,
              "ticks": ""
             }
            },
            "type": "parcoords"
           }
          ],
          "pie": [
           {
            "automargin": true,
            "type": "pie"
           }
          ],
          "scatter": [
           {
            "marker": {
             "colorbar": {
              "outlinewidth": 0,
              "ticks": ""
             }
            },
            "type": "scatter"
           }
          ],
          "scatter3d": [
           {
            "line": {
             "colorbar": {
              "outlinewidth": 0,
              "ticks": ""
             }
            },
            "marker": {
             "colorbar": {
              "outlinewidth": 0,
              "ticks": ""
             }
            },
            "type": "scatter3d"
           }
          ],
          "scattercarpet": [
           {
            "marker": {
             "colorbar": {
              "outlinewidth": 0,
              "ticks": ""
             }
            },
            "type": "scattercarpet"
           }
          ],
          "scattergeo": [
           {
            "marker": {
             "colorbar": {
              "outlinewidth": 0,
              "ticks": ""
             }
            },
            "type": "scattergeo"
           }
          ],
          "scattergl": [
           {
            "marker": {
             "colorbar": {
              "outlinewidth": 0,
              "ticks": ""
             }
            },
            "type": "scattergl"
           }
          ],
          "scattermapbox": [
           {
            "marker": {
             "colorbar": {
              "outlinewidth": 0,
              "ticks": ""
             }
            },
            "type": "scattermapbox"
           }
          ],
          "scatterpolar": [
           {
            "marker": {
             "colorbar": {
              "outlinewidth": 0,
              "ticks": ""
             }
            },
            "type": "scatterpolar"
           }
          ],
          "scatterpolargl": [
           {
            "marker": {
             "colorbar": {
              "outlinewidth": 0,
              "ticks": ""
             }
            },
            "type": "scatterpolargl"
           }
          ],
          "scatterternary": [
           {
            "marker": {
             "colorbar": {
              "outlinewidth": 0,
              "ticks": ""
             }
            },
            "type": "scatterternary"
           }
          ],
          "surface": [
           {
            "colorbar": {
             "outlinewidth": 0,
             "ticks": ""
            },
            "colorscale": [
             [
              0,
              "#0d0887"
             ],
             [
              0.1111111111111111,
              "#46039f"
             ],
             [
              0.2222222222222222,
              "#7201a8"
             ],
             [
              0.3333333333333333,
              "#9c179e"
             ],
             [
              0.4444444444444444,
              "#bd3786"
             ],
             [
              0.5555555555555556,
              "#d8576b"
             ],
             [
              0.6666666666666666,
              "#ed7953"
             ],
             [
              0.7777777777777778,
              "#fb9f3a"
             ],
             [
              0.8888888888888888,
              "#fdca26"
             ],
             [
              1,
              "#f0f921"
             ]
            ],
            "type": "surface"
           }
          ],
          "table": [
           {
            "cells": {
             "fill": {
              "color": "#EBF0F8"
             },
             "line": {
              "color": "white"
             }
            },
            "header": {
             "fill": {
              "color": "#C8D4E3"
             },
             "line": {
              "color": "white"
             }
            },
            "type": "table"
           }
          ]
         },
         "layout": {
          "annotationdefaults": {
           "arrowcolor": "#2a3f5f",
           "arrowhead": 0,
           "arrowwidth": 1
          },
          "autotypenumbers": "strict",
          "coloraxis": {
           "colorbar": {
            "outlinewidth": 0,
            "ticks": ""
           }
          },
          "colorscale": {
           "diverging": [
            [
             0,
             "#8e0152"
            ],
            [
             0.1,
             "#c51b7d"
            ],
            [
             0.2,
             "#de77ae"
            ],
            [
             0.3,
             "#f1b6da"
            ],
            [
             0.4,
             "#fde0ef"
            ],
            [
             0.5,
             "#f7f7f7"
            ],
            [
             0.6,
             "#e6f5d0"
            ],
            [
             0.7,
             "#b8e186"
            ],
            [
             0.8,
             "#7fbc41"
            ],
            [
             0.9,
             "#4d9221"
            ],
            [
             1,
             "#276419"
            ]
           ],
           "sequential": [
            [
             0,
             "#0d0887"
            ],
            [
             0.1111111111111111,
             "#46039f"
            ],
            [
             0.2222222222222222,
             "#7201a8"
            ],
            [
             0.3333333333333333,
             "#9c179e"
            ],
            [
             0.4444444444444444,
             "#bd3786"
            ],
            [
             0.5555555555555556,
             "#d8576b"
            ],
            [
             0.6666666666666666,
             "#ed7953"
            ],
            [
             0.7777777777777778,
             "#fb9f3a"
            ],
            [
             0.8888888888888888,
             "#fdca26"
            ],
            [
             1,
             "#f0f921"
            ]
           ],
           "sequentialminus": [
            [
             0,
             "#0d0887"
            ],
            [
             0.1111111111111111,
             "#46039f"
            ],
            [
             0.2222222222222222,
             "#7201a8"
            ],
            [
             0.3333333333333333,
             "#9c179e"
            ],
            [
             0.4444444444444444,
             "#bd3786"
            ],
            [
             0.5555555555555556,
             "#d8576b"
            ],
            [
             0.6666666666666666,
             "#ed7953"
            ],
            [
             0.7777777777777778,
             "#fb9f3a"
            ],
            [
             0.8888888888888888,
             "#fdca26"
            ],
            [
             1,
             "#f0f921"
            ]
           ]
          },
          "colorway": [
           "#636efa",
           "#EF553B",
           "#00cc96",
           "#ab63fa",
           "#FFA15A",
           "#19d3f3",
           "#FF6692",
           "#B6E880",
           "#FF97FF",
           "#FECB52"
          ],
          "font": {
           "color": "#2a3f5f"
          },
          "geo": {
           "bgcolor": "white",
           "lakecolor": "white",
           "landcolor": "#E5ECF6",
           "showlakes": true,
           "showland": true,
           "subunitcolor": "white"
          },
          "hoverlabel": {
           "align": "left"
          },
          "hovermode": "closest",
          "mapbox": {
           "style": "light"
          },
          "paper_bgcolor": "white",
          "plot_bgcolor": "#E5ECF6",
          "polar": {
           "angularaxis": {
            "gridcolor": "white",
            "linecolor": "white",
            "ticks": ""
           },
           "bgcolor": "#E5ECF6",
           "radialaxis": {
            "gridcolor": "white",
            "linecolor": "white",
            "ticks": ""
           }
          },
          "scene": {
           "xaxis": {
            "backgroundcolor": "#E5ECF6",
            "gridcolor": "white",
            "gridwidth": 2,
            "linecolor": "white",
            "showbackground": true,
            "ticks": "",
            "zerolinecolor": "white"
           },
           "yaxis": {
            "backgroundcolor": "#E5ECF6",
            "gridcolor": "white",
            "gridwidth": 2,
            "linecolor": "white",
            "showbackground": true,
            "ticks": "",
            "zerolinecolor": "white"
           },
           "zaxis": {
            "backgroundcolor": "#E5ECF6",
            "gridcolor": "white",
            "gridwidth": 2,
            "linecolor": "white",
            "showbackground": true,
            "ticks": "",
            "zerolinecolor": "white"
           }
          },
          "shapedefaults": {
           "line": {
            "color": "#2a3f5f"
           }
          },
          "ternary": {
           "aaxis": {
            "gridcolor": "white",
            "linecolor": "white",
            "ticks": ""
           },
           "baxis": {
            "gridcolor": "white",
            "linecolor": "white",
            "ticks": ""
           },
           "bgcolor": "#E5ECF6",
           "caxis": {
            "gridcolor": "white",
            "linecolor": "white",
            "ticks": ""
           }
          },
          "title": {
           "x": 0.05
          },
          "xaxis": {
           "automargin": true,
           "gridcolor": "white",
           "linecolor": "white",
           "ticks": "",
           "title": {
            "standoff": 15
           },
           "zerolinecolor": "white",
           "zerolinewidth": 2
          },
          "yaxis": {
           "automargin": true,
           "gridcolor": "white",
           "linecolor": "white",
           "ticks": "",
           "title": {
            "standoff": 15
           },
           "zerolinecolor": "white",
           "zerolinewidth": 2
          }
         }
        },
        "title": {
         "text": "Rozrzut cenowy pełnej opłaty per msc (wg l.pokojów)"
        },
        "xaxis": {
         "anchor": "y",
         "domain": [
          0,
          1
         ],
         "title": {
          "text": "pokoje"
         }
        },
        "yaxis": {
         "anchor": "x",
         "domain": [
          0,
          1
         ],
         "title": {
          "text": "suma_oplat"
         }
        }
       }
      },
      "text/html": [
       "<div>                            <div id=\"e3571fff-dc6d-4bef-ade0-69c38a0bc367\" class=\"plotly-graph-div\" style=\"height:525px; width:100%;\"></div>            <script type=\"text/javascript\">                require([\"plotly\"], function(Plotly) {                    window.PLOTLYENV=window.PLOTLYENV || {};                                    if (document.getElementById(\"e3571fff-dc6d-4bef-ade0-69c38a0bc367\")) {                    Plotly.newPlot(                        \"e3571fff-dc6d-4bef-ade0-69c38a0bc367\",                        [{\"alignmentgroup\": \"True\", \"hovertemplate\": \"miasto=Katowice<br>pokoje=%{x}<br>suma_oplat=%{y}<extra></extra>\", \"legendgroup\": \"Katowice\", \"marker\": {\"color\": \"#636efa\"}, \"name\": \"Katowice\", \"notched\": false, \"offsetgroup\": \"Katowice\", \"orientation\": \"v\", \"showlegend\": true, \"type\": \"box\", \"x\": [2, 2, 2, 2, 2, 2, 2, 1, 2, 2, 1, 2, 2, 1, 2, 1, 1, 1, 2, 2, 2, 2, 1, 1, 1, 1, 2, 1, 2, 2, 1, 2, 2, 1, 1, 1, 2, 2, 2, 2, 1, 2, 2, 2, 1, 1, 1, 2, 1, 2, 2, 1, 2, 1, 2, 1, 1, 2, 2, 2, 1, 2, 2, 2, 2, 2, 1, 2, 1, 2, 1, 1, 1, 2, 2, 1, 2, 1, 1, 2, 2, 2, 2, 1, 2, 2, 2, 2, 2, 2, 2, 2, 1, 2, 2, 2, 2, 2, 2, 1, 1, 2, 2, 2, 2, 2, 2, 2, 1, 2, 1, 2, 2, 1, 2, 1, 2, 2, 1, 2, 1, 2, 2, 2, 1, 3, 2, 1, 2, 2, 2, 2, 2, 2, 2, 2, 2, 2, 3, 2, 2, 2, 1, 1, 1, 2, 2, 2, 2, 1, 2, 2, 2, 2, 2, 2, 2, 2, 1, 2, 2, 2, 1, 2, 1, 2, 2, 3, 2, 1, 2, 2, 2, 2, 3, 2, 1, 1, 2, 3, 1, 1, 1, 2, 2, 2, 2, 1, 2, 1, 2, 2, 2, 2, 2, 2, 2, 1, 2, 1, 1, 1, 1, 2, 2, 2, 2, 1, 2, 2, 2, 1, 2, 1, 2, 1, 2, 2, 2, 2, 2, 2, 1, 1, 1, 2, 2, 2, 2, 2, 2, 2, 1, 1, 1, 2, 2, 2, 2, 2, 2, 2, 2, 2, 2, 1, 1, 2, 2, 1, 2, 2, 1, 2, 3, 1, 2, 2, 2, 2, 2, 1, 2, 1, 2, 1, 1, 2, 1, 2, 2, 2, 2, 2, 2, 2, 2, 1, 2, 2, 2, 2, 2, 3, 1, 2, 2, 1, 3, 2, 1, 1, 2, 2, 2, 2, 2, 1, 2, 1, 1, 1, 1, 1, 1, 1, 1, 1, 2, 1, 2, 1, 3, 1, 1, 1, 1, 1, 3, 2, 1, 2, 1, 1, 2, 2, 2, 2, 2, 2, 2, 3, 1, 1, 1, 2, 2, 2, 1, 2, 2, 2, 2, 1, 2, 2, 2, 1, 2, 1, 1, 1, 2, 1, 2, 2, 1, 1, 2, 1, 2, 1, 1, 1, 1, 3, 2, 2, 1, 1, 1, 2, 2, 2, 2, 1, 1, 2, 2, 1, 1, 1, 2, 2, 1, 2, 2, 2, 2, 2, 2, 2, 2, 2, 1, 3, 1, 2, 1, 2, 2, 2, 1, 2, 2, 1, 2, 1, 2, 2, 1, 1, 2, 1, 2, 2, 1, 2, 2, 1, 1, 1, 1, 2, 2, 2, 2, 2, 2, 2, 2, 2, 1, 1, 2, 2, 1, 2, 2, 2, 2, 1, 1, 1, 2, 2, 2, 1, 2, 2, 1, 1, 2, 1, 2, 2, 1, 2, 2, 2, 2, 1, 2, 2, 2, 1, 3, 2, 2, 2, 2, 2, 1, 1, 2, 2, 2, 2, 2, 2, 1, 1, 1, 1, 2, 1, 1, 1, 1, 1, 1, 1, 2, 2, 2, 2, 2, 1, 2, 2, 2, 2, 2, 2, 1, 1, 1, 2, 1, 1, 1, 1, 1, 1, 1, 2, 1, 1, 2, 2, 2, 2, 1, 1, 2, 1, 1, 2, 2, 2, 2, 1, 1, 2, 2, 2, 1, 2, 1, 1, 1, 2, 2, 1, 2, 2, 2, 1, 1, 2, 2, 2, 3, 2, 2, 2, 2, 1, 2, 2, 2, 1, 1, 2, 2, 2, 1, 2, 2, 3, 2, 2, 2, 1, 1, 1, 1, 2, 2, 1, 3, 2, 1, 1, 2, 2, 2, 2, 2, 2, 2, 2, 3, 2, 1, 1, 1, 1, 2, 1, 2, 2, 2, 1, 2, 2, 2, 2, 2, 1, 2, 1, 1, 2, 1, 1, 2, 2, 2, 2, 2, 2, 2, 1, 3, 1, 1, 2, 2, 1, 2, 2, 1, 1, 2, 2, 1, 2, 2, 2, 2, 1, 1, 1, 2, 2, 1, 2, 1, 2, 2, 2, 1, 2, 1, 2, 2, 1, 1, 1, 2, 2, 2, 1, 1, 2, 1, 1, 1, 2, 1, 2, 2, 2, 1, 2, 1, 2, 1, 1, 1, 1, 1, 1, 1, 1, 2, 2, 1, 1, 1, 1, 1, 1, 2, 1, 2, 2, 1, 1, 1, 1, 2, 1, 2, 1, 1, 2, 2, 2, 1, 2, 2, 2, 1, 1, 1, 1, 1, 1, 1, 1, 1, 2, 1, 1, 1, 2, 3, 1, 2, 1, 1, 1, 1, 2, 1, 2, 1, 1, 1, 2, 1, 1, 2, 1, 1, 1, 2, 3, 1, 1, 2, 1, 2, 1, 1, 2, 2, 1, 1, 2, 2, 2, 1, 2, 2, 2, 2, 1, 2, 2, 1, 2, 1, 2, 2, 1, 1, 2, 2, 2, 1, 1, 2, 1, 1, 2, 1, 2, 1, 2, 1, 2, 1, 2, 1], \"x0\": \" \", \"xaxis\": \"x\", \"y\": [1430, 1661, 1850, 1100, 2660, 1020, 1700, 1400, 1900, 2200, 1200, 2000, 2300, 1300, 1800, 1150, 1000, 1130, 1450, 2200, 1800, 1887, 850, 1149, 750, 550, 2201, 1290, 1550, 1673, 1306, 2700, 2714, 1300, 1351, 900, 1900, 1600, 1700, 2280, 1200, 1640, 1800, 2500, 2050, 2220, 1750, 1500, 1800, 1690, 1900, 1199, 1900, 1090, 2230, 1299, 990, 1290, 1640, 1501, 2080, 2100, 1600, 1690, 1750, 1100, 790, 2550, 1400, 1850, 1300, 1351, 1050, 1780, 1910, 1500, 900, 1050, 1050, 1800, 1500, 1550, 2000, 1300, 2100, 3000, 1700, 1500, 1600, 2100, 1550, 2500, 1500, 2200, 1899, 2024, 1800, 2900, 1300, 1350, 1600, 1890, 1500, 2100, 2500, 2100, 2000, 1300, 1350, 2430, 1380, 1300, 1650, 1150, 1500, 1300, 2100, 1800, 1300, 2550, 1500, 2135, 1900, 800, 1400, 1400, 1300, 1740, 1650, 1900, 2200, 2200, 1700, 2250, 1530, 2230, 2050, 1490, 2575, 1700, 2650, 1200, 900, 650, 1242, 2006, 2100, 1500, 2100, 1000, 2200, 2400, 2970, 1800, 2900, 2200, 1750, 991, 2050, 2500, 1251, 1300, 460, 1300, 2450, 1780, 1851, 1999, 1661, 1900, 1900, 1530, 2336, 1300, 2120, 1780, 891, 1700, 2600, 1851, 1300, 1250, 1300, 3000, 2970, 1400, 2200, 800, 1600, 970, 1300, 1850, 1801, 1501, 2000, 1600, 2240, 1600, 1601, 1460, 1200, 1250, 2080, 1880, 1790, 1640, 1899, 1450, 1570, 2000, 2250, 1180, 1950, 1150, 2200, 1350, 2280, 2050, 1550, 2050, 1600, 1690, 1370, 1500, 999, 2300, 1800, 2200, 1800, 2650, 1300, 2720, 1630, 1780, 1890, 1900, 2135, 1800, 1300, 1300, 1400, 2000, 1887, 1190, 1290, 1090, 1451, 1900, 1900, 1199, 1900, 2200, 950, 1500, 1700, 1050, 1850, 1650, 1800, 1644, 1790, 1490, 1800, 1200, 2300, 1191, 1500, 1650, 1099, 1650, 2280, 2001, 1020, 1690, 1750, 2480, 2000, 1050, 1450, 1460, 1200, 2000, 2000, 2600, 900, 1600, 1800, 1350, 1600, 1600, 1100, 1200, 1700, 1650, 2240, 1800, 1900, 1300, 2200, 1200, 650, 650, 650, 650, 1199, 1250, 950, 800, 1646, 950, 849, 700, 2500, 1105, 1150, 1000, 1200, 2135, 1999, 2600, 1600, 1350, 1250, 1350, 2050, 1500, 3170, 1800, 1800, 2000, 1400, 2100, 2100, 1600, 2300, 990, 1850, 1750, 1201, 2001, 1900, 1500, 1850, 2135, 1800, 2150, 1500, 850, 2470, 980, 950, 1199, 1250, 1251, 1800, 2100, 900, 1001, 1600, 1300, 1700, 1500, 1630, 1500, 1000, 2200, 1420, 1400, 1200, 1100, 1050, 1960, 1650, 1485, 1650, 800, 1500, 1650, 1010, 1950, 1000, 1350, 1780, 1850, 319, 1700, 1600, 2480, 2150, 2150, 2100, 1950, 1950, 1900, 850, 1600, 1190, 1760, 1600, 2250, 2300, 1568, 1300, 1750, 1600, 900, 1490, 1350, 1500, 1590, 1300, 1900, 2300, 1840, 2000, 2500, 1260, 1800, 1400, 1501, 1050, 1734, 912, 1400, 1400, 1430, 1900, 1500, 2050, 1200, 1750, 1300, 1600, 1000, 2001, 2550, 1501, 1651, 2160, 1650, 1500, 1200, 1000, 1400, 1700, 1550, 1500, 1600, 1800, 2900, 1230, 1200, 2000, 1350, 1600, 999, 1399, 1750, 2000, 1850, 1700, 1150, 1370, 2240, 1500, 800, 1500, 1900, 2040, 2550, 1200, 1690, 1200, 730, 2560, 2200, 1800, 1900, 1750, 1150, 1350, 800, 1180, 1150, 1101, 800, 1200, 800, 950, 800, 1265, 1300, 1020, 2200, 2400, 2070, 1860, 1800, 1000, 3000, 1250, 1950, 1490, 1601, 1300, 1300, 1100, 2500, 900, 700, 700, 1400, 1150, 1300, 1149, 2714, 1200, 900, 800, 1980, 1990, 1200, 1000, 1000, 1000, 1250, 1700, 1800, 1600, 1300, 1800, 1100, 1250, 1100, 1800, 2200, 2135, 1850, 1101, 790, 750, 1600, 1200, 950, 1500, 2000, 1850, 1100, 1000, 1800, 1500, 1980, 2300, 1600, 1300, 1480, 1500, 1450, 1700, 2100, 1700, 1400, 1050, 1800, 1540, 2200, 1000, 2100, 2400, 2100, 2200, 2040, 1600, 590, 690, 690, 1250, 1750, 1900, 1300, 1600, 2300, 890, 950, 2100, 1851, 1880, 1920, 2120, 1500, 2300, 2100, 1401, 920, 790, 1350, 1600, 950, 1750, 1000, 2116, 2200, 2650, 1100, 2250, 2150, 2500, 1500, 1900, 1090, 1700, 1750, 1800, 2280, 271, 1250, 2000, 1350, 1600, 1600, 1800, 1950, 1980, 700, 1900, 1200, 1150, 1390, 1650, 1200, 1400, 1600, 800, 1150, 1800, 1850, 1300, 1640, 1644, 1650, 1600, 650, 1650, 1650, 1794, 1800, 1500, 1700, 1100, 1200, 1200, 1600, 900, 1601, 900, 1490, 1450, 1350, 967, 390, 1900, 2970, 1850, 390, 1500, 1599, 1300, 1500, 1200, 1600, 1100, 1980, 1500, 2001, 1000, 1980, 1100, 1290, 1300, 980, 1250, 1600, 1350, 1300, 1400, 1300, 2660, 2050, 1200, 1200, 700, 730, 1300, 1200, 2000, 1000, 1150, 1200, 1200, 1200, 1200, 1200, 1600, 1000, 1350, 750, 550, 1650, 1800, 1300, 940, 2200, 1851, 1700, 1200, 1500, 800, 1299, 1100, 990, 1242, 1001, 901, 2000, 1001, 1050, 1500, 1950, 2300, 1699, 1500, 800, 1750, 1100, 1100, 2300, 730, 1500, 1500, 1500, 1350, 2490, 1200, 900, 1750, 1100, 1400, 1400, 1000, 1500, 390, 390, 1100, 1200, 1600, 1200, 1200, 1673, 1800, 1500, 1200, 1400, 1700, 1600, 1000, 1400, 1350, 1300, 1399, 1400, 1727, 1499, 1200, 1300, 950, 1500, 1900, 1500, 1000, 1700, 2660, 1900, 2050, 1200, 1200, 1150, 1350, 2300, 1200, 1750, 1100, 1200, 1200, 1200, 900, 1200, 1400], \"y0\": \" \", \"yaxis\": \"y\"}, {\"alignmentgroup\": \"True\", \"hovertemplate\": \"miasto=Bielsko-Bia\\u0142a<br>pokoje=%{x}<br>suma_oplat=%{y}<extra></extra>\", \"legendgroup\": \"Bielsko-Bia\\u0142a\", \"marker\": {\"color\": \"#EF553B\"}, \"name\": \"Bielsko-Bia\\u0142a\", \"notched\": false, \"offsetgroup\": \"Bielsko-Bia\\u0142a\", \"orientation\": \"v\", \"showlegend\": true, \"type\": \"box\", \"x\": [1, 2, 1, 1, 1, 2, 2, 3, 2, 3, 1, 2, 2, 2, 3, 2, 1, 2, 1, 2, 2, 1, 2, 2, 1, 1, 2, 2, 2, 1, 1, 2, 2, 2, 2, 2, 2, 1, 2, 2, 2, 1, 1, 2, 2, 1, 2, 1, 2, 2, 1, 2, 1, 3, 2, 1, 1, 2, 2, 2, 1, 1, 1, 1, 2, 2, 2, 2, 3, 2, 2, 1, 2, 1, 1, 2, 1, 1, 2, 1, 2, 1, 2, 2, 3, 2, 2, 2, 1, 2, 1, 2, 1, 2, 2, 2, 1, 1, 2, 2, 2, 2, 2, 1, 1, 1, 3, 1, 1], \"x0\": \" \", \"xaxis\": \"x\", \"y\": [1900, 1600, 1675, 750, 1550, 1100, 1150, 1650, 1550, 2600, 1370, 1500, 1800, 2050, 2100, 2490, 1620, 2000, 1150, 1960, 2049, 1420, 2790, 1700, 1300, 1650, 1800, 1850, 2112, 1450, 1400, 1650, 1800, 1700, 1860, 2049, 2250, 1688, 1890, 1150, 1800, 1550, 1405, 1630, 1650, 1900, 1950, 1260, 1700, 1860, 1500, 1970, 1780, 1600, 2350, 700, 1450, 1500, 1520, 1800, 1300, 1500, 1500, 900, 1865, 2110, 2790, 1800, 1600, 1550, 2049, 1600, 2100, 1800, 1500, 1400, 1400, 1550, 2340, 1100, 1700, 1100, 1800, 1700, 1390, 1860, 2200, 1950, 1900, 2050, 1200, 1300, 1300, 2000, 1700, 1960, 1600, 1499, 1750, 1750, 1400, 1600, 1900, 1550, 1260, 1450, 1300, 1000, 760], \"y0\": \" \", \"yaxis\": \"y\"}, {\"alignmentgroup\": \"True\", \"hovertemplate\": \"miasto=Tychy<br>pokoje=%{x}<br>suma_oplat=%{y}<extra></extra>\", \"legendgroup\": \"Tychy\", \"marker\": {\"color\": \"#00cc96\"}, \"name\": \"Tychy\", \"notched\": false, \"offsetgroup\": \"Tychy\", \"orientation\": \"v\", \"showlegend\": true, \"type\": \"box\", \"x\": [1, 1, 2, 2, 2, 2, 2, 2, 2, 2, 1, 2, 2, 2, 2, 2, 2, 2, 1, 2, 2, 2, 2, 1, 1, 2, 2, 2, 2, 2, 2, 2, 3, 2, 2, 2, 2, 2, 1, 2, 2, 2, 2, 1, 2, 2, 2, 2, 1, 2, 2, 2, 1, 2, 1], \"x0\": \" \", \"xaxis\": \"x\", \"y\": [1300, 800, 2201, 1590, 1850, 1930, 2300, 1580, 1800, 1500, 1480, 1450, 1810, 1930, 2000, 2201, 1709, 1580, 1520, 2200, 1810, 1950, 1700, 1400, 1375, 1501, 2300, 2201, 1690, 1650, 2000, 1450, 500, 2000, 1800, 1550, 3000, 1550, 1300, 1810, 1690, 2350, 1500, 1400, 1500, 1450, 1550, 1500, 1200, 1500, 1800, 2300, 1590, 1700, 1200], \"y0\": \" \", \"yaxis\": \"y\"}],                        {\"boxmode\": \"group\", \"legend\": {\"title\": {\"text\": \"miasto\"}, \"tracegroupgap\": 0}, \"template\": {\"data\": {\"bar\": [{\"error_x\": {\"color\": \"#2a3f5f\"}, \"error_y\": {\"color\": \"#2a3f5f\"}, \"marker\": {\"line\": {\"color\": \"#E5ECF6\", \"width\": 0.5}}, \"type\": \"bar\"}], \"barpolar\": [{\"marker\": {\"line\": {\"color\": \"#E5ECF6\", \"width\": 0.5}}, \"type\": \"barpolar\"}], \"carpet\": [{\"aaxis\": {\"endlinecolor\": \"#2a3f5f\", \"gridcolor\": \"white\", \"linecolor\": \"white\", \"minorgridcolor\": \"white\", \"startlinecolor\": \"#2a3f5f\"}, \"baxis\": {\"endlinecolor\": \"#2a3f5f\", \"gridcolor\": \"white\", \"linecolor\": \"white\", \"minorgridcolor\": \"white\", \"startlinecolor\": \"#2a3f5f\"}, \"type\": \"carpet\"}], \"choropleth\": [{\"colorbar\": {\"outlinewidth\": 0, \"ticks\": \"\"}, \"type\": \"choropleth\"}], \"contour\": [{\"colorbar\": {\"outlinewidth\": 0, \"ticks\": \"\"}, \"colorscale\": [[0.0, \"#0d0887\"], [0.1111111111111111, \"#46039f\"], [0.2222222222222222, \"#7201a8\"], [0.3333333333333333, \"#9c179e\"], [0.4444444444444444, \"#bd3786\"], [0.5555555555555556, \"#d8576b\"], [0.6666666666666666, \"#ed7953\"], [0.7777777777777778, \"#fb9f3a\"], [0.8888888888888888, \"#fdca26\"], [1.0, \"#f0f921\"]], \"type\": \"contour\"}], \"contourcarpet\": [{\"colorbar\": {\"outlinewidth\": 0, \"ticks\": \"\"}, \"type\": \"contourcarpet\"}], \"heatmap\": [{\"colorbar\": {\"outlinewidth\": 0, \"ticks\": \"\"}, \"colorscale\": [[0.0, \"#0d0887\"], [0.1111111111111111, \"#46039f\"], [0.2222222222222222, \"#7201a8\"], [0.3333333333333333, \"#9c179e\"], [0.4444444444444444, \"#bd3786\"], [0.5555555555555556, \"#d8576b\"], [0.6666666666666666, \"#ed7953\"], [0.7777777777777778, \"#fb9f3a\"], [0.8888888888888888, \"#fdca26\"], [1.0, \"#f0f921\"]], \"type\": \"heatmap\"}], \"heatmapgl\": [{\"colorbar\": {\"outlinewidth\": 0, \"ticks\": \"\"}, \"colorscale\": [[0.0, \"#0d0887\"], [0.1111111111111111, \"#46039f\"], [0.2222222222222222, \"#7201a8\"], [0.3333333333333333, \"#9c179e\"], [0.4444444444444444, \"#bd3786\"], [0.5555555555555556, \"#d8576b\"], [0.6666666666666666, \"#ed7953\"], [0.7777777777777778, \"#fb9f3a\"], [0.8888888888888888, \"#fdca26\"], [1.0, \"#f0f921\"]], \"type\": \"heatmapgl\"}], \"histogram\": [{\"marker\": {\"colorbar\": {\"outlinewidth\": 0, \"ticks\": \"\"}}, \"type\": \"histogram\"}], \"histogram2d\": [{\"colorbar\": {\"outlinewidth\": 0, \"ticks\": \"\"}, \"colorscale\": [[0.0, \"#0d0887\"], [0.1111111111111111, \"#46039f\"], [0.2222222222222222, \"#7201a8\"], [0.3333333333333333, \"#9c179e\"], [0.4444444444444444, \"#bd3786\"], [0.5555555555555556, \"#d8576b\"], [0.6666666666666666, \"#ed7953\"], [0.7777777777777778, \"#fb9f3a\"], [0.8888888888888888, \"#fdca26\"], [1.0, \"#f0f921\"]], \"type\": \"histogram2d\"}], \"histogram2dcontour\": [{\"colorbar\": {\"outlinewidth\": 0, \"ticks\": \"\"}, \"colorscale\": [[0.0, \"#0d0887\"], [0.1111111111111111, \"#46039f\"], [0.2222222222222222, \"#7201a8\"], [0.3333333333333333, \"#9c179e\"], [0.4444444444444444, \"#bd3786\"], [0.5555555555555556, \"#d8576b\"], [0.6666666666666666, \"#ed7953\"], [0.7777777777777778, \"#fb9f3a\"], [0.8888888888888888, \"#fdca26\"], [1.0, \"#f0f921\"]], \"type\": \"histogram2dcontour\"}], \"mesh3d\": [{\"colorbar\": {\"outlinewidth\": 0, \"ticks\": \"\"}, \"type\": \"mesh3d\"}], \"parcoords\": [{\"line\": {\"colorbar\": {\"outlinewidth\": 0, \"ticks\": \"\"}}, \"type\": \"parcoords\"}], \"pie\": [{\"automargin\": true, \"type\": \"pie\"}], \"scatter\": [{\"marker\": {\"colorbar\": {\"outlinewidth\": 0, \"ticks\": \"\"}}, \"type\": \"scatter\"}], \"scatter3d\": [{\"line\": {\"colorbar\": {\"outlinewidth\": 0, \"ticks\": \"\"}}, \"marker\": {\"colorbar\": {\"outlinewidth\": 0, \"ticks\": \"\"}}, \"type\": \"scatter3d\"}], \"scattercarpet\": [{\"marker\": {\"colorbar\": {\"outlinewidth\": 0, \"ticks\": \"\"}}, \"type\": \"scattercarpet\"}], \"scattergeo\": [{\"marker\": {\"colorbar\": {\"outlinewidth\": 0, \"ticks\": \"\"}}, \"type\": \"scattergeo\"}], \"scattergl\": [{\"marker\": {\"colorbar\": {\"outlinewidth\": 0, \"ticks\": \"\"}}, \"type\": \"scattergl\"}], \"scattermapbox\": [{\"marker\": {\"colorbar\": {\"outlinewidth\": 0, \"ticks\": \"\"}}, \"type\": \"scattermapbox\"}], \"scatterpolar\": [{\"marker\": {\"colorbar\": {\"outlinewidth\": 0, \"ticks\": \"\"}}, \"type\": \"scatterpolar\"}], \"scatterpolargl\": [{\"marker\": {\"colorbar\": {\"outlinewidth\": 0, \"ticks\": \"\"}}, \"type\": \"scatterpolargl\"}], \"scatterternary\": [{\"marker\": {\"colorbar\": {\"outlinewidth\": 0, \"ticks\": \"\"}}, \"type\": \"scatterternary\"}], \"surface\": [{\"colorbar\": {\"outlinewidth\": 0, \"ticks\": \"\"}, \"colorscale\": [[0.0, \"#0d0887\"], [0.1111111111111111, \"#46039f\"], [0.2222222222222222, \"#7201a8\"], [0.3333333333333333, \"#9c179e\"], [0.4444444444444444, \"#bd3786\"], [0.5555555555555556, \"#d8576b\"], [0.6666666666666666, \"#ed7953\"], [0.7777777777777778, \"#fb9f3a\"], [0.8888888888888888, \"#fdca26\"], [1.0, \"#f0f921\"]], \"type\": \"surface\"}], \"table\": [{\"cells\": {\"fill\": {\"color\": \"#EBF0F8\"}, \"line\": {\"color\": \"white\"}}, \"header\": {\"fill\": {\"color\": \"#C8D4E3\"}, \"line\": {\"color\": \"white\"}}, \"type\": \"table\"}]}, \"layout\": {\"annotationdefaults\": {\"arrowcolor\": \"#2a3f5f\", \"arrowhead\": 0, \"arrowwidth\": 1}, \"autotypenumbers\": \"strict\", \"coloraxis\": {\"colorbar\": {\"outlinewidth\": 0, \"ticks\": \"\"}}, \"colorscale\": {\"diverging\": [[0, \"#8e0152\"], [0.1, \"#c51b7d\"], [0.2, \"#de77ae\"], [0.3, \"#f1b6da\"], [0.4, \"#fde0ef\"], [0.5, \"#f7f7f7\"], [0.6, \"#e6f5d0\"], [0.7, \"#b8e186\"], [0.8, \"#7fbc41\"], [0.9, \"#4d9221\"], [1, \"#276419\"]], \"sequential\": [[0.0, \"#0d0887\"], [0.1111111111111111, \"#46039f\"], [0.2222222222222222, \"#7201a8\"], [0.3333333333333333, \"#9c179e\"], [0.4444444444444444, \"#bd3786\"], [0.5555555555555556, \"#d8576b\"], [0.6666666666666666, \"#ed7953\"], [0.7777777777777778, \"#fb9f3a\"], [0.8888888888888888, \"#fdca26\"], [1.0, \"#f0f921\"]], \"sequentialminus\": [[0.0, \"#0d0887\"], [0.1111111111111111, \"#46039f\"], [0.2222222222222222, \"#7201a8\"], [0.3333333333333333, \"#9c179e\"], [0.4444444444444444, \"#bd3786\"], [0.5555555555555556, \"#d8576b\"], [0.6666666666666666, \"#ed7953\"], [0.7777777777777778, \"#fb9f3a\"], [0.8888888888888888, \"#fdca26\"], [1.0, \"#f0f921\"]]}, \"colorway\": [\"#636efa\", \"#EF553B\", \"#00cc96\", \"#ab63fa\", \"#FFA15A\", \"#19d3f3\", \"#FF6692\", \"#B6E880\", \"#FF97FF\", \"#FECB52\"], \"font\": {\"color\": \"#2a3f5f\"}, \"geo\": {\"bgcolor\": \"white\", \"lakecolor\": \"white\", \"landcolor\": \"#E5ECF6\", \"showlakes\": true, \"showland\": true, \"subunitcolor\": \"white\"}, \"hoverlabel\": {\"align\": \"left\"}, \"hovermode\": \"closest\", \"mapbox\": {\"style\": \"light\"}, \"paper_bgcolor\": \"white\", \"plot_bgcolor\": \"#E5ECF6\", \"polar\": {\"angularaxis\": {\"gridcolor\": \"white\", \"linecolor\": \"white\", \"ticks\": \"\"}, \"bgcolor\": \"#E5ECF6\", \"radialaxis\": {\"gridcolor\": \"white\", \"linecolor\": \"white\", \"ticks\": \"\"}}, \"scene\": {\"xaxis\": {\"backgroundcolor\": \"#E5ECF6\", \"gridcolor\": \"white\", \"gridwidth\": 2, \"linecolor\": \"white\", \"showbackground\": true, \"ticks\": \"\", \"zerolinecolor\": \"white\"}, \"yaxis\": {\"backgroundcolor\": \"#E5ECF6\", \"gridcolor\": \"white\", \"gridwidth\": 2, \"linecolor\": \"white\", \"showbackground\": true, \"ticks\": \"\", \"zerolinecolor\": \"white\"}, \"zaxis\": {\"backgroundcolor\": \"#E5ECF6\", \"gridcolor\": \"white\", \"gridwidth\": 2, \"linecolor\": \"white\", \"showbackground\": true, \"ticks\": \"\", \"zerolinecolor\": \"white\"}}, \"shapedefaults\": {\"line\": {\"color\": \"#2a3f5f\"}}, \"ternary\": {\"aaxis\": {\"gridcolor\": \"white\", \"linecolor\": \"white\", \"ticks\": \"\"}, \"baxis\": {\"gridcolor\": \"white\", \"linecolor\": \"white\", \"ticks\": \"\"}, \"bgcolor\": \"#E5ECF6\", \"caxis\": {\"gridcolor\": \"white\", \"linecolor\": \"white\", \"ticks\": \"\"}}, \"title\": {\"x\": 0.05}, \"xaxis\": {\"automargin\": true, \"gridcolor\": \"white\", \"linecolor\": \"white\", \"ticks\": \"\", \"title\": {\"standoff\": 15}, \"zerolinecolor\": \"white\", \"zerolinewidth\": 2}, \"yaxis\": {\"automargin\": true, \"gridcolor\": \"white\", \"linecolor\": \"white\", \"ticks\": \"\", \"title\": {\"standoff\": 15}, \"zerolinecolor\": \"white\", \"zerolinewidth\": 2}}}, \"title\": {\"text\": \"Rozrzut cenowy pe\\u0142nej op\\u0142aty per msc (wg l.pokoj\\u00f3w)\"}, \"xaxis\": {\"anchor\": \"y\", \"domain\": [0.0, 1.0], \"title\": {\"text\": \"pokoje\"}}, \"yaxis\": {\"anchor\": \"x\", \"domain\": [0.0, 1.0], \"title\": {\"text\": \"suma_oplat\"}}},                        {\"responsive\": true}                    ).then(function(){\n",
       "                            \n",
       "var gd = document.getElementById('e3571fff-dc6d-4bef-ade0-69c38a0bc367');\n",
       "var x = new MutationObserver(function (mutations, observer) {{\n",
       "        var display = window.getComputedStyle(gd).display;\n",
       "        if (!display || display === 'none') {{\n",
       "            console.log([gd, 'removed!']);\n",
       "            Plotly.purge(gd);\n",
       "            observer.disconnect();\n",
       "        }}\n",
       "}});\n",
       "\n",
       "// Listen for the removal of the full notebook cells\n",
       "var notebookContainer = gd.closest('#notebook-container');\n",
       "if (notebookContainer) {{\n",
       "    x.observe(notebookContainer, {childList: true});\n",
       "}}\n",
       "\n",
       "// Listen for the clearing of the current output cell\n",
       "var outputEl = gd.closest('.output');\n",
       "if (outputEl) {{\n",
       "    x.observe(outputEl, {childList: true});\n",
       "}}\n",
       "\n",
       "                        })                };                });            </script>        </div>"
      ]
     },
     "metadata": {},
     "output_type": "display_data"
    }
   ],
   "source": [
    "suma_oplat_box = px.box(tabela,\n",
    "                                y = 'suma_oplat',\n",
    "                                x = 'pokoje',\n",
    "                                color = 'miasto',\n",
    "                                title = 'Rozrzut cenowy pełnej opłaty per msc (wg l.pokojów)')\n",
    "\n",
    "suma_oplat_box"
   ]
  },
  {
   "cell_type": "code",
   "execution_count": 124,
   "metadata": {},
   "outputs": [
    {
     "data": {
      "application/vnd.plotly.v1+json": {
       "config": {
        "plotlyServerURL": "https://plot.ly"
       },
       "data": [
        {
         "hovertemplate": "miasto=Katowice<br>powierzchnia=%{x}<br>suma_oplat=%{y}<extra></extra>",
         "legendgroup": "Katowice",
         "marker": {
          "color": "#636efa",
          "symbol": "circle"
         },
         "mode": "markers",
         "name": "Katowice",
         "orientation": "v",
         "showlegend": true,
         "type": "scatter",
         "x": [
          43,
          35,
          43,
          35,
          50,
          37,
          35,
          28,
          40,
          39,
          39,
          40,
          50,
          37,
          46,
          24,
          18,
          25,
          45,
          40,
          31,
          43,
          41,
          18,
          21,
          16,
          47,
          19,
          40,
          35,
          28,
          47,
          44,
          24,
          28,
          17,
          38,
          35,
          49,
          42,
          36,
          40,
          42,
          40,
          34,
          27,
          30,
          50,
          32,
          36,
          42,
          39,
          36,
          23,
          49,
          23,
          25,
          32,
          40,
          39,
          32,
          41,
          39,
          33,
          38,
          44,
          23,
          48,
          40,
          46,
          35,
          26,
          22,
          33,
          37,
          38,
          38,
          26,
          22,
          30,
          38,
          49,
          40,
          38,
          42,
          40,
          45,
          50,
          31,
          41,
          49,
          38,
          16,
          36,
          43,
          37,
          46,
          44,
          39,
          28,
          27,
          50,
          40,
          50,
          45,
          42,
          40,
          37,
          35,
          46,
          25,
          48,
          38,
          25,
          35,
          25,
          44,
          31,
          29,
          48,
          16,
          40,
          42,
          43,
          25,
          49,
          50,
          18,
          47,
          36,
          50,
          47,
          30,
          35,
          39,
          45,
          35,
          40,
          47,
          30,
          46,
          38,
          24,
          26,
          34,
          41,
          42,
          38,
          42,
          29,
          50,
          47,
          45,
          38,
          44,
          46,
          44,
          48,
          34,
          38,
          31,
          38,
          14,
          48,
          40,
          33,
          35,
          50,
          35,
          32,
          42,
          35,
          43,
          38,
          49,
          40,
          48,
          43,
          46,
          50,
          38,
          18,
          37,
          40,
          45,
          33,
          32,
          20,
          50,
          35,
          38,
          30,
          41,
          39,
          47,
          36,
          40,
          27,
          35,
          32,
          16,
          26,
          32,
          48,
          43,
          40,
          43,
          30,
          38,
          43,
          43,
          37,
          36,
          25,
          36,
          23,
          42,
          50,
          49,
          32,
          30,
          34,
          27,
          29,
          20,
          48,
          48,
          39,
          43,
          46,
          33,
          47,
          37,
          34,
          30,
          41,
          40,
          37,
          45,
          38,
          39,
          48,
          43,
          37,
          50,
          21,
          23,
          38,
          38,
          39,
          38,
          40,
          36,
          33,
          49,
          20,
          43,
          49,
          43,
          35,
          50,
          35,
          48,
          21,
          43,
          25,
          28,
          41,
          22,
          41,
          47,
          44,
          37,
          36,
          44,
          45,
          40,
          26,
          41,
          30,
          50,
          36,
          38,
          50,
          17,
          40,
          48,
          37,
          48,
          47,
          30,
          36,
          35,
          47,
          40,
          48,
          39,
          20,
          45,
          28,
          10,
          20,
          20,
          20,
          23,
          17,
          35,
          14,
          35,
          28,
          26,
          14,
          45,
          21,
          26,
          30,
          18,
          39,
          50,
          46,
          27,
          32,
          29,
          40,
          35,
          49,
          50,
          50,
          30,
          43,
          50,
          50,
          40,
          36,
          40,
          37,
          40,
          40,
          35,
          36,
          46,
          50,
          43,
          39,
          40,
          40,
          36,
          24,
          46,
          24,
          21,
          29,
          48,
          30,
          46,
          48,
          17,
          20,
          38,
          25,
          35,
          16,
          37,
          28,
          15,
          50,
          40,
          37,
          30,
          30,
          26,
          34,
          41,
          34,
          39,
          17,
          27,
          42,
          49,
          30,
          29,
          40,
          40,
          43,
          39,
          38,
          50,
          47,
          43,
          43,
          42,
          43,
          43,
          38,
          22,
          49,
          28,
          38,
          30,
          47,
          46,
          45,
          30,
          40,
          47,
          20,
          40,
          26,
          45,
          33,
          31,
          31,
          42,
          30,
          40,
          43,
          26,
          38,
          48,
          30,
          28,
          27,
          16,
          42,
          42,
          43,
          38,
          50,
          32,
          32,
          43,
          39,
          33,
          36,
          44,
          47,
          33,
          46,
          50,
          47,
          48,
          32,
          30,
          27,
          40,
          36,
          48,
          31,
          46,
          44,
          34,
          33,
          45,
          30,
          35,
          38,
          25,
          38,
          39,
          36,
          38,
          18,
          39,
          48,
          38,
          21,
          50,
          43,
          31,
          41,
          38,
          36,
          21,
          10,
          45,
          45,
          47,
          42,
          40,
          39,
          30,
          23,
          27,
          32,
          30,
          19,
          37,
          26,
          27,
          23,
          27,
          38,
          37,
          50,
          38,
          39,
          41,
          40,
          35,
          37,
          50,
          46,
          41,
          40,
          28,
          28,
          40,
          50,
          25,
          25,
          34,
          30,
          21,
          29,
          18,
          44,
          28,
          31,
          38,
          44,
          37,
          38,
          20,
          20,
          49,
          30,
          39,
          48,
          39,
          39,
          38,
          26,
          30,
          38,
          50,
          39,
          39,
          50,
          26,
          23,
          19,
          47,
          45,
          19,
          43,
          48,
          37,
          31,
          37,
          46,
          38,
          44,
          50,
          47,
          25,
          38,
          43,
          22,
          35,
          41,
          45,
          22,
          20,
          41,
          49,
          40,
          34,
          45,
          50,
          41,
          49,
          49,
          35,
          10,
          13,
          11,
          31,
          38,
          49,
          29,
          49,
          50,
          22,
          26,
          41,
          35,
          48,
          38,
          40,
          40,
          48,
          43,
          40,
          26,
          25,
          28,
          26,
          18,
          43,
          17,
          32,
          49,
          45,
          22,
          45,
          45,
          42,
          42,
          38,
          17,
          38,
          30,
          32,
          42,
          31,
          30,
          44,
          49,
          46,
          37,
          42,
          39,
          34,
          29,
          49,
          20,
          30,
          50,
          36,
          25,
          32,
          48,
          30,
          18,
          36,
          46,
          37,
          40,
          35,
          42,
          41,
          16,
          35,
          35,
          43,
          45,
          29,
          43,
          28,
          44,
          40,
          35,
          23,
          38,
          30,
          38,
          44,
          34,
          21,
          8,
          38,
          45,
          43,
          9,
          27,
          48,
          22,
          26,
          20,
          37,
          25,
          44,
          45,
          36,
          29,
          44,
          25,
          27,
          18,
          17,
          22,
          20,
          25,
          18,
          22,
          17,
          50,
          35,
          36,
          15,
          10,
          10,
          23,
          28,
          38,
          37,
          37,
          37,
          28,
          28,
          29,
          29,
          48,
          28,
          45,
          10,
          11,
          48,
          36,
          48,
          18,
          50,
          35,
          42,
          30,
          25,
          30,
          22,
          24,
          29,
          34,
          30,
          15,
          38,
          29,
          16,
          21,
          49,
          50,
          43,
          47,
          20,
          47,
          11,
          13,
          43,
          10,
          38,
          36,
          36,
          25,
          44,
          29,
          15,
          45,
          37,
          42,
          18,
          43,
          45,
          10,
          9,
          38,
          25,
          35,
          28,
          27,
          35,
          42,
          22,
          28,
          40,
          46,
          38,
          18,
          37,
          38,
          38,
          46,
          28,
          49,
          40,
          19,
          42,
          27,
          50,
          37,
          39,
          34,
          42,
          50,
          40,
          34,
          27,
          43,
          37,
          27,
          50,
          28,
          45,
          28,
          36,
          40,
          40,
          23,
          41,
          37
         ],
         "xaxis": "x",
         "y": [
          1430,
          1661,
          1850,
          1100,
          2660,
          1020,
          1700,
          1400,
          1900,
          2200,
          1200,
          2000,
          2300,
          1300,
          1800,
          1150,
          1000,
          1130,
          1450,
          2200,
          1800,
          1887,
          850,
          1149,
          750,
          550,
          2201,
          1290,
          1550,
          1673,
          1306,
          2700,
          2714,
          1300,
          1351,
          900,
          1900,
          1600,
          1700,
          2280,
          1200,
          1640,
          1800,
          2500,
          2050,
          2220,
          1750,
          1500,
          1800,
          1690,
          1900,
          1199,
          1900,
          1090,
          2230,
          1299,
          990,
          1290,
          1640,
          1501,
          2080,
          2100,
          1600,
          1690,
          1750,
          1100,
          790,
          2550,
          1400,
          1850,
          1300,
          1351,
          1050,
          1780,
          1910,
          1500,
          900,
          1050,
          1050,
          1800,
          1500,
          1550,
          2000,
          1300,
          2100,
          3000,
          1700,
          1500,
          1600,
          2100,
          1550,
          2500,
          1500,
          2200,
          1899,
          2024,
          1800,
          2900,
          1300,
          1350,
          1600,
          1890,
          1500,
          2100,
          2500,
          2100,
          2000,
          1300,
          1350,
          2430,
          1380,
          1300,
          1650,
          1150,
          1500,
          1300,
          2100,
          1800,
          1300,
          2550,
          1500,
          2135,
          1900,
          800,
          1400,
          1400,
          1300,
          1740,
          1650,
          1900,
          2200,
          2200,
          1700,
          2250,
          1530,
          2230,
          2050,
          1490,
          2575,
          1700,
          2650,
          1200,
          900,
          650,
          1242,
          2006,
          2100,
          1500,
          2100,
          1000,
          2200,
          2400,
          2970,
          1800,
          2900,
          2200,
          1750,
          991,
          2050,
          2500,
          1251,
          1300,
          460,
          1300,
          2450,
          1780,
          1851,
          1999,
          1661,
          1900,
          1900,
          1530,
          2336,
          1300,
          2120,
          1780,
          891,
          1700,
          2600,
          1851,
          1300,
          1250,
          1300,
          3000,
          2970,
          1400,
          2200,
          800,
          1600,
          970,
          1300,
          1850,
          1801,
          1501,
          2000,
          1600,
          2240,
          1600,
          1601,
          1460,
          1200,
          1250,
          2080,
          1880,
          1790,
          1640,
          1899,
          1450,
          1570,
          2000,
          2250,
          1180,
          1950,
          1150,
          2200,
          1350,
          2280,
          2050,
          1550,
          2050,
          1600,
          1690,
          1370,
          1500,
          999,
          2300,
          1800,
          2200,
          1800,
          2650,
          1300,
          2720,
          1630,
          1780,
          1890,
          1900,
          2135,
          1800,
          1300,
          1300,
          1400,
          2000,
          1887,
          1190,
          1290,
          1090,
          1451,
          1900,
          1900,
          1199,
          1900,
          2200,
          950,
          1500,
          1700,
          1050,
          1850,
          1650,
          1800,
          1644,
          1790,
          1490,
          1800,
          1200,
          2300,
          1191,
          1500,
          1650,
          1099,
          1650,
          2280,
          2001,
          1020,
          1690,
          1750,
          2480,
          2000,
          1050,
          1450,
          1460,
          1200,
          2000,
          2000,
          2600,
          900,
          1600,
          1800,
          1350,
          1600,
          1600,
          1100,
          1200,
          1700,
          1650,
          2240,
          1800,
          1900,
          1300,
          2200,
          1200,
          650,
          650,
          650,
          650,
          1199,
          1250,
          950,
          800,
          1646,
          950,
          849,
          700,
          2500,
          1105,
          1150,
          1000,
          1200,
          2135,
          1999,
          2600,
          1600,
          1350,
          1250,
          1350,
          2050,
          1500,
          3170,
          1800,
          1800,
          2000,
          1400,
          2100,
          2100,
          1600,
          2300,
          990,
          1850,
          1750,
          1201,
          2001,
          1900,
          1500,
          1850,
          2135,
          1800,
          2150,
          1500,
          850,
          2470,
          980,
          950,
          1199,
          1250,
          1251,
          1800,
          2100,
          900,
          1001,
          1600,
          1300,
          1700,
          1500,
          1630,
          1500,
          1000,
          2200,
          1420,
          1400,
          1200,
          1100,
          1050,
          1960,
          1650,
          1485,
          1650,
          800,
          1500,
          1650,
          1010,
          1950,
          1000,
          1350,
          1780,
          1850,
          319,
          1700,
          1600,
          2480,
          2150,
          2150,
          2100,
          1950,
          1950,
          1900,
          850,
          1600,
          1190,
          1760,
          1600,
          2250,
          2300,
          1568,
          1300,
          1750,
          1600,
          900,
          1490,
          1350,
          1500,
          1590,
          1300,
          1900,
          2300,
          1840,
          2000,
          2500,
          1260,
          1800,
          1400,
          1501,
          1050,
          1734,
          912,
          1400,
          1400,
          1430,
          1900,
          1500,
          2050,
          1200,
          1750,
          1300,
          1600,
          1000,
          2001,
          2550,
          1501,
          1651,
          2160,
          1650,
          1500,
          1200,
          1000,
          1400,
          1700,
          1550,
          1500,
          1600,
          1800,
          2900,
          1230,
          1200,
          2000,
          1350,
          1600,
          999,
          1399,
          1750,
          2000,
          1850,
          1700,
          1150,
          1370,
          2240,
          1500,
          800,
          1500,
          1900,
          2040,
          2550,
          1200,
          1690,
          1200,
          730,
          2560,
          2200,
          1800,
          1900,
          1750,
          1150,
          1350,
          800,
          1180,
          1150,
          1101,
          800,
          1200,
          800,
          950,
          800,
          1265,
          1300,
          1020,
          2200,
          2400,
          2070,
          1860,
          1800,
          1000,
          3000,
          1250,
          1950,
          1490,
          1601,
          1300,
          1300,
          1100,
          2500,
          900,
          700,
          700,
          1400,
          1150,
          1300,
          1149,
          2714,
          1200,
          900,
          800,
          1980,
          1990,
          1200,
          1000,
          1000,
          1000,
          1250,
          1700,
          1800,
          1600,
          1300,
          1800,
          1100,
          1250,
          1100,
          1800,
          2200,
          2135,
          1850,
          1101,
          790,
          750,
          1600,
          1200,
          950,
          1500,
          2000,
          1850,
          1100,
          1000,
          1800,
          1500,
          1980,
          2300,
          1600,
          1300,
          1480,
          1500,
          1450,
          1700,
          2100,
          1700,
          1400,
          1050,
          1800,
          1540,
          2200,
          1000,
          2100,
          2400,
          2100,
          2200,
          2040,
          1600,
          590,
          690,
          690,
          1250,
          1750,
          1900,
          1300,
          1600,
          2300,
          890,
          950,
          2100,
          1851,
          1880,
          1920,
          2120,
          1500,
          2300,
          2100,
          1401,
          920,
          790,
          1350,
          1600,
          950,
          1750,
          1000,
          2116,
          2200,
          2650,
          1100,
          2250,
          2150,
          2500,
          1500,
          1900,
          1090,
          1700,
          1750,
          1800,
          2280,
          271,
          1250,
          2000,
          1350,
          1600,
          1600,
          1800,
          1950,
          1980,
          700,
          1900,
          1200,
          1150,
          1390,
          1650,
          1200,
          1400,
          1600,
          800,
          1150,
          1800,
          1850,
          1300,
          1640,
          1644,
          1650,
          1600,
          650,
          1650,
          1650,
          1794,
          1800,
          1500,
          1700,
          1100,
          1200,
          1200,
          1600,
          900,
          1601,
          900,
          1490,
          1450,
          1350,
          967,
          390,
          1900,
          2970,
          1850,
          390,
          1500,
          1599,
          1300,
          1500,
          1200,
          1600,
          1100,
          1980,
          1500,
          2001,
          1000,
          1980,
          1100,
          1290,
          1300,
          980,
          1250,
          1600,
          1350,
          1300,
          1400,
          1300,
          2660,
          2050,
          1200,
          1200,
          700,
          730,
          1300,
          1200,
          2000,
          1000,
          1150,
          1200,
          1200,
          1200,
          1200,
          1200,
          1600,
          1000,
          1350,
          750,
          550,
          1650,
          1800,
          1300,
          940,
          2200,
          1851,
          1700,
          1200,
          1500,
          800,
          1299,
          1100,
          990,
          1242,
          1001,
          901,
          2000,
          1001,
          1050,
          1500,
          1950,
          2300,
          1699,
          1500,
          800,
          1750,
          1100,
          1100,
          2300,
          730,
          1500,
          1500,
          1500,
          1350,
          2490,
          1200,
          900,
          1750,
          1100,
          1400,
          1400,
          1000,
          1500,
          390,
          390,
          1100,
          1200,
          1600,
          1200,
          1200,
          1673,
          1800,
          1500,
          1200,
          1400,
          1700,
          1600,
          1000,
          1400,
          1350,
          1300,
          1399,
          1400,
          1727,
          1499,
          1200,
          1300,
          950,
          1500,
          1900,
          1500,
          1000,
          1700,
          2660,
          1900,
          2050,
          1200,
          1200,
          1150,
          1350,
          2300,
          1200,
          1750,
          1100,
          1200,
          1200,
          1200,
          900,
          1200,
          1400
         ],
         "yaxis": "y"
        },
        {
         "hovertemplate": "miasto=Bielsko-Biała<br>powierzchnia=%{x}<br>suma_oplat=%{y}<extra></extra>",
         "legendgroup": "Bielsko-Biała",
         "marker": {
          "color": "#EF553B",
          "symbol": "circle"
         },
         "mode": "markers",
         "name": "Bielsko-Biała",
         "orientation": "v",
         "showlegend": true,
         "type": "scatter",
         "x": [
          30,
          47,
          31,
          41,
          29,
          45,
          36,
          48,
          43,
          50,
          26,
          38,
          44,
          41,
          46,
          48,
          30,
          40,
          25,
          45,
          38,
          30,
          48,
          41,
          35,
          32,
          50,
          50,
          49,
          34,
          38,
          45,
          49,
          29,
          36,
          38,
          44,
          29,
          39,
          33,
          44,
          29,
          36,
          38,
          45,
          29,
          37,
          24,
          43,
          36,
          25,
          44,
          32,
          42,
          44,
          25,
          30,
          37,
          44,
          38,
          20,
          25,
          29,
          34,
          50,
          43,
          48,
          43,
          45,
          38,
          38,
          40,
          46,
          36,
          32,
          36,
          33,
          29,
          44,
          19,
          43,
          33,
          43,
          38,
          46,
          36,
          44,
          36,
          30,
          41,
          30,
          48,
          40,
          47,
          40,
          45,
          28,
          31,
          48,
          43,
          39,
          38,
          49,
          29,
          24,
          29,
          47,
          30,
          25
         ],
         "xaxis": "x",
         "y": [
          1900,
          1600,
          1675,
          750,
          1550,
          1100,
          1150,
          1650,
          1550,
          2600,
          1370,
          1500,
          1800,
          2050,
          2100,
          2490,
          1620,
          2000,
          1150,
          1960,
          2049,
          1420,
          2790,
          1700,
          1300,
          1650,
          1800,
          1850,
          2112,
          1450,
          1400,
          1650,
          1800,
          1700,
          1860,
          2049,
          2250,
          1688,
          1890,
          1150,
          1800,
          1550,
          1405,
          1630,
          1650,
          1900,
          1950,
          1260,
          1700,
          1860,
          1500,
          1970,
          1780,
          1600,
          2350,
          700,
          1450,
          1500,
          1520,
          1800,
          1300,
          1500,
          1500,
          900,
          1865,
          2110,
          2790,
          1800,
          1600,
          1550,
          2049,
          1600,
          2100,
          1800,
          1500,
          1400,
          1400,
          1550,
          2340,
          1100,
          1700,
          1100,
          1800,
          1700,
          1390,
          1860,
          2200,
          1950,
          1900,
          2050,
          1200,
          1300,
          1300,
          2000,
          1700,
          1960,
          1600,
          1499,
          1750,
          1750,
          1400,
          1600,
          1900,
          1550,
          1260,
          1450,
          1300,
          1000,
          760
         ],
         "yaxis": "y"
        },
        {
         "hovertemplate": "miasto=Tychy<br>powierzchnia=%{x}<br>suma_oplat=%{y}<extra></extra>",
         "legendgroup": "Tychy",
         "marker": {
          "color": "#00cc96",
          "symbol": "circle"
         },
         "mode": "markers",
         "name": "Tychy",
         "orientation": "v",
         "showlegend": true,
         "type": "scatter",
         "x": [
          31,
          41,
          42,
          43,
          47,
          38,
          40,
          36,
          41,
          50,
          27,
          38,
          39,
          38,
          40,
          42,
          48,
          36,
          38,
          41,
          39,
          39,
          42,
          31,
          34,
          38,
          40,
          42,
          33,
          36,
          44,
          38,
          42,
          46,
          48,
          39,
          39,
          38,
          31,
          39,
          45,
          45,
          40,
          35,
          37,
          36,
          45,
          50,
          28,
          37,
          37,
          40,
          36,
          39,
          23
         ],
         "xaxis": "x",
         "y": [
          1300,
          800,
          2201,
          1590,
          1850,
          1930,
          2300,
          1580,
          1800,
          1500,
          1480,
          1450,
          1810,
          1930,
          2000,
          2201,
          1709,
          1580,
          1520,
          2200,
          1810,
          1950,
          1700,
          1400,
          1375,
          1501,
          2300,
          2201,
          1690,
          1650,
          2000,
          1450,
          500,
          2000,
          1800,
          1550,
          3000,
          1550,
          1300,
          1810,
          1690,
          2350,
          1500,
          1400,
          1500,
          1450,
          1550,
          1500,
          1200,
          1500,
          1800,
          2300,
          1590,
          1700,
          1200
         ],
         "yaxis": "y"
        }
       ],
       "layout": {
        "legend": {
         "title": {
          "text": "miasto"
         },
         "tracegroupgap": 0
        },
        "template": {
         "data": {
          "bar": [
           {
            "error_x": {
             "color": "#2a3f5f"
            },
            "error_y": {
             "color": "#2a3f5f"
            },
            "marker": {
             "line": {
              "color": "#E5ECF6",
              "width": 0.5
             }
            },
            "type": "bar"
           }
          ],
          "barpolar": [
           {
            "marker": {
             "line": {
              "color": "#E5ECF6",
              "width": 0.5
             }
            },
            "type": "barpolar"
           }
          ],
          "carpet": [
           {
            "aaxis": {
             "endlinecolor": "#2a3f5f",
             "gridcolor": "white",
             "linecolor": "white",
             "minorgridcolor": "white",
             "startlinecolor": "#2a3f5f"
            },
            "baxis": {
             "endlinecolor": "#2a3f5f",
             "gridcolor": "white",
             "linecolor": "white",
             "minorgridcolor": "white",
             "startlinecolor": "#2a3f5f"
            },
            "type": "carpet"
           }
          ],
          "choropleth": [
           {
            "colorbar": {
             "outlinewidth": 0,
             "ticks": ""
            },
            "type": "choropleth"
           }
          ],
          "contour": [
           {
            "colorbar": {
             "outlinewidth": 0,
             "ticks": ""
            },
            "colorscale": [
             [
              0,
              "#0d0887"
             ],
             [
              0.1111111111111111,
              "#46039f"
             ],
             [
              0.2222222222222222,
              "#7201a8"
             ],
             [
              0.3333333333333333,
              "#9c179e"
             ],
             [
              0.4444444444444444,
              "#bd3786"
             ],
             [
              0.5555555555555556,
              "#d8576b"
             ],
             [
              0.6666666666666666,
              "#ed7953"
             ],
             [
              0.7777777777777778,
              "#fb9f3a"
             ],
             [
              0.8888888888888888,
              "#fdca26"
             ],
             [
              1,
              "#f0f921"
             ]
            ],
            "type": "contour"
           }
          ],
          "contourcarpet": [
           {
            "colorbar": {
             "outlinewidth": 0,
             "ticks": ""
            },
            "type": "contourcarpet"
           }
          ],
          "heatmap": [
           {
            "colorbar": {
             "outlinewidth": 0,
             "ticks": ""
            },
            "colorscale": [
             [
              0,
              "#0d0887"
             ],
             [
              0.1111111111111111,
              "#46039f"
             ],
             [
              0.2222222222222222,
              "#7201a8"
             ],
             [
              0.3333333333333333,
              "#9c179e"
             ],
             [
              0.4444444444444444,
              "#bd3786"
             ],
             [
              0.5555555555555556,
              "#d8576b"
             ],
             [
              0.6666666666666666,
              "#ed7953"
             ],
             [
              0.7777777777777778,
              "#fb9f3a"
             ],
             [
              0.8888888888888888,
              "#fdca26"
             ],
             [
              1,
              "#f0f921"
             ]
            ],
            "type": "heatmap"
           }
          ],
          "heatmapgl": [
           {
            "colorbar": {
             "outlinewidth": 0,
             "ticks": ""
            },
            "colorscale": [
             [
              0,
              "#0d0887"
             ],
             [
              0.1111111111111111,
              "#46039f"
             ],
             [
              0.2222222222222222,
              "#7201a8"
             ],
             [
              0.3333333333333333,
              "#9c179e"
             ],
             [
              0.4444444444444444,
              "#bd3786"
             ],
             [
              0.5555555555555556,
              "#d8576b"
             ],
             [
              0.6666666666666666,
              "#ed7953"
             ],
             [
              0.7777777777777778,
              "#fb9f3a"
             ],
             [
              0.8888888888888888,
              "#fdca26"
             ],
             [
              1,
              "#f0f921"
             ]
            ],
            "type": "heatmapgl"
           }
          ],
          "histogram": [
           {
            "marker": {
             "colorbar": {
              "outlinewidth": 0,
              "ticks": ""
             }
            },
            "type": "histogram"
           }
          ],
          "histogram2d": [
           {
            "colorbar": {
             "outlinewidth": 0,
             "ticks": ""
            },
            "colorscale": [
             [
              0,
              "#0d0887"
             ],
             [
              0.1111111111111111,
              "#46039f"
             ],
             [
              0.2222222222222222,
              "#7201a8"
             ],
             [
              0.3333333333333333,
              "#9c179e"
             ],
             [
              0.4444444444444444,
              "#bd3786"
             ],
             [
              0.5555555555555556,
              "#d8576b"
             ],
             [
              0.6666666666666666,
              "#ed7953"
             ],
             [
              0.7777777777777778,
              "#fb9f3a"
             ],
             [
              0.8888888888888888,
              "#fdca26"
             ],
             [
              1,
              "#f0f921"
             ]
            ],
            "type": "histogram2d"
           }
          ],
          "histogram2dcontour": [
           {
            "colorbar": {
             "outlinewidth": 0,
             "ticks": ""
            },
            "colorscale": [
             [
              0,
              "#0d0887"
             ],
             [
              0.1111111111111111,
              "#46039f"
             ],
             [
              0.2222222222222222,
              "#7201a8"
             ],
             [
              0.3333333333333333,
              "#9c179e"
             ],
             [
              0.4444444444444444,
              "#bd3786"
             ],
             [
              0.5555555555555556,
              "#d8576b"
             ],
             [
              0.6666666666666666,
              "#ed7953"
             ],
             [
              0.7777777777777778,
              "#fb9f3a"
             ],
             [
              0.8888888888888888,
              "#fdca26"
             ],
             [
              1,
              "#f0f921"
             ]
            ],
            "type": "histogram2dcontour"
           }
          ],
          "mesh3d": [
           {
            "colorbar": {
             "outlinewidth": 0,
             "ticks": ""
            },
            "type": "mesh3d"
           }
          ],
          "parcoords": [
           {
            "line": {
             "colorbar": {
              "outlinewidth": 0,
              "ticks": ""
             }
            },
            "type": "parcoords"
           }
          ],
          "pie": [
           {
            "automargin": true,
            "type": "pie"
           }
          ],
          "scatter": [
           {
            "marker": {
             "colorbar": {
              "outlinewidth": 0,
              "ticks": ""
             }
            },
            "type": "scatter"
           }
          ],
          "scatter3d": [
           {
            "line": {
             "colorbar": {
              "outlinewidth": 0,
              "ticks": ""
             }
            },
            "marker": {
             "colorbar": {
              "outlinewidth": 0,
              "ticks": ""
             }
            },
            "type": "scatter3d"
           }
          ],
          "scattercarpet": [
           {
            "marker": {
             "colorbar": {
              "outlinewidth": 0,
              "ticks": ""
             }
            },
            "type": "scattercarpet"
           }
          ],
          "scattergeo": [
           {
            "marker": {
             "colorbar": {
              "outlinewidth": 0,
              "ticks": ""
             }
            },
            "type": "scattergeo"
           }
          ],
          "scattergl": [
           {
            "marker": {
             "colorbar": {
              "outlinewidth": 0,
              "ticks": ""
             }
            },
            "type": "scattergl"
           }
          ],
          "scattermapbox": [
           {
            "marker": {
             "colorbar": {
              "outlinewidth": 0,
              "ticks": ""
             }
            },
            "type": "scattermapbox"
           }
          ],
          "scatterpolar": [
           {
            "marker": {
             "colorbar": {
              "outlinewidth": 0,
              "ticks": ""
             }
            },
            "type": "scatterpolar"
           }
          ],
          "scatterpolargl": [
           {
            "marker": {
             "colorbar": {
              "outlinewidth": 0,
              "ticks": ""
             }
            },
            "type": "scatterpolargl"
           }
          ],
          "scatterternary": [
           {
            "marker": {
             "colorbar": {
              "outlinewidth": 0,
              "ticks": ""
             }
            },
            "type": "scatterternary"
           }
          ],
          "surface": [
           {
            "colorbar": {
             "outlinewidth": 0,
             "ticks": ""
            },
            "colorscale": [
             [
              0,
              "#0d0887"
             ],
             [
              0.1111111111111111,
              "#46039f"
             ],
             [
              0.2222222222222222,
              "#7201a8"
             ],
             [
              0.3333333333333333,
              "#9c179e"
             ],
             [
              0.4444444444444444,
              "#bd3786"
             ],
             [
              0.5555555555555556,
              "#d8576b"
             ],
             [
              0.6666666666666666,
              "#ed7953"
             ],
             [
              0.7777777777777778,
              "#fb9f3a"
             ],
             [
              0.8888888888888888,
              "#fdca26"
             ],
             [
              1,
              "#f0f921"
             ]
            ],
            "type": "surface"
           }
          ],
          "table": [
           {
            "cells": {
             "fill": {
              "color": "#EBF0F8"
             },
             "line": {
              "color": "white"
             }
            },
            "header": {
             "fill": {
              "color": "#C8D4E3"
             },
             "line": {
              "color": "white"
             }
            },
            "type": "table"
           }
          ]
         },
         "layout": {
          "annotationdefaults": {
           "arrowcolor": "#2a3f5f",
           "arrowhead": 0,
           "arrowwidth": 1
          },
          "autotypenumbers": "strict",
          "coloraxis": {
           "colorbar": {
            "outlinewidth": 0,
            "ticks": ""
           }
          },
          "colorscale": {
           "diverging": [
            [
             0,
             "#8e0152"
            ],
            [
             0.1,
             "#c51b7d"
            ],
            [
             0.2,
             "#de77ae"
            ],
            [
             0.3,
             "#f1b6da"
            ],
            [
             0.4,
             "#fde0ef"
            ],
            [
             0.5,
             "#f7f7f7"
            ],
            [
             0.6,
             "#e6f5d0"
            ],
            [
             0.7,
             "#b8e186"
            ],
            [
             0.8,
             "#7fbc41"
            ],
            [
             0.9,
             "#4d9221"
            ],
            [
             1,
             "#276419"
            ]
           ],
           "sequential": [
            [
             0,
             "#0d0887"
            ],
            [
             0.1111111111111111,
             "#46039f"
            ],
            [
             0.2222222222222222,
             "#7201a8"
            ],
            [
             0.3333333333333333,
             "#9c179e"
            ],
            [
             0.4444444444444444,
             "#bd3786"
            ],
            [
             0.5555555555555556,
             "#d8576b"
            ],
            [
             0.6666666666666666,
             "#ed7953"
            ],
            [
             0.7777777777777778,
             "#fb9f3a"
            ],
            [
             0.8888888888888888,
             "#fdca26"
            ],
            [
             1,
             "#f0f921"
            ]
           ],
           "sequentialminus": [
            [
             0,
             "#0d0887"
            ],
            [
             0.1111111111111111,
             "#46039f"
            ],
            [
             0.2222222222222222,
             "#7201a8"
            ],
            [
             0.3333333333333333,
             "#9c179e"
            ],
            [
             0.4444444444444444,
             "#bd3786"
            ],
            [
             0.5555555555555556,
             "#d8576b"
            ],
            [
             0.6666666666666666,
             "#ed7953"
            ],
            [
             0.7777777777777778,
             "#fb9f3a"
            ],
            [
             0.8888888888888888,
             "#fdca26"
            ],
            [
             1,
             "#f0f921"
            ]
           ]
          },
          "colorway": [
           "#636efa",
           "#EF553B",
           "#00cc96",
           "#ab63fa",
           "#FFA15A",
           "#19d3f3",
           "#FF6692",
           "#B6E880",
           "#FF97FF",
           "#FECB52"
          ],
          "font": {
           "color": "#2a3f5f"
          },
          "geo": {
           "bgcolor": "white",
           "lakecolor": "white",
           "landcolor": "#E5ECF6",
           "showlakes": true,
           "showland": true,
           "subunitcolor": "white"
          },
          "hoverlabel": {
           "align": "left"
          },
          "hovermode": "closest",
          "mapbox": {
           "style": "light"
          },
          "paper_bgcolor": "white",
          "plot_bgcolor": "#E5ECF6",
          "polar": {
           "angularaxis": {
            "gridcolor": "white",
            "linecolor": "white",
            "ticks": ""
           },
           "bgcolor": "#E5ECF6",
           "radialaxis": {
            "gridcolor": "white",
            "linecolor": "white",
            "ticks": ""
           }
          },
          "scene": {
           "xaxis": {
            "backgroundcolor": "#E5ECF6",
            "gridcolor": "white",
            "gridwidth": 2,
            "linecolor": "white",
            "showbackground": true,
            "ticks": "",
            "zerolinecolor": "white"
           },
           "yaxis": {
            "backgroundcolor": "#E5ECF6",
            "gridcolor": "white",
            "gridwidth": 2,
            "linecolor": "white",
            "showbackground": true,
            "ticks": "",
            "zerolinecolor": "white"
           },
           "zaxis": {
            "backgroundcolor": "#E5ECF6",
            "gridcolor": "white",
            "gridwidth": 2,
            "linecolor": "white",
            "showbackground": true,
            "ticks": "",
            "zerolinecolor": "white"
           }
          },
          "shapedefaults": {
           "line": {
            "color": "#2a3f5f"
           }
          },
          "ternary": {
           "aaxis": {
            "gridcolor": "white",
            "linecolor": "white",
            "ticks": ""
           },
           "baxis": {
            "gridcolor": "white",
            "linecolor": "white",
            "ticks": ""
           },
           "bgcolor": "#E5ECF6",
           "caxis": {
            "gridcolor": "white",
            "linecolor": "white",
            "ticks": ""
           }
          },
          "title": {
           "x": 0.05
          },
          "xaxis": {
           "automargin": true,
           "gridcolor": "white",
           "linecolor": "white",
           "ticks": "",
           "title": {
            "standoff": 15
           },
           "zerolinecolor": "white",
           "zerolinewidth": 2
          },
          "yaxis": {
           "automargin": true,
           "gridcolor": "white",
           "linecolor": "white",
           "ticks": "",
           "title": {
            "standoff": 15
           },
           "zerolinecolor": "white",
           "zerolinewidth": 2
          }
         }
        },
        "title": {
         "text": "Rozrzut sum oplat za mieszkanie."
        },
        "xaxis": {
         "anchor": "y",
         "domain": [
          0,
          1
         ],
         "title": {
          "text": "powierzchnia"
         }
        },
        "yaxis": {
         "anchor": "x",
         "domain": [
          0,
          1
         ],
         "title": {
          "text": "suma_oplat"
         }
        }
       }
      },
      "text/html": [
       "<div>                            <div id=\"e20596cf-2403-4430-8625-2ea7ed0d5326\" class=\"plotly-graph-div\" style=\"height:525px; width:100%;\"></div>            <script type=\"text/javascript\">                require([\"plotly\"], function(Plotly) {                    window.PLOTLYENV=window.PLOTLYENV || {};                                    if (document.getElementById(\"e20596cf-2403-4430-8625-2ea7ed0d5326\")) {                    Plotly.newPlot(                        \"e20596cf-2403-4430-8625-2ea7ed0d5326\",                        [{\"hovertemplate\": \"miasto=Katowice<br>powierzchnia=%{x}<br>suma_oplat=%{y}<extra></extra>\", \"legendgroup\": \"Katowice\", \"marker\": {\"color\": \"#636efa\", \"symbol\": \"circle\"}, \"mode\": \"markers\", \"name\": \"Katowice\", \"orientation\": \"v\", \"showlegend\": true, \"type\": \"scatter\", \"x\": [43, 35, 43, 35, 50, 37, 35, 28, 40, 39, 39, 40, 50, 37, 46, 24, 18, 25, 45, 40, 31, 43, 41, 18, 21, 16, 47, 19, 40, 35, 28, 47, 44, 24, 28, 17, 38, 35, 49, 42, 36, 40, 42, 40, 34, 27, 30, 50, 32, 36, 42, 39, 36, 23, 49, 23, 25, 32, 40, 39, 32, 41, 39, 33, 38, 44, 23, 48, 40, 46, 35, 26, 22, 33, 37, 38, 38, 26, 22, 30, 38, 49, 40, 38, 42, 40, 45, 50, 31, 41, 49, 38, 16, 36, 43, 37, 46, 44, 39, 28, 27, 50, 40, 50, 45, 42, 40, 37, 35, 46, 25, 48, 38, 25, 35, 25, 44, 31, 29, 48, 16, 40, 42, 43, 25, 49, 50, 18, 47, 36, 50, 47, 30, 35, 39, 45, 35, 40, 47, 30, 46, 38, 24, 26, 34, 41, 42, 38, 42, 29, 50, 47, 45, 38, 44, 46, 44, 48, 34, 38, 31, 38, 14, 48, 40, 33, 35, 50, 35, 32, 42, 35, 43, 38, 49, 40, 48, 43, 46, 50, 38, 18, 37, 40, 45, 33, 32, 20, 50, 35, 38, 30, 41, 39, 47, 36, 40, 27, 35, 32, 16, 26, 32, 48, 43, 40, 43, 30, 38, 43, 43, 37, 36, 25, 36, 23, 42, 50, 49, 32, 30, 34, 27, 29, 20, 48, 48, 39, 43, 46, 33, 47, 37, 34, 30, 41, 40, 37, 45, 38, 39, 48, 43, 37, 50, 21, 23, 38, 38, 39, 38, 40, 36, 33, 49, 20, 43, 49, 43, 35, 50, 35, 48, 21, 43, 25, 28, 41, 22, 41, 47, 44, 37, 36, 44, 45, 40, 26, 41, 30, 50, 36, 38, 50, 17, 40, 48, 37, 48, 47, 30, 36, 35, 47, 40, 48, 39, 20, 45, 28, 10, 20, 20, 20, 23, 17, 35, 14, 35, 28, 26, 14, 45, 21, 26, 30, 18, 39, 50, 46, 27, 32, 29, 40, 35, 49, 50, 50, 30, 43, 50, 50, 40, 36, 40, 37, 40, 40, 35, 36, 46, 50, 43, 39, 40, 40, 36, 24, 46, 24, 21, 29, 48, 30, 46, 48, 17, 20, 38, 25, 35, 16, 37, 28, 15, 50, 40, 37, 30, 30, 26, 34, 41, 34, 39, 17, 27, 42, 49, 30, 29, 40, 40, 43, 39, 38, 50, 47, 43, 43, 42, 43, 43, 38, 22, 49, 28, 38, 30, 47, 46, 45, 30, 40, 47, 20, 40, 26, 45, 33, 31, 31, 42, 30, 40, 43, 26, 38, 48, 30, 28, 27, 16, 42, 42, 43, 38, 50, 32, 32, 43, 39, 33, 36, 44, 47, 33, 46, 50, 47, 48, 32, 30, 27, 40, 36, 48, 31, 46, 44, 34, 33, 45, 30, 35, 38, 25, 38, 39, 36, 38, 18, 39, 48, 38, 21, 50, 43, 31, 41, 38, 36, 21, 10, 45, 45, 47, 42, 40, 39, 30, 23, 27, 32, 30, 19, 37, 26, 27, 23, 27, 38, 37, 50, 38, 39, 41, 40, 35, 37, 50, 46, 41, 40, 28, 28, 40, 50, 25, 25, 34, 30, 21, 29, 18, 44, 28, 31, 38, 44, 37, 38, 20, 20, 49, 30, 39, 48, 39, 39, 38, 26, 30, 38, 50, 39, 39, 50, 26, 23, 19, 47, 45, 19, 43, 48, 37, 31, 37, 46, 38, 44, 50, 47, 25, 38, 43, 22, 35, 41, 45, 22, 20, 41, 49, 40, 34, 45, 50, 41, 49, 49, 35, 10, 13, 11, 31, 38, 49, 29, 49, 50, 22, 26, 41, 35, 48, 38, 40, 40, 48, 43, 40, 26, 25, 28, 26, 18, 43, 17, 32, 49, 45, 22, 45, 45, 42, 42, 38, 17, 38, 30, 32, 42, 31, 30, 44, 49, 46, 37, 42, 39, 34, 29, 49, 20, 30, 50, 36, 25, 32, 48, 30, 18, 36, 46, 37, 40, 35, 42, 41, 16, 35, 35, 43, 45, 29, 43, 28, 44, 40, 35, 23, 38, 30, 38, 44, 34, 21, 8, 38, 45, 43, 9, 27, 48, 22, 26, 20, 37, 25, 44, 45, 36, 29, 44, 25, 27, 18, 17, 22, 20, 25, 18, 22, 17, 50, 35, 36, 15, 10, 10, 23, 28, 38, 37, 37, 37, 28, 28, 29, 29, 48, 28, 45, 10, 11, 48, 36, 48, 18, 50, 35, 42, 30, 25, 30, 22, 24, 29, 34, 30, 15, 38, 29, 16, 21, 49, 50, 43, 47, 20, 47, 11, 13, 43, 10, 38, 36, 36, 25, 44, 29, 15, 45, 37, 42, 18, 43, 45, 10, 9, 38, 25, 35, 28, 27, 35, 42, 22, 28, 40, 46, 38, 18, 37, 38, 38, 46, 28, 49, 40, 19, 42, 27, 50, 37, 39, 34, 42, 50, 40, 34, 27, 43, 37, 27, 50, 28, 45, 28, 36, 40, 40, 23, 41, 37], \"xaxis\": \"x\", \"y\": [1430, 1661, 1850, 1100, 2660, 1020, 1700, 1400, 1900, 2200, 1200, 2000, 2300, 1300, 1800, 1150, 1000, 1130, 1450, 2200, 1800, 1887, 850, 1149, 750, 550, 2201, 1290, 1550, 1673, 1306, 2700, 2714, 1300, 1351, 900, 1900, 1600, 1700, 2280, 1200, 1640, 1800, 2500, 2050, 2220, 1750, 1500, 1800, 1690, 1900, 1199, 1900, 1090, 2230, 1299, 990, 1290, 1640, 1501, 2080, 2100, 1600, 1690, 1750, 1100, 790, 2550, 1400, 1850, 1300, 1351, 1050, 1780, 1910, 1500, 900, 1050, 1050, 1800, 1500, 1550, 2000, 1300, 2100, 3000, 1700, 1500, 1600, 2100, 1550, 2500, 1500, 2200, 1899, 2024, 1800, 2900, 1300, 1350, 1600, 1890, 1500, 2100, 2500, 2100, 2000, 1300, 1350, 2430, 1380, 1300, 1650, 1150, 1500, 1300, 2100, 1800, 1300, 2550, 1500, 2135, 1900, 800, 1400, 1400, 1300, 1740, 1650, 1900, 2200, 2200, 1700, 2250, 1530, 2230, 2050, 1490, 2575, 1700, 2650, 1200, 900, 650, 1242, 2006, 2100, 1500, 2100, 1000, 2200, 2400, 2970, 1800, 2900, 2200, 1750, 991, 2050, 2500, 1251, 1300, 460, 1300, 2450, 1780, 1851, 1999, 1661, 1900, 1900, 1530, 2336, 1300, 2120, 1780, 891, 1700, 2600, 1851, 1300, 1250, 1300, 3000, 2970, 1400, 2200, 800, 1600, 970, 1300, 1850, 1801, 1501, 2000, 1600, 2240, 1600, 1601, 1460, 1200, 1250, 2080, 1880, 1790, 1640, 1899, 1450, 1570, 2000, 2250, 1180, 1950, 1150, 2200, 1350, 2280, 2050, 1550, 2050, 1600, 1690, 1370, 1500, 999, 2300, 1800, 2200, 1800, 2650, 1300, 2720, 1630, 1780, 1890, 1900, 2135, 1800, 1300, 1300, 1400, 2000, 1887, 1190, 1290, 1090, 1451, 1900, 1900, 1199, 1900, 2200, 950, 1500, 1700, 1050, 1850, 1650, 1800, 1644, 1790, 1490, 1800, 1200, 2300, 1191, 1500, 1650, 1099, 1650, 2280, 2001, 1020, 1690, 1750, 2480, 2000, 1050, 1450, 1460, 1200, 2000, 2000, 2600, 900, 1600, 1800, 1350, 1600, 1600, 1100, 1200, 1700, 1650, 2240, 1800, 1900, 1300, 2200, 1200, 650, 650, 650, 650, 1199, 1250, 950, 800, 1646, 950, 849, 700, 2500, 1105, 1150, 1000, 1200, 2135, 1999, 2600, 1600, 1350, 1250, 1350, 2050, 1500, 3170, 1800, 1800, 2000, 1400, 2100, 2100, 1600, 2300, 990, 1850, 1750, 1201, 2001, 1900, 1500, 1850, 2135, 1800, 2150, 1500, 850, 2470, 980, 950, 1199, 1250, 1251, 1800, 2100, 900, 1001, 1600, 1300, 1700, 1500, 1630, 1500, 1000, 2200, 1420, 1400, 1200, 1100, 1050, 1960, 1650, 1485, 1650, 800, 1500, 1650, 1010, 1950, 1000, 1350, 1780, 1850, 319, 1700, 1600, 2480, 2150, 2150, 2100, 1950, 1950, 1900, 850, 1600, 1190, 1760, 1600, 2250, 2300, 1568, 1300, 1750, 1600, 900, 1490, 1350, 1500, 1590, 1300, 1900, 2300, 1840, 2000, 2500, 1260, 1800, 1400, 1501, 1050, 1734, 912, 1400, 1400, 1430, 1900, 1500, 2050, 1200, 1750, 1300, 1600, 1000, 2001, 2550, 1501, 1651, 2160, 1650, 1500, 1200, 1000, 1400, 1700, 1550, 1500, 1600, 1800, 2900, 1230, 1200, 2000, 1350, 1600, 999, 1399, 1750, 2000, 1850, 1700, 1150, 1370, 2240, 1500, 800, 1500, 1900, 2040, 2550, 1200, 1690, 1200, 730, 2560, 2200, 1800, 1900, 1750, 1150, 1350, 800, 1180, 1150, 1101, 800, 1200, 800, 950, 800, 1265, 1300, 1020, 2200, 2400, 2070, 1860, 1800, 1000, 3000, 1250, 1950, 1490, 1601, 1300, 1300, 1100, 2500, 900, 700, 700, 1400, 1150, 1300, 1149, 2714, 1200, 900, 800, 1980, 1990, 1200, 1000, 1000, 1000, 1250, 1700, 1800, 1600, 1300, 1800, 1100, 1250, 1100, 1800, 2200, 2135, 1850, 1101, 790, 750, 1600, 1200, 950, 1500, 2000, 1850, 1100, 1000, 1800, 1500, 1980, 2300, 1600, 1300, 1480, 1500, 1450, 1700, 2100, 1700, 1400, 1050, 1800, 1540, 2200, 1000, 2100, 2400, 2100, 2200, 2040, 1600, 590, 690, 690, 1250, 1750, 1900, 1300, 1600, 2300, 890, 950, 2100, 1851, 1880, 1920, 2120, 1500, 2300, 2100, 1401, 920, 790, 1350, 1600, 950, 1750, 1000, 2116, 2200, 2650, 1100, 2250, 2150, 2500, 1500, 1900, 1090, 1700, 1750, 1800, 2280, 271, 1250, 2000, 1350, 1600, 1600, 1800, 1950, 1980, 700, 1900, 1200, 1150, 1390, 1650, 1200, 1400, 1600, 800, 1150, 1800, 1850, 1300, 1640, 1644, 1650, 1600, 650, 1650, 1650, 1794, 1800, 1500, 1700, 1100, 1200, 1200, 1600, 900, 1601, 900, 1490, 1450, 1350, 967, 390, 1900, 2970, 1850, 390, 1500, 1599, 1300, 1500, 1200, 1600, 1100, 1980, 1500, 2001, 1000, 1980, 1100, 1290, 1300, 980, 1250, 1600, 1350, 1300, 1400, 1300, 2660, 2050, 1200, 1200, 700, 730, 1300, 1200, 2000, 1000, 1150, 1200, 1200, 1200, 1200, 1200, 1600, 1000, 1350, 750, 550, 1650, 1800, 1300, 940, 2200, 1851, 1700, 1200, 1500, 800, 1299, 1100, 990, 1242, 1001, 901, 2000, 1001, 1050, 1500, 1950, 2300, 1699, 1500, 800, 1750, 1100, 1100, 2300, 730, 1500, 1500, 1500, 1350, 2490, 1200, 900, 1750, 1100, 1400, 1400, 1000, 1500, 390, 390, 1100, 1200, 1600, 1200, 1200, 1673, 1800, 1500, 1200, 1400, 1700, 1600, 1000, 1400, 1350, 1300, 1399, 1400, 1727, 1499, 1200, 1300, 950, 1500, 1900, 1500, 1000, 1700, 2660, 1900, 2050, 1200, 1200, 1150, 1350, 2300, 1200, 1750, 1100, 1200, 1200, 1200, 900, 1200, 1400], \"yaxis\": \"y\"}, {\"hovertemplate\": \"miasto=Bielsko-Bia\\u0142a<br>powierzchnia=%{x}<br>suma_oplat=%{y}<extra></extra>\", \"legendgroup\": \"Bielsko-Bia\\u0142a\", \"marker\": {\"color\": \"#EF553B\", \"symbol\": \"circle\"}, \"mode\": \"markers\", \"name\": \"Bielsko-Bia\\u0142a\", \"orientation\": \"v\", \"showlegend\": true, \"type\": \"scatter\", \"x\": [30, 47, 31, 41, 29, 45, 36, 48, 43, 50, 26, 38, 44, 41, 46, 48, 30, 40, 25, 45, 38, 30, 48, 41, 35, 32, 50, 50, 49, 34, 38, 45, 49, 29, 36, 38, 44, 29, 39, 33, 44, 29, 36, 38, 45, 29, 37, 24, 43, 36, 25, 44, 32, 42, 44, 25, 30, 37, 44, 38, 20, 25, 29, 34, 50, 43, 48, 43, 45, 38, 38, 40, 46, 36, 32, 36, 33, 29, 44, 19, 43, 33, 43, 38, 46, 36, 44, 36, 30, 41, 30, 48, 40, 47, 40, 45, 28, 31, 48, 43, 39, 38, 49, 29, 24, 29, 47, 30, 25], \"xaxis\": \"x\", \"y\": [1900, 1600, 1675, 750, 1550, 1100, 1150, 1650, 1550, 2600, 1370, 1500, 1800, 2050, 2100, 2490, 1620, 2000, 1150, 1960, 2049, 1420, 2790, 1700, 1300, 1650, 1800, 1850, 2112, 1450, 1400, 1650, 1800, 1700, 1860, 2049, 2250, 1688, 1890, 1150, 1800, 1550, 1405, 1630, 1650, 1900, 1950, 1260, 1700, 1860, 1500, 1970, 1780, 1600, 2350, 700, 1450, 1500, 1520, 1800, 1300, 1500, 1500, 900, 1865, 2110, 2790, 1800, 1600, 1550, 2049, 1600, 2100, 1800, 1500, 1400, 1400, 1550, 2340, 1100, 1700, 1100, 1800, 1700, 1390, 1860, 2200, 1950, 1900, 2050, 1200, 1300, 1300, 2000, 1700, 1960, 1600, 1499, 1750, 1750, 1400, 1600, 1900, 1550, 1260, 1450, 1300, 1000, 760], \"yaxis\": \"y\"}, {\"hovertemplate\": \"miasto=Tychy<br>powierzchnia=%{x}<br>suma_oplat=%{y}<extra></extra>\", \"legendgroup\": \"Tychy\", \"marker\": {\"color\": \"#00cc96\", \"symbol\": \"circle\"}, \"mode\": \"markers\", \"name\": \"Tychy\", \"orientation\": \"v\", \"showlegend\": true, \"type\": \"scatter\", \"x\": [31, 41, 42, 43, 47, 38, 40, 36, 41, 50, 27, 38, 39, 38, 40, 42, 48, 36, 38, 41, 39, 39, 42, 31, 34, 38, 40, 42, 33, 36, 44, 38, 42, 46, 48, 39, 39, 38, 31, 39, 45, 45, 40, 35, 37, 36, 45, 50, 28, 37, 37, 40, 36, 39, 23], \"xaxis\": \"x\", \"y\": [1300, 800, 2201, 1590, 1850, 1930, 2300, 1580, 1800, 1500, 1480, 1450, 1810, 1930, 2000, 2201, 1709, 1580, 1520, 2200, 1810, 1950, 1700, 1400, 1375, 1501, 2300, 2201, 1690, 1650, 2000, 1450, 500, 2000, 1800, 1550, 3000, 1550, 1300, 1810, 1690, 2350, 1500, 1400, 1500, 1450, 1550, 1500, 1200, 1500, 1800, 2300, 1590, 1700, 1200], \"yaxis\": \"y\"}],                        {\"legend\": {\"title\": {\"text\": \"miasto\"}, \"tracegroupgap\": 0}, \"template\": {\"data\": {\"bar\": [{\"error_x\": {\"color\": \"#2a3f5f\"}, \"error_y\": {\"color\": \"#2a3f5f\"}, \"marker\": {\"line\": {\"color\": \"#E5ECF6\", \"width\": 0.5}}, \"type\": \"bar\"}], \"barpolar\": [{\"marker\": {\"line\": {\"color\": \"#E5ECF6\", \"width\": 0.5}}, \"type\": \"barpolar\"}], \"carpet\": [{\"aaxis\": {\"endlinecolor\": \"#2a3f5f\", \"gridcolor\": \"white\", \"linecolor\": \"white\", \"minorgridcolor\": \"white\", \"startlinecolor\": \"#2a3f5f\"}, \"baxis\": {\"endlinecolor\": \"#2a3f5f\", \"gridcolor\": \"white\", \"linecolor\": \"white\", \"minorgridcolor\": \"white\", \"startlinecolor\": \"#2a3f5f\"}, \"type\": \"carpet\"}], \"choropleth\": [{\"colorbar\": {\"outlinewidth\": 0, \"ticks\": \"\"}, \"type\": \"choropleth\"}], \"contour\": [{\"colorbar\": {\"outlinewidth\": 0, \"ticks\": \"\"}, \"colorscale\": [[0.0, \"#0d0887\"], [0.1111111111111111, \"#46039f\"], [0.2222222222222222, \"#7201a8\"], [0.3333333333333333, \"#9c179e\"], [0.4444444444444444, \"#bd3786\"], [0.5555555555555556, \"#d8576b\"], [0.6666666666666666, \"#ed7953\"], [0.7777777777777778, \"#fb9f3a\"], [0.8888888888888888, \"#fdca26\"], [1.0, \"#f0f921\"]], \"type\": \"contour\"}], \"contourcarpet\": [{\"colorbar\": {\"outlinewidth\": 0, \"ticks\": \"\"}, \"type\": \"contourcarpet\"}], \"heatmap\": [{\"colorbar\": {\"outlinewidth\": 0, \"ticks\": \"\"}, \"colorscale\": [[0.0, \"#0d0887\"], [0.1111111111111111, \"#46039f\"], [0.2222222222222222, \"#7201a8\"], [0.3333333333333333, \"#9c179e\"], [0.4444444444444444, \"#bd3786\"], [0.5555555555555556, \"#d8576b\"], [0.6666666666666666, \"#ed7953\"], [0.7777777777777778, \"#fb9f3a\"], [0.8888888888888888, \"#fdca26\"], [1.0, \"#f0f921\"]], \"type\": \"heatmap\"}], \"heatmapgl\": [{\"colorbar\": {\"outlinewidth\": 0, \"ticks\": \"\"}, \"colorscale\": [[0.0, \"#0d0887\"], [0.1111111111111111, \"#46039f\"], [0.2222222222222222, \"#7201a8\"], [0.3333333333333333, \"#9c179e\"], [0.4444444444444444, \"#bd3786\"], [0.5555555555555556, \"#d8576b\"], [0.6666666666666666, \"#ed7953\"], [0.7777777777777778, \"#fb9f3a\"], [0.8888888888888888, \"#fdca26\"], [1.0, \"#f0f921\"]], \"type\": \"heatmapgl\"}], \"histogram\": [{\"marker\": {\"colorbar\": {\"outlinewidth\": 0, \"ticks\": \"\"}}, \"type\": \"histogram\"}], \"histogram2d\": [{\"colorbar\": {\"outlinewidth\": 0, \"ticks\": \"\"}, \"colorscale\": [[0.0, \"#0d0887\"], [0.1111111111111111, \"#46039f\"], [0.2222222222222222, \"#7201a8\"], [0.3333333333333333, \"#9c179e\"], [0.4444444444444444, \"#bd3786\"], [0.5555555555555556, \"#d8576b\"], [0.6666666666666666, \"#ed7953\"], [0.7777777777777778, \"#fb9f3a\"], [0.8888888888888888, \"#fdca26\"], [1.0, \"#f0f921\"]], \"type\": \"histogram2d\"}], \"histogram2dcontour\": [{\"colorbar\": {\"outlinewidth\": 0, \"ticks\": \"\"}, \"colorscale\": [[0.0, \"#0d0887\"], [0.1111111111111111, \"#46039f\"], [0.2222222222222222, \"#7201a8\"], [0.3333333333333333, \"#9c179e\"], [0.4444444444444444, \"#bd3786\"], [0.5555555555555556, \"#d8576b\"], [0.6666666666666666, \"#ed7953\"], [0.7777777777777778, \"#fb9f3a\"], [0.8888888888888888, \"#fdca26\"], [1.0, \"#f0f921\"]], \"type\": \"histogram2dcontour\"}], \"mesh3d\": [{\"colorbar\": {\"outlinewidth\": 0, \"ticks\": \"\"}, \"type\": \"mesh3d\"}], \"parcoords\": [{\"line\": {\"colorbar\": {\"outlinewidth\": 0, \"ticks\": \"\"}}, \"type\": \"parcoords\"}], \"pie\": [{\"automargin\": true, \"type\": \"pie\"}], \"scatter\": [{\"marker\": {\"colorbar\": {\"outlinewidth\": 0, \"ticks\": \"\"}}, \"type\": \"scatter\"}], \"scatter3d\": [{\"line\": {\"colorbar\": {\"outlinewidth\": 0, \"ticks\": \"\"}}, \"marker\": {\"colorbar\": {\"outlinewidth\": 0, \"ticks\": \"\"}}, \"type\": \"scatter3d\"}], \"scattercarpet\": [{\"marker\": {\"colorbar\": {\"outlinewidth\": 0, \"ticks\": \"\"}}, \"type\": \"scattercarpet\"}], \"scattergeo\": [{\"marker\": {\"colorbar\": {\"outlinewidth\": 0, \"ticks\": \"\"}}, \"type\": \"scattergeo\"}], \"scattergl\": [{\"marker\": {\"colorbar\": {\"outlinewidth\": 0, \"ticks\": \"\"}}, \"type\": \"scattergl\"}], \"scattermapbox\": [{\"marker\": {\"colorbar\": {\"outlinewidth\": 0, \"ticks\": \"\"}}, \"type\": \"scattermapbox\"}], \"scatterpolar\": [{\"marker\": {\"colorbar\": {\"outlinewidth\": 0, \"ticks\": \"\"}}, \"type\": \"scatterpolar\"}], \"scatterpolargl\": [{\"marker\": {\"colorbar\": {\"outlinewidth\": 0, \"ticks\": \"\"}}, \"type\": \"scatterpolargl\"}], \"scatterternary\": [{\"marker\": {\"colorbar\": {\"outlinewidth\": 0, \"ticks\": \"\"}}, \"type\": \"scatterternary\"}], \"surface\": [{\"colorbar\": {\"outlinewidth\": 0, \"ticks\": \"\"}, \"colorscale\": [[0.0, \"#0d0887\"], [0.1111111111111111, \"#46039f\"], [0.2222222222222222, \"#7201a8\"], [0.3333333333333333, \"#9c179e\"], [0.4444444444444444, \"#bd3786\"], [0.5555555555555556, \"#d8576b\"], [0.6666666666666666, \"#ed7953\"], [0.7777777777777778, \"#fb9f3a\"], [0.8888888888888888, \"#fdca26\"], [1.0, \"#f0f921\"]], \"type\": \"surface\"}], \"table\": [{\"cells\": {\"fill\": {\"color\": \"#EBF0F8\"}, \"line\": {\"color\": \"white\"}}, \"header\": {\"fill\": {\"color\": \"#C8D4E3\"}, \"line\": {\"color\": \"white\"}}, \"type\": \"table\"}]}, \"layout\": {\"annotationdefaults\": {\"arrowcolor\": \"#2a3f5f\", \"arrowhead\": 0, \"arrowwidth\": 1}, \"autotypenumbers\": \"strict\", \"coloraxis\": {\"colorbar\": {\"outlinewidth\": 0, \"ticks\": \"\"}}, \"colorscale\": {\"diverging\": [[0, \"#8e0152\"], [0.1, \"#c51b7d\"], [0.2, \"#de77ae\"], [0.3, \"#f1b6da\"], [0.4, \"#fde0ef\"], [0.5, \"#f7f7f7\"], [0.6, \"#e6f5d0\"], [0.7, \"#b8e186\"], [0.8, \"#7fbc41\"], [0.9, \"#4d9221\"], [1, \"#276419\"]], \"sequential\": [[0.0, \"#0d0887\"], [0.1111111111111111, \"#46039f\"], [0.2222222222222222, \"#7201a8\"], [0.3333333333333333, \"#9c179e\"], [0.4444444444444444, \"#bd3786\"], [0.5555555555555556, \"#d8576b\"], [0.6666666666666666, \"#ed7953\"], [0.7777777777777778, \"#fb9f3a\"], [0.8888888888888888, \"#fdca26\"], [1.0, \"#f0f921\"]], \"sequentialminus\": [[0.0, \"#0d0887\"], [0.1111111111111111, \"#46039f\"], [0.2222222222222222, \"#7201a8\"], [0.3333333333333333, \"#9c179e\"], [0.4444444444444444, \"#bd3786\"], [0.5555555555555556, \"#d8576b\"], [0.6666666666666666, \"#ed7953\"], [0.7777777777777778, \"#fb9f3a\"], [0.8888888888888888, \"#fdca26\"], [1.0, \"#f0f921\"]]}, \"colorway\": [\"#636efa\", \"#EF553B\", \"#00cc96\", \"#ab63fa\", \"#FFA15A\", \"#19d3f3\", \"#FF6692\", \"#B6E880\", \"#FF97FF\", \"#FECB52\"], \"font\": {\"color\": \"#2a3f5f\"}, \"geo\": {\"bgcolor\": \"white\", \"lakecolor\": \"white\", \"landcolor\": \"#E5ECF6\", \"showlakes\": true, \"showland\": true, \"subunitcolor\": \"white\"}, \"hoverlabel\": {\"align\": \"left\"}, \"hovermode\": \"closest\", \"mapbox\": {\"style\": \"light\"}, \"paper_bgcolor\": \"white\", \"plot_bgcolor\": \"#E5ECF6\", \"polar\": {\"angularaxis\": {\"gridcolor\": \"white\", \"linecolor\": \"white\", \"ticks\": \"\"}, \"bgcolor\": \"#E5ECF6\", \"radialaxis\": {\"gridcolor\": \"white\", \"linecolor\": \"white\", \"ticks\": \"\"}}, \"scene\": {\"xaxis\": {\"backgroundcolor\": \"#E5ECF6\", \"gridcolor\": \"white\", \"gridwidth\": 2, \"linecolor\": \"white\", \"showbackground\": true, \"ticks\": \"\", \"zerolinecolor\": \"white\"}, \"yaxis\": {\"backgroundcolor\": \"#E5ECF6\", \"gridcolor\": \"white\", \"gridwidth\": 2, \"linecolor\": \"white\", \"showbackground\": true, \"ticks\": \"\", \"zerolinecolor\": \"white\"}, \"zaxis\": {\"backgroundcolor\": \"#E5ECF6\", \"gridcolor\": \"white\", \"gridwidth\": 2, \"linecolor\": \"white\", \"showbackground\": true, \"ticks\": \"\", \"zerolinecolor\": \"white\"}}, \"shapedefaults\": {\"line\": {\"color\": \"#2a3f5f\"}}, \"ternary\": {\"aaxis\": {\"gridcolor\": \"white\", \"linecolor\": \"white\", \"ticks\": \"\"}, \"baxis\": {\"gridcolor\": \"white\", \"linecolor\": \"white\", \"ticks\": \"\"}, \"bgcolor\": \"#E5ECF6\", \"caxis\": {\"gridcolor\": \"white\", \"linecolor\": \"white\", \"ticks\": \"\"}}, \"title\": {\"x\": 0.05}, \"xaxis\": {\"automargin\": true, \"gridcolor\": \"white\", \"linecolor\": \"white\", \"ticks\": \"\", \"title\": {\"standoff\": 15}, \"zerolinecolor\": \"white\", \"zerolinewidth\": 2}, \"yaxis\": {\"automargin\": true, \"gridcolor\": \"white\", \"linecolor\": \"white\", \"ticks\": \"\", \"title\": {\"standoff\": 15}, \"zerolinecolor\": \"white\", \"zerolinewidth\": 2}}}, \"title\": {\"text\": \"Rozrzut sum oplat za mieszkanie.\"}, \"xaxis\": {\"anchor\": \"y\", \"domain\": [0.0, 1.0], \"title\": {\"text\": \"powierzchnia\"}}, \"yaxis\": {\"anchor\": \"x\", \"domain\": [0.0, 1.0], \"title\": {\"text\": \"suma_oplat\"}}},                        {\"responsive\": true}                    ).then(function(){\n",
       "                            \n",
       "var gd = document.getElementById('e20596cf-2403-4430-8625-2ea7ed0d5326');\n",
       "var x = new MutationObserver(function (mutations, observer) {{\n",
       "        var display = window.getComputedStyle(gd).display;\n",
       "        if (!display || display === 'none') {{\n",
       "            console.log([gd, 'removed!']);\n",
       "            Plotly.purge(gd);\n",
       "            observer.disconnect();\n",
       "        }}\n",
       "}});\n",
       "\n",
       "// Listen for the removal of the full notebook cells\n",
       "var notebookContainer = gd.closest('#notebook-container');\n",
       "if (notebookContainer) {{\n",
       "    x.observe(notebookContainer, {childList: true});\n",
       "}}\n",
       "\n",
       "// Listen for the clearing of the current output cell\n",
       "var outputEl = gd.closest('.output');\n",
       "if (outputEl) {{\n",
       "    x.observe(outputEl, {childList: true});\n",
       "}}\n",
       "\n",
       "                        })                };                });            </script>        </div>"
      ]
     },
     "metadata": {},
     "output_type": "display_data"
    }
   ],
   "source": [
    "powierzchnia_suma_oplat_scatter = px.scatter(tabela,\n",
    "                           y = 'suma_oplat',\n",
    "                           x = 'powierzchnia',\n",
    "                           title = 'Rozrzut sum oplat za mieszkanie.', \n",
    "                           color = 'miasto')\n",
    "\n",
    "powierzchnia_suma_oplat_scatter"
   ]
  },
  {
   "cell_type": "code",
   "execution_count": 126,
   "metadata": {},
   "outputs": [
    {
     "data": {
      "application/vnd.plotly.v1+json": {
       "config": {
        "plotlyServerURL": "https://plot.ly"
       },
       "data": [
        {
         "alignmentgroup": "True",
         "hovertemplate": "miasto=Katowice<br>pokoje=%{x}<br>kaucja=%{y}<extra></extra>",
         "legendgroup": "Katowice",
         "marker": {
          "color": "#636efa"
         },
         "name": "Katowice",
         "notched": false,
         "offsetgroup": "Katowice",
         "orientation": "v",
         "showlegend": true,
         "type": "box",
         "x": [
          2,
          2,
          2,
          2,
          2,
          2,
          2,
          1,
          2,
          2,
          1,
          2,
          2,
          1,
          2,
          1,
          1,
          1,
          2,
          2,
          2,
          2,
          1,
          1,
          1,
          1,
          2,
          1,
          2,
          2,
          1,
          2,
          2,
          1,
          1,
          1,
          2,
          2,
          2,
          2,
          1,
          2,
          2,
          2,
          1,
          1,
          1,
          2,
          1,
          2,
          2,
          1,
          2,
          1,
          2,
          1,
          1,
          2,
          2,
          2,
          1,
          2,
          2,
          2,
          2,
          2,
          1,
          2,
          1,
          2,
          1,
          1,
          1,
          2,
          2,
          1,
          2,
          1,
          1,
          2,
          2,
          2,
          2,
          1,
          2,
          2,
          2,
          2,
          2,
          2,
          2,
          2,
          1,
          2,
          2,
          2,
          2,
          2,
          2,
          1,
          1,
          2,
          2,
          2,
          2,
          2,
          2,
          2,
          1,
          2,
          1,
          2,
          2,
          1,
          2,
          1,
          2,
          2,
          1,
          2,
          1,
          2,
          2,
          2,
          1,
          3,
          2,
          1,
          2,
          2,
          2,
          2,
          2,
          2,
          2,
          2,
          2,
          2,
          3,
          2,
          2,
          2,
          1,
          1,
          1,
          2,
          2,
          2,
          2,
          1,
          2,
          2,
          2,
          2,
          2,
          2,
          2,
          2,
          1,
          2,
          2,
          2,
          1,
          2,
          1,
          2,
          2,
          3,
          2,
          1,
          2,
          2,
          2,
          2,
          3,
          2,
          1,
          1,
          2,
          3,
          1,
          1,
          1,
          2,
          2,
          2,
          2,
          1,
          2,
          1,
          2,
          2,
          2,
          2,
          2,
          2,
          2,
          1,
          2,
          1,
          1,
          1,
          1,
          2,
          2,
          2,
          2,
          1,
          2,
          2,
          2,
          1,
          2,
          1,
          2,
          1,
          2,
          2,
          2,
          2,
          2,
          2,
          1,
          1,
          1,
          2,
          2,
          2,
          2,
          2,
          2,
          2,
          1,
          1,
          1,
          2,
          2,
          2,
          2,
          2,
          2,
          2,
          2,
          2,
          2,
          1,
          1,
          2,
          2,
          1,
          2,
          2,
          1,
          2,
          3,
          1,
          2,
          2,
          2,
          2,
          2,
          1,
          2,
          1,
          2,
          1,
          1,
          2,
          1,
          2,
          2,
          2,
          2,
          2,
          2,
          2,
          2,
          1,
          2,
          2,
          2,
          2,
          2,
          3,
          1,
          2,
          2,
          1,
          3,
          2,
          1,
          1,
          2,
          2,
          2,
          2,
          2,
          1,
          2,
          1,
          1,
          1,
          1,
          1,
          1,
          1,
          1,
          1,
          2,
          1,
          2,
          1,
          3,
          1,
          1,
          1,
          1,
          1,
          3,
          2,
          1,
          2,
          1,
          1,
          2,
          2,
          2,
          2,
          2,
          2,
          2,
          3,
          1,
          1,
          1,
          2,
          2,
          2,
          1,
          2,
          2,
          2,
          2,
          1,
          2,
          2,
          2,
          1,
          2,
          1,
          1,
          1,
          2,
          1,
          2,
          2,
          1,
          1,
          2,
          1,
          2,
          1,
          1,
          1,
          1,
          3,
          2,
          2,
          1,
          1,
          1,
          2,
          2,
          2,
          2,
          1,
          1,
          2,
          2,
          1,
          1,
          1,
          2,
          2,
          1,
          2,
          2,
          2,
          2,
          2,
          2,
          2,
          2,
          2,
          1,
          3,
          1,
          2,
          1,
          2,
          2,
          2,
          1,
          2,
          2,
          1,
          2,
          1,
          2,
          2,
          1,
          1,
          2,
          1,
          2,
          2,
          1,
          2,
          2,
          1,
          1,
          1,
          1,
          2,
          2,
          2,
          2,
          2,
          2,
          2,
          2,
          2,
          1,
          1,
          2,
          2,
          1,
          2,
          2,
          2,
          2,
          1,
          1,
          1,
          2,
          2,
          2,
          1,
          2,
          2,
          1,
          1,
          2,
          1,
          2,
          2,
          1,
          2,
          2,
          2,
          2,
          1,
          2,
          2,
          2,
          1,
          3,
          2,
          2,
          2,
          2,
          2,
          1,
          1,
          2,
          2,
          2,
          2,
          2,
          2,
          1,
          1,
          1,
          1,
          2,
          1,
          1,
          1,
          1,
          1,
          1,
          1,
          2,
          2,
          2,
          2,
          2,
          1,
          2,
          2,
          2,
          2,
          2,
          2,
          1,
          1,
          1,
          2,
          1,
          1,
          1,
          1,
          1,
          1,
          1,
          2,
          1,
          1,
          2,
          2,
          2,
          2,
          1,
          1,
          2,
          1,
          1,
          2,
          2,
          2,
          2,
          1,
          1,
          2,
          2,
          2,
          1,
          2,
          1,
          1,
          1,
          2,
          2,
          1,
          2,
          2,
          2,
          1,
          1,
          2,
          2,
          2,
          3,
          2,
          2,
          2,
          2,
          1,
          2,
          2,
          2,
          1,
          1,
          2,
          2,
          2,
          1,
          2,
          2,
          3,
          2,
          2,
          2,
          1,
          1,
          1,
          1,
          2,
          2,
          1,
          3,
          2,
          1,
          1,
          2,
          2,
          2,
          2,
          2,
          2,
          2,
          2,
          3,
          2,
          1,
          1,
          1,
          1,
          2,
          1,
          2,
          2,
          2,
          1,
          2,
          2,
          2,
          2,
          2,
          1,
          2,
          1,
          1,
          2,
          1,
          1,
          2,
          2,
          2,
          2,
          2,
          2,
          2,
          1,
          3,
          1,
          1,
          2,
          2,
          1,
          2,
          2,
          1,
          1,
          2,
          2,
          1,
          2,
          2,
          2,
          2,
          1,
          1,
          1,
          2,
          2,
          1,
          2,
          1,
          2,
          2,
          2,
          1,
          2,
          1,
          2,
          2,
          1,
          1,
          1,
          2,
          2,
          2,
          1,
          1,
          2,
          1,
          1,
          1,
          2,
          1,
          2,
          2,
          2,
          1,
          2,
          1,
          2,
          1,
          1,
          1,
          1,
          1,
          1,
          1,
          1,
          2,
          2,
          1,
          1,
          1,
          1,
          1,
          1,
          2,
          1,
          2,
          2,
          1,
          1,
          1,
          1,
          2,
          1,
          2,
          1,
          1,
          2,
          2,
          2,
          1,
          2,
          2,
          2,
          1,
          1,
          1,
          1,
          1,
          1,
          1,
          1,
          1,
          2,
          1,
          1,
          1,
          2,
          3,
          1,
          2,
          1,
          1,
          1,
          1,
          2,
          1,
          2,
          1,
          1,
          1,
          2,
          1,
          1,
          2,
          1,
          1,
          1,
          2,
          3,
          1,
          1,
          2,
          1,
          2,
          1,
          1,
          2,
          2,
          1,
          1,
          2,
          2,
          2,
          1,
          2,
          2,
          2,
          2,
          1,
          2,
          2,
          1,
          2,
          1,
          2,
          2,
          1,
          1,
          2,
          2,
          2,
          1,
          1,
          2,
          1,
          1,
          2,
          1,
          2,
          1,
          2,
          1,
          2,
          1,
          2,
          1
         ],
         "x0": " ",
         "xaxis": "x",
         "y": [
          3000,
          1800,
          3800,
          0,
          3000,
          1200,
          2000,
          1400,
          1600,
          3000,
          0,
          3500,
          0,
          1300,
          2000,
          1600,
          1550,
          1600,
          1450,
          3000,
          2000,
          2000,
          0,
          2000,
          0,
          0,
          2200,
          0,
          0,
          1250,
          2000,
          3000,
          4000,
          1500,
          1800,
          0,
          1550,
          0,
          0,
          2200,
          0,
          1500,
          1800,
          3000,
          2000,
          3000,
          2000,
          1800,
          3000,
          1390,
          3000,
          1500,
          1900,
          0,
          2000,
          1500,
          0,
          0,
          1500,
          0,
          1900,
          3000,
          1500,
          2500,
          0,
          0,
          0,
          4000,
          1400,
          2000,
          2000,
          2000,
          2000,
          1650,
          2000,
          2600,
          0,
          1050,
          2000,
          0,
          2000,
          2500,
          0,
          2000,
          0,
          3000,
          1500,
          1500,
          3000,
          3000,
          1550,
          4000,
          2500,
          2600,
          2000,
          0,
          2000,
          3000,
          0,
          1500,
          2000,
          0,
          1500,
          2000,
          2500,
          0,
          0,
          1300,
          1350,
          4500,
          1500,
          2600,
          1500,
          1600,
          0,
          0,
          2100,
          2000,
          1800,
          4000,
          2500,
          2000,
          0,
          2000,
          3000,
          0,
          0,
          1740,
          2000,
          1700,
          3400,
          2500,
          2000,
          0,
          1500,
          3000,
          2000,
          2200,
          0,
          2000,
          2000,
          0,
          0,
          0,
          1500,
          3800,
          0,
          0,
          0,
          0,
          2500,
          2000,
          3000,
          1800,
          3000,
          0,
          1800,
          1200,
          2000,
          4000,
          1550,
          0,
          0,
          0,
          2000,
          0,
          2600,
          2500,
          1800,
          1600,
          0,
          1000,
          3000,
          0,
          1900,
          0,
          1200,
          1500,
          4000,
          1850,
          2000,
          1250,
          1300,
          3000,
          3000,
          0,
          4000,
          0,
          0,
          0,
          1300,
          1850,
          0,
          0,
          1500,
          2000,
          4800,
          2000,
          2000,
          1100,
          0,
          0,
          1900,
          2300,
          1300,
          1500,
          2000,
          1600,
          2000,
          2500,
          3000,
          2000,
          2000,
          2000,
          2800,
          1350,
          2200,
          2000,
          900,
          2000,
          3000,
          0,
          1500,
          1500,
          1500,
          3000,
          2000,
          3000,
          2500,
          2000,
          1300,
          2250,
          1500,
          2000,
          2000,
          2400,
          2000,
          0,
          0,
          0,
          0,
          0,
          2000,
          0,
          0,
          0,
          1450,
          1900,
          1550,
          1500,
          1900,
          2200,
          0,
          0,
          1700,
          1500,
          3800,
          1650,
          2500,
          1700,
          0,
          0,
          3000,
          1200,
          0,
          1500,
          2000,
          2000,
          0,
          0,
          0,
          2500,
          1200,
          1390,
          1800,
          3000,
          0,
          0,
          0,
          0,
          0,
          0,
          0,
          3000,
          0,
          0,
          0,
          2500,
          2000,
          1600,
          0,
          0,
          0,
          2000,
          4800,
          3000,
          2000,
          1300,
          2200,
          1200,
          650,
          650,
          650,
          650,
          0,
          0,
          0,
          0,
          0,
          0,
          0,
          0,
          2200,
          1800,
          0,
          0,
          0,
          1950,
          2500,
          4000,
          2000,
          1300,
          1150,
          0,
          2000,
          0,
          0,
          1800,
          0,
          3000,
          1200,
          0,
          0,
          1600,
          0,
          0,
          0,
          0,
          1600,
          2000,
          0,
          1800,
          3800,
          1950,
          0,
          0,
          0,
          0,
          2000,
          0,
          0,
          0,
          0,
          1250,
          2500,
          0,
          1500,
          1500,
          2000,
          0,
          2000,
          2500,
          1500,
          0,
          1000,
          0,
          1500,
          1400,
          1200,
          1100,
          1050,
          2000,
          0,
          1500,
          0,
          0,
          2000,
          0,
          0,
          0,
          1000,
          1350,
          0,
          3800,
          0,
          0,
          1600,
          0,
          0,
          0,
          0,
          0,
          0,
          0,
          0,
          0,
          1500,
          2000,
          0,
          0,
          4000,
          2000,
          1300,
          0,
          2000,
          2000,
          2000,
          0,
          0,
          0,
          0,
          2500,
          2500,
          2000,
          0,
          4000,
          2000,
          2000,
          1400,
          2000,
          1200,
          0,
          1500,
          2000,
          2000,
          3700,
          1550,
          1800,
          2000,
          0,
          0,
          0,
          3000,
          0,
          2500,
          5000,
          1800,
          2000,
          3500,
          0,
          0,
          0,
          1000,
          1400,
          3000,
          0,
          0,
          0,
          2000,
          3000,
          1230,
          1200,
          0,
          0,
          0,
          2000,
          1400,
          0,
          0,
          0,
          0,
          0,
          1400,
          0,
          1500,
          0,
          0,
          3800,
          0,
          3000,
          2000,
          1390,
          1200,
          500,
          3000,
          0,
          0,
          2500,
          2100,
          0,
          1500,
          1200,
          2000,
          2000,
          1250,
          0,
          0,
          0,
          0,
          0,
          0,
          0,
          1200,
          2500,
          0,
          0,
          0,
          0,
          0,
          3000,
          1250,
          2000,
          1490,
          1600,
          0,
          0,
          1100,
          2500,
          900,
          700,
          0,
          0,
          0,
          1300,
          2000,
          4000,
          0,
          0,
          0,
          0,
          2000,
          0,
          0,
          0,
          0,
          0,
          1600,
          0,
          0,
          0,
          2000,
          0,
          0,
          0,
          0,
          3000,
          1950,
          1850,
          1100,
          0,
          0,
          0,
          0,
          0,
          0,
          2000,
          2000,
          0,
          1000,
          1800,
          0,
          0,
          2300,
          2000,
          0,
          1500,
          0,
          0,
          2000,
          3000,
          1500,
          1500,
          0,
          0,
          0,
          2500,
          0,
          2000,
          0,
          0,
          2500,
          0,
          0,
          740,
          840,
          840,
          0,
          1750,
          0,
          0,
          1600,
          0,
          0,
          0,
          3000,
          2600,
          2300,
          1800,
          4000,
          0,
          0,
          0,
          0,
          0,
          0,
          0,
          0,
          950,
          1750,
          1000,
          0,
          2500,
          3000,
          1600,
          0,
          2000,
          0,
          1500,
          0,
          0,
          0,
          2000,
          3000,
          2200,
          0,
          0,
          2000,
          0,
          0,
          3000,
          0,
          0,
          0,
          2000,
          0,
          0,
          1500,
          0,
          0,
          1000,
          1500,
          0,
          0,
          0,
          0,
          1850,
          1300,
          1500,
          1700,
          0,
          1800,
          0,
          3000,
          3000,
          0,
          0,
          1500,
          0,
          1500,
          2400,
          2400,
          0,
          0,
          1800,
          0,
          2000,
          0,
          1350,
          0,
          0,
          1550,
          3000,
          3800,
          0,
          0,
          2000,
          0,
          0,
          0,
          1700,
          0,
          0,
          0,
          2000,
          1000,
          0,
          0,
          0,
          1300,
          1000,
          0,
          1200,
          1300,
          1300,
          1400,
          1300,
          3000,
          2000,
          0,
          1200,
          0,
          500,
          0,
          0,
          0,
          1000,
          2000,
          2000,
          0,
          0,
          0,
          0,
          0,
          1000,
          1400,
          0,
          0,
          0,
          1200,
          0,
          0,
          2500,
          2600,
          0,
          1500,
          1500,
          0,
          2000,
          0,
          990,
          1500,
          1100,
          0,
          2000,
          1000,
          0,
          0,
          0,
          0,
          4000,
          0,
          0,
          0,
          0,
          0,
          0,
          500,
          0,
          0,
          0,
          1400,
          3000,
          1500,
          0,
          0,
          0,
          2000,
          0,
          0,
          1500,
          0,
          0,
          1500,
          1500,
          1600,
          1200,
          1500,
          1250,
          1800,
          1200,
          0,
          3000,
          0,
          0,
          1000,
          1400,
          0,
          0,
          1299,
          1400,
          0,
          0,
          1500,
          1700,
          0,
          1500,
          2000,
          1500,
          1500,
          0,
          3000,
          1600,
          2000,
          0,
          2400,
          0,
          2000,
          0,
          0,
          1750,
          2000,
          2400,
          0,
          2400,
          1500,
          2580,
          1400
         ],
         "y0": " ",
         "yaxis": "y"
        },
        {
         "alignmentgroup": "True",
         "hovertemplate": "miasto=Bielsko-Biała<br>pokoje=%{x}<br>kaucja=%{y}<extra></extra>",
         "legendgroup": "Bielsko-Biała",
         "marker": {
          "color": "#EF553B"
         },
         "name": "Bielsko-Biała",
         "notched": false,
         "offsetgroup": "Bielsko-Biała",
         "orientation": "v",
         "showlegend": true,
         "type": "box",
         "x": [
          1,
          2,
          1,
          1,
          1,
          2,
          2,
          3,
          2,
          3,
          1,
          2,
          2,
          2,
          3,
          2,
          1,
          2,
          1,
          2,
          2,
          1,
          2,
          2,
          1,
          1,
          2,
          2,
          2,
          1,
          1,
          2,
          2,
          2,
          2,
          2,
          2,
          1,
          2,
          2,
          2,
          1,
          1,
          2,
          2,
          1,
          2,
          1,
          2,
          2,
          1,
          2,
          1,
          3,
          2,
          1,
          1,
          2,
          2,
          2,
          1,
          1,
          1,
          1,
          2,
          2,
          2,
          2,
          3,
          2,
          2,
          1,
          2,
          1,
          1,
          2,
          1,
          1,
          2,
          1,
          2,
          1,
          2,
          2,
          3,
          2,
          2,
          2,
          1,
          2,
          1,
          2,
          1,
          2,
          2,
          2,
          1,
          1,
          2,
          2,
          2,
          2,
          2,
          1,
          1,
          1,
          3,
          1,
          1
         ],
         "x0": " ",
         "xaxis": "x",
         "y": [
          3500,
          3200,
          3000,
          0,
          1500,
          2200,
          0,
          2000,
          2000,
          3000,
          2000,
          3000,
          3300,
          3500,
          1600,
          3000,
          3000,
          4400,
          0,
          3000,
          0,
          1800,
          5000,
          3400,
          0,
          2800,
          3000,
          0,
          2500,
          2200,
          0,
          0,
          3600,
          1700,
          3000,
          0,
          3600,
          2000,
          0,
          2700,
          0,
          1500,
          2500,
          3500,
          3000,
          3300,
          2000,
          2000,
          2600,
          3000,
          2700,
          0,
          2000,
          0,
          0,
          0,
          2900,
          1500,
          2500,
          2000,
          2000,
          2000,
          2000,
          0,
          0,
          3600,
          5000,
          4000,
          2500,
          0,
          0,
          0,
          3400,
          0,
          0,
          2400,
          2000,
          1500,
          0,
          2000,
          3000,
          2500,
          2000,
          0,
          0,
          3000,
          3800,
          3500,
          3000,
          3500,
          2600,
          0,
          2600,
          3400,
          0,
          3000,
          0,
          0,
          2400,
          2400,
          0,
          2800,
          4000,
          1500,
          2000,
          2000,
          2600,
          0,
          500
         ],
         "y0": " ",
         "yaxis": "y"
        },
        {
         "alignmentgroup": "True",
         "hovertemplate": "miasto=Tychy<br>pokoje=%{x}<br>kaucja=%{y}<extra></extra>",
         "legendgroup": "Tychy",
         "marker": {
          "color": "#00cc96"
         },
         "name": "Tychy",
         "notched": false,
         "offsetgroup": "Tychy",
         "orientation": "v",
         "showlegend": true,
         "type": "box",
         "x": [
          1,
          1,
          2,
          2,
          2,
          2,
          2,
          2,
          2,
          2,
          1,
          2,
          2,
          2,
          2,
          2,
          2,
          2,
          1,
          2,
          2,
          2,
          2,
          1,
          1,
          2,
          2,
          2,
          2,
          2,
          2,
          2,
          3,
          2,
          2,
          2,
          2,
          2,
          1,
          2,
          2,
          2,
          2,
          1,
          2,
          2,
          2,
          2,
          1,
          2,
          2,
          2,
          1,
          2,
          1
         ],
         "x0": " ",
         "xaxis": "x",
         "y": [
          1300,
          0,
          4000,
          1700,
          2000,
          3000,
          2000,
          1500,
          0,
          0,
          0,
          1500,
          3200,
          3000,
          2000,
          4000,
          0,
          1500,
          2500,
          3000,
          3200,
          3000,
          0,
          1400,
          1500,
          1500,
          2000,
          4000,
          1700,
          2000,
          2000,
          1500,
          0,
          2000,
          0,
          0,
          3000,
          2500,
          1300,
          3200,
          3600,
          2000,
          1500,
          0,
          1500,
          1450,
          0,
          1500,
          1200,
          0,
          2900,
          2000,
          0,
          0,
          0
         ],
         "y0": " ",
         "yaxis": "y"
        }
       ],
       "layout": {
        "boxmode": "group",
        "legend": {
         "title": {
          "text": "miasto"
         },
         "tracegroupgap": 0
        },
        "template": {
         "data": {
          "bar": [
           {
            "error_x": {
             "color": "#2a3f5f"
            },
            "error_y": {
             "color": "#2a3f5f"
            },
            "marker": {
             "line": {
              "color": "#E5ECF6",
              "width": 0.5
             }
            },
            "type": "bar"
           }
          ],
          "barpolar": [
           {
            "marker": {
             "line": {
              "color": "#E5ECF6",
              "width": 0.5
             }
            },
            "type": "barpolar"
           }
          ],
          "carpet": [
           {
            "aaxis": {
             "endlinecolor": "#2a3f5f",
             "gridcolor": "white",
             "linecolor": "white",
             "minorgridcolor": "white",
             "startlinecolor": "#2a3f5f"
            },
            "baxis": {
             "endlinecolor": "#2a3f5f",
             "gridcolor": "white",
             "linecolor": "white",
             "minorgridcolor": "white",
             "startlinecolor": "#2a3f5f"
            },
            "type": "carpet"
           }
          ],
          "choropleth": [
           {
            "colorbar": {
             "outlinewidth": 0,
             "ticks": ""
            },
            "type": "choropleth"
           }
          ],
          "contour": [
           {
            "colorbar": {
             "outlinewidth": 0,
             "ticks": ""
            },
            "colorscale": [
             [
              0,
              "#0d0887"
             ],
             [
              0.1111111111111111,
              "#46039f"
             ],
             [
              0.2222222222222222,
              "#7201a8"
             ],
             [
              0.3333333333333333,
              "#9c179e"
             ],
             [
              0.4444444444444444,
              "#bd3786"
             ],
             [
              0.5555555555555556,
              "#d8576b"
             ],
             [
              0.6666666666666666,
              "#ed7953"
             ],
             [
              0.7777777777777778,
              "#fb9f3a"
             ],
             [
              0.8888888888888888,
              "#fdca26"
             ],
             [
              1,
              "#f0f921"
             ]
            ],
            "type": "contour"
           }
          ],
          "contourcarpet": [
           {
            "colorbar": {
             "outlinewidth": 0,
             "ticks": ""
            },
            "type": "contourcarpet"
           }
          ],
          "heatmap": [
           {
            "colorbar": {
             "outlinewidth": 0,
             "ticks": ""
            },
            "colorscale": [
             [
              0,
              "#0d0887"
             ],
             [
              0.1111111111111111,
              "#46039f"
             ],
             [
              0.2222222222222222,
              "#7201a8"
             ],
             [
              0.3333333333333333,
              "#9c179e"
             ],
             [
              0.4444444444444444,
              "#bd3786"
             ],
             [
              0.5555555555555556,
              "#d8576b"
             ],
             [
              0.6666666666666666,
              "#ed7953"
             ],
             [
              0.7777777777777778,
              "#fb9f3a"
             ],
             [
              0.8888888888888888,
              "#fdca26"
             ],
             [
              1,
              "#f0f921"
             ]
            ],
            "type": "heatmap"
           }
          ],
          "heatmapgl": [
           {
            "colorbar": {
             "outlinewidth": 0,
             "ticks": ""
            },
            "colorscale": [
             [
              0,
              "#0d0887"
             ],
             [
              0.1111111111111111,
              "#46039f"
             ],
             [
              0.2222222222222222,
              "#7201a8"
             ],
             [
              0.3333333333333333,
              "#9c179e"
             ],
             [
              0.4444444444444444,
              "#bd3786"
             ],
             [
              0.5555555555555556,
              "#d8576b"
             ],
             [
              0.6666666666666666,
              "#ed7953"
             ],
             [
              0.7777777777777778,
              "#fb9f3a"
             ],
             [
              0.8888888888888888,
              "#fdca26"
             ],
             [
              1,
              "#f0f921"
             ]
            ],
            "type": "heatmapgl"
           }
          ],
          "histogram": [
           {
            "marker": {
             "colorbar": {
              "outlinewidth": 0,
              "ticks": ""
             }
            },
            "type": "histogram"
           }
          ],
          "histogram2d": [
           {
            "colorbar": {
             "outlinewidth": 0,
             "ticks": ""
            },
            "colorscale": [
             [
              0,
              "#0d0887"
             ],
             [
              0.1111111111111111,
              "#46039f"
             ],
             [
              0.2222222222222222,
              "#7201a8"
             ],
             [
              0.3333333333333333,
              "#9c179e"
             ],
             [
              0.4444444444444444,
              "#bd3786"
             ],
             [
              0.5555555555555556,
              "#d8576b"
             ],
             [
              0.6666666666666666,
              "#ed7953"
             ],
             [
              0.7777777777777778,
              "#fb9f3a"
             ],
             [
              0.8888888888888888,
              "#fdca26"
             ],
             [
              1,
              "#f0f921"
             ]
            ],
            "type": "histogram2d"
           }
          ],
          "histogram2dcontour": [
           {
            "colorbar": {
             "outlinewidth": 0,
             "ticks": ""
            },
            "colorscale": [
             [
              0,
              "#0d0887"
             ],
             [
              0.1111111111111111,
              "#46039f"
             ],
             [
              0.2222222222222222,
              "#7201a8"
             ],
             [
              0.3333333333333333,
              "#9c179e"
             ],
             [
              0.4444444444444444,
              "#bd3786"
             ],
             [
              0.5555555555555556,
              "#d8576b"
             ],
             [
              0.6666666666666666,
              "#ed7953"
             ],
             [
              0.7777777777777778,
              "#fb9f3a"
             ],
             [
              0.8888888888888888,
              "#fdca26"
             ],
             [
              1,
              "#f0f921"
             ]
            ],
            "type": "histogram2dcontour"
           }
          ],
          "mesh3d": [
           {
            "colorbar": {
             "outlinewidth": 0,
             "ticks": ""
            },
            "type": "mesh3d"
           }
          ],
          "parcoords": [
           {
            "line": {
             "colorbar": {
              "outlinewidth": 0,
              "ticks": ""
             }
            },
            "type": "parcoords"
           }
          ],
          "pie": [
           {
            "automargin": true,
            "type": "pie"
           }
          ],
          "scatter": [
           {
            "marker": {
             "colorbar": {
              "outlinewidth": 0,
              "ticks": ""
             }
            },
            "type": "scatter"
           }
          ],
          "scatter3d": [
           {
            "line": {
             "colorbar": {
              "outlinewidth": 0,
              "ticks": ""
             }
            },
            "marker": {
             "colorbar": {
              "outlinewidth": 0,
              "ticks": ""
             }
            },
            "type": "scatter3d"
           }
          ],
          "scattercarpet": [
           {
            "marker": {
             "colorbar": {
              "outlinewidth": 0,
              "ticks": ""
             }
            },
            "type": "scattercarpet"
           }
          ],
          "scattergeo": [
           {
            "marker": {
             "colorbar": {
              "outlinewidth": 0,
              "ticks": ""
             }
            },
            "type": "scattergeo"
           }
          ],
          "scattergl": [
           {
            "marker": {
             "colorbar": {
              "outlinewidth": 0,
              "ticks": ""
             }
            },
            "type": "scattergl"
           }
          ],
          "scattermapbox": [
           {
            "marker": {
             "colorbar": {
              "outlinewidth": 0,
              "ticks": ""
             }
            },
            "type": "scattermapbox"
           }
          ],
          "scatterpolar": [
           {
            "marker": {
             "colorbar": {
              "outlinewidth": 0,
              "ticks": ""
             }
            },
            "type": "scatterpolar"
           }
          ],
          "scatterpolargl": [
           {
            "marker": {
             "colorbar": {
              "outlinewidth": 0,
              "ticks": ""
             }
            },
            "type": "scatterpolargl"
           }
          ],
          "scatterternary": [
           {
            "marker": {
             "colorbar": {
              "outlinewidth": 0,
              "ticks": ""
             }
            },
            "type": "scatterternary"
           }
          ],
          "surface": [
           {
            "colorbar": {
             "outlinewidth": 0,
             "ticks": ""
            },
            "colorscale": [
             [
              0,
              "#0d0887"
             ],
             [
              0.1111111111111111,
              "#46039f"
             ],
             [
              0.2222222222222222,
              "#7201a8"
             ],
             [
              0.3333333333333333,
              "#9c179e"
             ],
             [
              0.4444444444444444,
              "#bd3786"
             ],
             [
              0.5555555555555556,
              "#d8576b"
             ],
             [
              0.6666666666666666,
              "#ed7953"
             ],
             [
              0.7777777777777778,
              "#fb9f3a"
             ],
             [
              0.8888888888888888,
              "#fdca26"
             ],
             [
              1,
              "#f0f921"
             ]
            ],
            "type": "surface"
           }
          ],
          "table": [
           {
            "cells": {
             "fill": {
              "color": "#EBF0F8"
             },
             "line": {
              "color": "white"
             }
            },
            "header": {
             "fill": {
              "color": "#C8D4E3"
             },
             "line": {
              "color": "white"
             }
            },
            "type": "table"
           }
          ]
         },
         "layout": {
          "annotationdefaults": {
           "arrowcolor": "#2a3f5f",
           "arrowhead": 0,
           "arrowwidth": 1
          },
          "autotypenumbers": "strict",
          "coloraxis": {
           "colorbar": {
            "outlinewidth": 0,
            "ticks": ""
           }
          },
          "colorscale": {
           "diverging": [
            [
             0,
             "#8e0152"
            ],
            [
             0.1,
             "#c51b7d"
            ],
            [
             0.2,
             "#de77ae"
            ],
            [
             0.3,
             "#f1b6da"
            ],
            [
             0.4,
             "#fde0ef"
            ],
            [
             0.5,
             "#f7f7f7"
            ],
            [
             0.6,
             "#e6f5d0"
            ],
            [
             0.7,
             "#b8e186"
            ],
            [
             0.8,
             "#7fbc41"
            ],
            [
             0.9,
             "#4d9221"
            ],
            [
             1,
             "#276419"
            ]
           ],
           "sequential": [
            [
             0,
             "#0d0887"
            ],
            [
             0.1111111111111111,
             "#46039f"
            ],
            [
             0.2222222222222222,
             "#7201a8"
            ],
            [
             0.3333333333333333,
             "#9c179e"
            ],
            [
             0.4444444444444444,
             "#bd3786"
            ],
            [
             0.5555555555555556,
             "#d8576b"
            ],
            [
             0.6666666666666666,
             "#ed7953"
            ],
            [
             0.7777777777777778,
             "#fb9f3a"
            ],
            [
             0.8888888888888888,
             "#fdca26"
            ],
            [
             1,
             "#f0f921"
            ]
           ],
           "sequentialminus": [
            [
             0,
             "#0d0887"
            ],
            [
             0.1111111111111111,
             "#46039f"
            ],
            [
             0.2222222222222222,
             "#7201a8"
            ],
            [
             0.3333333333333333,
             "#9c179e"
            ],
            [
             0.4444444444444444,
             "#bd3786"
            ],
            [
             0.5555555555555556,
             "#d8576b"
            ],
            [
             0.6666666666666666,
             "#ed7953"
            ],
            [
             0.7777777777777778,
             "#fb9f3a"
            ],
            [
             0.8888888888888888,
             "#fdca26"
            ],
            [
             1,
             "#f0f921"
            ]
           ]
          },
          "colorway": [
           "#636efa",
           "#EF553B",
           "#00cc96",
           "#ab63fa",
           "#FFA15A",
           "#19d3f3",
           "#FF6692",
           "#B6E880",
           "#FF97FF",
           "#FECB52"
          ],
          "font": {
           "color": "#2a3f5f"
          },
          "geo": {
           "bgcolor": "white",
           "lakecolor": "white",
           "landcolor": "#E5ECF6",
           "showlakes": true,
           "showland": true,
           "subunitcolor": "white"
          },
          "hoverlabel": {
           "align": "left"
          },
          "hovermode": "closest",
          "mapbox": {
           "style": "light"
          },
          "paper_bgcolor": "white",
          "plot_bgcolor": "#E5ECF6",
          "polar": {
           "angularaxis": {
            "gridcolor": "white",
            "linecolor": "white",
            "ticks": ""
           },
           "bgcolor": "#E5ECF6",
           "radialaxis": {
            "gridcolor": "white",
            "linecolor": "white",
            "ticks": ""
           }
          },
          "scene": {
           "xaxis": {
            "backgroundcolor": "#E5ECF6",
            "gridcolor": "white",
            "gridwidth": 2,
            "linecolor": "white",
            "showbackground": true,
            "ticks": "",
            "zerolinecolor": "white"
           },
           "yaxis": {
            "backgroundcolor": "#E5ECF6",
            "gridcolor": "white",
            "gridwidth": 2,
            "linecolor": "white",
            "showbackground": true,
            "ticks": "",
            "zerolinecolor": "white"
           },
           "zaxis": {
            "backgroundcolor": "#E5ECF6",
            "gridcolor": "white",
            "gridwidth": 2,
            "linecolor": "white",
            "showbackground": true,
            "ticks": "",
            "zerolinecolor": "white"
           }
          },
          "shapedefaults": {
           "line": {
            "color": "#2a3f5f"
           }
          },
          "ternary": {
           "aaxis": {
            "gridcolor": "white",
            "linecolor": "white",
            "ticks": ""
           },
           "baxis": {
            "gridcolor": "white",
            "linecolor": "white",
            "ticks": ""
           },
           "bgcolor": "#E5ECF6",
           "caxis": {
            "gridcolor": "white",
            "linecolor": "white",
            "ticks": ""
           }
          },
          "title": {
           "x": 0.05
          },
          "xaxis": {
           "automargin": true,
           "gridcolor": "white",
           "linecolor": "white",
           "ticks": "",
           "title": {
            "standoff": 15
           },
           "zerolinecolor": "white",
           "zerolinewidth": 2
          },
          "yaxis": {
           "automargin": true,
           "gridcolor": "white",
           "linecolor": "white",
           "ticks": "",
           "title": {
            "standoff": 15
           },
           "zerolinecolor": "white",
           "zerolinewidth": 2
          }
         }
        },
        "title": {
         "text": "Rozrzut cenowy kaucji wstepnej"
        },
        "xaxis": {
         "anchor": "y",
         "domain": [
          0,
          1
         ],
         "title": {
          "text": "pokoje"
         }
        },
        "yaxis": {
         "anchor": "x",
         "domain": [
          0,
          1
         ],
         "title": {
          "text": "kaucja"
         }
        }
       }
      },
      "text/html": [
       "<div>                            <div id=\"97148b9e-19f6-4eb3-b130-0f4612432406\" class=\"plotly-graph-div\" style=\"height:525px; width:100%;\"></div>            <script type=\"text/javascript\">                require([\"plotly\"], function(Plotly) {                    window.PLOTLYENV=window.PLOTLYENV || {};                                    if (document.getElementById(\"97148b9e-19f6-4eb3-b130-0f4612432406\")) {                    Plotly.newPlot(                        \"97148b9e-19f6-4eb3-b130-0f4612432406\",                        [{\"alignmentgroup\": \"True\", \"hovertemplate\": \"miasto=Katowice<br>pokoje=%{x}<br>kaucja=%{y}<extra></extra>\", \"legendgroup\": \"Katowice\", \"marker\": {\"color\": \"#636efa\"}, \"name\": \"Katowice\", \"notched\": false, \"offsetgroup\": \"Katowice\", \"orientation\": \"v\", \"showlegend\": true, \"type\": \"box\", \"x\": [2, 2, 2, 2, 2, 2, 2, 1, 2, 2, 1, 2, 2, 1, 2, 1, 1, 1, 2, 2, 2, 2, 1, 1, 1, 1, 2, 1, 2, 2, 1, 2, 2, 1, 1, 1, 2, 2, 2, 2, 1, 2, 2, 2, 1, 1, 1, 2, 1, 2, 2, 1, 2, 1, 2, 1, 1, 2, 2, 2, 1, 2, 2, 2, 2, 2, 1, 2, 1, 2, 1, 1, 1, 2, 2, 1, 2, 1, 1, 2, 2, 2, 2, 1, 2, 2, 2, 2, 2, 2, 2, 2, 1, 2, 2, 2, 2, 2, 2, 1, 1, 2, 2, 2, 2, 2, 2, 2, 1, 2, 1, 2, 2, 1, 2, 1, 2, 2, 1, 2, 1, 2, 2, 2, 1, 3, 2, 1, 2, 2, 2, 2, 2, 2, 2, 2, 2, 2, 3, 2, 2, 2, 1, 1, 1, 2, 2, 2, 2, 1, 2, 2, 2, 2, 2, 2, 2, 2, 1, 2, 2, 2, 1, 2, 1, 2, 2, 3, 2, 1, 2, 2, 2, 2, 3, 2, 1, 1, 2, 3, 1, 1, 1, 2, 2, 2, 2, 1, 2, 1, 2, 2, 2, 2, 2, 2, 2, 1, 2, 1, 1, 1, 1, 2, 2, 2, 2, 1, 2, 2, 2, 1, 2, 1, 2, 1, 2, 2, 2, 2, 2, 2, 1, 1, 1, 2, 2, 2, 2, 2, 2, 2, 1, 1, 1, 2, 2, 2, 2, 2, 2, 2, 2, 2, 2, 1, 1, 2, 2, 1, 2, 2, 1, 2, 3, 1, 2, 2, 2, 2, 2, 1, 2, 1, 2, 1, 1, 2, 1, 2, 2, 2, 2, 2, 2, 2, 2, 1, 2, 2, 2, 2, 2, 3, 1, 2, 2, 1, 3, 2, 1, 1, 2, 2, 2, 2, 2, 1, 2, 1, 1, 1, 1, 1, 1, 1, 1, 1, 2, 1, 2, 1, 3, 1, 1, 1, 1, 1, 3, 2, 1, 2, 1, 1, 2, 2, 2, 2, 2, 2, 2, 3, 1, 1, 1, 2, 2, 2, 1, 2, 2, 2, 2, 1, 2, 2, 2, 1, 2, 1, 1, 1, 2, 1, 2, 2, 1, 1, 2, 1, 2, 1, 1, 1, 1, 3, 2, 2, 1, 1, 1, 2, 2, 2, 2, 1, 1, 2, 2, 1, 1, 1, 2, 2, 1, 2, 2, 2, 2, 2, 2, 2, 2, 2, 1, 3, 1, 2, 1, 2, 2, 2, 1, 2, 2, 1, 2, 1, 2, 2, 1, 1, 2, 1, 2, 2, 1, 2, 2, 1, 1, 1, 1, 2, 2, 2, 2, 2, 2, 2, 2, 2, 1, 1, 2, 2, 1, 2, 2, 2, 2, 1, 1, 1, 2, 2, 2, 1, 2, 2, 1, 1, 2, 1, 2, 2, 1, 2, 2, 2, 2, 1, 2, 2, 2, 1, 3, 2, 2, 2, 2, 2, 1, 1, 2, 2, 2, 2, 2, 2, 1, 1, 1, 1, 2, 1, 1, 1, 1, 1, 1, 1, 2, 2, 2, 2, 2, 1, 2, 2, 2, 2, 2, 2, 1, 1, 1, 2, 1, 1, 1, 1, 1, 1, 1, 2, 1, 1, 2, 2, 2, 2, 1, 1, 2, 1, 1, 2, 2, 2, 2, 1, 1, 2, 2, 2, 1, 2, 1, 1, 1, 2, 2, 1, 2, 2, 2, 1, 1, 2, 2, 2, 3, 2, 2, 2, 2, 1, 2, 2, 2, 1, 1, 2, 2, 2, 1, 2, 2, 3, 2, 2, 2, 1, 1, 1, 1, 2, 2, 1, 3, 2, 1, 1, 2, 2, 2, 2, 2, 2, 2, 2, 3, 2, 1, 1, 1, 1, 2, 1, 2, 2, 2, 1, 2, 2, 2, 2, 2, 1, 2, 1, 1, 2, 1, 1, 2, 2, 2, 2, 2, 2, 2, 1, 3, 1, 1, 2, 2, 1, 2, 2, 1, 1, 2, 2, 1, 2, 2, 2, 2, 1, 1, 1, 2, 2, 1, 2, 1, 2, 2, 2, 1, 2, 1, 2, 2, 1, 1, 1, 2, 2, 2, 1, 1, 2, 1, 1, 1, 2, 1, 2, 2, 2, 1, 2, 1, 2, 1, 1, 1, 1, 1, 1, 1, 1, 2, 2, 1, 1, 1, 1, 1, 1, 2, 1, 2, 2, 1, 1, 1, 1, 2, 1, 2, 1, 1, 2, 2, 2, 1, 2, 2, 2, 1, 1, 1, 1, 1, 1, 1, 1, 1, 2, 1, 1, 1, 2, 3, 1, 2, 1, 1, 1, 1, 2, 1, 2, 1, 1, 1, 2, 1, 1, 2, 1, 1, 1, 2, 3, 1, 1, 2, 1, 2, 1, 1, 2, 2, 1, 1, 2, 2, 2, 1, 2, 2, 2, 2, 1, 2, 2, 1, 2, 1, 2, 2, 1, 1, 2, 2, 2, 1, 1, 2, 1, 1, 2, 1, 2, 1, 2, 1, 2, 1, 2, 1], \"x0\": \" \", \"xaxis\": \"x\", \"y\": [3000, 1800, 3800, 0, 3000, 1200, 2000, 1400, 1600, 3000, 0, 3500, 0, 1300, 2000, 1600, 1550, 1600, 1450, 3000, 2000, 2000, 0, 2000, 0, 0, 2200, 0, 0, 1250, 2000, 3000, 4000, 1500, 1800, 0, 1550, 0, 0, 2200, 0, 1500, 1800, 3000, 2000, 3000, 2000, 1800, 3000, 1390, 3000, 1500, 1900, 0, 2000, 1500, 0, 0, 1500, 0, 1900, 3000, 1500, 2500, 0, 0, 0, 4000, 1400, 2000, 2000, 2000, 2000, 1650, 2000, 2600, 0, 1050, 2000, 0, 2000, 2500, 0, 2000, 0, 3000, 1500, 1500, 3000, 3000, 1550, 4000, 2500, 2600, 2000, 0, 2000, 3000, 0, 1500, 2000, 0, 1500, 2000, 2500, 0, 0, 1300, 1350, 4500, 1500, 2600, 1500, 1600, 0, 0, 2100, 2000, 1800, 4000, 2500, 2000, 0, 2000, 3000, 0, 0, 1740, 2000, 1700, 3400, 2500, 2000, 0, 1500, 3000, 2000, 2200, 0, 2000, 2000, 0, 0, 0, 1500, 3800, 0, 0, 0, 0, 2500, 2000, 3000, 1800, 3000, 0, 1800, 1200, 2000, 4000, 1550, 0, 0, 0, 2000, 0, 2600, 2500, 1800, 1600, 0, 1000, 3000, 0, 1900, 0, 1200, 1500, 4000, 1850, 2000, 1250, 1300, 3000, 3000, 0, 4000, 0, 0, 0, 1300, 1850, 0, 0, 1500, 2000, 4800, 2000, 2000, 1100, 0, 0, 1900, 2300, 1300, 1500, 2000, 1600, 2000, 2500, 3000, 2000, 2000, 2000, 2800, 1350, 2200, 2000, 900, 2000, 3000, 0, 1500, 1500, 1500, 3000, 2000, 3000, 2500, 2000, 1300, 2250, 1500, 2000, 2000, 2400, 2000, 0, 0, 0, 0, 0, 2000, 0, 0, 0, 1450, 1900, 1550, 1500, 1900, 2200, 0, 0, 1700, 1500, 3800, 1650, 2500, 1700, 0, 0, 3000, 1200, 0, 1500, 2000, 2000, 0, 0, 0, 2500, 1200, 1390, 1800, 3000, 0, 0, 0, 0, 0, 0, 0, 3000, 0, 0, 0, 2500, 2000, 1600, 0, 0, 0, 2000, 4800, 3000, 2000, 1300, 2200, 1200, 650, 650, 650, 650, 0, 0, 0, 0, 0, 0, 0, 0, 2200, 1800, 0, 0, 0, 1950, 2500, 4000, 2000, 1300, 1150, 0, 2000, 0, 0, 1800, 0, 3000, 1200, 0, 0, 1600, 0, 0, 0, 0, 1600, 2000, 0, 1800, 3800, 1950, 0, 0, 0, 0, 2000, 0, 0, 0, 0, 1250, 2500, 0, 1500, 1500, 2000, 0, 2000, 2500, 1500, 0, 1000, 0, 1500, 1400, 1200, 1100, 1050, 2000, 0, 1500, 0, 0, 2000, 0, 0, 0, 1000, 1350, 0, 3800, 0, 0, 1600, 0, 0, 0, 0, 0, 0, 0, 0, 0, 1500, 2000, 0, 0, 4000, 2000, 1300, 0, 2000, 2000, 2000, 0, 0, 0, 0, 2500, 2500, 2000, 0, 4000, 2000, 2000, 1400, 2000, 1200, 0, 1500, 2000, 2000, 3700, 1550, 1800, 2000, 0, 0, 0, 3000, 0, 2500, 5000, 1800, 2000, 3500, 0, 0, 0, 1000, 1400, 3000, 0, 0, 0, 2000, 3000, 1230, 1200, 0, 0, 0, 2000, 1400, 0, 0, 0, 0, 0, 1400, 0, 1500, 0, 0, 3800, 0, 3000, 2000, 1390, 1200, 500, 3000, 0, 0, 2500, 2100, 0, 1500, 1200, 2000, 2000, 1250, 0, 0, 0, 0, 0, 0, 0, 1200, 2500, 0, 0, 0, 0, 0, 3000, 1250, 2000, 1490, 1600, 0, 0, 1100, 2500, 900, 700, 0, 0, 0, 1300, 2000, 4000, 0, 0, 0, 0, 2000, 0, 0, 0, 0, 0, 1600, 0, 0, 0, 2000, 0, 0, 0, 0, 3000, 1950, 1850, 1100, 0, 0, 0, 0, 0, 0, 2000, 2000, 0, 1000, 1800, 0, 0, 2300, 2000, 0, 1500, 0, 0, 2000, 3000, 1500, 1500, 0, 0, 0, 2500, 0, 2000, 0, 0, 2500, 0, 0, 740, 840, 840, 0, 1750, 0, 0, 1600, 0, 0, 0, 3000, 2600, 2300, 1800, 4000, 0, 0, 0, 0, 0, 0, 0, 0, 950, 1750, 1000, 0, 2500, 3000, 1600, 0, 2000, 0, 1500, 0, 0, 0, 2000, 3000, 2200, 0, 0, 2000, 0, 0, 3000, 0, 0, 0, 2000, 0, 0, 1500, 0, 0, 1000, 1500, 0, 0, 0, 0, 1850, 1300, 1500, 1700, 0, 1800, 0, 3000, 3000, 0, 0, 1500, 0, 1500, 2400, 2400, 0, 0, 1800, 0, 2000, 0, 1350, 0, 0, 1550, 3000, 3800, 0, 0, 2000, 0, 0, 0, 1700, 0, 0, 0, 2000, 1000, 0, 0, 0, 1300, 1000, 0, 1200, 1300, 1300, 1400, 1300, 3000, 2000, 0, 1200, 0, 500, 0, 0, 0, 1000, 2000, 2000, 0, 0, 0, 0, 0, 1000, 1400, 0, 0, 0, 1200, 0, 0, 2500, 2600, 0, 1500, 1500, 0, 2000, 0, 990, 1500, 1100, 0, 2000, 1000, 0, 0, 0, 0, 4000, 0, 0, 0, 0, 0, 0, 500, 0, 0, 0, 1400, 3000, 1500, 0, 0, 0, 2000, 0, 0, 1500, 0, 0, 1500, 1500, 1600, 1200, 1500, 1250, 1800, 1200, 0, 3000, 0, 0, 1000, 1400, 0, 0, 1299, 1400, 0, 0, 1500, 1700, 0, 1500, 2000, 1500, 1500, 0, 3000, 1600, 2000, 0, 2400, 0, 2000, 0, 0, 1750, 2000, 2400, 0, 2400, 1500, 2580, 1400], \"y0\": \" \", \"yaxis\": \"y\"}, {\"alignmentgroup\": \"True\", \"hovertemplate\": \"miasto=Bielsko-Bia\\u0142a<br>pokoje=%{x}<br>kaucja=%{y}<extra></extra>\", \"legendgroup\": \"Bielsko-Bia\\u0142a\", \"marker\": {\"color\": \"#EF553B\"}, \"name\": \"Bielsko-Bia\\u0142a\", \"notched\": false, \"offsetgroup\": \"Bielsko-Bia\\u0142a\", \"orientation\": \"v\", \"showlegend\": true, \"type\": \"box\", \"x\": [1, 2, 1, 1, 1, 2, 2, 3, 2, 3, 1, 2, 2, 2, 3, 2, 1, 2, 1, 2, 2, 1, 2, 2, 1, 1, 2, 2, 2, 1, 1, 2, 2, 2, 2, 2, 2, 1, 2, 2, 2, 1, 1, 2, 2, 1, 2, 1, 2, 2, 1, 2, 1, 3, 2, 1, 1, 2, 2, 2, 1, 1, 1, 1, 2, 2, 2, 2, 3, 2, 2, 1, 2, 1, 1, 2, 1, 1, 2, 1, 2, 1, 2, 2, 3, 2, 2, 2, 1, 2, 1, 2, 1, 2, 2, 2, 1, 1, 2, 2, 2, 2, 2, 1, 1, 1, 3, 1, 1], \"x0\": \" \", \"xaxis\": \"x\", \"y\": [3500, 3200, 3000, 0, 1500, 2200, 0, 2000, 2000, 3000, 2000, 3000, 3300, 3500, 1600, 3000, 3000, 4400, 0, 3000, 0, 1800, 5000, 3400, 0, 2800, 3000, 0, 2500, 2200, 0, 0, 3600, 1700, 3000, 0, 3600, 2000, 0, 2700, 0, 1500, 2500, 3500, 3000, 3300, 2000, 2000, 2600, 3000, 2700, 0, 2000, 0, 0, 0, 2900, 1500, 2500, 2000, 2000, 2000, 2000, 0, 0, 3600, 5000, 4000, 2500, 0, 0, 0, 3400, 0, 0, 2400, 2000, 1500, 0, 2000, 3000, 2500, 2000, 0, 0, 3000, 3800, 3500, 3000, 3500, 2600, 0, 2600, 3400, 0, 3000, 0, 0, 2400, 2400, 0, 2800, 4000, 1500, 2000, 2000, 2600, 0, 500], \"y0\": \" \", \"yaxis\": \"y\"}, {\"alignmentgroup\": \"True\", \"hovertemplate\": \"miasto=Tychy<br>pokoje=%{x}<br>kaucja=%{y}<extra></extra>\", \"legendgroup\": \"Tychy\", \"marker\": {\"color\": \"#00cc96\"}, \"name\": \"Tychy\", \"notched\": false, \"offsetgroup\": \"Tychy\", \"orientation\": \"v\", \"showlegend\": true, \"type\": \"box\", \"x\": [1, 1, 2, 2, 2, 2, 2, 2, 2, 2, 1, 2, 2, 2, 2, 2, 2, 2, 1, 2, 2, 2, 2, 1, 1, 2, 2, 2, 2, 2, 2, 2, 3, 2, 2, 2, 2, 2, 1, 2, 2, 2, 2, 1, 2, 2, 2, 2, 1, 2, 2, 2, 1, 2, 1], \"x0\": \" \", \"xaxis\": \"x\", \"y\": [1300, 0, 4000, 1700, 2000, 3000, 2000, 1500, 0, 0, 0, 1500, 3200, 3000, 2000, 4000, 0, 1500, 2500, 3000, 3200, 3000, 0, 1400, 1500, 1500, 2000, 4000, 1700, 2000, 2000, 1500, 0, 2000, 0, 0, 3000, 2500, 1300, 3200, 3600, 2000, 1500, 0, 1500, 1450, 0, 1500, 1200, 0, 2900, 2000, 0, 0, 0], \"y0\": \" \", \"yaxis\": \"y\"}],                        {\"boxmode\": \"group\", \"legend\": {\"title\": {\"text\": \"miasto\"}, \"tracegroupgap\": 0}, \"template\": {\"data\": {\"bar\": [{\"error_x\": {\"color\": \"#2a3f5f\"}, \"error_y\": {\"color\": \"#2a3f5f\"}, \"marker\": {\"line\": {\"color\": \"#E5ECF6\", \"width\": 0.5}}, \"type\": \"bar\"}], \"barpolar\": [{\"marker\": {\"line\": {\"color\": \"#E5ECF6\", \"width\": 0.5}}, \"type\": \"barpolar\"}], \"carpet\": [{\"aaxis\": {\"endlinecolor\": \"#2a3f5f\", \"gridcolor\": \"white\", \"linecolor\": \"white\", \"minorgridcolor\": \"white\", \"startlinecolor\": \"#2a3f5f\"}, \"baxis\": {\"endlinecolor\": \"#2a3f5f\", \"gridcolor\": \"white\", \"linecolor\": \"white\", \"minorgridcolor\": \"white\", \"startlinecolor\": \"#2a3f5f\"}, \"type\": \"carpet\"}], \"choropleth\": [{\"colorbar\": {\"outlinewidth\": 0, \"ticks\": \"\"}, \"type\": \"choropleth\"}], \"contour\": [{\"colorbar\": {\"outlinewidth\": 0, \"ticks\": \"\"}, \"colorscale\": [[0.0, \"#0d0887\"], [0.1111111111111111, \"#46039f\"], [0.2222222222222222, \"#7201a8\"], [0.3333333333333333, \"#9c179e\"], [0.4444444444444444, \"#bd3786\"], [0.5555555555555556, \"#d8576b\"], [0.6666666666666666, \"#ed7953\"], [0.7777777777777778, \"#fb9f3a\"], [0.8888888888888888, \"#fdca26\"], [1.0, \"#f0f921\"]], \"type\": \"contour\"}], \"contourcarpet\": [{\"colorbar\": {\"outlinewidth\": 0, \"ticks\": \"\"}, \"type\": \"contourcarpet\"}], \"heatmap\": [{\"colorbar\": {\"outlinewidth\": 0, \"ticks\": \"\"}, \"colorscale\": [[0.0, \"#0d0887\"], [0.1111111111111111, \"#46039f\"], [0.2222222222222222, \"#7201a8\"], [0.3333333333333333, \"#9c179e\"], [0.4444444444444444, \"#bd3786\"], [0.5555555555555556, \"#d8576b\"], [0.6666666666666666, \"#ed7953\"], [0.7777777777777778, \"#fb9f3a\"], [0.8888888888888888, \"#fdca26\"], [1.0, \"#f0f921\"]], \"type\": \"heatmap\"}], \"heatmapgl\": [{\"colorbar\": {\"outlinewidth\": 0, \"ticks\": \"\"}, \"colorscale\": [[0.0, \"#0d0887\"], [0.1111111111111111, \"#46039f\"], [0.2222222222222222, \"#7201a8\"], [0.3333333333333333, \"#9c179e\"], [0.4444444444444444, \"#bd3786\"], [0.5555555555555556, \"#d8576b\"], [0.6666666666666666, \"#ed7953\"], [0.7777777777777778, \"#fb9f3a\"], [0.8888888888888888, \"#fdca26\"], [1.0, \"#f0f921\"]], \"type\": \"heatmapgl\"}], \"histogram\": [{\"marker\": {\"colorbar\": {\"outlinewidth\": 0, \"ticks\": \"\"}}, \"type\": \"histogram\"}], \"histogram2d\": [{\"colorbar\": {\"outlinewidth\": 0, \"ticks\": \"\"}, \"colorscale\": [[0.0, \"#0d0887\"], [0.1111111111111111, \"#46039f\"], [0.2222222222222222, \"#7201a8\"], [0.3333333333333333, \"#9c179e\"], [0.4444444444444444, \"#bd3786\"], [0.5555555555555556, \"#d8576b\"], [0.6666666666666666, \"#ed7953\"], [0.7777777777777778, \"#fb9f3a\"], [0.8888888888888888, \"#fdca26\"], [1.0, \"#f0f921\"]], \"type\": \"histogram2d\"}], \"histogram2dcontour\": [{\"colorbar\": {\"outlinewidth\": 0, \"ticks\": \"\"}, \"colorscale\": [[0.0, \"#0d0887\"], [0.1111111111111111, \"#46039f\"], [0.2222222222222222, \"#7201a8\"], [0.3333333333333333, \"#9c179e\"], [0.4444444444444444, \"#bd3786\"], [0.5555555555555556, \"#d8576b\"], [0.6666666666666666, \"#ed7953\"], [0.7777777777777778, \"#fb9f3a\"], [0.8888888888888888, \"#fdca26\"], [1.0, \"#f0f921\"]], \"type\": \"histogram2dcontour\"}], \"mesh3d\": [{\"colorbar\": {\"outlinewidth\": 0, \"ticks\": \"\"}, \"type\": \"mesh3d\"}], \"parcoords\": [{\"line\": {\"colorbar\": {\"outlinewidth\": 0, \"ticks\": \"\"}}, \"type\": \"parcoords\"}], \"pie\": [{\"automargin\": true, \"type\": \"pie\"}], \"scatter\": [{\"marker\": {\"colorbar\": {\"outlinewidth\": 0, \"ticks\": \"\"}}, \"type\": \"scatter\"}], \"scatter3d\": [{\"line\": {\"colorbar\": {\"outlinewidth\": 0, \"ticks\": \"\"}}, \"marker\": {\"colorbar\": {\"outlinewidth\": 0, \"ticks\": \"\"}}, \"type\": \"scatter3d\"}], \"scattercarpet\": [{\"marker\": {\"colorbar\": {\"outlinewidth\": 0, \"ticks\": \"\"}}, \"type\": \"scattercarpet\"}], \"scattergeo\": [{\"marker\": {\"colorbar\": {\"outlinewidth\": 0, \"ticks\": \"\"}}, \"type\": \"scattergeo\"}], \"scattergl\": [{\"marker\": {\"colorbar\": {\"outlinewidth\": 0, \"ticks\": \"\"}}, \"type\": \"scattergl\"}], \"scattermapbox\": [{\"marker\": {\"colorbar\": {\"outlinewidth\": 0, \"ticks\": \"\"}}, \"type\": \"scattermapbox\"}], \"scatterpolar\": [{\"marker\": {\"colorbar\": {\"outlinewidth\": 0, \"ticks\": \"\"}}, \"type\": \"scatterpolar\"}], \"scatterpolargl\": [{\"marker\": {\"colorbar\": {\"outlinewidth\": 0, \"ticks\": \"\"}}, \"type\": \"scatterpolargl\"}], \"scatterternary\": [{\"marker\": {\"colorbar\": {\"outlinewidth\": 0, \"ticks\": \"\"}}, \"type\": \"scatterternary\"}], \"surface\": [{\"colorbar\": {\"outlinewidth\": 0, \"ticks\": \"\"}, \"colorscale\": [[0.0, \"#0d0887\"], [0.1111111111111111, \"#46039f\"], [0.2222222222222222, \"#7201a8\"], [0.3333333333333333, \"#9c179e\"], [0.4444444444444444, \"#bd3786\"], [0.5555555555555556, \"#d8576b\"], [0.6666666666666666, \"#ed7953\"], [0.7777777777777778, \"#fb9f3a\"], [0.8888888888888888, \"#fdca26\"], [1.0, \"#f0f921\"]], \"type\": \"surface\"}], \"table\": [{\"cells\": {\"fill\": {\"color\": \"#EBF0F8\"}, \"line\": {\"color\": \"white\"}}, \"header\": {\"fill\": {\"color\": \"#C8D4E3\"}, \"line\": {\"color\": \"white\"}}, \"type\": \"table\"}]}, \"layout\": {\"annotationdefaults\": {\"arrowcolor\": \"#2a3f5f\", \"arrowhead\": 0, \"arrowwidth\": 1}, \"autotypenumbers\": \"strict\", \"coloraxis\": {\"colorbar\": {\"outlinewidth\": 0, \"ticks\": \"\"}}, \"colorscale\": {\"diverging\": [[0, \"#8e0152\"], [0.1, \"#c51b7d\"], [0.2, \"#de77ae\"], [0.3, \"#f1b6da\"], [0.4, \"#fde0ef\"], [0.5, \"#f7f7f7\"], [0.6, \"#e6f5d0\"], [0.7, \"#b8e186\"], [0.8, \"#7fbc41\"], [0.9, \"#4d9221\"], [1, \"#276419\"]], \"sequential\": [[0.0, \"#0d0887\"], [0.1111111111111111, \"#46039f\"], [0.2222222222222222, \"#7201a8\"], [0.3333333333333333, \"#9c179e\"], [0.4444444444444444, \"#bd3786\"], [0.5555555555555556, \"#d8576b\"], [0.6666666666666666, \"#ed7953\"], [0.7777777777777778, \"#fb9f3a\"], [0.8888888888888888, \"#fdca26\"], [1.0, \"#f0f921\"]], \"sequentialminus\": [[0.0, \"#0d0887\"], [0.1111111111111111, \"#46039f\"], [0.2222222222222222, \"#7201a8\"], [0.3333333333333333, \"#9c179e\"], [0.4444444444444444, \"#bd3786\"], [0.5555555555555556, \"#d8576b\"], [0.6666666666666666, \"#ed7953\"], [0.7777777777777778, \"#fb9f3a\"], [0.8888888888888888, \"#fdca26\"], [1.0, \"#f0f921\"]]}, \"colorway\": [\"#636efa\", \"#EF553B\", \"#00cc96\", \"#ab63fa\", \"#FFA15A\", \"#19d3f3\", \"#FF6692\", \"#B6E880\", \"#FF97FF\", \"#FECB52\"], \"font\": {\"color\": \"#2a3f5f\"}, \"geo\": {\"bgcolor\": \"white\", \"lakecolor\": \"white\", \"landcolor\": \"#E5ECF6\", \"showlakes\": true, \"showland\": true, \"subunitcolor\": \"white\"}, \"hoverlabel\": {\"align\": \"left\"}, \"hovermode\": \"closest\", \"mapbox\": {\"style\": \"light\"}, \"paper_bgcolor\": \"white\", \"plot_bgcolor\": \"#E5ECF6\", \"polar\": {\"angularaxis\": {\"gridcolor\": \"white\", \"linecolor\": \"white\", \"ticks\": \"\"}, \"bgcolor\": \"#E5ECF6\", \"radialaxis\": {\"gridcolor\": \"white\", \"linecolor\": \"white\", \"ticks\": \"\"}}, \"scene\": {\"xaxis\": {\"backgroundcolor\": \"#E5ECF6\", \"gridcolor\": \"white\", \"gridwidth\": 2, \"linecolor\": \"white\", \"showbackground\": true, \"ticks\": \"\", \"zerolinecolor\": \"white\"}, \"yaxis\": {\"backgroundcolor\": \"#E5ECF6\", \"gridcolor\": \"white\", \"gridwidth\": 2, \"linecolor\": \"white\", \"showbackground\": true, \"ticks\": \"\", \"zerolinecolor\": \"white\"}, \"zaxis\": {\"backgroundcolor\": \"#E5ECF6\", \"gridcolor\": \"white\", \"gridwidth\": 2, \"linecolor\": \"white\", \"showbackground\": true, \"ticks\": \"\", \"zerolinecolor\": \"white\"}}, \"shapedefaults\": {\"line\": {\"color\": \"#2a3f5f\"}}, \"ternary\": {\"aaxis\": {\"gridcolor\": \"white\", \"linecolor\": \"white\", \"ticks\": \"\"}, \"baxis\": {\"gridcolor\": \"white\", \"linecolor\": \"white\", \"ticks\": \"\"}, \"bgcolor\": \"#E5ECF6\", \"caxis\": {\"gridcolor\": \"white\", \"linecolor\": \"white\", \"ticks\": \"\"}}, \"title\": {\"x\": 0.05}, \"xaxis\": {\"automargin\": true, \"gridcolor\": \"white\", \"linecolor\": \"white\", \"ticks\": \"\", \"title\": {\"standoff\": 15}, \"zerolinecolor\": \"white\", \"zerolinewidth\": 2}, \"yaxis\": {\"automargin\": true, \"gridcolor\": \"white\", \"linecolor\": \"white\", \"ticks\": \"\", \"title\": {\"standoff\": 15}, \"zerolinecolor\": \"white\", \"zerolinewidth\": 2}}}, \"title\": {\"text\": \"Rozrzut cenowy kaucji wstepnej\"}, \"xaxis\": {\"anchor\": \"y\", \"domain\": [0.0, 1.0], \"title\": {\"text\": \"pokoje\"}}, \"yaxis\": {\"anchor\": \"x\", \"domain\": [0.0, 1.0], \"title\": {\"text\": \"kaucja\"}}},                        {\"responsive\": true}                    ).then(function(){\n",
       "                            \n",
       "var gd = document.getElementById('97148b9e-19f6-4eb3-b130-0f4612432406');\n",
       "var x = new MutationObserver(function (mutations, observer) {{\n",
       "        var display = window.getComputedStyle(gd).display;\n",
       "        if (!display || display === 'none') {{\n",
       "            console.log([gd, 'removed!']);\n",
       "            Plotly.purge(gd);\n",
       "            observer.disconnect();\n",
       "        }}\n",
       "}});\n",
       "\n",
       "// Listen for the removal of the full notebook cells\n",
       "var notebookContainer = gd.closest('#notebook-container');\n",
       "if (notebookContainer) {{\n",
       "    x.observe(notebookContainer, {childList: true});\n",
       "}}\n",
       "\n",
       "// Listen for the clearing of the current output cell\n",
       "var outputEl = gd.closest('.output');\n",
       "if (outputEl) {{\n",
       "    x.observe(outputEl, {childList: true});\n",
       "}}\n",
       "\n",
       "                        })                };                });            </script>        </div>"
      ]
     },
     "metadata": {},
     "output_type": "display_data"
    }
   ],
   "source": [
    "kaucja_box = px.box(tabela,\n",
    "                                y = 'kaucja',\n",
    "                                x = 'pokoje',\n",
    "                                color = 'miasto',\n",
    "                                title = 'Rozrzut cenowy kaucji wstepnej')\n",
    "\n",
    "kaucja_box"
   ]
  },
  {
   "cell_type": "code",
   "execution_count": 127,
   "metadata": {},
   "outputs": [
    {
     "data": {
      "application/vnd.plotly.v1+json": {
       "config": {
        "plotlyServerURL": "https://plot.ly"
       },
       "data": [
        {
         "alignmentgroup": "True",
         "hovertemplate": "miasto=Katowice<br>pokoje=%{x}<br>pierwsza_oplata=%{y}<extra></extra>",
         "legendgroup": "Katowice",
         "marker": {
          "color": "#636efa"
         },
         "name": "Katowice",
         "notched": false,
         "offsetgroup": "Katowice",
         "orientation": "v",
         "showlegend": true,
         "type": "box",
         "x": [
          2,
          2,
          2,
          2,
          2,
          2,
          2,
          1,
          2,
          2,
          1,
          2,
          2,
          1,
          2,
          1,
          1,
          1,
          2,
          2,
          2,
          2,
          1,
          1,
          1,
          1,
          2,
          1,
          2,
          2,
          1,
          2,
          2,
          1,
          1,
          1,
          2,
          2,
          2,
          2,
          1,
          2,
          2,
          2,
          1,
          1,
          1,
          2,
          1,
          2,
          2,
          1,
          2,
          1,
          2,
          1,
          1,
          2,
          2,
          2,
          1,
          2,
          2,
          2,
          2,
          2,
          1,
          2,
          1,
          2,
          1,
          1,
          1,
          2,
          2,
          1,
          2,
          1,
          1,
          2,
          2,
          2,
          2,
          1,
          2,
          2,
          2,
          2,
          2,
          2,
          2,
          2,
          1,
          2,
          2,
          2,
          2,
          2,
          2,
          1,
          1,
          2,
          2,
          2,
          2,
          2,
          2,
          2,
          1,
          2,
          1,
          2,
          2,
          1,
          2,
          1,
          2,
          2,
          1,
          2,
          1,
          2,
          2,
          2,
          1,
          3,
          2,
          1,
          2,
          2,
          2,
          2,
          2,
          2,
          2,
          2,
          2,
          2,
          3,
          2,
          2,
          2,
          1,
          1,
          1,
          2,
          2,
          2,
          2,
          1,
          2,
          2,
          2,
          2,
          2,
          2,
          2,
          2,
          1,
          2,
          2,
          2,
          1,
          2,
          1,
          2,
          2,
          3,
          2,
          1,
          2,
          2,
          2,
          2,
          3,
          2,
          1,
          1,
          2,
          3,
          1,
          1,
          1,
          2,
          2,
          2,
          2,
          1,
          2,
          1,
          2,
          2,
          2,
          2,
          2,
          2,
          2,
          1,
          2,
          1,
          1,
          1,
          1,
          2,
          2,
          2,
          2,
          1,
          2,
          2,
          2,
          1,
          2,
          1,
          2,
          1,
          2,
          2,
          2,
          2,
          2,
          2,
          1,
          1,
          1,
          2,
          2,
          2,
          2,
          2,
          2,
          2,
          1,
          1,
          1,
          2,
          2,
          2,
          2,
          2,
          2,
          2,
          2,
          2,
          2,
          1,
          1,
          2,
          2,
          1,
          2,
          2,
          1,
          2,
          3,
          1,
          2,
          2,
          2,
          2,
          2,
          1,
          2,
          1,
          2,
          1,
          1,
          2,
          1,
          2,
          2,
          2,
          2,
          2,
          2,
          2,
          2,
          1,
          2,
          2,
          2,
          2,
          2,
          3,
          1,
          2,
          2,
          1,
          3,
          2,
          1,
          1,
          2,
          2,
          2,
          2,
          2,
          1,
          2,
          1,
          1,
          1,
          1,
          1,
          1,
          1,
          1,
          1,
          2,
          1,
          2,
          1,
          3,
          1,
          1,
          1,
          1,
          1,
          3,
          2,
          1,
          2,
          1,
          1,
          2,
          2,
          2,
          2,
          2,
          2,
          2,
          3,
          1,
          1,
          1,
          2,
          2,
          2,
          1,
          2,
          2,
          2,
          2,
          1,
          2,
          2,
          2,
          1,
          2,
          1,
          1,
          1,
          2,
          1,
          2,
          2,
          1,
          1,
          2,
          1,
          2,
          1,
          1,
          1,
          1,
          3,
          2,
          2,
          1,
          1,
          1,
          2,
          2,
          2,
          2,
          1,
          1,
          2,
          2,
          1,
          1,
          1,
          2,
          2,
          1,
          2,
          2,
          2,
          2,
          2,
          2,
          2,
          2,
          2,
          1,
          3,
          1,
          2,
          1,
          2,
          2,
          2,
          1,
          2,
          2,
          1,
          2,
          1,
          2,
          2,
          1,
          1,
          2,
          1,
          2,
          2,
          1,
          2,
          2,
          1,
          1,
          1,
          1,
          2,
          2,
          2,
          2,
          2,
          2,
          2,
          2,
          2,
          1,
          1,
          2,
          2,
          1,
          2,
          2,
          2,
          2,
          1,
          1,
          1,
          2,
          2,
          2,
          1,
          2,
          2,
          1,
          1,
          2,
          1,
          2,
          2,
          1,
          2,
          2,
          2,
          2,
          1,
          2,
          2,
          2,
          1,
          3,
          2,
          2,
          2,
          2,
          2,
          1,
          1,
          2,
          2,
          2,
          2,
          2,
          2,
          1,
          1,
          1,
          1,
          2,
          1,
          1,
          1,
          1,
          1,
          1,
          1,
          2,
          2,
          2,
          2,
          2,
          1,
          2,
          2,
          2,
          2,
          2,
          2,
          1,
          1,
          1,
          2,
          1,
          1,
          1,
          1,
          1,
          1,
          1,
          2,
          1,
          1,
          2,
          2,
          2,
          2,
          1,
          1,
          2,
          1,
          1,
          2,
          2,
          2,
          2,
          1,
          1,
          2,
          2,
          2,
          1,
          2,
          1,
          1,
          1,
          2,
          2,
          1,
          2,
          2,
          2,
          1,
          1,
          2,
          2,
          2,
          3,
          2,
          2,
          2,
          2,
          1,
          2,
          2,
          2,
          1,
          1,
          2,
          2,
          2,
          1,
          2,
          2,
          3,
          2,
          2,
          2,
          1,
          1,
          1,
          1,
          2,
          2,
          1,
          3,
          2,
          1,
          1,
          2,
          2,
          2,
          2,
          2,
          2,
          2,
          2,
          3,
          2,
          1,
          1,
          1,
          1,
          2,
          1,
          2,
          2,
          2,
          1,
          2,
          2,
          2,
          2,
          2,
          1,
          2,
          1,
          1,
          2,
          1,
          1,
          2,
          2,
          2,
          2,
          2,
          2,
          2,
          1,
          3,
          1,
          1,
          2,
          2,
          1,
          2,
          2,
          1,
          1,
          2,
          2,
          1,
          2,
          2,
          2,
          2,
          1,
          1,
          1,
          2,
          2,
          1,
          2,
          1,
          2,
          2,
          2,
          1,
          2,
          1,
          2,
          2,
          1,
          1,
          1,
          2,
          2,
          2,
          1,
          1,
          2,
          1,
          1,
          1,
          2,
          1,
          2,
          2,
          2,
          1,
          2,
          1,
          2,
          1,
          1,
          1,
          1,
          1,
          1,
          1,
          1,
          2,
          2,
          1,
          1,
          1,
          1,
          1,
          1,
          2,
          1,
          2,
          2,
          1,
          1,
          1,
          1,
          2,
          1,
          2,
          1,
          1,
          2,
          2,
          2,
          1,
          2,
          2,
          2,
          1,
          1,
          1,
          1,
          1,
          1,
          1,
          1,
          1,
          2,
          1,
          1,
          1,
          2,
          3,
          1,
          2,
          1,
          1,
          1,
          1,
          2,
          1,
          2,
          1,
          1,
          1,
          2,
          1,
          1,
          2,
          1,
          1,
          1,
          2,
          3,
          1,
          1,
          2,
          1,
          2,
          1,
          1,
          2,
          2,
          1,
          1,
          2,
          2,
          2,
          1,
          2,
          2,
          2,
          2,
          1,
          2,
          2,
          1,
          2,
          1,
          2,
          2,
          1,
          1,
          2,
          2,
          2,
          1,
          1,
          2,
          1,
          1,
          2,
          1,
          2,
          1,
          2,
          1,
          2,
          1,
          2,
          1
         ],
         "x0": " ",
         "xaxis": "x",
         "y": [
          4430,
          3461,
          5650,
          1100,
          5660,
          2220,
          3700,
          2800,
          3500,
          5200,
          1200,
          5500,
          2300,
          2600,
          3800,
          2750,
          2550,
          2730,
          2900,
          5200,
          3800,
          3887,
          850,
          3149,
          750,
          550,
          4401,
          1290,
          1550,
          2923,
          3306,
          5700,
          6714,
          2800,
          3151,
          900,
          3450,
          1600,
          1700,
          4480,
          1200,
          3140,
          3600,
          5500,
          4050,
          5220,
          3750,
          3300,
          4800,
          3080,
          4900,
          2699,
          3800,
          1090,
          4230,
          2799,
          990,
          1290,
          3140,
          1501,
          3980,
          5100,
          3100,
          4190,
          1750,
          1100,
          790,
          6550,
          2800,
          3850,
          3300,
          3351,
          3050,
          3430,
          3910,
          4100,
          900,
          2100,
          3050,
          1800,
          3500,
          4050,
          2000,
          3300,
          2100,
          6000,
          3200,
          3000,
          4600,
          5100,
          3100,
          6500,
          4000,
          4800,
          3899,
          2024,
          3800,
          5900,
          1300,
          2850,
          3600,
          1890,
          3000,
          4100,
          5000,
          2100,
          2000,
          2600,
          2700,
          6930,
          2880,
          3900,
          3150,
          2750,
          1500,
          1300,
          4200,
          3800,
          3100,
          6550,
          4000,
          4135,
          1900,
          2800,
          4400,
          1400,
          1300,
          3480,
          3650,
          3600,
          5600,
          4700,
          3700,
          2250,
          3030,
          5230,
          4050,
          3690,
          2575,
          3700,
          4650,
          1200,
          900,
          650,
          2742,
          5806,
          2100,
          1500,
          2100,
          1000,
          4700,
          4400,
          5970,
          3600,
          5900,
          2200,
          3550,
          2191,
          4050,
          6500,
          2801,
          1300,
          460,
          1300,
          4450,
          1780,
          4451,
          4499,
          3461,
          3500,
          1900,
          2530,
          5336,
          1300,
          4020,
          1780,
          2091,
          3200,
          6600,
          3701,
          3300,
          2500,
          2600,
          6000,
          5970,
          1400,
          6200,
          800,
          1600,
          970,
          2600,
          3700,
          1801,
          1501,
          3500,
          3600,
          7040,
          3600,
          3601,
          2560,
          1200,
          1250,
          3980,
          4180,
          3090,
          3140,
          3899,
          3050,
          3570,
          4500,
          5250,
          3180,
          3950,
          3150,
          5000,
          2700,
          4480,
          4050,
          2450,
          4050,
          4600,
          1690,
          2870,
          3000,
          2499,
          5300,
          3800,
          5200,
          4300,
          4650,
          2600,
          4970,
          3130,
          3780,
          3890,
          4300,
          4135,
          1800,
          1300,
          1300,
          1400,
          2000,
          3887,
          1190,
          1290,
          1090,
          2901,
          3800,
          3450,
          2699,
          3800,
          4400,
          950,
          1500,
          3400,
          2550,
          5650,
          3300,
          4300,
          3344,
          1790,
          1490,
          4800,
          2400,
          2300,
          2691,
          3500,
          3650,
          1099,
          1650,
          2280,
          4501,
          2220,
          3080,
          3550,
          5480,
          2000,
          1050,
          1450,
          1460,
          1200,
          2000,
          2000,
          5600,
          900,
          1600,
          1800,
          3850,
          3600,
          3200,
          1100,
          1200,
          1700,
          3650,
          7040,
          4800,
          3900,
          2600,
          4400,
          2400,
          1300,
          1300,
          1300,
          1300,
          1199,
          1250,
          950,
          800,
          1646,
          950,
          849,
          700,
          4700,
          2905,
          1150,
          1000,
          1200,
          4085,
          4499,
          6600,
          3600,
          2650,
          2400,
          1350,
          4050,
          1500,
          3170,
          3600,
          1800,
          5000,
          2600,
          2100,
          2100,
          3200,
          2300,
          990,
          1850,
          1750,
          2801,
          4001,
          1900,
          3300,
          5650,
          4085,
          1800,
          2150,
          1500,
          850,
          4470,
          980,
          950,
          1199,
          1250,
          2501,
          4300,
          2100,
          2400,
          2501,
          3600,
          1300,
          3700,
          4000,
          3130,
          1500,
          2000,
          2200,
          2920,
          2800,
          2400,
          2200,
          2100,
          3960,
          1650,
          2985,
          1650,
          800,
          3500,
          1650,
          1010,
          1950,
          2000,
          2700,
          1780,
          5650,
          319,
          1700,
          3200,
          2480,
          2150,
          2150,
          2100,
          1950,
          1950,
          1900,
          850,
          1600,
          2690,
          3760,
          1600,
          2250,
          6300,
          3568,
          2600,
          1750,
          3600,
          2900,
          3490,
          1350,
          1500,
          1590,
          1300,
          4400,
          4800,
          3840,
          2000,
          6500,
          3260,
          3800,
          2800,
          3501,
          2250,
          1734,
          2412,
          3400,
          3400,
          5130,
          3450,
          3300,
          4050,
          1200,
          1750,
          1300,
          4600,
          1000,
          4501,
          7550,
          3301,
          3651,
          5660,
          1650,
          1500,
          1200,
          2000,
          2800,
          4700,
          1550,
          1500,
          1600,
          3800,
          5900,
          2460,
          2400,
          2000,
          1350,
          1600,
          2999,
          2799,
          1750,
          2000,
          1850,
          1700,
          1150,
          2770,
          2240,
          3000,
          800,
          1500,
          5700,
          2040,
          5550,
          3200,
          3080,
          2400,
          1230,
          5560,
          2200,
          1800,
          4400,
          3850,
          1150,
          2850,
          2000,
          3180,
          3150,
          2351,
          800,
          1200,
          800,
          950,
          800,
          1265,
          1300,
          2220,
          4700,
          2400,
          2070,
          1860,
          1800,
          1000,
          6000,
          2500,
          3950,
          2980,
          3201,
          1300,
          1300,
          2200,
          5000,
          1800,
          1400,
          700,
          1400,
          1150,
          2600,
          3149,
          6714,
          1200,
          900,
          800,
          1980,
          3990,
          1200,
          1000,
          1000,
          1000,
          1250,
          3300,
          1800,
          1600,
          1300,
          3800,
          1100,
          1250,
          1100,
          1800,
          5200,
          4085,
          3700,
          2201,
          790,
          750,
          1600,
          1200,
          950,
          1500,
          4000,
          3850,
          1100,
          2000,
          3600,
          1500,
          1980,
          4600,
          3600,
          1300,
          2980,
          1500,
          1450,
          3700,
          5100,
          3200,
          2900,
          1050,
          1800,
          1540,
          4700,
          1000,
          4100,
          2400,
          2100,
          4700,
          2040,
          1600,
          1330,
          1530,
          1530,
          1250,
          3500,
          1900,
          1300,
          3200,
          2300,
          890,
          950,
          5100,
          4451,
          4180,
          3720,
          6120,
          1500,
          2300,
          2100,
          1401,
          920,
          790,
          1350,
          1600,
          1900,
          3500,
          2000,
          2116,
          4700,
          5650,
          2700,
          2250,
          4150,
          2500,
          3000,
          1900,
          1090,
          1700,
          3750,
          4800,
          4480,
          271,
          1250,
          4000,
          1350,
          1600,
          4600,
          1800,
          1950,
          1980,
          2700,
          1900,
          1200,
          2650,
          1390,
          1650,
          2200,
          2900,
          1600,
          800,
          1150,
          1800,
          3700,
          2600,
          3140,
          3344,
          1650,
          3400,
          650,
          4650,
          4650,
          1794,
          1800,
          3000,
          1700,
          2600,
          3600,
          3600,
          1600,
          900,
          3401,
          900,
          3490,
          1450,
          2700,
          967,
          390,
          3450,
          5970,
          5650,
          390,
          1500,
          3599,
          1300,
          1500,
          1200,
          3300,
          1100,
          1980,
          1500,
          4001,
          2000,
          1980,
          1100,
          1290,
          2600,
          1980,
          1250,
          2800,
          2650,
          2600,
          2800,
          2600,
          5660,
          4050,
          1200,
          2400,
          700,
          1230,
          1300,
          1200,
          2000,
          2000,
          3150,
          3200,
          1200,
          1200,
          1200,
          1200,
          1600,
          2000,
          2750,
          750,
          550,
          1650,
          3000,
          1300,
          940,
          4700,
          4451,
          1700,
          2700,
          3000,
          800,
          3299,
          1100,
          1980,
          2742,
          2101,
          901,
          4000,
          2001,
          1050,
          1500,
          1950,
          2300,
          5699,
          1500,
          800,
          1750,
          1100,
          1100,
          2300,
          1230,
          1500,
          1500,
          1500,
          2750,
          5490,
          2700,
          900,
          1750,
          1100,
          3400,
          1400,
          1000,
          3000,
          390,
          390,
          2600,
          2700,
          3200,
          2400,
          2700,
          2923,
          3600,
          2700,
          1200,
          4400,
          1700,
          1600,
          2000,
          2800,
          1350,
          1300,
          2698,
          2800,
          1727,
          1499,
          2700,
          3000,
          950,
          3000,
          3900,
          3000,
          2500,
          1700,
          5660,
          3500,
          4050,
          1200,
          3600,
          1150,
          3350,
          2300,
          1200,
          3500,
          3100,
          3600,
          1200,
          3600,
          2400,
          3780,
          2800
         ],
         "y0": " ",
         "yaxis": "y"
        },
        {
         "alignmentgroup": "True",
         "hovertemplate": "miasto=Bielsko-Biała<br>pokoje=%{x}<br>pierwsza_oplata=%{y}<extra></extra>",
         "legendgroup": "Bielsko-Biała",
         "marker": {
          "color": "#EF553B"
         },
         "name": "Bielsko-Biała",
         "notched": false,
         "offsetgroup": "Bielsko-Biała",
         "orientation": "v",
         "showlegend": true,
         "type": "box",
         "x": [
          1,
          2,
          1,
          1,
          1,
          2,
          2,
          3,
          2,
          3,
          1,
          2,
          2,
          2,
          3,
          2,
          1,
          2,
          1,
          2,
          2,
          1,
          2,
          2,
          1,
          1,
          2,
          2,
          2,
          1,
          1,
          2,
          2,
          2,
          2,
          2,
          2,
          1,
          2,
          2,
          2,
          1,
          1,
          2,
          2,
          1,
          2,
          1,
          2,
          2,
          1,
          2,
          1,
          3,
          2,
          1,
          1,
          2,
          2,
          2,
          1,
          1,
          1,
          1,
          2,
          2,
          2,
          2,
          3,
          2,
          2,
          1,
          2,
          1,
          1,
          2,
          1,
          1,
          2,
          1,
          2,
          1,
          2,
          2,
          3,
          2,
          2,
          2,
          1,
          2,
          1,
          2,
          1,
          2,
          2,
          2,
          1,
          1,
          2,
          2,
          2,
          2,
          2,
          1,
          1,
          1,
          3,
          1,
          1
         ],
         "x0": " ",
         "xaxis": "x",
         "y": [
          5400,
          4800,
          4675,
          750,
          3050,
          3300,
          1150,
          3650,
          3550,
          5600,
          3370,
          4500,
          5100,
          5550,
          3700,
          5490,
          4620,
          6400,
          1150,
          4960,
          2049,
          3220,
          7790,
          5100,
          1300,
          4450,
          4800,
          1850,
          4612,
          3650,
          1400,
          1650,
          5400,
          3400,
          4860,
          2049,
          5850,
          3688,
          1890,
          3850,
          1800,
          3050,
          3905,
          5130,
          4650,
          5200,
          3950,
          3260,
          4300,
          4860,
          4200,
          1970,
          3780,
          1600,
          2350,
          700,
          4350,
          3000,
          4020,
          3800,
          3300,
          3500,
          3500,
          900,
          1865,
          5710,
          7790,
          5800,
          4100,
          1550,
          2049,
          1600,
          5500,
          1800,
          1500,
          3800,
          3400,
          3050,
          2340,
          3100,
          4700,
          3600,
          3800,
          1700,
          1390,
          4860,
          6000,
          5450,
          4900,
          5550,
          3800,
          1300,
          3900,
          5400,
          1700,
          4960,
          1600,
          1499,
          4150,
          4150,
          1400,
          4400,
          5900,
          3050,
          3260,
          3450,
          3900,
          1000,
          1260
         ],
         "y0": " ",
         "yaxis": "y"
        },
        {
         "alignmentgroup": "True",
         "hovertemplate": "miasto=Tychy<br>pokoje=%{x}<br>pierwsza_oplata=%{y}<extra></extra>",
         "legendgroup": "Tychy",
         "marker": {
          "color": "#00cc96"
         },
         "name": "Tychy",
         "notched": false,
         "offsetgroup": "Tychy",
         "orientation": "v",
         "showlegend": true,
         "type": "box",
         "x": [
          1,
          1,
          2,
          2,
          2,
          2,
          2,
          2,
          2,
          2,
          1,
          2,
          2,
          2,
          2,
          2,
          2,
          2,
          1,
          2,
          2,
          2,
          2,
          1,
          1,
          2,
          2,
          2,
          2,
          2,
          2,
          2,
          3,
          2,
          2,
          2,
          2,
          2,
          1,
          2,
          2,
          2,
          2,
          1,
          2,
          2,
          2,
          2,
          1,
          2,
          2,
          2,
          1,
          2,
          1
         ],
         "x0": " ",
         "xaxis": "x",
         "y": [
          2600,
          800,
          6201,
          3290,
          3850,
          4930,
          4300,
          3080,
          1800,
          1500,
          1480,
          2950,
          5010,
          4930,
          4000,
          6201,
          1709,
          3080,
          4020,
          5200,
          5010,
          4950,
          1700,
          2800,
          2875,
          3001,
          4300,
          6201,
          3390,
          3650,
          4000,
          2950,
          500,
          4000,
          1800,
          1550,
          6000,
          4050,
          2600,
          5010,
          5290,
          4350,
          3000,
          1400,
          3000,
          2900,
          1550,
          3000,
          2400,
          1500,
          4700,
          4300,
          1590,
          1700,
          1200
         ],
         "y0": " ",
         "yaxis": "y"
        }
       ],
       "layout": {
        "boxmode": "group",
        "legend": {
         "title": {
          "text": "miasto"
         },
         "tracegroupgap": 0
        },
        "template": {
         "data": {
          "bar": [
           {
            "error_x": {
             "color": "#2a3f5f"
            },
            "error_y": {
             "color": "#2a3f5f"
            },
            "marker": {
             "line": {
              "color": "#E5ECF6",
              "width": 0.5
             }
            },
            "type": "bar"
           }
          ],
          "barpolar": [
           {
            "marker": {
             "line": {
              "color": "#E5ECF6",
              "width": 0.5
             }
            },
            "type": "barpolar"
           }
          ],
          "carpet": [
           {
            "aaxis": {
             "endlinecolor": "#2a3f5f",
             "gridcolor": "white",
             "linecolor": "white",
             "minorgridcolor": "white",
             "startlinecolor": "#2a3f5f"
            },
            "baxis": {
             "endlinecolor": "#2a3f5f",
             "gridcolor": "white",
             "linecolor": "white",
             "minorgridcolor": "white",
             "startlinecolor": "#2a3f5f"
            },
            "type": "carpet"
           }
          ],
          "choropleth": [
           {
            "colorbar": {
             "outlinewidth": 0,
             "ticks": ""
            },
            "type": "choropleth"
           }
          ],
          "contour": [
           {
            "colorbar": {
             "outlinewidth": 0,
             "ticks": ""
            },
            "colorscale": [
             [
              0,
              "#0d0887"
             ],
             [
              0.1111111111111111,
              "#46039f"
             ],
             [
              0.2222222222222222,
              "#7201a8"
             ],
             [
              0.3333333333333333,
              "#9c179e"
             ],
             [
              0.4444444444444444,
              "#bd3786"
             ],
             [
              0.5555555555555556,
              "#d8576b"
             ],
             [
              0.6666666666666666,
              "#ed7953"
             ],
             [
              0.7777777777777778,
              "#fb9f3a"
             ],
             [
              0.8888888888888888,
              "#fdca26"
             ],
             [
              1,
              "#f0f921"
             ]
            ],
            "type": "contour"
           }
          ],
          "contourcarpet": [
           {
            "colorbar": {
             "outlinewidth": 0,
             "ticks": ""
            },
            "type": "contourcarpet"
           }
          ],
          "heatmap": [
           {
            "colorbar": {
             "outlinewidth": 0,
             "ticks": ""
            },
            "colorscale": [
             [
              0,
              "#0d0887"
             ],
             [
              0.1111111111111111,
              "#46039f"
             ],
             [
              0.2222222222222222,
              "#7201a8"
             ],
             [
              0.3333333333333333,
              "#9c179e"
             ],
             [
              0.4444444444444444,
              "#bd3786"
             ],
             [
              0.5555555555555556,
              "#d8576b"
             ],
             [
              0.6666666666666666,
              "#ed7953"
             ],
             [
              0.7777777777777778,
              "#fb9f3a"
             ],
             [
              0.8888888888888888,
              "#fdca26"
             ],
             [
              1,
              "#f0f921"
             ]
            ],
            "type": "heatmap"
           }
          ],
          "heatmapgl": [
           {
            "colorbar": {
             "outlinewidth": 0,
             "ticks": ""
            },
            "colorscale": [
             [
              0,
              "#0d0887"
             ],
             [
              0.1111111111111111,
              "#46039f"
             ],
             [
              0.2222222222222222,
              "#7201a8"
             ],
             [
              0.3333333333333333,
              "#9c179e"
             ],
             [
              0.4444444444444444,
              "#bd3786"
             ],
             [
              0.5555555555555556,
              "#d8576b"
             ],
             [
              0.6666666666666666,
              "#ed7953"
             ],
             [
              0.7777777777777778,
              "#fb9f3a"
             ],
             [
              0.8888888888888888,
              "#fdca26"
             ],
             [
              1,
              "#f0f921"
             ]
            ],
            "type": "heatmapgl"
           }
          ],
          "histogram": [
           {
            "marker": {
             "colorbar": {
              "outlinewidth": 0,
              "ticks": ""
             }
            },
            "type": "histogram"
           }
          ],
          "histogram2d": [
           {
            "colorbar": {
             "outlinewidth": 0,
             "ticks": ""
            },
            "colorscale": [
             [
              0,
              "#0d0887"
             ],
             [
              0.1111111111111111,
              "#46039f"
             ],
             [
              0.2222222222222222,
              "#7201a8"
             ],
             [
              0.3333333333333333,
              "#9c179e"
             ],
             [
              0.4444444444444444,
              "#bd3786"
             ],
             [
              0.5555555555555556,
              "#d8576b"
             ],
             [
              0.6666666666666666,
              "#ed7953"
             ],
             [
              0.7777777777777778,
              "#fb9f3a"
             ],
             [
              0.8888888888888888,
              "#fdca26"
             ],
             [
              1,
              "#f0f921"
             ]
            ],
            "type": "histogram2d"
           }
          ],
          "histogram2dcontour": [
           {
            "colorbar": {
             "outlinewidth": 0,
             "ticks": ""
            },
            "colorscale": [
             [
              0,
              "#0d0887"
             ],
             [
              0.1111111111111111,
              "#46039f"
             ],
             [
              0.2222222222222222,
              "#7201a8"
             ],
             [
              0.3333333333333333,
              "#9c179e"
             ],
             [
              0.4444444444444444,
              "#bd3786"
             ],
             [
              0.5555555555555556,
              "#d8576b"
             ],
             [
              0.6666666666666666,
              "#ed7953"
             ],
             [
              0.7777777777777778,
              "#fb9f3a"
             ],
             [
              0.8888888888888888,
              "#fdca26"
             ],
             [
              1,
              "#f0f921"
             ]
            ],
            "type": "histogram2dcontour"
           }
          ],
          "mesh3d": [
           {
            "colorbar": {
             "outlinewidth": 0,
             "ticks": ""
            },
            "type": "mesh3d"
           }
          ],
          "parcoords": [
           {
            "line": {
             "colorbar": {
              "outlinewidth": 0,
              "ticks": ""
             }
            },
            "type": "parcoords"
           }
          ],
          "pie": [
           {
            "automargin": true,
            "type": "pie"
           }
          ],
          "scatter": [
           {
            "marker": {
             "colorbar": {
              "outlinewidth": 0,
              "ticks": ""
             }
            },
            "type": "scatter"
           }
          ],
          "scatter3d": [
           {
            "line": {
             "colorbar": {
              "outlinewidth": 0,
              "ticks": ""
             }
            },
            "marker": {
             "colorbar": {
              "outlinewidth": 0,
              "ticks": ""
             }
            },
            "type": "scatter3d"
           }
          ],
          "scattercarpet": [
           {
            "marker": {
             "colorbar": {
              "outlinewidth": 0,
              "ticks": ""
             }
            },
            "type": "scattercarpet"
           }
          ],
          "scattergeo": [
           {
            "marker": {
             "colorbar": {
              "outlinewidth": 0,
              "ticks": ""
             }
            },
            "type": "scattergeo"
           }
          ],
          "scattergl": [
           {
            "marker": {
             "colorbar": {
              "outlinewidth": 0,
              "ticks": ""
             }
            },
            "type": "scattergl"
           }
          ],
          "scattermapbox": [
           {
            "marker": {
             "colorbar": {
              "outlinewidth": 0,
              "ticks": ""
             }
            },
            "type": "scattermapbox"
           }
          ],
          "scatterpolar": [
           {
            "marker": {
             "colorbar": {
              "outlinewidth": 0,
              "ticks": ""
             }
            },
            "type": "scatterpolar"
           }
          ],
          "scatterpolargl": [
           {
            "marker": {
             "colorbar": {
              "outlinewidth": 0,
              "ticks": ""
             }
            },
            "type": "scatterpolargl"
           }
          ],
          "scatterternary": [
           {
            "marker": {
             "colorbar": {
              "outlinewidth": 0,
              "ticks": ""
             }
            },
            "type": "scatterternary"
           }
          ],
          "surface": [
           {
            "colorbar": {
             "outlinewidth": 0,
             "ticks": ""
            },
            "colorscale": [
             [
              0,
              "#0d0887"
             ],
             [
              0.1111111111111111,
              "#46039f"
             ],
             [
              0.2222222222222222,
              "#7201a8"
             ],
             [
              0.3333333333333333,
              "#9c179e"
             ],
             [
              0.4444444444444444,
              "#bd3786"
             ],
             [
              0.5555555555555556,
              "#d8576b"
             ],
             [
              0.6666666666666666,
              "#ed7953"
             ],
             [
              0.7777777777777778,
              "#fb9f3a"
             ],
             [
              0.8888888888888888,
              "#fdca26"
             ],
             [
              1,
              "#f0f921"
             ]
            ],
            "type": "surface"
           }
          ],
          "table": [
           {
            "cells": {
             "fill": {
              "color": "#EBF0F8"
             },
             "line": {
              "color": "white"
             }
            },
            "header": {
             "fill": {
              "color": "#C8D4E3"
             },
             "line": {
              "color": "white"
             }
            },
            "type": "table"
           }
          ]
         },
         "layout": {
          "annotationdefaults": {
           "arrowcolor": "#2a3f5f",
           "arrowhead": 0,
           "arrowwidth": 1
          },
          "autotypenumbers": "strict",
          "coloraxis": {
           "colorbar": {
            "outlinewidth": 0,
            "ticks": ""
           }
          },
          "colorscale": {
           "diverging": [
            [
             0,
             "#8e0152"
            ],
            [
             0.1,
             "#c51b7d"
            ],
            [
             0.2,
             "#de77ae"
            ],
            [
             0.3,
             "#f1b6da"
            ],
            [
             0.4,
             "#fde0ef"
            ],
            [
             0.5,
             "#f7f7f7"
            ],
            [
             0.6,
             "#e6f5d0"
            ],
            [
             0.7,
             "#b8e186"
            ],
            [
             0.8,
             "#7fbc41"
            ],
            [
             0.9,
             "#4d9221"
            ],
            [
             1,
             "#276419"
            ]
           ],
           "sequential": [
            [
             0,
             "#0d0887"
            ],
            [
             0.1111111111111111,
             "#46039f"
            ],
            [
             0.2222222222222222,
             "#7201a8"
            ],
            [
             0.3333333333333333,
             "#9c179e"
            ],
            [
             0.4444444444444444,
             "#bd3786"
            ],
            [
             0.5555555555555556,
             "#d8576b"
            ],
            [
             0.6666666666666666,
             "#ed7953"
            ],
            [
             0.7777777777777778,
             "#fb9f3a"
            ],
            [
             0.8888888888888888,
             "#fdca26"
            ],
            [
             1,
             "#f0f921"
            ]
           ],
           "sequentialminus": [
            [
             0,
             "#0d0887"
            ],
            [
             0.1111111111111111,
             "#46039f"
            ],
            [
             0.2222222222222222,
             "#7201a8"
            ],
            [
             0.3333333333333333,
             "#9c179e"
            ],
            [
             0.4444444444444444,
             "#bd3786"
            ],
            [
             0.5555555555555556,
             "#d8576b"
            ],
            [
             0.6666666666666666,
             "#ed7953"
            ],
            [
             0.7777777777777778,
             "#fb9f3a"
            ],
            [
             0.8888888888888888,
             "#fdca26"
            ],
            [
             1,
             "#f0f921"
            ]
           ]
          },
          "colorway": [
           "#636efa",
           "#EF553B",
           "#00cc96",
           "#ab63fa",
           "#FFA15A",
           "#19d3f3",
           "#FF6692",
           "#B6E880",
           "#FF97FF",
           "#FECB52"
          ],
          "font": {
           "color": "#2a3f5f"
          },
          "geo": {
           "bgcolor": "white",
           "lakecolor": "white",
           "landcolor": "#E5ECF6",
           "showlakes": true,
           "showland": true,
           "subunitcolor": "white"
          },
          "hoverlabel": {
           "align": "left"
          },
          "hovermode": "closest",
          "mapbox": {
           "style": "light"
          },
          "paper_bgcolor": "white",
          "plot_bgcolor": "#E5ECF6",
          "polar": {
           "angularaxis": {
            "gridcolor": "white",
            "linecolor": "white",
            "ticks": ""
           },
           "bgcolor": "#E5ECF6",
           "radialaxis": {
            "gridcolor": "white",
            "linecolor": "white",
            "ticks": ""
           }
          },
          "scene": {
           "xaxis": {
            "backgroundcolor": "#E5ECF6",
            "gridcolor": "white",
            "gridwidth": 2,
            "linecolor": "white",
            "showbackground": true,
            "ticks": "",
            "zerolinecolor": "white"
           },
           "yaxis": {
            "backgroundcolor": "#E5ECF6",
            "gridcolor": "white",
            "gridwidth": 2,
            "linecolor": "white",
            "showbackground": true,
            "ticks": "",
            "zerolinecolor": "white"
           },
           "zaxis": {
            "backgroundcolor": "#E5ECF6",
            "gridcolor": "white",
            "gridwidth": 2,
            "linecolor": "white",
            "showbackground": true,
            "ticks": "",
            "zerolinecolor": "white"
           }
          },
          "shapedefaults": {
           "line": {
            "color": "#2a3f5f"
           }
          },
          "ternary": {
           "aaxis": {
            "gridcolor": "white",
            "linecolor": "white",
            "ticks": ""
           },
           "baxis": {
            "gridcolor": "white",
            "linecolor": "white",
            "ticks": ""
           },
           "bgcolor": "#E5ECF6",
           "caxis": {
            "gridcolor": "white",
            "linecolor": "white",
            "ticks": ""
           }
          },
          "title": {
           "x": 0.05
          },
          "xaxis": {
           "automargin": true,
           "gridcolor": "white",
           "linecolor": "white",
           "ticks": "",
           "title": {
            "standoff": 15
           },
           "zerolinecolor": "white",
           "zerolinewidth": 2
          },
          "yaxis": {
           "automargin": true,
           "gridcolor": "white",
           "linecolor": "white",
           "ticks": "",
           "title": {
            "standoff": 15
           },
           "zerolinecolor": "white",
           "zerolinewidth": 2
          }
         }
        },
        "title": {
         "text": "Rozrzut cenowy kaucji wstepnej"
        },
        "xaxis": {
         "anchor": "y",
         "domain": [
          0,
          1
         ],
         "title": {
          "text": "pokoje"
         }
        },
        "yaxis": {
         "anchor": "x",
         "domain": [
          0,
          1
         ],
         "title": {
          "text": "pierwsza_oplata"
         }
        }
       }
      },
      "text/html": [
       "<div>                            <div id=\"cede9e32-5088-47b9-9f5b-c3652f82ed0f\" class=\"plotly-graph-div\" style=\"height:525px; width:100%;\"></div>            <script type=\"text/javascript\">                require([\"plotly\"], function(Plotly) {                    window.PLOTLYENV=window.PLOTLYENV || {};                                    if (document.getElementById(\"cede9e32-5088-47b9-9f5b-c3652f82ed0f\")) {                    Plotly.newPlot(                        \"cede9e32-5088-47b9-9f5b-c3652f82ed0f\",                        [{\"alignmentgroup\": \"True\", \"hovertemplate\": \"miasto=Katowice<br>pokoje=%{x}<br>pierwsza_oplata=%{y}<extra></extra>\", \"legendgroup\": \"Katowice\", \"marker\": {\"color\": \"#636efa\"}, \"name\": \"Katowice\", \"notched\": false, \"offsetgroup\": \"Katowice\", \"orientation\": \"v\", \"showlegend\": true, \"type\": \"box\", \"x\": [2, 2, 2, 2, 2, 2, 2, 1, 2, 2, 1, 2, 2, 1, 2, 1, 1, 1, 2, 2, 2, 2, 1, 1, 1, 1, 2, 1, 2, 2, 1, 2, 2, 1, 1, 1, 2, 2, 2, 2, 1, 2, 2, 2, 1, 1, 1, 2, 1, 2, 2, 1, 2, 1, 2, 1, 1, 2, 2, 2, 1, 2, 2, 2, 2, 2, 1, 2, 1, 2, 1, 1, 1, 2, 2, 1, 2, 1, 1, 2, 2, 2, 2, 1, 2, 2, 2, 2, 2, 2, 2, 2, 1, 2, 2, 2, 2, 2, 2, 1, 1, 2, 2, 2, 2, 2, 2, 2, 1, 2, 1, 2, 2, 1, 2, 1, 2, 2, 1, 2, 1, 2, 2, 2, 1, 3, 2, 1, 2, 2, 2, 2, 2, 2, 2, 2, 2, 2, 3, 2, 2, 2, 1, 1, 1, 2, 2, 2, 2, 1, 2, 2, 2, 2, 2, 2, 2, 2, 1, 2, 2, 2, 1, 2, 1, 2, 2, 3, 2, 1, 2, 2, 2, 2, 3, 2, 1, 1, 2, 3, 1, 1, 1, 2, 2, 2, 2, 1, 2, 1, 2, 2, 2, 2, 2, 2, 2, 1, 2, 1, 1, 1, 1, 2, 2, 2, 2, 1, 2, 2, 2, 1, 2, 1, 2, 1, 2, 2, 2, 2, 2, 2, 1, 1, 1, 2, 2, 2, 2, 2, 2, 2, 1, 1, 1, 2, 2, 2, 2, 2, 2, 2, 2, 2, 2, 1, 1, 2, 2, 1, 2, 2, 1, 2, 3, 1, 2, 2, 2, 2, 2, 1, 2, 1, 2, 1, 1, 2, 1, 2, 2, 2, 2, 2, 2, 2, 2, 1, 2, 2, 2, 2, 2, 3, 1, 2, 2, 1, 3, 2, 1, 1, 2, 2, 2, 2, 2, 1, 2, 1, 1, 1, 1, 1, 1, 1, 1, 1, 2, 1, 2, 1, 3, 1, 1, 1, 1, 1, 3, 2, 1, 2, 1, 1, 2, 2, 2, 2, 2, 2, 2, 3, 1, 1, 1, 2, 2, 2, 1, 2, 2, 2, 2, 1, 2, 2, 2, 1, 2, 1, 1, 1, 2, 1, 2, 2, 1, 1, 2, 1, 2, 1, 1, 1, 1, 3, 2, 2, 1, 1, 1, 2, 2, 2, 2, 1, 1, 2, 2, 1, 1, 1, 2, 2, 1, 2, 2, 2, 2, 2, 2, 2, 2, 2, 1, 3, 1, 2, 1, 2, 2, 2, 1, 2, 2, 1, 2, 1, 2, 2, 1, 1, 2, 1, 2, 2, 1, 2, 2, 1, 1, 1, 1, 2, 2, 2, 2, 2, 2, 2, 2, 2, 1, 1, 2, 2, 1, 2, 2, 2, 2, 1, 1, 1, 2, 2, 2, 1, 2, 2, 1, 1, 2, 1, 2, 2, 1, 2, 2, 2, 2, 1, 2, 2, 2, 1, 3, 2, 2, 2, 2, 2, 1, 1, 2, 2, 2, 2, 2, 2, 1, 1, 1, 1, 2, 1, 1, 1, 1, 1, 1, 1, 2, 2, 2, 2, 2, 1, 2, 2, 2, 2, 2, 2, 1, 1, 1, 2, 1, 1, 1, 1, 1, 1, 1, 2, 1, 1, 2, 2, 2, 2, 1, 1, 2, 1, 1, 2, 2, 2, 2, 1, 1, 2, 2, 2, 1, 2, 1, 1, 1, 2, 2, 1, 2, 2, 2, 1, 1, 2, 2, 2, 3, 2, 2, 2, 2, 1, 2, 2, 2, 1, 1, 2, 2, 2, 1, 2, 2, 3, 2, 2, 2, 1, 1, 1, 1, 2, 2, 1, 3, 2, 1, 1, 2, 2, 2, 2, 2, 2, 2, 2, 3, 2, 1, 1, 1, 1, 2, 1, 2, 2, 2, 1, 2, 2, 2, 2, 2, 1, 2, 1, 1, 2, 1, 1, 2, 2, 2, 2, 2, 2, 2, 1, 3, 1, 1, 2, 2, 1, 2, 2, 1, 1, 2, 2, 1, 2, 2, 2, 2, 1, 1, 1, 2, 2, 1, 2, 1, 2, 2, 2, 1, 2, 1, 2, 2, 1, 1, 1, 2, 2, 2, 1, 1, 2, 1, 1, 1, 2, 1, 2, 2, 2, 1, 2, 1, 2, 1, 1, 1, 1, 1, 1, 1, 1, 2, 2, 1, 1, 1, 1, 1, 1, 2, 1, 2, 2, 1, 1, 1, 1, 2, 1, 2, 1, 1, 2, 2, 2, 1, 2, 2, 2, 1, 1, 1, 1, 1, 1, 1, 1, 1, 2, 1, 1, 1, 2, 3, 1, 2, 1, 1, 1, 1, 2, 1, 2, 1, 1, 1, 2, 1, 1, 2, 1, 1, 1, 2, 3, 1, 1, 2, 1, 2, 1, 1, 2, 2, 1, 1, 2, 2, 2, 1, 2, 2, 2, 2, 1, 2, 2, 1, 2, 1, 2, 2, 1, 1, 2, 2, 2, 1, 1, 2, 1, 1, 2, 1, 2, 1, 2, 1, 2, 1, 2, 1], \"x0\": \" \", \"xaxis\": \"x\", \"y\": [4430, 3461, 5650, 1100, 5660, 2220, 3700, 2800, 3500, 5200, 1200, 5500, 2300, 2600, 3800, 2750, 2550, 2730, 2900, 5200, 3800, 3887, 850, 3149, 750, 550, 4401, 1290, 1550, 2923, 3306, 5700, 6714, 2800, 3151, 900, 3450, 1600, 1700, 4480, 1200, 3140, 3600, 5500, 4050, 5220, 3750, 3300, 4800, 3080, 4900, 2699, 3800, 1090, 4230, 2799, 990, 1290, 3140, 1501, 3980, 5100, 3100, 4190, 1750, 1100, 790, 6550, 2800, 3850, 3300, 3351, 3050, 3430, 3910, 4100, 900, 2100, 3050, 1800, 3500, 4050, 2000, 3300, 2100, 6000, 3200, 3000, 4600, 5100, 3100, 6500, 4000, 4800, 3899, 2024, 3800, 5900, 1300, 2850, 3600, 1890, 3000, 4100, 5000, 2100, 2000, 2600, 2700, 6930, 2880, 3900, 3150, 2750, 1500, 1300, 4200, 3800, 3100, 6550, 4000, 4135, 1900, 2800, 4400, 1400, 1300, 3480, 3650, 3600, 5600, 4700, 3700, 2250, 3030, 5230, 4050, 3690, 2575, 3700, 4650, 1200, 900, 650, 2742, 5806, 2100, 1500, 2100, 1000, 4700, 4400, 5970, 3600, 5900, 2200, 3550, 2191, 4050, 6500, 2801, 1300, 460, 1300, 4450, 1780, 4451, 4499, 3461, 3500, 1900, 2530, 5336, 1300, 4020, 1780, 2091, 3200, 6600, 3701, 3300, 2500, 2600, 6000, 5970, 1400, 6200, 800, 1600, 970, 2600, 3700, 1801, 1501, 3500, 3600, 7040, 3600, 3601, 2560, 1200, 1250, 3980, 4180, 3090, 3140, 3899, 3050, 3570, 4500, 5250, 3180, 3950, 3150, 5000, 2700, 4480, 4050, 2450, 4050, 4600, 1690, 2870, 3000, 2499, 5300, 3800, 5200, 4300, 4650, 2600, 4970, 3130, 3780, 3890, 4300, 4135, 1800, 1300, 1300, 1400, 2000, 3887, 1190, 1290, 1090, 2901, 3800, 3450, 2699, 3800, 4400, 950, 1500, 3400, 2550, 5650, 3300, 4300, 3344, 1790, 1490, 4800, 2400, 2300, 2691, 3500, 3650, 1099, 1650, 2280, 4501, 2220, 3080, 3550, 5480, 2000, 1050, 1450, 1460, 1200, 2000, 2000, 5600, 900, 1600, 1800, 3850, 3600, 3200, 1100, 1200, 1700, 3650, 7040, 4800, 3900, 2600, 4400, 2400, 1300, 1300, 1300, 1300, 1199, 1250, 950, 800, 1646, 950, 849, 700, 4700, 2905, 1150, 1000, 1200, 4085, 4499, 6600, 3600, 2650, 2400, 1350, 4050, 1500, 3170, 3600, 1800, 5000, 2600, 2100, 2100, 3200, 2300, 990, 1850, 1750, 2801, 4001, 1900, 3300, 5650, 4085, 1800, 2150, 1500, 850, 4470, 980, 950, 1199, 1250, 2501, 4300, 2100, 2400, 2501, 3600, 1300, 3700, 4000, 3130, 1500, 2000, 2200, 2920, 2800, 2400, 2200, 2100, 3960, 1650, 2985, 1650, 800, 3500, 1650, 1010, 1950, 2000, 2700, 1780, 5650, 319, 1700, 3200, 2480, 2150, 2150, 2100, 1950, 1950, 1900, 850, 1600, 2690, 3760, 1600, 2250, 6300, 3568, 2600, 1750, 3600, 2900, 3490, 1350, 1500, 1590, 1300, 4400, 4800, 3840, 2000, 6500, 3260, 3800, 2800, 3501, 2250, 1734, 2412, 3400, 3400, 5130, 3450, 3300, 4050, 1200, 1750, 1300, 4600, 1000, 4501, 7550, 3301, 3651, 5660, 1650, 1500, 1200, 2000, 2800, 4700, 1550, 1500, 1600, 3800, 5900, 2460, 2400, 2000, 1350, 1600, 2999, 2799, 1750, 2000, 1850, 1700, 1150, 2770, 2240, 3000, 800, 1500, 5700, 2040, 5550, 3200, 3080, 2400, 1230, 5560, 2200, 1800, 4400, 3850, 1150, 2850, 2000, 3180, 3150, 2351, 800, 1200, 800, 950, 800, 1265, 1300, 2220, 4700, 2400, 2070, 1860, 1800, 1000, 6000, 2500, 3950, 2980, 3201, 1300, 1300, 2200, 5000, 1800, 1400, 700, 1400, 1150, 2600, 3149, 6714, 1200, 900, 800, 1980, 3990, 1200, 1000, 1000, 1000, 1250, 3300, 1800, 1600, 1300, 3800, 1100, 1250, 1100, 1800, 5200, 4085, 3700, 2201, 790, 750, 1600, 1200, 950, 1500, 4000, 3850, 1100, 2000, 3600, 1500, 1980, 4600, 3600, 1300, 2980, 1500, 1450, 3700, 5100, 3200, 2900, 1050, 1800, 1540, 4700, 1000, 4100, 2400, 2100, 4700, 2040, 1600, 1330, 1530, 1530, 1250, 3500, 1900, 1300, 3200, 2300, 890, 950, 5100, 4451, 4180, 3720, 6120, 1500, 2300, 2100, 1401, 920, 790, 1350, 1600, 1900, 3500, 2000, 2116, 4700, 5650, 2700, 2250, 4150, 2500, 3000, 1900, 1090, 1700, 3750, 4800, 4480, 271, 1250, 4000, 1350, 1600, 4600, 1800, 1950, 1980, 2700, 1900, 1200, 2650, 1390, 1650, 2200, 2900, 1600, 800, 1150, 1800, 3700, 2600, 3140, 3344, 1650, 3400, 650, 4650, 4650, 1794, 1800, 3000, 1700, 2600, 3600, 3600, 1600, 900, 3401, 900, 3490, 1450, 2700, 967, 390, 3450, 5970, 5650, 390, 1500, 3599, 1300, 1500, 1200, 3300, 1100, 1980, 1500, 4001, 2000, 1980, 1100, 1290, 2600, 1980, 1250, 2800, 2650, 2600, 2800, 2600, 5660, 4050, 1200, 2400, 700, 1230, 1300, 1200, 2000, 2000, 3150, 3200, 1200, 1200, 1200, 1200, 1600, 2000, 2750, 750, 550, 1650, 3000, 1300, 940, 4700, 4451, 1700, 2700, 3000, 800, 3299, 1100, 1980, 2742, 2101, 901, 4000, 2001, 1050, 1500, 1950, 2300, 5699, 1500, 800, 1750, 1100, 1100, 2300, 1230, 1500, 1500, 1500, 2750, 5490, 2700, 900, 1750, 1100, 3400, 1400, 1000, 3000, 390, 390, 2600, 2700, 3200, 2400, 2700, 2923, 3600, 2700, 1200, 4400, 1700, 1600, 2000, 2800, 1350, 1300, 2698, 2800, 1727, 1499, 2700, 3000, 950, 3000, 3900, 3000, 2500, 1700, 5660, 3500, 4050, 1200, 3600, 1150, 3350, 2300, 1200, 3500, 3100, 3600, 1200, 3600, 2400, 3780, 2800], \"y0\": \" \", \"yaxis\": \"y\"}, {\"alignmentgroup\": \"True\", \"hovertemplate\": \"miasto=Bielsko-Bia\\u0142a<br>pokoje=%{x}<br>pierwsza_oplata=%{y}<extra></extra>\", \"legendgroup\": \"Bielsko-Bia\\u0142a\", \"marker\": {\"color\": \"#EF553B\"}, \"name\": \"Bielsko-Bia\\u0142a\", \"notched\": false, \"offsetgroup\": \"Bielsko-Bia\\u0142a\", \"orientation\": \"v\", \"showlegend\": true, \"type\": \"box\", \"x\": [1, 2, 1, 1, 1, 2, 2, 3, 2, 3, 1, 2, 2, 2, 3, 2, 1, 2, 1, 2, 2, 1, 2, 2, 1, 1, 2, 2, 2, 1, 1, 2, 2, 2, 2, 2, 2, 1, 2, 2, 2, 1, 1, 2, 2, 1, 2, 1, 2, 2, 1, 2, 1, 3, 2, 1, 1, 2, 2, 2, 1, 1, 1, 1, 2, 2, 2, 2, 3, 2, 2, 1, 2, 1, 1, 2, 1, 1, 2, 1, 2, 1, 2, 2, 3, 2, 2, 2, 1, 2, 1, 2, 1, 2, 2, 2, 1, 1, 2, 2, 2, 2, 2, 1, 1, 1, 3, 1, 1], \"x0\": \" \", \"xaxis\": \"x\", \"y\": [5400, 4800, 4675, 750, 3050, 3300, 1150, 3650, 3550, 5600, 3370, 4500, 5100, 5550, 3700, 5490, 4620, 6400, 1150, 4960, 2049, 3220, 7790, 5100, 1300, 4450, 4800, 1850, 4612, 3650, 1400, 1650, 5400, 3400, 4860, 2049, 5850, 3688, 1890, 3850, 1800, 3050, 3905, 5130, 4650, 5200, 3950, 3260, 4300, 4860, 4200, 1970, 3780, 1600, 2350, 700, 4350, 3000, 4020, 3800, 3300, 3500, 3500, 900, 1865, 5710, 7790, 5800, 4100, 1550, 2049, 1600, 5500, 1800, 1500, 3800, 3400, 3050, 2340, 3100, 4700, 3600, 3800, 1700, 1390, 4860, 6000, 5450, 4900, 5550, 3800, 1300, 3900, 5400, 1700, 4960, 1600, 1499, 4150, 4150, 1400, 4400, 5900, 3050, 3260, 3450, 3900, 1000, 1260], \"y0\": \" \", \"yaxis\": \"y\"}, {\"alignmentgroup\": \"True\", \"hovertemplate\": \"miasto=Tychy<br>pokoje=%{x}<br>pierwsza_oplata=%{y}<extra></extra>\", \"legendgroup\": \"Tychy\", \"marker\": {\"color\": \"#00cc96\"}, \"name\": \"Tychy\", \"notched\": false, \"offsetgroup\": \"Tychy\", \"orientation\": \"v\", \"showlegend\": true, \"type\": \"box\", \"x\": [1, 1, 2, 2, 2, 2, 2, 2, 2, 2, 1, 2, 2, 2, 2, 2, 2, 2, 1, 2, 2, 2, 2, 1, 1, 2, 2, 2, 2, 2, 2, 2, 3, 2, 2, 2, 2, 2, 1, 2, 2, 2, 2, 1, 2, 2, 2, 2, 1, 2, 2, 2, 1, 2, 1], \"x0\": \" \", \"xaxis\": \"x\", \"y\": [2600, 800, 6201, 3290, 3850, 4930, 4300, 3080, 1800, 1500, 1480, 2950, 5010, 4930, 4000, 6201, 1709, 3080, 4020, 5200, 5010, 4950, 1700, 2800, 2875, 3001, 4300, 6201, 3390, 3650, 4000, 2950, 500, 4000, 1800, 1550, 6000, 4050, 2600, 5010, 5290, 4350, 3000, 1400, 3000, 2900, 1550, 3000, 2400, 1500, 4700, 4300, 1590, 1700, 1200], \"y0\": \" \", \"yaxis\": \"y\"}],                        {\"boxmode\": \"group\", \"legend\": {\"title\": {\"text\": \"miasto\"}, \"tracegroupgap\": 0}, \"template\": {\"data\": {\"bar\": [{\"error_x\": {\"color\": \"#2a3f5f\"}, \"error_y\": {\"color\": \"#2a3f5f\"}, \"marker\": {\"line\": {\"color\": \"#E5ECF6\", \"width\": 0.5}}, \"type\": \"bar\"}], \"barpolar\": [{\"marker\": {\"line\": {\"color\": \"#E5ECF6\", \"width\": 0.5}}, \"type\": \"barpolar\"}], \"carpet\": [{\"aaxis\": {\"endlinecolor\": \"#2a3f5f\", \"gridcolor\": \"white\", \"linecolor\": \"white\", \"minorgridcolor\": \"white\", \"startlinecolor\": \"#2a3f5f\"}, \"baxis\": {\"endlinecolor\": \"#2a3f5f\", \"gridcolor\": \"white\", \"linecolor\": \"white\", \"minorgridcolor\": \"white\", \"startlinecolor\": \"#2a3f5f\"}, \"type\": \"carpet\"}], \"choropleth\": [{\"colorbar\": {\"outlinewidth\": 0, \"ticks\": \"\"}, \"type\": \"choropleth\"}], \"contour\": [{\"colorbar\": {\"outlinewidth\": 0, \"ticks\": \"\"}, \"colorscale\": [[0.0, \"#0d0887\"], [0.1111111111111111, \"#46039f\"], [0.2222222222222222, \"#7201a8\"], [0.3333333333333333, \"#9c179e\"], [0.4444444444444444, \"#bd3786\"], [0.5555555555555556, \"#d8576b\"], [0.6666666666666666, \"#ed7953\"], [0.7777777777777778, \"#fb9f3a\"], [0.8888888888888888, \"#fdca26\"], [1.0, \"#f0f921\"]], \"type\": \"contour\"}], \"contourcarpet\": [{\"colorbar\": {\"outlinewidth\": 0, \"ticks\": \"\"}, \"type\": \"contourcarpet\"}], \"heatmap\": [{\"colorbar\": {\"outlinewidth\": 0, \"ticks\": \"\"}, \"colorscale\": [[0.0, \"#0d0887\"], [0.1111111111111111, \"#46039f\"], [0.2222222222222222, \"#7201a8\"], [0.3333333333333333, \"#9c179e\"], [0.4444444444444444, \"#bd3786\"], [0.5555555555555556, \"#d8576b\"], [0.6666666666666666, \"#ed7953\"], [0.7777777777777778, \"#fb9f3a\"], [0.8888888888888888, \"#fdca26\"], [1.0, \"#f0f921\"]], \"type\": \"heatmap\"}], \"heatmapgl\": [{\"colorbar\": {\"outlinewidth\": 0, \"ticks\": \"\"}, \"colorscale\": [[0.0, \"#0d0887\"], [0.1111111111111111, \"#46039f\"], [0.2222222222222222, \"#7201a8\"], [0.3333333333333333, \"#9c179e\"], [0.4444444444444444, \"#bd3786\"], [0.5555555555555556, \"#d8576b\"], [0.6666666666666666, \"#ed7953\"], [0.7777777777777778, \"#fb9f3a\"], [0.8888888888888888, \"#fdca26\"], [1.0, \"#f0f921\"]], \"type\": \"heatmapgl\"}], \"histogram\": [{\"marker\": {\"colorbar\": {\"outlinewidth\": 0, \"ticks\": \"\"}}, \"type\": \"histogram\"}], \"histogram2d\": [{\"colorbar\": {\"outlinewidth\": 0, \"ticks\": \"\"}, \"colorscale\": [[0.0, \"#0d0887\"], [0.1111111111111111, \"#46039f\"], [0.2222222222222222, \"#7201a8\"], [0.3333333333333333, \"#9c179e\"], [0.4444444444444444, \"#bd3786\"], [0.5555555555555556, \"#d8576b\"], [0.6666666666666666, \"#ed7953\"], [0.7777777777777778, \"#fb9f3a\"], [0.8888888888888888, \"#fdca26\"], [1.0, \"#f0f921\"]], \"type\": \"histogram2d\"}], \"histogram2dcontour\": [{\"colorbar\": {\"outlinewidth\": 0, \"ticks\": \"\"}, \"colorscale\": [[0.0, \"#0d0887\"], [0.1111111111111111, \"#46039f\"], [0.2222222222222222, \"#7201a8\"], [0.3333333333333333, \"#9c179e\"], [0.4444444444444444, \"#bd3786\"], [0.5555555555555556, \"#d8576b\"], [0.6666666666666666, \"#ed7953\"], [0.7777777777777778, \"#fb9f3a\"], [0.8888888888888888, \"#fdca26\"], [1.0, \"#f0f921\"]], \"type\": \"histogram2dcontour\"}], \"mesh3d\": [{\"colorbar\": {\"outlinewidth\": 0, \"ticks\": \"\"}, \"type\": \"mesh3d\"}], \"parcoords\": [{\"line\": {\"colorbar\": {\"outlinewidth\": 0, \"ticks\": \"\"}}, \"type\": \"parcoords\"}], \"pie\": [{\"automargin\": true, \"type\": \"pie\"}], \"scatter\": [{\"marker\": {\"colorbar\": {\"outlinewidth\": 0, \"ticks\": \"\"}}, \"type\": \"scatter\"}], \"scatter3d\": [{\"line\": {\"colorbar\": {\"outlinewidth\": 0, \"ticks\": \"\"}}, \"marker\": {\"colorbar\": {\"outlinewidth\": 0, \"ticks\": \"\"}}, \"type\": \"scatter3d\"}], \"scattercarpet\": [{\"marker\": {\"colorbar\": {\"outlinewidth\": 0, \"ticks\": \"\"}}, \"type\": \"scattercarpet\"}], \"scattergeo\": [{\"marker\": {\"colorbar\": {\"outlinewidth\": 0, \"ticks\": \"\"}}, \"type\": \"scattergeo\"}], \"scattergl\": [{\"marker\": {\"colorbar\": {\"outlinewidth\": 0, \"ticks\": \"\"}}, \"type\": \"scattergl\"}], \"scattermapbox\": [{\"marker\": {\"colorbar\": {\"outlinewidth\": 0, \"ticks\": \"\"}}, \"type\": \"scattermapbox\"}], \"scatterpolar\": [{\"marker\": {\"colorbar\": {\"outlinewidth\": 0, \"ticks\": \"\"}}, \"type\": \"scatterpolar\"}], \"scatterpolargl\": [{\"marker\": {\"colorbar\": {\"outlinewidth\": 0, \"ticks\": \"\"}}, \"type\": \"scatterpolargl\"}], \"scatterternary\": [{\"marker\": {\"colorbar\": {\"outlinewidth\": 0, \"ticks\": \"\"}}, \"type\": \"scatterternary\"}], \"surface\": [{\"colorbar\": {\"outlinewidth\": 0, \"ticks\": \"\"}, \"colorscale\": [[0.0, \"#0d0887\"], [0.1111111111111111, \"#46039f\"], [0.2222222222222222, \"#7201a8\"], [0.3333333333333333, \"#9c179e\"], [0.4444444444444444, \"#bd3786\"], [0.5555555555555556, \"#d8576b\"], [0.6666666666666666, \"#ed7953\"], [0.7777777777777778, \"#fb9f3a\"], [0.8888888888888888, \"#fdca26\"], [1.0, \"#f0f921\"]], \"type\": \"surface\"}], \"table\": [{\"cells\": {\"fill\": {\"color\": \"#EBF0F8\"}, \"line\": {\"color\": \"white\"}}, \"header\": {\"fill\": {\"color\": \"#C8D4E3\"}, \"line\": {\"color\": \"white\"}}, \"type\": \"table\"}]}, \"layout\": {\"annotationdefaults\": {\"arrowcolor\": \"#2a3f5f\", \"arrowhead\": 0, \"arrowwidth\": 1}, \"autotypenumbers\": \"strict\", \"coloraxis\": {\"colorbar\": {\"outlinewidth\": 0, \"ticks\": \"\"}}, \"colorscale\": {\"diverging\": [[0, \"#8e0152\"], [0.1, \"#c51b7d\"], [0.2, \"#de77ae\"], [0.3, \"#f1b6da\"], [0.4, \"#fde0ef\"], [0.5, \"#f7f7f7\"], [0.6, \"#e6f5d0\"], [0.7, \"#b8e186\"], [0.8, \"#7fbc41\"], [0.9, \"#4d9221\"], [1, \"#276419\"]], \"sequential\": [[0.0, \"#0d0887\"], [0.1111111111111111, \"#46039f\"], [0.2222222222222222, \"#7201a8\"], [0.3333333333333333, \"#9c179e\"], [0.4444444444444444, \"#bd3786\"], [0.5555555555555556, \"#d8576b\"], [0.6666666666666666, \"#ed7953\"], [0.7777777777777778, \"#fb9f3a\"], [0.8888888888888888, \"#fdca26\"], [1.0, \"#f0f921\"]], \"sequentialminus\": [[0.0, \"#0d0887\"], [0.1111111111111111, \"#46039f\"], [0.2222222222222222, \"#7201a8\"], [0.3333333333333333, \"#9c179e\"], [0.4444444444444444, \"#bd3786\"], [0.5555555555555556, \"#d8576b\"], [0.6666666666666666, \"#ed7953\"], [0.7777777777777778, \"#fb9f3a\"], [0.8888888888888888, \"#fdca26\"], [1.0, \"#f0f921\"]]}, \"colorway\": [\"#636efa\", \"#EF553B\", \"#00cc96\", \"#ab63fa\", \"#FFA15A\", \"#19d3f3\", \"#FF6692\", \"#B6E880\", \"#FF97FF\", \"#FECB52\"], \"font\": {\"color\": \"#2a3f5f\"}, \"geo\": {\"bgcolor\": \"white\", \"lakecolor\": \"white\", \"landcolor\": \"#E5ECF6\", \"showlakes\": true, \"showland\": true, \"subunitcolor\": \"white\"}, \"hoverlabel\": {\"align\": \"left\"}, \"hovermode\": \"closest\", \"mapbox\": {\"style\": \"light\"}, \"paper_bgcolor\": \"white\", \"plot_bgcolor\": \"#E5ECF6\", \"polar\": {\"angularaxis\": {\"gridcolor\": \"white\", \"linecolor\": \"white\", \"ticks\": \"\"}, \"bgcolor\": \"#E5ECF6\", \"radialaxis\": {\"gridcolor\": \"white\", \"linecolor\": \"white\", \"ticks\": \"\"}}, \"scene\": {\"xaxis\": {\"backgroundcolor\": \"#E5ECF6\", \"gridcolor\": \"white\", \"gridwidth\": 2, \"linecolor\": \"white\", \"showbackground\": true, \"ticks\": \"\", \"zerolinecolor\": \"white\"}, \"yaxis\": {\"backgroundcolor\": \"#E5ECF6\", \"gridcolor\": \"white\", \"gridwidth\": 2, \"linecolor\": \"white\", \"showbackground\": true, \"ticks\": \"\", \"zerolinecolor\": \"white\"}, \"zaxis\": {\"backgroundcolor\": \"#E5ECF6\", \"gridcolor\": \"white\", \"gridwidth\": 2, \"linecolor\": \"white\", \"showbackground\": true, \"ticks\": \"\", \"zerolinecolor\": \"white\"}}, \"shapedefaults\": {\"line\": {\"color\": \"#2a3f5f\"}}, \"ternary\": {\"aaxis\": {\"gridcolor\": \"white\", \"linecolor\": \"white\", \"ticks\": \"\"}, \"baxis\": {\"gridcolor\": \"white\", \"linecolor\": \"white\", \"ticks\": \"\"}, \"bgcolor\": \"#E5ECF6\", \"caxis\": {\"gridcolor\": \"white\", \"linecolor\": \"white\", \"ticks\": \"\"}}, \"title\": {\"x\": 0.05}, \"xaxis\": {\"automargin\": true, \"gridcolor\": \"white\", \"linecolor\": \"white\", \"ticks\": \"\", \"title\": {\"standoff\": 15}, \"zerolinecolor\": \"white\", \"zerolinewidth\": 2}, \"yaxis\": {\"automargin\": true, \"gridcolor\": \"white\", \"linecolor\": \"white\", \"ticks\": \"\", \"title\": {\"standoff\": 15}, \"zerolinecolor\": \"white\", \"zerolinewidth\": 2}}}, \"title\": {\"text\": \"Rozrzut cenowy kaucji wstepnej\"}, \"xaxis\": {\"anchor\": \"y\", \"domain\": [0.0, 1.0], \"title\": {\"text\": \"pokoje\"}}, \"yaxis\": {\"anchor\": \"x\", \"domain\": [0.0, 1.0], \"title\": {\"text\": \"pierwsza_oplata\"}}},                        {\"responsive\": true}                    ).then(function(){\n",
       "                            \n",
       "var gd = document.getElementById('cede9e32-5088-47b9-9f5b-c3652f82ed0f');\n",
       "var x = new MutationObserver(function (mutations, observer) {{\n",
       "        var display = window.getComputedStyle(gd).display;\n",
       "        if (!display || display === 'none') {{\n",
       "            console.log([gd, 'removed!']);\n",
       "            Plotly.purge(gd);\n",
       "            observer.disconnect();\n",
       "        }}\n",
       "}});\n",
       "\n",
       "// Listen for the removal of the full notebook cells\n",
       "var notebookContainer = gd.closest('#notebook-container');\n",
       "if (notebookContainer) {{\n",
       "    x.observe(notebookContainer, {childList: true});\n",
       "}}\n",
       "\n",
       "// Listen for the clearing of the current output cell\n",
       "var outputEl = gd.closest('.output');\n",
       "if (outputEl) {{\n",
       "    x.observe(outputEl, {childList: true});\n",
       "}}\n",
       "\n",
       "                        })                };                });            </script>        </div>"
      ]
     },
     "metadata": {},
     "output_type": "display_data"
    }
   ],
   "source": [
    "pierwsza_oplata_box = px.box(tabela,\n",
    "                                y = 'pierwsza_oplata',\n",
    "                                x = 'pokoje',\n",
    "                                color = 'miasto',\n",
    "                                title = 'Rozrzut cenowy kaucji wstepnej')\n",
    "\n",
    "pierwsza_oplata_box"
   ]
  }
 ],
 "metadata": {
  "kernelspec": {
   "display_name": "Python 3",
   "language": "python",
   "name": "python3"
  },
  "language_info": {
   "codemirror_mode": {
    "name": "ipython",
    "version": 3
   },
   "file_extension": ".py",
   "mimetype": "text/x-python",
   "name": "python",
   "nbconvert_exporter": "python",
   "pygments_lexer": "ipython3",
   "version": "3.7.6"
  }
 },
 "nbformat": 4,
 "nbformat_minor": 4
}
