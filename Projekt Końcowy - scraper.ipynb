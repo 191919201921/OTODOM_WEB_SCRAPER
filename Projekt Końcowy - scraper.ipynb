{
 "cells": [
  {
   "cell_type": "code",
   "execution_count": 1,
   "metadata": {},
   "outputs": [],
   "source": [
    "#importy\n",
    "import pandas as pd\n",
    "import requests\n",
    "from bs4 import BeautifulSoup as bs\n",
    "import re"
   ]
  },
  {
   "cell_type": "code",
   "execution_count": 56,
   "metadata": {},
   "outputs": [
    {
     "data": {
      "text/html": [
       "<div>\n",
       "<style scoped>\n",
       "    .dataframe tbody tr th:only-of-type {\n",
       "        vertical-align: middle;\n",
       "    }\n",
       "\n",
       "    .dataframe tbody tr th {\n",
       "        vertical-align: top;\n",
       "    }\n",
       "\n",
       "    .dataframe thead th {\n",
       "        text-align: right;\n",
       "    }\n",
       "</style>\n",
       "<table border=\"1\" class=\"dataframe\">\n",
       "  <thead>\n",
       "    <tr style=\"text-align: right;\">\n",
       "      <th></th>\n",
       "      <th>tytul</th>\n",
       "      <th>typ</th>\n",
       "      <th>miejsce</th>\n",
       "      <th>pokoje</th>\n",
       "      <th>powierzchnia</th>\n",
       "      <th>cena</th>\n",
       "    </tr>\n",
       "  </thead>\n",
       "  <tbody>\n",
       "  </tbody>\n",
       "</table>\n",
       "</div>"
      ],
      "text/plain": [
       "Empty DataFrame\n",
       "Columns: [tytul, typ, miejsce, pokoje, powierzchnia, cena]\n",
       "Index: []"
      ]
     },
     "execution_count": 56,
     "metadata": {},
     "output_type": "execute_result"
    }
   ],
   "source": [
    "#tworze pusty dataframe\n",
    "df = pd.DataFrame(columns=['tytul','typ','miejsce','pokoje','powierzchnia','cena'])\n",
    "df"
   ]
  },
  {
   "cell_type": "code",
   "execution_count": null,
   "metadata": {},
   "outputs": [],
   "source": []
  },
  {
   "cell_type": "code",
   "execution_count": 57,
   "metadata": {},
   "outputs": [],
   "source": [
    "#link\n",
    "url = 'https://www.otodom.pl/wynajem/mieszkanie/tychy/?search%5Bfilter_float_m%3Ato%5D=50&search%5Bcity_id%5D=166'\n",
    "strona = requests.get(url)"
   ]
  },
  {
   "cell_type": "code",
   "execution_count": 58,
   "metadata": {},
   "outputs": [],
   "source": [
    "html = strona.content"
   ]
  },
  {
   "cell_type": "code",
   "execution_count": 59,
   "metadata": {},
   "outputs": [],
   "source": [
    "soup = bs(html,'lxml')"
   ]
  },
  {
   "cell_type": "code",
   "execution_count": 60,
   "metadata": {},
   "outputs": [],
   "source": [
    "with open(\"otodom.html\",'wb') as plik:\n",
    "    plik.write(soup.prettify(encoding='utf-8'))"
   ]
  },
  {
   "cell_type": "code",
   "execution_count": 7,
   "metadata": {},
   "outputs": [
    {
     "data": {
      "text/plain": [
       "'\\nnotatki dot. tagów\\n- form, id=\"pagerForm\", -> \\'a\\',\"\" -> numery stron.\\n- <div class=\"offer-item-details\">\\n    -\\n'"
      ]
     },
     "execution_count": 7,
     "metadata": {},
     "output_type": "execute_result"
    }
   ],
   "source": [
    "'''\n",
    "notatki dot. tagów\n",
    "- form, id=\"pagerForm\", -> 'a',\"\" -> numery stron.\n",
    "- <div class=\"offer-item-details\">\n",
    "    -\n",
    "'''"
   ]
  },
  {
   "cell_type": "markdown",
   "metadata": {},
   "source": [
    "### Tworzenie listy dostępnych stron z wynikami wyszukiwania.\n",
    "I obsługi limitu wyszukiwań"
   ]
  },
  {
   "cell_type": "code",
   "execution_count": 8,
   "metadata": {},
   "outputs": [
    {
     "data": {
      "text/plain": [
       "'\\npagers = soup.find(\\'ul\\',\"pager\")\\npagers'"
      ]
     },
     "execution_count": 8,
     "metadata": {},
     "output_type": "execute_result"
    }
   ],
   "source": [
    "'''\n",
    "pagers = soup.find('ul',\"pager\")\n",
    "pagers'''\n",
    "#nieuzywane"
   ]
  },
  {
   "cell_type": "code",
   "execution_count": 9,
   "metadata": {},
   "outputs": [
    {
     "data": {
      "text/plain": [
       "\"#znajdowanie aktualnego numeru strony\\np = soup.find_all('a','active')\\np\\np[1].text\\npage_active = int(p[1].text)\\npage_active\""
      ]
     },
     "execution_count": 9,
     "metadata": {},
     "output_type": "execute_result"
    }
   ],
   "source": [
    "'''#znajdowanie aktualnego numeru strony\n",
    "p = soup.find_all('a','active')\n",
    "p\n",
    "p[1].text\n",
    "page_active = int(p[1].text)\n",
    "page_active'''\n",
    "#będzie niepotrzebne, kod poniżej tworzy listę stron."
   ]
  },
  {
   "cell_type": "code",
   "execution_count": 61,
   "metadata": {},
   "outputs": [],
   "source": [
    "p2 = soup.find('form', {\"id\":'pagerForm'})\n",
    "p2= p2.find_all('a',\"\")\n",
    "\n",
    "strony = []\n",
    "\n",
    "for a in p2:\n",
    "    strona = a.text\n",
    "    if strona != \"\":\n",
    "        strona = int(strona)\n",
    "        strony.append(strona)\n",
    "    else:\n",
    "        pass\n",
    "        \n",
    "\n",
    "strona_max = max(strony)\n",
    "strona_min = min(strony)"
   ]
  },
  {
   "cell_type": "code",
   "execution_count": 62,
   "metadata": {},
   "outputs": [
    {
     "data": {
      "text/plain": [
       "1"
      ]
     },
     "execution_count": 62,
     "metadata": {},
     "output_type": "execute_result"
    }
   ],
   "source": [
    "strona_min"
   ]
  },
  {
   "cell_type": "code",
   "execution_count": 63,
   "metadata": {},
   "outputs": [
    {
     "data": {
      "text/plain": [
       "2"
      ]
     },
     "execution_count": 63,
     "metadata": {},
     "output_type": "execute_result"
    }
   ],
   "source": [
    "strona_max"
   ]
  },
  {
   "cell_type": "code",
   "execution_count": 64,
   "metadata": {},
   "outputs": [],
   "source": [
    "limit_wyszukiwania = 0\n",
    "\n",
    "def limit_wyszukiwan(strona_max):\n",
    "    if strona_max > 50:\n",
    "        limit_wyszukiwania =+ 50\n",
    "    else:\n",
    "        limit_wyszukiwania =+ strona_max\n",
    "    print(limit_wyszukiwania)"
   ]
  },
  {
   "cell_type": "code",
   "execution_count": 65,
   "metadata": {},
   "outputs": [
    {
     "name": "stdout",
     "output_type": "stream",
     "text": [
      "2\n"
     ]
    }
   ],
   "source": [
    "limit_wyszukiwan(strona_max)"
   ]
  },
  {
   "cell_type": "markdown",
   "metadata": {},
   "source": [
    "### Tworzenie pętli do spisania wszystkich ogłoszeń z strony"
   ]
  },
  {
   "cell_type": "code",
   "execution_count": 15,
   "metadata": {},
   "outputs": [],
   "source": [
    "oferty = soup.find_all('article')"
   ]
  },
  {
   "cell_type": "code",
   "execution_count": 17,
   "metadata": {},
   "outputs": [
    {
     "data": {
      "text/plain": [
       "27"
      ]
     },
     "execution_count": 17,
     "metadata": {},
     "output_type": "execute_result"
    }
   ],
   "source": [
    "len(oferty)"
   ]
  },
  {
   "cell_type": "code",
   "execution_count": 18,
   "metadata": {},
   "outputs": [
    {
     "data": {
      "text/plain": [
       "<article class=\"offer-item ad_id4a4Lw\" data-featured-name=\"promo_top_ads\" data-item-id=\"4a4Lw\" data-tracking-id=\"61506945\" data-url=\"https://www.otodom.pl/pl/oferta/tychy-najpiekniejsze-reprezentacyjne-mieszkanie-ID4a4Lw.html#71b39355d2\" id=\"offer-item-ad_id4a4Lw\">\n",
       "<figure class=\"offer-item-image\" data-featured-name=\"no_offer\" data-quick-gallery='[{\"photo\":\"https:\\/\\/ireland.apollo.olxcdn.com\\/v1\\/files\\/eyJmbiI6ImV6YnEwZWF4cnhycjMtQVBMIiwidyI6W3siZm4iOiJqMWozbzEzbTZiZ24xLUFQTCIsInMiOiIxNCIsInAiOiIxMCwtMTAiLCJhIjoiMCJ9XX0.IfkLn0Sx_R55SgHJAo1Ltg3CCEwmflYm_oNq4pJwl8Q\\/image;s=655x491;q=80\",\"thumb\":\"https:\\/\\/ireland.apollo.olxcdn.com\\/v1\\/files\\/eyJmbiI6ImV6YnEwZWF4cnhycjMtQVBMIiwidyI6W3siZm4iOiJqMWozbzEzbTZiZ24xLUFQTCIsInMiOiIxNCIsInAiOiIxMCwtMTAiLCJhIjoiMCJ9XX0.IfkLn0Sx_R55SgHJAo1Ltg3CCEwmflYm_oNq4pJwl8Q\\/image;s=184x138;q=80\"},{\"photo\":\"https:\\/\\/ireland.apollo.olxcdn.com\\/v1\\/files\\/eyJmbiI6InpucXJtdjdnanBrbDEtQVBMIiwidyI6W3siZm4iOiJqMWozbzEzbTZiZ24xLUFQTCIsInMiOiIxNCIsInAiOiIxMCwtMTAiLCJhIjoiMCJ9XX0.pkiCgpaJ2R3fU-WaGvHl58cimF2TzDX9deKkEjT7f_k\\/image;s=655x491;q=80\",\"thumb\":\"https:\\/\\/ireland.apollo.olxcdn.com\\/v1\\/files\\/eyJmbiI6InpucXJtdjdnanBrbDEtQVBMIiwidyI6W3siZm4iOiJqMWozbzEzbTZiZ24xLUFQTCIsInMiOiIxNCIsInAiOiIxMCwtMTAiLCJhIjoiMCJ9XX0.pkiCgpaJ2R3fU-WaGvHl58cimF2TzDX9deKkEjT7f_k\\/image;s=184x138;q=80\"},{\"photo\":\"https:\\/\\/ireland.apollo.olxcdn.com\\/v1\\/files\\/eyJmbiI6ImJkenhzNHQ2OGx5dTEtQVBMIiwidyI6W3siZm4iOiJqMWozbzEzbTZiZ24xLUFQTCIsInMiOiIxNCIsInAiOiIxMCwtMTAiLCJhIjoiMCJ9XX0.7Dbni35hA-SsQNuMhebf7m2J9oEMGNUzM33dfaxNC20\\/image;s=655x491;q=80\",\"thumb\":\"https:\\/\\/ireland.apollo.olxcdn.com\\/v1\\/files\\/eyJmbiI6ImJkenhzNHQ2OGx5dTEtQVBMIiwidyI6W3siZm4iOiJqMWozbzEzbTZiZ24xLUFQTCIsInMiOiIxNCIsInAiOiIxMCwtMTAiLCJhIjoiMCJ9XX0.7Dbni35hA-SsQNuMhebf7m2J9oEMGNUzM33dfaxNC20\\/image;s=184x138;q=80\"},{\"photo\":\"https:\\/\\/ireland.apollo.olxcdn.com\\/v1\\/files\\/eyJmbiI6InJtYjg3ZWRsMGJhYjEtQVBMIiwidyI6W3siZm4iOiJqMWozbzEzbTZiZ24xLUFQTCIsInMiOiIxNCIsInAiOiIxMCwtMTAiLCJhIjoiMCJ9XX0.4ZCKEMHwk2s6Ew2TYPwUvsbUFSS-d46y2Awr9UM7J9M\\/image;s=655x491;q=80\",\"thumb\":\"https:\\/\\/ireland.apollo.olxcdn.com\\/v1\\/files\\/eyJmbiI6InJtYjg3ZWRsMGJhYjEtQVBMIiwidyI6W3siZm4iOiJqMWozbzEzbTZiZ24xLUFQTCIsInMiOiIxNCIsInAiOiIxMCwtMTAiLCJhIjoiMCJ9XX0.4ZCKEMHwk2s6Ew2TYPwUvsbUFSS-d46y2Awr9UM7J9M\\/image;s=184x138;q=80\"},{\"photo\":\"https:\\/\\/ireland.apollo.olxcdn.com\\/v1\\/files\\/eyJmbiI6Im00MXJxOHM5M3VtNjMtQVBMIiwidyI6W3siZm4iOiJqMWozbzEzbTZiZ24xLUFQTCIsInMiOiIxNCIsInAiOiIxMCwtMTAiLCJhIjoiMCJ9XX0.kOmYE17OuKTbk3c2F-nwsFrupuQnXbc9JhcZ_RBKCvQ\\/image;s=655x491;q=80\",\"thumb\":\"https:\\/\\/ireland.apollo.olxcdn.com\\/v1\\/files\\/eyJmbiI6Im00MXJxOHM5M3VtNjMtQVBMIiwidyI6W3siZm4iOiJqMWozbzEzbTZiZ24xLUFQTCIsInMiOiIxNCIsInAiOiIxMCwtMTAiLCJhIjoiMCJ9XX0.kOmYE17OuKTbk3c2F-nwsFrupuQnXbc9JhcZ_RBKCvQ\\/image;s=184x138;q=80\"},{\"photo\":\"https:\\/\\/ireland.apollo.olxcdn.com\\/v1\\/files\\/eyJmbiI6IjN5dTA1czZlN2libTMtQVBMIiwidyI6W3siZm4iOiJqMWozbzEzbTZiZ24xLUFQTCIsInMiOiIxNCIsInAiOiIxMCwtMTAiLCJhIjoiMCJ9XX0.6ByUTG3F4WcuQfWtYrmsq-PyG24euZw6oVTDt5A0qyM\\/image;s=655x491;q=80\",\"thumb\":\"https:\\/\\/ireland.apollo.olxcdn.com\\/v1\\/files\\/eyJmbiI6IjN5dTA1czZlN2libTMtQVBMIiwidyI6W3siZm4iOiJqMWozbzEzbTZiZ24xLUFQTCIsInMiOiIxNCIsInAiOiIxMCwtMTAiLCJhIjoiMCJ9XX0.6ByUTG3F4WcuQfWtYrmsq-PyG24euZw6oVTDt5A0qyM\\/image;s=184x138;q=80\"}]'>\n",
       "<a data-featured-name=\"promo_top_ads\" data-tracking=\"click_body\" data-tracking-data='{\"touch_point_button\":\"photo\"}' href=\"https://www.otodom.pl/pl/oferta/tychy-najpiekniejsze-reprezentacyjne-mieszkanie-ID4a4Lw.html#71b39355d2\">\n",
       "<span class=\"img-cover lazy\" data-src=\"https://ireland.apollo.olxcdn.com/v1/files/eyJmbiI6ImV6YnEwZWF4cnhycjMtQVBMIiwidyI6W3siZm4iOiJqMWozbzEzbTZiZ24xLUFQTCIsInMiOiIxNCIsInAiOiIxMCwtMTAiLCJhIjoiMCJ9XX0.IfkLn0Sx_R55SgHJAo1Ltg3CCEwmflYm_oNq4pJwl8Q/image;s=655x491;q=80\" title=\"Mieszkanie na wynajem o powierzchni 42 m² - Tychy, śląskie - zdjęcie 1\"></span>\n",
       "<span class=\"promoted-label\" data-label=\"Tylko w Otodom\"></span>\n",
       "<div class=\"virtual-tours\">\n",
       "<ul>\n",
       "</ul>\n",
       "</div>\n",
       "</a>\n",
       "<div class=\"developer-offer-title\">Oferta dewelopera</div>\n",
       "</figure>\n",
       "<div class=\"offer-item-details\">\n",
       "<header class=\"offer-item-header\">\n",
       "<h3>\n",
       "<a data-featured-name=\"promo_top_ads\" data-tracking=\"click_body\" data-tracking-data='{\"touch_point_button\":\"title\"}' href=\"https://www.otodom.pl/pl/oferta/tychy-najpiekniejsze-reprezentacyjne-mieszkanie-ID4a4Lw.html#71b39355d2\">\n",
       "<strong class=\"visible-xs-block\">42 m²</strong>\n",
       "<span class=\"text-nowrap\">\n",
       "<span class=\"offer-item-title\">TYCHY - najpiękniejsze, reprezentacyjne mieszkanie</span>\n",
       "</span>\n",
       "</a>\n",
       "</h3>\n",
       "<p class=\"text-nowrap\"><span class=\"hidden-xs\">Mieszkanie na wynajem: </span>Tychy, śląskie</p>\n",
       "<div class=\"vas-list-no-offer\">\n",
       "<a class=\"button-observed observe-link favourites-button observed-text\" data-id=\"61506945\" data-statkey=\"ad.observed.list\" href=\"#\" rel=\"nofollow\">\n",
       "<div class=\"observed-text-container\">\n",
       "<span class=\"icon observed-61506945\"></span>\n",
       "<i class=\"icon-heart-filled\"></i>\n",
       "<div class=\"observed-label\"></div>\n",
       "</div>\n",
       "</a>\n",
       "</div>\n",
       "</header>\n",
       "<ul class=\"params\" data-tracking=\"click_body\" data-tracking-data='{\"touch_point_button\":\"body\"}'>\n",
       "<li class=\"offer-item-rooms hidden-xs\">2 pokoje</li>\n",
       "<li class=\"offer-item-price\">\n",
       "                                                                                    2 200 zł                                                        /mc                                                                        </li>\n",
       "<li class=\"hidden-xs offer-item-area\">42 m²</li>\n",
       "</ul>\n",
       "</div>\n",
       "<div class=\"offer-item-details-bottom\" data-tracking=\"click_body\" data-tracking-data='{\"touch_point_button\":\"body\"}'>\n",
       "<ul class=\"params-small clearfix hidden-xs\">\n",
       "<li class=\"pull-right\">\n",
       "                                            Oferta prywatna                                    </li>\n",
       "</ul>\n",
       "</div>\n",
       "<div class=\"offer-item-observe-button vas-list-no-offer\">\n",
       "<a class=\"button-observed observe-link favourites-button\" data-id=\"61506945\" data-statkey=\"ad.observed.list\" href=\"#\" rel=\"nofollow\">\n",
       "<span class=\"icon observed-61506945\"></span>\n",
       "<svg height=\"100%\" version=\"1.1\" viewbox=\"0 0 52 47\" width=\"100%\" xmlns=\"http://www.w3.org/2000/svg\" xmlns:xlink=\"http://www.w3.org/1999/xlink\">\n",
       "<g fill-rule=\"evenodd\" id=\"14_SubAccounts\" stroke=\"none\" stroke-width=\"1\">\n",
       "<g fill-rule=\"nonzero\" id=\"#-styleguide\" transform=\"translate(-290.000000, -3431.000000)\">\n",
       "<g id=\"heart-regular\" transform=\"translate(290.000000, 3417.000000)\">\n",
       "<g id=\"Group-7\" transform=\"translate(0.000000, 14.000000)\">\n",
       "<g id=\"Group-6\">\n",
       "<path d=\"M44.9749792,5.0327098 C39.5562332,0.472655041 31.1843643,1.15760154 25.9999932,6.44013411 C20.815622,1.15760154 12.4437532,0.463272213 7.0250072,5.0327098 C-0.0249875872,10.9720404 1.00626165,20.6551196 6.03125794,25.7875269 L22.4749958,42.5546419 C23.4124951,43.5116904 24.6687442,44.0465116 25.9999932,44.0465116 C27.3406172,44.0465116 28.5874913,43.5210732 29.5249906,42.5640247 L45.9687284,25.7969098 C50.9843497,20.6645025 52.0343489,10.9814232 44.9749792,5.0327098 Z\" id=\"Path\"></path>\n",
       "<path d=\"M46.2718892,3.50241459 C53.7431472,9.79821295 53.7229457,20.7330078 47.4057954,27.197245 L30.9628717,43.9635293 C29.6487574,45.3050462 27.8867501,46.04647 26.009144,46.04647 C24.1408152,46.04647 22.3695113,45.2956437 21.0562304,43.9549771 L4.61132027,27.1866659 C-1.70790147,20.7323686 -1.72137807,9.79370898 5.74484956,3.50371964 C11.4787764,-1.33149882 20.0613911,-1.07727526 26.0092656,3.74139162 C31.9542156,-1.07326776 40.5355381,-1.32491546 46.2718892,3.50241459 Z M27.4365577,7.8409816 L26.009144,9.29542206 L24.5817303,7.8409816 C20.0856339,3.25975559 12.8944426,2.70707366 8.32274593,6.56222409 C2.70796719,11.2924442 2.7181226,19.5353679 7.46832495,24.3871085 L23.9128769,41.155054 C24.4776636,41.731618 25.2204435,42.04647 26.009144,42.04647 C26.8109459,42.04647 27.5432365,41.7383341 28.1062252,41.1636062 L44.5474853,24.3990223 C49.2979771,19.5379178 49.3133455,11.2966718 43.6958622,6.56249388 C39.1208731,2.7129779 31.9290821,3.26339526 27.4365577,7.8409816 Z\" fill=\"#FFFFFF\" id=\"Path\"></path>\n",
       "</g>\n",
       "</g>\n",
       "</g>\n",
       "</g>\n",
       "</g>\n",
       "</svg>\n",
       "</a>\n",
       "</div>\n",
       "</article>"
      ]
     },
     "execution_count": 18,
     "metadata": {},
     "output_type": "execute_result"
    }
   ],
   "source": [
    "oferty[0]"
   ]
  },
  {
   "cell_type": "code",
   "execution_count": 19,
   "metadata": {},
   "outputs": [
    {
     "data": {
      "text/plain": [
       "'TYCHY - najpiękniejsze, reprezentacyjne mieszkanie'"
      ]
     },
     "execution_count": 19,
     "metadata": {},
     "output_type": "execute_result"
    }
   ],
   "source": [
    "tytul = oferty[0].find('span', {\"class\":\"offer-item-title\"}).text\n",
    "tytul"
   ]
  },
  {
   "cell_type": "code",
   "execution_count": 20,
   "metadata": {},
   "outputs": [
    {
     "data": {
      "text/plain": [
       "'Mieszkanie na wynajem'"
      ]
     },
     "execution_count": 20,
     "metadata": {},
     "output_type": "execute_result"
    }
   ],
   "source": [
    "typ = oferty[0].find('span', {\"class\": \"hidden-xs\"}).text.strip().rstrip(\":\")\n",
    "typ"
   ]
  },
  {
   "cell_type": "code",
   "execution_count": 21,
   "metadata": {},
   "outputs": [
    {
     "data": {
      "text/plain": [
       "'Tychy, śląskie'"
      ]
     },
     "execution_count": 21,
     "metadata": {},
     "output_type": "execute_result"
    }
   ],
   "source": [
    "miejsce = oferty[0].find('p', {\"class\": \"text-nowrap\"}).text\n",
    "miejsce = miejsce[miejsce.find(\":\",0,-1)+2:]\n",
    "miejsce"
   ]
  },
  {
   "cell_type": "code",
   "execution_count": 22,
   "metadata": {},
   "outputs": [
    {
     "data": {
      "text/plain": [
       "2"
      ]
     },
     "execution_count": 22,
     "metadata": {},
     "output_type": "execute_result"
    }
   ],
   "source": [
    "pokoje = int(oferty[0].find('li', {'class': 'offer-item-rooms hidden-xs'}).text[0])\n",
    "pokoje"
   ]
  },
  {
   "cell_type": "code",
   "execution_count": 23,
   "metadata": {},
   "outputs": [
    {
     "data": {
      "text/plain": [
       "42"
      ]
     },
     "execution_count": 23,
     "metadata": {},
     "output_type": "execute_result"
    }
   ],
   "source": [
    "powierzchnia = int(re.findall(r'\\d+',oferty[0].find('li', {\"class\": \"hidden-xs offer-item-area\"}).text)[0])\n",
    "powierzchnia"
   ]
  },
  {
   "cell_type": "code",
   "execution_count": 24,
   "metadata": {},
   "outputs": [
    {
     "data": {
      "text/plain": [
       "2200"
      ]
     },
     "execution_count": 24,
     "metadata": {},
     "output_type": "execute_result"
    }
   ],
   "source": [
    "#cena = oferty[0].find('li', {'class': \"offer-item-price\"}).text.strip()\n",
    "cena = int(re.findall(r'\\d+',re.sub(r'\\s+','',oferty[0].find('li', {'class': \"offer-item-price\"}).text.strip()))[0])\n",
    "cena"
   ]
  },
  {
   "cell_type": "code",
   "execution_count": 30,
   "metadata": {},
   "outputs": [
    {
     "data": {
      "text/plain": [
       "'Oferta prywatna'"
      ]
     },
     "execution_count": 30,
     "metadata": {},
     "output_type": "execute_result"
    }
   ],
   "source": [
    "#wynajmujący\n",
    "wynajmujacy = oferty[0].find('ul', {'class': \"params-small clearfix hidden-xs\"}).text.strip()\n",
    "wynajmujacy"
   ]
  },
  {
   "cell_type": "code",
   "execution_count": 90,
   "metadata": {},
   "outputs": [],
   "source": [
    "#definiowanie pętli do sprawdzania parametrów\n",
    "def parametry():\n",
    "    \n",
    "    \n",
    "    l_tytul = []\n",
    "    l_typ = []\n",
    "    l_miejsce = []\n",
    "    l_pokoje = []\n",
    "    l_powierzchnia = []\n",
    "    l_cena = []\n",
    "    l_wynajmujacy = []\n",
    "    ##lista_list = [l_tytul,l_typ,l_miejsce,l_pokoje,l_powierzchnia,l_cena,l_wynajmujacy]\n",
    "    \n",
    "    oferty = soup.find_all('article')\n",
    "    \n",
    "\n",
    "    for oferta in oferty:\n",
    "        \n",
    "        \n",
    "        tytul = oferta.find('span', {\"class\":\"offer-item-title\"}).text\n",
    "        l_tytul.append(tytul)\n",
    "        \n",
    "        typ = oferta.find('span', {\"class\": \"hidden-xs\"}).text.strip().rstrip(\":\")\n",
    "        l_typ.append(typ)\n",
    "        \n",
    "        miejsce = oferta.find('p', {\"class\": \"text-nowrap\"}).text\n",
    "        miejsce = miejsce[miejsce.find(\":\",0,-1)+2:]\n",
    "        l_miejsce.append(miejsce)\n",
    "        \n",
    "        pokoje = int(oferta.find('li', {'class': 'offer-item-rooms hidden-xs'}).text[0])\n",
    "        l_pokoje.append(pokoje)\n",
    "        \n",
    "        powierzchnia = int(re.findall(r'\\d+',oferta.find('li', {\"class\": \"hidden-xs offer-item-area\"}).text)[0])\n",
    "        l_powierzchnia.append(powierzchnia)\n",
    "        \n",
    "        cena = int(re.findall(r'\\d+',re.sub(r'\\s+','',oferta.find('li', {'class': \"offer-item-price\"}).text.strip()))[0])\n",
    "        l_cena.append(cena)\n",
    "        \n",
    "        wynajmujacy = oferta.find('ul', {'class': \"params-small clearfix hidden-xs\"}).text.strip()\n",
    "        l_wynajmujacy.append(wynajmujacy)\n",
    "    \n",
    "    '''df = pd.DataFrame(columns=['tytul','typ','miejsce','pokoje','powierzchnia','cena','wynajmujacy'])\n",
    "    df.append(l_tytul)'''\n",
    "    \n",
    "    df1 = df = pd.DataFrame({'tytul':l_tytul, \n",
    "                             \"typ\":l_typ,\n",
    "                             \"miejsce\": l_miejsce,\n",
    "                             \"pokoje\": l_pokoje,\n",
    "                             \"powierzchnia\": l_powierzchnia,\n",
    "                             \"cena\": l_cena,\n",
    "                             \"wynajmujacy\": l_wynajmujacy}) \n",
    "    \n",
    "    return df1\n",
    "    \n",
    "    \n",
    "     \n",
    "    "
   ]
  },
  {
   "cell_type": "code",
   "execution_count": 92,
   "metadata": {},
   "outputs": [
    {
     "data": {
      "text/html": [
       "<div>\n",
       "<style scoped>\n",
       "    .dataframe tbody tr th:only-of-type {\n",
       "        vertical-align: middle;\n",
       "    }\n",
       "\n",
       "    .dataframe tbody tr th {\n",
       "        vertical-align: top;\n",
       "    }\n",
       "\n",
       "    .dataframe thead th {\n",
       "        text-align: right;\n",
       "    }\n",
       "</style>\n",
       "<table border=\"1\" class=\"dataframe\">\n",
       "  <thead>\n",
       "    <tr style=\"text-align: right;\">\n",
       "      <th></th>\n",
       "      <th>tytul</th>\n",
       "      <th>typ</th>\n",
       "      <th>miejsce</th>\n",
       "      <th>pokoje</th>\n",
       "      <th>powierzchnia</th>\n",
       "      <th>cena</th>\n",
       "      <th>wynajmujacy</th>\n",
       "    </tr>\n",
       "  </thead>\n",
       "  <tbody>\n",
       "    <tr>\n",
       "      <th>0</th>\n",
       "      <td>TYCHY - najpiękniejsze, reprezentacyjne mieszk...</td>\n",
       "      <td>Mieszkanie na wynajem</td>\n",
       "      <td>Tychy, śląskie</td>\n",
       "      <td>2</td>\n",
       "      <td>42</td>\n",
       "      <td>2200</td>\n",
       "      <td>Oferta prywatna</td>\n",
       "    </tr>\n",
       "    <tr>\n",
       "      <th>1</th>\n",
       "      <td>Nowoczesne mieszkanie - Strefa Ekonomiczna Tychy</td>\n",
       "      <td>Mieszkanie na wynajem</td>\n",
       "      <td>Tychy, śląskie</td>\n",
       "      <td>2</td>\n",
       "      <td>39</td>\n",
       "      <td>1600</td>\n",
       "      <td>Oferta prywatna</td>\n",
       "    </tr>\n",
       "    <tr>\n",
       "      <th>2</th>\n",
       "      <td>Wynajmę bezpośrednio</td>\n",
       "      <td>Mieszkanie na wynajem</td>\n",
       "      <td>Tychy, śląskie</td>\n",
       "      <td>2</td>\n",
       "      <td>36</td>\n",
       "      <td>1500</td>\n",
       "      <td>Obsługa zdalna\\n\\n                            ...</td>\n",
       "    </tr>\n",
       "    <tr>\n",
       "      <th>3</th>\n",
       "      <td>Mieszkanie do wynajęcia ul Skalna</td>\n",
       "      <td>Mieszkanie na wynajem</td>\n",
       "      <td>Tychy, śląskie</td>\n",
       "      <td>2</td>\n",
       "      <td>40</td>\n",
       "      <td>2000</td>\n",
       "      <td>MS HOME Skaba</td>\n",
       "    </tr>\n",
       "    <tr>\n",
       "      <th>4</th>\n",
       "      <td>Mieszkanie w nowym bloku z windą - czynsz w cenie</td>\n",
       "      <td>Mieszkanie na wynajem</td>\n",
       "      <td>Tychy, Żwaków</td>\n",
       "      <td>2</td>\n",
       "      <td>41</td>\n",
       "      <td>1800</td>\n",
       "      <td>Aston Biuro Nieruchomości</td>\n",
       "    </tr>\n",
       "    <tr>\n",
       "      <th>5</th>\n",
       "      <td>TYCHY - najpiękniejsze, reprezentacyjne mieszk...</td>\n",
       "      <td>Mieszkanie na wynajem</td>\n",
       "      <td>Tychy, śląskie</td>\n",
       "      <td>2</td>\n",
       "      <td>42</td>\n",
       "      <td>2200</td>\n",
       "      <td>Oferta prywatna</td>\n",
       "    </tr>\n",
       "    <tr>\n",
       "      <th>6</th>\n",
       "      <td>Wynajem mieszkania 48mkw, ul. Konecznego</td>\n",
       "      <td>Mieszkanie na wynajem</td>\n",
       "      <td>Tychy, śląskie</td>\n",
       "      <td>2</td>\n",
       "      <td>48</td>\n",
       "      <td>1709</td>\n",
       "      <td>Asset Nieruchomości- POSZUKUJE MIESZKAŃ  i DOMÓW.</td>\n",
       "    </tr>\n",
       "    <tr>\n",
       "      <th>7</th>\n",
       "      <td>kawalerka w Tychach</td>\n",
       "      <td>Mieszkanie na wynajem</td>\n",
       "      <td>Tychy, śląskie</td>\n",
       "      <td>1</td>\n",
       "      <td>38</td>\n",
       "      <td>1400</td>\n",
       "      <td>Oferta prywatna</td>\n",
       "    </tr>\n",
       "    <tr>\n",
       "      <th>8</th>\n",
       "      <td>Mieszkanie 42m2, 2 pokoje, dla pierwszego loka...</td>\n",
       "      <td>Mieszkanie na wynajem</td>\n",
       "      <td>Tychy, śląskie</td>\n",
       "      <td>2</td>\n",
       "      <td>41</td>\n",
       "      <td>1700</td>\n",
       "      <td>Oferta prywatna</td>\n",
       "    </tr>\n",
       "    <tr>\n",
       "      <th>9</th>\n",
       "      <td>Nowoczesne mieszkanie - Strefa Ekonomiczna Tychy</td>\n",
       "      <td>Mieszkanie na wynajem</td>\n",
       "      <td>Tychy, śląskie</td>\n",
       "      <td>2</td>\n",
       "      <td>39</td>\n",
       "      <td>1600</td>\n",
       "      <td>Oferta prywatna</td>\n",
       "    </tr>\n",
       "    <tr>\n",
       "      <th>10</th>\n",
       "      <td>Nowe 2 pokoje z Miejscem w Hali Garażowej</td>\n",
       "      <td>Mieszkanie na wynajem</td>\n",
       "      <td>Tychy, śląskie</td>\n",
       "      <td>2</td>\n",
       "      <td>42</td>\n",
       "      <td>1700</td>\n",
       "      <td>Obsługa zdalna\\n\\n                            ...</td>\n",
       "    </tr>\n",
       "    <tr>\n",
       "      <th>11</th>\n",
       "      <td>Tychy Niepodległości os. E , umeblowane 38mkw</td>\n",
       "      <td>Mieszkanie na wynajem</td>\n",
       "      <td>Tychy, śląskie</td>\n",
       "      <td>1</td>\n",
       "      <td>38</td>\n",
       "      <td>1335</td>\n",
       "      <td>Asset Nieruchomości- POSZUKUJE MIESZKAŃ  i DOMÓW.</td>\n",
       "    </tr>\n",
       "    <tr>\n",
       "      <th>12</th>\n",
       "      <td>Mieszkanie, 31,50 m², Tychy</td>\n",
       "      <td>Mieszkanie na wynajem</td>\n",
       "      <td>Tychy, śląskie</td>\n",
       "      <td>1</td>\n",
       "      <td>31</td>\n",
       "      <td>1400</td>\n",
       "      <td>PH Romeks Chruścicki Romuald</td>\n",
       "    </tr>\n",
       "    <tr>\n",
       "      <th>13</th>\n",
       "      <td>Wynajem mieszkania ul. Batorego</td>\n",
       "      <td>Mieszkanie na wynajem</td>\n",
       "      <td>Tychy, B</td>\n",
       "      <td>1</td>\n",
       "      <td>34</td>\n",
       "      <td>1375</td>\n",
       "      <td>Asset Nieruchomości- POSZUKUJE MIESZKAŃ  i DOMÓW.</td>\n",
       "    </tr>\n",
       "    <tr>\n",
       "      <th>14</th>\n",
       "      <td>2 pokoje</td>\n",
       "      <td>Mieszkanie na wynajem</td>\n",
       "      <td>Tychy, śląskie</td>\n",
       "      <td>2</td>\n",
       "      <td>38</td>\n",
       "      <td>1500</td>\n",
       "      <td>Inwestmar</td>\n",
       "    </tr>\n",
       "    <tr>\n",
       "      <th>15</th>\n",
       "      <td>Wynajmę bezpośrednio</td>\n",
       "      <td>Mieszkanie na wynajem</td>\n",
       "      <td>Tychy, śląskie</td>\n",
       "      <td>2</td>\n",
       "      <td>36</td>\n",
       "      <td>1500</td>\n",
       "      <td>Obsługa zdalna\\n\\n                            ...</td>\n",
       "    </tr>\n",
       "    <tr>\n",
       "      <th>16</th>\n",
       "      <td>37 m2 mieszkanie po remoncie z klimatyzacją.</td>\n",
       "      <td>Mieszkanie na wynajem</td>\n",
       "      <td>Tychy, śląskie</td>\n",
       "      <td>1</td>\n",
       "      <td>36</td>\n",
       "      <td>1400</td>\n",
       "      <td>Lawendowy Dom - Galeria Nieruchomości</td>\n",
       "    </tr>\n",
       "    <tr>\n",
       "      <th>17</th>\n",
       "      <td>Mieszkanie do wynajęcia</td>\n",
       "      <td>Mieszkanie na wynajem</td>\n",
       "      <td>Tychy, Żwaków</td>\n",
       "      <td>2</td>\n",
       "      <td>33</td>\n",
       "      <td>1400</td>\n",
       "      <td>MS HOME Skaba</td>\n",
       "    </tr>\n",
       "    <tr>\n",
       "      <th>18</th>\n",
       "      <td>Tychy, mieszkanie 2 pokojowe, parter, os. Z.</td>\n",
       "      <td>Mieszkanie na wynajem</td>\n",
       "      <td>Tychy, Paprocany</td>\n",
       "      <td>2</td>\n",
       "      <td>36</td>\n",
       "      <td>1650</td>\n",
       "      <td>Oferta prywatna</td>\n",
       "    </tr>\n",
       "    <tr>\n",
       "      <th>19</th>\n",
       "      <td>Do wynajęcia dwupokojowy apartament z ogródkiem</td>\n",
       "      <td>Mieszkanie na wynajem</td>\n",
       "      <td>Tychy, Żwaków</td>\n",
       "      <td>2</td>\n",
       "      <td>44</td>\n",
       "      <td>2000</td>\n",
       "      <td>Aston Biuro Nieruchomości</td>\n",
       "    </tr>\n",
       "    <tr>\n",
       "      <th>20</th>\n",
       "      <td>2 pokoje | 38 mkw | winda | po odświeżeniu | os.M</td>\n",
       "      <td>Mieszkanie na wynajem</td>\n",
       "      <td>Tychy, Śródmieście</td>\n",
       "      <td>2</td>\n",
       "      <td>38</td>\n",
       "      <td>1700</td>\n",
       "      <td>Obsługa zdalna\\n\\n                            ...</td>\n",
       "    </tr>\n",
       "    <tr>\n",
       "      <th>21</th>\n",
       "      <td>Noclegi|kwatery|mieszkanie dla pracowników|Tf</td>\n",
       "      <td>Mieszkanie na wynajem</td>\n",
       "      <td>Tychy, śląskie</td>\n",
       "      <td>3</td>\n",
       "      <td>42</td>\n",
       "      <td>500</td>\n",
       "      <td>E-TCN.PL Tak się sprzedaje nieruchomości</td>\n",
       "    </tr>\n",
       "    <tr>\n",
       "      <th>22</th>\n",
       "      <td>Mieszkanie z ogródkiem do wynajęcia</td>\n",
       "      <td>Mieszkanie na wynajem</td>\n",
       "      <td>Tychy, śląskie</td>\n",
       "      <td>2</td>\n",
       "      <td>46</td>\n",
       "      <td>2000</td>\n",
       "      <td>MS HOME Skaba</td>\n",
       "    </tr>\n",
       "    <tr>\n",
       "      <th>23</th>\n",
       "      <td>do wynajęcia mieszkanie 2 pokoje 4 Pory Roku</td>\n",
       "      <td>Mieszkanie na wynajem</td>\n",
       "      <td>Tychy, śląskie</td>\n",
       "      <td>2</td>\n",
       "      <td>39</td>\n",
       "      <td>1550</td>\n",
       "      <td>Oferta pośrednika</td>\n",
       "    </tr>\n",
       "    <tr>\n",
       "      <th>24</th>\n",
       "      <td>Mieszkanie do wynajęcia dla pracowników firm !</td>\n",
       "      <td>Mieszkanie na wynajem</td>\n",
       "      <td>Tychy, śląskie</td>\n",
       "      <td>2</td>\n",
       "      <td>39</td>\n",
       "      <td>3000</td>\n",
       "      <td>Nieruchomości Nobiles</td>\n",
       "    </tr>\n",
       "    <tr>\n",
       "      <th>25</th>\n",
       "      <td>Tychy, umeblowane, 2 pok. 1 p, dobra lokalizacja</td>\n",
       "      <td>Mieszkanie na wynajem</td>\n",
       "      <td>Tychy, C</td>\n",
       "      <td>2</td>\n",
       "      <td>38</td>\n",
       "      <td>1550</td>\n",
       "      <td>Oferta prywatna</td>\n",
       "    </tr>\n",
       "    <tr>\n",
       "      <th>26</th>\n",
       "      <td>Mieszkanie wynajem</td>\n",
       "      <td>Mieszkanie na wynajem</td>\n",
       "      <td>Tychy, śląskie</td>\n",
       "      <td>2</td>\n",
       "      <td>45</td>\n",
       "      <td>1690</td>\n",
       "      <td>A&amp;N Nieruchomości Anna Urbańczyk, Natalia Pozó...</td>\n",
       "    </tr>\n",
       "  </tbody>\n",
       "</table>\n",
       "</div>"
      ],
      "text/plain": [
       "                                                tytul                    typ  \\\n",
       "0   TYCHY - najpiękniejsze, reprezentacyjne mieszk...  Mieszkanie na wynajem   \n",
       "1    Nowoczesne mieszkanie - Strefa Ekonomiczna Tychy  Mieszkanie na wynajem   \n",
       "2                                Wynajmę bezpośrednio  Mieszkanie na wynajem   \n",
       "3                   Mieszkanie do wynajęcia ul Skalna  Mieszkanie na wynajem   \n",
       "4   Mieszkanie w nowym bloku z windą - czynsz w cenie  Mieszkanie na wynajem   \n",
       "5   TYCHY - najpiękniejsze, reprezentacyjne mieszk...  Mieszkanie na wynajem   \n",
       "6            Wynajem mieszkania 48mkw, ul. Konecznego  Mieszkanie na wynajem   \n",
       "7                                 kawalerka w Tychach  Mieszkanie na wynajem   \n",
       "8   Mieszkanie 42m2, 2 pokoje, dla pierwszego loka...  Mieszkanie na wynajem   \n",
       "9    Nowoczesne mieszkanie - Strefa Ekonomiczna Tychy  Mieszkanie na wynajem   \n",
       "10          Nowe 2 pokoje z Miejscem w Hali Garażowej  Mieszkanie na wynajem   \n",
       "11      Tychy Niepodległości os. E , umeblowane 38mkw  Mieszkanie na wynajem   \n",
       "12                        Mieszkanie, 31,50 m², Tychy  Mieszkanie na wynajem   \n",
       "13                    Wynajem mieszkania ul. Batorego  Mieszkanie na wynajem   \n",
       "14                                           2 pokoje  Mieszkanie na wynajem   \n",
       "15                               Wynajmę bezpośrednio  Mieszkanie na wynajem   \n",
       "16       37 m2 mieszkanie po remoncie z klimatyzacją.  Mieszkanie na wynajem   \n",
       "17                            Mieszkanie do wynajęcia  Mieszkanie na wynajem   \n",
       "18       Tychy, mieszkanie 2 pokojowe, parter, os. Z.  Mieszkanie na wynajem   \n",
       "19    Do wynajęcia dwupokojowy apartament z ogródkiem  Mieszkanie na wynajem   \n",
       "20  2 pokoje | 38 mkw | winda | po odświeżeniu | os.M  Mieszkanie na wynajem   \n",
       "21      Noclegi|kwatery|mieszkanie dla pracowników|Tf  Mieszkanie na wynajem   \n",
       "22                Mieszkanie z ogródkiem do wynajęcia  Mieszkanie na wynajem   \n",
       "23       do wynajęcia mieszkanie 2 pokoje 4 Pory Roku  Mieszkanie na wynajem   \n",
       "24     Mieszkanie do wynajęcia dla pracowników firm !  Mieszkanie na wynajem   \n",
       "25   Tychy, umeblowane, 2 pok. 1 p, dobra lokalizacja  Mieszkanie na wynajem   \n",
       "26                                 Mieszkanie wynajem  Mieszkanie na wynajem   \n",
       "\n",
       "               miejsce  pokoje  powierzchnia  cena  \\\n",
       "0       Tychy, śląskie       2            42  2200   \n",
       "1       Tychy, śląskie       2            39  1600   \n",
       "2       Tychy, śląskie       2            36  1500   \n",
       "3       Tychy, śląskie       2            40  2000   \n",
       "4        Tychy, Żwaków       2            41  1800   \n",
       "5       Tychy, śląskie       2            42  2200   \n",
       "6       Tychy, śląskie       2            48  1709   \n",
       "7       Tychy, śląskie       1            38  1400   \n",
       "8       Tychy, śląskie       2            41  1700   \n",
       "9       Tychy, śląskie       2            39  1600   \n",
       "10      Tychy, śląskie       2            42  1700   \n",
       "11      Tychy, śląskie       1            38  1335   \n",
       "12      Tychy, śląskie       1            31  1400   \n",
       "13            Tychy, B       1            34  1375   \n",
       "14      Tychy, śląskie       2            38  1500   \n",
       "15      Tychy, śląskie       2            36  1500   \n",
       "16      Tychy, śląskie       1            36  1400   \n",
       "17       Tychy, Żwaków       2            33  1400   \n",
       "18    Tychy, Paprocany       2            36  1650   \n",
       "19       Tychy, Żwaków       2            44  2000   \n",
       "20  Tychy, Śródmieście       2            38  1700   \n",
       "21      Tychy, śląskie       3            42   500   \n",
       "22      Tychy, śląskie       2            46  2000   \n",
       "23      Tychy, śląskie       2            39  1550   \n",
       "24      Tychy, śląskie       2            39  3000   \n",
       "25            Tychy, C       2            38  1550   \n",
       "26      Tychy, śląskie       2            45  1690   \n",
       "\n",
       "                                          wynajmujacy  \n",
       "0                                     Oferta prywatna  \n",
       "1                                     Oferta prywatna  \n",
       "2   Obsługa zdalna\\n\\n                            ...  \n",
       "3                                       MS HOME Skaba  \n",
       "4                           Aston Biuro Nieruchomości  \n",
       "5                                     Oferta prywatna  \n",
       "6   Asset Nieruchomości- POSZUKUJE MIESZKAŃ  i DOMÓW.  \n",
       "7                                     Oferta prywatna  \n",
       "8                                     Oferta prywatna  \n",
       "9                                     Oferta prywatna  \n",
       "10  Obsługa zdalna\\n\\n                            ...  \n",
       "11  Asset Nieruchomości- POSZUKUJE MIESZKAŃ  i DOMÓW.  \n",
       "12                       PH Romeks Chruścicki Romuald  \n",
       "13  Asset Nieruchomości- POSZUKUJE MIESZKAŃ  i DOMÓW.  \n",
       "14                                          Inwestmar  \n",
       "15  Obsługa zdalna\\n\\n                            ...  \n",
       "16              Lawendowy Dom - Galeria Nieruchomości  \n",
       "17                                      MS HOME Skaba  \n",
       "18                                    Oferta prywatna  \n",
       "19                          Aston Biuro Nieruchomości  \n",
       "20  Obsługa zdalna\\n\\n                            ...  \n",
       "21           E-TCN.PL Tak się sprzedaje nieruchomości  \n",
       "22                                      MS HOME Skaba  \n",
       "23                                  Oferta pośrednika  \n",
       "24                              Nieruchomości Nobiles  \n",
       "25                                    Oferta prywatna  \n",
       "26  A&N Nieruchomości Anna Urbańczyk, Natalia Pozó...  "
      ]
     },
     "execution_count": 92,
     "metadata": {},
     "output_type": "execute_result"
    }
   ],
   "source": [
    "\n",
    "\n",
    "tabela = parametry()\n",
    "tabela"
   ]
  }
 ],
 "metadata": {
  "kernelspec": {
   "display_name": "Python 3",
   "language": "python",
   "name": "python3"
  },
  "language_info": {
   "codemirror_mode": {
    "name": "ipython",
    "version": 3
   },
   "file_extension": ".py",
   "mimetype": "text/x-python",
   "name": "python",
   "nbconvert_exporter": "python",
   "pygments_lexer": "ipython3",
   "version": "3.7.6"
  }
 },
 "nbformat": 4,
 "nbformat_minor": 4
}
