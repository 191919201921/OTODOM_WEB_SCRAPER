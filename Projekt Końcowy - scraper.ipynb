{
 "cells": [
  {
   "cell_type": "code",
   "execution_count": 174,
   "metadata": {},
   "outputs": [],
   "source": [
    "#importy\n",
    "import pandas as pd\n",
    "import requests\n",
    "from bs4 import BeautifulSoup as bs\n",
    "import re"
   ]
  },
  {
   "cell_type": "code",
   "execution_count": 255,
   "metadata": {},
   "outputs": [
    {
     "data": {
      "text/html": [
       "<div>\n",
       "<style scoped>\n",
       "    .dataframe tbody tr th:only-of-type {\n",
       "        vertical-align: middle;\n",
       "    }\n",
       "\n",
       "    .dataframe tbody tr th {\n",
       "        vertical-align: top;\n",
       "    }\n",
       "\n",
       "    .dataframe thead th {\n",
       "        text-align: right;\n",
       "    }\n",
       "</style>\n",
       "<table border=\"1\" class=\"dataframe\">\n",
       "  <thead>\n",
       "    <tr style=\"text-align: right;\">\n",
       "      <th></th>\n",
       "      <th>tytul</th>\n",
       "      <th>typ</th>\n",
       "      <th>miejsce</th>\n",
       "      <th>pokoje</th>\n",
       "      <th>powierzchnia</th>\n",
       "      <th>cena</th>\n",
       "    </tr>\n",
       "  </thead>\n",
       "  <tbody>\n",
       "  </tbody>\n",
       "</table>\n",
       "</div>"
      ],
      "text/plain": [
       "Empty DataFrame\n",
       "Columns: [tytul, typ, miejsce, pokoje, powierzchnia, cena]\n",
       "Index: []"
      ]
     },
     "execution_count": 255,
     "metadata": {},
     "output_type": "execute_result"
    }
   ],
   "source": [
    "#tworze pusty dataframe\n",
    "df = pd.DataFrame(columns=['tytul','typ','miejsce','pokoje','powierzchnia','cena'])\n",
    "df"
   ]
  },
  {
   "cell_type": "code",
   "execution_count": 133,
   "metadata": {},
   "outputs": [],
   "source": [
    "#link\n",
    "url = 'https://www.otodom.pl/wynajem/mieszkanie/tychy/?search%5Bfilter_float_m%3Ato%5D=50&search%5Bcity_id%5D=166'\n",
    "strona = requests.get(url)"
   ]
  },
  {
   "cell_type": "code",
   "execution_count": 134,
   "metadata": {},
   "outputs": [],
   "source": [
    "html = strona.content"
   ]
  },
  {
   "cell_type": "code",
   "execution_count": 135,
   "metadata": {},
   "outputs": [],
   "source": [
    "soup = bs(html,'lxml')"
   ]
  },
  {
   "cell_type": "code",
   "execution_count": 136,
   "metadata": {},
   "outputs": [],
   "source": [
    "with open(\"otodom.html\",'wb') as plik:\n",
    "    plik.write(soup.prettify(encoding='utf-8'))"
   ]
  },
  {
   "cell_type": "code",
   "execution_count": 116,
   "metadata": {},
   "outputs": [
    {
     "data": {
      "text/plain": [
       "'\\nnotatki dot. tagów\\n\\n\\n\\n'"
      ]
     },
     "execution_count": 116,
     "metadata": {},
     "output_type": "execute_result"
    }
   ],
   "source": [
    "'''\n",
    "notatki dot. tagów\n",
    "- form, id=\"pagerForm\", -> 'a',\"\" -> numery stron.\n",
    "- <div class=\"offer-item-details\">\n",
    "    -\n",
    "'''"
   ]
  },
  {
   "cell_type": "markdown",
   "metadata": {},
   "source": [
    "### Tworzenie listy dostępnych stron z wynikami wyszukiwania.\n",
    "I obsługi limitu wyszukiwań"
   ]
  },
  {
   "cell_type": "code",
   "execution_count": 106,
   "metadata": {
    "collapsed": true
   },
   "outputs": [
    {
     "data": {
      "text/plain": [
       "<ul class=\"pager\">\n",
       "<li class=\"pager-prev\">\n",
       "<a class=\"disabled\" data-dir=\"previous\" href=\"\"><span class=\"icon-prev\"></span></a>\n",
       "</li>\n",
       "<li><a class=\"active\" href=\"https://www.otodom.pl/wynajem/mieszkanie/\">1</a></li>\n",
       "<li><a class=\"\" href=\"https://www.otodom.pl/wynajem/mieszkanie/?page=2\">2</a></li>\n",
       "<li><a class=\"\" href=\"https://www.otodom.pl/wynajem/mieszkanie/?page=3\">3</a></li>\n",
       "\t\t\t\t\t\t\t\t...\n",
       "\t\t\t\t\t\t\t<li><a class=\"\" href=\"https://www.otodom.pl/wynajem/mieszkanie/?page=500\">500</a></li>\n",
       "<li class=\"pager-next\">\n",
       "<a class=\"\" data-dir=\"next\" href=\"https://www.otodom.pl/wynajem/mieszkanie/?page=2\"><span class=\"icon-next\"></span></a>\n",
       "</li>\n",
       "<!--\t<li class=\"pager-counter\">\n",
       "\t\t<input id=\"pageParam\" type=\"number\" name=\"page\" placeholder=\"500\" class=\"input-number-noSpinners\">\n",
       "\t</li>-->\n",
       "</ul>"
      ]
     },
     "execution_count": 106,
     "metadata": {},
     "output_type": "execute_result"
    }
   ],
   "source": [
    "'''\n",
    "pagers = soup.find('ul',\"pager\")\n",
    "pagers'''\n",
    "#nieuzywane"
   ]
  },
  {
   "cell_type": "code",
   "execution_count": 107,
   "metadata": {},
   "outputs": [
    {
     "data": {
      "text/plain": [
       "1"
      ]
     },
     "execution_count": 107,
     "metadata": {},
     "output_type": "execute_result"
    }
   ],
   "source": [
    "'''#znajdowanie aktualnego numeru strony\n",
    "p = soup.find_all('a','active')\n",
    "p\n",
    "p[1].text\n",
    "page_active = int(p[1].text)\n",
    "page_active'''\n",
    "#będzie niepotrzebne, kod poniżej tworzy listę stron."
   ]
  },
  {
   "cell_type": "code",
   "execution_count": 137,
   "metadata": {},
   "outputs": [],
   "source": [
    "p2 = soup.find('form', {\"id\":'pagerForm'})\n",
    "p2= p2.find_all('a',\"\")\n",
    "\n",
    "strony = []\n",
    "\n",
    "for a in p2:\n",
    "    strona = a.text\n",
    "    if strona != \"\":\n",
    "        strona = int(strona)\n",
    "        strony.append(strona)\n",
    "    else:\n",
    "        pass\n",
    "        \n",
    "\n",
    "strona_max = max(strony)\n",
    "strona_min = min(strony)"
   ]
  },
  {
   "cell_type": "code",
   "execution_count": 138,
   "metadata": {},
   "outputs": [
    {
     "data": {
      "text/plain": [
       "1"
      ]
     },
     "execution_count": 138,
     "metadata": {},
     "output_type": "execute_result"
    }
   ],
   "source": [
    "strona_min"
   ]
  },
  {
   "cell_type": "code",
   "execution_count": 139,
   "metadata": {},
   "outputs": [
    {
     "data": {
      "text/plain": [
       "2"
      ]
     },
     "execution_count": 139,
     "metadata": {},
     "output_type": "execute_result"
    }
   ],
   "source": [
    "strona_max"
   ]
  },
  {
   "cell_type": "code",
   "execution_count": 140,
   "metadata": {},
   "outputs": [],
   "source": [
    "limit_wyszukiwania = 0\n",
    "\n",
    "def limit_wyszukiwan(strona_max):\n",
    "    if strona_max > 50:\n",
    "        limit_wyszukiwania =+ 50\n",
    "    else:\n",
    "        limit_wyszukiwania =+ strona_max\n",
    "    print(limit_wyszukiwania)"
   ]
  },
  {
   "cell_type": "code",
   "execution_count": 142,
   "metadata": {},
   "outputs": [
    {
     "name": "stdout",
     "output_type": "stream",
     "text": [
      "2\n"
     ]
    }
   ],
   "source": [
    "limit_wyszukiwan(strona_max)"
   ]
  },
  {
   "cell_type": "markdown",
   "metadata": {},
   "source": [
    "### Tworzenie pętli do spisania wszystkich ogłoszeń z strony"
   ]
  },
  {
   "cell_type": "code",
   "execution_count": 215,
   "metadata": {},
   "outputs": [],
   "source": [
    "oferty = soup.find_all('div', {\"class\":'offer-item-details'})"
   ]
  },
  {
   "cell_type": "code",
   "execution_count": 216,
   "metadata": {},
   "outputs": [
    {
     "data": {
      "text/plain": [
       "27"
      ]
     },
     "execution_count": 216,
     "metadata": {},
     "output_type": "execute_result"
    }
   ],
   "source": [
    "len(oferty)"
   ]
  },
  {
   "cell_type": "code",
   "execution_count": 150,
   "metadata": {},
   "outputs": [
    {
     "data": {
      "text/plain": [
       "<div class=\"offer-item-details\">\n",
       "<header class=\"offer-item-header\">\n",
       "<h3>\n",
       "<a data-featured-name=\"promo_top_ads\" data-tracking=\"click_body\" data-tracking-data='{\"touch_point_button\":\"title\"}' href=\"https://www.otodom.pl/pl/oferta/tychy-najpiekniejsze-reprezentacyjne-mieszkanie-ID4a4Lw.html#71b39355d2\">\n",
       "<strong class=\"visible-xs-block\">42 m²</strong>\n",
       "<span class=\"text-nowrap\">\n",
       "<span class=\"offer-item-title\">TYCHY - najpiękniejsze, reprezentacyjne mieszkanie</span>\n",
       "</span>\n",
       "</a>\n",
       "</h3>\n",
       "<p class=\"text-nowrap\"><span class=\"hidden-xs\">Mieszkanie na wynajem: </span>Tychy, śląskie</p>\n",
       "<div class=\"vas-list-no-offer\">\n",
       "<a class=\"button-observed observe-link favourites-button observed-text\" data-id=\"61506945\" data-statkey=\"ad.observed.list\" href=\"#\" rel=\"nofollow\">\n",
       "<div class=\"observed-text-container\">\n",
       "<span class=\"icon observed-61506945\"></span>\n",
       "<i class=\"icon-heart-filled\"></i>\n",
       "<div class=\"observed-label\"></div>\n",
       "</div>\n",
       "</a>\n",
       "</div>\n",
       "</header>\n",
       "<ul class=\"params\" data-tracking=\"click_body\" data-tracking-data='{\"touch_point_button\":\"body\"}'>\n",
       "<li class=\"offer-item-rooms hidden-xs\">2 pokoje</li>\n",
       "<li class=\"offer-item-price\">\n",
       "                                                                                    2 200 zł                                                        /mc                                                                        </li>\n",
       "<li class=\"hidden-xs offer-item-area\">42 m²</li>\n",
       "</ul>\n",
       "</div>"
      ]
     },
     "execution_count": 150,
     "metadata": {},
     "output_type": "execute_result"
    }
   ],
   "source": [
    "oferty[0]"
   ]
  },
  {
   "cell_type": "code",
   "execution_count": 156,
   "metadata": {},
   "outputs": [
    {
     "data": {
      "text/plain": [
       "'TYCHY - najpiękniejsze, reprezentacyjne mieszkanie'"
      ]
     },
     "execution_count": 156,
     "metadata": {},
     "output_type": "execute_result"
    }
   ],
   "source": [
    "tytul = oferty[0].find('span', {\"class\":\"offer-item-title\"}).text\n",
    "tytul"
   ]
  },
  {
   "cell_type": "code",
   "execution_count": 209,
   "metadata": {},
   "outputs": [
    {
     "data": {
      "text/plain": [
       "'Mieszkanie na wynajem'"
      ]
     },
     "execution_count": 209,
     "metadata": {},
     "output_type": "execute_result"
    }
   ],
   "source": [
    "typ = oferty[0].find('span', {\"class\": \"hidden-xs\"}).text.strip().rstrip(\":\")\n",
    "typ"
   ]
  },
  {
   "cell_type": "code",
   "execution_count": 238,
   "metadata": {},
   "outputs": [
    {
     "data": {
      "text/plain": [
       "'Tychy, śląskie'"
      ]
     },
     "execution_count": 238,
     "metadata": {},
     "output_type": "execute_result"
    }
   ],
   "source": [
    "miejsce = oferty[0].find('p', {\"class\": \"text-nowrap\"}).text\n",
    "miejsce = miejsce[miejsce.find(\":\",0,-1)+2:]\n",
    "miejsce"
   ]
  },
  {
   "cell_type": "code",
   "execution_count": 172,
   "metadata": {},
   "outputs": [
    {
     "data": {
      "text/plain": [
       "2"
      ]
     },
     "execution_count": 172,
     "metadata": {},
     "output_type": "execute_result"
    }
   ],
   "source": [
    "pokoje = int(oferty[0].find('li', {'class': 'offer-item-rooms hidden-xs'}).text[0])\n",
    "pokoje"
   ]
  },
  {
   "cell_type": "code",
   "execution_count": 196,
   "metadata": {},
   "outputs": [
    {
     "data": {
      "text/plain": [
       "42"
      ]
     },
     "execution_count": 196,
     "metadata": {},
     "output_type": "execute_result"
    }
   ],
   "source": [
    "powierzchnia = int(re.findall(r'\\d+',oferty[0].find('li', {\"class\": \"hidden-xs offer-item-area\"}).text)[0])\n",
    "powierzchnia"
   ]
  },
  {
   "cell_type": "code",
   "execution_count": 208,
   "metadata": {},
   "outputs": [
    {
     "data": {
      "text/plain": [
       "2200"
      ]
     },
     "execution_count": 208,
     "metadata": {},
     "output_type": "execute_result"
    }
   ],
   "source": [
    "#cena = oferty[0].find('li', {'class': \"offer-item-price\"}).text.strip()\n",
    "cena = int(re.findall(r'\\d+',re.sub(r'\\s+','',oferty[0].find('li', {'class': \"offer-item-price\"}).text.strip()))[0])\n",
    "cena"
   ]
  }
 ],
 "metadata": {
  "kernelspec": {
   "display_name": "Python 3",
   "language": "python",
   "name": "python3"
  },
  "language_info": {
   "codemirror_mode": {
    "name": "ipython",
    "version": 3
   },
   "file_extension": ".py",
   "mimetype": "text/x-python",
   "name": "python",
   "nbconvert_exporter": "python",
   "pygments_lexer": "ipython3",
   "version": "3.7.6"
  }
 },
 "nbformat": 4,
 "nbformat_minor": 4
}
